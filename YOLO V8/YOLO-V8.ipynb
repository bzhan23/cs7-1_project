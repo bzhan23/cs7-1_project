{
 "cells": [
  {
   "cell_type": "markdown",
   "metadata": {},
   "source": [
    "Import COCO"
   ]
  },
  {
   "cell_type": "code",
   "execution_count": 24,
   "metadata": {},
   "outputs": [
    {
     "name": "stdout",
     "output_type": "stream",
     "text": [
      "loading annotations into memory...\n",
      "Done (t=0.46s)\n",
      "creating index...\n",
      "index created!\n"
     ]
    }
   ],
   "source": [
    "\n",
    "from pycocotools.coco import COCO\n"
   ]
  },
  {
   "cell_type": "markdown",
   "metadata": {},
   "source": [
    "Turn the json to the format 'yaml' for YOLO-V8"
   ]
  },
  {
   "cell_type": "code",
   "execution_count": 3,
   "metadata": {},
   "outputs": [],
   "source": [
    "import json\n",
    "import os\n",
    "\n",
    "\n",
    "input_file = r'C:\\Users\\cwky\\Desktop\\5703\\Archive\\val.json'\n",
    "output_dir = r'C:\\Users\\cwky\\Desktop\\5703\\Model\\boat_train_val_100\\labels\\val/'\n",
    "\n",
    "\n",
    "os.makedirs(output_dir, exist_ok=True)\n",
    "\n",
    "\n",
    "with open(input_file) as f:\n",
    "    data = json.load(f)\n",
    "\n",
    "\n",
    "for image in data['images']:\n",
    "    image_name = image['file_name']\n",
    "    image_width = image['width']\n",
    "    image_height = image['height']\n",
    "\n",
    "   \n",
    "    txt_filename = os.path.splitext(image_name)[0] + '.txt'\n",
    "    txt_path = os.path.join(output_dir, txt_filename)\n",
    "\n",
    "    with open(txt_path, 'w') as txt_file:\n",
    "       \n",
    "        for annotation in data['annotations']:\n",
    "            if annotation['image_id'] == image['id']:\n",
    "               \n",
    "\n",
    "                \n",
    "                x_center = (annotation['bbox'][0] + annotation['bbox'][2] / 2) / image_width\n",
    "                y_center = (annotation['bbox'][1] + annotation['bbox'][3] / 2) / image_height\n",
    "                width = annotation['bbox'][2] / image_width\n",
    "                height = annotation['bbox'][3] / image_height\n",
    "\n",
    "                \n",
    "                txt_file.write(f\"8 {x_center} {y_center} {width} {height}\\n\")\n"
   ]
  },
  {
   "cell_type": "markdown",
   "metadata": {},
   "source": [
    "Train YOLO-V8 for 11 epoch on 100 images dataset with 80 training 20 validaion"
   ]
  },
  {
   "cell_type": "code",
   "execution_count": 6,
   "metadata": {},
   "outputs": [
    {
     "name": "stdout",
     "output_type": "stream",
     "text": [
      "New https://pypi.org/project/ultralytics/8.2.26 available 😃 Update with 'pip install -U ultralytics'\n",
      "Ultralytics YOLOv8.1.33 🚀 Python-3.11.1 torch-2.1.0+cpu CPU (AMD Ryzen 7 5800H with Radeon Graphics)\n",
      "\u001b[34m\u001b[1mengine\\trainer: \u001b[0mtask=detect, mode=train, model=yolov8n.pt, data=C:\\Users\\cwky\\Desktop\\5703\\Model\\boat_train_val\\boat.yaml, epochs=11, time=None, patience=100, batch=16, imgsz=640, save=True, save_period=-1, cache=False, device=CPU, workers=8, project=None, name=train8, exist_ok=False, pretrained=True, optimizer=auto, verbose=True, seed=0, deterministic=True, single_cls=False, rect=False, cos_lr=False, close_mosaic=10, resume=False, amp=True, fraction=1.0, profile=False, freeze=None, multi_scale=False, overlap_mask=True, mask_ratio=4, dropout=0.0, val=True, split=val, save_json=False, save_hybrid=False, conf=0.6, iou=0.6, max_det=300, half=False, dnn=False, plots=True, source=None, vid_stride=1, stream_buffer=False, visualize=False, augment=False, agnostic_nms=False, classes=None, retina_masks=False, embed=None, show=False, save_frames=False, save_txt=False, save_conf=False, save_crop=False, show_labels=True, show_conf=True, show_boxes=True, line_width=None, format=torchscript, keras=False, optimize=False, int8=False, dynamic=False, simplify=False, opset=None, workspace=4, nms=False, lr0=0.01, lrf=0.01, momentum=0.937, weight_decay=0.0005, warmup_epochs=3.0, warmup_momentum=0.8, warmup_bias_lr=0.1, box=7.5, cls=0.5, dfl=1.5, pose=12.0, kobj=1.0, label_smoothing=0.0, nbs=64, hsv_h=0.015, hsv_s=0.7, hsv_v=0.4, degrees=0.0, translate=0.1, scale=0.5, shear=0.0, perspective=0.0, flipud=0.0, fliplr=0.5, bgr=0.0, mosaic=1.0, mixup=0.0, copy_paste=0.0, auto_augment=randaugment, erasing=0.4, crop_fraction=1.0, cfg=None, tracker=botsort.yaml, save_dir=runs\\detect\\train8\n",
      "\n",
      "                   from  n    params  module                                       arguments                     \n",
      "  0                  -1  1       464  ultralytics.nn.modules.conv.Conv             [3, 16, 3, 2]                 \n",
      "  1                  -1  1      4672  ultralytics.nn.modules.conv.Conv             [16, 32, 3, 2]                \n",
      "  2                  -1  1      7360  ultralytics.nn.modules.block.C2f             [32, 32, 1, True]             \n",
      "  3                  -1  1     18560  ultralytics.nn.modules.conv.Conv             [32, 64, 3, 2]                \n",
      "  4                  -1  2     49664  ultralytics.nn.modules.block.C2f             [64, 64, 2, True]             \n",
      "  5                  -1  1     73984  ultralytics.nn.modules.conv.Conv             [64, 128, 3, 2]               \n",
      "  6                  -1  2    197632  ultralytics.nn.modules.block.C2f             [128, 128, 2, True]           \n",
      "  7                  -1  1    295424  ultralytics.nn.modules.conv.Conv             [128, 256, 3, 2]              \n",
      "  8                  -1  1    460288  ultralytics.nn.modules.block.C2f             [256, 256, 1, True]           \n",
      "  9                  -1  1    164608  ultralytics.nn.modules.block.SPPF            [256, 256, 5]                 \n",
      " 10                  -1  1         0  torch.nn.modules.upsampling.Upsample         [None, 2, 'nearest']          \n",
      " 11             [-1, 6]  1         0  ultralytics.nn.modules.conv.Concat           [1]                           \n",
      " 12                  -1  1    148224  ultralytics.nn.modules.block.C2f             [384, 128, 1]                 \n",
      " 13                  -1  1         0  torch.nn.modules.upsampling.Upsample         [None, 2, 'nearest']          \n",
      " 14             [-1, 4]  1         0  ultralytics.nn.modules.conv.Concat           [1]                           \n",
      " 15                  -1  1     37248  ultralytics.nn.modules.block.C2f             [192, 64, 1]                  \n",
      " 16                  -1  1     36992  ultralytics.nn.modules.conv.Conv             [64, 64, 3, 2]                \n",
      " 17            [-1, 12]  1         0  ultralytics.nn.modules.conv.Concat           [1]                           \n",
      " 18                  -1  1    123648  ultralytics.nn.modules.block.C2f             [192, 128, 1]                 \n",
      " 19                  -1  1    147712  ultralytics.nn.modules.conv.Conv             [128, 128, 3, 2]              \n",
      " 20             [-1, 9]  1         0  ultralytics.nn.modules.conv.Concat           [1]                           \n",
      " 21                  -1  1    493056  ultralytics.nn.modules.block.C2f             [384, 256, 1]                 \n",
      " 22        [15, 18, 21]  1    897664  ultralytics.nn.modules.head.Detect           [80, [64, 128, 256]]          \n",
      "Model summary: 225 layers, 3157200 parameters, 3157184 gradients, 8.9 GFLOPs\n",
      "\n",
      "Transferred 355/355 items from pretrained weights\n",
      "\u001b[34m\u001b[1mTensorBoard: \u001b[0mStart with 'tensorboard --logdir runs\\detect\\train8', view at http://localhost:6006/\n",
      "Freezing layer 'model.22.dfl.conv.weight'\n"
     ]
    },
    {
     "name": "stderr",
     "output_type": "stream",
     "text": [
      "\u001b[34m\u001b[1mtrain: \u001b[0mScanning C:\\Users\\cwky\\Desktop\\5703\\Model\\boat_train_val\\labels\\train.cache... 80 images, 0 backgrounds, 0 corrupt: 100%|██████████| 80/80 [00:00<?, ?it/s]\n",
      "\u001b[34m\u001b[1mval: \u001b[0mScanning C:\\Users\\cwky\\Desktop\\5703\\Model\\boat_train_val\\labels\\val.cache... 20 images, 0 backgrounds, 0 corrupt: 100%|██████████| 20/20 [00:00<?, ?it/s]"
     ]
    },
    {
     "name": "stdout",
     "output_type": "stream",
     "text": [
      "Plotting labels to runs\\detect\\train8\\labels.jpg... \n"
     ]
    },
    {
     "name": "stderr",
     "output_type": "stream",
     "text": [
      "\n"
     ]
    },
    {
     "name": "stdout",
     "output_type": "stream",
     "text": [
      "\u001b[34m\u001b[1moptimizer:\u001b[0m 'optimizer=auto' found, ignoring 'lr0=0.01' and 'momentum=0.937' and determining best 'optimizer', 'lr0' and 'momentum' automatically... \n",
      "\u001b[34m\u001b[1moptimizer:\u001b[0m AdamW(lr=0.000119, momentum=0.9) with parameter groups 57 weight(decay=0.0), 64 weight(decay=0.0005), 63 bias(decay=0.0)\n",
      "\u001b[34m\u001b[1mTensorBoard: \u001b[0mmodel graph visualization added ✅\n",
      "Image sizes 640 train, 640 val\n",
      "Using 0 dataloader workers\n",
      "Logging results to \u001b[1mruns\\detect\\train8\u001b[0m\n",
      "Starting training for 11 epochs...\n",
      "\n",
      "      Epoch    GPU_mem   box_loss   cls_loss   dfl_loss  Instances       Size\n"
     ]
    },
    {
     "name": "stderr",
     "output_type": "stream",
     "text": [
      "       1/11         0G      1.639      4.619      1.438        108        640: 100%|██████████| 5/5 [00:27<00:00,  5.45s/it]\n",
      "                 Class     Images  Instances      Box(P          R      mAP50  mAP50-95): 100%|██████████| 1/1 [00:02<00:00,  2.04s/it]"
     ]
    },
    {
     "name": "stdout",
     "output_type": "stream",
     "text": [
      "                   all         20         45          1        0.6        0.8      0.709\n"
     ]
    },
    {
     "name": "stderr",
     "output_type": "stream",
     "text": [
      "\n"
     ]
    },
    {
     "name": "stdout",
     "output_type": "stream",
     "text": [
      "Closing dataloader mosaic\n",
      "\n",
      "      Epoch    GPU_mem   box_loss   cls_loss   dfl_loss  Instances       Size\n"
     ]
    },
    {
     "name": "stderr",
     "output_type": "stream",
     "text": [
      "       2/11         0G      1.618      4.267      1.366         50        640: 100%|██████████| 5/5 [00:26<00:00,  5.32s/it]\n",
      "                 Class     Images  Instances      Box(P          R      mAP50  mAP50-95): 100%|██████████| 1/1 [00:01<00:00,  1.94s/it]"
     ]
    },
    {
     "name": "stdout",
     "output_type": "stream",
     "text": [
      "                   all         20         45          1      0.622      0.811       0.73\n"
     ]
    },
    {
     "name": "stderr",
     "output_type": "stream",
     "text": [
      "\n"
     ]
    },
    {
     "name": "stdout",
     "output_type": "stream",
     "text": [
      "\n",
      "      Epoch    GPU_mem   box_loss   cls_loss   dfl_loss  Instances       Size\n"
     ]
    },
    {
     "name": "stderr",
     "output_type": "stream",
     "text": [
      "       3/11         0G      1.381      2.992      1.225         46        640: 100%|██████████| 5/5 [00:25<00:00,  5.19s/it]\n",
      "                 Class     Images  Instances      Box(P          R      mAP50  mAP50-95): 100%|██████████| 1/1 [00:01<00:00,  1.87s/it]"
     ]
    },
    {
     "name": "stdout",
     "output_type": "stream",
     "text": [
      "                   all         20         45          1      0.689      0.844      0.769\n"
     ]
    },
    {
     "name": "stderr",
     "output_type": "stream",
     "text": [
      "\n"
     ]
    },
    {
     "name": "stdout",
     "output_type": "stream",
     "text": [
      "\n",
      "      Epoch    GPU_mem   box_loss   cls_loss   dfl_loss  Instances       Size\n"
     ]
    },
    {
     "name": "stderr",
     "output_type": "stream",
     "text": [
      "       4/11         0G      1.168      2.085      1.089         42        640: 100%|██████████| 5/5 [00:26<00:00,  5.35s/it]\n",
      "                 Class     Images  Instances      Box(P          R      mAP50  mAP50-95): 100%|██████████| 1/1 [00:02<00:00,  2.05s/it]"
     ]
    },
    {
     "name": "stdout",
     "output_type": "stream",
     "text": [
      "                   all         20         45          1      0.689      0.844      0.788\n"
     ]
    },
    {
     "name": "stderr",
     "output_type": "stream",
     "text": [
      "\n"
     ]
    },
    {
     "name": "stdout",
     "output_type": "stream",
     "text": [
      "\n",
      "      Epoch    GPU_mem   box_loss   cls_loss   dfl_loss  Instances       Size\n"
     ]
    },
    {
     "name": "stderr",
     "output_type": "stream",
     "text": [
      "       5/11         0G      1.098      1.619      1.061         45        640: 100%|██████████| 5/5 [00:29<00:00,  5.89s/it]\n",
      "                 Class     Images  Instances      Box(P          R      mAP50  mAP50-95): 100%|██████████| 1/1 [00:02<00:00,  2.14s/it]"
     ]
    },
    {
     "name": "stdout",
     "output_type": "stream",
     "text": [
      "                   all         20         45          1      0.689      0.844      0.786\n"
     ]
    },
    {
     "name": "stderr",
     "output_type": "stream",
     "text": [
      "\n"
     ]
    },
    {
     "name": "stdout",
     "output_type": "stream",
     "text": [
      "\n",
      "      Epoch    GPU_mem   box_loss   cls_loss   dfl_loss  Instances       Size\n"
     ]
    },
    {
     "name": "stderr",
     "output_type": "stream",
     "text": [
      "       6/11         0G      1.019      1.369      1.036         58        640: 100%|██████████| 5/5 [00:28<00:00,  5.62s/it]\n",
      "                 Class     Images  Instances      Box(P          R      mAP50  mAP50-95): 100%|██████████| 1/1 [00:02<00:00,  2.04s/it]"
     ]
    },
    {
     "name": "stdout",
     "output_type": "stream",
     "text": [
      "                   all         20         45          1      0.708      0.851      0.797\n"
     ]
    },
    {
     "name": "stderr",
     "output_type": "stream",
     "text": [
      "\n"
     ]
    },
    {
     "name": "stdout",
     "output_type": "stream",
     "text": [
      "\n",
      "      Epoch    GPU_mem   box_loss   cls_loss   dfl_loss  Instances       Size\n"
     ]
    },
    {
     "name": "stderr",
     "output_type": "stream",
     "text": [
      "       7/11         0G       1.05      1.365      1.038         40        640: 100%|██████████| 5/5 [00:25<00:00,  5.11s/it]\n",
      "                 Class     Images  Instances      Box(P          R      mAP50  mAP50-95): 100%|██████████| 1/1 [00:01<00:00,  1.91s/it]"
     ]
    },
    {
     "name": "stdout",
     "output_type": "stream",
     "text": [
      "                   all         20         45          1      0.707      0.847       0.79\n"
     ]
    },
    {
     "name": "stderr",
     "output_type": "stream",
     "text": [
      "\n"
     ]
    },
    {
     "name": "stdout",
     "output_type": "stream",
     "text": [
      "\n",
      "      Epoch    GPU_mem   box_loss   cls_loss   dfl_loss  Instances       Size\n"
     ]
    },
    {
     "name": "stderr",
     "output_type": "stream",
     "text": [
      "       8/11         0G     0.9285      1.191      1.002         53        640: 100%|██████████| 5/5 [00:25<00:00,  5.09s/it]\n",
      "                 Class     Images  Instances      Box(P          R      mAP50  mAP50-95): 100%|██████████| 1/1 [00:01<00:00,  1.96s/it]"
     ]
    },
    {
     "name": "stdout",
     "output_type": "stream",
     "text": [
      "                   all         20         45          1      0.709      0.851      0.797\n"
     ]
    },
    {
     "name": "stderr",
     "output_type": "stream",
     "text": [
      "\n"
     ]
    },
    {
     "name": "stdout",
     "output_type": "stream",
     "text": [
      "\n",
      "      Epoch    GPU_mem   box_loss   cls_loss   dfl_loss  Instances       Size\n"
     ]
    },
    {
     "name": "stderr",
     "output_type": "stream",
     "text": [
      "       9/11         0G     0.9258     0.9625     0.9952         56        640: 100%|██████████| 5/5 [00:25<00:00,  5.09s/it]\n",
      "                 Class     Images  Instances      Box(P          R      mAP50  mAP50-95): 100%|██████████| 1/1 [00:01<00:00,  1.90s/it]"
     ]
    },
    {
     "name": "stdout",
     "output_type": "stream",
     "text": [
      "                   all         20         45      0.971      0.733      0.862      0.809\n"
     ]
    },
    {
     "name": "stderr",
     "output_type": "stream",
     "text": [
      "\n"
     ]
    },
    {
     "name": "stdout",
     "output_type": "stream",
     "text": [
      "\n",
      "      Epoch    GPU_mem   box_loss   cls_loss   dfl_loss  Instances       Size\n"
     ]
    },
    {
     "name": "stderr",
     "output_type": "stream",
     "text": [
      "      10/11         0G     0.9201     0.9468     0.9672         33        640: 100%|██████████| 5/5 [00:26<00:00,  5.24s/it]\n",
      "                 Class     Images  Instances      Box(P          R      mAP50  mAP50-95): 100%|██████████| 1/1 [00:02<00:00,  2.06s/it]"
     ]
    },
    {
     "name": "stdout",
     "output_type": "stream",
     "text": [
      "                   all         20         45      0.989      0.756      0.874      0.828\n"
     ]
    },
    {
     "name": "stderr",
     "output_type": "stream",
     "text": [
      "\n"
     ]
    },
    {
     "name": "stdout",
     "output_type": "stream",
     "text": [
      "\n",
      "      Epoch    GPU_mem   box_loss   cls_loss   dfl_loss  Instances       Size\n"
     ]
    },
    {
     "name": "stderr",
     "output_type": "stream",
     "text": [
      "      11/11         0G     0.9334     0.9906     0.9921         40        640: 100%|██████████| 5/5 [00:27<00:00,  5.49s/it]\n",
      "                 Class     Images  Instances      Box(P          R      mAP50  mAP50-95): 100%|██████████| 1/1 [00:02<00:00,  2.11s/it]"
     ]
    },
    {
     "name": "stdout",
     "output_type": "stream",
     "text": [
      "                   all         20         45          1      0.778      0.889      0.841\n"
     ]
    },
    {
     "name": "stderr",
     "output_type": "stream",
     "text": [
      "\n"
     ]
    },
    {
     "name": "stdout",
     "output_type": "stream",
     "text": [
      "\n",
      "11 epochs completed in 0.090 hours.\n",
      "Optimizer stripped from runs\\detect\\train8\\weights\\last.pt, 6.5MB\n",
      "Optimizer stripped from runs\\detect\\train8\\weights\\best.pt, 6.5MB\n",
      "\n",
      "Validating runs\\detect\\train8\\weights\\best.pt...\n",
      "Ultralytics YOLOv8.1.33 🚀 Python-3.11.1 torch-2.1.0+cpu CPU (AMD Ryzen 7 5800H with Radeon Graphics)\n",
      "Model summary (fused): 168 layers, 3151904 parameters, 0 gradients, 8.7 GFLOPs\n"
     ]
    },
    {
     "name": "stderr",
     "output_type": "stream",
     "text": [
      "                 Class     Images  Instances      Box(P          R      mAP50  mAP50-95): 100%|██████████| 1/1 [00:01<00:00,  1.53s/it]\n"
     ]
    },
    {
     "name": "stdout",
     "output_type": "stream",
     "text": [
      "                   all         20         45          1      0.778      0.889      0.841\n",
      "                  boat         20         45          1      0.778      0.889      0.841\n",
      "Speed: 2.5ms preprocess, 58.1ms inference, 0.0ms loss, 0.9ms postprocess per image\n",
      "Results saved to \u001b[1mruns\\detect\\train8\u001b[0m\n"
     ]
    }
   ],
   "source": [
    "from ultralytics import YOLO\n",
    "model = YOLO('yolov8n.pt')\n",
    "validation_results = model.train(data=r'C:\\Users\\cwky\\Desktop\\5703\\Model\\boat_train_val\\boat.yaml',\n",
    "                               device='CPU',\n",
    "                               plots=True,\n",
    "                               conf=0.6,\n",
    "                               iou = 0.6,\n",
    "                               epochs = 11\n",
    "                               )"
   ]
  },
  {
   "cell_type": "markdown",
   "metadata": {},
   "source": [
    "Validation"
   ]
  },
  {
   "cell_type": "code",
   "execution_count": 8,
   "metadata": {},
   "outputs": [
    {
     "name": "stdout",
     "output_type": "stream",
     "text": [
      "Ultralytics YOLOv8.1.33 🚀 Python-3.11.1 torch-2.1.0+cpu CPU (AMD Ryzen 7 5800H with Radeon Graphics)\n"
     ]
    },
    {
     "name": "stderr",
     "output_type": "stream",
     "text": [
      "\u001b[34m\u001b[1mval: \u001b[0mScanning C:\\Users\\cwky\\Desktop\\5703\\Model\\boat_train_val\\labels\\val.cache... 20 images, 0 backgrounds, 0 corrupt: 100%|██████████| 20/20 [00:00<?, ?it/s]\n",
      "                 Class     Images  Instances      Box(P          R      mAP50  mAP50-95): 100%|██████████| 2/2 [00:01<00:00,  1.49it/s]\n"
     ]
    },
    {
     "name": "stdout",
     "output_type": "stream",
     "text": [
      "                   all         20         45          1      0.778      0.889      0.841\n",
      "                  boat         20         45          1      0.778      0.889      0.841\n",
      "Speed: 1.5ms preprocess, 49.1ms inference, 0.0ms loss, 1.6ms postprocess per image\n",
      "Results saved to \u001b[1mruns\\detect\\train83\u001b[0m\n"
     ]
    }
   ],
   "source": [
    "validation_results_200train= model.val(data=r'C:\\Users\\cwky\\Desktop\\5703\\Model\\boat_train_val\\boat.yaml',\n",
    "                               device='CPU',\n",
    "                               plots=True,\n",
    "                               \n",
    "                               )"
   ]
  },
  {
   "cell_type": "code",
   "execution_count": 9,
   "metadata": {},
   "outputs": [
    {
     "name": "stdout",
     "output_type": "stream",
     "text": [
      "0.8888500000000001\n"
     ]
    }
   ],
   "source": [
    "print(validation_results.box.map75)"
   ]
  },
  {
   "cell_type": "markdown",
   "metadata": {},
   "source": [
    "Train the pretrained model on 200 image 100 training 100 validation for 30 epoches"
   ]
  },
  {
   "cell_type": "code",
   "execution_count": 10,
   "metadata": {},
   "outputs": [
    {
     "name": "stdout",
     "output_type": "stream",
     "text": [
      "New https://pypi.org/project/ultralytics/8.2.26 available 😃 Update with 'pip install -U ultralytics'\n",
      "Ultralytics YOLOv8.1.33 🚀 Python-3.11.1 torch-2.1.0+cpu CPU (AMD Ryzen 7 5800H with Radeon Graphics)\n",
      "\u001b[34m\u001b[1mengine\\trainer: \u001b[0mtask=detect, mode=train, model=yolov8n.pt, data=C:\\Users\\cwky\\Desktop\\5703\\Model\\boat_train_val_100\\boat.yaml, epochs=30, time=None, patience=100, batch=16, imgsz=640, save=True, save_period=-1, cache=False, device=CPU, workers=8, project=None, name=train9, exist_ok=False, pretrained=True, optimizer=auto, verbose=True, seed=0, deterministic=True, single_cls=False, rect=False, cos_lr=False, close_mosaic=10, resume=False, amp=True, fraction=1.0, profile=False, freeze=None, multi_scale=False, overlap_mask=True, mask_ratio=4, dropout=0.0, val=True, split=val, save_json=False, save_hybrid=False, conf=None, iou=0.7, max_det=300, half=False, dnn=False, plots=True, source=None, vid_stride=1, stream_buffer=False, visualize=False, augment=False, agnostic_nms=False, classes=None, retina_masks=False, embed=None, show=False, save_frames=False, save_txt=False, save_conf=False, save_crop=False, show_labels=True, show_conf=True, show_boxes=True, line_width=None, format=torchscript, keras=False, optimize=False, int8=False, dynamic=False, simplify=False, opset=None, workspace=4, nms=False, lr0=0.01, lrf=0.01, momentum=0.937, weight_decay=0.0005, warmup_epochs=3.0, warmup_momentum=0.8, warmup_bias_lr=0.1, box=7.5, cls=0.5, dfl=1.5, pose=12.0, kobj=1.0, label_smoothing=0.0, nbs=64, hsv_h=0.015, hsv_s=0.7, hsv_v=0.4, degrees=0.0, translate=0.1, scale=0.5, shear=0.0, perspective=0.0, flipud=0.0, fliplr=0.5, bgr=0.0, mosaic=1.0, mixup=0.0, copy_paste=0.0, auto_augment=randaugment, erasing=0.4, crop_fraction=1.0, cfg=None, tracker=botsort.yaml, save_dir=runs\\detect\\train9\n",
      "\n",
      "                   from  n    params  module                                       arguments                     \n",
      "  0                  -1  1       464  ultralytics.nn.modules.conv.Conv             [3, 16, 3, 2]                 \n",
      "  1                  -1  1      4672  ultralytics.nn.modules.conv.Conv             [16, 32, 3, 2]                \n",
      "  2                  -1  1      7360  ultralytics.nn.modules.block.C2f             [32, 32, 1, True]             \n",
      "  3                  -1  1     18560  ultralytics.nn.modules.conv.Conv             [32, 64, 3, 2]                \n",
      "  4                  -1  2     49664  ultralytics.nn.modules.block.C2f             [64, 64, 2, True]             \n",
      "  5                  -1  1     73984  ultralytics.nn.modules.conv.Conv             [64, 128, 3, 2]               \n",
      "  6                  -1  2    197632  ultralytics.nn.modules.block.C2f             [128, 128, 2, True]           \n",
      "  7                  -1  1    295424  ultralytics.nn.modules.conv.Conv             [128, 256, 3, 2]              \n",
      "  8                  -1  1    460288  ultralytics.nn.modules.block.C2f             [256, 256, 1, True]           \n",
      "  9                  -1  1    164608  ultralytics.nn.modules.block.SPPF            [256, 256, 5]                 \n",
      " 10                  -1  1         0  torch.nn.modules.upsampling.Upsample         [None, 2, 'nearest']          \n",
      " 11             [-1, 6]  1         0  ultralytics.nn.modules.conv.Concat           [1]                           \n",
      " 12                  -1  1    148224  ultralytics.nn.modules.block.C2f             [384, 128, 1]                 \n",
      " 13                  -1  1         0  torch.nn.modules.upsampling.Upsample         [None, 2, 'nearest']          \n",
      " 14             [-1, 4]  1         0  ultralytics.nn.modules.conv.Concat           [1]                           \n",
      " 15                  -1  1     37248  ultralytics.nn.modules.block.C2f             [192, 64, 1]                  \n",
      " 16                  -1  1     36992  ultralytics.nn.modules.conv.Conv             [64, 64, 3, 2]                \n",
      " 17            [-1, 12]  1         0  ultralytics.nn.modules.conv.Concat           [1]                           \n",
      " 18                  -1  1    123648  ultralytics.nn.modules.block.C2f             [192, 128, 1]                 \n",
      " 19                  -1  1    147712  ultralytics.nn.modules.conv.Conv             [128, 128, 3, 2]              \n",
      " 20             [-1, 9]  1         0  ultralytics.nn.modules.conv.Concat           [1]                           \n",
      " 21                  -1  1    493056  ultralytics.nn.modules.block.C2f             [384, 256, 1]                 \n",
      " 22        [15, 18, 21]  1    897664  ultralytics.nn.modules.head.Detect           [80, [64, 128, 256]]          \n",
      "Model summary: 225 layers, 3157200 parameters, 3157184 gradients, 8.9 GFLOPs\n",
      "\n",
      "Transferred 355/355 items from pretrained weights\n",
      "\u001b[34m\u001b[1mTensorBoard: \u001b[0mStart with 'tensorboard --logdir runs\\detect\\train9', view at http://localhost:6006/\n",
      "Freezing layer 'model.22.dfl.conv.weight'\n"
     ]
    },
    {
     "name": "stderr",
     "output_type": "stream",
     "text": [
      "\u001b[34m\u001b[1mtrain: \u001b[0mScanning C:\\Users\\cwky\\Desktop\\5703\\Model\\boat_train_val_100\\labels\\train.cache... 100 images, 0 backgrounds, 0 corrupt: 100%|██████████| 100/100 [00:00<?, ?it/s]\n",
      "\u001b[34m\u001b[1mval: \u001b[0mScanning C:\\Users\\cwky\\Desktop\\5703\\Model\\boat_train_val_100\\labels\\val.cache... 100 images, 0 backgrounds, 0 corrupt: 100%|██████████| 100/100 [00:00<?, ?it/s]"
     ]
    },
    {
     "name": "stdout",
     "output_type": "stream",
     "text": [
      "Plotting labels to runs\\detect\\train9\\labels.jpg... \n"
     ]
    },
    {
     "name": "stderr",
     "output_type": "stream",
     "text": [
      "\n"
     ]
    },
    {
     "name": "stdout",
     "output_type": "stream",
     "text": [
      "\u001b[34m\u001b[1moptimizer:\u001b[0m 'optimizer=auto' found, ignoring 'lr0=0.01' and 'momentum=0.937' and determining best 'optimizer', 'lr0' and 'momentum' automatically... \n",
      "\u001b[34m\u001b[1moptimizer:\u001b[0m AdamW(lr=0.000119, momentum=0.9) with parameter groups 57 weight(decay=0.0), 64 weight(decay=0.0005), 63 bias(decay=0.0)\n",
      "\u001b[34m\u001b[1mTensorBoard: \u001b[0mmodel graph visualization added ✅\n",
      "Image sizes 640 train, 640 val\n",
      "Using 0 dataloader workers\n",
      "Logging results to \u001b[1mruns\\detect\\train9\u001b[0m\n",
      "Starting training for 30 epochs...\n",
      "\n",
      "      Epoch    GPU_mem   box_loss   cls_loss   dfl_loss  Instances       Size\n"
     ]
    },
    {
     "name": "stderr",
     "output_type": "stream",
     "text": [
      "       1/30         0G      1.901      5.016      1.728         12        640: 100%|██████████| 7/7 [00:45<00:00,  6.52s/it]\n",
      "                 Class     Images  Instances      Box(P          R      mAP50  mAP50-95): 100%|██████████| 4/4 [00:11<00:00,  2.88s/it]"
     ]
    },
    {
     "name": "stdout",
     "output_type": "stream",
     "text": [
      "                   all        100        160      0.852      0.581      0.635      0.482\n"
     ]
    },
    {
     "name": "stderr",
     "output_type": "stream",
     "text": [
      "\n"
     ]
    },
    {
     "name": "stdout",
     "output_type": "stream",
     "text": [
      "\n",
      "      Epoch    GPU_mem   box_loss   cls_loss   dfl_loss  Instances       Size\n"
     ]
    },
    {
     "name": "stderr",
     "output_type": "stream",
     "text": [
      "       2/30         0G      1.697      4.068      1.545         14        640: 100%|██████████| 7/7 [00:36<00:00,  5.19s/it]\n",
      "                 Class     Images  Instances      Box(P          R      mAP50  mAP50-95): 100%|██████████| 4/4 [00:10<00:00,  2.64s/it]"
     ]
    },
    {
     "name": "stdout",
     "output_type": "stream",
     "text": [
      "                   all        100        160      0.963      0.631      0.687      0.536\n"
     ]
    },
    {
     "name": "stderr",
     "output_type": "stream",
     "text": [
      "\n"
     ]
    },
    {
     "name": "stdout",
     "output_type": "stream",
     "text": [
      "\n",
      "      Epoch    GPU_mem   box_loss   cls_loss   dfl_loss  Instances       Size\n"
     ]
    },
    {
     "name": "stderr",
     "output_type": "stream",
     "text": [
      "       3/30         0G      1.562      2.873      1.424          7        640: 100%|██████████| 7/7 [00:39<00:00,  5.58s/it]\n",
      "                 Class     Images  Instances      Box(P          R      mAP50  mAP50-95): 100%|██████████| 4/4 [00:09<00:00,  2.42s/it]"
     ]
    },
    {
     "name": "stdout",
     "output_type": "stream",
     "text": [
      "                   all        100        160      0.896      0.704      0.749      0.602\n"
     ]
    },
    {
     "name": "stderr",
     "output_type": "stream",
     "text": [
      "\n"
     ]
    },
    {
     "name": "stdout",
     "output_type": "stream",
     "text": [
      "\n",
      "      Epoch    GPU_mem   box_loss   cls_loss   dfl_loss  Instances       Size\n"
     ]
    },
    {
     "name": "stderr",
     "output_type": "stream",
     "text": [
      "       4/30         0G      1.177      2.019      1.241          7        640: 100%|██████████| 7/7 [00:35<00:00,  5.01s/it]\n",
      "                 Class     Images  Instances      Box(P          R      mAP50  mAP50-95): 100%|██████████| 4/4 [00:09<00:00,  2.43s/it]"
     ]
    },
    {
     "name": "stdout",
     "output_type": "stream",
     "text": [
      "                   all        100        160      0.953      0.713       0.79      0.638\n"
     ]
    },
    {
     "name": "stderr",
     "output_type": "stream",
     "text": [
      "\n"
     ]
    },
    {
     "name": "stdout",
     "output_type": "stream",
     "text": [
      "\n",
      "      Epoch    GPU_mem   box_loss   cls_loss   dfl_loss  Instances       Size\n"
     ]
    },
    {
     "name": "stderr",
     "output_type": "stream",
     "text": [
      "       5/30         0G      1.117      1.743       1.19         10        640: 100%|██████████| 7/7 [00:33<00:00,  4.79s/it]\n",
      "                 Class     Images  Instances      Box(P          R      mAP50  mAP50-95): 100%|██████████| 4/4 [00:09<00:00,  2.33s/it]"
     ]
    },
    {
     "name": "stdout",
     "output_type": "stream",
     "text": [
      "                   all        100        160      0.948      0.799       0.86      0.695\n"
     ]
    },
    {
     "name": "stderr",
     "output_type": "stream",
     "text": [
      "\n"
     ]
    },
    {
     "name": "stdout",
     "output_type": "stream",
     "text": [
      "\n",
      "      Epoch    GPU_mem   box_loss   cls_loss   dfl_loss  Instances       Size\n"
     ]
    },
    {
     "name": "stderr",
     "output_type": "stream",
     "text": [
      "       6/30         0G      1.031      1.335       1.11          7        640: 100%|██████████| 7/7 [00:35<00:00,  5.14s/it]\n",
      "                 Class     Images  Instances      Box(P          R      mAP50  mAP50-95): 100%|██████████| 4/4 [00:10<00:00,  2.55s/it]"
     ]
    },
    {
     "name": "stdout",
     "output_type": "stream",
     "text": [
      "                   all        100        160       0.94      0.875      0.911      0.738\n"
     ]
    },
    {
     "name": "stderr",
     "output_type": "stream",
     "text": [
      "\n"
     ]
    },
    {
     "name": "stdout",
     "output_type": "stream",
     "text": [
      "\n",
      "      Epoch    GPU_mem   box_loss   cls_loss   dfl_loss  Instances       Size\n"
     ]
    },
    {
     "name": "stderr",
     "output_type": "stream",
     "text": [
      "       7/30         0G       1.01     0.9819      1.091         12        640: 100%|██████████| 7/7 [00:37<00:00,  5.32s/it]\n",
      "                 Class     Images  Instances      Box(P          R      mAP50  mAP50-95): 100%|██████████| 4/4 [00:10<00:00,  2.56s/it]"
     ]
    },
    {
     "name": "stdout",
     "output_type": "stream",
     "text": [
      "                   all        100        160      0.926      0.906      0.934      0.756\n"
     ]
    },
    {
     "name": "stderr",
     "output_type": "stream",
     "text": [
      "\n"
     ]
    },
    {
     "name": "stdout",
     "output_type": "stream",
     "text": [
      "\n",
      "      Epoch    GPU_mem   box_loss   cls_loss   dfl_loss  Instances       Size\n"
     ]
    },
    {
     "name": "stderr",
     "output_type": "stream",
     "text": [
      "       8/30         0G      1.043      1.007      1.149          8        640: 100%|██████████| 7/7 [00:38<00:00,  5.50s/it]\n",
      "                 Class     Images  Instances      Box(P          R      mAP50  mAP50-95): 100%|██████████| 4/4 [00:10<00:00,  2.51s/it]"
     ]
    },
    {
     "name": "stdout",
     "output_type": "stream",
     "text": [
      "                   all        100        160      0.913      0.925      0.947      0.767\n"
     ]
    },
    {
     "name": "stderr",
     "output_type": "stream",
     "text": [
      "\n"
     ]
    },
    {
     "name": "stdout",
     "output_type": "stream",
     "text": [
      "\n",
      "      Epoch    GPU_mem   box_loss   cls_loss   dfl_loss  Instances       Size\n"
     ]
    },
    {
     "name": "stderr",
     "output_type": "stream",
     "text": [
      "       9/30         0G      1.006     0.8161       1.09         14        640: 100%|██████████| 7/7 [00:37<00:00,  5.34s/it]\n",
      "                 Class     Images  Instances      Box(P          R      mAP50  mAP50-95): 100%|██████████| 4/4 [00:09<00:00,  2.41s/it]"
     ]
    },
    {
     "name": "stdout",
     "output_type": "stream",
     "text": [
      "                   all        100        160      0.924      0.917      0.948      0.774\n"
     ]
    },
    {
     "name": "stderr",
     "output_type": "stream",
     "text": [
      "\n"
     ]
    },
    {
     "name": "stdout",
     "output_type": "stream",
     "text": [
      "\n",
      "      Epoch    GPU_mem   box_loss   cls_loss   dfl_loss  Instances       Size\n"
     ]
    },
    {
     "name": "stderr",
     "output_type": "stream",
     "text": [
      "      10/30         0G      1.024     0.8851      1.081         10        640: 100%|██████████| 7/7 [00:33<00:00,  4.83s/it]\n",
      "                 Class     Images  Instances      Box(P          R      mAP50  mAP50-95): 100%|██████████| 4/4 [00:09<00:00,  2.26s/it]"
     ]
    },
    {
     "name": "stdout",
     "output_type": "stream",
     "text": [
      "                   all        100        160      0.925      0.925      0.948      0.774\n"
     ]
    },
    {
     "name": "stderr",
     "output_type": "stream",
     "text": [
      "\n"
     ]
    },
    {
     "name": "stdout",
     "output_type": "stream",
     "text": [
      "\n",
      "      Epoch    GPU_mem   box_loss   cls_loss   dfl_loss  Instances       Size\n"
     ]
    },
    {
     "name": "stderr",
     "output_type": "stream",
     "text": [
      "      11/30         0G     0.9849     0.8509      1.071          8        640: 100%|██████████| 7/7 [00:34<00:00,  4.94s/it]\n",
      "                 Class     Images  Instances      Box(P          R      mAP50  mAP50-95): 100%|██████████| 4/4 [00:09<00:00,  2.29s/it]"
     ]
    },
    {
     "name": "stdout",
     "output_type": "stream",
     "text": [
      "                   all        100        160      0.942      0.918      0.958      0.786\n"
     ]
    },
    {
     "name": "stderr",
     "output_type": "stream",
     "text": [
      "\n"
     ]
    },
    {
     "name": "stdout",
     "output_type": "stream",
     "text": [
      "\n",
      "      Epoch    GPU_mem   box_loss   cls_loss   dfl_loss  Instances       Size\n"
     ]
    },
    {
     "name": "stderr",
     "output_type": "stream",
     "text": [
      "      12/30         0G     0.9062     0.7503      1.037         17        640: 100%|██████████| 7/7 [00:34<00:00,  4.89s/it]\n",
      "                 Class     Images  Instances      Box(P          R      mAP50  mAP50-95): 100%|██████████| 4/4 [00:09<00:00,  2.26s/it]"
     ]
    },
    {
     "name": "stdout",
     "output_type": "stream",
     "text": [
      "                   all        100        160      0.918      0.881      0.954      0.778\n"
     ]
    },
    {
     "name": "stderr",
     "output_type": "stream",
     "text": [
      "\n"
     ]
    },
    {
     "name": "stdout",
     "output_type": "stream",
     "text": [
      "\n",
      "      Epoch    GPU_mem   box_loss   cls_loss   dfl_loss  Instances       Size\n"
     ]
    },
    {
     "name": "stderr",
     "output_type": "stream",
     "text": [
      "      13/30         0G     0.8582     0.7084     0.9921         13        640: 100%|██████████| 7/7 [00:35<00:00,  5.09s/it]\n",
      "                 Class     Images  Instances      Box(P          R      mAP50  mAP50-95): 100%|██████████| 4/4 [00:09<00:00,  2.35s/it]"
     ]
    },
    {
     "name": "stdout",
     "output_type": "stream",
     "text": [
      "                   all        100        160      0.931      0.856      0.949      0.776\n"
     ]
    },
    {
     "name": "stderr",
     "output_type": "stream",
     "text": [
      "\n"
     ]
    },
    {
     "name": "stdout",
     "output_type": "stream",
     "text": [
      "\n",
      "      Epoch    GPU_mem   box_loss   cls_loss   dfl_loss  Instances       Size\n"
     ]
    },
    {
     "name": "stderr",
     "output_type": "stream",
     "text": [
      "      14/30         0G      0.897     0.6939      1.025         21        640: 100%|██████████| 7/7 [00:34<00:00,  4.96s/it]\n",
      "                 Class     Images  Instances      Box(P          R      mAP50  mAP50-95): 100%|██████████| 4/4 [00:09<00:00,  2.34s/it]"
     ]
    },
    {
     "name": "stdout",
     "output_type": "stream",
     "text": [
      "                   all        100        160      0.891      0.912      0.953      0.774\n"
     ]
    },
    {
     "name": "stderr",
     "output_type": "stream",
     "text": [
      "\n"
     ]
    },
    {
     "name": "stdout",
     "output_type": "stream",
     "text": [
      "\n",
      "      Epoch    GPU_mem   box_loss   cls_loss   dfl_loss  Instances       Size\n"
     ]
    },
    {
     "name": "stderr",
     "output_type": "stream",
     "text": [
      "      15/30         0G     0.9078      0.687      1.049         14        640: 100%|██████████| 7/7 [00:35<00:00,  5.06s/it]\n",
      "                 Class     Images  Instances      Box(P          R      mAP50  mAP50-95): 100%|██████████| 4/4 [00:09<00:00,  2.25s/it]"
     ]
    },
    {
     "name": "stdout",
     "output_type": "stream",
     "text": [
      "                   all        100        160      0.885      0.915      0.956       0.78\n"
     ]
    },
    {
     "name": "stderr",
     "output_type": "stream",
     "text": [
      "\n"
     ]
    },
    {
     "name": "stdout",
     "output_type": "stream",
     "text": [
      "\n",
      "      Epoch    GPU_mem   box_loss   cls_loss   dfl_loss  Instances       Size\n"
     ]
    },
    {
     "name": "stderr",
     "output_type": "stream",
     "text": [
      "      16/30         0G     0.8919     0.6625      1.032         12        640: 100%|██████████| 7/7 [00:36<00:00,  5.16s/it]\n",
      "                 Class     Images  Instances      Box(P          R      mAP50  mAP50-95): 100%|██████████| 4/4 [00:09<00:00,  2.26s/it]"
     ]
    },
    {
     "name": "stdout",
     "output_type": "stream",
     "text": [
      "                   all        100        160      0.921      0.906      0.961      0.795\n"
     ]
    },
    {
     "name": "stderr",
     "output_type": "stream",
     "text": [
      "\n"
     ]
    },
    {
     "name": "stdout",
     "output_type": "stream",
     "text": [
      "\n",
      "      Epoch    GPU_mem   box_loss   cls_loss   dfl_loss  Instances       Size\n"
     ]
    },
    {
     "name": "stderr",
     "output_type": "stream",
     "text": [
      "      17/30         0G     0.9149     0.7103      1.045         14        640: 100%|██████████| 7/7 [00:35<00:00,  5.11s/it]\n",
      "                 Class     Images  Instances      Box(P          R      mAP50  mAP50-95): 100%|██████████| 4/4 [00:09<00:00,  2.29s/it]"
     ]
    },
    {
     "name": "stdout",
     "output_type": "stream",
     "text": [
      "                   all        100        160       0.93      0.916      0.964      0.794\n"
     ]
    },
    {
     "name": "stderr",
     "output_type": "stream",
     "text": [
      "\n"
     ]
    },
    {
     "name": "stdout",
     "output_type": "stream",
     "text": [
      "\n",
      "      Epoch    GPU_mem   box_loss   cls_loss   dfl_loss  Instances       Size\n"
     ]
    },
    {
     "name": "stderr",
     "output_type": "stream",
     "text": [
      "      18/30         0G     0.8168     0.6258     0.9683         10        640: 100%|██████████| 7/7 [00:34<00:00,  4.99s/it]\n",
      "                 Class     Images  Instances      Box(P          R      mAP50  mAP50-95): 100%|██████████| 4/4 [00:09<00:00,  2.42s/it]"
     ]
    },
    {
     "name": "stdout",
     "output_type": "stream",
     "text": [
      "                   all        100        160      0.939      0.938      0.967      0.798\n"
     ]
    },
    {
     "name": "stderr",
     "output_type": "stream",
     "text": [
      "\n"
     ]
    },
    {
     "name": "stdout",
     "output_type": "stream",
     "text": [
      "\n",
      "      Epoch    GPU_mem   box_loss   cls_loss   dfl_loss  Instances       Size\n"
     ]
    },
    {
     "name": "stderr",
     "output_type": "stream",
     "text": [
      "      19/30         0G     0.9115     0.6586      1.038         15        640: 100%|██████████| 7/7 [00:33<00:00,  4.74s/it]\n",
      "                 Class     Images  Instances      Box(P          R      mAP50  mAP50-95): 100%|██████████| 4/4 [00:09<00:00,  2.35s/it]"
     ]
    },
    {
     "name": "stdout",
     "output_type": "stream",
     "text": [
      "                   all        100        160      0.932      0.947      0.966      0.799\n"
     ]
    },
    {
     "name": "stderr",
     "output_type": "stream",
     "text": [
      "\n"
     ]
    },
    {
     "name": "stdout",
     "output_type": "stream",
     "text": [
      "\n",
      "      Epoch    GPU_mem   box_loss   cls_loss   dfl_loss  Instances       Size\n"
     ]
    },
    {
     "name": "stderr",
     "output_type": "stream",
     "text": [
      "      20/30         0G      0.884     0.6046      1.034         12        640: 100%|██████████| 7/7 [00:33<00:00,  4.85s/it]\n",
      "                 Class     Images  Instances      Box(P          R      mAP50  mAP50-95): 100%|██████████| 4/4 [00:09<00:00,  2.26s/it]"
     ]
    },
    {
     "name": "stdout",
     "output_type": "stream",
     "text": [
      "                   all        100        160      0.954      0.901      0.968      0.803\n"
     ]
    },
    {
     "name": "stderr",
     "output_type": "stream",
     "text": [
      "\n"
     ]
    },
    {
     "name": "stdout",
     "output_type": "stream",
     "text": [
      "Closing dataloader mosaic\n",
      "\n",
      "      Epoch    GPU_mem   box_loss   cls_loss   dfl_loss  Instances       Size\n"
     ]
    },
    {
     "name": "stderr",
     "output_type": "stream",
     "text": [
      "      21/30         0G     0.8637     0.6402      1.023          8        640: 100%|██████████| 7/7 [00:34<00:00,  4.93s/it]\n",
      "                 Class     Images  Instances      Box(P          R      mAP50  mAP50-95): 100%|██████████| 4/4 [00:09<00:00,  2.35s/it]"
     ]
    },
    {
     "name": "stdout",
     "output_type": "stream",
     "text": [
      "                   all        100        160      0.947      0.902      0.967      0.798\n"
     ]
    },
    {
     "name": "stderr",
     "output_type": "stream",
     "text": [
      "\n"
     ]
    },
    {
     "name": "stdout",
     "output_type": "stream",
     "text": [
      "\n",
      "      Epoch    GPU_mem   box_loss   cls_loss   dfl_loss  Instances       Size\n"
     ]
    },
    {
     "name": "stderr",
     "output_type": "stream",
     "text": [
      "      22/30         0G     0.8545     0.6433      1.008          4        640: 100%|██████████| 7/7 [00:36<00:00,  5.23s/it]\n",
      "                 Class     Images  Instances      Box(P          R      mAP50  mAP50-95): 100%|██████████| 4/4 [00:09<00:00,  2.35s/it]"
     ]
    },
    {
     "name": "stdout",
     "output_type": "stream",
     "text": [
      "                   all        100        160      0.927        0.9      0.963      0.787\n"
     ]
    },
    {
     "name": "stderr",
     "output_type": "stream",
     "text": [
      "\n"
     ]
    },
    {
     "name": "stdout",
     "output_type": "stream",
     "text": [
      "\n",
      "      Epoch    GPU_mem   box_loss   cls_loss   dfl_loss  Instances       Size\n"
     ]
    },
    {
     "name": "stderr",
     "output_type": "stream",
     "text": [
      "      23/30         0G     0.9365     0.7862      1.016          6        640: 100%|██████████| 7/7 [00:34<00:00,  4.87s/it]\n",
      "                 Class     Images  Instances      Box(P          R      mAP50  mAP50-95): 100%|██████████| 4/4 [00:09<00:00,  2.26s/it]"
     ]
    },
    {
     "name": "stdout",
     "output_type": "stream",
     "text": [
      "                   all        100        160      0.932        0.9      0.963      0.785\n"
     ]
    },
    {
     "name": "stderr",
     "output_type": "stream",
     "text": [
      "\n"
     ]
    },
    {
     "name": "stdout",
     "output_type": "stream",
     "text": [
      "\n",
      "      Epoch    GPU_mem   box_loss   cls_loss   dfl_loss  Instances       Size\n"
     ]
    },
    {
     "name": "stderr",
     "output_type": "stream",
     "text": [
      "      24/30         0G      0.818     0.6015     0.9523          4        640: 100%|██████████| 7/7 [00:33<00:00,  4.77s/it]\n",
      "                 Class     Images  Instances      Box(P          R      mAP50  mAP50-95): 100%|██████████| 4/4 [00:09<00:00,  2.30s/it]"
     ]
    },
    {
     "name": "stdout",
     "output_type": "stream",
     "text": [
      "                   all        100        160      0.942      0.912      0.964      0.791\n"
     ]
    },
    {
     "name": "stderr",
     "output_type": "stream",
     "text": [
      "\n"
     ]
    },
    {
     "name": "stdout",
     "output_type": "stream",
     "text": [
      "\n",
      "      Epoch    GPU_mem   box_loss   cls_loss   dfl_loss  Instances       Size\n"
     ]
    },
    {
     "name": "stderr",
     "output_type": "stream",
     "text": [
      "      25/30         0G     0.8543      0.597      1.008          5        640: 100%|██████████| 7/7 [00:33<00:00,  4.78s/it]\n",
      "                 Class     Images  Instances      Box(P          R      mAP50  mAP50-95): 100%|██████████| 4/4 [00:09<00:00,  2.28s/it]"
     ]
    },
    {
     "name": "stdout",
     "output_type": "stream",
     "text": [
      "                   all        100        160      0.929      0.925      0.964      0.791\n"
     ]
    },
    {
     "name": "stderr",
     "output_type": "stream",
     "text": [
      "\n"
     ]
    },
    {
     "name": "stdout",
     "output_type": "stream",
     "text": [
      "\n",
      "      Epoch    GPU_mem   box_loss   cls_loss   dfl_loss  Instances       Size\n"
     ]
    },
    {
     "name": "stderr",
     "output_type": "stream",
     "text": [
      "      26/30         0G     0.7602     0.5569     0.9397          8        640: 100%|██████████| 7/7 [00:34<00:00,  4.94s/it]\n",
      "                 Class     Images  Instances      Box(P          R      mAP50  mAP50-95): 100%|██████████| 4/4 [00:09<00:00,  2.31s/it]"
     ]
    },
    {
     "name": "stdout",
     "output_type": "stream",
     "text": [
      "                   all        100        160      0.945      0.912      0.965      0.792\n"
     ]
    },
    {
     "name": "stderr",
     "output_type": "stream",
     "text": [
      "\n"
     ]
    },
    {
     "name": "stdout",
     "output_type": "stream",
     "text": [
      "\n",
      "      Epoch    GPU_mem   box_loss   cls_loss   dfl_loss  Instances       Size\n"
     ]
    },
    {
     "name": "stderr",
     "output_type": "stream",
     "text": [
      "      27/30         0G     0.8305     0.6325     0.9855          5        640: 100%|██████████| 7/7 [00:35<00:00,  5.11s/it]\n",
      "                 Class     Images  Instances      Box(P          R      mAP50  mAP50-95): 100%|██████████| 4/4 [00:09<00:00,  2.27s/it]"
     ]
    },
    {
     "name": "stdout",
     "output_type": "stream",
     "text": [
      "                   all        100        160      0.948      0.907      0.964      0.791\n"
     ]
    },
    {
     "name": "stderr",
     "output_type": "stream",
     "text": [
      "\n"
     ]
    },
    {
     "name": "stdout",
     "output_type": "stream",
     "text": [
      "\n",
      "      Epoch    GPU_mem   box_loss   cls_loss   dfl_loss  Instances       Size\n"
     ]
    },
    {
     "name": "stderr",
     "output_type": "stream",
     "text": [
      "      28/30         0G     0.8034     0.5407     0.9878          8        640: 100%|██████████| 7/7 [00:33<00:00,  4.85s/it]\n",
      "                 Class     Images  Instances      Box(P          R      mAP50  mAP50-95): 100%|██████████| 4/4 [00:09<00:00,  2.31s/it]"
     ]
    },
    {
     "name": "stdout",
     "output_type": "stream",
     "text": [
      "                   all        100        160       0.96      0.919      0.965      0.792\n"
     ]
    },
    {
     "name": "stderr",
     "output_type": "stream",
     "text": [
      "\n"
     ]
    },
    {
     "name": "stdout",
     "output_type": "stream",
     "text": [
      "\n",
      "      Epoch    GPU_mem   box_loss   cls_loss   dfl_loss  Instances       Size\n"
     ]
    },
    {
     "name": "stderr",
     "output_type": "stream",
     "text": [
      "      29/30         0G     0.7651     0.5404     0.9878          7        640: 100%|██████████| 7/7 [00:34<00:00,  4.89s/it]\n",
      "                 Class     Images  Instances      Box(P          R      mAP50  mAP50-95): 100%|██████████| 4/4 [00:09<00:00,  2.38s/it]"
     ]
    },
    {
     "name": "stdout",
     "output_type": "stream",
     "text": [
      "                   all        100        160      0.961      0.916      0.965      0.792\n"
     ]
    },
    {
     "name": "stderr",
     "output_type": "stream",
     "text": [
      "\n"
     ]
    },
    {
     "name": "stdout",
     "output_type": "stream",
     "text": [
      "\n",
      "      Epoch    GPU_mem   box_loss   cls_loss   dfl_loss  Instances       Size\n"
     ]
    },
    {
     "name": "stderr",
     "output_type": "stream",
     "text": [
      "      30/30         0G      0.764     0.5437     0.9665          6        640: 100%|██████████| 7/7 [00:34<00:00,  4.92s/it]\n",
      "                 Class     Images  Instances      Box(P          R      mAP50  mAP50-95): 100%|██████████| 4/4 [00:09<00:00,  2.38s/it]"
     ]
    },
    {
     "name": "stdout",
     "output_type": "stream",
     "text": [
      "                   all        100        160      0.967      0.912      0.965      0.792\n"
     ]
    },
    {
     "name": "stderr",
     "output_type": "stream",
     "text": [
      "\n"
     ]
    },
    {
     "name": "stdout",
     "output_type": "stream",
     "text": [
      "\n",
      "30 epochs completed in 0.380 hours.\n",
      "Optimizer stripped from runs\\detect\\train9\\weights\\last.pt, 6.5MB\n",
      "Optimizer stripped from runs\\detect\\train9\\weights\\best.pt, 6.5MB\n",
      "\n",
      "Validating runs\\detect\\train9\\weights\\best.pt...\n",
      "Ultralytics YOLOv8.1.33 🚀 Python-3.11.1 torch-2.1.0+cpu CPU (AMD Ryzen 7 5800H with Radeon Graphics)\n",
      "Model summary (fused): 168 layers, 3151904 parameters, 0 gradients, 8.7 GFLOPs\n"
     ]
    },
    {
     "name": "stderr",
     "output_type": "stream",
     "text": [
      "                 Class     Images  Instances      Box(P          R      mAP50  mAP50-95): 100%|██████████| 4/4 [00:07<00:00,  1.93s/it]\n"
     ]
    },
    {
     "name": "stdout",
     "output_type": "stream",
     "text": [
      "                   all        100        160      0.954      0.903      0.968      0.803\n",
      "                  boat        100        160      0.954      0.903      0.968      0.803\n",
      "Speed: 1.8ms preprocess, 60.3ms inference, 0.0ms loss, 0.7ms postprocess per image\n",
      "Results saved to \u001b[1mruns\\detect\\train9\u001b[0m\n"
     ]
    }
   ],
   "source": [
    "from ultralytics import YOLO\n",
    "model = YOLO('yolov8n.pt')\n",
    "validation_results = model.train(data=r'C:\\Users\\cwky\\Desktop\\5703\\Model\\boat_train_val_100\\boat.yaml',\n",
    "                               device='CPU',\n",
    "                               plots=True,\n",
    "                               epochs = 50\n",
    "                               )"
   ]
  },
  {
   "cell_type": "markdown",
   "metadata": {},
   "source": [
    "Keep training for 30 epoch"
   ]
  },
  {
   "cell_type": "code",
   "execution_count": 11,
   "metadata": {},
   "outputs": [
    {
     "name": "stdout",
     "output_type": "stream",
     "text": [
      "New https://pypi.org/project/ultralytics/8.2.26 available 😃 Update with 'pip install -U ultralytics'\n",
      "Ultralytics YOLOv8.1.33 🚀 Python-3.11.1 torch-2.1.0+cpu CPU (AMD Ryzen 7 5800H with Radeon Graphics)\n",
      "\u001b[34m\u001b[1mengine\\trainer: \u001b[0mtask=detect, mode=train, model=yolov8n.pt, data=C:\\Users\\cwky\\Desktop\\5703\\Model\\boat_train_val_100\\boat.yaml, epochs=30, time=None, patience=100, batch=16, imgsz=640, save=True, save_period=-1, cache=False, device=CPU, workers=0, project=None, name=train92, exist_ok=False, pretrained=True, optimizer=auto, verbose=True, seed=0, deterministic=True, single_cls=False, rect=False, cos_lr=False, close_mosaic=10, resume=False, amp=True, fraction=1.0, profile=False, freeze=None, multi_scale=False, overlap_mask=True, mask_ratio=4, dropout=0.0, val=True, split=val, save_json=False, save_hybrid=False, conf=None, iou=0.7, max_det=300, half=False, dnn=False, plots=True, source=None, vid_stride=1, stream_buffer=False, visualize=False, augment=False, agnostic_nms=False, classes=None, retina_masks=False, embed=None, show=False, save_frames=False, save_txt=False, save_conf=False, save_crop=False, show_labels=True, show_conf=True, show_boxes=True, line_width=None, format=torchscript, keras=False, optimize=False, int8=False, dynamic=False, simplify=False, opset=None, workspace=4, nms=False, lr0=0.01, lrf=0.01, momentum=0.937, weight_decay=0.0005, warmup_epochs=3.0, warmup_momentum=0.8, warmup_bias_lr=0.0, box=7.5, cls=0.5, dfl=1.5, pose=12.0, kobj=1.0, label_smoothing=0.0, nbs=64, hsv_h=0.015, hsv_s=0.7, hsv_v=0.4, degrees=0.0, translate=0.1, scale=0.5, shear=0.0, perspective=0.0, flipud=0.0, fliplr=0.5, bgr=0.0, mosaic=1.0, mixup=0.0, copy_paste=0.0, auto_augment=randaugment, erasing=0.4, crop_fraction=1.0, cfg=None, tracker=botsort.yaml, save_dir=runs\\detect\\train92\n",
      "\n",
      "                   from  n    params  module                                       arguments                     \n",
      "  0                  -1  1       464  ultralytics.nn.modules.conv.Conv             [3, 16, 3, 2]                 \n",
      "  1                  -1  1      4672  ultralytics.nn.modules.conv.Conv             [16, 32, 3, 2]                \n",
      "  2                  -1  1      7360  ultralytics.nn.modules.block.C2f             [32, 32, 1, True]             \n",
      "  3                  -1  1     18560  ultralytics.nn.modules.conv.Conv             [32, 64, 3, 2]                \n",
      "  4                  -1  2     49664  ultralytics.nn.modules.block.C2f             [64, 64, 2, True]             \n",
      "  5                  -1  1     73984  ultralytics.nn.modules.conv.Conv             [64, 128, 3, 2]               \n",
      "  6                  -1  2    197632  ultralytics.nn.modules.block.C2f             [128, 128, 2, True]           \n",
      "  7                  -1  1    295424  ultralytics.nn.modules.conv.Conv             [128, 256, 3, 2]              \n",
      "  8                  -1  1    460288  ultralytics.nn.modules.block.C2f             [256, 256, 1, True]           \n",
      "  9                  -1  1    164608  ultralytics.nn.modules.block.SPPF            [256, 256, 5]                 \n",
      " 10                  -1  1         0  torch.nn.modules.upsampling.Upsample         [None, 2, 'nearest']          \n",
      " 11             [-1, 6]  1         0  ultralytics.nn.modules.conv.Concat           [1]                           \n",
      " 12                  -1  1    148224  ultralytics.nn.modules.block.C2f             [384, 128, 1]                 \n",
      " 13                  -1  1         0  torch.nn.modules.upsampling.Upsample         [None, 2, 'nearest']          \n",
      " 14             [-1, 4]  1         0  ultralytics.nn.modules.conv.Concat           [1]                           \n",
      " 15                  -1  1     37248  ultralytics.nn.modules.block.C2f             [192, 64, 1]                  \n",
      " 16                  -1  1     36992  ultralytics.nn.modules.conv.Conv             [64, 64, 3, 2]                \n",
      " 17            [-1, 12]  1         0  ultralytics.nn.modules.conv.Concat           [1]                           \n",
      " 18                  -1  1    123648  ultralytics.nn.modules.block.C2f             [192, 128, 1]                 \n",
      " 19                  -1  1    147712  ultralytics.nn.modules.conv.Conv             [128, 128, 3, 2]              \n",
      " 20             [-1, 9]  1         0  ultralytics.nn.modules.conv.Concat           [1]                           \n",
      " 21                  -1  1    493056  ultralytics.nn.modules.block.C2f             [384, 256, 1]                 \n",
      " 22        [15, 18, 21]  1    897664  ultralytics.nn.modules.head.Detect           [80, [64, 128, 256]]          \n",
      "Model summary: 225 layers, 3157200 parameters, 3157184 gradients, 8.9 GFLOPs\n",
      "\n",
      "Transferred 355/355 items from pretrained weights\n",
      "\u001b[34m\u001b[1mTensorBoard: \u001b[0mStart with 'tensorboard --logdir runs\\detect\\train92', view at http://localhost:6006/\n",
      "Freezing layer 'model.22.dfl.conv.weight'\n"
     ]
    },
    {
     "name": "stderr",
     "output_type": "stream",
     "text": [
      "\u001b[34m\u001b[1mtrain: \u001b[0mScanning C:\\Users\\cwky\\Desktop\\5703\\Model\\boat_train_val_100\\labels\\train.cache... 100 images, 0 backgrounds, 0 corrupt: 100%|██████████| 100/100 [00:00<?, ?it/s]\n",
      "\u001b[34m\u001b[1mval: \u001b[0mScanning C:\\Users\\cwky\\Desktop\\5703\\Model\\boat_train_val_100\\labels\\val.cache... 100 images, 0 backgrounds, 0 corrupt: 100%|██████████| 100/100 [00:00<?, ?it/s]"
     ]
    },
    {
     "name": "stdout",
     "output_type": "stream",
     "text": [
      "Plotting labels to runs\\detect\\train92\\labels.jpg... \n"
     ]
    },
    {
     "name": "stderr",
     "output_type": "stream",
     "text": [
      "\n"
     ]
    },
    {
     "name": "stdout",
     "output_type": "stream",
     "text": [
      "\u001b[34m\u001b[1moptimizer:\u001b[0m 'optimizer=auto' found, ignoring 'lr0=0.01' and 'momentum=0.937' and determining best 'optimizer', 'lr0' and 'momentum' automatically... \n",
      "\u001b[34m\u001b[1moptimizer:\u001b[0m AdamW(lr=0.000119, momentum=0.9) with parameter groups 57 weight(decay=0.0), 64 weight(decay=0.0005), 63 bias(decay=0.0)\n",
      "\u001b[34m\u001b[1mTensorBoard: \u001b[0mmodel graph visualization added ✅\n",
      "Image sizes 640 train, 640 val\n",
      "Using 0 dataloader workers\n",
      "Logging results to \u001b[1mruns\\detect\\train92\u001b[0m\n",
      "Starting training for 30 epochs...\n",
      "\n",
      "      Epoch    GPU_mem   box_loss   cls_loss   dfl_loss  Instances       Size\n"
     ]
    },
    {
     "name": "stderr",
     "output_type": "stream",
     "text": [
      "       1/30         0G     0.8584     0.6141       1.01         12        640: 100%|██████████| 7/7 [00:35<00:00,  5.14s/it]\n",
      "                 Class     Images  Instances      Box(P          R      mAP50  mAP50-95): 100%|██████████| 4/4 [00:09<00:00,  2.27s/it]"
     ]
    },
    {
     "name": "stdout",
     "output_type": "stream",
     "text": [
      "                   all        100        160      0.959      0.919       0.97        0.8\n"
     ]
    },
    {
     "name": "stderr",
     "output_type": "stream",
     "text": [
      "\n"
     ]
    },
    {
     "name": "stdout",
     "output_type": "stream",
     "text": [
      "\n",
      "      Epoch    GPU_mem   box_loss   cls_loss   dfl_loss  Instances       Size\n"
     ]
    },
    {
     "name": "stderr",
     "output_type": "stream",
     "text": [
      "       2/30         0G     0.8193     0.5983     0.9705         14        640: 100%|██████████| 7/7 [00:34<00:00,  4.94s/it]\n",
      "                 Class     Images  Instances      Box(P          R      mAP50  mAP50-95): 100%|██████████| 4/4 [00:08<00:00,  2.25s/it]"
     ]
    },
    {
     "name": "stdout",
     "output_type": "stream",
     "text": [
      "                   all        100        160      0.949      0.919      0.973      0.806\n"
     ]
    },
    {
     "name": "stderr",
     "output_type": "stream",
     "text": [
      "\n"
     ]
    },
    {
     "name": "stdout",
     "output_type": "stream",
     "text": [
      "\n",
      "      Epoch    GPU_mem   box_loss   cls_loss   dfl_loss  Instances       Size\n"
     ]
    },
    {
     "name": "stderr",
     "output_type": "stream",
     "text": [
      "       3/30         0G     0.8736     0.6312      1.019          7        640: 100%|██████████| 7/7 [00:34<00:00,  4.91s/it]\n",
      "                 Class     Images  Instances      Box(P          R      mAP50  mAP50-95): 100%|██████████| 4/4 [00:09<00:00,  2.27s/it]"
     ]
    },
    {
     "name": "stdout",
     "output_type": "stream",
     "text": [
      "                   all        100        160      0.932      0.939      0.974      0.808\n"
     ]
    },
    {
     "name": "stderr",
     "output_type": "stream",
     "text": [
      "\n"
     ]
    },
    {
     "name": "stdout",
     "output_type": "stream",
     "text": [
      "\n",
      "      Epoch    GPU_mem   box_loss   cls_loss   dfl_loss  Instances       Size\n"
     ]
    },
    {
     "name": "stderr",
     "output_type": "stream",
     "text": [
      "       4/30         0G     0.8165     0.5861      1.013          7        640: 100%|██████████| 7/7 [00:34<00:00,  4.90s/it]\n",
      "                 Class     Images  Instances      Box(P          R      mAP50  mAP50-95): 100%|██████████| 4/4 [00:09<00:00,  2.25s/it]"
     ]
    },
    {
     "name": "stdout",
     "output_type": "stream",
     "text": [
      "                   all        100        160      0.926      0.943      0.974      0.805\n"
     ]
    },
    {
     "name": "stderr",
     "output_type": "stream",
     "text": [
      "\n"
     ]
    },
    {
     "name": "stdout",
     "output_type": "stream",
     "text": [
      "\n",
      "      Epoch    GPU_mem   box_loss   cls_loss   dfl_loss  Instances       Size\n"
     ]
    },
    {
     "name": "stderr",
     "output_type": "stream",
     "text": [
      "       5/30         0G     0.8333     0.5587     0.9975         10        640: 100%|██████████| 7/7 [00:33<00:00,  4.83s/it]\n",
      "                 Class     Images  Instances      Box(P          R      mAP50  mAP50-95): 100%|██████████| 4/4 [00:09<00:00,  2.27s/it]"
     ]
    },
    {
     "name": "stdout",
     "output_type": "stream",
     "text": [
      "                   all        100        160      0.918      0.944      0.973      0.803\n"
     ]
    },
    {
     "name": "stderr",
     "output_type": "stream",
     "text": [
      "\n"
     ]
    },
    {
     "name": "stdout",
     "output_type": "stream",
     "text": [
      "\n",
      "      Epoch    GPU_mem   box_loss   cls_loss   dfl_loss  Instances       Size\n"
     ]
    },
    {
     "name": "stderr",
     "output_type": "stream",
     "text": [
      "       6/30         0G     0.7882     0.5591     0.9604          7        640: 100%|██████████| 7/7 [00:34<00:00,  4.89s/it]\n",
      "                 Class     Images  Instances      Box(P          R      mAP50  mAP50-95): 100%|██████████| 4/4 [00:08<00:00,  2.24s/it]"
     ]
    },
    {
     "name": "stdout",
     "output_type": "stream",
     "text": [
      "                   all        100        160      0.918       0.95      0.972      0.805\n"
     ]
    },
    {
     "name": "stderr",
     "output_type": "stream",
     "text": [
      "\n"
     ]
    },
    {
     "name": "stdout",
     "output_type": "stream",
     "text": [
      "\n",
      "      Epoch    GPU_mem   box_loss   cls_loss   dfl_loss  Instances       Size\n"
     ]
    },
    {
     "name": "stderr",
     "output_type": "stream",
     "text": [
      "       7/30         0G     0.7747     0.5276     0.9724         12        640: 100%|██████████| 7/7 [00:34<00:00,  4.91s/it]\n",
      "                 Class     Images  Instances      Box(P          R      mAP50  mAP50-95): 100%|██████████| 4/4 [00:09<00:00,  2.25s/it]"
     ]
    },
    {
     "name": "stdout",
     "output_type": "stream",
     "text": [
      "                   all        100        160      0.925       0.95       0.97      0.813\n"
     ]
    },
    {
     "name": "stderr",
     "output_type": "stream",
     "text": [
      "\n"
     ]
    },
    {
     "name": "stdout",
     "output_type": "stream",
     "text": [
      "\n",
      "      Epoch    GPU_mem   box_loss   cls_loss   dfl_loss  Instances       Size\n"
     ]
    },
    {
     "name": "stderr",
     "output_type": "stream",
     "text": [
      "       8/30         0G     0.8366     0.5854      1.005          8        640: 100%|██████████| 7/7 [00:33<00:00,  4.82s/it]\n",
      "                 Class     Images  Instances      Box(P          R      mAP50  mAP50-95): 100%|██████████| 4/4 [00:09<00:00,  2.30s/it]"
     ]
    },
    {
     "name": "stdout",
     "output_type": "stream",
     "text": [
      "                   all        100        160      0.926      0.943      0.969      0.813\n"
     ]
    },
    {
     "name": "stderr",
     "output_type": "stream",
     "text": [
      "\n"
     ]
    },
    {
     "name": "stdout",
     "output_type": "stream",
     "text": [
      "\n",
      "      Epoch    GPU_mem   box_loss   cls_loss   dfl_loss  Instances       Size\n"
     ]
    },
    {
     "name": "stderr",
     "output_type": "stream",
     "text": [
      "       9/30         0G     0.7864     0.5243     0.9763         14        640: 100%|██████████| 7/7 [00:34<00:00,  4.99s/it]\n",
      "                 Class     Images  Instances      Box(P          R      mAP50  mAP50-95): 100%|██████████| 4/4 [00:08<00:00,  2.25s/it]"
     ]
    },
    {
     "name": "stdout",
     "output_type": "stream",
     "text": [
      "                   all        100        160      0.949      0.924      0.969      0.815\n"
     ]
    },
    {
     "name": "stderr",
     "output_type": "stream",
     "text": [
      "\n"
     ]
    },
    {
     "name": "stdout",
     "output_type": "stream",
     "text": [
      "\n",
      "      Epoch    GPU_mem   box_loss   cls_loss   dfl_loss  Instances       Size\n"
     ]
    },
    {
     "name": "stderr",
     "output_type": "stream",
     "text": [
      "      10/30         0G     0.8253     0.5625     0.9861         10        640: 100%|██████████| 7/7 [00:34<00:00,  4.90s/it]\n",
      "                 Class     Images  Instances      Box(P          R      mAP50  mAP50-95): 100%|██████████| 4/4 [00:09<00:00,  2.30s/it]"
     ]
    },
    {
     "name": "stdout",
     "output_type": "stream",
     "text": [
      "                   all        100        160      0.953      0.925      0.971      0.814\n"
     ]
    },
    {
     "name": "stderr",
     "output_type": "stream",
     "text": [
      "\n"
     ]
    },
    {
     "name": "stdout",
     "output_type": "stream",
     "text": [
      "\n",
      "      Epoch    GPU_mem   box_loss   cls_loss   dfl_loss  Instances       Size\n"
     ]
    },
    {
     "name": "stderr",
     "output_type": "stream",
     "text": [
      "      11/30         0G     0.8099     0.5752     0.9852          8        640: 100%|██████████| 7/7 [00:35<00:00,  5.02s/it]\n",
      "                 Class     Images  Instances      Box(P          R      mAP50  mAP50-95): 100%|██████████| 4/4 [00:09<00:00,  2.29s/it]"
     ]
    },
    {
     "name": "stdout",
     "output_type": "stream",
     "text": [
      "                   all        100        160      0.955      0.924      0.972      0.819\n"
     ]
    },
    {
     "name": "stderr",
     "output_type": "stream",
     "text": [
      "\n"
     ]
    },
    {
     "name": "stdout",
     "output_type": "stream",
     "text": [
      "\n",
      "      Epoch    GPU_mem   box_loss   cls_loss   dfl_loss  Instances       Size\n"
     ]
    },
    {
     "name": "stderr",
     "output_type": "stream",
     "text": [
      "      12/30         0G     0.7307     0.4961     0.9608         17        640: 100%|██████████| 7/7 [00:36<00:00,  5.22s/it]\n",
      "                 Class     Images  Instances      Box(P          R      mAP50  mAP50-95): 100%|██████████| 4/4 [00:09<00:00,  2.34s/it]"
     ]
    },
    {
     "name": "stdout",
     "output_type": "stream",
     "text": [
      "                   all        100        160       0.96      0.919      0.971      0.815\n"
     ]
    },
    {
     "name": "stderr",
     "output_type": "stream",
     "text": [
      "\n"
     ]
    },
    {
     "name": "stdout",
     "output_type": "stream",
     "text": [
      "\n",
      "      Epoch    GPU_mem   box_loss   cls_loss   dfl_loss  Instances       Size\n"
     ]
    },
    {
     "name": "stderr",
     "output_type": "stream",
     "text": [
      "      13/30         0G     0.7408     0.5052     0.9407         13        640: 100%|██████████| 7/7 [00:36<00:00,  5.15s/it]\n",
      "                 Class     Images  Instances      Box(P          R      mAP50  mAP50-95): 100%|██████████| 4/4 [00:09<00:00,  2.37s/it]"
     ]
    },
    {
     "name": "stdout",
     "output_type": "stream",
     "text": [
      "                   all        100        160       0.95      0.931       0.97      0.815\n"
     ]
    },
    {
     "name": "stderr",
     "output_type": "stream",
     "text": [
      "\n"
     ]
    },
    {
     "name": "stdout",
     "output_type": "stream",
     "text": [
      "\n",
      "      Epoch    GPU_mem   box_loss   cls_loss   dfl_loss  Instances       Size\n"
     ]
    },
    {
     "name": "stderr",
     "output_type": "stream",
     "text": [
      "      14/30         0G     0.7464     0.5025     0.9572         21        640: 100%|██████████| 7/7 [00:33<00:00,  4.78s/it]\n",
      "                 Class     Images  Instances      Box(P          R      mAP50  mAP50-95): 100%|██████████| 4/4 [00:08<00:00,  2.18s/it]"
     ]
    },
    {
     "name": "stdout",
     "output_type": "stream",
     "text": [
      "                   all        100        160      0.938      0.953      0.972      0.812\n"
     ]
    },
    {
     "name": "stderr",
     "output_type": "stream",
     "text": [
      "\n"
     ]
    },
    {
     "name": "stdout",
     "output_type": "stream",
     "text": [
      "\n",
      "      Epoch    GPU_mem   box_loss   cls_loss   dfl_loss  Instances       Size\n"
     ]
    },
    {
     "name": "stderr",
     "output_type": "stream",
     "text": [
      "      15/30         0G     0.7694     0.5171     0.9713         14        640: 100%|██████████| 7/7 [00:33<00:00,  4.74s/it]\n",
      "                 Class     Images  Instances      Box(P          R      mAP50  mAP50-95): 100%|██████████| 4/4 [00:08<00:00,  2.17s/it]"
     ]
    },
    {
     "name": "stdout",
     "output_type": "stream",
     "text": [
      "                   all        100        160      0.933      0.954      0.974      0.818\n"
     ]
    },
    {
     "name": "stderr",
     "output_type": "stream",
     "text": [
      "\n"
     ]
    },
    {
     "name": "stdout",
     "output_type": "stream",
     "text": [
      "\n",
      "      Epoch    GPU_mem   box_loss   cls_loss   dfl_loss  Instances       Size\n"
     ]
    },
    {
     "name": "stderr",
     "output_type": "stream",
     "text": [
      "      16/30         0G     0.7393     0.5041     0.9616         12        640: 100%|██████████| 7/7 [00:34<00:00,  4.96s/it]\n",
      "                 Class     Images  Instances      Box(P          R      mAP50  mAP50-95): 100%|██████████| 4/4 [00:08<00:00,  2.20s/it]"
     ]
    },
    {
     "name": "stdout",
     "output_type": "stream",
     "text": [
      "                   all        100        160      0.932      0.956      0.974       0.82\n"
     ]
    },
    {
     "name": "stderr",
     "output_type": "stream",
     "text": [
      "\n"
     ]
    },
    {
     "name": "stdout",
     "output_type": "stream",
     "text": [
      "\n",
      "      Epoch    GPU_mem   box_loss   cls_loss   dfl_loss  Instances       Size\n"
     ]
    },
    {
     "name": "stderr",
     "output_type": "stream",
     "text": [
      "      17/30         0G     0.7903      0.561     0.9786         14        640: 100%|██████████| 7/7 [00:33<00:00,  4.83s/it]\n",
      "                 Class     Images  Instances      Box(P          R      mAP50  mAP50-95): 100%|██████████| 4/4 [00:08<00:00,  2.22s/it]"
     ]
    },
    {
     "name": "stdout",
     "output_type": "stream",
     "text": [
      "                   all        100        160      0.939      0.962      0.974      0.822\n"
     ]
    },
    {
     "name": "stderr",
     "output_type": "stream",
     "text": [
      "\n"
     ]
    },
    {
     "name": "stdout",
     "output_type": "stream",
     "text": [
      "\n",
      "      Epoch    GPU_mem   box_loss   cls_loss   dfl_loss  Instances       Size\n"
     ]
    },
    {
     "name": "stderr",
     "output_type": "stream",
     "text": [
      "      18/30         0G     0.7082     0.5043     0.9131         10        640: 100%|██████████| 7/7 [00:32<00:00,  4.66s/it]\n",
      "                 Class     Images  Instances      Box(P          R      mAP50  mAP50-95): 100%|██████████| 4/4 [00:08<00:00,  2.24s/it]"
     ]
    },
    {
     "name": "stdout",
     "output_type": "stream",
     "text": [
      "                   all        100        160      0.949      0.931      0.971      0.825\n"
     ]
    },
    {
     "name": "stderr",
     "output_type": "stream",
     "text": [
      "\n"
     ]
    },
    {
     "name": "stdout",
     "output_type": "stream",
     "text": [
      "\n",
      "      Epoch    GPU_mem   box_loss   cls_loss   dfl_loss  Instances       Size\n"
     ]
    },
    {
     "name": "stderr",
     "output_type": "stream",
     "text": [
      "      19/30         0G     0.7885     0.5514     0.9676         15        640: 100%|██████████| 7/7 [00:36<00:00,  5.27s/it]\n",
      "                 Class     Images  Instances      Box(P          R      mAP50  mAP50-95): 100%|██████████| 4/4 [00:09<00:00,  2.39s/it]"
     ]
    },
    {
     "name": "stdout",
     "output_type": "stream",
     "text": [
      "                   all        100        160      0.956      0.944      0.971      0.822\n"
     ]
    },
    {
     "name": "stderr",
     "output_type": "stream",
     "text": [
      "\n"
     ]
    },
    {
     "name": "stdout",
     "output_type": "stream",
     "text": [
      "\n",
      "      Epoch    GPU_mem   box_loss   cls_loss   dfl_loss  Instances       Size\n"
     ]
    },
    {
     "name": "stderr",
     "output_type": "stream",
     "text": [
      "      20/30         0G     0.7733     0.5108     0.9701         12        640: 100%|██████████| 7/7 [00:33<00:00,  4.82s/it]\n",
      "                 Class     Images  Instances      Box(P          R      mAP50  mAP50-95): 100%|██████████| 4/4 [00:08<00:00,  2.19s/it]"
     ]
    },
    {
     "name": "stdout",
     "output_type": "stream",
     "text": [
      "                   all        100        160      0.944      0.945      0.972      0.816\n"
     ]
    },
    {
     "name": "stderr",
     "output_type": "stream",
     "text": [
      "\n"
     ]
    },
    {
     "name": "stdout",
     "output_type": "stream",
     "text": [
      "Closing dataloader mosaic\n",
      "\n",
      "      Epoch    GPU_mem   box_loss   cls_loss   dfl_loss  Instances       Size\n"
     ]
    },
    {
     "name": "stderr",
     "output_type": "stream",
     "text": [
      "      21/30         0G      0.765     0.5318     0.9648          8        640: 100%|██████████| 7/7 [00:32<00:00,  4.71s/it]\n",
      "                 Class     Images  Instances      Box(P          R      mAP50  mAP50-95): 100%|██████████| 4/4 [00:08<00:00,  2.18s/it]"
     ]
    },
    {
     "name": "stdout",
     "output_type": "stream",
     "text": [
      "                   all        100        160      0.942      0.944      0.971      0.815\n"
     ]
    },
    {
     "name": "stderr",
     "output_type": "stream",
     "text": [
      "\n"
     ]
    },
    {
     "name": "stdout",
     "output_type": "stream",
     "text": [
      "\n",
      "      Epoch    GPU_mem   box_loss   cls_loss   dfl_loss  Instances       Size\n"
     ]
    },
    {
     "name": "stderr",
     "output_type": "stream",
     "text": [
      "      22/30         0G     0.7783     0.5415     0.9591          4        640: 100%|██████████| 7/7 [00:33<00:00,  4.72s/it]\n",
      "                 Class     Images  Instances      Box(P          R      mAP50  mAP50-95): 100%|██████████| 4/4 [00:08<00:00,  2.19s/it]"
     ]
    },
    {
     "name": "stdout",
     "output_type": "stream",
     "text": [
      "                   all        100        160       0.95      0.947      0.971      0.814\n"
     ]
    },
    {
     "name": "stderr",
     "output_type": "stream",
     "text": [
      "\n"
     ]
    },
    {
     "name": "stdout",
     "output_type": "stream",
     "text": [
      "\n",
      "      Epoch    GPU_mem   box_loss   cls_loss   dfl_loss  Instances       Size\n"
     ]
    },
    {
     "name": "stderr",
     "output_type": "stream",
     "text": [
      "      23/30         0G     0.8275     0.6808     0.9505          6        640: 100%|██████████| 7/7 [00:33<00:00,  4.72s/it]\n",
      "                 Class     Images  Instances      Box(P          R      mAP50  mAP50-95): 100%|██████████| 4/4 [00:09<00:00,  2.25s/it]"
     ]
    },
    {
     "name": "stdout",
     "output_type": "stream",
     "text": [
      "                   all        100        160       0.95      0.949      0.971       0.81\n"
     ]
    },
    {
     "name": "stderr",
     "output_type": "stream",
     "text": [
      "\n"
     ]
    },
    {
     "name": "stdout",
     "output_type": "stream",
     "text": [
      "\n",
      "      Epoch    GPU_mem   box_loss   cls_loss   dfl_loss  Instances       Size\n"
     ]
    },
    {
     "name": "stderr",
     "output_type": "stream",
     "text": [
      "      24/30         0G     0.7654     0.4942     0.9146          4        640: 100%|██████████| 7/7 [00:33<00:00,  4.84s/it]\n",
      "                 Class     Images  Instances      Box(P          R      mAP50  mAP50-95): 100%|██████████| 4/4 [00:08<00:00,  2.20s/it]"
     ]
    },
    {
     "name": "stdout",
     "output_type": "stream",
     "text": [
      "                   all        100        160      0.944      0.952       0.97       0.81\n"
     ]
    },
    {
     "name": "stderr",
     "output_type": "stream",
     "text": [
      "\n"
     ]
    },
    {
     "name": "stdout",
     "output_type": "stream",
     "text": [
      "\n",
      "      Epoch    GPU_mem   box_loss   cls_loss   dfl_loss  Instances       Size\n"
     ]
    },
    {
     "name": "stderr",
     "output_type": "stream",
     "text": [
      "      25/30         0G     0.7519     0.4955     0.9541          5        640: 100%|██████████| 7/7 [00:32<00:00,  4.66s/it]\n",
      "                 Class     Images  Instances      Box(P          R      mAP50  mAP50-95): 100%|██████████| 4/4 [00:08<00:00,  2.20s/it]"
     ]
    },
    {
     "name": "stdout",
     "output_type": "stream",
     "text": [
      "                   all        100        160      0.944      0.956       0.97       0.81\n"
     ]
    },
    {
     "name": "stderr",
     "output_type": "stream",
     "text": [
      "\n"
     ]
    },
    {
     "name": "stdout",
     "output_type": "stream",
     "text": [
      "\n",
      "      Epoch    GPU_mem   box_loss   cls_loss   dfl_loss  Instances       Size\n"
     ]
    },
    {
     "name": "stderr",
     "output_type": "stream",
     "text": [
      "      26/30         0G     0.7072     0.4693     0.9016          8        640: 100%|██████████| 7/7 [00:32<00:00,  4.68s/it]\n",
      "                 Class     Images  Instances      Box(P          R      mAP50  mAP50-95): 100%|██████████| 4/4 [00:08<00:00,  2.18s/it]"
     ]
    },
    {
     "name": "stdout",
     "output_type": "stream",
     "text": [
      "                   all        100        160      0.938      0.956      0.968      0.812\n"
     ]
    },
    {
     "name": "stderr",
     "output_type": "stream",
     "text": [
      "\n"
     ]
    },
    {
     "name": "stdout",
     "output_type": "stream",
     "text": [
      "\n",
      "      Epoch    GPU_mem   box_loss   cls_loss   dfl_loss  Instances       Size\n"
     ]
    },
    {
     "name": "stderr",
     "output_type": "stream",
     "text": [
      "      27/30         0G     0.7664      0.559     0.9377          5        640: 100%|██████████| 7/7 [00:32<00:00,  4.70s/it]\n",
      "                 Class     Images  Instances      Box(P          R      mAP50  mAP50-95): 100%|██████████| 4/4 [00:08<00:00,  2.17s/it]"
     ]
    },
    {
     "name": "stdout",
     "output_type": "stream",
     "text": [
      "                   all        100        160      0.938      0.956      0.968      0.811\n"
     ]
    },
    {
     "name": "stderr",
     "output_type": "stream",
     "text": [
      "\n"
     ]
    },
    {
     "name": "stdout",
     "output_type": "stream",
     "text": [
      "\n",
      "      Epoch    GPU_mem   box_loss   cls_loss   dfl_loss  Instances       Size\n"
     ]
    },
    {
     "name": "stderr",
     "output_type": "stream",
     "text": [
      "      28/30         0G     0.7298     0.4722     0.9393          8        640: 100%|██████████| 7/7 [00:32<00:00,  4.67s/it]\n",
      "                 Class     Images  Instances      Box(P          R      mAP50  mAP50-95): 100%|██████████| 4/4 [00:08<00:00,  2.23s/it]"
     ]
    },
    {
     "name": "stdout",
     "output_type": "stream",
     "text": [
      "                   all        100        160      0.938      0.956      0.969      0.816\n"
     ]
    },
    {
     "name": "stderr",
     "output_type": "stream",
     "text": [
      "\n"
     ]
    },
    {
     "name": "stdout",
     "output_type": "stream",
     "text": [
      "\n",
      "      Epoch    GPU_mem   box_loss   cls_loss   dfl_loss  Instances       Size\n"
     ]
    },
    {
     "name": "stderr",
     "output_type": "stream",
     "text": [
      "      29/30         0G        0.7     0.4678     0.9394          7        640: 100%|██████████| 7/7 [00:32<00:00,  4.62s/it]\n",
      "                 Class     Images  Instances      Box(P          R      mAP50  mAP50-95): 100%|██████████| 4/4 [00:08<00:00,  2.16s/it]"
     ]
    },
    {
     "name": "stdout",
     "output_type": "stream",
     "text": [
      "                   all        100        160      0.939      0.956       0.97      0.819\n"
     ]
    },
    {
     "name": "stderr",
     "output_type": "stream",
     "text": [
      "\n"
     ]
    },
    {
     "name": "stdout",
     "output_type": "stream",
     "text": [
      "\n",
      "      Epoch    GPU_mem   box_loss   cls_loss   dfl_loss  Instances       Size\n"
     ]
    },
    {
     "name": "stderr",
     "output_type": "stream",
     "text": [
      "      30/30         0G     0.6925       0.46     0.9232          6        640: 100%|██████████| 7/7 [00:33<00:00,  4.78s/it]\n",
      "                 Class     Images  Instances      Box(P          R      mAP50  mAP50-95): 100%|██████████| 4/4 [00:08<00:00,  2.17s/it]"
     ]
    },
    {
     "name": "stdout",
     "output_type": "stream",
     "text": [
      "                   all        100        160      0.937      0.956       0.97      0.821\n"
     ]
    },
    {
     "name": "stderr",
     "output_type": "stream",
     "text": [
      "\n"
     ]
    },
    {
     "name": "stdout",
     "output_type": "stream",
     "text": [
      "\n",
      "30 epochs completed in 0.362 hours.\n",
      "Optimizer stripped from runs\\detect\\train92\\weights\\last.pt, 6.5MB\n",
      "Optimizer stripped from runs\\detect\\train92\\weights\\best.pt, 6.5MB\n",
      "\n",
      "Validating runs\\detect\\train92\\weights\\best.pt...\n",
      "Ultralytics YOLOv8.1.33 🚀 Python-3.11.1 torch-2.1.0+cpu CPU (AMD Ryzen 7 5800H with Radeon Graphics)\n",
      "Model summary (fused): 168 layers, 3151904 parameters, 0 gradients, 8.7 GFLOPs\n"
     ]
    },
    {
     "name": "stderr",
     "output_type": "stream",
     "text": [
      "                 Class     Images  Instances      Box(P          R      mAP50  mAP50-95): 100%|██████████| 4/4 [00:06<00:00,  1.74s/it]\n"
     ]
    },
    {
     "name": "stdout",
     "output_type": "stream",
     "text": [
      "                   all        100        160      0.948      0.938      0.971      0.824\n",
      "                  boat        100        160      0.948      0.938      0.971      0.824\n",
      "Speed: 1.6ms preprocess, 54.3ms inference, 0.0ms loss, 0.5ms postprocess per image\n",
      "Results saved to \u001b[1mruns\\detect\\train92\u001b[0m\n"
     ]
    }
   ],
   "source": [
    "validation_results = model.train(data=r'C:\\Users\\cwky\\Desktop\\5703\\Model\\boat_train_val_100\\boat.yaml',\n",
    "                               device='CPU',\n",
    "                               plots=True,\n",
    "                               epochs = 30\n",
    "                               )"
   ]
  },
  {
   "cell_type": "markdown",
   "metadata": {},
   "source": [
    "Validation Result"
   ]
  },
  {
   "cell_type": "code",
   "execution_count": 12,
   "metadata": {},
   "outputs": [
    {
     "name": "stdout",
     "output_type": "stream",
     "text": [
      "0.9317820270883221\n"
     ]
    }
   ],
   "source": [
    "print(validation_results.box.map75)"
   ]
  },
  {
   "cell_type": "code",
   "execution_count": 13,
   "metadata": {},
   "outputs": [
    {
     "name": "stdout",
     "output_type": "stream",
     "text": [
      "Ultralytics YOLOv8.1.33 🚀 Python-3.11.1 torch-2.1.0+cpu CPU (AMD Ryzen 7 5800H with Radeon Graphics)\n",
      "Model summary (fused): 168 layers, 3151904 parameters, 0 gradients, 8.7 GFLOPs\n"
     ]
    },
    {
     "name": "stderr",
     "output_type": "stream",
     "text": [
      "\u001b[34m\u001b[1mval: \u001b[0mScanning C:\\Users\\cwky\\Desktop\\5703\\Model\\boat_train_val_100\\labels\\val.cache... 100 images, 0 backgrounds, 0 corrupt: 100%|██████████| 100/100 [00:00<?, ?it/s]\n",
      "                 Class     Images  Instances      Box(P          R      mAP50  mAP50-95): 100%|██████████| 7/7 [00:06<00:00,  1.05it/s]\n"
     ]
    },
    {
     "name": "stdout",
     "output_type": "stream",
     "text": [
      "                   all        100        160      0.948      0.938      0.971      0.824\n",
      "                  boat        100        160      0.948      0.938      0.971      0.824\n",
      "Speed: 1.3ms preprocess, 50.9ms inference, 0.0ms loss, 0.7ms postprocess per image\n",
      "Results saved to \u001b[1mruns\\detect\\train922\u001b[0m\n"
     ]
    }
   ],
   "source": [
    "validation_results_200train= model.val(data=r'C:\\Users\\cwky\\Desktop\\5703\\Model\\boat_train_val_100\\boat.yaml',\n",
    "                               device='CPU',\n",
    "                               plots=True,\n",
    "                            \n",
    "                               )\n"
   ]
  },
  {
   "cell_type": "code",
   "execution_count": 8,
   "metadata": {},
   "outputs": [
    {
     "name": "stdout",
     "output_type": "stream",
     "text": [
      "0.8780914909112492\n"
     ]
    }
   ],
   "source": [
    "print(validation_results.box.map75)"
   ]
  },
  {
   "cell_type": "markdown",
   "metadata": {},
   "source": [
    "Validation on COCO datset with pretrained model 'yolov8n.pt'"
   ]
  },
  {
   "cell_type": "code",
   "execution_count": 1,
   "metadata": {},
   "outputs": [
    {
     "name": "stdout",
     "output_type": "stream",
     "text": [
      "Downloading https://github.com/ultralytics/assets/releases/download/v8.1.0/yolov8n.pt to 'yolov8n.pt'...\n"
     ]
    },
    {
     "name": "stderr",
     "output_type": "stream",
     "text": [
      "100%|██████████| 6.23M/6.23M [00:00<00:00, 13.8MB/s]\n"
     ]
    },
    {
     "name": "stdout",
     "output_type": "stream",
     "text": [
      "Ultralytics YOLOv8.1.33 🚀 Python-3.11.1 torch-2.1.0+cpu CPU (AMD Ryzen 7 5800H with Radeon Graphics)\n",
      "YOLOv8n summary (fused): 168 layers, 3151904 parameters, 0 gradients, 8.7 GFLOPs\n"
     ]
    },
    {
     "name": "stderr",
     "output_type": "stream",
     "text": [
      "\u001b[34m\u001b[1mval: \u001b[0mScanning C:\\Users\\cwky\\datasets\\coco\\labels\\val2017.cache... 3094 images, 28 backgrounds, 1878 corrupt: 100%|██████████| 5000/5000 [00:00<?, ?it/s]"
     ]
    },
    {
     "name": "stdout",
     "output_type": "stream",
     "text": [
      "\u001b[34m\u001b[1mval: \u001b[0mWARNING ⚠️ C:\\Users\\cwky\\datasets\\coco\\images\\val2017\\000000000139.jpg: ignoring corrupt image/label: [Errno 2] No such file or directory: 'C:\\\\Users\\\\cwky\\\\datasets\\\\coco\\\\images\\\\val2017\\\\000000000139.jpg'\n",
      "\u001b[34m\u001b[1mval: \u001b[0mWARNING ⚠️ C:\\Users\\cwky\\datasets\\coco\\images\\val2017\\000000000632.jpg: ignoring corrupt image/label: [Errno 2] No such file or directory: 'C:\\\\Users\\\\cwky\\\\datasets\\\\coco\\\\images\\\\val2017\\\\000000000632.jpg'\n",
      "\u001b[34m\u001b[1mval: \u001b[0mWARNING ⚠️ C:\\Users\\cwky\\datasets\\coco\\images\\val2017\\000000000802.jpg: ignoring corrupt image/label: [Errno 2] No such file or directory: 'C:\\\\Users\\\\cwky\\\\datasets\\\\coco\\\\images\\\\val2017\\\\000000000802.jpg'\n",
      "\u001b[34m\u001b[1mval: \u001b[0mWARNING ⚠️ C:\\Users\\cwky\\datasets\\coco\\images\\val2017\\000000000872.jpg: ignoring corrupt image/label: [Errno 2] No such file or directory: 'C:\\\\Users\\\\cwky\\\\datasets\\\\coco\\\\images\\\\val2017\\\\000000000872.jpg'\n",
      "\u001b[34m\u001b[1mval: \u001b[0mWARNING ⚠️ C:\\Users\\cwky\\datasets\\coco\\images\\val2017\\000000001268.jpg: ignoring corrupt image/label: [Errno 2] No such file or directory: 'C:\\\\Users\\\\cwky\\\\datasets\\\\coco\\\\images\\\\val2017\\\\000000001268.jpg'\n",
      "\u001b[34m\u001b[1mval: \u001b[0mWARNING ⚠️ C:\\Users\\cwky\\datasets\\coco\\images\\val2017\\000000001490.jpg: ignoring corrupt image/label: [Errno 2] No such file or directory: 'C:\\\\Users\\\\cwky\\\\datasets\\\\coco\\\\images\\\\val2017\\\\000000001490.jpg'\n",
      "\u001b[34m\u001b[1mval: \u001b[0mWARNING ⚠️ C:\\Users\\cwky\\datasets\\coco\\images\\val2017\\000000001818.jpg: ignoring corrupt image/label: [Errno 2] No such file or directory: 'C:\\\\Users\\\\cwky\\\\datasets\\\\coco\\\\images\\\\val2017\\\\000000001818.jpg'\n",
      "\u001b[34m\u001b[1mval: \u001b[0mWARNING ⚠️ C:\\Users\\cwky\\datasets\\coco\\images\\val2017\\000000001993.jpg: ignoring corrupt image/label: [Errno 2] No such file or directory: 'C:\\\\Users\\\\cwky\\\\datasets\\\\coco\\\\images\\\\val2017\\\\000000001993.jpg'\n",
      "\u001b[34m\u001b[1mval: \u001b[0mWARNING ⚠️ C:\\Users\\cwky\\datasets\\coco\\images\\val2017\\000000002149.jpg: ignoring corrupt image/label: [Errno 2] No such file or directory: 'C:\\\\Users\\\\cwky\\\\datasets\\\\coco\\\\images\\\\val2017\\\\000000002149.jpg'\n",
      "\u001b[34m\u001b[1mval: \u001b[0mWARNING ⚠️ C:\\Users\\cwky\\datasets\\coco\\images\\val2017\\000000002153.jpg: ignoring corrupt image/label: [Errno 2] No such file or directory: 'C:\\\\Users\\\\cwky\\\\datasets\\\\coco\\\\images\\\\val2017\\\\000000002153.jpg'\n",
      "\u001b[34m\u001b[1mval: \u001b[0mWARNING ⚠️ C:\\Users\\cwky\\datasets\\coco\\images\\val2017\\000000002157.jpg: ignoring corrupt image/label: [Errno 2] No such file or directory: 'C:\\\\Users\\\\cwky\\\\datasets\\\\coco\\\\images\\\\val2017\\\\000000002157.jpg'\n",
      "\u001b[34m\u001b[1mval: \u001b[0mWARNING ⚠️ C:\\Users\\cwky\\datasets\\coco\\images\\val2017\\000000002261.jpg: ignoring corrupt image/label: [Errno 2] No such file or directory: 'C:\\\\Users\\\\cwky\\\\datasets\\\\coco\\\\images\\\\val2017\\\\000000002261.jpg'\n",
      "\u001b[34m\u001b[1mval: \u001b[0mWARNING ⚠️ C:\\Users\\cwky\\datasets\\coco\\images\\val2017\\000000002431.jpg: ignoring corrupt image/label: [Errno 2] No such file or directory: 'C:\\\\Users\\\\cwky\\\\datasets\\\\coco\\\\images\\\\val2017\\\\000000002431.jpg'\n",
      "\u001b[34m\u001b[1mval: \u001b[0mWARNING ⚠️ C:\\Users\\cwky\\datasets\\coco\\images\\val2017\\000000002685.jpg: ignoring corrupt image/label: [Errno 2] No such file or directory: 'C:\\\\Users\\\\cwky\\\\datasets\\\\coco\\\\images\\\\val2017\\\\000000002685.jpg'\n",
      "\u001b[34m\u001b[1mval: \u001b[0mWARNING ⚠️ C:\\Users\\cwky\\datasets\\coco\\images\\val2017\\000000003501.jpg: ignoring corrupt image/label: [Errno 2] No such file or directory: 'C:\\\\Users\\\\cwky\\\\datasets\\\\coco\\\\images\\\\val2017\\\\000000003501.jpg'\n",
      "\u001b[34m\u001b[1mval: \u001b[0mWARNING ⚠️ C:\\Users\\cwky\\datasets\\coco\\images\\val2017\\000000003845.jpg: ignoring corrupt image/label: [Errno 2] No such file or directory: 'C:\\\\Users\\\\cwky\\\\datasets\\\\coco\\\\images\\\\val2017\\\\000000003845.jpg'\n",
      "\u001b[34m\u001b[1mval: \u001b[0mWARNING ⚠️ C:\\Users\\cwky\\datasets\\coco\\images\\val2017\\000000004134.jpg: ignoring corrupt image/label: [Errno 2] No such file or directory: 'C:\\\\Users\\\\cwky\\\\datasets\\\\coco\\\\images\\\\val2017\\\\000000004134.jpg'\n",
      "\u001b[34m\u001b[1mval: \u001b[0mWARNING ⚠️ C:\\Users\\cwky\\datasets\\coco\\images\\val2017\\000000004495.jpg: ignoring corrupt image/label: [Errno 2] No such file or directory: 'C:\\\\Users\\\\cwky\\\\datasets\\\\coco\\\\images\\\\val2017\\\\000000004495.jpg'\n",
      "\u001b[34m\u001b[1mval: \u001b[0mWARNING ⚠️ C:\\Users\\cwky\\datasets\\coco\\images\\val2017\\000000004765.jpg: ignoring corrupt image/label: [Errno 2] No such file or directory: 'C:\\\\Users\\\\cwky\\\\datasets\\\\coco\\\\images\\\\val2017\\\\000000004765.jpg'\n",
      "\u001b[34m\u001b[1mval: \u001b[0mWARNING ⚠️ C:\\Users\\cwky\\datasets\\coco\\images\\val2017\\000000005060.jpg: ignoring corrupt image/label: [Errno 2] No such file or directory: 'C:\\\\Users\\\\cwky\\\\datasets\\\\coco\\\\images\\\\val2017\\\\000000005060.jpg'\n",
      "\u001b[34m\u001b[1mval: \u001b[0mWARNING ⚠️ C:\\Users\\cwky\\datasets\\coco\\images\\val2017\\000000005529.jpg: ignoring corrupt image/label: [Errno 2] No such file or directory: 'C:\\\\Users\\\\cwky\\\\datasets\\\\coco\\\\images\\\\val2017\\\\000000005529.jpg'\n",
      "\u001b[34m\u001b[1mval: \u001b[0mWARNING ⚠️ C:\\Users\\cwky\\datasets\\coco\\images\\val2017\\000000005600.jpg: ignoring corrupt image/label: [Errno 2] No such file or directory: 'C:\\\\Users\\\\cwky\\\\datasets\\\\coco\\\\images\\\\val2017\\\\000000005600.jpg'\n",
      "\u001b[34m\u001b[1mval: \u001b[0mWARNING ⚠️ C:\\Users\\cwky\\datasets\\coco\\images\\val2017\\000000007108.jpg: ignoring corrupt image/label: [Errno 2] No such file or directory: 'C:\\\\Users\\\\cwky\\\\datasets\\\\coco\\\\images\\\\val2017\\\\000000007108.jpg'\n",
      "\u001b[34m\u001b[1mval: \u001b[0mWARNING ⚠️ C:\\Users\\cwky\\datasets\\coco\\images\\val2017\\000000007278.jpg: ignoring corrupt image/label: [Errno 2] No such file or directory: 'C:\\\\Users\\\\cwky\\\\datasets\\\\coco\\\\images\\\\val2017\\\\000000007278.jpg'\n",
      "\u001b[34m\u001b[1mval: \u001b[0mWARNING ⚠️ C:\\Users\\cwky\\datasets\\coco\\images\\val2017\\000000007511.jpg: ignoring corrupt image/label: [Errno 2] No such file or directory: 'C:\\\\Users\\\\cwky\\\\datasets\\\\coco\\\\images\\\\val2017\\\\000000007511.jpg'\n",
      "\u001b[34m\u001b[1mval: \u001b[0mWARNING ⚠️ C:\\Users\\cwky\\datasets\\coco\\images\\val2017\\000000007816.jpg: ignoring corrupt image/label: [Errno 2] No such file or directory: 'C:\\\\Users\\\\cwky\\\\datasets\\\\coco\\\\images\\\\val2017\\\\000000007816.jpg'\n",
      "\u001b[34m\u001b[1mval: \u001b[0mWARNING ⚠️ C:\\Users\\cwky\\datasets\\coco\\images\\val2017\\000000007818.jpg: ignoring corrupt image/label: [Errno 2] No such file or directory: 'C:\\\\Users\\\\cwky\\\\datasets\\\\coco\\\\images\\\\val2017\\\\000000007818.jpg'\n",
      "\u001b[34m\u001b[1mval: \u001b[0mWARNING ⚠️ C:\\Users\\cwky\\datasets\\coco\\images\\val2017\\000000007888.jpg: ignoring corrupt image/label: [Errno 2] No such file or directory: 'C:\\\\Users\\\\cwky\\\\datasets\\\\coco\\\\images\\\\val2017\\\\000000007888.jpg'\n",
      "\u001b[34m\u001b[1mval: \u001b[0mWARNING ⚠️ C:\\Users\\cwky\\datasets\\coco\\images\\val2017\\000000008532.jpg: ignoring corrupt image/label: [Errno 2] No such file or directory: 'C:\\\\Users\\\\cwky\\\\datasets\\\\coco\\\\images\\\\val2017\\\\000000008532.jpg'\n",
      "\u001b[34m\u001b[1mval: \u001b[0mWARNING ⚠️ C:\\Users\\cwky\\datasets\\coco\\images\\val2017\\000000008629.jpg: ignoring corrupt image/label: [Errno 2] No such file or directory: 'C:\\\\Users\\\\cwky\\\\datasets\\\\coco\\\\images\\\\val2017\\\\000000008629.jpg'\n",
      "\u001b[34m\u001b[1mval: \u001b[0mWARNING ⚠️ C:\\Users\\cwky\\datasets\\coco\\images\\val2017\\000000008762.jpg: ignoring corrupt image/label: [Errno 2] No such file or directory: 'C:\\\\Users\\\\cwky\\\\datasets\\\\coco\\\\images\\\\val2017\\\\000000008762.jpg'\n",
      "\u001b[34m\u001b[1mval: \u001b[0mWARNING ⚠️ C:\\Users\\cwky\\datasets\\coco\\images\\val2017\\000000009483.jpg: ignoring corrupt image/label: [Errno 2] No such file or directory: 'C:\\\\Users\\\\cwky\\\\datasets\\\\coco\\\\images\\\\val2017\\\\000000009483.jpg'\n",
      "\u001b[34m\u001b[1mval: \u001b[0mWARNING ⚠️ C:\\Users\\cwky\\datasets\\coco\\images\\val2017\\000000009590.jpg: ignoring corrupt image/label: [Errno 2] No such file or directory: 'C:\\\\Users\\\\cwky\\\\datasets\\\\coco\\\\images\\\\val2017\\\\000000009590.jpg'\n",
      "\u001b[34m\u001b[1mval: \u001b[0mWARNING ⚠️ C:\\Users\\cwky\\datasets\\coco\\images\\val2017\\000000009769.jpg: ignoring corrupt image/label: [Errno 2] No such file or directory: 'C:\\\\Users\\\\cwky\\\\datasets\\\\coco\\\\images\\\\val2017\\\\000000009769.jpg'\n",
      "\u001b[34m\u001b[1mval: \u001b[0mWARNING ⚠️ C:\\Users\\cwky\\datasets\\coco\\images\\val2017\\000000009772.jpg: ignoring corrupt image/label: [Errno 2] No such file or directory: 'C:\\\\Users\\\\cwky\\\\datasets\\\\coco\\\\images\\\\val2017\\\\000000009772.jpg'\n",
      "\u001b[34m\u001b[1mval: \u001b[0mWARNING ⚠️ C:\\Users\\cwky\\datasets\\coco\\images\\val2017\\000000009914.jpg: ignoring corrupt image/label: [Errno 2] No such file or directory: 'C:\\\\Users\\\\cwky\\\\datasets\\\\coco\\\\images\\\\val2017\\\\000000009914.jpg'\n",
      "\u001b[34m\u001b[1mval: \u001b[0mWARNING ⚠️ C:\\Users\\cwky\\datasets\\coco\\images\\val2017\\000000011051.jpg: ignoring corrupt image/label: [Errno 2] No such file or directory: 'C:\\\\Users\\\\cwky\\\\datasets\\\\coco\\\\images\\\\val2017\\\\000000011051.jpg'\n",
      "\u001b[34m\u001b[1mval: \u001b[0mWARNING ⚠️ C:\\Users\\cwky\\datasets\\coco\\images\\val2017\\000000011197.jpg: ignoring corrupt image/label: [Errno 2] No such file or directory: 'C:\\\\Users\\\\cwky\\\\datasets\\\\coco\\\\images\\\\val2017\\\\000000011197.jpg'\n",
      "\u001b[34m\u001b[1mval: \u001b[0mWARNING ⚠️ C:\\Users\\cwky\\datasets\\coco\\images\\val2017\\000000011615.jpg: ignoring corrupt image/label: [Errno 2] No such file or directory: 'C:\\\\Users\\\\cwky\\\\datasets\\\\coco\\\\images\\\\val2017\\\\000000011615.jpg'\n",
      "\u001b[34m\u001b[1mval: \u001b[0mWARNING ⚠️ C:\\Users\\cwky\\datasets\\coco\\images\\val2017\\000000011699.jpg: ignoring corrupt image/label: [Errno 2] No such file or directory: 'C:\\\\Users\\\\cwky\\\\datasets\\\\coco\\\\images\\\\val2017\\\\000000011699.jpg'\n",
      "\u001b[34m\u001b[1mval: \u001b[0mWARNING ⚠️ C:\\Users\\cwky\\datasets\\coco\\images\\val2017\\000000011813.jpg: ignoring corrupt image/label: [Errno 2] No such file or directory: 'C:\\\\Users\\\\cwky\\\\datasets\\\\coco\\\\images\\\\val2017\\\\000000011813.jpg'\n",
      "\u001b[34m\u001b[1mval: \u001b[0mWARNING ⚠️ C:\\Users\\cwky\\datasets\\coco\\images\\val2017\\000000012062.jpg: ignoring corrupt image/label: [Errno 2] No such file or directory: 'C:\\\\Users\\\\cwky\\\\datasets\\\\coco\\\\images\\\\val2017\\\\000000012062.jpg'\n",
      "\u001b[34m\u001b[1mval: \u001b[0mWARNING ⚠️ C:\\Users\\cwky\\datasets\\coco\\images\\val2017\\000000012120.jpg: ignoring corrupt image/label: [Errno 2] No such file or directory: 'C:\\\\Users\\\\cwky\\\\datasets\\\\coco\\\\images\\\\val2017\\\\000000012120.jpg'\n",
      "\u001b[34m\u001b[1mval: \u001b[0mWARNING ⚠️ C:\\Users\\cwky\\datasets\\coco\\images\\val2017\\000000012280.jpg: ignoring corrupt image/label: [Errno 2] No such file or directory: 'C:\\\\Users\\\\cwky\\\\datasets\\\\coco\\\\images\\\\val2017\\\\000000012280.jpg'\n",
      "\u001b[34m\u001b[1mval: \u001b[0mWARNING ⚠️ C:\\Users\\cwky\\datasets\\coco\\images\\val2017\\000000013201.jpg: ignoring corrupt image/label: [Errno 2] No such file or directory: 'C:\\\\Users\\\\cwky\\\\datasets\\\\coco\\\\images\\\\val2017\\\\000000013201.jpg'\n",
      "\u001b[34m\u001b[1mval: \u001b[0mWARNING ⚠️ C:\\Users\\cwky\\datasets\\coco\\images\\val2017\\000000013348.jpg: ignoring corrupt image/label: [Errno 2] No such file or directory: 'C:\\\\Users\\\\cwky\\\\datasets\\\\coco\\\\images\\\\val2017\\\\000000013348.jpg'\n",
      "\u001b[34m\u001b[1mval: \u001b[0mWARNING ⚠️ C:\\Users\\cwky\\datasets\\coco\\images\\val2017\\000000013729.jpg: ignoring corrupt image/label: [Errno 2] No such file or directory: 'C:\\\\Users\\\\cwky\\\\datasets\\\\coco\\\\images\\\\val2017\\\\000000013729.jpg'\n",
      "\u001b[34m\u001b[1mval: \u001b[0mWARNING ⚠️ C:\\Users\\cwky\\datasets\\coco\\images\\val2017\\000000013774.jpg: ignoring corrupt image/label: [Errno 2] No such file or directory: 'C:\\\\Users\\\\cwky\\\\datasets\\\\coco\\\\images\\\\val2017\\\\000000013774.jpg'\n",
      "\u001b[34m\u001b[1mval: \u001b[0mWARNING ⚠️ C:\\Users\\cwky\\datasets\\coco\\images\\val2017\\000000013923.jpg: ignoring corrupt image/label: [Errno 2] No such file or directory: 'C:\\\\Users\\\\cwky\\\\datasets\\\\coco\\\\images\\\\val2017\\\\000000013923.jpg'\n",
      "\u001b[34m\u001b[1mval: \u001b[0mWARNING ⚠️ C:\\Users\\cwky\\datasets\\coco\\images\\val2017\\000000014007.jpg: ignoring corrupt image/label: [Errno 2] No such file or directory: 'C:\\\\Users\\\\cwky\\\\datasets\\\\coco\\\\images\\\\val2017\\\\000000014007.jpg'\n",
      "\u001b[34m\u001b[1mval: \u001b[0mWARNING ⚠️ C:\\Users\\cwky\\datasets\\coco\\images\\val2017\\000000014038.jpg: ignoring corrupt image/label: [Errno 2] No such file or directory: 'C:\\\\Users\\\\cwky\\\\datasets\\\\coco\\\\images\\\\val2017\\\\000000014038.jpg'\n",
      "\u001b[34m\u001b[1mval: \u001b[0mWARNING ⚠️ C:\\Users\\cwky\\datasets\\coco\\images\\val2017\\000000014226.jpg: ignoring corrupt image/label: [Errno 2] No such file or directory: 'C:\\\\Users\\\\cwky\\\\datasets\\\\coco\\\\images\\\\val2017\\\\000000014226.jpg'\n",
      "\u001b[34m\u001b[1mval: \u001b[0mWARNING ⚠️ C:\\Users\\cwky\\datasets\\coco\\images\\val2017\\000000014439.jpg: ignoring corrupt image/label: [Errno 2] No such file or directory: 'C:\\\\Users\\\\cwky\\\\datasets\\\\coco\\\\images\\\\val2017\\\\000000014439.jpg'\n",
      "\u001b[34m\u001b[1mval: \u001b[0mWARNING ⚠️ C:\\Users\\cwky\\datasets\\coco\\images\\val2017\\000000014473.jpg: ignoring corrupt image/label: [Errno 2] No such file or directory: 'C:\\\\Users\\\\cwky\\\\datasets\\\\coco\\\\images\\\\val2017\\\\000000014473.jpg'\n",
      "\u001b[34m\u001b[1mval: \u001b[0mWARNING ⚠️ C:\\Users\\cwky\\datasets\\coco\\images\\val2017\\000000014831.jpg: ignoring corrupt image/label: [Errno 2] No such file or directory: 'C:\\\\Users\\\\cwky\\\\datasets\\\\coco\\\\images\\\\val2017\\\\000000014831.jpg'\n",
      "\u001b[34m\u001b[1mval: \u001b[0mWARNING ⚠️ C:\\Users\\cwky\\datasets\\coco\\images\\val2017\\000000015079.jpg: ignoring corrupt image/label: [Errno 2] No such file or directory: 'C:\\\\Users\\\\cwky\\\\datasets\\\\coco\\\\images\\\\val2017\\\\000000015079.jpg'\n",
      "\u001b[34m\u001b[1mval: \u001b[0mWARNING ⚠️ C:\\Users\\cwky\\datasets\\coco\\images\\val2017\\000000015335.jpg: ignoring corrupt image/label: [Errno 2] No such file or directory: 'C:\\\\Users\\\\cwky\\\\datasets\\\\coco\\\\images\\\\val2017\\\\000000015335.jpg'\n",
      "\u001b[34m\u001b[1mval: \u001b[0mWARNING ⚠️ C:\\Users\\cwky\\datasets\\coco\\images\\val2017\\000000015338.jpg: ignoring corrupt image/label: [Errno 2] No such file or directory: 'C:\\\\Users\\\\cwky\\\\datasets\\\\coco\\\\images\\\\val2017\\\\000000015338.jpg'\n",
      "\u001b[34m\u001b[1mval: \u001b[0mWARNING ⚠️ C:\\Users\\cwky\\datasets\\coco\\images\\val2017\\000000015440.jpg: ignoring corrupt image/label: [Errno 2] No such file or directory: 'C:\\\\Users\\\\cwky\\\\datasets\\\\coco\\\\images\\\\val2017\\\\000000015440.jpg'\n",
      "\u001b[34m\u001b[1mval: \u001b[0mWARNING ⚠️ C:\\Users\\cwky\\datasets\\coco\\images\\val2017\\000000015660.jpg: ignoring corrupt image/label: [Errno 2] No such file or directory: 'C:\\\\Users\\\\cwky\\\\datasets\\\\coco\\\\images\\\\val2017\\\\000000015660.jpg'\n",
      "\u001b[34m\u001b[1mval: \u001b[0mWARNING ⚠️ C:\\Users\\cwky\\datasets\\coco\\images\\val2017\\000000015746.jpg: ignoring corrupt image/label: [Errno 2] No such file or directory: 'C:\\\\Users\\\\cwky\\\\datasets\\\\coco\\\\images\\\\val2017\\\\000000015746.jpg'\n",
      "\u001b[34m\u001b[1mval: \u001b[0mWARNING ⚠️ C:\\Users\\cwky\\datasets\\coco\\images\\val2017\\000000016249.jpg: ignoring corrupt image/label: [Errno 2] No such file or directory: 'C:\\\\Users\\\\cwky\\\\datasets\\\\coco\\\\images\\\\val2017\\\\000000016249.jpg'\n",
      "\u001b[34m\u001b[1mval: \u001b[0mWARNING ⚠️ C:\\Users\\cwky\\datasets\\coco\\images\\val2017\\000000016451.jpg: ignoring corrupt image/label: [Errno 2] No such file or directory: 'C:\\\\Users\\\\cwky\\\\datasets\\\\coco\\\\images\\\\val2017\\\\000000016451.jpg'\n",
      "\u001b[34m\u001b[1mval: \u001b[0mWARNING ⚠️ C:\\Users\\cwky\\datasets\\coco\\images\\val2017\\000000016502.jpg: ignoring corrupt image/label: [Errno 2] No such file or directory: 'C:\\\\Users\\\\cwky\\\\datasets\\\\coco\\\\images\\\\val2017\\\\000000016502.jpg'\n",
      "\u001b[34m\u001b[1mval: \u001b[0mWARNING ⚠️ C:\\Users\\cwky\\datasets\\coco\\images\\val2017\\000000016598.jpg: ignoring corrupt image/label: [Errno 2] No such file or directory: 'C:\\\\Users\\\\cwky\\\\datasets\\\\coco\\\\images\\\\val2017\\\\000000016598.jpg'\n",
      "\u001b[34m\u001b[1mval: \u001b[0mWARNING ⚠️ C:\\Users\\cwky\\datasets\\coco\\images\\val2017\\000000017029.jpg: ignoring corrupt image/label: [Errno 2] No such file or directory: 'C:\\\\Users\\\\cwky\\\\datasets\\\\coco\\\\images\\\\val2017\\\\000000017029.jpg'\n",
      "\u001b[34m\u001b[1mval: \u001b[0mWARNING ⚠️ C:\\Users\\cwky\\datasets\\coco\\images\\val2017\\000000017178.jpg: ignoring corrupt image/label: [Errno 2] No such file or directory: 'C:\\\\Users\\\\cwky\\\\datasets\\\\coco\\\\images\\\\val2017\\\\000000017178.jpg'\n",
      "\u001b[34m\u001b[1mval: \u001b[0mWARNING ⚠️ C:\\Users\\cwky\\datasets\\coco\\images\\val2017\\000000017627.jpg: ignoring corrupt image/label: [Errno 2] No such file or directory: 'C:\\\\Users\\\\cwky\\\\datasets\\\\coco\\\\images\\\\val2017\\\\000000017627.jpg'\n",
      "\u001b[34m\u001b[1mval: \u001b[0mWARNING ⚠️ C:\\Users\\cwky\\datasets\\coco\\images\\val2017\\000000017899.jpg: ignoring corrupt image/label: [Errno 2] No such file or directory: 'C:\\\\Users\\\\cwky\\\\datasets\\\\coco\\\\images\\\\val2017\\\\000000017899.jpg'\n",
      "\u001b[34m\u001b[1mval: \u001b[0mWARNING ⚠️ C:\\Users\\cwky\\datasets\\coco\\images\\val2017\\000000017905.jpg: ignoring corrupt image/label: [Errno 2] No such file or directory: 'C:\\\\Users\\\\cwky\\\\datasets\\\\coco\\\\images\\\\val2017\\\\000000017905.jpg'\n",
      "\u001b[34m\u001b[1mval: \u001b[0mWARNING ⚠️ C:\\Users\\cwky\\datasets\\coco\\images\\val2017\\000000018193.jpg: ignoring corrupt image/label: [Errno 2] No such file or directory: 'C:\\\\Users\\\\cwky\\\\datasets\\\\coco\\\\images\\\\val2017\\\\000000018193.jpg'\n",
      "\u001b[34m\u001b[1mval: \u001b[0mWARNING ⚠️ C:\\Users\\cwky\\datasets\\coco\\images\\val2017\\000000018380.jpg: ignoring corrupt image/label: [Errno 2] No such file or directory: 'C:\\\\Users\\\\cwky\\\\datasets\\\\coco\\\\images\\\\val2017\\\\000000018380.jpg'\n",
      "\u001b[34m\u001b[1mval: \u001b[0mWARNING ⚠️ C:\\Users\\cwky\\datasets\\coco\\images\\val2017\\000000018491.jpg: ignoring corrupt image/label: [Errno 2] No such file or directory: 'C:\\\\Users\\\\cwky\\\\datasets\\\\coco\\\\images\\\\val2017\\\\000000018491.jpg'\n",
      "\u001b[34m\u001b[1mval: \u001b[0mWARNING ⚠️ C:\\Users\\cwky\\datasets\\coco\\images\\val2017\\000000018737.jpg: ignoring corrupt image/label: [Errno 2] No such file or directory: 'C:\\\\Users\\\\cwky\\\\datasets\\\\coco\\\\images\\\\val2017\\\\000000018737.jpg'\n",
      "\u001b[34m\u001b[1mval: \u001b[0mWARNING ⚠️ C:\\Users\\cwky\\datasets\\coco\\images\\val2017\\000000018837.jpg: ignoring corrupt image/label: [Errno 2] No such file or directory: 'C:\\\\Users\\\\cwky\\\\datasets\\\\coco\\\\images\\\\val2017\\\\000000018837.jpg'\n",
      "\u001b[34m\u001b[1mval: \u001b[0mWARNING ⚠️ C:\\Users\\cwky\\datasets\\coco\\images\\val2017\\000000019109.jpg: ignoring corrupt image/label: [Errno 2] No such file or directory: 'C:\\\\Users\\\\cwky\\\\datasets\\\\coco\\\\images\\\\val2017\\\\000000019109.jpg'\n",
      "\u001b[34m\u001b[1mval: \u001b[0mWARNING ⚠️ C:\\Users\\cwky\\datasets\\coco\\images\\val2017\\000000019402.jpg: ignoring corrupt image/label: [Errno 2] No such file or directory: 'C:\\\\Users\\\\cwky\\\\datasets\\\\coco\\\\images\\\\val2017\\\\000000019402.jpg'\n",
      "\u001b[34m\u001b[1mval: \u001b[0mWARNING ⚠️ C:\\Users\\cwky\\datasets\\coco\\images\\val2017\\000000019432.jpg: ignoring corrupt image/label: [Errno 2] No such file or directory: 'C:\\\\Users\\\\cwky\\\\datasets\\\\coco\\\\images\\\\val2017\\\\000000019432.jpg'\n",
      "\u001b[34m\u001b[1mval: \u001b[0mWARNING ⚠️ C:\\Users\\cwky\\datasets\\coco\\images\\val2017\\000000019742.jpg: ignoring corrupt image/label: [Errno 2] No such file or directory: 'C:\\\\Users\\\\cwky\\\\datasets\\\\coco\\\\images\\\\val2017\\\\000000019742.jpg'\n",
      "\u001b[34m\u001b[1mval: \u001b[0mWARNING ⚠️ C:\\Users\\cwky\\datasets\\coco\\images\\val2017\\000000019786.jpg: ignoring corrupt image/label: [Errno 2] No such file or directory: 'C:\\\\Users\\\\cwky\\\\datasets\\\\coco\\\\images\\\\val2017\\\\000000019786.jpg'\n",
      "\u001b[34m\u001b[1mval: \u001b[0mWARNING ⚠️ C:\\Users\\cwky\\datasets\\coco\\images\\val2017\\000000020107.jpg: ignoring corrupt image/label: [Errno 2] No such file or directory: 'C:\\\\Users\\\\cwky\\\\datasets\\\\coco\\\\images\\\\val2017\\\\000000020107.jpg'\n",
      "\u001b[34m\u001b[1mval: \u001b[0mWARNING ⚠️ C:\\Users\\cwky\\datasets\\coco\\images\\val2017\\000000020333.jpg: ignoring corrupt image/label: [Errno 2] No such file or directory: 'C:\\\\Users\\\\cwky\\\\datasets\\\\coco\\\\images\\\\val2017\\\\000000020333.jpg'\n",
      "\u001b[34m\u001b[1mval: \u001b[0mWARNING ⚠️ C:\\Users\\cwky\\datasets\\coco\\images\\val2017\\000000020571.jpg: ignoring corrupt image/label: [Errno 2] No such file or directory: 'C:\\\\Users\\\\cwky\\\\datasets\\\\coco\\\\images\\\\val2017\\\\000000020571.jpg'\n",
      "\u001b[34m\u001b[1mval: \u001b[0mWARNING ⚠️ C:\\Users\\cwky\\datasets\\coco\\images\\val2017\\000000021465.jpg: ignoring corrupt image/label: [Errno 2] No such file or directory: 'C:\\\\Users\\\\cwky\\\\datasets\\\\coco\\\\images\\\\val2017\\\\000000021465.jpg'\n",
      "\u001b[34m\u001b[1mval: \u001b[0mWARNING ⚠️ C:\\Users\\cwky\\datasets\\coco\\images\\val2017\\000000021604.jpg: ignoring corrupt image/label: [Errno 2] No such file or directory: 'C:\\\\Users\\\\cwky\\\\datasets\\\\coco\\\\images\\\\val2017\\\\000000021604.jpg'\n",
      "\u001b[34m\u001b[1mval: \u001b[0mWARNING ⚠️ C:\\Users\\cwky\\datasets\\coco\\images\\val2017\\000000021903.jpg: ignoring corrupt image/label: [Errno 2] No such file or directory: 'C:\\\\Users\\\\cwky\\\\datasets\\\\coco\\\\images\\\\val2017\\\\000000021903.jpg'\n",
      "\u001b[34m\u001b[1mval: \u001b[0mWARNING ⚠️ C:\\Users\\cwky\\datasets\\coco\\images\\val2017\\000000022589.jpg: ignoring corrupt image/label: [Errno 2] No such file or directory: 'C:\\\\Users\\\\cwky\\\\datasets\\\\coco\\\\images\\\\val2017\\\\000000022589.jpg'\n",
      "\u001b[34m\u001b[1mval: \u001b[0mWARNING ⚠️ C:\\Users\\cwky\\datasets\\coco\\images\\val2017\\000000022755.jpg: ignoring corrupt image/label: [Errno 2] No such file or directory: 'C:\\\\Users\\\\cwky\\\\datasets\\\\coco\\\\images\\\\val2017\\\\000000022755.jpg'\n",
      "\u001b[34m\u001b[1mval: \u001b[0mWARNING ⚠️ C:\\Users\\cwky\\datasets\\coco\\images\\val2017\\000000022935.jpg: ignoring corrupt image/label: [Errno 2] No such file or directory: 'C:\\\\Users\\\\cwky\\\\datasets\\\\coco\\\\images\\\\val2017\\\\000000022935.jpg'\n",
      "\u001b[34m\u001b[1mval: \u001b[0mWARNING ⚠️ C:\\Users\\cwky\\datasets\\coco\\images\\val2017\\000000022969.jpg: ignoring corrupt image/label: [Errno 2] No such file or directory: 'C:\\\\Users\\\\cwky\\\\datasets\\\\coco\\\\images\\\\val2017\\\\000000022969.jpg'\n",
      "\u001b[34m\u001b[1mval: \u001b[0mWARNING ⚠️ C:\\Users\\cwky\\datasets\\coco\\images\\val2017\\000000023272.jpg: ignoring corrupt image/label: [Errno 2] No such file or directory: 'C:\\\\Users\\\\cwky\\\\datasets\\\\coco\\\\images\\\\val2017\\\\000000023272.jpg'\n",
      "\u001b[34m\u001b[1mval: \u001b[0mWARNING ⚠️ C:\\Users\\cwky\\datasets\\coco\\images\\val2017\\000000023359.jpg: ignoring corrupt image/label: [Errno 2] No such file or directory: 'C:\\\\Users\\\\cwky\\\\datasets\\\\coco\\\\images\\\\val2017\\\\000000023359.jpg'\n",
      "\u001b[34m\u001b[1mval: \u001b[0mWARNING ⚠️ C:\\Users\\cwky\\datasets\\coco\\images\\val2017\\000000023751.jpg: ignoring corrupt image/label: [Errno 2] No such file or directory: 'C:\\\\Users\\\\cwky\\\\datasets\\\\coco\\\\images\\\\val2017\\\\000000023751.jpg'\n",
      "\u001b[34m\u001b[1mval: \u001b[0mWARNING ⚠️ C:\\Users\\cwky\\datasets\\coco\\images\\val2017\\000000023781.jpg: ignoring corrupt image/label: [Errno 2] No such file or directory: 'C:\\\\Users\\\\cwky\\\\datasets\\\\coco\\\\images\\\\val2017\\\\000000023781.jpg'\n",
      "\u001b[34m\u001b[1mval: \u001b[0mWARNING ⚠️ C:\\Users\\cwky\\datasets\\coco\\images\\val2017\\000000024021.jpg: ignoring corrupt image/label: [Errno 2] No such file or directory: 'C:\\\\Users\\\\cwky\\\\datasets\\\\coco\\\\images\\\\val2017\\\\000000024021.jpg'\n",
      "\u001b[34m\u001b[1mval: \u001b[0mWARNING ⚠️ C:\\Users\\cwky\\datasets\\coco\\images\\val2017\\000000024027.jpg: ignoring corrupt image/label: [Errno 2] No such file or directory: 'C:\\\\Users\\\\cwky\\\\datasets\\\\coco\\\\images\\\\val2017\\\\000000024027.jpg'\n",
      "\u001b[34m\u001b[1mval: \u001b[0mWARNING ⚠️ C:\\Users\\cwky\\datasets\\coco\\images\\val2017\\000000024144.jpg: ignoring corrupt image/label: [Errno 2] No such file or directory: 'C:\\\\Users\\\\cwky\\\\datasets\\\\coco\\\\images\\\\val2017\\\\000000024144.jpg'\n",
      "\u001b[34m\u001b[1mval: \u001b[0mWARNING ⚠️ C:\\Users\\cwky\\datasets\\coco\\images\\val2017\\000000024919.jpg: ignoring corrupt image/label: [Errno 2] No such file or directory: 'C:\\\\Users\\\\cwky\\\\datasets\\\\coco\\\\images\\\\val2017\\\\000000024919.jpg'\n",
      "\u001b[34m\u001b[1mval: \u001b[0mWARNING ⚠️ C:\\Users\\cwky\\datasets\\coco\\images\\val2017\\000000025096.jpg: ignoring corrupt image/label: [Errno 2] No such file or directory: 'C:\\\\Users\\\\cwky\\\\datasets\\\\coco\\\\images\\\\val2017\\\\000000025096.jpg'\n",
      "\u001b[34m\u001b[1mval: \u001b[0mWARNING ⚠️ C:\\Users\\cwky\\datasets\\coco\\images\\val2017\\000000025139.jpg: ignoring corrupt image/label: [Errno 2] No such file or directory: 'C:\\\\Users\\\\cwky\\\\datasets\\\\coco\\\\images\\\\val2017\\\\000000025139.jpg'\n",
      "\u001b[34m\u001b[1mval: \u001b[0mWARNING ⚠️ C:\\Users\\cwky\\datasets\\coco\\images\\val2017\\000000025386.jpg: ignoring corrupt image/label: [Errno 2] No such file or directory: 'C:\\\\Users\\\\cwky\\\\datasets\\\\coco\\\\images\\\\val2017\\\\000000025386.jpg'\n",
      "\u001b[34m\u001b[1mval: \u001b[0mWARNING ⚠️ C:\\Users\\cwky\\datasets\\coco\\images\\val2017\\000000025424.jpg: ignoring corrupt image/label: [Errno 2] No such file or directory: 'C:\\\\Users\\\\cwky\\\\datasets\\\\coco\\\\images\\\\val2017\\\\000000025424.jpg'\n",
      "\u001b[34m\u001b[1mval: \u001b[0mWARNING ⚠️ C:\\Users\\cwky\\datasets\\coco\\images\\val2017\\000000025603.jpg: ignoring corrupt image/label: [Errno 2] No such file or directory: 'C:\\\\Users\\\\cwky\\\\datasets\\\\coco\\\\images\\\\val2017\\\\000000025603.jpg'\n",
      "\u001b[34m\u001b[1mval: \u001b[0mWARNING ⚠️ C:\\Users\\cwky\\datasets\\coco\\images\\val2017\\000000026204.jpg: ignoring corrupt image/label: [Errno 2] No such file or directory: 'C:\\\\Users\\\\cwky\\\\datasets\\\\coco\\\\images\\\\val2017\\\\000000026204.jpg'\n",
      "\u001b[34m\u001b[1mval: \u001b[0mWARNING ⚠️ C:\\Users\\cwky\\datasets\\coco\\images\\val2017\\000000026564.jpg: ignoring corrupt image/label: [Errno 2] No such file or directory: 'C:\\\\Users\\\\cwky\\\\datasets\\\\coco\\\\images\\\\val2017\\\\000000026564.jpg'\n",
      "\u001b[34m\u001b[1mval: \u001b[0mWARNING ⚠️ C:\\Users\\cwky\\datasets\\coco\\images\\val2017\\000000026690.jpg: ignoring corrupt image/label: [Errno 2] No such file or directory: 'C:\\\\Users\\\\cwky\\\\datasets\\\\coco\\\\images\\\\val2017\\\\000000026690.jpg'\n",
      "\u001b[34m\u001b[1mval: \u001b[0mWARNING ⚠️ C:\\Users\\cwky\\datasets\\coco\\images\\val2017\\000000026941.jpg: ignoring corrupt image/label: [Errno 2] No such file or directory: 'C:\\\\Users\\\\cwky\\\\datasets\\\\coco\\\\images\\\\val2017\\\\000000026941.jpg'\n",
      "\u001b[34m\u001b[1mval: \u001b[0mWARNING ⚠️ C:\\Users\\cwky\\datasets\\coco\\images\\val2017\\000000027620.jpg: ignoring corrupt image/label: [Errno 2] No such file or directory: 'C:\\\\Users\\\\cwky\\\\datasets\\\\coco\\\\images\\\\val2017\\\\000000027620.jpg'\n",
      "\u001b[34m\u001b[1mval: \u001b[0mWARNING ⚠️ C:\\Users\\cwky\\datasets\\coco\\images\\val2017\\000000027696.jpg: ignoring corrupt image/label: [Errno 2] No such file or directory: 'C:\\\\Users\\\\cwky\\\\datasets\\\\coco\\\\images\\\\val2017\\\\000000027696.jpg'\n",
      "\u001b[34m\u001b[1mval: \u001b[0mWARNING ⚠️ C:\\Users\\cwky\\datasets\\coco\\images\\val2017\\000000027932.jpg: ignoring corrupt image/label: [Errno 2] No such file or directory: 'C:\\\\Users\\\\cwky\\\\datasets\\\\coco\\\\images\\\\val2017\\\\000000027932.jpg'\n",
      "\u001b[34m\u001b[1mval: \u001b[0mWARNING ⚠️ C:\\Users\\cwky\\datasets\\coco\\images\\val2017\\000000027982.jpg: ignoring corrupt image/label: [Errno 2] No such file or directory: 'C:\\\\Users\\\\cwky\\\\datasets\\\\coco\\\\images\\\\val2017\\\\000000027982.jpg'\n",
      "\u001b[34m\u001b[1mval: \u001b[0mWARNING ⚠️ C:\\Users\\cwky\\datasets\\coco\\images\\val2017\\000000028449.jpg: ignoring corrupt image/label: [Errno 2] No such file or directory: 'C:\\\\Users\\\\cwky\\\\datasets\\\\coco\\\\images\\\\val2017\\\\000000028449.jpg'\n",
      "\u001b[34m\u001b[1mval: \u001b[0mWARNING ⚠️ C:\\Users\\cwky\\datasets\\coco\\images\\val2017\\000000028452.jpg: ignoring corrupt image/label: [Errno 2] No such file or directory: 'C:\\\\Users\\\\cwky\\\\datasets\\\\coco\\\\images\\\\val2017\\\\000000028452.jpg'\n",
      "\u001b[34m\u001b[1mval: \u001b[0mWARNING ⚠️ C:\\Users\\cwky\\datasets\\coco\\images\\val2017\\000000029640.jpg: ignoring corrupt image/label: [Errno 2] No such file or directory: 'C:\\\\Users\\\\cwky\\\\datasets\\\\coco\\\\images\\\\val2017\\\\000000029640.jpg'\n",
      "\u001b[34m\u001b[1mval: \u001b[0mWARNING ⚠️ C:\\Users\\cwky\\datasets\\coco\\images\\val2017\\000000029984.jpg: ignoring corrupt image/label: [Errno 2] No such file or directory: 'C:\\\\Users\\\\cwky\\\\datasets\\\\coco\\\\images\\\\val2017\\\\000000029984.jpg'\n",
      "\u001b[34m\u001b[1mval: \u001b[0mWARNING ⚠️ C:\\Users\\cwky\\datasets\\coco\\images\\val2017\\000000030494.jpg: ignoring corrupt image/label: [Errno 2] No such file or directory: 'C:\\\\Users\\\\cwky\\\\datasets\\\\coco\\\\images\\\\val2017\\\\000000030494.jpg'\n",
      "\u001b[34m\u001b[1mval: \u001b[0mWARNING ⚠️ C:\\Users\\cwky\\datasets\\coco\\images\\val2017\\000000030675.jpg: ignoring corrupt image/label: [Errno 2] No such file or directory: 'C:\\\\Users\\\\cwky\\\\datasets\\\\coco\\\\images\\\\val2017\\\\000000030675.jpg'\n",
      "\u001b[34m\u001b[1mval: \u001b[0mWARNING ⚠️ C:\\Users\\cwky\\datasets\\coco\\images\\val2017\\000000030828.jpg: ignoring corrupt image/label: [Errno 2] No such file or directory: 'C:\\\\Users\\\\cwky\\\\datasets\\\\coco\\\\images\\\\val2017\\\\000000030828.jpg'\n",
      "\u001b[34m\u001b[1mval: \u001b[0mWARNING ⚠️ C:\\Users\\cwky\\datasets\\coco\\images\\val2017\\000000031050.jpg: ignoring corrupt image/label: [Errno 2] No such file or directory: 'C:\\\\Users\\\\cwky\\\\datasets\\\\coco\\\\images\\\\val2017\\\\000000031050.jpg'\n",
      "\u001b[34m\u001b[1mval: \u001b[0mWARNING ⚠️ C:\\Users\\cwky\\datasets\\coco\\images\\val2017\\000000031248.jpg: ignoring corrupt image/label: [Errno 2] No such file or directory: 'C:\\\\Users\\\\cwky\\\\datasets\\\\coco\\\\images\\\\val2017\\\\000000031248.jpg'\n",
      "\u001b[34m\u001b[1mval: \u001b[0mWARNING ⚠️ C:\\Users\\cwky\\datasets\\coco\\images\\val2017\\000000031269.jpg: ignoring corrupt image/label: [Errno 2] No such file or directory: 'C:\\\\Users\\\\cwky\\\\datasets\\\\coco\\\\images\\\\val2017\\\\000000031269.jpg'\n",
      "\u001b[34m\u001b[1mval: \u001b[0mWARNING ⚠️ C:\\Users\\cwky\\datasets\\coco\\images\\val2017\\000000031296.jpg: ignoring corrupt image/label: [Errno 2] No such file or directory: 'C:\\\\Users\\\\cwky\\\\datasets\\\\coco\\\\images\\\\val2017\\\\000000031296.jpg'\n",
      "\u001b[34m\u001b[1mval: \u001b[0mWARNING ⚠️ C:\\Users\\cwky\\datasets\\coco\\images\\val2017\\000000031735.jpg: ignoring corrupt image/label: [Errno 2] No such file or directory: 'C:\\\\Users\\\\cwky\\\\datasets\\\\coco\\\\images\\\\val2017\\\\000000031735.jpg'\n",
      "\u001b[34m\u001b[1mval: \u001b[0mWARNING ⚠️ C:\\Users\\cwky\\datasets\\coco\\images\\val2017\\000000031817.jpg: ignoring corrupt image/label: [Errno 2] No such file or directory: 'C:\\\\Users\\\\cwky\\\\datasets\\\\coco\\\\images\\\\val2017\\\\000000031817.jpg'\n",
      "\u001b[34m\u001b[1mval: \u001b[0mWARNING ⚠️ C:\\Users\\cwky\\datasets\\coco\\images\\val2017\\000000032817.jpg: ignoring corrupt image/label: [Errno 2] No such file or directory: 'C:\\\\Users\\\\cwky\\\\datasets\\\\coco\\\\images\\\\val2017\\\\000000032817.jpg'\n",
      "\u001b[34m\u001b[1mval: \u001b[0mWARNING ⚠️ C:\\Users\\cwky\\datasets\\coco\\images\\val2017\\000000032941.jpg: ignoring corrupt image/label: [Errno 2] No such file or directory: 'C:\\\\Users\\\\cwky\\\\datasets\\\\coco\\\\images\\\\val2017\\\\000000032941.jpg'\n",
      "\u001b[34m\u001b[1mval: \u001b[0mWARNING ⚠️ C:\\Users\\cwky\\datasets\\coco\\images\\val2017\\000000033005.jpg: ignoring corrupt image/label: [Errno 2] No such file or directory: 'C:\\\\Users\\\\cwky\\\\datasets\\\\coco\\\\images\\\\val2017\\\\000000033005.jpg'\n",
      "\u001b[34m\u001b[1mval: \u001b[0mWARNING ⚠️ C:\\Users\\cwky\\datasets\\coco\\images\\val2017\\000000033109.jpg: ignoring corrupt image/label: [Errno 2] No such file or directory: 'C:\\\\Users\\\\cwky\\\\datasets\\\\coco\\\\images\\\\val2017\\\\000000033109.jpg'\n",
      "\u001b[34m\u001b[1mval: \u001b[0mWARNING ⚠️ C:\\Users\\cwky\\datasets\\coco\\images\\val2017\\000000033221.jpg: ignoring corrupt image/label: [Errno 2] No such file or directory: 'C:\\\\Users\\\\cwky\\\\datasets\\\\coco\\\\images\\\\val2017\\\\000000033221.jpg'\n",
      "\u001b[34m\u001b[1mval: \u001b[0mWARNING ⚠️ C:\\Users\\cwky\\datasets\\coco\\images\\val2017\\000000033707.jpg: ignoring corrupt image/label: [Errno 2] No such file or directory: 'C:\\\\Users\\\\cwky\\\\datasets\\\\coco\\\\images\\\\val2017\\\\000000033707.jpg'\n",
      "\u001b[34m\u001b[1mval: \u001b[0mWARNING ⚠️ C:\\Users\\cwky\\datasets\\coco\\images\\val2017\\000000033759.jpg: ignoring corrupt image/label: [Errno 2] No such file or directory: 'C:\\\\Users\\\\cwky\\\\datasets\\\\coco\\\\images\\\\val2017\\\\000000033759.jpg'\n",
      "\u001b[34m\u001b[1mval: \u001b[0mWARNING ⚠️ C:\\Users\\cwky\\datasets\\coco\\images\\val2017\\000000034257.jpg: ignoring corrupt image/label: [Errno 2] No such file or directory: 'C:\\\\Users\\\\cwky\\\\datasets\\\\coco\\\\images\\\\val2017\\\\000000034257.jpg'\n",
      "\u001b[34m\u001b[1mval: \u001b[0mWARNING ⚠️ C:\\Users\\cwky\\datasets\\coco\\images\\val2017\\000000034417.jpg: ignoring corrupt image/label: [Errno 2] No such file or directory: 'C:\\\\Users\\\\cwky\\\\datasets\\\\coco\\\\images\\\\val2017\\\\000000034417.jpg'\n",
      "\u001b[34m\u001b[1mval: \u001b[0mWARNING ⚠️ C:\\Users\\cwky\\datasets\\coco\\images\\val2017\\000000034873.jpg: ignoring corrupt image/label: [Errno 2] No such file or directory: 'C:\\\\Users\\\\cwky\\\\datasets\\\\coco\\\\images\\\\val2017\\\\000000034873.jpg'\n",
      "\u001b[34m\u001b[1mval: \u001b[0mWARNING ⚠️ C:\\Users\\cwky\\datasets\\coco\\images\\val2017\\000000035062.jpg: ignoring corrupt image/label: [Errno 2] No such file or directory: 'C:\\\\Users\\\\cwky\\\\datasets\\\\coco\\\\images\\\\val2017\\\\000000035062.jpg'\n",
      "\u001b[34m\u001b[1mval: \u001b[0mWARNING ⚠️ C:\\Users\\cwky\\datasets\\coco\\images\\val2017\\000000035197.jpg: ignoring corrupt image/label: [Errno 2] No such file or directory: 'C:\\\\Users\\\\cwky\\\\datasets\\\\coco\\\\images\\\\val2017\\\\000000035197.jpg'\n",
      "\u001b[34m\u001b[1mval: \u001b[0mWARNING ⚠️ C:\\Users\\cwky\\datasets\\coco\\images\\val2017\\000000035279.jpg: ignoring corrupt image/label: [Errno 2] No such file or directory: 'C:\\\\Users\\\\cwky\\\\datasets\\\\coco\\\\images\\\\val2017\\\\000000035279.jpg'\n",
      "\u001b[34m\u001b[1mval: \u001b[0mWARNING ⚠️ C:\\Users\\cwky\\datasets\\coco\\images\\val2017\\000000035326.jpg: ignoring corrupt image/label: [Errno 2] No such file or directory: 'C:\\\\Users\\\\cwky\\\\datasets\\\\coco\\\\images\\\\val2017\\\\000000035326.jpg'\n",
      "\u001b[34m\u001b[1mval: \u001b[0mWARNING ⚠️ C:\\Users\\cwky\\datasets\\coco\\images\\val2017\\000000036678.jpg: ignoring corrupt image/label: [Errno 2] No such file or directory: 'C:\\\\Users\\\\cwky\\\\datasets\\\\coco\\\\images\\\\val2017\\\\000000036678.jpg'\n",
      "\u001b[34m\u001b[1mval: \u001b[0mWARNING ⚠️ C:\\Users\\cwky\\datasets\\coco\\images\\val2017\\000000036861.jpg: ignoring corrupt image/label: [Errno 2] No such file or directory: 'C:\\\\Users\\\\cwky\\\\datasets\\\\coco\\\\images\\\\val2017\\\\000000036861.jpg'\n",
      "\u001b[34m\u001b[1mval: \u001b[0mWARNING ⚠️ C:\\Users\\cwky\\datasets\\coco\\images\\val2017\\000000037670.jpg: ignoring corrupt image/label: [Errno 2] No such file or directory: 'C:\\\\Users\\\\cwky\\\\datasets\\\\coco\\\\images\\\\val2017\\\\000000037670.jpg'\n",
      "\u001b[34m\u001b[1mval: \u001b[0mWARNING ⚠️ C:\\Users\\cwky\\datasets\\coco\\images\\val2017\\000000037689.jpg: ignoring corrupt image/label: [Errno 2] No such file or directory: 'C:\\\\Users\\\\cwky\\\\datasets\\\\coco\\\\images\\\\val2017\\\\000000037689.jpg'\n",
      "\u001b[34m\u001b[1mval: \u001b[0mWARNING ⚠️ C:\\Users\\cwky\\datasets\\coco\\images\\val2017\\000000037740.jpg: ignoring corrupt image/label: [Errno 2] No such file or directory: 'C:\\\\Users\\\\cwky\\\\datasets\\\\coco\\\\images\\\\val2017\\\\000000037740.jpg'\n",
      "\u001b[34m\u001b[1mval: \u001b[0mWARNING ⚠️ C:\\Users\\cwky\\datasets\\coco\\images\\val2017\\000000038048.jpg: ignoring corrupt image/label: [Errno 2] No such file or directory: 'C:\\\\Users\\\\cwky\\\\datasets\\\\coco\\\\images\\\\val2017\\\\000000038048.jpg'\n",
      "\u001b[34m\u001b[1mval: \u001b[0mWARNING ⚠️ C:\\Users\\cwky\\datasets\\coco\\images\\val2017\\000000038118.jpg: ignoring corrupt image/label: [Errno 2] No such file or directory: 'C:\\\\Users\\\\cwky\\\\datasets\\\\coco\\\\images\\\\val2017\\\\000000038118.jpg'\n",
      "\u001b[34m\u001b[1mval: \u001b[0mWARNING ⚠️ C:\\Users\\cwky\\datasets\\coco\\images\\val2017\\000000039477.jpg: ignoring corrupt image/label: [Errno 2] No such file or directory: 'C:\\\\Users\\\\cwky\\\\datasets\\\\coco\\\\images\\\\val2017\\\\000000039477.jpg'\n",
      "\u001b[34m\u001b[1mval: \u001b[0mWARNING ⚠️ C:\\Users\\cwky\\datasets\\coco\\images\\val2017\\000000039785.jpg: ignoring corrupt image/label: [Errno 2] No such file or directory: 'C:\\\\Users\\\\cwky\\\\datasets\\\\coco\\\\images\\\\val2017\\\\000000039785.jpg'\n",
      "\u001b[34m\u001b[1mval: \u001b[0mWARNING ⚠️ C:\\Users\\cwky\\datasets\\coco\\images\\val2017\\000000039914.jpg: ignoring corrupt image/label: [Errno 2] No such file or directory: 'C:\\\\Users\\\\cwky\\\\datasets\\\\coco\\\\images\\\\val2017\\\\000000039914.jpg'\n",
      "\u001b[34m\u001b[1mval: \u001b[0mWARNING ⚠️ C:\\Users\\cwky\\datasets\\coco\\images\\val2017\\000000039951.jpg: ignoring corrupt image/label: [Errno 2] No such file or directory: 'C:\\\\Users\\\\cwky\\\\datasets\\\\coco\\\\images\\\\val2017\\\\000000039951.jpg'\n",
      "\u001b[34m\u001b[1mval: \u001b[0mWARNING ⚠️ C:\\Users\\cwky\\datasets\\coco\\images\\val2017\\000000040471.jpg: ignoring corrupt image/label: [Errno 2] No such file or directory: 'C:\\\\Users\\\\cwky\\\\datasets\\\\coco\\\\images\\\\val2017\\\\000000040471.jpg'\n",
      "\u001b[34m\u001b[1mval: \u001b[0mWARNING ⚠️ C:\\Users\\cwky\\datasets\\coco\\images\\val2017\\000000041635.jpg: ignoring corrupt image/label: [Errno 2] No such file or directory: 'C:\\\\Users\\\\cwky\\\\datasets\\\\coco\\\\images\\\\val2017\\\\000000041635.jpg'\n",
      "\u001b[34m\u001b[1mval: \u001b[0mWARNING ⚠️ C:\\Users\\cwky\\datasets\\coco\\images\\val2017\\000000041888.jpg: ignoring corrupt image/label: [Errno 2] No such file or directory: 'C:\\\\Users\\\\cwky\\\\datasets\\\\coco\\\\images\\\\val2017\\\\000000041888.jpg'\n",
      "\u001b[34m\u001b[1mval: \u001b[0mWARNING ⚠️ C:\\Users\\cwky\\datasets\\coco\\images\\val2017\\000000042070.jpg: ignoring corrupt image/label: [Errno 2] No such file or directory: 'C:\\\\Users\\\\cwky\\\\datasets\\\\coco\\\\images\\\\val2017\\\\000000042070.jpg'\n",
      "\u001b[34m\u001b[1mval: \u001b[0mWARNING ⚠️ C:\\Users\\cwky\\datasets\\coco\\images\\val2017\\000000042563.jpg: ignoring corrupt image/label: [Errno 2] No such file or directory: 'C:\\\\Users\\\\cwky\\\\datasets\\\\coco\\\\images\\\\val2017\\\\000000042563.jpg'\n",
      "\u001b[34m\u001b[1mval: \u001b[0mWARNING ⚠️ C:\\Users\\cwky\\datasets\\coco\\images\\val2017\\000000042888.jpg: ignoring corrupt image/label: [Errno 2] No such file or directory: 'C:\\\\Users\\\\cwky\\\\datasets\\\\coco\\\\images\\\\val2017\\\\000000042888.jpg'\n",
      "\u001b[34m\u001b[1mval: \u001b[0mWARNING ⚠️ C:\\Users\\cwky\\datasets\\coco\\images\\val2017\\000000043314.jpg: ignoring corrupt image/label: [Errno 2] No such file or directory: 'C:\\\\Users\\\\cwky\\\\datasets\\\\coco\\\\images\\\\val2017\\\\000000043314.jpg'\n",
      "\u001b[34m\u001b[1mval: \u001b[0mWARNING ⚠️ C:\\Users\\cwky\\datasets\\coco\\images\\val2017\\000000043435.jpg: ignoring corrupt image/label: [Errno 2] No such file or directory: 'C:\\\\Users\\\\cwky\\\\datasets\\\\coco\\\\images\\\\val2017\\\\000000043435.jpg'\n",
      "\u001b[34m\u001b[1mval: \u001b[0mWARNING ⚠️ C:\\Users\\cwky\\datasets\\coco\\images\\val2017\\000000043581.jpg: ignoring corrupt image/label: [Errno 2] No such file or directory: 'C:\\\\Users\\\\cwky\\\\datasets\\\\coco\\\\images\\\\val2017\\\\000000043581.jpg'\n",
      "\u001b[34m\u001b[1mval: \u001b[0mWARNING ⚠️ C:\\Users\\cwky\\datasets\\coco\\images\\val2017\\000000043816.jpg: ignoring corrupt image/label: [Errno 2] No such file or directory: 'C:\\\\Users\\\\cwky\\\\datasets\\\\coco\\\\images\\\\val2017\\\\000000043816.jpg'\n",
      "\u001b[34m\u001b[1mval: \u001b[0mWARNING ⚠️ C:\\Users\\cwky\\datasets\\coco\\images\\val2017\\000000044279.jpg: ignoring corrupt image/label: [Errno 2] No such file or directory: 'C:\\\\Users\\\\cwky\\\\datasets\\\\coco\\\\images\\\\val2017\\\\000000044279.jpg'\n",
      "\u001b[34m\u001b[1mval: \u001b[0mWARNING ⚠️ C:\\Users\\cwky\\datasets\\coco\\images\\val2017\\000000044652.jpg: ignoring corrupt image/label: [Errno 2] No such file or directory: 'C:\\\\Users\\\\cwky\\\\datasets\\\\coco\\\\images\\\\val2017\\\\000000044652.jpg'\n",
      "\u001b[34m\u001b[1mval: \u001b[0mWARNING ⚠️ C:\\Users\\cwky\\datasets\\coco\\images\\val2017\\000000044877.jpg: ignoring corrupt image/label: [Errno 2] No such file or directory: 'C:\\\\Users\\\\cwky\\\\datasets\\\\coco\\\\images\\\\val2017\\\\000000044877.jpg'\n",
      "\u001b[34m\u001b[1mval: \u001b[0mWARNING ⚠️ C:\\Users\\cwky\\datasets\\coco\\images\\val2017\\000000045229.jpg: ignoring corrupt image/label: [Errno 2] No such file or directory: 'C:\\\\Users\\\\cwky\\\\datasets\\\\coco\\\\images\\\\val2017\\\\000000045229.jpg'\n",
      "\u001b[34m\u001b[1mval: \u001b[0mWARNING ⚠️ C:\\Users\\cwky\\datasets\\coco\\images\\val2017\\000000045596.jpg: ignoring corrupt image/label: [Errno 2] No such file or directory: 'C:\\\\Users\\\\cwky\\\\datasets\\\\coco\\\\images\\\\val2017\\\\000000045596.jpg'\n",
      "\u001b[34m\u001b[1mval: \u001b[0mWARNING ⚠️ C:\\Users\\cwky\\datasets\\coco\\images\\val2017\\000000046031.jpg: ignoring corrupt image/label: [Errno 2] No such file or directory: 'C:\\\\Users\\\\cwky\\\\datasets\\\\coco\\\\images\\\\val2017\\\\000000046031.jpg'\n",
      "\u001b[34m\u001b[1mval: \u001b[0mWARNING ⚠️ C:\\Users\\cwky\\datasets\\coco\\images\\val2017\\000000047010.jpg: ignoring corrupt image/label: [Errno 2] No such file or directory: 'C:\\\\Users\\\\cwky\\\\datasets\\\\coco\\\\images\\\\val2017\\\\000000047010.jpg'\n",
      "\u001b[34m\u001b[1mval: \u001b[0mWARNING ⚠️ C:\\Users\\cwky\\datasets\\coco\\images\\val2017\\000000047585.jpg: ignoring corrupt image/label: [Errno 2] No such file or directory: 'C:\\\\Users\\\\cwky\\\\datasets\\\\coco\\\\images\\\\val2017\\\\000000047585.jpg'\n",
      "\u001b[34m\u001b[1mval: \u001b[0mWARNING ⚠️ C:\\Users\\cwky\\datasets\\coco\\images\\val2017\\000000047740.jpg: ignoring corrupt image/label: [Errno 2] No such file or directory: 'C:\\\\Users\\\\cwky\\\\datasets\\\\coco\\\\images\\\\val2017\\\\000000047740.jpg'\n",
      "\u001b[34m\u001b[1mval: \u001b[0mWARNING ⚠️ C:\\Users\\cwky\\datasets\\coco\\images\\val2017\\000000047801.jpg: ignoring corrupt image/label: [Errno 2] No such file or directory: 'C:\\\\Users\\\\cwky\\\\datasets\\\\coco\\\\images\\\\val2017\\\\000000047801.jpg'\n",
      "\u001b[34m\u001b[1mval: \u001b[0mWARNING ⚠️ C:\\Users\\cwky\\datasets\\coco\\images\\val2017\\000000047819.jpg: ignoring corrupt image/label: [Errno 2] No such file or directory: 'C:\\\\Users\\\\cwky\\\\datasets\\\\coco\\\\images\\\\val2017\\\\000000047819.jpg'\n",
      "\u001b[34m\u001b[1mval: \u001b[0mWARNING ⚠️ C:\\Users\\cwky\\datasets\\coco\\images\\val2017\\000000048504.jpg: ignoring corrupt image/label: [Errno 2] No such file or directory: 'C:\\\\Users\\\\cwky\\\\datasets\\\\coco\\\\images\\\\val2017\\\\000000048504.jpg'\n",
      "\u001b[34m\u001b[1mval: \u001b[0mWARNING ⚠️ C:\\Users\\cwky\\datasets\\coco\\images\\val2017\\000000048564.jpg: ignoring corrupt image/label: [Errno 2] No such file or directory: 'C:\\\\Users\\\\cwky\\\\datasets\\\\coco\\\\images\\\\val2017\\\\000000048564.jpg'\n",
      "\u001b[34m\u001b[1mval: \u001b[0mWARNING ⚠️ C:\\Users\\cwky\\datasets\\coco\\images\\val2017\\000000048924.jpg: ignoring corrupt image/label: [Errno 2] No such file or directory: 'C:\\\\Users\\\\cwky\\\\datasets\\\\coco\\\\images\\\\val2017\\\\000000048924.jpg'\n",
      "\u001b[34m\u001b[1mval: \u001b[0mWARNING ⚠️ C:\\Users\\cwky\\datasets\\coco\\images\\val2017\\000000049060.jpg: ignoring corrupt image/label: [Errno 2] No such file or directory: 'C:\\\\Users\\\\cwky\\\\datasets\\\\coco\\\\images\\\\val2017\\\\000000049060.jpg'\n",
      "\u001b[34m\u001b[1mval: \u001b[0mWARNING ⚠️ C:\\Users\\cwky\\datasets\\coco\\images\\val2017\\000000049259.jpg: ignoring corrupt image/label: [Errno 2] No such file or directory: 'C:\\\\Users\\\\cwky\\\\datasets\\\\coco\\\\images\\\\val2017\\\\000000049259.jpg'\n",
      "\u001b[34m\u001b[1mval: \u001b[0mWARNING ⚠️ C:\\Users\\cwky\\datasets\\coco\\images\\val2017\\000000049269.jpg: ignoring corrupt image/label: [Errno 2] No such file or directory: 'C:\\\\Users\\\\cwky\\\\datasets\\\\coco\\\\images\\\\val2017\\\\000000049269.jpg'\n",
      "\u001b[34m\u001b[1mval: \u001b[0mWARNING ⚠️ C:\\Users\\cwky\\datasets\\coco\\images\\val2017\\000000049761.jpg: ignoring corrupt image/label: [Errno 2] No such file or directory: 'C:\\\\Users\\\\cwky\\\\datasets\\\\coco\\\\images\\\\val2017\\\\000000049761.jpg'\n",
      "\u001b[34m\u001b[1mval: \u001b[0mWARNING ⚠️ C:\\Users\\cwky\\datasets\\coco\\images\\val2017\\000000050145.jpg: ignoring corrupt image/label: [Errno 2] No such file or directory: 'C:\\\\Users\\\\cwky\\\\datasets\\\\coco\\\\images\\\\val2017\\\\000000050145.jpg'\n",
      "\u001b[34m\u001b[1mval: \u001b[0mWARNING ⚠️ C:\\Users\\cwky\\datasets\\coco\\images\\val2017\\000000050165.jpg: ignoring corrupt image/label: [Errno 2] No such file or directory: 'C:\\\\Users\\\\cwky\\\\datasets\\\\coco\\\\images\\\\val2017\\\\000000050165.jpg'\n",
      "\u001b[34m\u001b[1mval: \u001b[0mWARNING ⚠️ C:\\Users\\cwky\\datasets\\coco\\images\\val2017\\000000050380.jpg: ignoring corrupt image/label: [Errno 2] No such file or directory: 'C:\\\\Users\\\\cwky\\\\datasets\\\\coco\\\\images\\\\val2017\\\\000000050380.jpg'\n",
      "\u001b[34m\u001b[1mval: \u001b[0mWARNING ⚠️ C:\\Users\\cwky\\datasets\\coco\\images\\val2017\\000000051314.jpg: ignoring corrupt image/label: [Errno 2] No such file or directory: 'C:\\\\Users\\\\cwky\\\\datasets\\\\coco\\\\images\\\\val2017\\\\000000051314.jpg'\n",
      "\u001b[34m\u001b[1mval: \u001b[0mWARNING ⚠️ C:\\Users\\cwky\\datasets\\coco\\images\\val2017\\000000051326.jpg: ignoring corrupt image/label: [Errno 2] No such file or directory: 'C:\\\\Users\\\\cwky\\\\datasets\\\\coco\\\\images\\\\val2017\\\\000000051326.jpg'\n",
      "\u001b[34m\u001b[1mval: \u001b[0mWARNING ⚠️ C:\\Users\\cwky\\datasets\\coco\\images\\val2017\\000000051961.jpg: ignoring corrupt image/label: [Errno 2] No such file or directory: 'C:\\\\Users\\\\cwky\\\\datasets\\\\coco\\\\images\\\\val2017\\\\000000051961.jpg'\n",
      "\u001b[34m\u001b[1mval: \u001b[0mWARNING ⚠️ C:\\Users\\cwky\\datasets\\coco\\images\\val2017\\000000052017.jpg: ignoring corrupt image/label: [Errno 2] No such file or directory: 'C:\\\\Users\\\\cwky\\\\datasets\\\\coco\\\\images\\\\val2017\\\\000000052017.jpg'\n",
      "\u001b[34m\u001b[1mval: \u001b[0mWARNING ⚠️ C:\\Users\\cwky\\datasets\\coco\\images\\val2017\\000000052412.jpg: ignoring corrupt image/label: [Errno 2] No such file or directory: 'C:\\\\Users\\\\cwky\\\\datasets\\\\coco\\\\images\\\\val2017\\\\000000052412.jpg'\n",
      "\u001b[34m\u001b[1mval: \u001b[0mWARNING ⚠️ C:\\Users\\cwky\\datasets\\coco\\images\\val2017\\000000052507.jpg: ignoring corrupt image/label: [Errno 2] No such file or directory: 'C:\\\\Users\\\\cwky\\\\datasets\\\\coco\\\\images\\\\val2017\\\\000000052507.jpg'\n",
      "\u001b[34m\u001b[1mval: \u001b[0mWARNING ⚠️ C:\\Users\\cwky\\datasets\\coco\\images\\val2017\\000000052565.jpg: ignoring corrupt image/label: [Errno 2] No such file or directory: 'C:\\\\Users\\\\cwky\\\\datasets\\\\coco\\\\images\\\\val2017\\\\000000052565.jpg'\n",
      "\u001b[34m\u001b[1mval: \u001b[0mWARNING ⚠️ C:\\Users\\cwky\\datasets\\coco\\images\\val2017\\000000053505.jpg: ignoring corrupt image/label: [Errno 2] No such file or directory: 'C:\\\\Users\\\\cwky\\\\datasets\\\\coco\\\\images\\\\val2017\\\\000000053505.jpg'\n",
      "\u001b[34m\u001b[1mval: \u001b[0mWARNING ⚠️ C:\\Users\\cwky\\datasets\\coco\\images\\val2017\\000000053529.jpg: ignoring corrupt image/label: [Errno 2] No such file or directory: 'C:\\\\Users\\\\cwky\\\\datasets\\\\coco\\\\images\\\\val2017\\\\000000053529.jpg'\n",
      "\u001b[34m\u001b[1mval: \u001b[0mWARNING ⚠️ C:\\Users\\cwky\\datasets\\coco\\images\\val2017\\000000053624.jpg: ignoring corrupt image/label: [Errno 2] No such file or directory: 'C:\\\\Users\\\\cwky\\\\datasets\\\\coco\\\\images\\\\val2017\\\\000000053624.jpg'\n",
      "\u001b[34m\u001b[1mval: \u001b[0mWARNING ⚠️ C:\\Users\\cwky\\datasets\\coco\\images\\val2017\\000000053626.jpg: ignoring corrupt image/label: [Errno 2] No such file or directory: 'C:\\\\Users\\\\cwky\\\\datasets\\\\coco\\\\images\\\\val2017\\\\000000053626.jpg'\n",
      "\u001b[34m\u001b[1mval: \u001b[0mWARNING ⚠️ C:\\Users\\cwky\\datasets\\coco\\images\\val2017\\000000053909.jpg: ignoring corrupt image/label: [Errno 2] No such file or directory: 'C:\\\\Users\\\\cwky\\\\datasets\\\\coco\\\\images\\\\val2017\\\\000000053909.jpg'\n",
      "\u001b[34m\u001b[1mval: \u001b[0mWARNING ⚠️ C:\\Users\\cwky\\datasets\\coco\\images\\val2017\\000000053994.jpg: ignoring corrupt image/label: [Errno 2] No such file or directory: 'C:\\\\Users\\\\cwky\\\\datasets\\\\coco\\\\images\\\\val2017\\\\000000053994.jpg'\n",
      "\u001b[34m\u001b[1mval: \u001b[0mWARNING ⚠️ C:\\Users\\cwky\\datasets\\coco\\images\\val2017\\000000054123.jpg: ignoring corrupt image/label: [Errno 2] No such file or directory: 'C:\\\\Users\\\\cwky\\\\datasets\\\\coco\\\\images\\\\val2017\\\\000000054123.jpg'\n",
      "\u001b[34m\u001b[1mval: \u001b[0mWARNING ⚠️ C:\\Users\\cwky\\datasets\\coco\\images\\val2017\\000000054164.jpg: ignoring corrupt image/label: [Errno 2] No such file or directory: 'C:\\\\Users\\\\cwky\\\\datasets\\\\coco\\\\images\\\\val2017\\\\000000054164.jpg'\n",
      "\u001b[34m\u001b[1mval: \u001b[0mWARNING ⚠️ C:\\Users\\cwky\\datasets\\coco\\images\\val2017\\000000054605.jpg: ignoring corrupt image/label: [Errno 2] No such file or directory: 'C:\\\\Users\\\\cwky\\\\datasets\\\\coco\\\\images\\\\val2017\\\\000000054605.jpg'\n",
      "\u001b[34m\u001b[1mval: \u001b[0mWARNING ⚠️ C:\\Users\\cwky\\datasets\\coco\\images\\val2017\\000000054654.jpg: ignoring corrupt image/label: [Errno 2] No such file or directory: 'C:\\\\Users\\\\cwky\\\\datasets\\\\coco\\\\images\\\\val2017\\\\000000054654.jpg'\n",
      "\u001b[34m\u001b[1mval: \u001b[0mWARNING ⚠️ C:\\Users\\cwky\\datasets\\coco\\images\\val2017\\000000054931.jpg: ignoring corrupt image/label: [Errno 2] No such file or directory: 'C:\\\\Users\\\\cwky\\\\datasets\\\\coco\\\\images\\\\val2017\\\\000000054931.jpg'\n",
      "\u001b[34m\u001b[1mval: \u001b[0mWARNING ⚠️ C:\\Users\\cwky\\datasets\\coco\\images\\val2017\\000000055002.jpg: ignoring corrupt image/label: [Errno 2] No such file or directory: 'C:\\\\Users\\\\cwky\\\\datasets\\\\coco\\\\images\\\\val2017\\\\000000055002.jpg'\n",
      "\u001b[34m\u001b[1mval: \u001b[0mWARNING ⚠️ C:\\Users\\cwky\\datasets\\coco\\images\\val2017\\000000055022.jpg: ignoring corrupt image/label: [Errno 2] No such file or directory: 'C:\\\\Users\\\\cwky\\\\datasets\\\\coco\\\\images\\\\val2017\\\\000000055022.jpg'\n",
      "\u001b[34m\u001b[1mval: \u001b[0mWARNING ⚠️ C:\\Users\\cwky\\datasets\\coco\\images\\val2017\\000000055072.jpg: ignoring corrupt image/label: [Errno 2] No such file or directory: 'C:\\\\Users\\\\cwky\\\\datasets\\\\coco\\\\images\\\\val2017\\\\000000055072.jpg'\n",
      "\u001b[34m\u001b[1mval: \u001b[0mWARNING ⚠️ C:\\Users\\cwky\\datasets\\coco\\images\\val2017\\000000055299.jpg: ignoring corrupt image/label: [Errno 2] No such file or directory: 'C:\\\\Users\\\\cwky\\\\datasets\\\\coco\\\\images\\\\val2017\\\\000000055299.jpg'\n",
      "\u001b[34m\u001b[1mval: \u001b[0mWARNING ⚠️ C:\\Users\\cwky\\datasets\\coco\\images\\val2017\\000000056344.jpg: ignoring corrupt image/label: [Errno 2] No such file or directory: 'C:\\\\Users\\\\cwky\\\\datasets\\\\coco\\\\images\\\\val2017\\\\000000056344.jpg'\n",
      "\u001b[34m\u001b[1mval: \u001b[0mWARNING ⚠️ C:\\Users\\cwky\\datasets\\coco\\images\\val2017\\000000057150.jpg: ignoring corrupt image/label: [Errno 2] No such file or directory: 'C:\\\\Users\\\\cwky\\\\datasets\\\\coco\\\\images\\\\val2017\\\\000000057150.jpg'\n",
      "\u001b[34m\u001b[1mval: \u001b[0mWARNING ⚠️ C:\\Users\\cwky\\datasets\\coco\\images\\val2017\\000000057725.jpg: ignoring corrupt image/label: [Errno 2] No such file or directory: 'C:\\\\Users\\\\cwky\\\\datasets\\\\coco\\\\images\\\\val2017\\\\000000057725.jpg'\n",
      "\u001b[34m\u001b[1mval: \u001b[0mWARNING ⚠️ C:\\Users\\cwky\\datasets\\coco\\images\\val2017\\000000058029.jpg: ignoring corrupt image/label: [Errno 2] No such file or directory: 'C:\\\\Users\\\\cwky\\\\datasets\\\\coco\\\\images\\\\val2017\\\\000000058029.jpg'\n",
      "\u001b[34m\u001b[1mval: \u001b[0mWARNING ⚠️ C:\\Users\\cwky\\datasets\\coco\\images\\val2017\\000000058111.jpg: ignoring corrupt image/label: [Errno 2] No such file or directory: 'C:\\\\Users\\\\cwky\\\\datasets\\\\coco\\\\images\\\\val2017\\\\000000058111.jpg'\n",
      "\u001b[34m\u001b[1mval: \u001b[0mWARNING ⚠️ C:\\Users\\cwky\\datasets\\coco\\images\\val2017\\000000058350.jpg: ignoring corrupt image/label: [Errno 2] No such file or directory: 'C:\\\\Users\\\\cwky\\\\datasets\\\\coco\\\\images\\\\val2017\\\\000000058350.jpg'\n",
      "\u001b[34m\u001b[1mval: \u001b[0mWARNING ⚠️ C:\\Users\\cwky\\datasets\\coco\\images\\val2017\\000000058636.jpg: ignoring corrupt image/label: [Errno 2] No such file or directory: 'C:\\\\Users\\\\cwky\\\\datasets\\\\coco\\\\images\\\\val2017\\\\000000058636.jpg'\n",
      "\u001b[34m\u001b[1mval: \u001b[0mWARNING ⚠️ C:\\Users\\cwky\\datasets\\coco\\images\\val2017\\000000059044.jpg: ignoring corrupt image/label: [Errno 2] No such file or directory: 'C:\\\\Users\\\\cwky\\\\datasets\\\\coco\\\\images\\\\val2017\\\\000000059044.jpg'\n",
      "\u001b[34m\u001b[1mval: \u001b[0mWARNING ⚠️ C:\\Users\\cwky\\datasets\\coco\\images\\val2017\\000000059598.jpg: ignoring corrupt image/label: [Errno 2] No such file or directory: 'C:\\\\Users\\\\cwky\\\\datasets\\\\coco\\\\images\\\\val2017\\\\000000059598.jpg'\n",
      "\u001b[34m\u001b[1mval: \u001b[0mWARNING ⚠️ C:\\Users\\cwky\\datasets\\coco\\images\\val2017\\000000060052.jpg: ignoring corrupt image/label: [Errno 2] No such file or directory: 'C:\\\\Users\\\\cwky\\\\datasets\\\\coco\\\\images\\\\val2017\\\\000000060052.jpg'\n",
      "\u001b[34m\u001b[1mval: \u001b[0mWARNING ⚠️ C:\\Users\\cwky\\datasets\\coco\\images\\val2017\\000000060102.jpg: ignoring corrupt image/label: [Errno 2] No such file or directory: 'C:\\\\Users\\\\cwky\\\\datasets\\\\coco\\\\images\\\\val2017\\\\000000060102.jpg'\n",
      "\u001b[34m\u001b[1mval: \u001b[0mWARNING ⚠️ C:\\Users\\cwky\\datasets\\coco\\images\\val2017\\000000060507.jpg: ignoring corrupt image/label: [Errno 2] No such file or directory: 'C:\\\\Users\\\\cwky\\\\datasets\\\\coco\\\\images\\\\val2017\\\\000000060507.jpg'\n",
      "\u001b[34m\u001b[1mval: \u001b[0mWARNING ⚠️ C:\\Users\\cwky\\datasets\\coco\\images\\val2017\\000000060855.jpg: ignoring corrupt image/label: [Errno 2] No such file or directory: 'C:\\\\Users\\\\cwky\\\\datasets\\\\coco\\\\images\\\\val2017\\\\000000060855.jpg'\n",
      "\u001b[34m\u001b[1mval: \u001b[0mWARNING ⚠️ C:\\Users\\cwky\\datasets\\coco\\images\\val2017\\000000060886.jpg: ignoring corrupt image/label: [Errno 2] No such file or directory: 'C:\\\\Users\\\\cwky\\\\datasets\\\\coco\\\\images\\\\val2017\\\\000000060886.jpg'\n",
      "\u001b[34m\u001b[1mval: \u001b[0mWARNING ⚠️ C:\\Users\\cwky\\datasets\\coco\\images\\val2017\\000000061171.jpg: ignoring corrupt image/label: [Errno 2] No such file or directory: 'C:\\\\Users\\\\cwky\\\\datasets\\\\coco\\\\images\\\\val2017\\\\000000061171.jpg'\n",
      "\u001b[34m\u001b[1mval: \u001b[0mWARNING ⚠️ C:\\Users\\cwky\\datasets\\coco\\images\\val2017\\000000061960.jpg: ignoring corrupt image/label: [Errno 2] No such file or directory: 'C:\\\\Users\\\\cwky\\\\datasets\\\\coco\\\\images\\\\val2017\\\\000000061960.jpg'\n",
      "\u001b[34m\u001b[1mval: \u001b[0mWARNING ⚠️ C:\\Users\\cwky\\datasets\\coco\\images\\val2017\\000000062025.jpg: ignoring corrupt image/label: [Errno 2] No such file or directory: 'C:\\\\Users\\\\cwky\\\\datasets\\\\coco\\\\images\\\\val2017\\\\000000062025.jpg'\n",
      "\u001b[34m\u001b[1mval: \u001b[0mWARNING ⚠️ C:\\Users\\cwky\\datasets\\coco\\images\\val2017\\000000062355.jpg: ignoring corrupt image/label: [Errno 2] No such file or directory: 'C:\\\\Users\\\\cwky\\\\datasets\\\\coco\\\\images\\\\val2017\\\\000000062355.jpg'\n",
      "\u001b[34m\u001b[1mval: \u001b[0mWARNING ⚠️ C:\\Users\\cwky\\datasets\\coco\\images\\val2017\\000000062692.jpg: ignoring corrupt image/label: [Errno 2] No such file or directory: 'C:\\\\Users\\\\cwky\\\\datasets\\\\coco\\\\images\\\\val2017\\\\000000062692.jpg'\n",
      "\u001b[34m\u001b[1mval: \u001b[0mWARNING ⚠️ C:\\Users\\cwky\\datasets\\coco\\images\\val2017\\000000063047.jpg: ignoring corrupt image/label: [Errno 2] No such file or directory: 'C:\\\\Users\\\\cwky\\\\datasets\\\\coco\\\\images\\\\val2017\\\\000000063047.jpg'\n",
      "\u001b[34m\u001b[1mval: \u001b[0mWARNING ⚠️ C:\\Users\\cwky\\datasets\\coco\\images\\val2017\\000000063154.jpg: ignoring corrupt image/label: [Errno 2] No such file or directory: 'C:\\\\Users\\\\cwky\\\\datasets\\\\coco\\\\images\\\\val2017\\\\000000063154.jpg'\n",
      "\u001b[34m\u001b[1mval: \u001b[0mWARNING ⚠️ C:\\Users\\cwky\\datasets\\coco\\images\\val2017\\000000063602.jpg: ignoring corrupt image/label: [Errno 2] No such file or directory: 'C:\\\\Users\\\\cwky\\\\datasets\\\\coco\\\\images\\\\val2017\\\\000000063602.jpg'\n",
      "\u001b[34m\u001b[1mval: \u001b[0mWARNING ⚠️ C:\\Users\\cwky\\datasets\\coco\\images\\val2017\\000000063740.jpg: ignoring corrupt image/label: [Errno 2] No such file or directory: 'C:\\\\Users\\\\cwky\\\\datasets\\\\coco\\\\images\\\\val2017\\\\000000063740.jpg'\n",
      "\u001b[34m\u001b[1mval: \u001b[0mWARNING ⚠️ C:\\Users\\cwky\\datasets\\coco\\images\\val2017\\000000064523.jpg: ignoring corrupt image/label: [Errno 2] No such file or directory: 'C:\\\\Users\\\\cwky\\\\datasets\\\\coco\\\\images\\\\val2017\\\\000000064523.jpg'\n",
      "\u001b[34m\u001b[1mval: \u001b[0mWARNING ⚠️ C:\\Users\\cwky\\datasets\\coco\\images\\val2017\\000000064574.jpg: ignoring corrupt image/label: [Errno 2] No such file or directory: 'C:\\\\Users\\\\cwky\\\\datasets\\\\coco\\\\images\\\\val2017\\\\000000064574.jpg'\n",
      "\u001b[34m\u001b[1mval: \u001b[0mWARNING ⚠️ C:\\Users\\cwky\\datasets\\coco\\images\\val2017\\000000064898.jpg: ignoring corrupt image/label: [Errno 2] No such file or directory: 'C:\\\\Users\\\\cwky\\\\datasets\\\\coco\\\\images\\\\val2017\\\\000000064898.jpg'\n",
      "\u001b[34m\u001b[1mval: \u001b[0mWARNING ⚠️ C:\\Users\\cwky\\datasets\\coco\\images\\val2017\\000000065485.jpg: ignoring corrupt image/label: [Errno 2] No such file or directory: 'C:\\\\Users\\\\cwky\\\\datasets\\\\coco\\\\images\\\\val2017\\\\000000065485.jpg'\n",
      "\u001b[34m\u001b[1mval: \u001b[0mWARNING ⚠️ C:\\Users\\cwky\\datasets\\coco\\images\\val2017\\000000065736.jpg: ignoring corrupt image/label: [Errno 2] No such file or directory: 'C:\\\\Users\\\\cwky\\\\datasets\\\\coco\\\\images\\\\val2017\\\\000000065736.jpg'\n",
      "\u001b[34m\u001b[1mval: \u001b[0mWARNING ⚠️ C:\\Users\\cwky\\datasets\\coco\\images\\val2017\\000000065798.jpg: ignoring corrupt image/label: [Errno 2] No such file or directory: 'C:\\\\Users\\\\cwky\\\\datasets\\\\coco\\\\images\\\\val2017\\\\000000065798.jpg'\n",
      "\u001b[34m\u001b[1mval: \u001b[0mWARNING ⚠️ C:\\Users\\cwky\\datasets\\coco\\images\\val2017\\000000066231.jpg: ignoring corrupt image/label: [Errno 2] No such file or directory: 'C:\\\\Users\\\\cwky\\\\datasets\\\\coco\\\\images\\\\val2017\\\\000000066231.jpg'\n",
      "\u001b[34m\u001b[1mval: \u001b[0mWARNING ⚠️ C:\\Users\\cwky\\datasets\\coco\\images\\val2017\\000000066771.jpg: ignoring corrupt image/label: [Errno 2] No such file or directory: 'C:\\\\Users\\\\cwky\\\\datasets\\\\coco\\\\images\\\\val2017\\\\000000066771.jpg'\n",
      "\u001b[34m\u001b[1mval: \u001b[0mWARNING ⚠️ C:\\Users\\cwky\\datasets\\coco\\images\\val2017\\000000066926.jpg: ignoring corrupt image/label: [Errno 2] No such file or directory: 'C:\\\\Users\\\\cwky\\\\datasets\\\\coco\\\\images\\\\val2017\\\\000000066926.jpg'\n",
      "\u001b[34m\u001b[1mval: \u001b[0mWARNING ⚠️ C:\\Users\\cwky\\datasets\\coco\\images\\val2017\\000000067213.jpg: ignoring corrupt image/label: [Errno 2] No such file or directory: 'C:\\\\Users\\\\cwky\\\\datasets\\\\coco\\\\images\\\\val2017\\\\000000067213.jpg'\n",
      "\u001b[34m\u001b[1mval: \u001b[0mWARNING ⚠️ C:\\Users\\cwky\\datasets\\coco\\images\\val2017\\000000067315.jpg: ignoring corrupt image/label: [Errno 2] No such file or directory: 'C:\\\\Users\\\\cwky\\\\datasets\\\\coco\\\\images\\\\val2017\\\\000000067315.jpg'\n",
      "\u001b[34m\u001b[1mval: \u001b[0mWARNING ⚠️ C:\\Users\\cwky\\datasets\\coco\\images\\val2017\\000000067534.jpg: ignoring corrupt image/label: [Errno 2] No such file or directory: 'C:\\\\Users\\\\cwky\\\\datasets\\\\coco\\\\images\\\\val2017\\\\000000067534.jpg'\n",
      "\u001b[34m\u001b[1mval: \u001b[0mWARNING ⚠️ C:\\Users\\cwky\\datasets\\coco\\images\\val2017\\000000067616.jpg: ignoring corrupt image/label: [Errno 2] No such file or directory: 'C:\\\\Users\\\\cwky\\\\datasets\\\\coco\\\\images\\\\val2017\\\\000000067616.jpg'\n",
      "\u001b[34m\u001b[1mval: \u001b[0mWARNING ⚠️ C:\\Users\\cwky\\datasets\\coco\\images\\val2017\\000000068387.jpg: ignoring corrupt image/label: [Errno 2] No such file or directory: 'C:\\\\Users\\\\cwky\\\\datasets\\\\coco\\\\images\\\\val2017\\\\000000068387.jpg'\n",
      "\u001b[34m\u001b[1mval: \u001b[0mWARNING ⚠️ C:\\Users\\cwky\\datasets\\coco\\images\\val2017\\000000068409.jpg: ignoring corrupt image/label: [Errno 2] No such file or directory: 'C:\\\\Users\\\\cwky\\\\datasets\\\\coco\\\\images\\\\val2017\\\\000000068409.jpg'\n",
      "\u001b[34m\u001b[1mval: \u001b[0mWARNING ⚠️ C:\\Users\\cwky\\datasets\\coco\\images\\val2017\\000000068628.jpg: ignoring corrupt image/label: [Errno 2] No such file or directory: 'C:\\\\Users\\\\cwky\\\\datasets\\\\coco\\\\images\\\\val2017\\\\000000068628.jpg'\n",
      "\u001b[34m\u001b[1mval: \u001b[0mWARNING ⚠️ C:\\Users\\cwky\\datasets\\coco\\images\\val2017\\000000068833.jpg: ignoring corrupt image/label: [Errno 2] No such file or directory: 'C:\\\\Users\\\\cwky\\\\datasets\\\\coco\\\\images\\\\val2017\\\\000000068833.jpg'\n",
      "\u001b[34m\u001b[1mval: \u001b[0mWARNING ⚠️ C:\\Users\\cwky\\datasets\\coco\\images\\val2017\\000000069138.jpg: ignoring corrupt image/label: [Errno 2] No such file or directory: 'C:\\\\Users\\\\cwky\\\\datasets\\\\coco\\\\images\\\\val2017\\\\000000069138.jpg'\n",
      "\u001b[34m\u001b[1mval: \u001b[0mWARNING ⚠️ C:\\Users\\cwky\\datasets\\coco\\images\\val2017\\000000069213.jpg: ignoring corrupt image/label: [Errno 2] No such file or directory: 'C:\\\\Users\\\\cwky\\\\datasets\\\\coco\\\\images\\\\val2017\\\\000000069213.jpg'\n",
      "\u001b[34m\u001b[1mval: \u001b[0mWARNING ⚠️ C:\\Users\\cwky\\datasets\\coco\\images\\val2017\\000000069795.jpg: ignoring corrupt image/label: [Errno 2] No such file or directory: 'C:\\\\Users\\\\cwky\\\\datasets\\\\coco\\\\images\\\\val2017\\\\000000069795.jpg'\n",
      "\u001b[34m\u001b[1mval: \u001b[0mWARNING ⚠️ C:\\Users\\cwky\\datasets\\coco\\images\\val2017\\000000070774.jpg: ignoring corrupt image/label: [Errno 2] No such file or directory: 'C:\\\\Users\\\\cwky\\\\datasets\\\\coco\\\\images\\\\val2017\\\\000000070774.jpg'\n",
      "\u001b[34m\u001b[1mval: \u001b[0mWARNING ⚠️ C:\\Users\\cwky\\datasets\\coco\\images\\val2017\\000000071711.jpg: ignoring corrupt image/label: [Errno 2] No such file or directory: 'C:\\\\Users\\\\cwky\\\\datasets\\\\coco\\\\images\\\\val2017\\\\000000071711.jpg'\n",
      "\u001b[34m\u001b[1mval: \u001b[0mWARNING ⚠️ C:\\Users\\cwky\\datasets\\coco\\images\\val2017\\000000071877.jpg: ignoring corrupt image/label: [Errno 2] No such file or directory: 'C:\\\\Users\\\\cwky\\\\datasets\\\\coco\\\\images\\\\val2017\\\\000000071877.jpg'\n",
      "\u001b[34m\u001b[1mval: \u001b[0mWARNING ⚠️ C:\\Users\\cwky\\datasets\\coco\\images\\val2017\\000000071938.jpg: ignoring corrupt image/label: [Errno 2] No such file or directory: 'C:\\\\Users\\\\cwky\\\\datasets\\\\coco\\\\images\\\\val2017\\\\000000071938.jpg'\n",
      "\u001b[34m\u001b[1mval: \u001b[0mWARNING ⚠️ C:\\Users\\cwky\\datasets\\coco\\images\\val2017\\000000072795.jpg: ignoring corrupt image/label: [Errno 2] No such file or directory: 'C:\\\\Users\\\\cwky\\\\datasets\\\\coco\\\\images\\\\val2017\\\\000000072795.jpg'\n",
      "\u001b[34m\u001b[1mval: \u001b[0mWARNING ⚠️ C:\\Users\\cwky\\datasets\\coco\\images\\val2017\\000000072852.jpg: ignoring corrupt image/label: [Errno 2] No such file or directory: 'C:\\\\Users\\\\cwky\\\\datasets\\\\coco\\\\images\\\\val2017\\\\000000072852.jpg'\n",
      "\u001b[34m\u001b[1mval: \u001b[0mWARNING ⚠️ C:\\Users\\cwky\\datasets\\coco\\images\\val2017\\000000073326.jpg: ignoring corrupt image/label: [Errno 2] No such file or directory: 'C:\\\\Users\\\\cwky\\\\datasets\\\\coco\\\\images\\\\val2017\\\\000000073326.jpg'\n",
      "\u001b[34m\u001b[1mval: \u001b[0mWARNING ⚠️ C:\\Users\\cwky\\datasets\\coco\\images\\val2017\\000000073702.jpg: ignoring corrupt image/label: [Errno 2] No such file or directory: 'C:\\\\Users\\\\cwky\\\\datasets\\\\coco\\\\images\\\\val2017\\\\000000073702.jpg'\n",
      "\u001b[34m\u001b[1mval: \u001b[0mWARNING ⚠️ C:\\Users\\cwky\\datasets\\coco\\images\\val2017\\000000073946.jpg: ignoring corrupt image/label: [Errno 2] No such file or directory: 'C:\\\\Users\\\\cwky\\\\datasets\\\\coco\\\\images\\\\val2017\\\\000000073946.jpg'\n",
      "\u001b[34m\u001b[1mval: \u001b[0mWARNING ⚠️ C:\\Users\\cwky\\datasets\\coco\\images\\val2017\\000000074058.jpg: ignoring corrupt image/label: [Errno 2] No such file or directory: 'C:\\\\Users\\\\cwky\\\\datasets\\\\coco\\\\images\\\\val2017\\\\000000074058.jpg'\n",
      "\u001b[34m\u001b[1mval: \u001b[0mWARNING ⚠️ C:\\Users\\cwky\\datasets\\coco\\images\\val2017\\000000074200.jpg: ignoring corrupt image/label: [Errno 2] No such file or directory: 'C:\\\\Users\\\\cwky\\\\datasets\\\\coco\\\\images\\\\val2017\\\\000000074200.jpg'\n",
      "\u001b[34m\u001b[1mval: \u001b[0mWARNING ⚠️ C:\\Users\\cwky\\datasets\\coco\\images\\val2017\\000000074209.jpg: ignoring corrupt image/label: [Errno 2] No such file or directory: 'C:\\\\Users\\\\cwky\\\\datasets\\\\coco\\\\images\\\\val2017\\\\000000074209.jpg'\n",
      "\u001b[34m\u001b[1mval: \u001b[0mWARNING ⚠️ C:\\Users\\cwky\\datasets\\coco\\images\\val2017\\000000076417.jpg: ignoring corrupt image/label: [Errno 2] No such file or directory: 'C:\\\\Users\\\\cwky\\\\datasets\\\\coco\\\\images\\\\val2017\\\\000000076417.jpg'\n",
      "\u001b[34m\u001b[1mval: \u001b[0mWARNING ⚠️ C:\\Users\\cwky\\datasets\\coco\\images\\val2017\\000000078170.jpg: ignoring corrupt image/label: [Errno 2] No such file or directory: 'C:\\\\Users\\\\cwky\\\\datasets\\\\coco\\\\images\\\\val2017\\\\000000078170.jpg'\n",
      "\u001b[34m\u001b[1mval: \u001b[0mWARNING ⚠️ C:\\Users\\cwky\\datasets\\coco\\images\\val2017\\000000078404.jpg: ignoring corrupt image/label: [Errno 2] No such file or directory: 'C:\\\\Users\\\\cwky\\\\datasets\\\\coco\\\\images\\\\val2017\\\\000000078404.jpg'\n",
      "\u001b[34m\u001b[1mval: \u001b[0mWARNING ⚠️ C:\\Users\\cwky\\datasets\\coco\\images\\val2017\\000000078565.jpg: ignoring corrupt image/label: [Errno 2] No such file or directory: 'C:\\\\Users\\\\cwky\\\\datasets\\\\coco\\\\images\\\\val2017\\\\000000078565.jpg'\n",
      "\u001b[34m\u001b[1mval: \u001b[0mWARNING ⚠️ C:\\Users\\cwky\\datasets\\coco\\images\\val2017\\000000078915.jpg: ignoring corrupt image/label: [Errno 2] No such file or directory: 'C:\\\\Users\\\\cwky\\\\datasets\\\\coco\\\\images\\\\val2017\\\\000000078915.jpg'\n",
      "\u001b[34m\u001b[1mval: \u001b[0mWARNING ⚠️ C:\\Users\\cwky\\datasets\\coco\\images\\val2017\\000000079014.jpg: ignoring corrupt image/label: [Errno 2] No such file or directory: 'C:\\\\Users\\\\cwky\\\\datasets\\\\coco\\\\images\\\\val2017\\\\000000079014.jpg'\n",
      "\u001b[34m\u001b[1mval: \u001b[0mWARNING ⚠️ C:\\Users\\cwky\\datasets\\coco\\images\\val2017\\000000079565.jpg: ignoring corrupt image/label: [Errno 2] No such file or directory: 'C:\\\\Users\\\\cwky\\\\datasets\\\\coco\\\\images\\\\val2017\\\\000000079565.jpg'\n",
      "\u001b[34m\u001b[1mval: \u001b[0mWARNING ⚠️ C:\\Users\\cwky\\datasets\\coco\\images\\val2017\\000000079651.jpg: ignoring corrupt image/label: [Errno 2] No such file or directory: 'C:\\\\Users\\\\cwky\\\\datasets\\\\coco\\\\images\\\\val2017\\\\000000079651.jpg'\n",
      "\u001b[34m\u001b[1mval: \u001b[0mWARNING ⚠️ C:\\Users\\cwky\\datasets\\coco\\images\\val2017\\000000079969.jpg: ignoring corrupt image/label: [Errno 2] No such file or directory: 'C:\\\\Users\\\\cwky\\\\datasets\\\\coco\\\\images\\\\val2017\\\\000000079969.jpg'\n",
      "\u001b[34m\u001b[1mval: \u001b[0mWARNING ⚠️ C:\\Users\\cwky\\datasets\\coco\\images\\val2017\\000000080022.jpg: ignoring corrupt image/label: [Errno 2] No such file or directory: 'C:\\\\Users\\\\cwky\\\\datasets\\\\coco\\\\images\\\\val2017\\\\000000080022.jpg'\n",
      "\u001b[34m\u001b[1mval: \u001b[0mWARNING ⚠️ C:\\Users\\cwky\\datasets\\coco\\images\\val2017\\000000080273.jpg: ignoring corrupt image/label: [Errno 2] No such file or directory: 'C:\\\\Users\\\\cwky\\\\datasets\\\\coco\\\\images\\\\val2017\\\\000000080273.jpg'\n",
      "\u001b[34m\u001b[1mval: \u001b[0mWARNING ⚠️ C:\\Users\\cwky\\datasets\\coco\\images\\val2017\\000000080659.jpg: ignoring corrupt image/label: [Errno 2] No such file or directory: 'C:\\\\Users\\\\cwky\\\\datasets\\\\coco\\\\images\\\\val2017\\\\000000080659.jpg'\n",
      "\u001b[34m\u001b[1mval: \u001b[0mWARNING ⚠️ C:\\Users\\cwky\\datasets\\coco\\images\\val2017\\000000080671.jpg: ignoring corrupt image/label: [Errno 2] No such file or directory: 'C:\\\\Users\\\\cwky\\\\datasets\\\\coco\\\\images\\\\val2017\\\\000000080671.jpg'\n",
      "\u001b[34m\u001b[1mval: \u001b[0mWARNING ⚠️ C:\\Users\\cwky\\datasets\\coco\\images\\val2017\\000000080932.jpg: ignoring corrupt image/label: [Errno 2] No such file or directory: 'C:\\\\Users\\\\cwky\\\\datasets\\\\coco\\\\images\\\\val2017\\\\000000080932.jpg'\n",
      "\u001b[34m\u001b[1mval: \u001b[0mWARNING ⚠️ C:\\Users\\cwky\\datasets\\coco\\images\\val2017\\000000081594.jpg: ignoring corrupt image/label: [Errno 2] No such file or directory: 'C:\\\\Users\\\\cwky\\\\datasets\\\\coco\\\\images\\\\val2017\\\\000000081594.jpg'\n",
      "\u001b[34m\u001b[1mval: \u001b[0mWARNING ⚠️ C:\\Users\\cwky\\datasets\\coco\\images\\val2017\\000000081766.jpg: ignoring corrupt image/label: [Errno 2] No such file or directory: 'C:\\\\Users\\\\cwky\\\\datasets\\\\coco\\\\images\\\\val2017\\\\000000081766.jpg'\n",
      "\u001b[34m\u001b[1mval: \u001b[0mWARNING ⚠️ C:\\Users\\cwky\\datasets\\coco\\images\\val2017\\000000082807.jpg: ignoring corrupt image/label: [Errno 2] No such file or directory: 'C:\\\\Users\\\\cwky\\\\datasets\\\\coco\\\\images\\\\val2017\\\\000000082807.jpg'\n",
      "\u001b[34m\u001b[1mval: \u001b[0mWARNING ⚠️ C:\\Users\\cwky\\datasets\\coco\\images\\val2017\\000000082812.jpg: ignoring corrupt image/label: [Errno 2] No such file or directory: 'C:\\\\Users\\\\cwky\\\\datasets\\\\coco\\\\images\\\\val2017\\\\000000082812.jpg'\n",
      "\u001b[34m\u001b[1mval: \u001b[0mWARNING ⚠️ C:\\Users\\cwky\\datasets\\coco\\images\\val2017\\000000082821.jpg: ignoring corrupt image/label: [Errno 2] No such file or directory: 'C:\\\\Users\\\\cwky\\\\datasets\\\\coco\\\\images\\\\val2017\\\\000000082821.jpg'\n",
      "\u001b[34m\u001b[1mval: \u001b[0mWARNING ⚠️ C:\\Users\\cwky\\datasets\\coco\\images\\val2017\\000000082986.jpg: ignoring corrupt image/label: [Errno 2] No such file or directory: 'C:\\\\Users\\\\cwky\\\\datasets\\\\coco\\\\images\\\\val2017\\\\000000082986.jpg'\n",
      "\u001b[34m\u001b[1mval: \u001b[0mWARNING ⚠️ C:\\Users\\cwky\\datasets\\coco\\images\\val2017\\000000083113.jpg: ignoring corrupt image/label: [Errno 2] No such file or directory: 'C:\\\\Users\\\\cwky\\\\datasets\\\\coco\\\\images\\\\val2017\\\\000000083113.jpg'\n",
      "\u001b[34m\u001b[1mval: \u001b[0mWARNING ⚠️ C:\\Users\\cwky\\datasets\\coco\\images\\val2017\\000000083172.jpg: ignoring corrupt image/label: [Errno 2] No such file or directory: 'C:\\\\Users\\\\cwky\\\\datasets\\\\coco\\\\images\\\\val2017\\\\000000083172.jpg'\n",
      "\u001b[34m\u001b[1mval: \u001b[0mWARNING ⚠️ C:\\Users\\cwky\\datasets\\coco\\images\\val2017\\000000084241.jpg: ignoring corrupt image/label: [Errno 2] No such file or directory: 'C:\\\\Users\\\\cwky\\\\datasets\\\\coco\\\\images\\\\val2017\\\\000000084241.jpg'\n",
      "\u001b[34m\u001b[1mval: \u001b[0mWARNING ⚠️ C:\\Users\\cwky\\datasets\\coco\\images\\val2017\\000000084270.jpg: ignoring corrupt image/label: [Errno 2] No such file or directory: 'C:\\\\Users\\\\cwky\\\\datasets\\\\coco\\\\images\\\\val2017\\\\000000084270.jpg'\n",
      "\u001b[34m\u001b[1mval: \u001b[0mWARNING ⚠️ C:\\Users\\cwky\\datasets\\coco\\images\\val2017\\000000084431.jpg: ignoring corrupt image/label: [Errno 2] No such file or directory: 'C:\\\\Users\\\\cwky\\\\datasets\\\\coco\\\\images\\\\val2017\\\\000000084431.jpg'\n",
      "\u001b[34m\u001b[1mval: \u001b[0mWARNING ⚠️ C:\\Users\\cwky\\datasets\\coco\\images\\val2017\\000000084492.jpg: ignoring corrupt image/label: [Errno 2] No such file or directory: 'C:\\\\Users\\\\cwky\\\\datasets\\\\coco\\\\images\\\\val2017\\\\000000084492.jpg'\n",
      "\u001b[34m\u001b[1mval: \u001b[0mWARNING ⚠️ C:\\Users\\cwky\\datasets\\coco\\images\\val2017\\000000085772.jpg: ignoring corrupt image/label: [Errno 2] No such file or directory: 'C:\\\\Users\\\\cwky\\\\datasets\\\\coco\\\\images\\\\val2017\\\\000000085772.jpg'\n",
      "\u001b[34m\u001b[1mval: \u001b[0mWARNING ⚠️ C:\\Users\\cwky\\datasets\\coco\\images\\val2017\\000000086755.jpg: ignoring corrupt image/label: [Errno 2] No such file or directory: 'C:\\\\Users\\\\cwky\\\\datasets\\\\coco\\\\images\\\\val2017\\\\000000086755.jpg'\n",
      "\u001b[34m\u001b[1mval: \u001b[0mWARNING ⚠️ C:\\Users\\cwky\\datasets\\coco\\images\\val2017\\000000087038.jpg: ignoring corrupt image/label: [Errno 2] No such file or directory: 'C:\\\\Users\\\\cwky\\\\datasets\\\\coco\\\\images\\\\val2017\\\\000000087038.jpg'\n",
      "\u001b[34m\u001b[1mval: \u001b[0mWARNING ⚠️ C:\\Users\\cwky\\datasets\\coco\\images\\val2017\\000000087244.jpg: ignoring corrupt image/label: [Errno 2] No such file or directory: 'C:\\\\Users\\\\cwky\\\\datasets\\\\coco\\\\images\\\\val2017\\\\000000087244.jpg'\n",
      "\u001b[34m\u001b[1mval: \u001b[0mWARNING ⚠️ C:\\Users\\cwky\\datasets\\coco\\images\\val2017\\000000087470.jpg: ignoring corrupt image/label: [Errno 2] No such file or directory: 'C:\\\\Users\\\\cwky\\\\datasets\\\\coco\\\\images\\\\val2017\\\\000000087470.jpg'\n",
      "\u001b[34m\u001b[1mval: \u001b[0mWARNING ⚠️ C:\\Users\\cwky\\datasets\\coco\\images\\val2017\\000000088265.jpg: ignoring corrupt image/label: [Errno 2] No such file or directory: 'C:\\\\Users\\\\cwky\\\\datasets\\\\coco\\\\images\\\\val2017\\\\000000088265.jpg'\n",
      "\u001b[34m\u001b[1mval: \u001b[0mWARNING ⚠️ C:\\Users\\cwky\\datasets\\coco\\images\\val2017\\000000088462.jpg: ignoring corrupt image/label: [Errno 2] No such file or directory: 'C:\\\\Users\\\\cwky\\\\datasets\\\\coco\\\\images\\\\val2017\\\\000000088462.jpg'\n",
      "\u001b[34m\u001b[1mval: \u001b[0mWARNING ⚠️ C:\\Users\\cwky\\datasets\\coco\\images\\val2017\\000000088485.jpg: ignoring corrupt image/label: [Errno 2] No such file or directory: 'C:\\\\Users\\\\cwky\\\\datasets\\\\coco\\\\images\\\\val2017\\\\000000088485.jpg'\n",
      "\u001b[34m\u001b[1mval: \u001b[0mWARNING ⚠️ C:\\Users\\cwky\\datasets\\coco\\images\\val2017\\000000088848.jpg: ignoring corrupt image/label: [Errno 2] No such file or directory: 'C:\\\\Users\\\\cwky\\\\datasets\\\\coco\\\\images\\\\val2017\\\\000000088848.jpg'\n",
      "\u001b[34m\u001b[1mval: \u001b[0mWARNING ⚠️ C:\\Users\\cwky\\datasets\\coco\\images\\val2017\\000000088970.jpg: ignoring corrupt image/label: [Errno 2] No such file or directory: 'C:\\\\Users\\\\cwky\\\\datasets\\\\coco\\\\images\\\\val2017\\\\000000088970.jpg'\n",
      "\u001b[34m\u001b[1mval: \u001b[0mWARNING ⚠️ C:\\Users\\cwky\\datasets\\coco\\images\\val2017\\000000089078.jpg: ignoring corrupt image/label: [Errno 2] No such file or directory: 'C:\\\\Users\\\\cwky\\\\datasets\\\\coco\\\\images\\\\val2017\\\\000000089078.jpg'\n",
      "\u001b[34m\u001b[1mval: \u001b[0mWARNING ⚠️ C:\\Users\\cwky\\datasets\\coco\\images\\val2017\\000000089670.jpg: ignoring corrupt image/label: [Errno 2] No such file or directory: 'C:\\\\Users\\\\cwky\\\\datasets\\\\coco\\\\images\\\\val2017\\\\000000089670.jpg'\n",
      "\u001b[34m\u001b[1mval: \u001b[0mWARNING ⚠️ C:\\Users\\cwky\\datasets\\coco\\images\\val2017\\000000089697.jpg: ignoring corrupt image/label: [Errno 2] No such file or directory: 'C:\\\\Users\\\\cwky\\\\datasets\\\\coco\\\\images\\\\val2017\\\\000000089697.jpg'\n",
      "\u001b[34m\u001b[1mval: \u001b[0mWARNING ⚠️ C:\\Users\\cwky\\datasets\\coco\\images\\val2017\\000000089761.jpg: ignoring corrupt image/label: [Errno 2] No such file or directory: 'C:\\\\Users\\\\cwky\\\\datasets\\\\coco\\\\images\\\\val2017\\\\000000089761.jpg'\n",
      "\u001b[34m\u001b[1mval: \u001b[0mWARNING ⚠️ C:\\Users\\cwky\\datasets\\coco\\images\\val2017\\000000090003.jpg: ignoring corrupt image/label: [Errno 2] No such file or directory: 'C:\\\\Users\\\\cwky\\\\datasets\\\\coco\\\\images\\\\val2017\\\\000000090003.jpg'\n",
      "\u001b[34m\u001b[1mval: \u001b[0mWARNING ⚠️ C:\\Users\\cwky\\datasets\\coco\\images\\val2017\\000000090062.jpg: ignoring corrupt image/label: [Errno 2] No such file or directory: 'C:\\\\Users\\\\cwky\\\\datasets\\\\coco\\\\images\\\\val2017\\\\000000090062.jpg'\n",
      "\u001b[34m\u001b[1mval: \u001b[0mWARNING ⚠️ C:\\Users\\cwky\\datasets\\coco\\images\\val2017\\000000090108.jpg: ignoring corrupt image/label: [Errno 2] No such file or directory: 'C:\\\\Users\\\\cwky\\\\datasets\\\\coco\\\\images\\\\val2017\\\\000000090108.jpg'\n",
      "\u001b[34m\u001b[1mval: \u001b[0mWARNING ⚠️ C:\\Users\\cwky\\datasets\\coco\\images\\val2017\\000000090631.jpg: ignoring corrupt image/label: [Errno 2] No such file or directory: 'C:\\\\Users\\\\cwky\\\\datasets\\\\coco\\\\images\\\\val2017\\\\000000090631.jpg'\n",
      "\u001b[34m\u001b[1mval: \u001b[0mWARNING ⚠️ C:\\Users\\cwky\\datasets\\coco\\images\\val2017\\000000090891.jpg: ignoring corrupt image/label: [Errno 2] No such file or directory: 'C:\\\\Users\\\\cwky\\\\datasets\\\\coco\\\\images\\\\val2017\\\\000000090891.jpg'\n",
      "\u001b[34m\u001b[1mval: \u001b[0mWARNING ⚠️ C:\\Users\\cwky\\datasets\\coco\\images\\val2017\\000000091495.jpg: ignoring corrupt image/label: [Errno 2] No such file or directory: 'C:\\\\Users\\\\cwky\\\\datasets\\\\coco\\\\images\\\\val2017\\\\000000091495.jpg'\n",
      "\u001b[34m\u001b[1mval: \u001b[0mWARNING ⚠️ C:\\Users\\cwky\\datasets\\coco\\images\\val2017\\000000091500.jpg: ignoring corrupt image/label: [Errno 2] No such file or directory: 'C:\\\\Users\\\\cwky\\\\datasets\\\\coco\\\\images\\\\val2017\\\\000000091500.jpg'\n",
      "\u001b[34m\u001b[1mval: \u001b[0mWARNING ⚠️ C:\\Users\\cwky\\datasets\\coco\\images\\val2017\\000000091615.jpg: ignoring corrupt image/label: [Errno 2] No such file or directory: 'C:\\\\Users\\\\cwky\\\\datasets\\\\coco\\\\images\\\\val2017\\\\000000091615.jpg'\n",
      "\u001b[34m\u001b[1mval: \u001b[0mWARNING ⚠️ C:\\Users\\cwky\\datasets\\coco\\images\\val2017\\000000091779.jpg: ignoring corrupt image/label: [Errno 2] No such file or directory: 'C:\\\\Users\\\\cwky\\\\datasets\\\\coco\\\\images\\\\val2017\\\\000000091779.jpg'\n",
      "\u001b[34m\u001b[1mval: \u001b[0mWARNING ⚠️ C:\\Users\\cwky\\datasets\\coco\\images\\val2017\\000000091921.jpg: ignoring corrupt image/label: [Errno 2] No such file or directory: 'C:\\\\Users\\\\cwky\\\\datasets\\\\coco\\\\images\\\\val2017\\\\000000091921.jpg'\n",
      "\u001b[34m\u001b[1mval: \u001b[0mWARNING ⚠️ C:\\Users\\cwky\\datasets\\coco\\images\\val2017\\000000092053.jpg: ignoring corrupt image/label: [Errno 2] No such file or directory: 'C:\\\\Users\\\\cwky\\\\datasets\\\\coco\\\\images\\\\val2017\\\\000000092053.jpg'\n",
      "\u001b[34m\u001b[1mval: \u001b[0mWARNING ⚠️ C:\\Users\\cwky\\datasets\\coco\\images\\val2017\\000000092416.jpg: ignoring corrupt image/label: [Errno 2] No such file or directory: 'C:\\\\Users\\\\cwky\\\\datasets\\\\coco\\\\images\\\\val2017\\\\000000092416.jpg'\n",
      "\u001b[34m\u001b[1mval: \u001b[0mWARNING ⚠️ C:\\Users\\cwky\\datasets\\coco\\images\\val2017\\000000092839.jpg: ignoring corrupt image/label: [Errno 2] No such file or directory: 'C:\\\\Users\\\\cwky\\\\datasets\\\\coco\\\\images\\\\val2017\\\\000000092839.jpg'\n",
      "\u001b[34m\u001b[1mval: \u001b[0mWARNING ⚠️ C:\\Users\\cwky\\datasets\\coco\\images\\val2017\\000000093717.jpg: ignoring corrupt image/label: [Errno 2] No such file or directory: 'C:\\\\Users\\\\cwky\\\\datasets\\\\coco\\\\images\\\\val2017\\\\000000093717.jpg'\n",
      "\u001b[34m\u001b[1mval: \u001b[0mWARNING ⚠️ C:\\Users\\cwky\\datasets\\coco\\images\\val2017\\000000093965.jpg: ignoring corrupt image/label: [Errno 2] No such file or directory: 'C:\\\\Users\\\\cwky\\\\datasets\\\\coco\\\\images\\\\val2017\\\\000000093965.jpg'\n",
      "\u001b[34m\u001b[1mval: \u001b[0mWARNING ⚠️ C:\\Users\\cwky\\datasets\\coco\\images\\val2017\\000000094336.jpg: ignoring corrupt image/label: [Errno 2] No such file or directory: 'C:\\\\Users\\\\cwky\\\\datasets\\\\coco\\\\images\\\\val2017\\\\000000094336.jpg'\n",
      "\u001b[34m\u001b[1mval: \u001b[0mWARNING ⚠️ C:\\Users\\cwky\\datasets\\coco\\images\\val2017\\000000094614.jpg: ignoring corrupt image/label: [Errno 2] No such file or directory: 'C:\\\\Users\\\\cwky\\\\datasets\\\\coco\\\\images\\\\val2017\\\\000000094614.jpg'\n",
      "\u001b[34m\u001b[1mval: \u001b[0mWARNING ⚠️ C:\\Users\\cwky\\datasets\\coco\\images\\val2017\\000000094751.jpg: ignoring corrupt image/label: [Errno 2] No such file or directory: 'C:\\\\Users\\\\cwky\\\\datasets\\\\coco\\\\images\\\\val2017\\\\000000094751.jpg'\n",
      "\u001b[34m\u001b[1mval: \u001b[0mWARNING ⚠️ C:\\Users\\cwky\\datasets\\coco\\images\\val2017\\000000094871.jpg: ignoring corrupt image/label: [Errno 2] No such file or directory: 'C:\\\\Users\\\\cwky\\\\datasets\\\\coco\\\\images\\\\val2017\\\\000000094871.jpg'\n",
      "\u001b[34m\u001b[1mval: \u001b[0mWARNING ⚠️ C:\\Users\\cwky\\datasets\\coco\\images\\val2017\\000000094944.jpg: ignoring corrupt image/label: [Errno 2] No such file or directory: 'C:\\\\Users\\\\cwky\\\\datasets\\\\coco\\\\images\\\\val2017\\\\000000094944.jpg'\n",
      "\u001b[34m\u001b[1mval: \u001b[0mWARNING ⚠️ C:\\Users\\cwky\\datasets\\coco\\images\\val2017\\000000095707.jpg: ignoring corrupt image/label: [Errno 2] No such file or directory: 'C:\\\\Users\\\\cwky\\\\datasets\\\\coco\\\\images\\\\val2017\\\\000000095707.jpg'\n",
      "\u001b[34m\u001b[1mval: \u001b[0mWARNING ⚠️ C:\\Users\\cwky\\datasets\\coco\\images\\val2017\\000000095786.jpg: ignoring corrupt image/label: [Errno 2] No such file or directory: 'C:\\\\Users\\\\cwky\\\\datasets\\\\coco\\\\images\\\\val2017\\\\000000095786.jpg'\n",
      "\u001b[34m\u001b[1mval: \u001b[0mWARNING ⚠️ C:\\Users\\cwky\\datasets\\coco\\images\\val2017\\000000096001.jpg: ignoring corrupt image/label: [Errno 2] No such file or directory: 'C:\\\\Users\\\\cwky\\\\datasets\\\\coco\\\\images\\\\val2017\\\\000000096001.jpg'\n",
      "\u001b[34m\u001b[1mval: \u001b[0mWARNING ⚠️ C:\\Users\\cwky\\datasets\\coco\\images\\val2017\\000000096549.jpg: ignoring corrupt image/label: [Errno 2] No such file or directory: 'C:\\\\Users\\\\cwky\\\\datasets\\\\coco\\\\images\\\\val2017\\\\000000096549.jpg'\n",
      "\u001b[34m\u001b[1mval: \u001b[0mWARNING ⚠️ C:\\Users\\cwky\\datasets\\coco\\images\\val2017\\000000096825.jpg: ignoring corrupt image/label: [Errno 2] No such file or directory: 'C:\\\\Users\\\\cwky\\\\datasets\\\\coco\\\\images\\\\val2017\\\\000000096825.jpg'\n",
      "\u001b[34m\u001b[1mval: \u001b[0mWARNING ⚠️ C:\\Users\\cwky\\datasets\\coco\\images\\val2017\\000000097585.jpg: ignoring corrupt image/label: [Errno 2] No such file or directory: 'C:\\\\Users\\\\cwky\\\\datasets\\\\coco\\\\images\\\\val2017\\\\000000097585.jpg'\n",
      "\u001b[34m\u001b[1mval: \u001b[0mWARNING ⚠️ C:\\Users\\cwky\\datasets\\coco\\images\\val2017\\000000097679.jpg: ignoring corrupt image/label: [Errno 2] No such file or directory: 'C:\\\\Users\\\\cwky\\\\datasets\\\\coco\\\\images\\\\val2017\\\\000000097679.jpg'\n",
      "\u001b[34m\u001b[1mval: \u001b[0mWARNING ⚠️ C:\\Users\\cwky\\datasets\\coco\\images\\val2017\\000000097924.jpg: ignoring corrupt image/label: [Errno 2] No such file or directory: 'C:\\\\Users\\\\cwky\\\\datasets\\\\coco\\\\images\\\\val2017\\\\000000097924.jpg'\n",
      "\u001b[34m\u001b[1mval: \u001b[0mWARNING ⚠️ C:\\Users\\cwky\\datasets\\coco\\images\\val2017\\000000097988.jpg: ignoring corrupt image/label: [Errno 2] No such file or directory: 'C:\\\\Users\\\\cwky\\\\datasets\\\\coco\\\\images\\\\val2017\\\\000000097988.jpg'\n",
      "\u001b[34m\u001b[1mval: \u001b[0mWARNING ⚠️ C:\\Users\\cwky\\datasets\\coco\\images\\val2017\\000000097994.jpg: ignoring corrupt image/label: [Errno 2] No such file or directory: 'C:\\\\Users\\\\cwky\\\\datasets\\\\coco\\\\images\\\\val2017\\\\000000097994.jpg'\n",
      "\u001b[34m\u001b[1mval: \u001b[0mWARNING ⚠️ C:\\Users\\cwky\\datasets\\coco\\images\\val2017\\000000098392.jpg: ignoring corrupt image/label: [Errno 2] No such file or directory: 'C:\\\\Users\\\\cwky\\\\datasets\\\\coco\\\\images\\\\val2017\\\\000000098392.jpg'\n",
      "\u001b[34m\u001b[1mval: \u001b[0mWARNING ⚠️ C:\\Users\\cwky\\datasets\\coco\\images\\val2017\\000000098853.jpg: ignoring corrupt image/label: [Errno 2] No such file or directory: 'C:\\\\Users\\\\cwky\\\\datasets\\\\coco\\\\images\\\\val2017\\\\000000098853.jpg'\n",
      "\u001b[34m\u001b[1mval: \u001b[0mWARNING ⚠️ C:\\Users\\cwky\\datasets\\coco\\images\\val2017\\000000099024.jpg: ignoring corrupt image/label: [Errno 2] No such file or directory: 'C:\\\\Users\\\\cwky\\\\datasets\\\\coco\\\\images\\\\val2017\\\\000000099024.jpg'\n",
      "\u001b[34m\u001b[1mval: \u001b[0mWARNING ⚠️ C:\\Users\\cwky\\datasets\\coco\\images\\val2017\\000000099039.jpg: ignoring corrupt image/label: [Errno 2] No such file or directory: 'C:\\\\Users\\\\cwky\\\\datasets\\\\coco\\\\images\\\\val2017\\\\000000099039.jpg'\n",
      "\u001b[34m\u001b[1mval: \u001b[0mWARNING ⚠️ C:\\Users\\cwky\\datasets\\coco\\images\\val2017\\000000099114.jpg: ignoring corrupt image/label: [Errno 2] No such file or directory: 'C:\\\\Users\\\\cwky\\\\datasets\\\\coco\\\\images\\\\val2017\\\\000000099114.jpg'\n",
      "\u001b[34m\u001b[1mval: \u001b[0mWARNING ⚠️ C:\\Users\\cwky\\datasets\\coco\\images\\val2017\\000000099428.jpg: ignoring corrupt image/label: [Errno 2] No such file or directory: 'C:\\\\Users\\\\cwky\\\\datasets\\\\coco\\\\images\\\\val2017\\\\000000099428.jpg'\n",
      "\u001b[34m\u001b[1mval: \u001b[0mWARNING ⚠️ C:\\Users\\cwky\\datasets\\coco\\images\\val2017\\000000099810.jpg: ignoring corrupt image/label: [Errno 2] No such file or directory: 'C:\\\\Users\\\\cwky\\\\datasets\\\\coco\\\\images\\\\val2017\\\\000000099810.jpg'\n",
      "\u001b[34m\u001b[1mval: \u001b[0mWARNING ⚠️ C:\\Users\\cwky\\datasets\\coco\\images\\val2017\\000000100238.jpg: ignoring corrupt image/label: [Errno 2] No such file or directory: 'C:\\\\Users\\\\cwky\\\\datasets\\\\coco\\\\images\\\\val2017\\\\000000100238.jpg'\n",
      "\u001b[34m\u001b[1mval: \u001b[0mWARNING ⚠️ C:\\Users\\cwky\\datasets\\coco\\images\\val2017\\000000100428.jpg: ignoring corrupt image/label: [Errno 2] No such file or directory: 'C:\\\\Users\\\\cwky\\\\datasets\\\\coco\\\\images\\\\val2017\\\\000000100428.jpg'\n",
      "\u001b[34m\u001b[1mval: \u001b[0mWARNING ⚠️ C:\\Users\\cwky\\datasets\\coco\\images\\val2017\\000000100582.jpg: ignoring corrupt image/label: [Errno 2] No such file or directory: 'C:\\\\Users\\\\cwky\\\\datasets\\\\coco\\\\images\\\\val2017\\\\000000100582.jpg'\n",
      "\u001b[34m\u001b[1mval: \u001b[0mWARNING ⚠️ C:\\Users\\cwky\\datasets\\coco\\images\\val2017\\000000101022.jpg: ignoring corrupt image/label: [Errno 2] No such file or directory: 'C:\\\\Users\\\\cwky\\\\datasets\\\\coco\\\\images\\\\val2017\\\\000000101022.jpg'\n",
      "\u001b[34m\u001b[1mval: \u001b[0mWARNING ⚠️ C:\\Users\\cwky\\datasets\\coco\\images\\val2017\\000000102331.jpg: ignoring corrupt image/label: [Errno 2] No such file or directory: 'C:\\\\Users\\\\cwky\\\\datasets\\\\coco\\\\images\\\\val2017\\\\000000102331.jpg'\n",
      "\u001b[34m\u001b[1mval: \u001b[0mWARNING ⚠️ C:\\Users\\cwky\\datasets\\coco\\images\\val2017\\000000102644.jpg: ignoring corrupt image/label: [Errno 2] No such file or directory: 'C:\\\\Users\\\\cwky\\\\datasets\\\\coco\\\\images\\\\val2017\\\\000000102644.jpg'\n",
      "\u001b[34m\u001b[1mval: \u001b[0mWARNING ⚠️ C:\\Users\\cwky\\datasets\\coco\\images\\val2017\\000000102805.jpg: ignoring corrupt image/label: [Errno 2] No such file or directory: 'C:\\\\Users\\\\cwky\\\\datasets\\\\coco\\\\images\\\\val2017\\\\000000102805.jpg'\n",
      "\u001b[34m\u001b[1mval: \u001b[0mWARNING ⚠️ C:\\Users\\cwky\\datasets\\coco\\images\\val2017\\000000102820.jpg: ignoring corrupt image/label: [Errno 2] No such file or directory: 'C:\\\\Users\\\\cwky\\\\datasets\\\\coco\\\\images\\\\val2017\\\\000000102820.jpg'\n",
      "\u001b[34m\u001b[1mval: \u001b[0mWARNING ⚠️ C:\\Users\\cwky\\datasets\\coco\\images\\val2017\\000000103723.jpg: ignoring corrupt image/label: [Errno 2] No such file or directory: 'C:\\\\Users\\\\cwky\\\\datasets\\\\coco\\\\images\\\\val2017\\\\000000103723.jpg'\n",
      "\u001b[34m\u001b[1mval: \u001b[0mWARNING ⚠️ C:\\Users\\cwky\\datasets\\coco\\images\\val2017\\000000104198.jpg: ignoring corrupt image/label: [Errno 2] No such file or directory: 'C:\\\\Users\\\\cwky\\\\datasets\\\\coco\\\\images\\\\val2017\\\\000000104198.jpg'\n",
      "\u001b[34m\u001b[1mval: \u001b[0mWARNING ⚠️ C:\\Users\\cwky\\datasets\\coco\\images\\val2017\\000000104424.jpg: ignoring corrupt image/label: [Errno 2] No such file or directory: 'C:\\\\Users\\\\cwky\\\\datasets\\\\coco\\\\images\\\\val2017\\\\000000104424.jpg'\n",
      "\u001b[34m\u001b[1mval: \u001b[0mWARNING ⚠️ C:\\Users\\cwky\\datasets\\coco\\images\\val2017\\000000104572.jpg: ignoring corrupt image/label: [Errno 2] No such file or directory: 'C:\\\\Users\\\\cwky\\\\datasets\\\\coco\\\\images\\\\val2017\\\\000000104572.jpg'\n",
      "\u001b[34m\u001b[1mval: \u001b[0mWARNING ⚠️ C:\\Users\\cwky\\datasets\\coco\\images\\val2017\\000000104612.jpg: ignoring corrupt image/label: [Errno 2] No such file or directory: 'C:\\\\Users\\\\cwky\\\\datasets\\\\coco\\\\images\\\\val2017\\\\000000104612.jpg'\n",
      "\u001b[34m\u001b[1mval: \u001b[0mWARNING ⚠️ C:\\Users\\cwky\\datasets\\coco\\images\\val2017\\000000104666.jpg: ignoring corrupt image/label: [Errno 2] No such file or directory: 'C:\\\\Users\\\\cwky\\\\datasets\\\\coco\\\\images\\\\val2017\\\\000000104666.jpg'\n",
      "\u001b[34m\u001b[1mval: \u001b[0mWARNING ⚠️ C:\\Users\\cwky\\datasets\\coco\\images\\val2017\\000000104669.jpg: ignoring corrupt image/label: [Errno 2] No such file or directory: 'C:\\\\Users\\\\cwky\\\\datasets\\\\coco\\\\images\\\\val2017\\\\000000104669.jpg'\n",
      "\u001b[34m\u001b[1mval: \u001b[0mWARNING ⚠️ C:\\Users\\cwky\\datasets\\coco\\images\\val2017\\000000104803.jpg: ignoring corrupt image/label: [Errno 2] No such file or directory: 'C:\\\\Users\\\\cwky\\\\datasets\\\\coco\\\\images\\\\val2017\\\\000000104803.jpg'\n",
      "\u001b[34m\u001b[1mval: \u001b[0mWARNING ⚠️ C:\\Users\\cwky\\datasets\\coco\\images\\val2017\\000000105014.jpg: ignoring corrupt image/label: [Errno 2] No such file or directory: 'C:\\\\Users\\\\cwky\\\\datasets\\\\coco\\\\images\\\\val2017\\\\000000105014.jpg'\n",
      "\u001b[34m\u001b[1mval: \u001b[0mWARNING ⚠️ C:\\Users\\cwky\\datasets\\coco\\images\\val2017\\000000105249.jpg: ignoring corrupt image/label: [Errno 2] No such file or directory: 'C:\\\\Users\\\\cwky\\\\datasets\\\\coco\\\\images\\\\val2017\\\\000000105249.jpg'\n",
      "\u001b[34m\u001b[1mval: \u001b[0mWARNING ⚠️ C:\\Users\\cwky\\datasets\\coco\\images\\val2017\\000000105335.jpg: ignoring corrupt image/label: [Errno 2] No such file or directory: 'C:\\\\Users\\\\cwky\\\\datasets\\\\coco\\\\images\\\\val2017\\\\000000105335.jpg'\n",
      "\u001b[34m\u001b[1mval: \u001b[0mWARNING ⚠️ C:\\Users\\cwky\\datasets\\coco\\images\\val2017\\000000106235.jpg: ignoring corrupt image/label: [Errno 2] No such file or directory: 'C:\\\\Users\\\\cwky\\\\datasets\\\\coco\\\\images\\\\val2017\\\\000000106235.jpg'\n",
      "\u001b[34m\u001b[1mval: \u001b[0mWARNING ⚠️ C:\\Users\\cwky\\datasets\\coco\\images\\val2017\\000000106281.jpg: ignoring corrupt image/label: [Errno 2] No such file or directory: 'C:\\\\Users\\\\cwky\\\\datasets\\\\coco\\\\images\\\\val2017\\\\000000106281.jpg'\n",
      "\u001b[34m\u001b[1mval: \u001b[0mWARNING ⚠️ C:\\Users\\cwky\\datasets\\coco\\images\\val2017\\000000106563.jpg: ignoring corrupt image/label: [Errno 2] No such file or directory: 'C:\\\\Users\\\\cwky\\\\datasets\\\\coco\\\\images\\\\val2017\\\\000000106563.jpg'\n",
      "\u001b[34m\u001b[1mval: \u001b[0mWARNING ⚠️ C:\\Users\\cwky\\datasets\\coco\\images\\val2017\\000000107094.jpg: ignoring corrupt image/label: [Errno 2] No such file or directory: 'C:\\\\Users\\\\cwky\\\\datasets\\\\coco\\\\images\\\\val2017\\\\000000107094.jpg'\n",
      "\u001b[34m\u001b[1mval: \u001b[0mWARNING ⚠️ C:\\Users\\cwky\\datasets\\coco\\images\\val2017\\000000107851.jpg: ignoring corrupt image/label: [Errno 2] No such file or directory: 'C:\\\\Users\\\\cwky\\\\datasets\\\\coco\\\\images\\\\val2017\\\\000000107851.jpg'\n",
      "\u001b[34m\u001b[1mval: \u001b[0mWARNING ⚠️ C:\\Users\\cwky\\datasets\\coco\\images\\val2017\\000000108253.jpg: ignoring corrupt image/label: [Errno 2] No such file or directory: 'C:\\\\Users\\\\cwky\\\\datasets\\\\coco\\\\images\\\\val2017\\\\000000108253.jpg'\n",
      "\u001b[34m\u001b[1mval: \u001b[0mWARNING ⚠️ C:\\Users\\cwky\\datasets\\coco\\images\\val2017\\000000109313.jpg: ignoring corrupt image/label: [Errno 2] No such file or directory: 'C:\\\\Users\\\\cwky\\\\datasets\\\\coco\\\\images\\\\val2017\\\\000000109313.jpg'\n",
      "\u001b[34m\u001b[1mval: \u001b[0mWARNING ⚠️ C:\\Users\\cwky\\datasets\\coco\\images\\val2017\\000000109441.jpg: ignoring corrupt image/label: [Errno 2] No such file or directory: 'C:\\\\Users\\\\cwky\\\\datasets\\\\coco\\\\images\\\\val2017\\\\000000109441.jpg'\n",
      "\u001b[34m\u001b[1mval: \u001b[0mWARNING ⚠️ C:\\Users\\cwky\\datasets\\coco\\images\\val2017\\000000109798.jpg: ignoring corrupt image/label: [Errno 2] No such file or directory: 'C:\\\\Users\\\\cwky\\\\datasets\\\\coco\\\\images\\\\val2017\\\\000000109798.jpg'\n",
      "\u001b[34m\u001b[1mval: \u001b[0mWARNING ⚠️ C:\\Users\\cwky\\datasets\\coco\\images\\val2017\\000000109827.jpg: ignoring corrupt image/label: [Errno 2] No such file or directory: 'C:\\\\Users\\\\cwky\\\\datasets\\\\coco\\\\images\\\\val2017\\\\000000109827.jpg'\n",
      "\u001b[34m\u001b[1mval: \u001b[0mWARNING ⚠️ C:\\Users\\cwky\\datasets\\coco\\images\\val2017\\000000109900.jpg: ignoring corrupt image/label: [Errno 2] No such file or directory: 'C:\\\\Users\\\\cwky\\\\datasets\\\\coco\\\\images\\\\val2017\\\\000000109900.jpg'\n",
      "\u001b[34m\u001b[1mval: \u001b[0mWARNING ⚠️ C:\\Users\\cwky\\datasets\\coco\\images\\val2017\\000000110042.jpg: ignoring corrupt image/label: [Errno 2] No such file or directory: 'C:\\\\Users\\\\cwky\\\\datasets\\\\coco\\\\images\\\\val2017\\\\000000110042.jpg'\n",
      "\u001b[34m\u001b[1mval: \u001b[0mWARNING ⚠️ C:\\Users\\cwky\\datasets\\coco\\images\\val2017\\000000110211.jpg: ignoring corrupt image/label: [Errno 2] No such file or directory: 'C:\\\\Users\\\\cwky\\\\datasets\\\\coco\\\\images\\\\val2017\\\\000000110211.jpg'\n",
      "\u001b[34m\u001b[1mval: \u001b[0mWARNING ⚠️ C:\\Users\\cwky\\datasets\\coco\\images\\val2017\\000000110359.jpg: ignoring corrupt image/label: [Errno 2] No such file or directory: 'C:\\\\Users\\\\cwky\\\\datasets\\\\coco\\\\images\\\\val2017\\\\000000110359.jpg'\n",
      "\u001b[34m\u001b[1mval: \u001b[0mWARNING ⚠️ C:\\Users\\cwky\\datasets\\coco\\images\\val2017\\000000110449.jpg: ignoring corrupt image/label: [Errno 2] No such file or directory: 'C:\\\\Users\\\\cwky\\\\datasets\\\\coco\\\\images\\\\val2017\\\\000000110449.jpg'\n",
      "\u001b[34m\u001b[1mval: \u001b[0mWARNING ⚠️ C:\\Users\\cwky\\datasets\\coco\\images\\val2017\\000000110884.jpg: ignoring corrupt image/label: [Errno 2] No such file or directory: 'C:\\\\Users\\\\cwky\\\\datasets\\\\coco\\\\images\\\\val2017\\\\000000110884.jpg'\n",
      "\u001b[34m\u001b[1mval: \u001b[0mWARNING ⚠️ C:\\Users\\cwky\\datasets\\coco\\images\\val2017\\000000110999.jpg: ignoring corrupt image/label: [Errno 2] No such file or directory: 'C:\\\\Users\\\\cwky\\\\datasets\\\\coco\\\\images\\\\val2017\\\\000000110999.jpg'\n",
      "\u001b[34m\u001b[1mval: \u001b[0mWARNING ⚠️ C:\\Users\\cwky\\datasets\\coco\\images\\val2017\\000000111086.jpg: ignoring corrupt image/label: [Errno 2] No such file or directory: 'C:\\\\Users\\\\cwky\\\\datasets\\\\coco\\\\images\\\\val2017\\\\000000111086.jpg'\n",
      "\u001b[34m\u001b[1mval: \u001b[0mWARNING ⚠️ C:\\Users\\cwky\\datasets\\coco\\images\\val2017\\000000111609.jpg: ignoring corrupt image/label: [Errno 2] No such file or directory: 'C:\\\\Users\\\\cwky\\\\datasets\\\\coco\\\\images\\\\val2017\\\\000000111609.jpg'\n",
      "\u001b[34m\u001b[1mval: \u001b[0mWARNING ⚠️ C:\\Users\\cwky\\datasets\\coco\\images\\val2017\\000000111951.jpg: ignoring corrupt image/label: [Errno 2] No such file or directory: 'C:\\\\Users\\\\cwky\\\\datasets\\\\coco\\\\images\\\\val2017\\\\000000111951.jpg'\n",
      "\u001b[34m\u001b[1mval: \u001b[0mWARNING ⚠️ C:\\Users\\cwky\\datasets\\coco\\images\\val2017\\000000112378.jpg: ignoring corrupt image/label: [Errno 2] No such file or directory: 'C:\\\\Users\\\\cwky\\\\datasets\\\\coco\\\\images\\\\val2017\\\\000000112378.jpg'\n",
      "\u001b[34m\u001b[1mval: \u001b[0mWARNING ⚠️ C:\\Users\\cwky\\datasets\\coco\\images\\val2017\\000000112634.jpg: ignoring corrupt image/label: [Errno 2] No such file or directory: 'C:\\\\Users\\\\cwky\\\\datasets\\\\coco\\\\images\\\\val2017\\\\000000112634.jpg'\n",
      "\u001b[34m\u001b[1mval: \u001b[0mWARNING ⚠️ C:\\Users\\cwky\\datasets\\coco\\images\\val2017\\000000113051.jpg: ignoring corrupt image/label: [Errno 2] No such file or directory: 'C:\\\\Users\\\\cwky\\\\datasets\\\\coco\\\\images\\\\val2017\\\\000000113051.jpg'\n",
      "\u001b[34m\u001b[1mval: \u001b[0mWARNING ⚠️ C:\\Users\\cwky\\datasets\\coco\\images\\val2017\\000000113589.jpg: ignoring corrupt image/label: [Errno 2] No such file or directory: 'C:\\\\Users\\\\cwky\\\\datasets\\\\coco\\\\images\\\\val2017\\\\000000113589.jpg'\n",
      "\u001b[34m\u001b[1mval: \u001b[0mWARNING ⚠️ C:\\Users\\cwky\\datasets\\coco\\images\\val2017\\000000114049.jpg: ignoring corrupt image/label: [Errno 2] No such file or directory: 'C:\\\\Users\\\\cwky\\\\datasets\\\\coco\\\\images\\\\val2017\\\\000000114049.jpg'\n",
      "\u001b[34m\u001b[1mval: \u001b[0mWARNING ⚠️ C:\\Users\\cwky\\datasets\\coco\\images\\val2017\\000000114884.jpg: ignoring corrupt image/label: [Errno 2] No such file or directory: 'C:\\\\Users\\\\cwky\\\\datasets\\\\coco\\\\images\\\\val2017\\\\000000114884.jpg'\n",
      "\u001b[34m\u001b[1mval: \u001b[0mWARNING ⚠️ C:\\Users\\cwky\\datasets\\coco\\images\\val2017\\000000114907.jpg: ignoring corrupt image/label: [Errno 2] No such file or directory: 'C:\\\\Users\\\\cwky\\\\datasets\\\\coco\\\\images\\\\val2017\\\\000000114907.jpg'\n",
      "\u001b[34m\u001b[1mval: \u001b[0mWARNING ⚠️ C:\\Users\\cwky\\datasets\\coco\\images\\val2017\\000000115870.jpg: ignoring corrupt image/label: [Errno 2] No such file or directory: 'C:\\\\Users\\\\cwky\\\\datasets\\\\coco\\\\images\\\\val2017\\\\000000115870.jpg'\n",
      "\u001b[34m\u001b[1mval: \u001b[0mWARNING ⚠️ C:\\Users\\cwky\\datasets\\coco\\images\\val2017\\000000115898.jpg: ignoring corrupt image/label: [Errno 2] No such file or directory: 'C:\\\\Users\\\\cwky\\\\datasets\\\\coco\\\\images\\\\val2017\\\\000000115898.jpg'\n",
      "\u001b[34m\u001b[1mval: \u001b[0mWARNING ⚠️ C:\\Users\\cwky\\datasets\\coco\\images\\val2017\\000000116206.jpg: ignoring corrupt image/label: [Errno 2] No such file or directory: 'C:\\\\Users\\\\cwky\\\\datasets\\\\coco\\\\images\\\\val2017\\\\000000116206.jpg'\n",
      "\u001b[34m\u001b[1mval: \u001b[0mWARNING ⚠️ C:\\Users\\cwky\\datasets\\coco\\images\\val2017\\000000116208.jpg: ignoring corrupt image/label: [Errno 2] No such file or directory: 'C:\\\\Users\\\\cwky\\\\datasets\\\\coco\\\\images\\\\val2017\\\\000000116208.jpg'\n",
      "\u001b[34m\u001b[1mval: \u001b[0mWARNING ⚠️ C:\\Users\\cwky\\datasets\\coco\\images\\val2017\\000000116439.jpg: ignoring corrupt image/label: [Errno 2] No such file or directory: 'C:\\\\Users\\\\cwky\\\\datasets\\\\coco\\\\images\\\\val2017\\\\000000116439.jpg'\n",
      "\u001b[34m\u001b[1mval: \u001b[0mWARNING ⚠️ C:\\Users\\cwky\\datasets\\coco\\images\\val2017\\000000116479.jpg: ignoring corrupt image/label: [Errno 2] No such file or directory: 'C:\\\\Users\\\\cwky\\\\datasets\\\\coco\\\\images\\\\val2017\\\\000000116479.jpg'\n",
      "\u001b[34m\u001b[1mval: \u001b[0mWARNING ⚠️ C:\\Users\\cwky\\datasets\\coco\\images\\val2017\\000000116589.jpg: ignoring corrupt image/label: [Errno 2] No such file or directory: 'C:\\\\Users\\\\cwky\\\\datasets\\\\coco\\\\images\\\\val2017\\\\000000116589.jpg'\n",
      "\u001b[34m\u001b[1mval: \u001b[0mWARNING ⚠️ C:\\Users\\cwky\\datasets\\coco\\images\\val2017\\000000117908.jpg: ignoring corrupt image/label: [Errno 2] No such file or directory: 'C:\\\\Users\\\\cwky\\\\datasets\\\\coco\\\\images\\\\val2017\\\\000000117908.jpg'\n",
      "\u001b[34m\u001b[1mval: \u001b[0mWARNING ⚠️ C:\\Users\\cwky\\datasets\\coco\\images\\val2017\\000000117914.jpg: ignoring corrupt image/label: [Errno 2] No such file or directory: 'C:\\\\Users\\\\cwky\\\\datasets\\\\coco\\\\images\\\\val2017\\\\000000117914.jpg'\n",
      "\u001b[34m\u001b[1mval: \u001b[0mWARNING ⚠️ C:\\Users\\cwky\\datasets\\coco\\images\\val2017\\000000118209.jpg: ignoring corrupt image/label: [Errno 2] No such file or directory: 'C:\\\\Users\\\\cwky\\\\datasets\\\\coco\\\\images\\\\val2017\\\\000000118209.jpg'\n",
      "\u001b[34m\u001b[1mval: \u001b[0mWARNING ⚠️ C:\\Users\\cwky\\datasets\\coco\\images\\val2017\\000000118367.jpg: ignoring corrupt image/label: [Errno 2] No such file or directory: 'C:\\\\Users\\\\cwky\\\\datasets\\\\coco\\\\images\\\\val2017\\\\000000118367.jpg'\n",
      "\u001b[34m\u001b[1mval: \u001b[0mWARNING ⚠️ C:\\Users\\cwky\\datasets\\coco\\images\\val2017\\000000118594.jpg: ignoring corrupt image/label: [Errno 2] No such file or directory: 'C:\\\\Users\\\\cwky\\\\datasets\\\\coco\\\\images\\\\val2017\\\\000000118594.jpg'\n",
      "\u001b[34m\u001b[1mval: \u001b[0mWARNING ⚠️ C:\\Users\\cwky\\datasets\\coco\\images\\val2017\\000000118921.jpg: ignoring corrupt image/label: [Errno 2] No such file or directory: 'C:\\\\Users\\\\cwky\\\\datasets\\\\coco\\\\images\\\\val2017\\\\000000118921.jpg'\n",
      "\u001b[34m\u001b[1mval: \u001b[0mWARNING ⚠️ C:\\Users\\cwky\\datasets\\coco\\images\\val2017\\000000119365.jpg: ignoring corrupt image/label: [Errno 2] No such file or directory: 'C:\\\\Users\\\\cwky\\\\datasets\\\\coco\\\\images\\\\val2017\\\\000000119365.jpg'\n",
      "\u001b[34m\u001b[1mval: \u001b[0mWARNING ⚠️ C:\\Users\\cwky\\datasets\\coco\\images\\val2017\\000000119452.jpg: ignoring corrupt image/label: [Errno 2] No such file or directory: 'C:\\\\Users\\\\cwky\\\\datasets\\\\coco\\\\images\\\\val2017\\\\000000119452.jpg'\n",
      "\u001b[34m\u001b[1mval: \u001b[0mWARNING ⚠️ C:\\Users\\cwky\\datasets\\coco\\images\\val2017\\000000119828.jpg: ignoring corrupt image/label: [Errno 2] No such file or directory: 'C:\\\\Users\\\\cwky\\\\datasets\\\\coco\\\\images\\\\val2017\\\\000000119828.jpg'\n",
      "\u001b[34m\u001b[1mval: \u001b[0mWARNING ⚠️ C:\\Users\\cwky\\datasets\\coco\\images\\val2017\\000000119911.jpg: ignoring corrupt image/label: [Errno 2] No such file or directory: 'C:\\\\Users\\\\cwky\\\\datasets\\\\coco\\\\images\\\\val2017\\\\000000119911.jpg'\n",
      "\u001b[34m\u001b[1mval: \u001b[0mWARNING ⚠️ C:\\Users\\cwky\\datasets\\coco\\images\\val2017\\000000120853.jpg: ignoring corrupt image/label: [Errno 2] No such file or directory: 'C:\\\\Users\\\\cwky\\\\datasets\\\\coco\\\\images\\\\val2017\\\\000000120853.jpg'\n",
      "\u001b[34m\u001b[1mval: \u001b[0mWARNING ⚠️ C:\\Users\\cwky\\datasets\\coco\\images\\val2017\\000000121031.jpg: ignoring corrupt image/label: [Errno 2] No such file or directory: 'C:\\\\Users\\\\cwky\\\\datasets\\\\coco\\\\images\\\\val2017\\\\000000121031.jpg'\n",
      "\u001b[34m\u001b[1mval: \u001b[0mWARNING ⚠️ C:\\Users\\cwky\\datasets\\coco\\images\\val2017\\000000121497.jpg: ignoring corrupt image/label: [Errno 2] No such file or directory: 'C:\\\\Users\\\\cwky\\\\datasets\\\\coco\\\\images\\\\val2017\\\\000000121497.jpg'\n",
      "\u001b[34m\u001b[1mval: \u001b[0mWARNING ⚠️ C:\\Users\\cwky\\datasets\\coco\\images\\val2017\\000000121673.jpg: ignoring corrupt image/label: [Errno 2] No such file or directory: 'C:\\\\Users\\\\cwky\\\\datasets\\\\coco\\\\images\\\\val2017\\\\000000121673.jpg'\n",
      "\u001b[34m\u001b[1mval: \u001b[0mWARNING ⚠️ C:\\Users\\cwky\\datasets\\coco\\images\\val2017\\000000122672.jpg: ignoring corrupt image/label: [Errno 2] No such file or directory: 'C:\\\\Users\\\\cwky\\\\datasets\\\\coco\\\\images\\\\val2017\\\\000000122672.jpg'\n",
      "\u001b[34m\u001b[1mval: \u001b[0mWARNING ⚠️ C:\\Users\\cwky\\datasets\\coco\\images\\val2017\\000000123131.jpg: ignoring corrupt image/label: [Errno 2] No such file or directory: 'C:\\\\Users\\\\cwky\\\\datasets\\\\coco\\\\images\\\\val2017\\\\000000123131.jpg'\n",
      "\u001b[34m\u001b[1mval: \u001b[0mWARNING ⚠️ C:\\Users\\cwky\\datasets\\coco\\images\\val2017\\000000123213.jpg: ignoring corrupt image/label: [Errno 2] No such file or directory: 'C:\\\\Users\\\\cwky\\\\datasets\\\\coco\\\\images\\\\val2017\\\\000000123213.jpg'\n",
      "\u001b[34m\u001b[1mval: \u001b[0mWARNING ⚠️ C:\\Users\\cwky\\datasets\\coco\\images\\val2017\\000000123321.jpg: ignoring corrupt image/label: [Errno 2] No such file or directory: 'C:\\\\Users\\\\cwky\\\\datasets\\\\coco\\\\images\\\\val2017\\\\000000123321.jpg'\n",
      "\u001b[34m\u001b[1mval: \u001b[0mWARNING ⚠️ C:\\Users\\cwky\\datasets\\coco\\images\\val2017\\000000123585.jpg: ignoring corrupt image/label: [Errno 2] No such file or directory: 'C:\\\\Users\\\\cwky\\\\datasets\\\\coco\\\\images\\\\val2017\\\\000000123585.jpg'\n",
      "\u001b[34m\u001b[1mval: \u001b[0mWARNING ⚠️ C:\\Users\\cwky\\datasets\\coco\\images\\val2017\\000000123633.jpg: ignoring corrupt image/label: [Errno 2] No such file or directory: 'C:\\\\Users\\\\cwky\\\\datasets\\\\coco\\\\images\\\\val2017\\\\000000123633.jpg'\n",
      "\u001b[34m\u001b[1mval: \u001b[0mWARNING ⚠️ C:\\Users\\cwky\\datasets\\coco\\images\\val2017\\000000124277.jpg: ignoring corrupt image/label: [Errno 2] No such file or directory: 'C:\\\\Users\\\\cwky\\\\datasets\\\\coco\\\\images\\\\val2017\\\\000000124277.jpg'\n",
      "\u001b[34m\u001b[1mval: \u001b[0mWARNING ⚠️ C:\\Users\\cwky\\datasets\\coco\\images\\val2017\\000000124636.jpg: ignoring corrupt image/label: [Errno 2] No such file or directory: 'C:\\\\Users\\\\cwky\\\\datasets\\\\coco\\\\images\\\\val2017\\\\000000124636.jpg'\n",
      "\u001b[34m\u001b[1mval: \u001b[0mWARNING ⚠️ C:\\Users\\cwky\\datasets\\coco\\images\\val2017\\000000124798.jpg: ignoring corrupt image/label: [Errno 2] No such file or directory: 'C:\\\\Users\\\\cwky\\\\datasets\\\\coco\\\\images\\\\val2017\\\\000000124798.jpg'\n",
      "\u001b[34m\u001b[1mval: \u001b[0mWARNING ⚠️ C:\\Users\\cwky\\datasets\\coco\\images\\val2017\\000000125062.jpg: ignoring corrupt image/label: [Errno 2] No such file or directory: 'C:\\\\Users\\\\cwky\\\\datasets\\\\coco\\\\images\\\\val2017\\\\000000125062.jpg'\n",
      "\u001b[34m\u001b[1mval: \u001b[0mWARNING ⚠️ C:\\Users\\cwky\\datasets\\coco\\images\\val2017\\000000125245.jpg: ignoring corrupt image/label: [Errno 2] No such file or directory: 'C:\\\\Users\\\\cwky\\\\datasets\\\\coco\\\\images\\\\val2017\\\\000000125245.jpg'\n",
      "\u001b[34m\u001b[1mval: \u001b[0mWARNING ⚠️ C:\\Users\\cwky\\datasets\\coco\\images\\val2017\\000000125257.jpg: ignoring corrupt image/label: [Errno 2] No such file or directory: 'C:\\\\Users\\\\cwky\\\\datasets\\\\coco\\\\images\\\\val2017\\\\000000125257.jpg'\n",
      "\u001b[34m\u001b[1mval: \u001b[0mWARNING ⚠️ C:\\Users\\cwky\\datasets\\coco\\images\\val2017\\000000125472.jpg: ignoring corrupt image/label: [Errno 2] No such file or directory: 'C:\\\\Users\\\\cwky\\\\datasets\\\\coco\\\\images\\\\val2017\\\\000000125472.jpg'\n",
      "\u001b[34m\u001b[1mval: \u001b[0mWARNING ⚠️ C:\\Users\\cwky\\datasets\\coco\\images\\val2017\\000000125806.jpg: ignoring corrupt image/label: [Errno 2] No such file or directory: 'C:\\\\Users\\\\cwky\\\\datasets\\\\coco\\\\images\\\\val2017\\\\000000125806.jpg'\n",
      "\u001b[34m\u001b[1mval: \u001b[0mWARNING ⚠️ C:\\Users\\cwky\\datasets\\coco\\images\\val2017\\000000125850.jpg: ignoring corrupt image/label: [Errno 2] No such file or directory: 'C:\\\\Users\\\\cwky\\\\datasets\\\\coco\\\\images\\\\val2017\\\\000000125850.jpg'\n",
      "\u001b[34m\u001b[1mval: \u001b[0mWARNING ⚠️ C:\\Users\\cwky\\datasets\\coco\\images\\val2017\\000000125936.jpg: ignoring corrupt image/label: [Errno 2] No such file or directory: 'C:\\\\Users\\\\cwky\\\\datasets\\\\coco\\\\images\\\\val2017\\\\000000125936.jpg'\n",
      "\u001b[34m\u001b[1mval: \u001b[0mWARNING ⚠️ C:\\Users\\cwky\\datasets\\coco\\images\\val2017\\000000125952.jpg: ignoring corrupt image/label: [Errno 2] No such file or directory: 'C:\\\\Users\\\\cwky\\\\datasets\\\\coco\\\\images\\\\val2017\\\\000000125952.jpg'\n",
      "\u001b[34m\u001b[1mval: \u001b[0mWARNING ⚠️ C:\\Users\\cwky\\datasets\\coco\\images\\val2017\\000000126110.jpg: ignoring corrupt image/label: [Errno 2] No such file or directory: 'C:\\\\Users\\\\cwky\\\\datasets\\\\coco\\\\images\\\\val2017\\\\000000126110.jpg'\n",
      "\u001b[34m\u001b[1mval: \u001b[0mWARNING ⚠️ C:\\Users\\cwky\\datasets\\coco\\images\\val2017\\000000126137.jpg: ignoring corrupt image/label: [Errno 2] No such file or directory: 'C:\\\\Users\\\\cwky\\\\datasets\\\\coco\\\\images\\\\val2017\\\\000000126137.jpg'\n",
      "\u001b[34m\u001b[1mval: \u001b[0mWARNING ⚠️ C:\\Users\\cwky\\datasets\\coco\\images\\val2017\\000000127135.jpg: ignoring corrupt image/label: [Errno 2] No such file or directory: 'C:\\\\Users\\\\cwky\\\\datasets\\\\coco\\\\images\\\\val2017\\\\000000127135.jpg'\n",
      "\u001b[34m\u001b[1mval: \u001b[0mWARNING ⚠️ C:\\Users\\cwky\\datasets\\coco\\images\\val2017\\000000127394.jpg: ignoring corrupt image/label: [Errno 2] No such file or directory: 'C:\\\\Users\\\\cwky\\\\datasets\\\\coco\\\\images\\\\val2017\\\\000000127394.jpg'\n",
      "\u001b[34m\u001b[1mval: \u001b[0mWARNING ⚠️ C:\\Users\\cwky\\datasets\\coco\\images\\val2017\\000000127494.jpg: ignoring corrupt image/label: [Errno 2] No such file or directory: 'C:\\\\Users\\\\cwky\\\\datasets\\\\coco\\\\images\\\\val2017\\\\000000127494.jpg'\n",
      "\u001b[34m\u001b[1mval: \u001b[0mWARNING ⚠️ C:\\Users\\cwky\\datasets\\coco\\images\\val2017\\000000127530.jpg: ignoring corrupt image/label: [Errno 2] No such file or directory: 'C:\\\\Users\\\\cwky\\\\datasets\\\\coco\\\\images\\\\val2017\\\\000000127530.jpg'\n",
      "\u001b[34m\u001b[1mval: \u001b[0mWARNING ⚠️ C:\\Users\\cwky\\datasets\\coco\\images\\val2017\\000000127660.jpg: ignoring corrupt image/label: [Errno 2] No such file or directory: 'C:\\\\Users\\\\cwky\\\\datasets\\\\coco\\\\images\\\\val2017\\\\000000127660.jpg'\n",
      "\u001b[34m\u001b[1mval: \u001b[0mWARNING ⚠️ C:\\Users\\cwky\\datasets\\coco\\images\\val2017\\000000127987.jpg: ignoring corrupt image/label: [Errno 2] No such file or directory: 'C:\\\\Users\\\\cwky\\\\datasets\\\\coco\\\\images\\\\val2017\\\\000000127987.jpg'\n",
      "\u001b[34m\u001b[1mval: \u001b[0mWARNING ⚠️ C:\\Users\\cwky\\datasets\\coco\\images\\val2017\\000000128112.jpg: ignoring corrupt image/label: [Errno 2] No such file or directory: 'C:\\\\Users\\\\cwky\\\\datasets\\\\coco\\\\images\\\\val2017\\\\000000128112.jpg'\n",
      "\u001b[34m\u001b[1mval: \u001b[0mWARNING ⚠️ C:\\Users\\cwky\\datasets\\coco\\images\\val2017\\000000128372.jpg: ignoring corrupt image/label: [Errno 2] No such file or directory: 'C:\\\\Users\\\\cwky\\\\datasets\\\\coco\\\\images\\\\val2017\\\\000000128372.jpg'\n",
      "\u001b[34m\u001b[1mval: \u001b[0mWARNING ⚠️ C:\\Users\\cwky\\datasets\\coco\\images\\val2017\\000000128658.jpg: ignoring corrupt image/label: [Errno 2] No such file or directory: 'C:\\\\Users\\\\cwky\\\\datasets\\\\coco\\\\images\\\\val2017\\\\000000128658.jpg'\n",
      "\u001b[34m\u001b[1mval: \u001b[0mWARNING ⚠️ C:\\Users\\cwky\\datasets\\coco\\images\\val2017\\000000128748.jpg: ignoring corrupt image/label: [Errno 2] No such file or directory: 'C:\\\\Users\\\\cwky\\\\datasets\\\\coco\\\\images\\\\val2017\\\\000000128748.jpg'\n",
      "\u001b[34m\u001b[1mval: \u001b[0mWARNING ⚠️ C:\\Users\\cwky\\datasets\\coco\\images\\val2017\\000000129054.jpg: ignoring corrupt image/label: [Errno 2] No such file or directory: 'C:\\\\Users\\\\cwky\\\\datasets\\\\coco\\\\images\\\\val2017\\\\000000129054.jpg'\n",
      "\u001b[34m\u001b[1mval: \u001b[0mWARNING ⚠️ C:\\Users\\cwky\\datasets\\coco\\images\\val2017\\000000129113.jpg: ignoring corrupt image/label: [Errno 2] No such file or directory: 'C:\\\\Users\\\\cwky\\\\datasets\\\\coco\\\\images\\\\val2017\\\\000000129113.jpg'\n",
      "\u001b[34m\u001b[1mval: \u001b[0mWARNING ⚠️ C:\\Users\\cwky\\datasets\\coco\\images\\val2017\\000000129135.jpg: ignoring corrupt image/label: [Errno 2] No such file or directory: 'C:\\\\Users\\\\cwky\\\\datasets\\\\coco\\\\images\\\\val2017\\\\000000129135.jpg'\n",
      "\u001b[34m\u001b[1mval: \u001b[0mWARNING ⚠️ C:\\Users\\cwky\\datasets\\coco\\images\\val2017\\000000129322.jpg: ignoring corrupt image/label: [Errno 2] No such file or directory: 'C:\\\\Users\\\\cwky\\\\datasets\\\\coco\\\\images\\\\val2017\\\\000000129322.jpg'\n",
      "\u001b[34m\u001b[1mval: \u001b[0mWARNING ⚠️ C:\\Users\\cwky\\datasets\\coco\\images\\val2017\\000000129756.jpg: ignoring corrupt image/label: [Errno 2] No such file or directory: 'C:\\\\Users\\\\cwky\\\\datasets\\\\coco\\\\images\\\\val2017\\\\000000129756.jpg'\n",
      "\u001b[34m\u001b[1mval: \u001b[0mWARNING ⚠️ C:\\Users\\cwky\\datasets\\coco\\images\\val2017\\000000130465.jpg: ignoring corrupt image/label: [Errno 2] No such file or directory: 'C:\\\\Users\\\\cwky\\\\datasets\\\\coco\\\\images\\\\val2017\\\\000000130465.jpg'\n",
      "\u001b[34m\u001b[1mval: \u001b[0mWARNING ⚠️ C:\\Users\\cwky\\datasets\\coco\\images\\val2017\\000000130566.jpg: ignoring corrupt image/label: [Errno 2] No such file or directory: 'C:\\\\Users\\\\cwky\\\\datasets\\\\coco\\\\images\\\\val2017\\\\000000130566.jpg'\n",
      "\u001b[34m\u001b[1mval: \u001b[0mWARNING ⚠️ C:\\Users\\cwky\\datasets\\coco\\images\\val2017\\000000130586.jpg: ignoring corrupt image/label: [Errno 2] No such file or directory: 'C:\\\\Users\\\\cwky\\\\datasets\\\\coco\\\\images\\\\val2017\\\\000000130586.jpg'\n",
      "\u001b[34m\u001b[1mval: \u001b[0mWARNING ⚠️ C:\\Users\\cwky\\datasets\\coco\\images\\val2017\\000000131938.jpg: ignoring corrupt image/label: [Errno 2] No such file or directory: 'C:\\\\Users\\\\cwky\\\\datasets\\\\coco\\\\images\\\\val2017\\\\000000131938.jpg'\n",
      "\u001b[34m\u001b[1mval: \u001b[0mWARNING ⚠️ C:\\Users\\cwky\\datasets\\coco\\images\\val2017\\000000132622.jpg: ignoring corrupt image/label: [Errno 2] No such file or directory: 'C:\\\\Users\\\\cwky\\\\datasets\\\\coco\\\\images\\\\val2017\\\\000000132622.jpg'\n",
      "\u001b[34m\u001b[1mval: \u001b[0mWARNING ⚠️ C:\\Users\\cwky\\datasets\\coco\\images\\val2017\\000000132796.jpg: ignoring corrupt image/label: [Errno 2] No such file or directory: 'C:\\\\Users\\\\cwky\\\\datasets\\\\coco\\\\images\\\\val2017\\\\000000132796.jpg'\n",
      "\u001b[34m\u001b[1mval: \u001b[0mWARNING ⚠️ C:\\Users\\cwky\\datasets\\coco\\images\\val2017\\000000132931.jpg: ignoring corrupt image/label: [Errno 2] No such file or directory: 'C:\\\\Users\\\\cwky\\\\datasets\\\\coco\\\\images\\\\val2017\\\\000000132931.jpg'\n",
      "\u001b[34m\u001b[1mval: \u001b[0mWARNING ⚠️ C:\\Users\\cwky\\datasets\\coco\\images\\val2017\\000000133233.jpg: ignoring corrupt image/label: [Errno 2] No such file or directory: 'C:\\\\Users\\\\cwky\\\\datasets\\\\coco\\\\images\\\\val2017\\\\000000133233.jpg'\n",
      "\u001b[34m\u001b[1mval: \u001b[0mWARNING ⚠️ C:\\Users\\cwky\\datasets\\coco\\images\\val2017\\000000133244.jpg: ignoring corrupt image/label: [Errno 2] No such file or directory: 'C:\\\\Users\\\\cwky\\\\datasets\\\\coco\\\\images\\\\val2017\\\\000000133244.jpg'\n",
      "\u001b[34m\u001b[1mval: \u001b[0mWARNING ⚠️ C:\\Users\\cwky\\datasets\\coco\\images\\val2017\\000000133819.jpg: ignoring corrupt image/label: [Errno 2] No such file or directory: 'C:\\\\Users\\\\cwky\\\\datasets\\\\coco\\\\images\\\\val2017\\\\000000133819.jpg'\n",
      "\u001b[34m\u001b[1mval: \u001b[0mWARNING ⚠️ C:\\Users\\cwky\\datasets\\coco\\images\\val2017\\000000133969.jpg: ignoring corrupt image/label: [Errno 2] No such file or directory: 'C:\\\\Users\\\\cwky\\\\datasets\\\\coco\\\\images\\\\val2017\\\\000000133969.jpg'\n",
      "\u001b[34m\u001b[1mval: \u001b[0mWARNING ⚠️ C:\\Users\\cwky\\datasets\\coco\\images\\val2017\\000000134112.jpg: ignoring corrupt image/label: [Errno 2] No such file or directory: 'C:\\\\Users\\\\cwky\\\\datasets\\\\coco\\\\images\\\\val2017\\\\000000134112.jpg'\n",
      "\u001b[34m\u001b[1mval: \u001b[0mWARNING ⚠️ C:\\Users\\cwky\\datasets\\coco\\images\\val2017\\000000134322.jpg: ignoring corrupt image/label: [Errno 2] No such file or directory: 'C:\\\\Users\\\\cwky\\\\datasets\\\\coco\\\\images\\\\val2017\\\\000000134322.jpg'\n",
      "\u001b[34m\u001b[1mval: \u001b[0mWARNING ⚠️ C:\\Users\\cwky\\datasets\\coco\\images\\val2017\\000000134886.jpg: ignoring corrupt image/label: [Errno 2] No such file or directory: 'C:\\\\Users\\\\cwky\\\\datasets\\\\coco\\\\images\\\\val2017\\\\000000134886.jpg'\n",
      "\u001b[34m\u001b[1mval: \u001b[0mWARNING ⚠️ C:\\Users\\cwky\\datasets\\coco\\images\\val2017\\000000135604.jpg: ignoring corrupt image/label: [Errno 2] No such file or directory: 'C:\\\\Users\\\\cwky\\\\datasets\\\\coco\\\\images\\\\val2017\\\\000000135604.jpg'\n",
      "\u001b[34m\u001b[1mval: \u001b[0mWARNING ⚠️ C:\\Users\\cwky\\datasets\\coco\\images\\val2017\\000000135890.jpg: ignoring corrupt image/label: [Errno 2] No such file or directory: 'C:\\\\Users\\\\cwky\\\\datasets\\\\coco\\\\images\\\\val2017\\\\000000135890.jpg'\n",
      "\u001b[34m\u001b[1mval: \u001b[0mWARNING ⚠️ C:\\Users\\cwky\\datasets\\coco\\images\\val2017\\000000135902.jpg: ignoring corrupt image/label: [Errno 2] No such file or directory: 'C:\\\\Users\\\\cwky\\\\datasets\\\\coco\\\\images\\\\val2017\\\\000000135902.jpg'\n",
      "\u001b[34m\u001b[1mval: \u001b[0mWARNING ⚠️ C:\\Users\\cwky\\datasets\\coco\\images\\val2017\\000000136033.jpg: ignoring corrupt image/label: [Errno 2] No such file or directory: 'C:\\\\Users\\\\cwky\\\\datasets\\\\coco\\\\images\\\\val2017\\\\000000136033.jpg'\n",
      "\u001b[34m\u001b[1mval: \u001b[0mWARNING ⚠️ C:\\Users\\cwky\\datasets\\coco\\images\\val2017\\000000137294.jpg: ignoring corrupt image/label: [Errno 2] No such file or directory: 'C:\\\\Users\\\\cwky\\\\datasets\\\\coco\\\\images\\\\val2017\\\\000000137294.jpg'\n",
      "\u001b[34m\u001b[1mval: \u001b[0mWARNING ⚠️ C:\\Users\\cwky\\datasets\\coco\\images\\val2017\\000000137576.jpg: ignoring corrupt image/label: [Errno 2] No such file or directory: 'C:\\\\Users\\\\cwky\\\\datasets\\\\coco\\\\images\\\\val2017\\\\000000137576.jpg'\n",
      "\u001b[34m\u001b[1mval: \u001b[0mWARNING ⚠️ C:\\Users\\cwky\\datasets\\coco\\images\\val2017\\000000137727.jpg: ignoring corrupt image/label: [Errno 2] No such file or directory: 'C:\\\\Users\\\\cwky\\\\datasets\\\\coco\\\\images\\\\val2017\\\\000000137727.jpg'\n",
      "\u001b[34m\u001b[1mval: \u001b[0mWARNING ⚠️ C:\\Users\\cwky\\datasets\\coco\\images\\val2017\\000000138492.jpg: ignoring corrupt image/label: [Errno 2] No such file or directory: 'C:\\\\Users\\\\cwky\\\\datasets\\\\coco\\\\images\\\\val2017\\\\000000138492.jpg'\n",
      "\u001b[34m\u001b[1mval: \u001b[0mWARNING ⚠️ C:\\Users\\cwky\\datasets\\coco\\images\\val2017\\000000138819.jpg: ignoring corrupt image/label: [Errno 2] No such file or directory: 'C:\\\\Users\\\\cwky\\\\datasets\\\\coco\\\\images\\\\val2017\\\\000000138819.jpg'\n",
      "\u001b[34m\u001b[1mval: \u001b[0mWARNING ⚠️ C:\\Users\\cwky\\datasets\\coco\\images\\val2017\\000000138856.jpg: ignoring corrupt image/label: [Errno 2] No such file or directory: 'C:\\\\Users\\\\cwky\\\\datasets\\\\coco\\\\images\\\\val2017\\\\000000138856.jpg'\n",
      "\u001b[34m\u001b[1mval: \u001b[0mWARNING ⚠️ C:\\Users\\cwky\\datasets\\coco\\images\\val2017\\000000138954.jpg: ignoring corrupt image/label: [Errno 2] No such file or directory: 'C:\\\\Users\\\\cwky\\\\datasets\\\\coco\\\\images\\\\val2017\\\\000000138954.jpg'\n",
      "\u001b[34m\u001b[1mval: \u001b[0mWARNING ⚠️ C:\\Users\\cwky\\datasets\\coco\\images\\val2017\\000000139260.jpg: ignoring corrupt image/label: [Errno 2] No such file or directory: 'C:\\\\Users\\\\cwky\\\\datasets\\\\coco\\\\images\\\\val2017\\\\000000139260.jpg'\n",
      "\u001b[34m\u001b[1mval: \u001b[0mWARNING ⚠️ C:\\Users\\cwky\\datasets\\coco\\images\\val2017\\000000139883.jpg: ignoring corrupt image/label: [Errno 2] No such file or directory: 'C:\\\\Users\\\\cwky\\\\datasets\\\\coco\\\\images\\\\val2017\\\\000000139883.jpg'\n",
      "\u001b[34m\u001b[1mval: \u001b[0mWARNING ⚠️ C:\\Users\\cwky\\datasets\\coco\\images\\val2017\\000000140076.jpg: ignoring corrupt image/label: [Errno 2] No such file or directory: 'C:\\\\Users\\\\cwky\\\\datasets\\\\coco\\\\images\\\\val2017\\\\000000140076.jpg'\n",
      "\u001b[34m\u001b[1mval: \u001b[0mWARNING ⚠️ C:\\Users\\cwky\\datasets\\coco\\images\\val2017\\000000140286.jpg: ignoring corrupt image/label: [Errno 2] No such file or directory: 'C:\\\\Users\\\\cwky\\\\datasets\\\\coco\\\\images\\\\val2017\\\\000000140286.jpg'\n",
      "\u001b[34m\u001b[1mval: \u001b[0mWARNING ⚠️ C:\\Users\\cwky\\datasets\\coco\\images\\val2017\\000000140556.jpg: ignoring corrupt image/label: [Errno 2] No such file or directory: 'C:\\\\Users\\\\cwky\\\\datasets\\\\coco\\\\images\\\\val2017\\\\000000140556.jpg'\n",
      "\u001b[34m\u001b[1mval: \u001b[0mWARNING ⚠️ C:\\Users\\cwky\\datasets\\coco\\images\\val2017\\000000140583.jpg: ignoring corrupt image/label: [Errno 2] No such file or directory: 'C:\\\\Users\\\\cwky\\\\datasets\\\\coco\\\\images\\\\val2017\\\\000000140583.jpg'\n",
      "\u001b[34m\u001b[1mval: \u001b[0mWARNING ⚠️ C:\\Users\\cwky\\datasets\\coco\\images\\val2017\\000000140840.jpg: ignoring corrupt image/label: [Errno 2] No such file or directory: 'C:\\\\Users\\\\cwky\\\\datasets\\\\coco\\\\images\\\\val2017\\\\000000140840.jpg'\n",
      "\u001b[34m\u001b[1mval: \u001b[0mWARNING ⚠️ C:\\Users\\cwky\\datasets\\coco\\images\\val2017\\000000140987.jpg: ignoring corrupt image/label: [Errno 2] No such file or directory: 'C:\\\\Users\\\\cwky\\\\datasets\\\\coco\\\\images\\\\val2017\\\\000000140987.jpg'\n",
      "\u001b[34m\u001b[1mval: \u001b[0mWARNING ⚠️ C:\\Users\\cwky\\datasets\\coco\\images\\val2017\\000000141328.jpg: ignoring corrupt image/label: [Errno 2] No such file or directory: 'C:\\\\Users\\\\cwky\\\\datasets\\\\coco\\\\images\\\\val2017\\\\000000141328.jpg'\n",
      "\u001b[34m\u001b[1mval: \u001b[0mWARNING ⚠️ C:\\Users\\cwky\\datasets\\coco\\images\\val2017\\000000142092.jpg: ignoring corrupt image/label: [Errno 2] No such file or directory: 'C:\\\\Users\\\\cwky\\\\datasets\\\\coco\\\\images\\\\val2017\\\\000000142092.jpg'\n",
      "\u001b[34m\u001b[1mval: \u001b[0mWARNING ⚠️ C:\\Users\\cwky\\datasets\\coco\\images\\val2017\\000000142790.jpg: ignoring corrupt image/label: [Errno 2] No such file or directory: 'C:\\\\Users\\\\cwky\\\\datasets\\\\coco\\\\images\\\\val2017\\\\000000142790.jpg'\n",
      "\u001b[34m\u001b[1mval: \u001b[0mWARNING ⚠️ C:\\Users\\cwky\\datasets\\coco\\images\\val2017\\000000142971.jpg: ignoring corrupt image/label: [Errno 2] No such file or directory: 'C:\\\\Users\\\\cwky\\\\datasets\\\\coco\\\\images\\\\val2017\\\\000000142971.jpg'\n",
      "\u001b[34m\u001b[1mval: \u001b[0mWARNING ⚠️ C:\\Users\\cwky\\datasets\\coco\\images\\val2017\\000000144114.jpg: ignoring corrupt image/label: [Errno 2] No such file or directory: 'C:\\\\Users\\\\cwky\\\\datasets\\\\coco\\\\images\\\\val2017\\\\000000144114.jpg'\n",
      "\u001b[34m\u001b[1mval: \u001b[0mWARNING ⚠️ C:\\Users\\cwky\\datasets\\coco\\images\\val2017\\000000144984.jpg: ignoring corrupt image/label: [Errno 2] No such file or directory: 'C:\\\\Users\\\\cwky\\\\datasets\\\\coco\\\\images\\\\val2017\\\\000000144984.jpg'\n",
      "\u001b[34m\u001b[1mval: \u001b[0mWARNING ⚠️ C:\\Users\\cwky\\datasets\\coco\\images\\val2017\\000000145620.jpg: ignoring corrupt image/label: [Errno 2] No such file or directory: 'C:\\\\Users\\\\cwky\\\\datasets\\\\coco\\\\images\\\\val2017\\\\000000145620.jpg'\n",
      "\u001b[34m\u001b[1mval: \u001b[0mWARNING ⚠️ C:\\Users\\cwky\\datasets\\coco\\images\\val2017\\000000146155.jpg: ignoring corrupt image/label: [Errno 2] No such file or directory: 'C:\\\\Users\\\\cwky\\\\datasets\\\\coco\\\\images\\\\val2017\\\\000000146155.jpg'\n",
      "\u001b[34m\u001b[1mval: \u001b[0mWARNING ⚠️ C:\\Users\\cwky\\datasets\\coco\\images\\val2017\\000000146363.jpg: ignoring corrupt image/label: [Errno 2] No such file or directory: 'C:\\\\Users\\\\cwky\\\\datasets\\\\coco\\\\images\\\\val2017\\\\000000146363.jpg'\n",
      "\u001b[34m\u001b[1mval: \u001b[0mWARNING ⚠️ C:\\Users\\cwky\\datasets\\coco\\images\\val2017\\000000146489.jpg: ignoring corrupt image/label: [Errno 2] No such file or directory: 'C:\\\\Users\\\\cwky\\\\datasets\\\\coco\\\\images\\\\val2017\\\\000000146489.jpg'\n",
      "\u001b[34m\u001b[1mval: \u001b[0mWARNING ⚠️ C:\\Users\\cwky\\datasets\\coco\\images\\val2017\\000000147205.jpg: ignoring corrupt image/label: [Errno 2] No such file or directory: 'C:\\\\Users\\\\cwky\\\\datasets\\\\coco\\\\images\\\\val2017\\\\000000147205.jpg'\n",
      "\u001b[34m\u001b[1mval: \u001b[0mWARNING ⚠️ C:\\Users\\cwky\\datasets\\coco\\images\\val2017\\000000147729.jpg: ignoring corrupt image/label: [Errno 2] No such file or directory: 'C:\\\\Users\\\\cwky\\\\datasets\\\\coco\\\\images\\\\val2017\\\\000000147729.jpg'\n",
      "\u001b[34m\u001b[1mval: \u001b[0mWARNING ⚠️ C:\\Users\\cwky\\datasets\\coco\\images\\val2017\\000000148662.jpg: ignoring corrupt image/label: [Errno 2] No such file or directory: 'C:\\\\Users\\\\cwky\\\\datasets\\\\coco\\\\images\\\\val2017\\\\000000148662.jpg'\n",
      "\u001b[34m\u001b[1mval: \u001b[0mWARNING ⚠️ C:\\Users\\cwky\\datasets\\coco\\images\\val2017\\000000148719.jpg: ignoring corrupt image/label: [Errno 2] No such file or directory: 'C:\\\\Users\\\\cwky\\\\datasets\\\\coco\\\\images\\\\val2017\\\\000000148719.jpg'\n",
      "\u001b[34m\u001b[1mval: \u001b[0mWARNING ⚠️ C:\\Users\\cwky\\datasets\\coco\\images\\val2017\\000000148739.jpg: ignoring corrupt image/label: [Errno 2] No such file or directory: 'C:\\\\Users\\\\cwky\\\\datasets\\\\coco\\\\images\\\\val2017\\\\000000148739.jpg'\n",
      "\u001b[34m\u001b[1mval: \u001b[0mWARNING ⚠️ C:\\Users\\cwky\\datasets\\coco\\images\\val2017\\000000148999.jpg: ignoring corrupt image/label: [Errno 2] No such file or directory: 'C:\\\\Users\\\\cwky\\\\datasets\\\\coco\\\\images\\\\val2017\\\\000000148999.jpg'\n",
      "\u001b[34m\u001b[1mval: \u001b[0mWARNING ⚠️ C:\\Users\\cwky\\datasets\\coco\\images\\val2017\\000000149375.jpg: ignoring corrupt image/label: [Errno 2] No such file or directory: 'C:\\\\Users\\\\cwky\\\\datasets\\\\coco\\\\images\\\\val2017\\\\000000149375.jpg'\n",
      "\u001b[34m\u001b[1mval: \u001b[0mWARNING ⚠️ C:\\Users\\cwky\\datasets\\coco\\images\\val2017\\000000150638.jpg: ignoring corrupt image/label: [Errno 2] No such file or directory: 'C:\\\\Users\\\\cwky\\\\datasets\\\\coco\\\\images\\\\val2017\\\\000000150638.jpg'\n",
      "\u001b[34m\u001b[1mval: \u001b[0mWARNING ⚠️ C:\\Users\\cwky\\datasets\\coco\\images\\val2017\\000000151000.jpg: ignoring corrupt image/label: [Errno 2] No such file or directory: 'C:\\\\Users\\\\cwky\\\\datasets\\\\coco\\\\images\\\\val2017\\\\000000151000.jpg'\n",
      "\u001b[34m\u001b[1mval: \u001b[0mWARNING ⚠️ C:\\Users\\cwky\\datasets\\coco\\images\\val2017\\000000151051.jpg: ignoring corrupt image/label: [Errno 2] No such file or directory: 'C:\\\\Users\\\\cwky\\\\datasets\\\\coco\\\\images\\\\val2017\\\\000000151051.jpg'\n",
      "\u001b[34m\u001b[1mval: \u001b[0mWARNING ⚠️ C:\\Users\\cwky\\datasets\\coco\\images\\val2017\\000000151516.jpg: ignoring corrupt image/label: [Errno 2] No such file or directory: 'C:\\\\Users\\\\cwky\\\\datasets\\\\coco\\\\images\\\\val2017\\\\000000151516.jpg'\n",
      "\u001b[34m\u001b[1mval: \u001b[0mWARNING ⚠️ C:\\Users\\cwky\\datasets\\coco\\images\\val2017\\000000151629.jpg: ignoring corrupt image/label: [Errno 2] No such file or directory: 'C:\\\\Users\\\\cwky\\\\datasets\\\\coco\\\\images\\\\val2017\\\\000000151629.jpg'\n",
      "\u001b[34m\u001b[1mval: \u001b[0mWARNING ⚠️ C:\\Users\\cwky\\datasets\\coco\\images\\val2017\\000000152214.jpg: ignoring corrupt image/label: [Errno 2] No such file or directory: 'C:\\\\Users\\\\cwky\\\\datasets\\\\coco\\\\images\\\\val2017\\\\000000152214.jpg'\n",
      "\u001b[34m\u001b[1mval: \u001b[0mWARNING ⚠️ C:\\Users\\cwky\\datasets\\coco\\images\\val2017\\000000152686.jpg: ignoring corrupt image/label: [Errno 2] No such file or directory: 'C:\\\\Users\\\\cwky\\\\datasets\\\\coco\\\\images\\\\val2017\\\\000000152686.jpg'\n",
      "\u001b[34m\u001b[1mval: \u001b[0mWARNING ⚠️ C:\\Users\\cwky\\datasets\\coco\\images\\val2017\\000000152771.jpg: ignoring corrupt image/label: [Errno 2] No such file or directory: 'C:\\\\Users\\\\cwky\\\\datasets\\\\coco\\\\images\\\\val2017\\\\000000152771.jpg'\n",
      "\u001b[34m\u001b[1mval: \u001b[0mWARNING ⚠️ C:\\Users\\cwky\\datasets\\coco\\images\\val2017\\000000153217.jpg: ignoring corrupt image/label: [Errno 2] No such file or directory: 'C:\\\\Users\\\\cwky\\\\datasets\\\\coco\\\\images\\\\val2017\\\\000000153217.jpg'\n",
      "\u001b[34m\u001b[1mval: \u001b[0mWARNING ⚠️ C:\\Users\\cwky\\datasets\\coco\\images\\val2017\\000000153343.jpg: ignoring corrupt image/label: [Errno 2] No such file or directory: 'C:\\\\Users\\\\cwky\\\\datasets\\\\coco\\\\images\\\\val2017\\\\000000153343.jpg'\n",
      "\u001b[34m\u001b[1mval: \u001b[0mWARNING ⚠️ C:\\Users\\cwky\\datasets\\coco\\images\\val2017\\000000153510.jpg: ignoring corrupt image/label: [Errno 2] No such file or directory: 'C:\\\\Users\\\\cwky\\\\datasets\\\\coco\\\\images\\\\val2017\\\\000000153510.jpg'\n",
      "\u001b[34m\u001b[1mval: \u001b[0mWARNING ⚠️ C:\\Users\\cwky\\datasets\\coco\\images\\val2017\\000000153669.jpg: ignoring corrupt image/label: [Errno 2] No such file or directory: 'C:\\\\Users\\\\cwky\\\\datasets\\\\coco\\\\images\\\\val2017\\\\000000153669.jpg'\n",
      "\u001b[34m\u001b[1mval: \u001b[0mWARNING ⚠️ C:\\Users\\cwky\\datasets\\coco\\images\\val2017\\000000154213.jpg: ignoring corrupt image/label: [Errno 2] No such file or directory: 'C:\\\\Users\\\\cwky\\\\datasets\\\\coco\\\\images\\\\val2017\\\\000000154213.jpg'\n",
      "\u001b[34m\u001b[1mval: \u001b[0mWARNING ⚠️ C:\\Users\\cwky\\datasets\\coco\\images\\val2017\\000000154339.jpg: ignoring corrupt image/label: [Errno 2] No such file or directory: 'C:\\\\Users\\\\cwky\\\\datasets\\\\coco\\\\images\\\\val2017\\\\000000154339.jpg'\n",
      "\u001b[34m\u001b[1mval: \u001b[0mWARNING ⚠️ C:\\Users\\cwky\\datasets\\coco\\images\\val2017\\000000154358.jpg: ignoring corrupt image/label: [Errno 2] No such file or directory: 'C:\\\\Users\\\\cwky\\\\datasets\\\\coco\\\\images\\\\val2017\\\\000000154358.jpg'\n",
      "\u001b[34m\u001b[1mval: \u001b[0mWARNING ⚠️ C:\\Users\\cwky\\datasets\\coco\\images\\val2017\\000000154425.jpg: ignoring corrupt image/label: [Errno 2] No such file or directory: 'C:\\\\Users\\\\cwky\\\\datasets\\\\coco\\\\images\\\\val2017\\\\000000154425.jpg'\n",
      "\u001b[34m\u001b[1mval: \u001b[0mWARNING ⚠️ C:\\Users\\cwky\\datasets\\coco\\images\\val2017\\000000154431.jpg: ignoring corrupt image/label: [Errno 2] No such file or directory: 'C:\\\\Users\\\\cwky\\\\datasets\\\\coco\\\\images\\\\val2017\\\\000000154431.jpg'\n",
      "\u001b[34m\u001b[1mval: \u001b[0mWARNING ⚠️ C:\\Users\\cwky\\datasets\\coco\\images\\val2017\\000000154644.jpg: ignoring corrupt image/label: [Errno 2] No such file or directory: 'C:\\\\Users\\\\cwky\\\\datasets\\\\coco\\\\images\\\\val2017\\\\000000154644.jpg'\n",
      "\u001b[34m\u001b[1mval: \u001b[0mWARNING ⚠️ C:\\Users\\cwky\\datasets\\coco\\images\\val2017\\000000154705.jpg: ignoring corrupt image/label: [Errno 2] No such file or directory: 'C:\\\\Users\\\\cwky\\\\datasets\\\\coco\\\\images\\\\val2017\\\\000000154705.jpg'\n",
      "\u001b[34m\u001b[1mval: \u001b[0mWARNING ⚠️ C:\\Users\\cwky\\datasets\\coco\\images\\val2017\\000000155145.jpg: ignoring corrupt image/label: [Errno 2] No such file or directory: 'C:\\\\Users\\\\cwky\\\\datasets\\\\coco\\\\images\\\\val2017\\\\000000155145.jpg'\n",
      "\u001b[34m\u001b[1mval: \u001b[0mWARNING ⚠️ C:\\Users\\cwky\\datasets\\coco\\images\\val2017\\000000155154.jpg: ignoring corrupt image/label: [Errno 2] No such file or directory: 'C:\\\\Users\\\\cwky\\\\datasets\\\\coco\\\\images\\\\val2017\\\\000000155154.jpg'\n",
      "\u001b[34m\u001b[1mval: \u001b[0mWARNING ⚠️ C:\\Users\\cwky\\datasets\\coco\\images\\val2017\\000000155291.jpg: ignoring corrupt image/label: [Errno 2] No such file or directory: 'C:\\\\Users\\\\cwky\\\\datasets\\\\coco\\\\images\\\\val2017\\\\000000155291.jpg'\n",
      "\u001b[34m\u001b[1mval: \u001b[0mWARNING ⚠️ C:\\Users\\cwky\\datasets\\coco\\images\\val2017\\000000155443.jpg: ignoring corrupt image/label: [Errno 2] No such file or directory: 'C:\\\\Users\\\\cwky\\\\datasets\\\\coco\\\\images\\\\val2017\\\\000000155443.jpg'\n",
      "\u001b[34m\u001b[1mval: \u001b[0mWARNING ⚠️ C:\\Users\\cwky\\datasets\\coco\\images\\val2017\\000000156292.jpg: ignoring corrupt image/label: [Errno 2] No such file or directory: 'C:\\\\Users\\\\cwky\\\\datasets\\\\coco\\\\images\\\\val2017\\\\000000156292.jpg'\n",
      "\u001b[34m\u001b[1mval: \u001b[0mWARNING ⚠️ C:\\Users\\cwky\\datasets\\coco\\images\\val2017\\000000156643.jpg: ignoring corrupt image/label: [Errno 2] No such file or directory: 'C:\\\\Users\\\\cwky\\\\datasets\\\\coco\\\\images\\\\val2017\\\\000000156643.jpg'\n",
      "\u001b[34m\u001b[1mval: \u001b[0mWARNING ⚠️ C:\\Users\\cwky\\datasets\\coco\\images\\val2017\\000000156924.jpg: ignoring corrupt image/label: [Errno 2] No such file or directory: 'C:\\\\Users\\\\cwky\\\\datasets\\\\coco\\\\images\\\\val2017\\\\000000156924.jpg'\n",
      "\u001b[34m\u001b[1mval: \u001b[0mWARNING ⚠️ C:\\Users\\cwky\\datasets\\coco\\images\\val2017\\000000157124.jpg: ignoring corrupt image/label: [Errno 2] No such file or directory: 'C:\\\\Users\\\\cwky\\\\datasets\\\\coco\\\\images\\\\val2017\\\\000000157124.jpg'\n",
      "\u001b[34m\u001b[1mval: \u001b[0mWARNING ⚠️ C:\\Users\\cwky\\datasets\\coco\\images\\val2017\\000000157390.jpg: ignoring corrupt image/label: [Errno 2] No such file or directory: 'C:\\\\Users\\\\cwky\\\\datasets\\\\coco\\\\images\\\\val2017\\\\000000157390.jpg'\n",
      "\u001b[34m\u001b[1mval: \u001b[0mWARNING ⚠️ C:\\Users\\cwky\\datasets\\coco\\images\\val2017\\000000157601.jpg: ignoring corrupt image/label: [Errno 2] No such file or directory: 'C:\\\\Users\\\\cwky\\\\datasets\\\\coco\\\\images\\\\val2017\\\\000000157601.jpg'\n",
      "\u001b[34m\u001b[1mval: \u001b[0mWARNING ⚠️ C:\\Users\\cwky\\datasets\\coco\\images\\val2017\\000000157756.jpg: ignoring corrupt image/label: [Errno 2] No such file or directory: 'C:\\\\Users\\\\cwky\\\\datasets\\\\coco\\\\images\\\\val2017\\\\000000157756.jpg'\n",
      "\u001b[34m\u001b[1mval: \u001b[0mWARNING ⚠️ C:\\Users\\cwky\\datasets\\coco\\images\\val2017\\000000157767.jpg: ignoring corrupt image/label: [Errno 2] No such file or directory: 'C:\\\\Users\\\\cwky\\\\datasets\\\\coco\\\\images\\\\val2017\\\\000000157767.jpg'\n",
      "\u001b[34m\u001b[1mval: \u001b[0mWARNING ⚠️ C:\\Users\\cwky\\datasets\\coco\\images\\val2017\\000000158227.jpg: ignoring corrupt image/label: [Errno 2] No such file or directory: 'C:\\\\Users\\\\cwky\\\\datasets\\\\coco\\\\images\\\\val2017\\\\000000158227.jpg'\n",
      "\u001b[34m\u001b[1mval: \u001b[0mWARNING ⚠️ C:\\Users\\cwky\\datasets\\coco\\images\\val2017\\000000158660.jpg: ignoring corrupt image/label: [Errno 2] No such file or directory: 'C:\\\\Users\\\\cwky\\\\datasets\\\\coco\\\\images\\\\val2017\\\\000000158660.jpg'\n",
      "\u001b[34m\u001b[1mval: \u001b[0mWARNING ⚠️ C:\\Users\\cwky\\datasets\\coco\\images\\val2017\\000000158956.jpg: ignoring corrupt image/label: [Errno 2] No such file or directory: 'C:\\\\Users\\\\cwky\\\\datasets\\\\coco\\\\images\\\\val2017\\\\000000158956.jpg'\n",
      "\u001b[34m\u001b[1mval: \u001b[0mWARNING ⚠️ C:\\Users\\cwky\\datasets\\coco\\images\\val2017\\000000159112.jpg: ignoring corrupt image/label: [Errno 2] No such file or directory: 'C:\\\\Users\\\\cwky\\\\datasets\\\\coco\\\\images\\\\val2017\\\\000000159112.jpg'\n",
      "\u001b[34m\u001b[1mval: \u001b[0mWARNING ⚠️ C:\\Users\\cwky\\datasets\\coco\\images\\val2017\\000000159399.jpg: ignoring corrupt image/label: [Errno 2] No such file or directory: 'C:\\\\Users\\\\cwky\\\\datasets\\\\coco\\\\images\\\\val2017\\\\000000159399.jpg'\n",
      "\u001b[34m\u001b[1mval: \u001b[0mWARNING ⚠️ C:\\Users\\cwky\\datasets\\coco\\images\\val2017\\000000159977.jpg: ignoring corrupt image/label: [Errno 2] No such file or directory: 'C:\\\\Users\\\\cwky\\\\datasets\\\\coco\\\\images\\\\val2017\\\\000000159977.jpg'\n",
      "\u001b[34m\u001b[1mval: \u001b[0mWARNING ⚠️ C:\\Users\\cwky\\datasets\\coco\\images\\val2017\\000000160556.jpg: ignoring corrupt image/label: [Errno 2] No such file or directory: 'C:\\\\Users\\\\cwky\\\\datasets\\\\coco\\\\images\\\\val2017\\\\000000160556.jpg'\n",
      "\u001b[34m\u001b[1mval: \u001b[0mWARNING ⚠️ C:\\Users\\cwky\\datasets\\coco\\images\\val2017\\000000160864.jpg: ignoring corrupt image/label: [Errno 2] No such file or directory: 'C:\\\\Users\\\\cwky\\\\datasets\\\\coco\\\\images\\\\val2017\\\\000000160864.jpg'\n",
      "\u001b[34m\u001b[1mval: \u001b[0mWARNING ⚠️ C:\\Users\\cwky\\datasets\\coco\\images\\val2017\\000000161032.jpg: ignoring corrupt image/label: [Errno 2] No such file or directory: 'C:\\\\Users\\\\cwky\\\\datasets\\\\coco\\\\images\\\\val2017\\\\000000161032.jpg'\n",
      "\u001b[34m\u001b[1mval: \u001b[0mWARNING ⚠️ C:\\Users\\cwky\\datasets\\coco\\images\\val2017\\000000161609.jpg: ignoring corrupt image/label: [Errno 2] No such file or directory: 'C:\\\\Users\\\\cwky\\\\datasets\\\\coco\\\\images\\\\val2017\\\\000000161609.jpg'\n",
      "\u001b[34m\u001b[1mval: \u001b[0mWARNING ⚠️ C:\\Users\\cwky\\datasets\\coco\\images\\val2017\\000000161781.jpg: ignoring corrupt image/label: [Errno 2] No such file or directory: 'C:\\\\Users\\\\cwky\\\\datasets\\\\coco\\\\images\\\\val2017\\\\000000161781.jpg'\n",
      "\u001b[34m\u001b[1mval: \u001b[0mWARNING ⚠️ C:\\Users\\cwky\\datasets\\coco\\images\\val2017\\000000161799.jpg: ignoring corrupt image/label: [Errno 2] No such file or directory: 'C:\\\\Users\\\\cwky\\\\datasets\\\\coco\\\\images\\\\val2017\\\\000000161799.jpg'\n",
      "\u001b[34m\u001b[1mval: \u001b[0mWARNING ⚠️ C:\\Users\\cwky\\datasets\\coco\\images\\val2017\\000000161879.jpg: ignoring corrupt image/label: [Errno 2] No such file or directory: 'C:\\\\Users\\\\cwky\\\\datasets\\\\coco\\\\images\\\\val2017\\\\000000161879.jpg'\n",
      "\u001b[34m\u001b[1mval: \u001b[0mWARNING ⚠️ C:\\Users\\cwky\\datasets\\coco\\images\\val2017\\000000162035.jpg: ignoring corrupt image/label: [Errno 2] No such file or directory: 'C:\\\\Users\\\\cwky\\\\datasets\\\\coco\\\\images\\\\val2017\\\\000000162035.jpg'\n",
      "\u001b[34m\u001b[1mval: \u001b[0mWARNING ⚠️ C:\\Users\\cwky\\datasets\\coco\\images\\val2017\\000000162092.jpg: ignoring corrupt image/label: [Errno 2] No such file or directory: 'C:\\\\Users\\\\cwky\\\\datasets\\\\coco\\\\images\\\\val2017\\\\000000162092.jpg'\n",
      "\u001b[34m\u001b[1mval: \u001b[0mWARNING ⚠️ C:\\Users\\cwky\\datasets\\coco\\images\\val2017\\000000162415.jpg: ignoring corrupt image/label: [Errno 2] No such file or directory: 'C:\\\\Users\\\\cwky\\\\datasets\\\\coco\\\\images\\\\val2017\\\\000000162415.jpg'\n",
      "\u001b[34m\u001b[1mval: \u001b[0mWARNING ⚠️ C:\\Users\\cwky\\datasets\\coco\\images\\val2017\\000000162543.jpg: ignoring corrupt image/label: [Errno 2] No such file or directory: 'C:\\\\Users\\\\cwky\\\\datasets\\\\coco\\\\images\\\\val2017\\\\000000162543.jpg'\n",
      "\u001b[34m\u001b[1mval: \u001b[0mWARNING ⚠️ C:\\Users\\cwky\\datasets\\coco\\images\\val2017\\000000162581.jpg: ignoring corrupt image/label: [Errno 2] No such file or directory: 'C:\\\\Users\\\\cwky\\\\datasets\\\\coco\\\\images\\\\val2017\\\\000000162581.jpg'\n",
      "\u001b[34m\u001b[1mval: \u001b[0mWARNING ⚠️ C:\\Users\\cwky\\datasets\\coco\\images\\val2017\\000000162732.jpg: ignoring corrupt image/label: [Errno 2] No such file or directory: 'C:\\\\Users\\\\cwky\\\\datasets\\\\coco\\\\images\\\\val2017\\\\000000162732.jpg'\n",
      "\u001b[34m\u001b[1mval: \u001b[0mWARNING ⚠️ C:\\Users\\cwky\\datasets\\coco\\images\\val2017\\000000163257.jpg: ignoring corrupt image/label: [Errno 2] No such file or directory: 'C:\\\\Users\\\\cwky\\\\datasets\\\\coco\\\\images\\\\val2017\\\\000000163257.jpg'\n",
      "\u001b[34m\u001b[1mval: \u001b[0mWARNING ⚠️ C:\\Users\\cwky\\datasets\\coco\\images\\val2017\\000000163258.jpg: ignoring corrupt image/label: [Errno 2] No such file or directory: 'C:\\\\Users\\\\cwky\\\\datasets\\\\coco\\\\images\\\\val2017\\\\000000163258.jpg'\n",
      "\u001b[34m\u001b[1mval: \u001b[0mWARNING ⚠️ C:\\Users\\cwky\\datasets\\coco\\images\\val2017\\000000163611.jpg: ignoring corrupt image/label: [Errno 2] No such file or directory: 'C:\\\\Users\\\\cwky\\\\datasets\\\\coco\\\\images\\\\val2017\\\\000000163611.jpg'\n",
      "\u001b[34m\u001b[1mval: \u001b[0mWARNING ⚠️ C:\\Users\\cwky\\datasets\\coco\\images\\val2017\\000000163746.jpg: ignoring corrupt image/label: [Errno 2] No such file or directory: 'C:\\\\Users\\\\cwky\\\\datasets\\\\coco\\\\images\\\\val2017\\\\000000163746.jpg'\n",
      "\u001b[34m\u001b[1mval: \u001b[0mWARNING ⚠️ C:\\Users\\cwky\\datasets\\coco\\images\\val2017\\000000164637.jpg: ignoring corrupt image/label: [Errno 2] No such file or directory: 'C:\\\\Users\\\\cwky\\\\datasets\\\\coco\\\\images\\\\val2017\\\\000000164637.jpg'\n",
      "\u001b[34m\u001b[1mval: \u001b[0mWARNING ⚠️ C:\\Users\\cwky\\datasets\\coco\\images\\val2017\\000000164883.jpg: ignoring corrupt image/label: [Errno 2] No such file or directory: 'C:\\\\Users\\\\cwky\\\\datasets\\\\coco\\\\images\\\\val2017\\\\000000164883.jpg'\n",
      "\u001b[34m\u001b[1mval: \u001b[0mWARNING ⚠️ C:\\Users\\cwky\\datasets\\coco\\images\\val2017\\000000165500.jpg: ignoring corrupt image/label: [Errno 2] No such file or directory: 'C:\\\\Users\\\\cwky\\\\datasets\\\\coco\\\\images\\\\val2017\\\\000000165500.jpg'\n",
      "\u001b[34m\u001b[1mval: \u001b[0mWARNING ⚠️ C:\\Users\\cwky\\datasets\\coco\\images\\val2017\\000000165681.jpg: ignoring corrupt image/label: [Errno 2] No such file or directory: 'C:\\\\Users\\\\cwky\\\\datasets\\\\coco\\\\images\\\\val2017\\\\000000165681.jpg'\n",
      "\u001b[34m\u001b[1mval: \u001b[0mWARNING ⚠️ C:\\Users\\cwky\\datasets\\coco\\images\\val2017\\000000165713.jpg: ignoring corrupt image/label: [Errno 2] No such file or directory: 'C:\\\\Users\\\\cwky\\\\datasets\\\\coco\\\\images\\\\val2017\\\\000000165713.jpg'\n",
      "\u001b[34m\u001b[1mval: \u001b[0mWARNING ⚠️ C:\\Users\\cwky\\datasets\\coco\\images\\val2017\\000000165831.jpg: ignoring corrupt image/label: [Errno 2] No such file or directory: 'C:\\\\Users\\\\cwky\\\\datasets\\\\coco\\\\images\\\\val2017\\\\000000165831.jpg'\n",
      "\u001b[34m\u001b[1mval: \u001b[0mWARNING ⚠️ C:\\Users\\cwky\\datasets\\coco\\images\\val2017\\000000166259.jpg: ignoring corrupt image/label: [Errno 2] No such file or directory: 'C:\\\\Users\\\\cwky\\\\datasets\\\\coco\\\\images\\\\val2017\\\\000000166259.jpg'\n",
      "\u001b[34m\u001b[1mval: \u001b[0mWARNING ⚠️ C:\\Users\\cwky\\datasets\\coco\\images\\val2017\\000000166287.jpg: ignoring corrupt image/label: [Errno 2] No such file or directory: 'C:\\\\Users\\\\cwky\\\\datasets\\\\coco\\\\images\\\\val2017\\\\000000166287.jpg'\n",
      "\u001b[34m\u001b[1mval: \u001b[0mWARNING ⚠️ C:\\Users\\cwky\\datasets\\coco\\images\\val2017\\000000166509.jpg: ignoring corrupt image/label: [Errno 2] No such file or directory: 'C:\\\\Users\\\\cwky\\\\datasets\\\\coco\\\\images\\\\val2017\\\\000000166509.jpg'\n",
      "\u001b[34m\u001b[1mval: \u001b[0mWARNING ⚠️ C:\\Users\\cwky\\datasets\\coco\\images\\val2017\\000000166563.jpg: ignoring corrupt image/label: [Errno 2] No such file or directory: 'C:\\\\Users\\\\cwky\\\\datasets\\\\coco\\\\images\\\\val2017\\\\000000166563.jpg'\n",
      "\u001b[34m\u001b[1mval: \u001b[0mWARNING ⚠️ C:\\Users\\cwky\\datasets\\coco\\images\\val2017\\000000166664.jpg: ignoring corrupt image/label: [Errno 2] No such file or directory: 'C:\\\\Users\\\\cwky\\\\datasets\\\\coco\\\\images\\\\val2017\\\\000000166664.jpg'\n",
      "\u001b[34m\u001b[1mval: \u001b[0mWARNING ⚠️ C:\\Users\\cwky\\datasets\\coco\\images\\val2017\\000000166918.jpg: ignoring corrupt image/label: [Errno 2] No such file or directory: 'C:\\\\Users\\\\cwky\\\\datasets\\\\coco\\\\images\\\\val2017\\\\000000166918.jpg'\n",
      "\u001b[34m\u001b[1mval: \u001b[0mWARNING ⚠️ C:\\Users\\cwky\\datasets\\coco\\images\\val2017\\000000167122.jpg: ignoring corrupt image/label: [Errno 2] No such file or directory: 'C:\\\\Users\\\\cwky\\\\datasets\\\\coco\\\\images\\\\val2017\\\\000000167122.jpg'\n",
      "\u001b[34m\u001b[1mval: \u001b[0mWARNING ⚠️ C:\\Users\\cwky\\datasets\\coco\\images\\val2017\\000000167240.jpg: ignoring corrupt image/label: [Errno 2] No such file or directory: 'C:\\\\Users\\\\cwky\\\\datasets\\\\coco\\\\images\\\\val2017\\\\000000167240.jpg'\n",
      "\u001b[34m\u001b[1mval: \u001b[0mWARNING ⚠️ C:\\Users\\cwky\\datasets\\coco\\images\\val2017\\000000167486.jpg: ignoring corrupt image/label: [Errno 2] No such file or directory: 'C:\\\\Users\\\\cwky\\\\datasets\\\\coco\\\\images\\\\val2017\\\\000000167486.jpg'\n",
      "\u001b[34m\u001b[1mval: \u001b[0mWARNING ⚠️ C:\\Users\\cwky\\datasets\\coco\\images\\val2017\\000000167572.jpg: ignoring corrupt image/label: [Errno 2] No such file or directory: 'C:\\\\Users\\\\cwky\\\\datasets\\\\coco\\\\images\\\\val2017\\\\000000167572.jpg'\n",
      "\u001b[34m\u001b[1mval: \u001b[0mWARNING ⚠️ C:\\Users\\cwky\\datasets\\coco\\images\\val2017\\000000168337.jpg: ignoring corrupt image/label: [Errno 2] No such file or directory: 'C:\\\\Users\\\\cwky\\\\datasets\\\\coco\\\\images\\\\val2017\\\\000000168337.jpg'\n",
      "\u001b[34m\u001b[1mval: \u001b[0mWARNING ⚠️ C:\\Users\\cwky\\datasets\\coco\\images\\val2017\\000000168619.jpg: ignoring corrupt image/label: [Errno 2] No such file or directory: 'C:\\\\Users\\\\cwky\\\\datasets\\\\coco\\\\images\\\\val2017\\\\000000168619.jpg'\n",
      "\u001b[34m\u001b[1mval: \u001b[0mWARNING ⚠️ C:\\Users\\cwky\\datasets\\coco\\images\\val2017\\000000168883.jpg: ignoring corrupt image/label: [Errno 2] No such file or directory: 'C:\\\\Users\\\\cwky\\\\datasets\\\\coco\\\\images\\\\val2017\\\\000000168883.jpg'\n",
      "\u001b[34m\u001b[1mval: \u001b[0mWARNING ⚠️ C:\\Users\\cwky\\datasets\\coco\\images\\val2017\\000000169076.jpg: ignoring corrupt image/label: [Errno 2] No such file or directory: 'C:\\\\Users\\\\cwky\\\\datasets\\\\coco\\\\images\\\\val2017\\\\000000169076.jpg'\n",
      "\u001b[34m\u001b[1mval: \u001b[0mWARNING ⚠️ C:\\Users\\cwky\\datasets\\coco\\images\\val2017\\000000169356.jpg: ignoring corrupt image/label: [Errno 2] No such file or directory: 'C:\\\\Users\\\\cwky\\\\datasets\\\\coco\\\\images\\\\val2017\\\\000000169356.jpg'\n",
      "\u001b[34m\u001b[1mval: \u001b[0mWARNING ⚠️ C:\\Users\\cwky\\datasets\\coco\\images\\val2017\\000000170099.jpg: ignoring corrupt image/label: [Errno 2] No such file or directory: 'C:\\\\Users\\\\cwky\\\\datasets\\\\coco\\\\images\\\\val2017\\\\000000170099.jpg'\n",
      "\u001b[34m\u001b[1mval: \u001b[0mWARNING ⚠️ C:\\Users\\cwky\\datasets\\coco\\images\\val2017\\000000170191.jpg: ignoring corrupt image/label: [Errno 2] No such file or directory: 'C:\\\\Users\\\\cwky\\\\datasets\\\\coco\\\\images\\\\val2017\\\\000000170191.jpg'\n",
      "\u001b[34m\u001b[1mval: \u001b[0mWARNING ⚠️ C:\\Users\\cwky\\datasets\\coco\\images\\val2017\\000000170278.jpg: ignoring corrupt image/label: [Errno 2] No such file or directory: 'C:\\\\Users\\\\cwky\\\\datasets\\\\coco\\\\images\\\\val2017\\\\000000170278.jpg'\n",
      "\u001b[34m\u001b[1mval: \u001b[0mWARNING ⚠️ C:\\Users\\cwky\\datasets\\coco\\images\\val2017\\000000170545.jpg: ignoring corrupt image/label: [Errno 2] No such file or directory: 'C:\\\\Users\\\\cwky\\\\datasets\\\\coco\\\\images\\\\val2017\\\\000000170545.jpg'\n",
      "\u001b[34m\u001b[1mval: \u001b[0mWARNING ⚠️ C:\\Users\\cwky\\datasets\\coco\\images\\val2017\\000000170613.jpg: ignoring corrupt image/label: [Errno 2] No such file or directory: 'C:\\\\Users\\\\cwky\\\\datasets\\\\coco\\\\images\\\\val2017\\\\000000170613.jpg'\n",
      "\u001b[34m\u001b[1mval: \u001b[0mWARNING ⚠️ C:\\Users\\cwky\\datasets\\coco\\images\\val2017\\000000170739.jpg: ignoring corrupt image/label: [Errno 2] No such file or directory: 'C:\\\\Users\\\\cwky\\\\datasets\\\\coco\\\\images\\\\val2017\\\\000000170739.jpg'\n",
      "\u001b[34m\u001b[1mval: \u001b[0mWARNING ⚠️ C:\\Users\\cwky\\datasets\\coco\\images\\val2017\\000000170893.jpg: ignoring corrupt image/label: [Errno 2] No such file or directory: 'C:\\\\Users\\\\cwky\\\\datasets\\\\coco\\\\images\\\\val2017\\\\000000170893.jpg'\n",
      "\u001b[34m\u001b[1mval: \u001b[0mWARNING ⚠️ C:\\Users\\cwky\\datasets\\coco\\images\\val2017\\000000171298.jpg: ignoring corrupt image/label: [Errno 2] No such file or directory: 'C:\\\\Users\\\\cwky\\\\datasets\\\\coco\\\\images\\\\val2017\\\\000000171298.jpg'\n",
      "\u001b[34m\u001b[1mval: \u001b[0mWARNING ⚠️ C:\\Users\\cwky\\datasets\\coco\\images\\val2017\\000000171382.jpg: ignoring corrupt image/label: [Errno 2] No such file or directory: 'C:\\\\Users\\\\cwky\\\\datasets\\\\coco\\\\images\\\\val2017\\\\000000171382.jpg'\n",
      "\u001b[34m\u001b[1mval: \u001b[0mWARNING ⚠️ C:\\Users\\cwky\\datasets\\coco\\images\\val2017\\000000172547.jpg: ignoring corrupt image/label: [Errno 2] No such file or directory: 'C:\\\\Users\\\\cwky\\\\datasets\\\\coco\\\\images\\\\val2017\\\\000000172547.jpg'\n",
      "\u001b[34m\u001b[1mval: \u001b[0mWARNING ⚠️ C:\\Users\\cwky\\datasets\\coco\\images\\val2017\\000000172595.jpg: ignoring corrupt image/label: [Errno 2] No such file or directory: 'C:\\\\Users\\\\cwky\\\\datasets\\\\coco\\\\images\\\\val2017\\\\000000172595.jpg'\n",
      "\u001b[34m\u001b[1mval: \u001b[0mWARNING ⚠️ C:\\Users\\cwky\\datasets\\coco\\images\\val2017\\000000172617.jpg: ignoring corrupt image/label: [Errno 2] No such file or directory: 'C:\\\\Users\\\\cwky\\\\datasets\\\\coco\\\\images\\\\val2017\\\\000000172617.jpg'\n",
      "\u001b[34m\u001b[1mval: \u001b[0mWARNING ⚠️ C:\\Users\\cwky\\datasets\\coco\\images\\val2017\\000000172877.jpg: ignoring corrupt image/label: [Errno 2] No such file or directory: 'C:\\\\Users\\\\cwky\\\\datasets\\\\coco\\\\images\\\\val2017\\\\000000172877.jpg'\n",
      "\u001b[34m\u001b[1mval: \u001b[0mWARNING ⚠️ C:\\Users\\cwky\\datasets\\coco\\images\\val2017\\000000172935.jpg: ignoring corrupt image/label: [Errno 2] No such file or directory: 'C:\\\\Users\\\\cwky\\\\datasets\\\\coco\\\\images\\\\val2017\\\\000000172935.jpg'\n",
      "\u001b[34m\u001b[1mval: \u001b[0mWARNING ⚠️ C:\\Users\\cwky\\datasets\\coco\\images\\val2017\\000000173008.jpg: ignoring corrupt image/label: [Errno 2] No such file or directory: 'C:\\\\Users\\\\cwky\\\\datasets\\\\coco\\\\images\\\\val2017\\\\000000173008.jpg'\n",
      "\u001b[34m\u001b[1mval: \u001b[0mWARNING ⚠️ C:\\Users\\cwky\\datasets\\coco\\images\\val2017\\000000173091.jpg: ignoring corrupt image/label: [Errno 2] No such file or directory: 'C:\\\\Users\\\\cwky\\\\datasets\\\\coco\\\\images\\\\val2017\\\\000000173091.jpg'\n",
      "\u001b[34m\u001b[1mval: \u001b[0mWARNING ⚠️ C:\\Users\\cwky\\datasets\\coco\\images\\val2017\\000000173183.jpg: ignoring corrupt image/label: [Errno 2] No such file or directory: 'C:\\\\Users\\\\cwky\\\\datasets\\\\coco\\\\images\\\\val2017\\\\000000173183.jpg'\n",
      "\u001b[34m\u001b[1mval: \u001b[0mWARNING ⚠️ C:\\Users\\cwky\\datasets\\coco\\images\\val2017\\000000173383.jpg: ignoring corrupt image/label: [Errno 2] No such file or directory: 'C:\\\\Users\\\\cwky\\\\datasets\\\\coco\\\\images\\\\val2017\\\\000000173383.jpg'\n",
      "\u001b[34m\u001b[1mval: \u001b[0mWARNING ⚠️ C:\\Users\\cwky\\datasets\\coco\\images\\val2017\\000000173799.jpg: ignoring corrupt image/label: [Errno 2] No such file or directory: 'C:\\\\Users\\\\cwky\\\\datasets\\\\coco\\\\images\\\\val2017\\\\000000173799.jpg'\n",
      "\u001b[34m\u001b[1mval: \u001b[0mWARNING ⚠️ C:\\Users\\cwky\\datasets\\coco\\images\\val2017\\000000175364.jpg: ignoring corrupt image/label: [Errno 2] No such file or directory: 'C:\\\\Users\\\\cwky\\\\datasets\\\\coco\\\\images\\\\val2017\\\\000000175364.jpg'\n",
      "\u001b[34m\u001b[1mval: \u001b[0mWARNING ⚠️ C:\\Users\\cwky\\datasets\\coco\\images\\val2017\\000000175387.jpg: ignoring corrupt image/label: [Errno 2] No such file or directory: 'C:\\\\Users\\\\cwky\\\\datasets\\\\coco\\\\images\\\\val2017\\\\000000175387.jpg'\n",
      "\u001b[34m\u001b[1mval: \u001b[0mWARNING ⚠️ C:\\Users\\cwky\\datasets\\coco\\images\\val2017\\000000176232.jpg: ignoring corrupt image/label: [Errno 2] No such file or directory: 'C:\\\\Users\\\\cwky\\\\datasets\\\\coco\\\\images\\\\val2017\\\\000000176232.jpg'\n",
      "\u001b[34m\u001b[1mval: \u001b[0mWARNING ⚠️ C:\\Users\\cwky\\datasets\\coco\\images\\val2017\\000000176606.jpg: ignoring corrupt image/label: [Errno 2] No such file or directory: 'C:\\\\Users\\\\cwky\\\\datasets\\\\coco\\\\images\\\\val2017\\\\000000176606.jpg'\n",
      "\u001b[34m\u001b[1mval: \u001b[0mWARNING ⚠️ C:\\Users\\cwky\\datasets\\coco\\images\\val2017\\000000176634.jpg: ignoring corrupt image/label: [Errno 2] No such file or directory: 'C:\\\\Users\\\\cwky\\\\datasets\\\\coco\\\\images\\\\val2017\\\\000000176634.jpg'\n",
      "\u001b[34m\u001b[1mval: \u001b[0mWARNING ⚠️ C:\\Users\\cwky\\datasets\\coco\\images\\val2017\\000000176799.jpg: ignoring corrupt image/label: [Errno 2] No such file or directory: 'C:\\\\Users\\\\cwky\\\\datasets\\\\coco\\\\images\\\\val2017\\\\000000176799.jpg'\n",
      "\u001b[34m\u001b[1mval: \u001b[0mWARNING ⚠️ C:\\Users\\cwky\\datasets\\coco\\images\\val2017\\000000176847.jpg: ignoring corrupt image/label: [Errno 2] No such file or directory: 'C:\\\\Users\\\\cwky\\\\datasets\\\\coco\\\\images\\\\val2017\\\\000000176847.jpg'\n",
      "\u001b[34m\u001b[1mval: \u001b[0mWARNING ⚠️ C:\\Users\\cwky\\datasets\\coco\\images\\val2017\\000000176857.jpg: ignoring corrupt image/label: [Errno 2] No such file or directory: 'C:\\\\Users\\\\cwky\\\\datasets\\\\coco\\\\images\\\\val2017\\\\000000176857.jpg'\n",
      "\u001b[34m\u001b[1mval: \u001b[0mWARNING ⚠️ C:\\Users\\cwky\\datasets\\coco\\images\\val2017\\000000177213.jpg: ignoring corrupt image/label: [Errno 2] No such file or directory: 'C:\\\\Users\\\\cwky\\\\datasets\\\\coco\\\\images\\\\val2017\\\\000000177213.jpg'\n",
      "\u001b[34m\u001b[1mval: \u001b[0mWARNING ⚠️ C:\\Users\\cwky\\datasets\\coco\\images\\val2017\\000000177539.jpg: ignoring corrupt image/label: [Errno 2] No such file or directory: 'C:\\\\Users\\\\cwky\\\\datasets\\\\coco\\\\images\\\\val2017\\\\000000177539.jpg'\n",
      "\u001b[34m\u001b[1mval: \u001b[0mWARNING ⚠️ C:\\Users\\cwky\\datasets\\coco\\images\\val2017\\000000177714.jpg: ignoring corrupt image/label: [Errno 2] No such file or directory: 'C:\\\\Users\\\\cwky\\\\datasets\\\\coco\\\\images\\\\val2017\\\\000000177714.jpg'\n",
      "\u001b[34m\u001b[1mval: \u001b[0mWARNING ⚠️ C:\\Users\\cwky\\datasets\\coco\\images\\val2017\\000000178618.jpg: ignoring corrupt image/label: [Errno 2] No such file or directory: 'C:\\\\Users\\\\cwky\\\\datasets\\\\coco\\\\images\\\\val2017\\\\000000178618.jpg'\n",
      "\u001b[34m\u001b[1mval: \u001b[0mWARNING ⚠️ C:\\Users\\cwky\\datasets\\coco\\images\\val2017\\000000178744.jpg: ignoring corrupt image/label: [Errno 2] No such file or directory: 'C:\\\\Users\\\\cwky\\\\datasets\\\\coco\\\\images\\\\val2017\\\\000000178744.jpg'\n",
      "\u001b[34m\u001b[1mval: \u001b[0mWARNING ⚠️ C:\\Users\\cwky\\datasets\\coco\\images\\val2017\\000000179112.jpg: ignoring corrupt image/label: [Errno 2] No such file or directory: 'C:\\\\Users\\\\cwky\\\\datasets\\\\coco\\\\images\\\\val2017\\\\000000179112.jpg'\n",
      "\u001b[34m\u001b[1mval: \u001b[0mWARNING ⚠️ C:\\Users\\cwky\\datasets\\coco\\images\\val2017\\000000179174.jpg: ignoring corrupt image/label: [Errno 2] No such file or directory: 'C:\\\\Users\\\\cwky\\\\datasets\\\\coco\\\\images\\\\val2017\\\\000000179174.jpg'\n",
      "\u001b[34m\u001b[1mval: \u001b[0mWARNING ⚠️ C:\\Users\\cwky\\datasets\\coco\\images\\val2017\\000000179214.jpg: ignoring corrupt image/label: [Errno 2] No such file or directory: 'C:\\\\Users\\\\cwky\\\\datasets\\\\coco\\\\images\\\\val2017\\\\000000179214.jpg'\n",
      "\u001b[34m\u001b[1mval: \u001b[0mWARNING ⚠️ C:\\Users\\cwky\\datasets\\coco\\images\\val2017\\000000179392.jpg: ignoring corrupt image/label: [Errno 2] No such file or directory: 'C:\\\\Users\\\\cwky\\\\datasets\\\\coco\\\\images\\\\val2017\\\\000000179392.jpg'\n",
      "\u001b[34m\u001b[1mval: \u001b[0mWARNING ⚠️ C:\\Users\\cwky\\datasets\\coco\\images\\val2017\\000000179642.jpg: ignoring corrupt image/label: [Errno 2] No such file or directory: 'C:\\\\Users\\\\cwky\\\\datasets\\\\coco\\\\images\\\\val2017\\\\000000179642.jpg'\n",
      "\u001b[34m\u001b[1mval: \u001b[0mWARNING ⚠️ C:\\Users\\cwky\\datasets\\coco\\images\\val2017\\000000180135.jpg: ignoring corrupt image/label: [Errno 2] No such file or directory: 'C:\\\\Users\\\\cwky\\\\datasets\\\\coco\\\\images\\\\val2017\\\\000000180135.jpg'\n",
      "\u001b[34m\u001b[1mval: \u001b[0mWARNING ⚠️ C:\\Users\\cwky\\datasets\\coco\\images\\val2017\\000000180188.jpg: ignoring corrupt image/label: [Errno 2] No such file or directory: 'C:\\\\Users\\\\cwky\\\\datasets\\\\coco\\\\images\\\\val2017\\\\000000180188.jpg'\n",
      "\u001b[34m\u001b[1mval: \u001b[0mWARNING ⚠️ C:\\Users\\cwky\\datasets\\coco\\images\\val2017\\000000180296.jpg: ignoring corrupt image/label: [Errno 2] No such file or directory: 'C:\\\\Users\\\\cwky\\\\datasets\\\\coco\\\\images\\\\val2017\\\\000000180296.jpg'\n",
      "\u001b[34m\u001b[1mval: \u001b[0mWARNING ⚠️ C:\\Users\\cwky\\datasets\\coco\\images\\val2017\\000000180560.jpg: ignoring corrupt image/label: [Errno 2] No such file or directory: 'C:\\\\Users\\\\cwky\\\\datasets\\\\coco\\\\images\\\\val2017\\\\000000180560.jpg'\n",
      "\u001b[34m\u001b[1mval: \u001b[0mWARNING ⚠️ C:\\Users\\cwky\\datasets\\coco\\images\\val2017\\000000180878.jpg: ignoring corrupt image/label: [Errno 2] No such file or directory: 'C:\\\\Users\\\\cwky\\\\datasets\\\\coco\\\\images\\\\val2017\\\\000000180878.jpg'\n",
      "\u001b[34m\u001b[1mval: \u001b[0mWARNING ⚠️ C:\\Users\\cwky\\datasets\\coco\\images\\val2017\\000000181421.jpg: ignoring corrupt image/label: [Errno 2] No such file or directory: 'C:\\\\Users\\\\cwky\\\\datasets\\\\coco\\\\images\\\\val2017\\\\000000181421.jpg'\n",
      "\u001b[34m\u001b[1mval: \u001b[0mWARNING ⚠️ C:\\Users\\cwky\\datasets\\coco\\images\\val2017\\000000181859.jpg: ignoring corrupt image/label: [Errno 2] No such file or directory: 'C:\\\\Users\\\\cwky\\\\datasets\\\\coco\\\\images\\\\val2017\\\\000000181859.jpg'\n",
      "\u001b[34m\u001b[1mval: \u001b[0mWARNING ⚠️ C:\\Users\\cwky\\datasets\\coco\\images\\val2017\\000000182202.jpg: ignoring corrupt image/label: [Errno 2] No such file or directory: 'C:\\\\Users\\\\cwky\\\\datasets\\\\coco\\\\images\\\\val2017\\\\000000182202.jpg'\n",
      "\u001b[34m\u001b[1mval: \u001b[0mWARNING ⚠️ C:\\Users\\cwky\\datasets\\coco\\images\\val2017\\000000182417.jpg: ignoring corrupt image/label: [Errno 2] No such file or directory: 'C:\\\\Users\\\\cwky\\\\datasets\\\\coco\\\\images\\\\val2017\\\\000000182417.jpg'\n",
      "\u001b[34m\u001b[1mval: \u001b[0mWARNING ⚠️ C:\\Users\\cwky\\datasets\\coco\\images\\val2017\\000000182611.jpg: ignoring corrupt image/label: [Errno 2] No such file or directory: 'C:\\\\Users\\\\cwky\\\\datasets\\\\coco\\\\images\\\\val2017\\\\000000182611.jpg'\n",
      "\u001b[34m\u001b[1mval: \u001b[0mWARNING ⚠️ C:\\Users\\cwky\\datasets\\coco\\images\\val2017\\000000183104.jpg: ignoring corrupt image/label: [Errno 2] No such file or directory: 'C:\\\\Users\\\\cwky\\\\datasets\\\\coco\\\\images\\\\val2017\\\\000000183104.jpg'\n",
      "\u001b[34m\u001b[1mval: \u001b[0mWARNING ⚠️ C:\\Users\\cwky\\datasets\\coco\\images\\val2017\\000000183127.jpg: ignoring corrupt image/label: [Errno 2] No such file or directory: 'C:\\\\Users\\\\cwky\\\\datasets\\\\coco\\\\images\\\\val2017\\\\000000183127.jpg'\n",
      "\u001b[34m\u001b[1mval: \u001b[0mWARNING ⚠️ C:\\Users\\cwky\\datasets\\coco\\images\\val2017\\000000183246.jpg: ignoring corrupt image/label: [Errno 2] No such file or directory: 'C:\\\\Users\\\\cwky\\\\datasets\\\\coco\\\\images\\\\val2017\\\\000000183246.jpg'\n",
      "\u001b[34m\u001b[1mval: \u001b[0mWARNING ⚠️ C:\\Users\\cwky\\datasets\\coco\\images\\val2017\\000000183437.jpg: ignoring corrupt image/label: [Errno 2] No such file or directory: 'C:\\\\Users\\\\cwky\\\\datasets\\\\coco\\\\images\\\\val2017\\\\000000183437.jpg'\n",
      "\u001b[34m\u001b[1mval: \u001b[0mWARNING ⚠️ C:\\Users\\cwky\\datasets\\coco\\images\\val2017\\000000183500.jpg: ignoring corrupt image/label: [Errno 2] No such file or directory: 'C:\\\\Users\\\\cwky\\\\datasets\\\\coco\\\\images\\\\val2017\\\\000000183500.jpg'\n",
      "\u001b[34m\u001b[1mval: \u001b[0mWARNING ⚠️ C:\\Users\\cwky\\datasets\\coco\\images\\val2017\\000000183675.jpg: ignoring corrupt image/label: [Errno 2] No such file or directory: 'C:\\\\Users\\\\cwky\\\\datasets\\\\coco\\\\images\\\\val2017\\\\000000183675.jpg'\n",
      "\u001b[34m\u001b[1mval: \u001b[0mWARNING ⚠️ C:\\Users\\cwky\\datasets\\coco\\images\\val2017\\000000183716.jpg: ignoring corrupt image/label: [Errno 2] No such file or directory: 'C:\\\\Users\\\\cwky\\\\datasets\\\\coco\\\\images\\\\val2017\\\\000000183716.jpg'\n",
      "\u001b[34m\u001b[1mval: \u001b[0mWARNING ⚠️ C:\\Users\\cwky\\datasets\\coco\\images\\val2017\\000000184321.jpg: ignoring corrupt image/label: [Errno 2] No such file or directory: 'C:\\\\Users\\\\cwky\\\\datasets\\\\coco\\\\images\\\\val2017\\\\000000184321.jpg'\n",
      "\u001b[34m\u001b[1mval: \u001b[0mWARNING ⚠️ C:\\Users\\cwky\\datasets\\coco\\images\\val2017\\000000184324.jpg: ignoring corrupt image/label: [Errno 2] No such file or directory: 'C:\\\\Users\\\\cwky\\\\datasets\\\\coco\\\\images\\\\val2017\\\\000000184324.jpg'\n",
      "\u001b[34m\u001b[1mval: \u001b[0mWARNING ⚠️ C:\\Users\\cwky\\datasets\\coco\\images\\val2017\\000000184338.jpg: ignoring corrupt image/label: [Errno 2] No such file or directory: 'C:\\\\Users\\\\cwky\\\\datasets\\\\coco\\\\images\\\\val2017\\\\000000184338.jpg'\n",
      "\u001b[34m\u001b[1mval: \u001b[0mWARNING ⚠️ C:\\Users\\cwky\\datasets\\coco\\images\\val2017\\000000184384.jpg: ignoring corrupt image/label: [Errno 2] No such file or directory: 'C:\\\\Users\\\\cwky\\\\datasets\\\\coco\\\\images\\\\val2017\\\\000000184384.jpg'\n",
      "\u001b[34m\u001b[1mval: \u001b[0mWARNING ⚠️ C:\\Users\\cwky\\datasets\\coco\\images\\val2017\\000000184611.jpg: ignoring corrupt image/label: [Errno 2] No such file or directory: 'C:\\\\Users\\\\cwky\\\\datasets\\\\coco\\\\images\\\\val2017\\\\000000184611.jpg'\n",
      "\u001b[34m\u001b[1mval: \u001b[0mWARNING ⚠️ C:\\Users\\cwky\\datasets\\coco\\images\\val2017\\000000185472.jpg: ignoring corrupt image/label: [Errno 2] No such file or directory: 'C:\\\\Users\\\\cwky\\\\datasets\\\\coco\\\\images\\\\val2017\\\\000000185472.jpg'\n",
      "\u001b[34m\u001b[1mval: \u001b[0mWARNING ⚠️ C:\\Users\\cwky\\datasets\\coco\\images\\val2017\\000000185802.jpg: ignoring corrupt image/label: [Errno 2] No such file or directory: 'C:\\\\Users\\\\cwky\\\\datasets\\\\coco\\\\images\\\\val2017\\\\000000185802.jpg'\n",
      "\u001b[34m\u001b[1mval: \u001b[0mWARNING ⚠️ C:\\Users\\cwky\\datasets\\coco\\images\\val2017\\000000185950.jpg: ignoring corrupt image/label: [Errno 2] No such file or directory: 'C:\\\\Users\\\\cwky\\\\datasets\\\\coco\\\\images\\\\val2017\\\\000000185950.jpg'\n",
      "\u001b[34m\u001b[1mval: \u001b[0mWARNING ⚠️ C:\\Users\\cwky\\datasets\\coco\\images\\val2017\\000000186422.jpg: ignoring corrupt image/label: [Errno 2] No such file or directory: 'C:\\\\Users\\\\cwky\\\\datasets\\\\coco\\\\images\\\\val2017\\\\000000186422.jpg'\n",
      "\u001b[34m\u001b[1mval: \u001b[0mWARNING ⚠️ C:\\Users\\cwky\\datasets\\coco\\images\\val2017\\000000186449.jpg: ignoring corrupt image/label: [Errno 2] No such file or directory: 'C:\\\\Users\\\\cwky\\\\datasets\\\\coco\\\\images\\\\val2017\\\\000000186449.jpg'\n",
      "\u001b[34m\u001b[1mval: \u001b[0mWARNING ⚠️ C:\\Users\\cwky\\datasets\\coco\\images\\val2017\\000000186624.jpg: ignoring corrupt image/label: [Errno 2] No such file or directory: 'C:\\\\Users\\\\cwky\\\\datasets\\\\coco\\\\images\\\\val2017\\\\000000186624.jpg'\n",
      "\u001b[34m\u001b[1mval: \u001b[0mWARNING ⚠️ C:\\Users\\cwky\\datasets\\coco\\images\\val2017\\000000186637.jpg: ignoring corrupt image/label: [Errno 2] No such file or directory: 'C:\\\\Users\\\\cwky\\\\datasets\\\\coco\\\\images\\\\val2017\\\\000000186637.jpg'\n",
      "\u001b[34m\u001b[1mval: \u001b[0mWARNING ⚠️ C:\\Users\\cwky\\datasets\\coco\\images\\val2017\\000000186929.jpg: ignoring corrupt image/label: [Errno 2] No such file or directory: 'C:\\\\Users\\\\cwky\\\\datasets\\\\coco\\\\images\\\\val2017\\\\000000186929.jpg'\n",
      "\u001b[34m\u001b[1mval: \u001b[0mWARNING ⚠️ C:\\Users\\cwky\\datasets\\coco\\images\\val2017\\000000186980.jpg: ignoring corrupt image/label: [Errno 2] No such file or directory: 'C:\\\\Users\\\\cwky\\\\datasets\\\\coco\\\\images\\\\val2017\\\\000000186980.jpg'\n",
      "\u001b[34m\u001b[1mval: \u001b[0mWARNING ⚠️ C:\\Users\\cwky\\datasets\\coco\\images\\val2017\\000000187055.jpg: ignoring corrupt image/label: [Errno 2] No such file or directory: 'C:\\\\Users\\\\cwky\\\\datasets\\\\coco\\\\images\\\\val2017\\\\000000187055.jpg'\n",
      "\u001b[34m\u001b[1mval: \u001b[0mWARNING ⚠️ C:\\Users\\cwky\\datasets\\coco\\images\\val2017\\000000187236.jpg: ignoring corrupt image/label: [Errno 2] No such file or directory: 'C:\\\\Users\\\\cwky\\\\datasets\\\\coco\\\\images\\\\val2017\\\\000000187236.jpg'\n",
      "\u001b[34m\u001b[1mval: \u001b[0mWARNING ⚠️ C:\\Users\\cwky\\datasets\\coco\\images\\val2017\\000000187249.jpg: ignoring corrupt image/label: [Errno 2] No such file or directory: 'C:\\\\Users\\\\cwky\\\\datasets\\\\coco\\\\images\\\\val2017\\\\000000187249.jpg'\n",
      "\u001b[34m\u001b[1mval: \u001b[0mWARNING ⚠️ C:\\Users\\cwky\\datasets\\coco\\images\\val2017\\000000187362.jpg: ignoring corrupt image/label: [Errno 2] No such file or directory: 'C:\\\\Users\\\\cwky\\\\datasets\\\\coco\\\\images\\\\val2017\\\\000000187362.jpg'\n",
      "\u001b[34m\u001b[1mval: \u001b[0mWARNING ⚠️ C:\\Users\\cwky\\datasets\\coco\\images\\val2017\\000000187734.jpg: ignoring corrupt image/label: [Errno 2] No such file or directory: 'C:\\\\Users\\\\cwky\\\\datasets\\\\coco\\\\images\\\\val2017\\\\000000187734.jpg'\n",
      "\u001b[34m\u001b[1mval: \u001b[0mWARNING ⚠️ C:\\Users\\cwky\\datasets\\coco\\images\\val2017\\000000188465.jpg: ignoring corrupt image/label: [Errno 2] No such file or directory: 'C:\\\\Users\\\\cwky\\\\datasets\\\\coco\\\\images\\\\val2017\\\\000000188465.jpg'\n",
      "\u001b[34m\u001b[1mval: \u001b[0mWARNING ⚠️ C:\\Users\\cwky\\datasets\\coco\\images\\val2017\\000000188689.jpg: ignoring corrupt image/label: [Errno 2] No such file or directory: 'C:\\\\Users\\\\cwky\\\\datasets\\\\coco\\\\images\\\\val2017\\\\000000188689.jpg'\n",
      "\u001b[34m\u001b[1mval: \u001b[0mWARNING ⚠️ C:\\Users\\cwky\\datasets\\coco\\images\\val2017\\000000189752.jpg: ignoring corrupt image/label: [Errno 2] No such file or directory: 'C:\\\\Users\\\\cwky\\\\datasets\\\\coco\\\\images\\\\val2017\\\\000000189752.jpg'\n",
      "\u001b[34m\u001b[1mval: \u001b[0mWARNING ⚠️ C:\\Users\\cwky\\datasets\\coco\\images\\val2017\\000000189806.jpg: ignoring corrupt image/label: [Errno 2] No such file or directory: 'C:\\\\Users\\\\cwky\\\\datasets\\\\coco\\\\images\\\\val2017\\\\000000189806.jpg'\n",
      "\u001b[34m\u001b[1mval: \u001b[0mWARNING ⚠️ C:\\Users\\cwky\\datasets\\coco\\images\\val2017\\000000189828.jpg: ignoring corrupt image/label: [Errno 2] No such file or directory: 'C:\\\\Users\\\\cwky\\\\datasets\\\\coco\\\\images\\\\val2017\\\\000000189828.jpg'\n",
      "\u001b[34m\u001b[1mval: \u001b[0mWARNING ⚠️ C:\\Users\\cwky\\datasets\\coco\\images\\val2017\\000000190236.jpg: ignoring corrupt image/label: [Errno 2] No such file or directory: 'C:\\\\Users\\\\cwky\\\\datasets\\\\coco\\\\images\\\\val2017\\\\000000190236.jpg'\n",
      "\u001b[34m\u001b[1mval: \u001b[0mWARNING ⚠️ C:\\Users\\cwky\\datasets\\coco\\images\\val2017\\000000190637.jpg: ignoring corrupt image/label: [Errno 2] No such file or directory: 'C:\\\\Users\\\\cwky\\\\datasets\\\\coco\\\\images\\\\val2017\\\\000000190637.jpg'\n",
      "\u001b[34m\u001b[1mval: \u001b[0mWARNING ⚠️ C:\\Users\\cwky\\datasets\\coco\\images\\val2017\\000000190648.jpg: ignoring corrupt image/label: [Errno 2] No such file or directory: 'C:\\\\Users\\\\cwky\\\\datasets\\\\coco\\\\images\\\\val2017\\\\000000190648.jpg'\n",
      "\u001b[34m\u001b[1mval: \u001b[0mWARNING ⚠️ C:\\Users\\cwky\\datasets\\coco\\images\\val2017\\000000190676.jpg: ignoring corrupt image/label: [Errno 2] No such file or directory: 'C:\\\\Users\\\\cwky\\\\datasets\\\\coco\\\\images\\\\val2017\\\\000000190676.jpg'\n",
      "\u001b[34m\u001b[1mval: \u001b[0mWARNING ⚠️ C:\\Users\\cwky\\datasets\\coco\\images\\val2017\\000000190756.jpg: ignoring corrupt image/label: [Errno 2] No such file or directory: 'C:\\\\Users\\\\cwky\\\\datasets\\\\coco\\\\images\\\\val2017\\\\000000190756.jpg'\n",
      "\u001b[34m\u001b[1mval: \u001b[0mWARNING ⚠️ C:\\Users\\cwky\\datasets\\coco\\images\\val2017\\000000191013.jpg: ignoring corrupt image/label: [Errno 2] No such file or directory: 'C:\\\\Users\\\\cwky\\\\datasets\\\\coco\\\\images\\\\val2017\\\\000000191013.jpg'\n",
      "\u001b[34m\u001b[1mval: \u001b[0mWARNING ⚠️ C:\\Users\\cwky\\datasets\\coco\\images\\val2017\\000000191288.jpg: ignoring corrupt image/label: [Errno 2] No such file or directory: 'C:\\\\Users\\\\cwky\\\\datasets\\\\coco\\\\images\\\\val2017\\\\000000191288.jpg'\n",
      "\u001b[34m\u001b[1mval: \u001b[0mWARNING ⚠️ C:\\Users\\cwky\\datasets\\coco\\images\\val2017\\000000191761.jpg: ignoring corrupt image/label: [Errno 2] No such file or directory: 'C:\\\\Users\\\\cwky\\\\datasets\\\\coco\\\\images\\\\val2017\\\\000000191761.jpg'\n",
      "\u001b[34m\u001b[1mval: \u001b[0mWARNING ⚠️ C:\\Users\\cwky\\datasets\\coco\\images\\val2017\\000000191845.jpg: ignoring corrupt image/label: [Errno 2] No such file or directory: 'C:\\\\Users\\\\cwky\\\\datasets\\\\coco\\\\images\\\\val2017\\\\000000191845.jpg'\n",
      "\u001b[34m\u001b[1mval: \u001b[0mWARNING ⚠️ C:\\Users\\cwky\\datasets\\coco\\images\\val2017\\000000192670.jpg: ignoring corrupt image/label: [Errno 2] No such file or directory: 'C:\\\\Users\\\\cwky\\\\datasets\\\\coco\\\\images\\\\val2017\\\\000000192670.jpg'\n",
      "\u001b[34m\u001b[1mval: \u001b[0mWARNING ⚠️ C:\\Users\\cwky\\datasets\\coco\\images\\val2017\\000000192699.jpg: ignoring corrupt image/label: [Errno 2] No such file or directory: 'C:\\\\Users\\\\cwky\\\\datasets\\\\coco\\\\images\\\\val2017\\\\000000192699.jpg'\n",
      "\u001b[34m\u001b[1mval: \u001b[0mWARNING ⚠️ C:\\Users\\cwky\\datasets\\coco\\images\\val2017\\000000192904.jpg: ignoring corrupt image/label: [Errno 2] No such file or directory: 'C:\\\\Users\\\\cwky\\\\datasets\\\\coco\\\\images\\\\val2017\\\\000000192904.jpg'\n",
      "\u001b[34m\u001b[1mval: \u001b[0mWARNING ⚠️ C:\\Users\\cwky\\datasets\\coco\\images\\val2017\\000000193181.jpg: ignoring corrupt image/label: [Errno 2] No such file or directory: 'C:\\\\Users\\\\cwky\\\\datasets\\\\coco\\\\images\\\\val2017\\\\000000193181.jpg'\n",
      "\u001b[34m\u001b[1mval: \u001b[0mWARNING ⚠️ C:\\Users\\cwky\\datasets\\coco\\images\\val2017\\000000193245.jpg: ignoring corrupt image/label: [Errno 2] No such file or directory: 'C:\\\\Users\\\\cwky\\\\datasets\\\\coco\\\\images\\\\val2017\\\\000000193245.jpg'\n",
      "\u001b[34m\u001b[1mval: \u001b[0mWARNING ⚠️ C:\\Users\\cwky\\datasets\\coco\\images\\val2017\\000000193429.jpg: ignoring corrupt image/label: [Errno 2] No such file or directory: 'C:\\\\Users\\\\cwky\\\\datasets\\\\coco\\\\images\\\\val2017\\\\000000193429.jpg'\n",
      "\u001b[34m\u001b[1mval: \u001b[0mWARNING ⚠️ C:\\Users\\cwky\\datasets\\coco\\images\\val2017\\000000193717.jpg: ignoring corrupt image/label: [Errno 2] No such file or directory: 'C:\\\\Users\\\\cwky\\\\datasets\\\\coco\\\\images\\\\val2017\\\\000000193717.jpg'\n",
      "\u001b[34m\u001b[1mval: \u001b[0mWARNING ⚠️ C:\\Users\\cwky\\datasets\\coco\\images\\val2017\\000000194506.jpg: ignoring corrupt image/label: [Errno 2] No such file or directory: 'C:\\\\Users\\\\cwky\\\\datasets\\\\coco\\\\images\\\\val2017\\\\000000194506.jpg'\n",
      "\u001b[34m\u001b[1mval: \u001b[0mWARNING ⚠️ C:\\Users\\cwky\\datasets\\coco\\images\\val2017\\000000194716.jpg: ignoring corrupt image/label: [Errno 2] No such file or directory: 'C:\\\\Users\\\\cwky\\\\datasets\\\\coco\\\\images\\\\val2017\\\\000000194716.jpg'\n",
      "\u001b[34m\u001b[1mval: \u001b[0mWARNING ⚠️ C:\\Users\\cwky\\datasets\\coco\\images\\val2017\\000000195754.jpg: ignoring corrupt image/label: [Errno 2] No such file or directory: 'C:\\\\Users\\\\cwky\\\\datasets\\\\coco\\\\images\\\\val2017\\\\000000195754.jpg'\n",
      "\u001b[34m\u001b[1mval: \u001b[0mWARNING ⚠️ C:\\Users\\cwky\\datasets\\coco\\images\\val2017\\000000195842.jpg: ignoring corrupt image/label: [Errno 2] No such file or directory: 'C:\\\\Users\\\\cwky\\\\datasets\\\\coco\\\\images\\\\val2017\\\\000000195842.jpg'\n",
      "\u001b[34m\u001b[1mval: \u001b[0mWARNING ⚠️ C:\\Users\\cwky\\datasets\\coco\\images\\val2017\\000000196009.jpg: ignoring corrupt image/label: [Errno 2] No such file or directory: 'C:\\\\Users\\\\cwky\\\\datasets\\\\coco\\\\images\\\\val2017\\\\000000196009.jpg'\n",
      "\u001b[34m\u001b[1mval: \u001b[0mWARNING ⚠️ C:\\Users\\cwky\\datasets\\coco\\images\\val2017\\000000196185.jpg: ignoring corrupt image/label: [Errno 2] No such file or directory: 'C:\\\\Users\\\\cwky\\\\datasets\\\\coco\\\\images\\\\val2017\\\\000000196185.jpg'\n",
      "\u001b[34m\u001b[1mval: \u001b[0mWARNING ⚠️ C:\\Users\\cwky\\datasets\\coco\\images\\val2017\\000000196442.jpg: ignoring corrupt image/label: [Errno 2] No such file or directory: 'C:\\\\Users\\\\cwky\\\\datasets\\\\coco\\\\images\\\\val2017\\\\000000196442.jpg'\n",
      "\u001b[34m\u001b[1mval: \u001b[0mWARNING ⚠️ C:\\Users\\cwky\\datasets\\coco\\images\\val2017\\000000196759.jpg: ignoring corrupt image/label: [Errno 2] No such file or directory: 'C:\\\\Users\\\\cwky\\\\datasets\\\\coco\\\\images\\\\val2017\\\\000000196759.jpg'\n",
      "\u001b[34m\u001b[1mval: \u001b[0mWARNING ⚠️ C:\\Users\\cwky\\datasets\\coco\\images\\val2017\\000000196843.jpg: ignoring corrupt image/label: [Errno 2] No such file or directory: 'C:\\\\Users\\\\cwky\\\\datasets\\\\coco\\\\images\\\\val2017\\\\000000196843.jpg'\n",
      "\u001b[34m\u001b[1mval: \u001b[0mWARNING ⚠️ C:\\Users\\cwky\\datasets\\coco\\images\\val2017\\000000197388.jpg: ignoring corrupt image/label: [Errno 2] No such file or directory: 'C:\\\\Users\\\\cwky\\\\datasets\\\\coco\\\\images\\\\val2017\\\\000000197388.jpg'\n",
      "\u001b[34m\u001b[1mval: \u001b[0mWARNING ⚠️ C:\\Users\\cwky\\datasets\\coco\\images\\val2017\\000000197658.jpg: ignoring corrupt image/label: [Errno 2] No such file or directory: 'C:\\\\Users\\\\cwky\\\\datasets\\\\coco\\\\images\\\\val2017\\\\000000197658.jpg'\n",
      "\u001b[34m\u001b[1mval: \u001b[0mWARNING ⚠️ C:\\Users\\cwky\\datasets\\coco\\images\\val2017\\000000197796.jpg: ignoring corrupt image/label: [Errno 2] No such file or directory: 'C:\\\\Users\\\\cwky\\\\datasets\\\\coco\\\\images\\\\val2017\\\\000000197796.jpg'\n",
      "\u001b[34m\u001b[1mval: \u001b[0mWARNING ⚠️ C:\\Users\\cwky\\datasets\\coco\\images\\val2017\\000000198641.jpg: ignoring corrupt image/label: [Errno 2] No such file or directory: 'C:\\\\Users\\\\cwky\\\\datasets\\\\coco\\\\images\\\\val2017\\\\000000198641.jpg'\n",
      "\u001b[34m\u001b[1mval: \u001b[0mWARNING ⚠️ C:\\Users\\cwky\\datasets\\coco\\images\\val2017\\000000198805.jpg: ignoring corrupt image/label: [Errno 2] No such file or directory: 'C:\\\\Users\\\\cwky\\\\datasets\\\\coco\\\\images\\\\val2017\\\\000000198805.jpg'\n",
      "\u001b[34m\u001b[1mval: \u001b[0mWARNING ⚠️ C:\\Users\\cwky\\datasets\\coco\\images\\val2017\\000000199236.jpg: ignoring corrupt image/label: [Errno 2] No such file or directory: 'C:\\\\Users\\\\cwky\\\\datasets\\\\coco\\\\images\\\\val2017\\\\000000199236.jpg'\n",
      "\u001b[34m\u001b[1mval: \u001b[0mWARNING ⚠️ C:\\Users\\cwky\\datasets\\coco\\images\\val2017\\000000199442.jpg: ignoring corrupt image/label: [Errno 2] No such file or directory: 'C:\\\\Users\\\\cwky\\\\datasets\\\\coco\\\\images\\\\val2017\\\\000000199442.jpg'\n",
      "\u001b[34m\u001b[1mval: \u001b[0mWARNING ⚠️ C:\\Users\\cwky\\datasets\\coco\\images\\val2017\\000000199771.jpg: ignoring corrupt image/label: [Errno 2] No such file or directory: 'C:\\\\Users\\\\cwky\\\\datasets\\\\coco\\\\images\\\\val2017\\\\000000199771.jpg'\n",
      "\u001b[34m\u001b[1mval: \u001b[0mWARNING ⚠️ C:\\Users\\cwky\\datasets\\coco\\images\\val2017\\000000200667.jpg: ignoring corrupt image/label: [Errno 2] No such file or directory: 'C:\\\\Users\\\\cwky\\\\datasets\\\\coco\\\\images\\\\val2017\\\\000000200667.jpg'\n",
      "\u001b[34m\u001b[1mval: \u001b[0mWARNING ⚠️ C:\\Users\\cwky\\datasets\\coco\\images\\val2017\\000000201025.jpg: ignoring corrupt image/label: [Errno 2] No such file or directory: 'C:\\\\Users\\\\cwky\\\\datasets\\\\coco\\\\images\\\\val2017\\\\000000201025.jpg'\n",
      "\u001b[34m\u001b[1mval: \u001b[0mWARNING ⚠️ C:\\Users\\cwky\\datasets\\coco\\images\\val2017\\000000201418.jpg: ignoring corrupt image/label: [Errno 2] No such file or directory: 'C:\\\\Users\\\\cwky\\\\datasets\\\\coco\\\\images\\\\val2017\\\\000000201418.jpg'\n",
      "\u001b[34m\u001b[1mval: \u001b[0mWARNING ⚠️ C:\\Users\\cwky\\datasets\\coco\\images\\val2017\\000000201426.jpg: ignoring corrupt image/label: [Errno 2] No such file or directory: 'C:\\\\Users\\\\cwky\\\\datasets\\\\coco\\\\images\\\\val2017\\\\000000201426.jpg'\n",
      "\u001b[34m\u001b[1mval: \u001b[0mWARNING ⚠️ C:\\Users\\cwky\\datasets\\coco\\images\\val2017\\000000201934.jpg: ignoring corrupt image/label: [Errno 2] No such file or directory: 'C:\\\\Users\\\\cwky\\\\datasets\\\\coco\\\\images\\\\val2017\\\\000000201934.jpg'\n",
      "\u001b[34m\u001b[1mval: \u001b[0mWARNING ⚠️ C:\\Users\\cwky\\datasets\\coco\\images\\val2017\\000000202001.jpg: ignoring corrupt image/label: [Errno 2] No such file or directory: 'C:\\\\Users\\\\cwky\\\\datasets\\\\coco\\\\images\\\\val2017\\\\000000202001.jpg'\n",
      "\u001b[34m\u001b[1mval: \u001b[0mWARNING ⚠️ C:\\Users\\cwky\\datasets\\coco\\images\\val2017\\000000202228.jpg: ignoring corrupt image/label: [Errno 2] No such file or directory: 'C:\\\\Users\\\\cwky\\\\datasets\\\\coco\\\\images\\\\val2017\\\\000000202228.jpg'\n",
      "\u001b[34m\u001b[1mval: \u001b[0mWARNING ⚠️ C:\\Users\\cwky\\datasets\\coco\\images\\val2017\\000000202339.jpg: ignoring corrupt image/label: [Errno 2] No such file or directory: 'C:\\\\Users\\\\cwky\\\\datasets\\\\coco\\\\images\\\\val2017\\\\000000202339.jpg'\n",
      "\u001b[34m\u001b[1mval: \u001b[0mWARNING ⚠️ C:\\Users\\cwky\\datasets\\coco\\images\\val2017\\000000203095.jpg: ignoring corrupt image/label: [Errno 2] No such file or directory: 'C:\\\\Users\\\\cwky\\\\datasets\\\\coco\\\\images\\\\val2017\\\\000000203095.jpg'\n",
      "\u001b[34m\u001b[1mval: \u001b[0mWARNING ⚠️ C:\\Users\\cwky\\datasets\\coco\\images\\val2017\\000000203317.jpg: ignoring corrupt image/label: [Errno 2] No such file or directory: 'C:\\\\Users\\\\cwky\\\\datasets\\\\coco\\\\images\\\\val2017\\\\000000203317.jpg'\n",
      "\u001b[34m\u001b[1mval: \u001b[0mWARNING ⚠️ C:\\Users\\cwky\\datasets\\coco\\images\\val2017\\000000203389.jpg: ignoring corrupt image/label: [Errno 2] No such file or directory: 'C:\\\\Users\\\\cwky\\\\datasets\\\\coco\\\\images\\\\val2017\\\\000000203389.jpg'\n",
      "\u001b[34m\u001b[1mval: \u001b[0mWARNING ⚠️ C:\\Users\\cwky\\datasets\\coco\\images\\val2017\\000000203546.jpg: ignoring corrupt image/label: [Errno 2] No such file or directory: 'C:\\\\Users\\\\cwky\\\\datasets\\\\coco\\\\images\\\\val2017\\\\000000203546.jpg'\n",
      "\u001b[34m\u001b[1mval: \u001b[0mWARNING ⚠️ C:\\Users\\cwky\\datasets\\coco\\images\\val2017\\000000203639.jpg: ignoring corrupt image/label: [Errno 2] No such file or directory: 'C:\\\\Users\\\\cwky\\\\datasets\\\\coco\\\\images\\\\val2017\\\\000000203639.jpg'\n",
      "\u001b[34m\u001b[1mval: \u001b[0mWARNING ⚠️ C:\\Users\\cwky\\datasets\\coco\\images\\val2017\\000000204186.jpg: ignoring corrupt image/label: [Errno 2] No such file or directory: 'C:\\\\Users\\\\cwky\\\\datasets\\\\coco\\\\images\\\\val2017\\\\000000204186.jpg'\n",
      "\u001b[34m\u001b[1mval: \u001b[0mWARNING ⚠️ C:\\Users\\cwky\\datasets\\coco\\images\\val2017\\000000204871.jpg: ignoring corrupt image/label: [Errno 2] No such file or directory: 'C:\\\\Users\\\\cwky\\\\datasets\\\\coco\\\\images\\\\val2017\\\\000000204871.jpg'\n",
      "\u001b[34m\u001b[1mval: \u001b[0mWARNING ⚠️ C:\\Users\\cwky\\datasets\\coco\\images\\val2017\\000000205105.jpg: ignoring corrupt image/label: [Errno 2] No such file or directory: 'C:\\\\Users\\\\cwky\\\\datasets\\\\coco\\\\images\\\\val2017\\\\000000205105.jpg'\n",
      "\u001b[34m\u001b[1mval: \u001b[0mWARNING ⚠️ C:\\Users\\cwky\\datasets\\coco\\images\\val2017\\000000205289.jpg: ignoring corrupt image/label: [Errno 2] No such file or directory: 'C:\\\\Users\\\\cwky\\\\datasets\\\\coco\\\\images\\\\val2017\\\\000000205289.jpg'\n",
      "\u001b[34m\u001b[1mval: \u001b[0mWARNING ⚠️ C:\\Users\\cwky\\datasets\\coco\\images\\val2017\\000000205333.jpg: ignoring corrupt image/label: [Errno 2] No such file or directory: 'C:\\\\Users\\\\cwky\\\\datasets\\\\coco\\\\images\\\\val2017\\\\000000205333.jpg'\n",
      "\u001b[34m\u001b[1mval: \u001b[0mWARNING ⚠️ C:\\Users\\cwky\\datasets\\coco\\images\\val2017\\000000205514.jpg: ignoring corrupt image/label: [Errno 2] No such file or directory: 'C:\\\\Users\\\\cwky\\\\datasets\\\\coco\\\\images\\\\val2017\\\\000000205514.jpg'\n",
      "\u001b[34m\u001b[1mval: \u001b[0mWARNING ⚠️ C:\\Users\\cwky\\datasets\\coco\\images\\val2017\\000000206027.jpg: ignoring corrupt image/label: [Errno 2] No such file or directory: 'C:\\\\Users\\\\cwky\\\\datasets\\\\coco\\\\images\\\\val2017\\\\000000206027.jpg'\n",
      "\u001b[34m\u001b[1mval: \u001b[0mWARNING ⚠️ C:\\Users\\cwky\\datasets\\coco\\images\\val2017\\000000206135.jpg: ignoring corrupt image/label: [Errno 2] No such file or directory: 'C:\\\\Users\\\\cwky\\\\datasets\\\\coco\\\\images\\\\val2017\\\\000000206135.jpg'\n",
      "\u001b[34m\u001b[1mval: \u001b[0mWARNING ⚠️ C:\\Users\\cwky\\datasets\\coco\\images\\val2017\\000000206218.jpg: ignoring corrupt image/label: [Errno 2] No such file or directory: 'C:\\\\Users\\\\cwky\\\\datasets\\\\coco\\\\images\\\\val2017\\\\000000206218.jpg'\n",
      "\u001b[34m\u001b[1mval: \u001b[0mWARNING ⚠️ C:\\Users\\cwky\\datasets\\coco\\images\\val2017\\000000207306.jpg: ignoring corrupt image/label: [Errno 2] No such file or directory: 'C:\\\\Users\\\\cwky\\\\datasets\\\\coco\\\\images\\\\val2017\\\\000000207306.jpg'\n",
      "\u001b[34m\u001b[1mval: \u001b[0mWARNING ⚠️ C:\\Users\\cwky\\datasets\\coco\\images\\val2017\\000000207538.jpg: ignoring corrupt image/label: [Errno 2] No such file or directory: 'C:\\\\Users\\\\cwky\\\\datasets\\\\coco\\\\images\\\\val2017\\\\000000207538.jpg'\n",
      "\u001b[34m\u001b[1mval: \u001b[0mWARNING ⚠️ C:\\Users\\cwky\\datasets\\coco\\images\\val2017\\000000207585.jpg: ignoring corrupt image/label: [Errno 2] No such file or directory: 'C:\\\\Users\\\\cwky\\\\datasets\\\\coco\\\\images\\\\val2017\\\\000000207585.jpg'\n",
      "\u001b[34m\u001b[1mval: \u001b[0mWARNING ⚠️ C:\\Users\\cwky\\datasets\\coco\\images\\val2017\\000000207728.jpg: ignoring corrupt image/label: [Errno 2] No such file or directory: 'C:\\\\Users\\\\cwky\\\\datasets\\\\coco\\\\images\\\\val2017\\\\000000207728.jpg'\n",
      "\u001b[34m\u001b[1mval: \u001b[0mWARNING ⚠️ C:\\Users\\cwky\\datasets\\coco\\images\\val2017\\000000208208.jpg: ignoring corrupt image/label: [Errno 2] No such file or directory: 'C:\\\\Users\\\\cwky\\\\datasets\\\\coco\\\\images\\\\val2017\\\\000000208208.jpg'\n",
      "\u001b[34m\u001b[1mval: \u001b[0mWARNING ⚠️ C:\\Users\\cwky\\datasets\\coco\\images\\val2017\\000000208423.jpg: ignoring corrupt image/label: [Errno 2] No such file or directory: 'C:\\\\Users\\\\cwky\\\\datasets\\\\coco\\\\images\\\\val2017\\\\000000208423.jpg'\n",
      "\u001b[34m\u001b[1mval: \u001b[0mWARNING ⚠️ C:\\Users\\cwky\\datasets\\coco\\images\\val2017\\000000209142.jpg: ignoring corrupt image/label: [Errno 2] No such file or directory: 'C:\\\\Users\\\\cwky\\\\datasets\\\\coco\\\\images\\\\val2017\\\\000000209142.jpg'\n",
      "\u001b[34m\u001b[1mval: \u001b[0mWARNING ⚠️ C:\\Users\\cwky\\datasets\\coco\\images\\val2017\\000000209747.jpg: ignoring corrupt image/label: [Errno 2] No such file or directory: 'C:\\\\Users\\\\cwky\\\\datasets\\\\coco\\\\images\\\\val2017\\\\000000209747.jpg'\n",
      "\u001b[34m\u001b[1mval: \u001b[0mWARNING ⚠️ C:\\Users\\cwky\\datasets\\coco\\images\\val2017\\000000210030.jpg: ignoring corrupt image/label: [Errno 2] No such file or directory: 'C:\\\\Users\\\\cwky\\\\datasets\\\\coco\\\\images\\\\val2017\\\\000000210030.jpg'\n",
      "\u001b[34m\u001b[1mval: \u001b[0mWARNING ⚠️ C:\\Users\\cwky\\datasets\\coco\\images\\val2017\\000000210230.jpg: ignoring corrupt image/label: [Errno 2] No such file or directory: 'C:\\\\Users\\\\cwky\\\\datasets\\\\coco\\\\images\\\\val2017\\\\000000210230.jpg'\n",
      "\u001b[34m\u001b[1mval: \u001b[0mWARNING ⚠️ C:\\Users\\cwky\\datasets\\coco\\images\\val2017\\000000210388.jpg: ignoring corrupt image/label: [Errno 2] No such file or directory: 'C:\\\\Users\\\\cwky\\\\datasets\\\\coco\\\\images\\\\val2017\\\\000000210388.jpg'\n",
      "\u001b[34m\u001b[1mval: \u001b[0mWARNING ⚠️ C:\\Users\\cwky\\datasets\\coco\\images\\val2017\\000000211042.jpg: ignoring corrupt image/label: [Errno 2] No such file or directory: 'C:\\\\Users\\\\cwky\\\\datasets\\\\coco\\\\images\\\\val2017\\\\000000211042.jpg'\n",
      "\u001b[34m\u001b[1mval: \u001b[0mWARNING ⚠️ C:\\Users\\cwky\\datasets\\coco\\images\\val2017\\000000211120.jpg: ignoring corrupt image/label: [Errno 2] No such file or directory: 'C:\\\\Users\\\\cwky\\\\datasets\\\\coco\\\\images\\\\val2017\\\\000000211120.jpg'\n",
      "\u001b[34m\u001b[1mval: \u001b[0mWARNING ⚠️ C:\\Users\\cwky\\datasets\\coco\\images\\val2017\\000000211825.jpg: ignoring corrupt image/label: [Errno 2] No such file or directory: 'C:\\\\Users\\\\cwky\\\\datasets\\\\coco\\\\images\\\\val2017\\\\000000211825.jpg'\n",
      "\u001b[34m\u001b[1mval: \u001b[0mWARNING ⚠️ C:\\Users\\cwky\\datasets\\coco\\images\\val2017\\000000212072.jpg: ignoring corrupt image/label: [Errno 2] No such file or directory: 'C:\\\\Users\\\\cwky\\\\datasets\\\\coco\\\\images\\\\val2017\\\\000000212072.jpg'\n",
      "\u001b[34m\u001b[1mval: \u001b[0mWARNING ⚠️ C:\\Users\\cwky\\datasets\\coco\\images\\val2017\\000000212453.jpg: ignoring corrupt image/label: [Errno 2] No such file or directory: 'C:\\\\Users\\\\cwky\\\\datasets\\\\coco\\\\images\\\\val2017\\\\000000212453.jpg'\n",
      "\u001b[34m\u001b[1mval: \u001b[0mWARNING ⚠️ C:\\Users\\cwky\\datasets\\coco\\images\\val2017\\000000212559.jpg: ignoring corrupt image/label: [Errno 2] No such file or directory: 'C:\\\\Users\\\\cwky\\\\datasets\\\\coco\\\\images\\\\val2017\\\\000000212559.jpg'\n",
      "\u001b[34m\u001b[1mval: \u001b[0mWARNING ⚠️ C:\\Users\\cwky\\datasets\\coco\\images\\val2017\\000000212573.jpg: ignoring corrupt image/label: [Errno 2] No such file or directory: 'C:\\\\Users\\\\cwky\\\\datasets\\\\coco\\\\images\\\\val2017\\\\000000212573.jpg'\n",
      "\u001b[34m\u001b[1mval: \u001b[0mWARNING ⚠️ C:\\Users\\cwky\\datasets\\coco\\images\\val2017\\000000213171.jpg: ignoring corrupt image/label: [Errno 2] No such file or directory: 'C:\\\\Users\\\\cwky\\\\datasets\\\\coco\\\\images\\\\val2017\\\\000000213171.jpg'\n",
      "\u001b[34m\u001b[1mval: \u001b[0mWARNING ⚠️ C:\\Users\\cwky\\datasets\\coco\\images\\val2017\\000000213224.jpg: ignoring corrupt image/label: [Errno 2] No such file or directory: 'C:\\\\Users\\\\cwky\\\\datasets\\\\coco\\\\images\\\\val2017\\\\000000213224.jpg'\n",
      "\u001b[34m\u001b[1mval: \u001b[0mWARNING ⚠️ C:\\Users\\cwky\\datasets\\coco\\images\\val2017\\000000213547.jpg: ignoring corrupt image/label: [Errno 2] No such file or directory: 'C:\\\\Users\\\\cwky\\\\datasets\\\\coco\\\\images\\\\val2017\\\\000000213547.jpg'\n",
      "\u001b[34m\u001b[1mval: \u001b[0mWARNING ⚠️ C:\\Users\\cwky\\datasets\\coco\\images\\val2017\\000000213593.jpg: ignoring corrupt image/label: [Errno 2] No such file or directory: 'C:\\\\Users\\\\cwky\\\\datasets\\\\coco\\\\images\\\\val2017\\\\000000213593.jpg'\n",
      "\u001b[34m\u001b[1mval: \u001b[0mWARNING ⚠️ C:\\Users\\cwky\\datasets\\coco\\images\\val2017\\000000213816.jpg: ignoring corrupt image/label: [Errno 2] No such file or directory: 'C:\\\\Users\\\\cwky\\\\datasets\\\\coco\\\\images\\\\val2017\\\\000000213816.jpg'\n",
      "\u001b[34m\u001b[1mval: \u001b[0mWARNING ⚠️ C:\\Users\\cwky\\datasets\\coco\\images\\val2017\\000000214192.jpg: ignoring corrupt image/label: [Errno 2] No such file or directory: 'C:\\\\Users\\\\cwky\\\\datasets\\\\coco\\\\images\\\\val2017\\\\000000214192.jpg'\n",
      "\u001b[34m\u001b[1mval: \u001b[0mWARNING ⚠️ C:\\Users\\cwky\\datasets\\coco\\images\\val2017\\000000214200.jpg: ignoring corrupt image/label: [Errno 2] No such file or directory: 'C:\\\\Users\\\\cwky\\\\datasets\\\\coco\\\\images\\\\val2017\\\\000000214200.jpg'\n",
      "\u001b[34m\u001b[1mval: \u001b[0mWARNING ⚠️ C:\\Users\\cwky\\datasets\\coco\\images\\val2017\\000000214539.jpg: ignoring corrupt image/label: [Errno 2] No such file or directory: 'C:\\\\Users\\\\cwky\\\\datasets\\\\coco\\\\images\\\\val2017\\\\000000214539.jpg'\n",
      "\u001b[34m\u001b[1mval: \u001b[0mWARNING ⚠️ C:\\Users\\cwky\\datasets\\coco\\images\\val2017\\000000214703.jpg: ignoring corrupt image/label: [Errno 2] No such file or directory: 'C:\\\\Users\\\\cwky\\\\datasets\\\\coco\\\\images\\\\val2017\\\\000000214703.jpg'\n",
      "\u001b[34m\u001b[1mval: \u001b[0mWARNING ⚠️ C:\\Users\\cwky\\datasets\\coco\\images\\val2017\\000000214753.jpg: ignoring corrupt image/label: [Errno 2] No such file or directory: 'C:\\\\Users\\\\cwky\\\\datasets\\\\coco\\\\images\\\\val2017\\\\000000214753.jpg'\n",
      "\u001b[34m\u001b[1mval: \u001b[0mWARNING ⚠️ C:\\Users\\cwky\\datasets\\coco\\images\\val2017\\000000215114.jpg: ignoring corrupt image/label: [Errno 2] No such file or directory: 'C:\\\\Users\\\\cwky\\\\datasets\\\\coco\\\\images\\\\val2017\\\\000000215114.jpg'\n",
      "\u001b[34m\u001b[1mval: \u001b[0mWARNING ⚠️ C:\\Users\\cwky\\datasets\\coco\\images\\val2017\\000000215259.jpg: ignoring corrupt image/label: [Errno 2] No such file or directory: 'C:\\\\Users\\\\cwky\\\\datasets\\\\coco\\\\images\\\\val2017\\\\000000215259.jpg'\n",
      "\u001b[34m\u001b[1mval: \u001b[0mWARNING ⚠️ C:\\Users\\cwky\\datasets\\coco\\images\\val2017\\000000215723.jpg: ignoring corrupt image/label: [Errno 2] No such file or directory: 'C:\\\\Users\\\\cwky\\\\datasets\\\\coco\\\\images\\\\val2017\\\\000000215723.jpg'\n",
      "\u001b[34m\u001b[1mval: \u001b[0mWARNING ⚠️ C:\\Users\\cwky\\datasets\\coco\\images\\val2017\\000000216277.jpg: ignoring corrupt image/label: [Errno 2] No such file or directory: 'C:\\\\Users\\\\cwky\\\\datasets\\\\coco\\\\images\\\\val2017\\\\000000216277.jpg'\n",
      "\u001b[34m\u001b[1mval: \u001b[0mWARNING ⚠️ C:\\Users\\cwky\\datasets\\coco\\images\\val2017\\000000216516.jpg: ignoring corrupt image/label: [Errno 2] No such file or directory: 'C:\\\\Users\\\\cwky\\\\datasets\\\\coco\\\\images\\\\val2017\\\\000000216516.jpg'\n",
      "\u001b[34m\u001b[1mval: \u001b[0mWARNING ⚠️ C:\\Users\\cwky\\datasets\\coco\\images\\val2017\\000000216636.jpg: ignoring corrupt image/label: [Errno 2] No such file or directory: 'C:\\\\Users\\\\cwky\\\\datasets\\\\coco\\\\images\\\\val2017\\\\000000216636.jpg'\n",
      "\u001b[34m\u001b[1mval: \u001b[0mWARNING ⚠️ C:\\Users\\cwky\\datasets\\coco\\images\\val2017\\000000217060.jpg: ignoring corrupt image/label: [Errno 2] No such file or directory: 'C:\\\\Users\\\\cwky\\\\datasets\\\\coco\\\\images\\\\val2017\\\\000000217060.jpg'\n",
      "\u001b[34m\u001b[1mval: \u001b[0mWARNING ⚠️ C:\\Users\\cwky\\datasets\\coco\\images\\val2017\\000000217219.jpg: ignoring corrupt image/label: [Errno 2] No such file or directory: 'C:\\\\Users\\\\cwky\\\\datasets\\\\coco\\\\images\\\\val2017\\\\000000217219.jpg'\n",
      "\u001b[34m\u001b[1mval: \u001b[0mWARNING ⚠️ C:\\Users\\cwky\\datasets\\coco\\images\\val2017\\000000217614.jpg: ignoring corrupt image/label: [Errno 2] No such file or directory: 'C:\\\\Users\\\\cwky\\\\datasets\\\\coco\\\\images\\\\val2017\\\\000000217614.jpg'\n",
      "\u001b[34m\u001b[1mval: \u001b[0mWARNING ⚠️ C:\\Users\\cwky\\datasets\\coco\\images\\val2017\\000000217753.jpg: ignoring corrupt image/label: [Errno 2] No such file or directory: 'C:\\\\Users\\\\cwky\\\\datasets\\\\coco\\\\images\\\\val2017\\\\000000217753.jpg'\n",
      "\u001b[34m\u001b[1mval: \u001b[0mWARNING ⚠️ C:\\Users\\cwky\\datasets\\coco\\images\\val2017\\000000217957.jpg: ignoring corrupt image/label: [Errno 2] No such file or directory: 'C:\\\\Users\\\\cwky\\\\datasets\\\\coco\\\\images\\\\val2017\\\\000000217957.jpg'\n",
      "\u001b[34m\u001b[1mval: \u001b[0mWARNING ⚠️ C:\\Users\\cwky\\datasets\\coco\\images\\val2017\\000000218362.jpg: ignoring corrupt image/label: [Errno 2] No such file or directory: 'C:\\\\Users\\\\cwky\\\\datasets\\\\coco\\\\images\\\\val2017\\\\000000218362.jpg'\n",
      "\u001b[34m\u001b[1mval: \u001b[0mWARNING ⚠️ C:\\Users\\cwky\\datasets\\coco\\images\\val2017\\000000218424.jpg: ignoring corrupt image/label: [Errno 2] No such file or directory: 'C:\\\\Users\\\\cwky\\\\datasets\\\\coco\\\\images\\\\val2017\\\\000000218424.jpg'\n",
      "\u001b[34m\u001b[1mval: \u001b[0mWARNING ⚠️ C:\\Users\\cwky\\datasets\\coco\\images\\val2017\\000000218439.jpg: ignoring corrupt image/label: [Errno 2] No such file or directory: 'C:\\\\Users\\\\cwky\\\\datasets\\\\coco\\\\images\\\\val2017\\\\000000218439.jpg'\n",
      "\u001b[34m\u001b[1mval: \u001b[0mWARNING ⚠️ C:\\Users\\cwky\\datasets\\coco\\images\\val2017\\000000219271.jpg: ignoring corrupt image/label: [Errno 2] No such file or directory: 'C:\\\\Users\\\\cwky\\\\datasets\\\\coco\\\\images\\\\val2017\\\\000000219271.jpg'\n",
      "\u001b[34m\u001b[1mval: \u001b[0mWARNING ⚠️ C:\\Users\\cwky\\datasets\\coco\\images\\val2017\\000000219283.jpg: ignoring corrupt image/label: [Errno 2] No such file or directory: 'C:\\\\Users\\\\cwky\\\\datasets\\\\coco\\\\images\\\\val2017\\\\000000219283.jpg'\n",
      "\u001b[34m\u001b[1mval: \u001b[0mWARNING ⚠️ C:\\Users\\cwky\\datasets\\coco\\images\\val2017\\000000220858.jpg: ignoring corrupt image/label: [Errno 2] No such file or directory: 'C:\\\\Users\\\\cwky\\\\datasets\\\\coco\\\\images\\\\val2017\\\\000000220858.jpg'\n",
      "\u001b[34m\u001b[1mval: \u001b[0mWARNING ⚠️ C:\\Users\\cwky\\datasets\\coco\\images\\val2017\\000000221155.jpg: ignoring corrupt image/label: [Errno 2] No such file or directory: 'C:\\\\Users\\\\cwky\\\\datasets\\\\coco\\\\images\\\\val2017\\\\000000221155.jpg'\n",
      "\u001b[34m\u001b[1mval: \u001b[0mWARNING ⚠️ C:\\Users\\cwky\\datasets\\coco\\images\\val2017\\000000221213.jpg: ignoring corrupt image/label: [Errno 2] No such file or directory: 'C:\\\\Users\\\\cwky\\\\datasets\\\\coco\\\\images\\\\val2017\\\\000000221213.jpg'\n",
      "\u001b[34m\u001b[1mval: \u001b[0mWARNING ⚠️ C:\\Users\\cwky\\datasets\\coco\\images\\val2017\\000000221708.jpg: ignoring corrupt image/label: [Errno 2] No such file or directory: 'C:\\\\Users\\\\cwky\\\\datasets\\\\coco\\\\images\\\\val2017\\\\000000221708.jpg'\n",
      "\u001b[34m\u001b[1mval: \u001b[0mWARNING ⚠️ C:\\Users\\cwky\\datasets\\coco\\images\\val2017\\000000221872.jpg: ignoring corrupt image/label: [Errno 2] No such file or directory: 'C:\\\\Users\\\\cwky\\\\datasets\\\\coco\\\\images\\\\val2017\\\\000000221872.jpg'\n",
      "\u001b[34m\u001b[1mval: \u001b[0mWARNING ⚠️ C:\\Users\\cwky\\datasets\\coco\\images\\val2017\\000000222118.jpg: ignoring corrupt image/label: [Errno 2] No such file or directory: 'C:\\\\Users\\\\cwky\\\\datasets\\\\coco\\\\images\\\\val2017\\\\000000222118.jpg'\n",
      "\u001b[34m\u001b[1mval: \u001b[0mWARNING ⚠️ C:\\Users\\cwky\\datasets\\coco\\images\\val2017\\000000222299.jpg: ignoring corrupt image/label: [Errno 2] No such file or directory: 'C:\\\\Users\\\\cwky\\\\datasets\\\\coco\\\\images\\\\val2017\\\\000000222299.jpg'\n",
      "\u001b[34m\u001b[1mval: \u001b[0mWARNING ⚠️ C:\\Users\\cwky\\datasets\\coco\\images\\val2017\\000000222317.jpg: ignoring corrupt image/label: [Errno 2] No such file or directory: 'C:\\\\Users\\\\cwky\\\\datasets\\\\coco\\\\images\\\\val2017\\\\000000222317.jpg'\n",
      "\u001b[34m\u001b[1mval: \u001b[0mWARNING ⚠️ C:\\Users\\cwky\\datasets\\coco\\images\\val2017\\000000222559.jpg: ignoring corrupt image/label: [Errno 2] No such file or directory: 'C:\\\\Users\\\\cwky\\\\datasets\\\\coco\\\\images\\\\val2017\\\\000000222559.jpg'\n",
      "\u001b[34m\u001b[1mval: \u001b[0mWARNING ⚠️ C:\\Users\\cwky\\datasets\\coco\\images\\val2017\\000000222825.jpg: ignoring corrupt image/label: [Errno 2] No such file or directory: 'C:\\\\Users\\\\cwky\\\\datasets\\\\coco\\\\images\\\\val2017\\\\000000222825.jpg'\n",
      "\u001b[34m\u001b[1mval: \u001b[0mWARNING ⚠️ C:\\Users\\cwky\\datasets\\coco\\images\\val2017\\000000222991.jpg: ignoring corrupt image/label: [Errno 2] No such file or directory: 'C:\\\\Users\\\\cwky\\\\datasets\\\\coco\\\\images\\\\val2017\\\\000000222991.jpg'\n",
      "\u001b[34m\u001b[1mval: \u001b[0mWARNING ⚠️ C:\\Users\\cwky\\datasets\\coco\\images\\val2017\\000000223090.jpg: ignoring corrupt image/label: [Errno 2] No such file or directory: 'C:\\\\Users\\\\cwky\\\\datasets\\\\coco\\\\images\\\\val2017\\\\000000223090.jpg'\n",
      "\u001b[34m\u001b[1mval: \u001b[0mWARNING ⚠️ C:\\Users\\cwky\\datasets\\coco\\images\\val2017\\000000223182.jpg: ignoring corrupt image/label: [Errno 2] No such file or directory: 'C:\\\\Users\\\\cwky\\\\datasets\\\\coco\\\\images\\\\val2017\\\\000000223182.jpg'\n",
      "\u001b[34m\u001b[1mval: \u001b[0mWARNING ⚠️ C:\\Users\\cwky\\datasets\\coco\\images\\val2017\\000000223747.jpg: ignoring corrupt image/label: [Errno 2] No such file or directory: 'C:\\\\Users\\\\cwky\\\\datasets\\\\coco\\\\images\\\\val2017\\\\000000223747.jpg'\n",
      "\u001b[34m\u001b[1mval: \u001b[0mWARNING ⚠️ C:\\Users\\cwky\\datasets\\coco\\images\\val2017\\000000223955.jpg: ignoring corrupt image/label: [Errno 2] No such file or directory: 'C:\\\\Users\\\\cwky\\\\datasets\\\\coco\\\\images\\\\val2017\\\\000000223955.jpg'\n",
      "\u001b[34m\u001b[1mval: \u001b[0mWARNING ⚠️ C:\\Users\\cwky\\datasets\\coco\\images\\val2017\\000000223959.jpg: ignoring corrupt image/label: [Errno 2] No such file or directory: 'C:\\\\Users\\\\cwky\\\\datasets\\\\coco\\\\images\\\\val2017\\\\000000223959.jpg'\n",
      "\u001b[34m\u001b[1mval: \u001b[0mWARNING ⚠️ C:\\Users\\cwky\\datasets\\coco\\images\\val2017\\000000224051.jpg: ignoring corrupt image/label: [Errno 2] No such file or directory: 'C:\\\\Users\\\\cwky\\\\datasets\\\\coco\\\\images\\\\val2017\\\\000000224051.jpg'\n",
      "\u001b[34m\u001b[1mval: \u001b[0mWARNING ⚠️ C:\\Users\\cwky\\datasets\\coco\\images\\val2017\\000000224119.jpg: ignoring corrupt image/label: [Errno 2] No such file or directory: 'C:\\\\Users\\\\cwky\\\\datasets\\\\coco\\\\images\\\\val2017\\\\000000224119.jpg'\n",
      "\u001b[34m\u001b[1mval: \u001b[0mWARNING ⚠️ C:\\Users\\cwky\\datasets\\coco\\images\\val2017\\000000224337.jpg: ignoring corrupt image/label: [Errno 2] No such file or directory: 'C:\\\\Users\\\\cwky\\\\datasets\\\\coco\\\\images\\\\val2017\\\\000000224337.jpg'\n",
      "\u001b[34m\u001b[1mval: \u001b[0mWARNING ⚠️ C:\\Users\\cwky\\datasets\\coco\\images\\val2017\\000000224675.jpg: ignoring corrupt image/label: [Errno 2] No such file or directory: 'C:\\\\Users\\\\cwky\\\\datasets\\\\coco\\\\images\\\\val2017\\\\000000224675.jpg'\n",
      "\u001b[34m\u001b[1mval: \u001b[0mWARNING ⚠️ C:\\Users\\cwky\\datasets\\coco\\images\\val2017\\000000224724.jpg: ignoring corrupt image/label: [Errno 2] No such file or directory: 'C:\\\\Users\\\\cwky\\\\datasets\\\\coco\\\\images\\\\val2017\\\\000000224724.jpg'\n",
      "\u001b[34m\u001b[1mval: \u001b[0mWARNING ⚠️ C:\\Users\\cwky\\datasets\\coco\\images\\val2017\\000000225184.jpg: ignoring corrupt image/label: [Errno 2] No such file or directory: 'C:\\\\Users\\\\cwky\\\\datasets\\\\coco\\\\images\\\\val2017\\\\000000225184.jpg'\n",
      "\u001b[34m\u001b[1mval: \u001b[0mWARNING ⚠️ C:\\Users\\cwky\\datasets\\coco\\images\\val2017\\000000225405.jpg: ignoring corrupt image/label: [Errno 2] No such file or directory: 'C:\\\\Users\\\\cwky\\\\datasets\\\\coco\\\\images\\\\val2017\\\\000000225405.jpg'\n",
      "\u001b[34m\u001b[1mval: \u001b[0mWARNING ⚠️ C:\\Users\\cwky\\datasets\\coco\\images\\val2017\\000000226058.jpg: ignoring corrupt image/label: [Errno 2] No such file or directory: 'C:\\\\Users\\\\cwky\\\\datasets\\\\coco\\\\images\\\\val2017\\\\000000226058.jpg'\n",
      "\u001b[34m\u001b[1mval: \u001b[0mWARNING ⚠️ C:\\Users\\cwky\\datasets\\coco\\images\\val2017\\000000226111.jpg: ignoring corrupt image/label: [Errno 2] No such file or directory: 'C:\\\\Users\\\\cwky\\\\datasets\\\\coco\\\\images\\\\val2017\\\\000000226111.jpg'\n",
      "\u001b[34m\u001b[1mval: \u001b[0mWARNING ⚠️ C:\\Users\\cwky\\datasets\\coco\\images\\val2017\\000000226417.jpg: ignoring corrupt image/label: [Errno 2] No such file or directory: 'C:\\\\Users\\\\cwky\\\\datasets\\\\coco\\\\images\\\\val2017\\\\000000226417.jpg'\n",
      "\u001b[34m\u001b[1mval: \u001b[0mWARNING ⚠️ C:\\Users\\cwky\\datasets\\coco\\images\\val2017\\000000226662.jpg: ignoring corrupt image/label: [Errno 2] No such file or directory: 'C:\\\\Users\\\\cwky\\\\datasets\\\\coco\\\\images\\\\val2017\\\\000000226662.jpg'\n",
      "\u001b[34m\u001b[1mval: \u001b[0mWARNING ⚠️ C:\\Users\\cwky\\datasets\\coco\\images\\val2017\\000000226883.jpg: ignoring corrupt image/label: [Errno 2] No such file or directory: 'C:\\\\Users\\\\cwky\\\\datasets\\\\coco\\\\images\\\\val2017\\\\000000226883.jpg'\n",
      "\u001b[34m\u001b[1mval: \u001b[0mWARNING ⚠️ C:\\Users\\cwky\\datasets\\coco\\images\\val2017\\000000227187.jpg: ignoring corrupt image/label: [Errno 2] No such file or directory: 'C:\\\\Users\\\\cwky\\\\datasets\\\\coco\\\\images\\\\val2017\\\\000000227187.jpg'\n",
      "\u001b[34m\u001b[1mval: \u001b[0mWARNING ⚠️ C:\\Users\\cwky\\datasets\\coco\\images\\val2017\\000000227399.jpg: ignoring corrupt image/label: [Errno 2] No such file or directory: 'C:\\\\Users\\\\cwky\\\\datasets\\\\coco\\\\images\\\\val2017\\\\000000227399.jpg'\n",
      "\u001b[34m\u001b[1mval: \u001b[0mWARNING ⚠️ C:\\Users\\cwky\\datasets\\coco\\images\\val2017\\000000227491.jpg: ignoring corrupt image/label: [Errno 2] No such file or directory: 'C:\\\\Users\\\\cwky\\\\datasets\\\\coco\\\\images\\\\val2017\\\\000000227491.jpg'\n",
      "\u001b[34m\u001b[1mval: \u001b[0mWARNING ⚠️ C:\\Users\\cwky\\datasets\\coco\\images\\val2017\\000000227686.jpg: ignoring corrupt image/label: [Errno 2] No such file or directory: 'C:\\\\Users\\\\cwky\\\\datasets\\\\coco\\\\images\\\\val2017\\\\000000227686.jpg'\n",
      "\u001b[34m\u001b[1mval: \u001b[0mWARNING ⚠️ C:\\Users\\cwky\\datasets\\coco\\images\\val2017\\000000227898.jpg: ignoring corrupt image/label: [Errno 2] No such file or directory: 'C:\\\\Users\\\\cwky\\\\datasets\\\\coco\\\\images\\\\val2017\\\\000000227898.jpg'\n",
      "\u001b[34m\u001b[1mval: \u001b[0mWARNING ⚠️ C:\\Users\\cwky\\datasets\\coco\\images\\val2017\\000000228436.jpg: ignoring corrupt image/label: [Errno 2] No such file or directory: 'C:\\\\Users\\\\cwky\\\\datasets\\\\coco\\\\images\\\\val2017\\\\000000228436.jpg'\n",
      "\u001b[34m\u001b[1mval: \u001b[0mWARNING ⚠️ C:\\Users\\cwky\\datasets\\coco\\images\\val2017\\000000228942.jpg: ignoring corrupt image/label: [Errno 2] No such file or directory: 'C:\\\\Users\\\\cwky\\\\datasets\\\\coco\\\\images\\\\val2017\\\\000000228942.jpg'\n",
      "\u001b[34m\u001b[1mval: \u001b[0mWARNING ⚠️ C:\\Users\\cwky\\datasets\\coco\\images\\val2017\\000000228981.jpg: ignoring corrupt image/label: [Errno 2] No such file or directory: 'C:\\\\Users\\\\cwky\\\\datasets\\\\coco\\\\images\\\\val2017\\\\000000228981.jpg'\n",
      "\u001b[34m\u001b[1mval: \u001b[0mWARNING ⚠️ C:\\Users\\cwky\\datasets\\coco\\images\\val2017\\000000229111.jpg: ignoring corrupt image/label: [Errno 2] No such file or directory: 'C:\\\\Users\\\\cwky\\\\datasets\\\\coco\\\\images\\\\val2017\\\\000000229111.jpg'\n",
      "\u001b[34m\u001b[1mval: \u001b[0mWARNING ⚠️ C:\\Users\\cwky\\datasets\\coco\\images\\val2017\\000000229216.jpg: ignoring corrupt image/label: [Errno 2] No such file or directory: 'C:\\\\Users\\\\cwky\\\\datasets\\\\coco\\\\images\\\\val2017\\\\000000229216.jpg'\n",
      "\u001b[34m\u001b[1mval: \u001b[0mWARNING ⚠️ C:\\Users\\cwky\\datasets\\coco\\images\\val2017\\000000229221.jpg: ignoring corrupt image/label: [Errno 2] No such file or directory: 'C:\\\\Users\\\\cwky\\\\datasets\\\\coco\\\\images\\\\val2017\\\\000000229221.jpg'\n",
      "\u001b[34m\u001b[1mval: \u001b[0mWARNING ⚠️ C:\\Users\\cwky\\datasets\\coco\\images\\val2017\\000000229849.jpg: ignoring corrupt image/label: [Errno 2] No such file or directory: 'C:\\\\Users\\\\cwky\\\\datasets\\\\coco\\\\images\\\\val2017\\\\000000229849.jpg'\n",
      "\u001b[34m\u001b[1mval: \u001b[0mWARNING ⚠️ C:\\Users\\cwky\\datasets\\coco\\images\\val2017\\000000229858.jpg: ignoring corrupt image/label: [Errno 2] No such file or directory: 'C:\\\\Users\\\\cwky\\\\datasets\\\\coco\\\\images\\\\val2017\\\\000000229858.jpg'\n",
      "\u001b[34m\u001b[1mval: \u001b[0mWARNING ⚠️ C:\\Users\\cwky\\datasets\\coco\\images\\val2017\\000000230008.jpg: ignoring corrupt image/label: [Errno 2] No such file or directory: 'C:\\\\Users\\\\cwky\\\\datasets\\\\coco\\\\images\\\\val2017\\\\000000230008.jpg'\n",
      "\u001b[34m\u001b[1mval: \u001b[0mWARNING ⚠️ C:\\Users\\cwky\\datasets\\coco\\images\\val2017\\000000230983.jpg: ignoring corrupt image/label: [Errno 2] No such file or directory: 'C:\\\\Users\\\\cwky\\\\datasets\\\\coco\\\\images\\\\val2017\\\\000000230983.jpg'\n",
      "\u001b[34m\u001b[1mval: \u001b[0mWARNING ⚠️ C:\\Users\\cwky\\datasets\\coco\\images\\val2017\\000000230993.jpg: ignoring corrupt image/label: [Errno 2] No such file or directory: 'C:\\\\Users\\\\cwky\\\\datasets\\\\coco\\\\images\\\\val2017\\\\000000230993.jpg'\n",
      "\u001b[34m\u001b[1mval: \u001b[0mWARNING ⚠️ C:\\Users\\cwky\\datasets\\coco\\images\\val2017\\000000231088.jpg: ignoring corrupt image/label: [Errno 2] No such file or directory: 'C:\\\\Users\\\\cwky\\\\datasets\\\\coco\\\\images\\\\val2017\\\\000000231088.jpg'\n",
      "\u001b[34m\u001b[1mval: \u001b[0mWARNING ⚠️ C:\\Users\\cwky\\datasets\\coco\\images\\val2017\\000000231125.jpg: ignoring corrupt image/label: [Errno 2] No such file or directory: 'C:\\\\Users\\\\cwky\\\\datasets\\\\coco\\\\images\\\\val2017\\\\000000231125.jpg'\n",
      "\u001b[34m\u001b[1mval: \u001b[0mWARNING ⚠️ C:\\Users\\cwky\\datasets\\coco\\images\\val2017\\000000231169.jpg: ignoring corrupt image/label: [Errno 2] No such file or directory: 'C:\\\\Users\\\\cwky\\\\datasets\\\\coco\\\\images\\\\val2017\\\\000000231169.jpg'\n",
      "\u001b[34m\u001b[1mval: \u001b[0mWARNING ⚠️ C:\\Users\\cwky\\datasets\\coco\\images\\val2017\\000000231580.jpg: ignoring corrupt image/label: [Errno 2] No such file or directory: 'C:\\\\Users\\\\cwky\\\\datasets\\\\coco\\\\images\\\\val2017\\\\000000231580.jpg'\n",
      "\u001b[34m\u001b[1mval: \u001b[0mWARNING ⚠️ C:\\Users\\cwky\\datasets\\coco\\images\\val2017\\000000232088.jpg: ignoring corrupt image/label: [Errno 2] No such file or directory: 'C:\\\\Users\\\\cwky\\\\datasets\\\\coco\\\\images\\\\val2017\\\\000000232088.jpg'\n",
      "\u001b[34m\u001b[1mval: \u001b[0mWARNING ⚠️ C:\\Users\\cwky\\datasets\\coco\\images\\val2017\\000000232646.jpg: ignoring corrupt image/label: [Errno 2] No such file or directory: 'C:\\\\Users\\\\cwky\\\\datasets\\\\coco\\\\images\\\\val2017\\\\000000232646.jpg'\n",
      "\u001b[34m\u001b[1mval: \u001b[0mWARNING ⚠️ C:\\Users\\cwky\\datasets\\coco\\images\\val2017\\000000233033.jpg: ignoring corrupt image/label: [Errno 2] No such file or directory: 'C:\\\\Users\\\\cwky\\\\datasets\\\\coco\\\\images\\\\val2017\\\\000000233033.jpg'\n",
      "\u001b[34m\u001b[1mval: \u001b[0mWARNING ⚠️ C:\\Users\\cwky\\datasets\\coco\\images\\val2017\\000000233139.jpg: ignoring corrupt image/label: [Errno 2] No such file or directory: 'C:\\\\Users\\\\cwky\\\\datasets\\\\coco\\\\images\\\\val2017\\\\000000233139.jpg'\n",
      "\u001b[34m\u001b[1mval: \u001b[0mWARNING ⚠️ C:\\Users\\cwky\\datasets\\coco\\images\\val2017\\000000233238.jpg: ignoring corrupt image/label: [Errno 2] No such file or directory: 'C:\\\\Users\\\\cwky\\\\datasets\\\\coco\\\\images\\\\val2017\\\\000000233238.jpg'\n",
      "\u001b[34m\u001b[1mval: \u001b[0mWARNING ⚠️ C:\\Users\\cwky\\datasets\\coco\\images\\val2017\\000000233727.jpg: ignoring corrupt image/label: [Errno 2] No such file or directory: 'C:\\\\Users\\\\cwky\\\\datasets\\\\coco\\\\images\\\\val2017\\\\000000233727.jpg'\n",
      "\u001b[34m\u001b[1mval: \u001b[0mWARNING ⚠️ C:\\Users\\cwky\\datasets\\coco\\images\\val2017\\000000233825.jpg: ignoring corrupt image/label: [Errno 2] No such file or directory: 'C:\\\\Users\\\\cwky\\\\datasets\\\\coco\\\\images\\\\val2017\\\\000000233825.jpg'\n",
      "\u001b[34m\u001b[1mval: \u001b[0mWARNING ⚠️ C:\\Users\\cwky\\datasets\\coco\\images\\val2017\\000000234366.jpg: ignoring corrupt image/label: [Errno 2] No such file or directory: 'C:\\\\Users\\\\cwky\\\\datasets\\\\coco\\\\images\\\\val2017\\\\000000234366.jpg'\n",
      "\u001b[34m\u001b[1mval: \u001b[0mWARNING ⚠️ C:\\Users\\cwky\\datasets\\coco\\images\\val2017\\000000234413.jpg: ignoring corrupt image/label: [Errno 2] No such file or directory: 'C:\\\\Users\\\\cwky\\\\datasets\\\\coco\\\\images\\\\val2017\\\\000000234413.jpg'\n",
      "\u001b[34m\u001b[1mval: \u001b[0mWARNING ⚠️ C:\\Users\\cwky\\datasets\\coco\\images\\val2017\\000000234660.jpg: ignoring corrupt image/label: [Errno 2] No such file or directory: 'C:\\\\Users\\\\cwky\\\\datasets\\\\coco\\\\images\\\\val2017\\\\000000234660.jpg'\n",
      "\u001b[34m\u001b[1mval: \u001b[0mWARNING ⚠️ C:\\Users\\cwky\\datasets\\coco\\images\\val2017\\000000234779.jpg: ignoring corrupt image/label: [Errno 2] No such file or directory: 'C:\\\\Users\\\\cwky\\\\datasets\\\\coco\\\\images\\\\val2017\\\\000000234779.jpg'\n",
      "\u001b[34m\u001b[1mval: \u001b[0mWARNING ⚠️ C:\\Users\\cwky\\datasets\\coco\\images\\val2017\\000000234807.jpg: ignoring corrupt image/label: [Errno 2] No such file or directory: 'C:\\\\Users\\\\cwky\\\\datasets\\\\coco\\\\images\\\\val2017\\\\000000234807.jpg'\n",
      "\u001b[34m\u001b[1mval: \u001b[0mWARNING ⚠️ C:\\Users\\cwky\\datasets\\coco\\images\\val2017\\000000235252.jpg: ignoring corrupt image/label: [Errno 2] No such file or directory: 'C:\\\\Users\\\\cwky\\\\datasets\\\\coco\\\\images\\\\val2017\\\\000000235252.jpg'\n",
      "\u001b[34m\u001b[1mval: \u001b[0mWARNING ⚠️ C:\\Users\\cwky\\datasets\\coco\\images\\val2017\\000000235399.jpg: ignoring corrupt image/label: [Errno 2] No such file or directory: 'C:\\\\Users\\\\cwky\\\\datasets\\\\coco\\\\images\\\\val2017\\\\000000235399.jpg'\n",
      "\u001b[34m\u001b[1mval: \u001b[0mWARNING ⚠️ C:\\Users\\cwky\\datasets\\coco\\images\\val2017\\000000235857.jpg: ignoring corrupt image/label: [Errno 2] No such file or directory: 'C:\\\\Users\\\\cwky\\\\datasets\\\\coco\\\\images\\\\val2017\\\\000000235857.jpg'\n",
      "\u001b[34m\u001b[1mval: \u001b[0mWARNING ⚠️ C:\\Users\\cwky\\datasets\\coco\\images\\val2017\\000000236166.jpg: ignoring corrupt image/label: [Errno 2] No such file or directory: 'C:\\\\Users\\\\cwky\\\\datasets\\\\coco\\\\images\\\\val2017\\\\000000236166.jpg'\n",
      "\u001b[34m\u001b[1mval: \u001b[0mWARNING ⚠️ C:\\Users\\cwky\\datasets\\coco\\images\\val2017\\000000236721.jpg: ignoring corrupt image/label: [Errno 2] No such file or directory: 'C:\\\\Users\\\\cwky\\\\datasets\\\\coco\\\\images\\\\val2017\\\\000000236721.jpg'\n",
      "\u001b[34m\u001b[1mval: \u001b[0mWARNING ⚠️ C:\\Users\\cwky\\datasets\\coco\\images\\val2017\\000000236784.jpg: ignoring corrupt image/label: [Errno 2] No such file or directory: 'C:\\\\Users\\\\cwky\\\\datasets\\\\coco\\\\images\\\\val2017\\\\000000236784.jpg'\n",
      "\u001b[34m\u001b[1mval: \u001b[0mWARNING ⚠️ C:\\Users\\cwky\\datasets\\coco\\images\\val2017\\000000237071.jpg: ignoring corrupt image/label: [Errno 2] No such file or directory: 'C:\\\\Users\\\\cwky\\\\datasets\\\\coco\\\\images\\\\val2017\\\\000000237071.jpg'\n",
      "\u001b[34m\u001b[1mval: \u001b[0mWARNING ⚠️ C:\\Users\\cwky\\datasets\\coco\\images\\val2017\\000000237118.jpg: ignoring corrupt image/label: [Errno 2] No such file or directory: 'C:\\\\Users\\\\cwky\\\\datasets\\\\coco\\\\images\\\\val2017\\\\000000237118.jpg'\n",
      "\u001b[34m\u001b[1mval: \u001b[0mWARNING ⚠️ C:\\Users\\cwky\\datasets\\coco\\images\\val2017\\000000237864.jpg: ignoring corrupt image/label: [Errno 2] No such file or directory: 'C:\\\\Users\\\\cwky\\\\datasets\\\\coco\\\\images\\\\val2017\\\\000000237864.jpg'\n",
      "\u001b[34m\u001b[1mval: \u001b[0mWARNING ⚠️ C:\\Users\\cwky\\datasets\\coco\\images\\val2017\\000000239041.jpg: ignoring corrupt image/label: [Errno 2] No such file or directory: 'C:\\\\Users\\\\cwky\\\\datasets\\\\coco\\\\images\\\\val2017\\\\000000239041.jpg'\n",
      "\u001b[34m\u001b[1mval: \u001b[0mWARNING ⚠️ C:\\Users\\cwky\\datasets\\coco\\images\\val2017\\000000239318.jpg: ignoring corrupt image/label: [Errno 2] No such file or directory: 'C:\\\\Users\\\\cwky\\\\datasets\\\\coco\\\\images\\\\val2017\\\\000000239318.jpg'\n",
      "\u001b[34m\u001b[1mval: \u001b[0mWARNING ⚠️ C:\\Users\\cwky\\datasets\\coco\\images\\val2017\\000000239537.jpg: ignoring corrupt image/label: [Errno 2] No such file or directory: 'C:\\\\Users\\\\cwky\\\\datasets\\\\coco\\\\images\\\\val2017\\\\000000239537.jpg'\n",
      "\u001b[34m\u001b[1mval: \u001b[0mWARNING ⚠️ C:\\Users\\cwky\\datasets\\coco\\images\\val2017\\000000239627.jpg: ignoring corrupt image/label: [Errno 2] No such file or directory: 'C:\\\\Users\\\\cwky\\\\datasets\\\\coco\\\\images\\\\val2017\\\\000000239627.jpg'\n",
      "\u001b[34m\u001b[1mval: \u001b[0mWARNING ⚠️ C:\\Users\\cwky\\datasets\\coco\\images\\val2017\\000000239717.jpg: ignoring corrupt image/label: [Errno 2] No such file or directory: 'C:\\\\Users\\\\cwky\\\\datasets\\\\coco\\\\images\\\\val2017\\\\000000239717.jpg'\n",
      "\u001b[34m\u001b[1mval: \u001b[0mWARNING ⚠️ C:\\Users\\cwky\\datasets\\coco\\images\\val2017\\000000239773.jpg: ignoring corrupt image/label: [Errno 2] No such file or directory: 'C:\\\\Users\\\\cwky\\\\datasets\\\\coco\\\\images\\\\val2017\\\\000000239773.jpg'\n",
      "\u001b[34m\u001b[1mval: \u001b[0mWARNING ⚠️ C:\\Users\\cwky\\datasets\\coco\\images\\val2017\\000000239843.jpg: ignoring corrupt image/label: [Errno 2] No such file or directory: 'C:\\\\Users\\\\cwky\\\\datasets\\\\coco\\\\images\\\\val2017\\\\000000239843.jpg'\n",
      "\u001b[34m\u001b[1mval: \u001b[0mWARNING ⚠️ C:\\Users\\cwky\\datasets\\coco\\images\\val2017\\000000240023.jpg: ignoring corrupt image/label: [Errno 2] No such file or directory: 'C:\\\\Users\\\\cwky\\\\datasets\\\\coco\\\\images\\\\val2017\\\\000000240023.jpg'\n",
      "\u001b[34m\u001b[1mval: \u001b[0mWARNING ⚠️ C:\\Users\\cwky\\datasets\\coco\\images\\val2017\\000000240049.jpg: ignoring corrupt image/label: [Errno 2] No such file or directory: 'C:\\\\Users\\\\cwky\\\\datasets\\\\coco\\\\images\\\\val2017\\\\000000240049.jpg'\n",
      "\u001b[34m\u001b[1mval: \u001b[0mWARNING ⚠️ C:\\Users\\cwky\\datasets\\coco\\images\\val2017\\000000240754.jpg: ignoring corrupt image/label: [Errno 2] No such file or directory: 'C:\\\\Users\\\\cwky\\\\datasets\\\\coco\\\\images\\\\val2017\\\\000000240754.jpg'\n",
      "\u001b[34m\u001b[1mval: \u001b[0mWARNING ⚠️ C:\\Users\\cwky\\datasets\\coco\\images\\val2017\\000000240940.jpg: ignoring corrupt image/label: [Errno 2] No such file or directory: 'C:\\\\Users\\\\cwky\\\\datasets\\\\coco\\\\images\\\\val2017\\\\000000240940.jpg'\n",
      "\u001b[34m\u001b[1mval: \u001b[0mWARNING ⚠️ C:\\Users\\cwky\\datasets\\coco\\images\\val2017\\000000241297.jpg: ignoring corrupt image/label: [Errno 2] No such file or directory: 'C:\\\\Users\\\\cwky\\\\datasets\\\\coco\\\\images\\\\val2017\\\\000000241297.jpg'\n",
      "\u001b[34m\u001b[1mval: \u001b[0mWARNING ⚠️ C:\\Users\\cwky\\datasets\\coco\\images\\val2017\\000000241319.jpg: ignoring corrupt image/label: [Errno 2] No such file or directory: 'C:\\\\Users\\\\cwky\\\\datasets\\\\coco\\\\images\\\\val2017\\\\000000241319.jpg'\n",
      "\u001b[34m\u001b[1mval: \u001b[0mWARNING ⚠️ C:\\Users\\cwky\\datasets\\coco\\images\\val2017\\000000241326.jpg: ignoring corrupt image/label: [Errno 2] No such file or directory: 'C:\\\\Users\\\\cwky\\\\datasets\\\\coco\\\\images\\\\val2017\\\\000000241326.jpg'\n",
      "\u001b[34m\u001b[1mval: \u001b[0mWARNING ⚠️ C:\\Users\\cwky\\datasets\\coco\\images\\val2017\\000000241668.jpg: ignoring corrupt image/label: [Errno 2] No such file or directory: 'C:\\\\Users\\\\cwky\\\\datasets\\\\coco\\\\images\\\\val2017\\\\000000241668.jpg'\n",
      "\u001b[34m\u001b[1mval: \u001b[0mWARNING ⚠️ C:\\Users\\cwky\\datasets\\coco\\images\\val2017\\000000241677.jpg: ignoring corrupt image/label: [Errno 2] No such file or directory: 'C:\\\\Users\\\\cwky\\\\datasets\\\\coco\\\\images\\\\val2017\\\\000000241677.jpg'\n",
      "\u001b[34m\u001b[1mval: \u001b[0mWARNING ⚠️ C:\\Users\\cwky\\datasets\\coco\\images\\val2017\\000000242724.jpg: ignoring corrupt image/label: [Errno 2] No such file or directory: 'C:\\\\Users\\\\cwky\\\\datasets\\\\coco\\\\images\\\\val2017\\\\000000242724.jpg'\n",
      "\u001b[34m\u001b[1mval: \u001b[0mWARNING ⚠️ C:\\Users\\cwky\\datasets\\coco\\images\\val2017\\000000243034.jpg: ignoring corrupt image/label: [Errno 2] No such file or directory: 'C:\\\\Users\\\\cwky\\\\datasets\\\\coco\\\\images\\\\val2017\\\\000000243034.jpg'\n",
      "\u001b[34m\u001b[1mval: \u001b[0mWARNING ⚠️ C:\\Users\\cwky\\datasets\\coco\\images\\val2017\\000000243075.jpg: ignoring corrupt image/label: [Errno 2] No such file or directory: 'C:\\\\Users\\\\cwky\\\\datasets\\\\coco\\\\images\\\\val2017\\\\000000243075.jpg'\n",
      "\u001b[34m\u001b[1mval: \u001b[0mWARNING ⚠️ C:\\Users\\cwky\\datasets\\coco\\images\\val2017\\000000244019.jpg: ignoring corrupt image/label: [Errno 2] No such file or directory: 'C:\\\\Users\\\\cwky\\\\datasets\\\\coco\\\\images\\\\val2017\\\\000000244019.jpg'\n",
      "\u001b[34m\u001b[1mval: \u001b[0mWARNING ⚠️ C:\\Users\\cwky\\datasets\\coco\\images\\val2017\\000000244181.jpg: ignoring corrupt image/label: [Errno 2] No such file or directory: 'C:\\\\Users\\\\cwky\\\\datasets\\\\coco\\\\images\\\\val2017\\\\000000244181.jpg'\n",
      "\u001b[34m\u001b[1mval: \u001b[0mWARNING ⚠️ C:\\Users\\cwky\\datasets\\coco\\images\\val2017\\000000244379.jpg: ignoring corrupt image/label: [Errno 2] No such file or directory: 'C:\\\\Users\\\\cwky\\\\datasets\\\\coco\\\\images\\\\val2017\\\\000000244379.jpg'\n",
      "\u001b[34m\u001b[1mval: \u001b[0mWARNING ⚠️ C:\\Users\\cwky\\datasets\\coco\\images\\val2017\\000000244592.jpg: ignoring corrupt image/label: [Errno 2] No such file or directory: 'C:\\\\Users\\\\cwky\\\\datasets\\\\coco\\\\images\\\\val2017\\\\000000244592.jpg'\n",
      "\u001b[34m\u001b[1mval: \u001b[0mWARNING ⚠️ C:\\Users\\cwky\\datasets\\coco\\images\\val2017\\000000244833.jpg: ignoring corrupt image/label: [Errno 2] No such file or directory: 'C:\\\\Users\\\\cwky\\\\datasets\\\\coco\\\\images\\\\val2017\\\\000000244833.jpg'\n",
      "\u001b[34m\u001b[1mval: \u001b[0mWARNING ⚠️ C:\\Users\\cwky\\datasets\\coco\\images\\val2017\\000000245026.jpg: ignoring corrupt image/label: [Errno 2] No such file or directory: 'C:\\\\Users\\\\cwky\\\\datasets\\\\coco\\\\images\\\\val2017\\\\000000245026.jpg'\n",
      "\u001b[34m\u001b[1mval: \u001b[0mWARNING ⚠️ C:\\Users\\cwky\\datasets\\coco\\images\\val2017\\000000245173.jpg: ignoring corrupt image/label: [Errno 2] No such file or directory: 'C:\\\\Users\\\\cwky\\\\datasets\\\\coco\\\\images\\\\val2017\\\\000000245173.jpg'\n",
      "\u001b[34m\u001b[1mval: \u001b[0mWARNING ⚠️ C:\\Users\\cwky\\datasets\\coco\\images\\val2017\\000000245320.jpg: ignoring corrupt image/label: [Errno 2] No such file or directory: 'C:\\\\Users\\\\cwky\\\\datasets\\\\coco\\\\images\\\\val2017\\\\000000245320.jpg'\n",
      "\u001b[34m\u001b[1mval: \u001b[0mWARNING ⚠️ C:\\Users\\cwky\\datasets\\coco\\images\\val2017\\000000245448.jpg: ignoring corrupt image/label: [Errno 2] No such file or directory: 'C:\\\\Users\\\\cwky\\\\datasets\\\\coco\\\\images\\\\val2017\\\\000000245448.jpg'\n",
      "\u001b[34m\u001b[1mval: \u001b[0mWARNING ⚠️ C:\\Users\\cwky\\datasets\\coco\\images\\val2017\\000000246436.jpg: ignoring corrupt image/label: [Errno 2] No such file or directory: 'C:\\\\Users\\\\cwky\\\\datasets\\\\coco\\\\images\\\\val2017\\\\000000246436.jpg'\n",
      "\u001b[34m\u001b[1mval: \u001b[0mWARNING ⚠️ C:\\Users\\cwky\\datasets\\coco\\images\\val2017\\000000246522.jpg: ignoring corrupt image/label: [Errno 2] No such file or directory: 'C:\\\\Users\\\\cwky\\\\datasets\\\\coco\\\\images\\\\val2017\\\\000000246522.jpg'\n",
      "\u001b[34m\u001b[1mval: \u001b[0mWARNING ⚠️ C:\\Users\\cwky\\datasets\\coco\\images\\val2017\\000000247838.jpg: ignoring corrupt image/label: [Errno 2] No such file or directory: 'C:\\\\Users\\\\cwky\\\\datasets\\\\coco\\\\images\\\\val2017\\\\000000247838.jpg'\n",
      "\u001b[34m\u001b[1mval: \u001b[0mWARNING ⚠️ C:\\Users\\cwky\\datasets\\coco\\images\\val2017\\000000248111.jpg: ignoring corrupt image/label: [Errno 2] No such file or directory: 'C:\\\\Users\\\\cwky\\\\datasets\\\\coco\\\\images\\\\val2017\\\\000000248111.jpg'\n",
      "\u001b[34m\u001b[1mval: \u001b[0mWARNING ⚠️ C:\\Users\\cwky\\datasets\\coco\\images\\val2017\\000000248284.jpg: ignoring corrupt image/label: [Errno 2] No such file or directory: 'C:\\\\Users\\\\cwky\\\\datasets\\\\coco\\\\images\\\\val2017\\\\000000248284.jpg'\n",
      "\u001b[34m\u001b[1mval: \u001b[0mWARNING ⚠️ C:\\Users\\cwky\\datasets\\coco\\images\\val2017\\000000248400.jpg: ignoring corrupt image/label: [Errno 2] No such file or directory: 'C:\\\\Users\\\\cwky\\\\datasets\\\\coco\\\\images\\\\val2017\\\\000000248400.jpg'\n",
      "\u001b[34m\u001b[1mval: \u001b[0mWARNING ⚠️ C:\\Users\\cwky\\datasets\\coco\\images\\val2017\\000000248752.jpg: ignoring corrupt image/label: [Errno 2] No such file or directory: 'C:\\\\Users\\\\cwky\\\\datasets\\\\coco\\\\images\\\\val2017\\\\000000248752.jpg'\n",
      "\u001b[34m\u001b[1mval: \u001b[0mWARNING ⚠️ C:\\Users\\cwky\\datasets\\coco\\images\\val2017\\000000249129.jpg: ignoring corrupt image/label: [Errno 2] No such file or directory: 'C:\\\\Users\\\\cwky\\\\datasets\\\\coco\\\\images\\\\val2017\\\\000000249129.jpg'\n",
      "\u001b[34m\u001b[1mval: \u001b[0mWARNING ⚠️ C:\\Users\\cwky\\datasets\\coco\\images\\val2017\\000000249550.jpg: ignoring corrupt image/label: [Errno 2] No such file or directory: 'C:\\\\Users\\\\cwky\\\\datasets\\\\coco\\\\images\\\\val2017\\\\000000249550.jpg'\n",
      "\u001b[34m\u001b[1mval: \u001b[0mWARNING ⚠️ C:\\Users\\cwky\\datasets\\coco\\images\\val2017\\000000249786.jpg: ignoring corrupt image/label: [Errno 2] No such file or directory: 'C:\\\\Users\\\\cwky\\\\datasets\\\\coco\\\\images\\\\val2017\\\\000000249786.jpg'\n",
      "\u001b[34m\u001b[1mval: \u001b[0mWARNING ⚠️ C:\\Users\\cwky\\datasets\\coco\\images\\val2017\\000000250127.jpg: ignoring corrupt image/label: [Errno 2] No such file or directory: 'C:\\\\Users\\\\cwky\\\\datasets\\\\coco\\\\images\\\\val2017\\\\000000250127.jpg'\n",
      "\u001b[34m\u001b[1mval: \u001b[0mWARNING ⚠️ C:\\Users\\cwky\\datasets\\coco\\images\\val2017\\000000250137.jpg: ignoring corrupt image/label: [Errno 2] No such file or directory: 'C:\\\\Users\\\\cwky\\\\datasets\\\\coco\\\\images\\\\val2017\\\\000000250137.jpg'\n",
      "\u001b[34m\u001b[1mval: \u001b[0mWARNING ⚠️ C:\\Users\\cwky\\datasets\\coco\\images\\val2017\\000000250619.jpg: ignoring corrupt image/label: [Errno 2] No such file or directory: 'C:\\\\Users\\\\cwky\\\\datasets\\\\coco\\\\images\\\\val2017\\\\000000250619.jpg'\n",
      "\u001b[34m\u001b[1mval: \u001b[0mWARNING ⚠️ C:\\Users\\cwky\\datasets\\coco\\images\\val2017\\000000251119.jpg: ignoring corrupt image/label: [Errno 2] No such file or directory: 'C:\\\\Users\\\\cwky\\\\datasets\\\\coco\\\\images\\\\val2017\\\\000000251119.jpg'\n",
      "\u001b[34m\u001b[1mval: \u001b[0mWARNING ⚠️ C:\\Users\\cwky\\datasets\\coco\\images\\val2017\\000000252507.jpg: ignoring corrupt image/label: [Errno 2] No such file or directory: 'C:\\\\Users\\\\cwky\\\\datasets\\\\coco\\\\images\\\\val2017\\\\000000252507.jpg'\n",
      "\u001b[34m\u001b[1mval: \u001b[0mWARNING ⚠️ C:\\Users\\cwky\\datasets\\coco\\images\\val2017\\000000253002.jpg: ignoring corrupt image/label: [Errno 2] No such file or directory: 'C:\\\\Users\\\\cwky\\\\datasets\\\\coco\\\\images\\\\val2017\\\\000000253002.jpg'\n",
      "\u001b[34m\u001b[1mval: \u001b[0mWARNING ⚠️ C:\\Users\\cwky\\datasets\\coco\\images\\val2017\\000000253695.jpg: ignoring corrupt image/label: [Errno 2] No such file or directory: 'C:\\\\Users\\\\cwky\\\\datasets\\\\coco\\\\images\\\\val2017\\\\000000253695.jpg'\n",
      "\u001b[34m\u001b[1mval: \u001b[0mWARNING ⚠️ C:\\Users\\cwky\\datasets\\coco\\images\\val2017\\000000253742.jpg: ignoring corrupt image/label: [Errno 2] No such file or directory: 'C:\\\\Users\\\\cwky\\\\datasets\\\\coco\\\\images\\\\val2017\\\\000000253742.jpg'\n",
      "\u001b[34m\u001b[1mval: \u001b[0mWARNING ⚠️ C:\\Users\\cwky\\datasets\\coco\\images\\val2017\\000000253819.jpg: ignoring corrupt image/label: [Errno 2] No such file or directory: 'C:\\\\Users\\\\cwky\\\\datasets\\\\coco\\\\images\\\\val2017\\\\000000253819.jpg'\n",
      "\u001b[34m\u001b[1mval: \u001b[0mWARNING ⚠️ C:\\Users\\cwky\\datasets\\coco\\images\\val2017\\000000254368.jpg: ignoring corrupt image/label: [Errno 2] No such file or directory: 'C:\\\\Users\\\\cwky\\\\datasets\\\\coco\\\\images\\\\val2017\\\\000000254368.jpg'\n",
      "\u001b[34m\u001b[1mval: \u001b[0mWARNING ⚠️ C:\\Users\\cwky\\datasets\\coco\\images\\val2017\\000000254516.jpg: ignoring corrupt image/label: [Errno 2] No such file or directory: 'C:\\\\Users\\\\cwky\\\\datasets\\\\coco\\\\images\\\\val2017\\\\000000254516.jpg'\n",
      "\u001b[34m\u001b[1mval: \u001b[0mWARNING ⚠️ C:\\Users\\cwky\\datasets\\coco\\images\\val2017\\000000255483.jpg: ignoring corrupt image/label: [Errno 2] No such file or directory: 'C:\\\\Users\\\\cwky\\\\datasets\\\\coco\\\\images\\\\val2017\\\\000000255483.jpg'\n",
      "\u001b[34m\u001b[1mval: \u001b[0mWARNING ⚠️ C:\\Users\\cwky\\datasets\\coco\\images\\val2017\\000000255536.jpg: ignoring corrupt image/label: [Errno 2] No such file or directory: 'C:\\\\Users\\\\cwky\\\\datasets\\\\coco\\\\images\\\\val2017\\\\000000255536.jpg'\n",
      "\u001b[34m\u001b[1mval: \u001b[0mWARNING ⚠️ C:\\Users\\cwky\\datasets\\coco\\images\\val2017\\000000255749.jpg: ignoring corrupt image/label: [Errno 2] No such file or directory: 'C:\\\\Users\\\\cwky\\\\datasets\\\\coco\\\\images\\\\val2017\\\\000000255749.jpg'\n",
      "\u001b[34m\u001b[1mval: \u001b[0mWARNING ⚠️ C:\\Users\\cwky\\datasets\\coco\\images\\val2017\\000000256775.jpg: ignoring corrupt image/label: [Errno 2] No such file or directory: 'C:\\\\Users\\\\cwky\\\\datasets\\\\coco\\\\images\\\\val2017\\\\000000256775.jpg'\n",
      "\u001b[34m\u001b[1mval: \u001b[0mWARNING ⚠️ C:\\Users\\cwky\\datasets\\coco\\images\\val2017\\000000256868.jpg: ignoring corrupt image/label: [Errno 2] No such file or directory: 'C:\\\\Users\\\\cwky\\\\datasets\\\\coco\\\\images\\\\val2017\\\\000000256868.jpg'\n",
      "\u001b[34m\u001b[1mval: \u001b[0mWARNING ⚠️ C:\\Users\\cwky\\datasets\\coco\\images\\val2017\\000000257084.jpg: ignoring corrupt image/label: [Errno 2] No such file or directory: 'C:\\\\Users\\\\cwky\\\\datasets\\\\coco\\\\images\\\\val2017\\\\000000257084.jpg'\n",
      "\u001b[34m\u001b[1mval: \u001b[0mWARNING ⚠️ C:\\Users\\cwky\\datasets\\coco\\images\\val2017\\000000257624.jpg: ignoring corrupt image/label: [Errno 2] No such file or directory: 'C:\\\\Users\\\\cwky\\\\datasets\\\\coco\\\\images\\\\val2017\\\\000000257624.jpg'\n",
      "\u001b[34m\u001b[1mval: \u001b[0mWARNING ⚠️ C:\\Users\\cwky\\datasets\\coco\\images\\val2017\\000000257865.jpg: ignoring corrupt image/label: [Errno 2] No such file or directory: 'C:\\\\Users\\\\cwky\\\\datasets\\\\coco\\\\images\\\\val2017\\\\000000257865.jpg'\n",
      "\u001b[34m\u001b[1mval: \u001b[0mWARNING ⚠️ C:\\Users\\cwky\\datasets\\coco\\images\\val2017\\000000257896.jpg: ignoring corrupt image/label: [Errno 2] No such file or directory: 'C:\\\\Users\\\\cwky\\\\datasets\\\\coco\\\\images\\\\val2017\\\\000000257896.jpg'\n",
      "\u001b[34m\u001b[1mval: \u001b[0mWARNING ⚠️ C:\\Users\\cwky\\datasets\\coco\\images\\val2017\\000000259382.jpg: ignoring corrupt image/label: [Errno 2] No such file or directory: 'C:\\\\Users\\\\cwky\\\\datasets\\\\coco\\\\images\\\\val2017\\\\000000259382.jpg'\n",
      "\u001b[34m\u001b[1mval: \u001b[0mWARNING ⚠️ C:\\Users\\cwky\\datasets\\coco\\images\\val2017\\000000259830.jpg: ignoring corrupt image/label: [Errno 2] No such file or directory: 'C:\\\\Users\\\\cwky\\\\datasets\\\\coco\\\\images\\\\val2017\\\\000000259830.jpg'\n",
      "\u001b[34m\u001b[1mval: \u001b[0mWARNING ⚠️ C:\\Users\\cwky\\datasets\\coco\\images\\val2017\\000000260106.jpg: ignoring corrupt image/label: [Errno 2] No such file or directory: 'C:\\\\Users\\\\cwky\\\\datasets\\\\coco\\\\images\\\\val2017\\\\000000260106.jpg'\n",
      "\u001b[34m\u001b[1mval: \u001b[0mWARNING ⚠️ C:\\Users\\cwky\\datasets\\coco\\images\\val2017\\000000260261.jpg: ignoring corrupt image/label: [Errno 2] No such file or directory: 'C:\\\\Users\\\\cwky\\\\datasets\\\\coco\\\\images\\\\val2017\\\\000000260261.jpg'\n",
      "\u001b[34m\u001b[1mval: \u001b[0mWARNING ⚠️ C:\\Users\\cwky\\datasets\\coco\\images\\val2017\\000000260470.jpg: ignoring corrupt image/label: [Errno 2] No such file or directory: 'C:\\\\Users\\\\cwky\\\\datasets\\\\coco\\\\images\\\\val2017\\\\000000260470.jpg'\n",
      "\u001b[34m\u001b[1mval: \u001b[0mWARNING ⚠️ C:\\Users\\cwky\\datasets\\coco\\images\\val2017\\000000260657.jpg: ignoring corrupt image/label: [Errno 2] No such file or directory: 'C:\\\\Users\\\\cwky\\\\datasets\\\\coco\\\\images\\\\val2017\\\\000000260657.jpg'\n",
      "\u001b[34m\u001b[1mval: \u001b[0mWARNING ⚠️ C:\\Users\\cwky\\datasets\\coco\\images\\val2017\\000000261036.jpg: ignoring corrupt image/label: [Errno 2] No such file or directory: 'C:\\\\Users\\\\cwky\\\\datasets\\\\coco\\\\images\\\\val2017\\\\000000261036.jpg'\n",
      "\u001b[34m\u001b[1mval: \u001b[0mWARNING ⚠️ C:\\Users\\cwky\\datasets\\coco\\images\\val2017\\000000261116.jpg: ignoring corrupt image/label: [Errno 2] No such file or directory: 'C:\\\\Users\\\\cwky\\\\datasets\\\\coco\\\\images\\\\val2017\\\\000000261116.jpg'\n",
      "\u001b[34m\u001b[1mval: \u001b[0mWARNING ⚠️ C:\\Users\\cwky\\datasets\\coco\\images\\val2017\\000000261535.jpg: ignoring corrupt image/label: [Errno 2] No such file or directory: 'C:\\\\Users\\\\cwky\\\\datasets\\\\coco\\\\images\\\\val2017\\\\000000261535.jpg'\n",
      "\u001b[34m\u001b[1mval: \u001b[0mWARNING ⚠️ C:\\Users\\cwky\\datasets\\coco\\images\\val2017\\000000261706.jpg: ignoring corrupt image/label: [Errno 2] No such file or directory: 'C:\\\\Users\\\\cwky\\\\datasets\\\\coco\\\\images\\\\val2017\\\\000000261706.jpg'\n",
      "\u001b[34m\u001b[1mval: \u001b[0mWARNING ⚠️ C:\\Users\\cwky\\datasets\\coco\\images\\val2017\\000000261796.jpg: ignoring corrupt image/label: [Errno 2] No such file or directory: 'C:\\\\Users\\\\cwky\\\\datasets\\\\coco\\\\images\\\\val2017\\\\000000261796.jpg'\n",
      "\u001b[34m\u001b[1mval: \u001b[0mWARNING ⚠️ C:\\Users\\cwky\\datasets\\coco\\images\\val2017\\000000262440.jpg: ignoring corrupt image/label: [Errno 2] No such file or directory: 'C:\\\\Users\\\\cwky\\\\datasets\\\\coco\\\\images\\\\val2017\\\\000000262440.jpg'\n",
      "\u001b[34m\u001b[1mval: \u001b[0mWARNING ⚠️ C:\\Users\\cwky\\datasets\\coco\\images\\val2017\\000000262682.jpg: ignoring corrupt image/label: [Errno 2] No such file or directory: 'C:\\\\Users\\\\cwky\\\\datasets\\\\coco\\\\images\\\\val2017\\\\000000262682.jpg'\n",
      "\u001b[34m\u001b[1mval: \u001b[0mWARNING ⚠️ C:\\Users\\cwky\\datasets\\coco\\images\\val2017\\000000262895.jpg: ignoring corrupt image/label: [Errno 2] No such file or directory: 'C:\\\\Users\\\\cwky\\\\datasets\\\\coco\\\\images\\\\val2017\\\\000000262895.jpg'\n",
      "\u001b[34m\u001b[1mval: \u001b[0mWARNING ⚠️ C:\\Users\\cwky\\datasets\\coco\\images\\val2017\\000000263403.jpg: ignoring corrupt image/label: [Errno 2] No such file or directory: 'C:\\\\Users\\\\cwky\\\\datasets\\\\coco\\\\images\\\\val2017\\\\000000263403.jpg'\n",
      "\u001b[34m\u001b[1mval: \u001b[0mWARNING ⚠️ C:\\Users\\cwky\\datasets\\coco\\images\\val2017\\000000263463.jpg: ignoring corrupt image/label: [Errno 2] No such file or directory: 'C:\\\\Users\\\\cwky\\\\datasets\\\\coco\\\\images\\\\val2017\\\\000000263463.jpg'\n",
      "\u001b[34m\u001b[1mval: \u001b[0mWARNING ⚠️ C:\\Users\\cwky\\datasets\\coco\\images\\val2017\\000000263474.jpg: ignoring corrupt image/label: [Errno 2] No such file or directory: 'C:\\\\Users\\\\cwky\\\\datasets\\\\coco\\\\images\\\\val2017\\\\000000263474.jpg'\n",
      "\u001b[34m\u001b[1mval: \u001b[0mWARNING ⚠️ C:\\Users\\cwky\\datasets\\coco\\images\\val2017\\000000263594.jpg: ignoring corrupt image/label: [Errno 2] No such file or directory: 'C:\\\\Users\\\\cwky\\\\datasets\\\\coco\\\\images\\\\val2017\\\\000000263594.jpg'\n",
      "\u001b[34m\u001b[1mval: \u001b[0mWARNING ⚠️ C:\\Users\\cwky\\datasets\\coco\\images\\val2017\\000000263644.jpg: ignoring corrupt image/label: [Errno 2] No such file or directory: 'C:\\\\Users\\\\cwky\\\\datasets\\\\coco\\\\images\\\\val2017\\\\000000263644.jpg'\n",
      "\u001b[34m\u001b[1mval: \u001b[0mWARNING ⚠️ C:\\Users\\cwky\\datasets\\coco\\images\\val2017\\000000263679.jpg: ignoring corrupt image/label: [Errno 2] No such file or directory: 'C:\\\\Users\\\\cwky\\\\datasets\\\\coco\\\\images\\\\val2017\\\\000000263679.jpg'\n",
      "\u001b[34m\u001b[1mval: \u001b[0mWARNING ⚠️ C:\\Users\\cwky\\datasets\\coco\\images\\val2017\\000000263796.jpg: ignoring corrupt image/label: [Errno 2] No such file or directory: 'C:\\\\Users\\\\cwky\\\\datasets\\\\coco\\\\images\\\\val2017\\\\000000263796.jpg'\n",
      "\u001b[34m\u001b[1mval: \u001b[0mWARNING ⚠️ C:\\Users\\cwky\\datasets\\coco\\images\\val2017\\000000263860.jpg: ignoring corrupt image/label: [Errno 2] No such file or directory: 'C:\\\\Users\\\\cwky\\\\datasets\\\\coco\\\\images\\\\val2017\\\\000000263860.jpg'\n",
      "\u001b[34m\u001b[1mval: \u001b[0mWARNING ⚠️ C:\\Users\\cwky\\datasets\\coco\\images\\val2017\\000000263969.jpg: ignoring corrupt image/label: [Errno 2] No such file or directory: 'C:\\\\Users\\\\cwky\\\\datasets\\\\coco\\\\images\\\\val2017\\\\000000263969.jpg'\n",
      "\u001b[34m\u001b[1mval: \u001b[0mWARNING ⚠️ C:\\Users\\cwky\\datasets\\coco\\images\\val2017\\000000264535.jpg: ignoring corrupt image/label: [Errno 2] No such file or directory: 'C:\\\\Users\\\\cwky\\\\datasets\\\\coco\\\\images\\\\val2017\\\\000000264535.jpg'\n",
      "\u001b[34m\u001b[1mval: \u001b[0mWARNING ⚠️ C:\\Users\\cwky\\datasets\\coco\\images\\val2017\\000000264968.jpg: ignoring corrupt image/label: [Errno 2] No such file or directory: 'C:\\\\Users\\\\cwky\\\\datasets\\\\coco\\\\images\\\\val2017\\\\000000264968.jpg'\n",
      "\u001b[34m\u001b[1mval: \u001b[0mWARNING ⚠️ C:\\Users\\cwky\\datasets\\coco\\images\\val2017\\000000265518.jpg: ignoring corrupt image/label: [Errno 2] No such file or directory: 'C:\\\\Users\\\\cwky\\\\datasets\\\\coco\\\\images\\\\val2017\\\\000000265518.jpg'\n",
      "\u001b[34m\u001b[1mval: \u001b[0mWARNING ⚠️ C:\\Users\\cwky\\datasets\\coco\\images\\val2017\\000000265777.jpg: ignoring corrupt image/label: [Errno 2] No such file or directory: 'C:\\\\Users\\\\cwky\\\\datasets\\\\coco\\\\images\\\\val2017\\\\000000265777.jpg'\n",
      "\u001b[34m\u001b[1mval: \u001b[0mWARNING ⚠️ C:\\Users\\cwky\\datasets\\coco\\images\\val2017\\000000266400.jpg: ignoring corrupt image/label: [Errno 2] No such file or directory: 'C:\\\\Users\\\\cwky\\\\datasets\\\\coco\\\\images\\\\val2017\\\\000000266400.jpg'\n",
      "\u001b[34m\u001b[1mval: \u001b[0mWARNING ⚠️ C:\\Users\\cwky\\datasets\\coco\\images\\val2017\\000000266981.jpg: ignoring corrupt image/label: [Errno 2] No such file or directory: 'C:\\\\Users\\\\cwky\\\\datasets\\\\coco\\\\images\\\\val2017\\\\000000266981.jpg'\n",
      "\u001b[34m\u001b[1mval: \u001b[0mWARNING ⚠️ C:\\Users\\cwky\\datasets\\coco\\images\\val2017\\000000267169.jpg: ignoring corrupt image/label: [Errno 2] No such file or directory: 'C:\\\\Users\\\\cwky\\\\datasets\\\\coco\\\\images\\\\val2017\\\\000000267169.jpg'\n",
      "\u001b[34m\u001b[1mval: \u001b[0mWARNING ⚠️ C:\\Users\\cwky\\datasets\\coco\\images\\val2017\\000000267670.jpg: ignoring corrupt image/label: [Errno 2] No such file or directory: 'C:\\\\Users\\\\cwky\\\\datasets\\\\coco\\\\images\\\\val2017\\\\000000267670.jpg'\n",
      "\u001b[34m\u001b[1mval: \u001b[0mWARNING ⚠️ C:\\Users\\cwky\\datasets\\coco\\images\\val2017\\000000267903.jpg: ignoring corrupt image/label: [Errno 2] No such file or directory: 'C:\\\\Users\\\\cwky\\\\datasets\\\\coco\\\\images\\\\val2017\\\\000000267903.jpg'\n",
      "\u001b[34m\u001b[1mval: \u001b[0mWARNING ⚠️ C:\\Users\\cwky\\datasets\\coco\\images\\val2017\\000000267933.jpg: ignoring corrupt image/label: [Errno 2] No such file or directory: 'C:\\\\Users\\\\cwky\\\\datasets\\\\coco\\\\images\\\\val2017\\\\000000267933.jpg'\n",
      "\u001b[34m\u001b[1mval: \u001b[0mWARNING ⚠️ C:\\Users\\cwky\\datasets\\coco\\images\\val2017\\000000267940.jpg: ignoring corrupt image/label: [Errno 2] No such file or directory: 'C:\\\\Users\\\\cwky\\\\datasets\\\\coco\\\\images\\\\val2017\\\\000000267940.jpg'\n",
      "\u001b[34m\u001b[1mval: \u001b[0mWARNING ⚠️ C:\\Users\\cwky\\datasets\\coco\\images\\val2017\\000000268375.jpg: ignoring corrupt image/label: [Errno 2] No such file or directory: 'C:\\\\Users\\\\cwky\\\\datasets\\\\coco\\\\images\\\\val2017\\\\000000268375.jpg'\n",
      "\u001b[34m\u001b[1mval: \u001b[0mWARNING ⚠️ C:\\Users\\cwky\\datasets\\coco\\images\\val2017\\000000268729.jpg: ignoring corrupt image/label: [Errno 2] No such file or directory: 'C:\\\\Users\\\\cwky\\\\datasets\\\\coco\\\\images\\\\val2017\\\\000000268729.jpg'\n",
      "\u001b[34m\u001b[1mval: \u001b[0mWARNING ⚠️ C:\\Users\\cwky\\datasets\\coco\\images\\val2017\\000000269113.jpg: ignoring corrupt image/label: [Errno 2] No such file or directory: 'C:\\\\Users\\\\cwky\\\\datasets\\\\coco\\\\images\\\\val2017\\\\000000269113.jpg'\n",
      "\u001b[34m\u001b[1mval: \u001b[0mWARNING ⚠️ C:\\Users\\cwky\\datasets\\coco\\images\\val2017\\000000269196.jpg: ignoring corrupt image/label: [Errno 2] No such file or directory: 'C:\\\\Users\\\\cwky\\\\datasets\\\\coco\\\\images\\\\val2017\\\\000000269196.jpg'\n",
      "\u001b[34m\u001b[1mval: \u001b[0mWARNING ⚠️ C:\\Users\\cwky\\datasets\\coco\\images\\val2017\\000000269682.jpg: ignoring corrupt image/label: [Errno 2] No such file or directory: 'C:\\\\Users\\\\cwky\\\\datasets\\\\coco\\\\images\\\\val2017\\\\000000269682.jpg'\n",
      "\u001b[34m\u001b[1mval: \u001b[0mWARNING ⚠️ C:\\Users\\cwky\\datasets\\coco\\images\\val2017\\000000269866.jpg: ignoring corrupt image/label: [Errno 2] No such file or directory: 'C:\\\\Users\\\\cwky\\\\datasets\\\\coco\\\\images\\\\val2017\\\\000000269866.jpg'\n",
      "\u001b[34m\u001b[1mval: \u001b[0mWARNING ⚠️ C:\\Users\\cwky\\datasets\\coco\\images\\val2017\\000000270066.jpg: ignoring corrupt image/label: [Errno 2] No such file or directory: 'C:\\\\Users\\\\cwky\\\\datasets\\\\coco\\\\images\\\\val2017\\\\000000270066.jpg'\n",
      "\u001b[34m\u001b[1mval: \u001b[0mWARNING ⚠️ C:\\Users\\cwky\\datasets\\coco\\images\\val2017\\000000270122.jpg: ignoring corrupt image/label: [Errno 2] No such file or directory: 'C:\\\\Users\\\\cwky\\\\datasets\\\\coco\\\\images\\\\val2017\\\\000000270122.jpg'\n",
      "\u001b[34m\u001b[1mval: \u001b[0mWARNING ⚠️ C:\\Users\\cwky\\datasets\\coco\\images\\val2017\\000000270297.jpg: ignoring corrupt image/label: [Errno 2] No such file or directory: 'C:\\\\Users\\\\cwky\\\\datasets\\\\coco\\\\images\\\\val2017\\\\000000270297.jpg'\n",
      "\u001b[34m\u001b[1mval: \u001b[0mWARNING ⚠️ C:\\Users\\cwky\\datasets\\coco\\images\\val2017\\000000270386.jpg: ignoring corrupt image/label: [Errno 2] No such file or directory: 'C:\\\\Users\\\\cwky\\\\datasets\\\\coco\\\\images\\\\val2017\\\\000000270386.jpg'\n",
      "\u001b[34m\u001b[1mval: \u001b[0mWARNING ⚠️ C:\\Users\\cwky\\datasets\\coco\\images\\val2017\\000000270908.jpg: ignoring corrupt image/label: [Errno 2] No such file or directory: 'C:\\\\Users\\\\cwky\\\\datasets\\\\coco\\\\images\\\\val2017\\\\000000270908.jpg'\n",
      "\u001b[34m\u001b[1mval: \u001b[0mWARNING ⚠️ C:\\Users\\cwky\\datasets\\coco\\images\\val2017\\000000271116.jpg: ignoring corrupt image/label: [Errno 2] No such file or directory: 'C:\\\\Users\\\\cwky\\\\datasets\\\\coco\\\\images\\\\val2017\\\\000000271116.jpg'\n",
      "\u001b[34m\u001b[1mval: \u001b[0mWARNING ⚠️ C:\\Users\\cwky\\datasets\\coco\\images\\val2017\\000000271457.jpg: ignoring corrupt image/label: [Errno 2] No such file or directory: 'C:\\\\Users\\\\cwky\\\\datasets\\\\coco\\\\images\\\\val2017\\\\000000271457.jpg'\n",
      "\u001b[34m\u001b[1mval: \u001b[0mWARNING ⚠️ C:\\Users\\cwky\\datasets\\coco\\images\\val2017\\000000271997.jpg: ignoring corrupt image/label: [Errno 2] No such file or directory: 'C:\\\\Users\\\\cwky\\\\datasets\\\\coco\\\\images\\\\val2017\\\\000000271997.jpg'\n",
      "\u001b[34m\u001b[1mval: \u001b[0mWARNING ⚠️ C:\\Users\\cwky\\datasets\\coco\\images\\val2017\\000000272212.jpg: ignoring corrupt image/label: [Errno 2] No such file or directory: 'C:\\\\Users\\\\cwky\\\\datasets\\\\coco\\\\images\\\\val2017\\\\000000272212.jpg'\n",
      "\u001b[34m\u001b[1mval: \u001b[0mWARNING ⚠️ C:\\Users\\cwky\\datasets\\coco\\images\\val2017\\000000272566.jpg: ignoring corrupt image/label: [Errno 2] No such file or directory: 'C:\\\\Users\\\\cwky\\\\datasets\\\\coco\\\\images\\\\val2017\\\\000000272566.jpg'\n",
      "\u001b[34m\u001b[1mval: \u001b[0mWARNING ⚠️ C:\\Users\\cwky\\datasets\\coco\\images\\val2017\\000000273132.jpg: ignoring corrupt image/label: [Errno 2] No such file or directory: 'C:\\\\Users\\\\cwky\\\\datasets\\\\coco\\\\images\\\\val2017\\\\000000273132.jpg'\n",
      "\u001b[34m\u001b[1mval: \u001b[0mWARNING ⚠️ C:\\Users\\cwky\\datasets\\coco\\images\\val2017\\000000273551.jpg: ignoring corrupt image/label: [Errno 2] No such file or directory: 'C:\\\\Users\\\\cwky\\\\datasets\\\\coco\\\\images\\\\val2017\\\\000000273551.jpg'\n",
      "\u001b[34m\u001b[1mval: \u001b[0mWARNING ⚠️ C:\\Users\\cwky\\datasets\\coco\\images\\val2017\\000000273617.jpg: ignoring corrupt image/label: [Errno 2] No such file or directory: 'C:\\\\Users\\\\cwky\\\\datasets\\\\coco\\\\images\\\\val2017\\\\000000273617.jpg'\n",
      "\u001b[34m\u001b[1mval: \u001b[0mWARNING ⚠️ C:\\Users\\cwky\\datasets\\coco\\images\\val2017\\000000273715.jpg: ignoring corrupt image/label: [Errno 2] No such file or directory: 'C:\\\\Users\\\\cwky\\\\datasets\\\\coco\\\\images\\\\val2017\\\\000000273715.jpg'\n",
      "\u001b[34m\u001b[1mval: \u001b[0mWARNING ⚠️ C:\\Users\\cwky\\datasets\\coco\\images\\val2017\\000000273760.jpg: ignoring corrupt image/label: [Errno 2] No such file or directory: 'C:\\\\Users\\\\cwky\\\\datasets\\\\coco\\\\images\\\\val2017\\\\000000273760.jpg'\n",
      "\u001b[34m\u001b[1mval: \u001b[0mWARNING ⚠️ C:\\Users\\cwky\\datasets\\coco\\images\\val2017\\000000274219.jpg: ignoring corrupt image/label: [Errno 2] No such file or directory: 'C:\\\\Users\\\\cwky\\\\datasets\\\\coco\\\\images\\\\val2017\\\\000000274219.jpg'\n",
      "\u001b[34m\u001b[1mval: \u001b[0mWARNING ⚠️ C:\\Users\\cwky\\datasets\\coco\\images\\val2017\\000000274411.jpg: ignoring corrupt image/label: [Errno 2] No such file or directory: 'C:\\\\Users\\\\cwky\\\\datasets\\\\coco\\\\images\\\\val2017\\\\000000274411.jpg'\n",
      "\u001b[34m\u001b[1mval: \u001b[0mWARNING ⚠️ C:\\Users\\cwky\\datasets\\coco\\images\\val2017\\000000275727.jpg: ignoring corrupt image/label: [Errno 2] No such file or directory: 'C:\\\\Users\\\\cwky\\\\datasets\\\\coco\\\\images\\\\val2017\\\\000000275727.jpg'\n",
      "\u001b[34m\u001b[1mval: \u001b[0mWARNING ⚠️ C:\\Users\\cwky\\datasets\\coco\\images\\val2017\\000000275749.jpg: ignoring corrupt image/label: [Errno 2] No such file or directory: 'C:\\\\Users\\\\cwky\\\\datasets\\\\coco\\\\images\\\\val2017\\\\000000275749.jpg'\n",
      "\u001b[34m\u001b[1mval: \u001b[0mWARNING ⚠️ C:\\Users\\cwky\\datasets\\coco\\images\\val2017\\000000276024.jpg: ignoring corrupt image/label: [Errno 2] No such file or directory: 'C:\\\\Users\\\\cwky\\\\datasets\\\\coco\\\\images\\\\val2017\\\\000000276024.jpg'\n",
      "\u001b[34m\u001b[1mval: \u001b[0mWARNING ⚠️ C:\\Users\\cwky\\datasets\\coco\\images\\val2017\\000000276055.jpg: ignoring corrupt image/label: [Errno 2] No such file or directory: 'C:\\\\Users\\\\cwky\\\\datasets\\\\coco\\\\images\\\\val2017\\\\000000276055.jpg'\n",
      "\u001b[34m\u001b[1mval: \u001b[0mWARNING ⚠️ C:\\Users\\cwky\\datasets\\coco\\images\\val2017\\000000276434.jpg: ignoring corrupt image/label: [Errno 2] No such file or directory: 'C:\\\\Users\\\\cwky\\\\datasets\\\\coco\\\\images\\\\val2017\\\\000000276434.jpg'\n",
      "\u001b[34m\u001b[1mval: \u001b[0mWARNING ⚠️ C:\\Users\\cwky\\datasets\\coco\\images\\val2017\\000000276707.jpg: ignoring corrupt image/label: [Errno 2] No such file or directory: 'C:\\\\Users\\\\cwky\\\\datasets\\\\coco\\\\images\\\\val2017\\\\000000276707.jpg'\n",
      "\u001b[34m\u001b[1mval: \u001b[0mWARNING ⚠️ C:\\Users\\cwky\\datasets\\coco\\images\\val2017\\000000276921.jpg: ignoring corrupt image/label: [Errno 2] No such file or directory: 'C:\\\\Users\\\\cwky\\\\datasets\\\\coco\\\\images\\\\val2017\\\\000000276921.jpg'\n",
      "\u001b[34m\u001b[1mval: \u001b[0mWARNING ⚠️ C:\\Users\\cwky\\datasets\\coco\\images\\val2017\\000000277689.jpg: ignoring corrupt image/label: [Errno 2] No such file or directory: 'C:\\\\Users\\\\cwky\\\\datasets\\\\coco\\\\images\\\\val2017\\\\000000277689.jpg'\n",
      "\u001b[34m\u001b[1mval: \u001b[0mWARNING ⚠️ C:\\Users\\cwky\\datasets\\coco\\images\\val2017\\000000278006.jpg: ignoring corrupt image/label: [Errno 2] No such file or directory: 'C:\\\\Users\\\\cwky\\\\datasets\\\\coco\\\\images\\\\val2017\\\\000000278006.jpg'\n",
      "\u001b[34m\u001b[1mval: \u001b[0mWARNING ⚠️ C:\\Users\\cwky\\datasets\\coco\\images\\val2017\\000000278705.jpg: ignoring corrupt image/label: [Errno 2] No such file or directory: 'C:\\\\Users\\\\cwky\\\\datasets\\\\coco\\\\images\\\\val2017\\\\000000278705.jpg'\n",
      "\u001b[34m\u001b[1mval: \u001b[0mWARNING ⚠️ C:\\Users\\cwky\\datasets\\coco\\images\\val2017\\000000279541.jpg: ignoring corrupt image/label: [Errno 2] No such file or directory: 'C:\\\\Users\\\\cwky\\\\datasets\\\\coco\\\\images\\\\val2017\\\\000000279541.jpg'\n",
      "\u001b[34m\u001b[1mval: \u001b[0mWARNING ⚠️ C:\\Users\\cwky\\datasets\\coco\\images\\val2017\\000000279730.jpg: ignoring corrupt image/label: [Errno 2] No such file or directory: 'C:\\\\Users\\\\cwky\\\\datasets\\\\coco\\\\images\\\\val2017\\\\000000279730.jpg'\n",
      "\u001b[34m\u001b[1mval: \u001b[0mWARNING ⚠️ C:\\Users\\cwky\\datasets\\coco\\images\\val2017\\000000279769.jpg: ignoring corrupt image/label: [Errno 2] No such file or directory: 'C:\\\\Users\\\\cwky\\\\datasets\\\\coco\\\\images\\\\val2017\\\\000000279769.jpg'\n",
      "\u001b[34m\u001b[1mval: \u001b[0mWARNING ⚠️ C:\\Users\\cwky\\datasets\\coco\\images\\val2017\\000000279927.jpg: ignoring corrupt image/label: [Errno 2] No such file or directory: 'C:\\\\Users\\\\cwky\\\\datasets\\\\coco\\\\images\\\\val2017\\\\000000279927.jpg'\n",
      "\u001b[34m\u001b[1mval: \u001b[0mWARNING ⚠️ C:\\Users\\cwky\\datasets\\coco\\images\\val2017\\000000280779.jpg: ignoring corrupt image/label: [Errno 2] No such file or directory: 'C:\\\\Users\\\\cwky\\\\datasets\\\\coco\\\\images\\\\val2017\\\\000000280779.jpg'\n",
      "\u001b[34m\u001b[1mval: \u001b[0mWARNING ⚠️ C:\\Users\\cwky\\datasets\\coco\\images\\val2017\\000000281693.jpg: ignoring corrupt image/label: [Errno 2] No such file or directory: 'C:\\\\Users\\\\cwky\\\\datasets\\\\coco\\\\images\\\\val2017\\\\000000281693.jpg'\n",
      "\u001b[34m\u001b[1mval: \u001b[0mWARNING ⚠️ C:\\Users\\cwky\\datasets\\coco\\images\\val2017\\000000281759.jpg: ignoring corrupt image/label: [Errno 2] No such file or directory: 'C:\\\\Users\\\\cwky\\\\datasets\\\\coco\\\\images\\\\val2017\\\\000000281759.jpg'\n",
      "\u001b[34m\u001b[1mval: \u001b[0mWARNING ⚠️ C:\\Users\\cwky\\datasets\\coco\\images\\val2017\\000000283038.jpg: ignoring corrupt image/label: [Errno 2] No such file or directory: 'C:\\\\Users\\\\cwky\\\\datasets\\\\coco\\\\images\\\\val2017\\\\000000283038.jpg'\n",
      "\u001b[34m\u001b[1mval: \u001b[0mWARNING ⚠️ C:\\Users\\cwky\\datasets\\coco\\images\\val2017\\000000283070.jpg: ignoring corrupt image/label: [Errno 2] No such file or directory: 'C:\\\\Users\\\\cwky\\\\datasets\\\\coco\\\\images\\\\val2017\\\\000000283070.jpg'\n",
      "\u001b[34m\u001b[1mval: \u001b[0mWARNING ⚠️ C:\\Users\\cwky\\datasets\\coco\\images\\val2017\\000000283268.jpg: ignoring corrupt image/label: [Errno 2] No such file or directory: 'C:\\\\Users\\\\cwky\\\\datasets\\\\coco\\\\images\\\\val2017\\\\000000283268.jpg'\n",
      "\u001b[34m\u001b[1mval: \u001b[0mWARNING ⚠️ C:\\Users\\cwky\\datasets\\coco\\images\\val2017\\000000283318.jpg: ignoring corrupt image/label: [Errno 2] No such file or directory: 'C:\\\\Users\\\\cwky\\\\datasets\\\\coco\\\\images\\\\val2017\\\\000000283318.jpg'\n",
      "\u001b[34m\u001b[1mval: \u001b[0mWARNING ⚠️ C:\\Users\\cwky\\datasets\\coco\\images\\val2017\\000000283412.jpg: ignoring corrupt image/label: [Errno 2] No such file or directory: 'C:\\\\Users\\\\cwky\\\\datasets\\\\coco\\\\images\\\\val2017\\\\000000283412.jpg'\n",
      "\u001b[34m\u001b[1mval: \u001b[0mWARNING ⚠️ C:\\Users\\cwky\\datasets\\coco\\images\\val2017\\000000283717.jpg: ignoring corrupt image/label: [Errno 2] No such file or directory: 'C:\\\\Users\\\\cwky\\\\datasets\\\\coco\\\\images\\\\val2017\\\\000000283717.jpg'\n",
      "\u001b[34m\u001b[1mval: \u001b[0mWARNING ⚠️ C:\\Users\\cwky\\datasets\\coco\\images\\val2017\\000000284279.jpg: ignoring corrupt image/label: [Errno 2] No such file or directory: 'C:\\\\Users\\\\cwky\\\\datasets\\\\coco\\\\images\\\\val2017\\\\000000284279.jpg'\n",
      "\u001b[34m\u001b[1mval: \u001b[0mWARNING ⚠️ C:\\Users\\cwky\\datasets\\coco\\images\\val2017\\000000284282.jpg: ignoring corrupt image/label: [Errno 2] No such file or directory: 'C:\\\\Users\\\\cwky\\\\datasets\\\\coco\\\\images\\\\val2017\\\\000000284282.jpg'\n",
      "\u001b[34m\u001b[1mval: \u001b[0mWARNING ⚠️ C:\\Users\\cwky\\datasets\\coco\\images\\val2017\\000000284725.jpg: ignoring corrupt image/label: [Errno 2] No such file or directory: 'C:\\\\Users\\\\cwky\\\\datasets\\\\coco\\\\images\\\\val2017\\\\000000284725.jpg'\n",
      "\u001b[34m\u001b[1mval: \u001b[0mWARNING ⚠️ C:\\Users\\cwky\\datasets\\coco\\images\\val2017\\000000284762.jpg: ignoring corrupt image/label: [Errno 2] No such file or directory: 'C:\\\\Users\\\\cwky\\\\datasets\\\\coco\\\\images\\\\val2017\\\\000000284762.jpg'\n",
      "\u001b[34m\u001b[1mval: \u001b[0mWARNING ⚠️ C:\\Users\\cwky\\datasets\\coco\\images\\val2017\\000000284764.jpg: ignoring corrupt image/label: [Errno 2] No such file or directory: 'C:\\\\Users\\\\cwky\\\\datasets\\\\coco\\\\images\\\\val2017\\\\000000284764.jpg'\n",
      "\u001b[34m\u001b[1mval: \u001b[0mWARNING ⚠️ C:\\Users\\cwky\\datasets\\coco\\images\\val2017\\000000284991.jpg: ignoring corrupt image/label: [Errno 2] No such file or directory: 'C:\\\\Users\\\\cwky\\\\datasets\\\\coco\\\\images\\\\val2017\\\\000000284991.jpg'\n",
      "\u001b[34m\u001b[1mval: \u001b[0mWARNING ⚠️ C:\\Users\\cwky\\datasets\\coco\\images\\val2017\\000000285788.jpg: ignoring corrupt image/label: [Errno 2] No such file or directory: 'C:\\\\Users\\\\cwky\\\\datasets\\\\coco\\\\images\\\\val2017\\\\000000285788.jpg'\n",
      "\u001b[34m\u001b[1mval: \u001b[0mWARNING ⚠️ C:\\Users\\cwky\\datasets\\coco\\images\\val2017\\000000286458.jpg: ignoring corrupt image/label: [Errno 2] No such file or directory: 'C:\\\\Users\\\\cwky\\\\datasets\\\\coco\\\\images\\\\val2017\\\\000000286458.jpg'\n",
      "\u001b[34m\u001b[1mval: \u001b[0mWARNING ⚠️ C:\\Users\\cwky\\datasets\\coco\\images\\val2017\\000000286507.jpg: ignoring corrupt image/label: [Errno 2] No such file or directory: 'C:\\\\Users\\\\cwky\\\\datasets\\\\coco\\\\images\\\\val2017\\\\000000286507.jpg'\n",
      "\u001b[34m\u001b[1mval: \u001b[0mWARNING ⚠️ C:\\Users\\cwky\\datasets\\coco\\images\\val2017\\000000286523.jpg: ignoring corrupt image/label: [Errno 2] No such file or directory: 'C:\\\\Users\\\\cwky\\\\datasets\\\\coco\\\\images\\\\val2017\\\\000000286523.jpg'\n",
      "\u001b[34m\u001b[1mval: \u001b[0mWARNING ⚠️ C:\\Users\\cwky\\datasets\\coco\\images\\val2017\\000000286907.jpg: ignoring corrupt image/label: [Errno 2] No such file or directory: 'C:\\\\Users\\\\cwky\\\\datasets\\\\coco\\\\images\\\\val2017\\\\000000286907.jpg'\n",
      "\u001b[34m\u001b[1mval: \u001b[0mWARNING ⚠️ C:\\Users\\cwky\\datasets\\coco\\images\\val2017\\000000287291.jpg: ignoring corrupt image/label: [Errno 2] No such file or directory: 'C:\\\\Users\\\\cwky\\\\datasets\\\\coco\\\\images\\\\val2017\\\\000000287291.jpg'\n",
      "\u001b[34m\u001b[1mval: \u001b[0mWARNING ⚠️ C:\\Users\\cwky\\datasets\\coco\\images\\val2017\\000000287649.jpg: ignoring corrupt image/label: [Errno 2] No such file or directory: 'C:\\\\Users\\\\cwky\\\\datasets\\\\coco\\\\images\\\\val2017\\\\000000287649.jpg'\n",
      "\u001b[34m\u001b[1mval: \u001b[0mWARNING ⚠️ C:\\Users\\cwky\\datasets\\coco\\images\\val2017\\000000287667.jpg: ignoring corrupt image/label: [Errno 2] No such file or directory: 'C:\\\\Users\\\\cwky\\\\datasets\\\\coco\\\\images\\\\val2017\\\\000000287667.jpg'\n",
      "\u001b[34m\u001b[1mval: \u001b[0mWARNING ⚠️ C:\\Users\\cwky\\datasets\\coco\\images\\val2017\\000000287714.jpg: ignoring corrupt image/label: [Errno 2] No such file or directory: 'C:\\\\Users\\\\cwky\\\\datasets\\\\coco\\\\images\\\\val2017\\\\000000287714.jpg'\n",
      "\u001b[34m\u001b[1mval: \u001b[0mWARNING ⚠️ C:\\Users\\cwky\\datasets\\coco\\images\\val2017\\000000287874.jpg: ignoring corrupt image/label: [Errno 2] No such file or directory: 'C:\\\\Users\\\\cwky\\\\datasets\\\\coco\\\\images\\\\val2017\\\\000000287874.jpg'\n",
      "\u001b[34m\u001b[1mval: \u001b[0mWARNING ⚠️ C:\\Users\\cwky\\datasets\\coco\\images\\val2017\\000000288042.jpg: ignoring corrupt image/label: [Errno 2] No such file or directory: 'C:\\\\Users\\\\cwky\\\\datasets\\\\coco\\\\images\\\\val2017\\\\000000288042.jpg'\n",
      "\u001b[34m\u001b[1mval: \u001b[0mWARNING ⚠️ C:\\Users\\cwky\\datasets\\coco\\images\\val2017\\000000288062.jpg: ignoring corrupt image/label: [Errno 2] No such file or directory: 'C:\\\\Users\\\\cwky\\\\datasets\\\\coco\\\\images\\\\val2017\\\\000000288062.jpg'\n",
      "\u001b[34m\u001b[1mval: \u001b[0mWARNING ⚠️ C:\\Users\\cwky\\datasets\\coco\\images\\val2017\\000000288430.jpg: ignoring corrupt image/label: [Errno 2] No such file or directory: 'C:\\\\Users\\\\cwky\\\\datasets\\\\coco\\\\images\\\\val2017\\\\000000288430.jpg'\n",
      "\u001b[34m\u001b[1mval: \u001b[0mWARNING ⚠️ C:\\Users\\cwky\\datasets\\coco\\images\\val2017\\000000289059.jpg: ignoring corrupt image/label: [Errno 2] No such file or directory: 'C:\\\\Users\\\\cwky\\\\datasets\\\\coco\\\\images\\\\val2017\\\\000000289059.jpg'\n",
      "\u001b[34m\u001b[1mval: \u001b[0mWARNING ⚠️ C:\\Users\\cwky\\datasets\\coco\\images\\val2017\\000000289229.jpg: ignoring corrupt image/label: [Errno 2] No such file or directory: 'C:\\\\Users\\\\cwky\\\\datasets\\\\coco\\\\images\\\\val2017\\\\000000289229.jpg'\n",
      "\u001b[34m\u001b[1mval: \u001b[0mWARNING ⚠️ C:\\Users\\cwky\\datasets\\coco\\images\\val2017\\000000289343.jpg: ignoring corrupt image/label: [Errno 2] No such file or directory: 'C:\\\\Users\\\\cwky\\\\datasets\\\\coco\\\\images\\\\val2017\\\\000000289343.jpg'\n",
      "\u001b[34m\u001b[1mval: \u001b[0mWARNING ⚠️ C:\\Users\\cwky\\datasets\\coco\\images\\val2017\\000000289393.jpg: ignoring corrupt image/label: [Errno 2] No such file or directory: 'C:\\\\Users\\\\cwky\\\\datasets\\\\coco\\\\images\\\\val2017\\\\000000289393.jpg'\n",
      "\u001b[34m\u001b[1mval: \u001b[0mWARNING ⚠️ C:\\Users\\cwky\\datasets\\coco\\images\\val2017\\000000289417.jpg: ignoring corrupt image/label: [Errno 2] No such file or directory: 'C:\\\\Users\\\\cwky\\\\datasets\\\\coco\\\\images\\\\val2017\\\\000000289417.jpg'\n",
      "\u001b[34m\u001b[1mval: \u001b[0mWARNING ⚠️ C:\\Users\\cwky\\datasets\\coco\\images\\val2017\\000000289586.jpg: ignoring corrupt image/label: [Errno 2] No such file or directory: 'C:\\\\Users\\\\cwky\\\\datasets\\\\coco\\\\images\\\\val2017\\\\000000289586.jpg'\n",
      "\u001b[34m\u001b[1mval: \u001b[0mWARNING ⚠️ C:\\Users\\cwky\\datasets\\coco\\images\\val2017\\000000289594.jpg: ignoring corrupt image/label: [Errno 2] No such file or directory: 'C:\\\\Users\\\\cwky\\\\datasets\\\\coco\\\\images\\\\val2017\\\\000000289594.jpg'\n",
      "\u001b[34m\u001b[1mval: \u001b[0mWARNING ⚠️ C:\\Users\\cwky\\datasets\\coco\\images\\val2017\\000000289702.jpg: ignoring corrupt image/label: [Errno 2] No such file or directory: 'C:\\\\Users\\\\cwky\\\\datasets\\\\coco\\\\images\\\\val2017\\\\000000289702.jpg'\n",
      "\u001b[34m\u001b[1mval: \u001b[0mWARNING ⚠️ C:\\Users\\cwky\\datasets\\coco\\images\\val2017\\000000289938.jpg: ignoring corrupt image/label: [Errno 2] No such file or directory: 'C:\\\\Users\\\\cwky\\\\datasets\\\\coco\\\\images\\\\val2017\\\\000000289938.jpg'\n",
      "\u001b[34m\u001b[1mval: \u001b[0mWARNING ⚠️ C:\\Users\\cwky\\datasets\\coco\\images\\val2017\\000000289960.jpg: ignoring corrupt image/label: [Errno 2] No such file or directory: 'C:\\\\Users\\\\cwky\\\\datasets\\\\coco\\\\images\\\\val2017\\\\000000289960.jpg'\n",
      "\u001b[34m\u001b[1mval: \u001b[0mWARNING ⚠️ C:\\Users\\cwky\\datasets\\coco\\images\\val2017\\000000289992.jpg: ignoring corrupt image/label: [Errno 2] No such file or directory: 'C:\\\\Users\\\\cwky\\\\datasets\\\\coco\\\\images\\\\val2017\\\\000000289992.jpg'\n",
      "\u001b[34m\u001b[1mval: \u001b[0mWARNING ⚠️ C:\\Users\\cwky\\datasets\\coco\\images\\val2017\\000000290771.jpg: ignoring corrupt image/label: [Errno 2] No such file or directory: 'C:\\\\Users\\\\cwky\\\\datasets\\\\coco\\\\images\\\\val2017\\\\000000290771.jpg'\n",
      "\u001b[34m\u001b[1mval: \u001b[0mWARNING ⚠️ C:\\Users\\cwky\\datasets\\coco\\images\\val2017\\000000290833.jpg: ignoring corrupt image/label: [Errno 2] No such file or directory: 'C:\\\\Users\\\\cwky\\\\datasets\\\\coco\\\\images\\\\val2017\\\\000000290833.jpg'\n",
      "\u001b[34m\u001b[1mval: \u001b[0mWARNING ⚠️ C:\\Users\\cwky\\datasets\\coco\\images\\val2017\\000000291619.jpg: ignoring corrupt image/label: [Errno 2] No such file or directory: 'C:\\\\Users\\\\cwky\\\\datasets\\\\coco\\\\images\\\\val2017\\\\000000291619.jpg'\n",
      "\u001b[34m\u001b[1mval: \u001b[0mWARNING ⚠️ C:\\Users\\cwky\\datasets\\coco\\images\\val2017\\000000291634.jpg: ignoring corrupt image/label: [Errno 2] No such file or directory: 'C:\\\\Users\\\\cwky\\\\datasets\\\\coco\\\\images\\\\val2017\\\\000000291634.jpg'\n",
      "\u001b[34m\u001b[1mval: \u001b[0mWARNING ⚠️ C:\\Users\\cwky\\datasets\\coco\\images\\val2017\\000000292024.jpg: ignoring corrupt image/label: [Errno 2] No such file or directory: 'C:\\\\Users\\\\cwky\\\\datasets\\\\coco\\\\images\\\\val2017\\\\000000292024.jpg'\n",
      "\u001b[34m\u001b[1mval: \u001b[0mWARNING ⚠️ C:\\Users\\cwky\\datasets\\coco\\images\\val2017\\000000292060.jpg: ignoring corrupt image/label: [Errno 2] No such file or directory: 'C:\\\\Users\\\\cwky\\\\datasets\\\\coco\\\\images\\\\val2017\\\\000000292060.jpg'\n",
      "\u001b[34m\u001b[1mval: \u001b[0mWARNING ⚠️ C:\\Users\\cwky\\datasets\\coco\\images\\val2017\\000000292082.jpg: ignoring corrupt image/label: [Errno 2] No such file or directory: 'C:\\\\Users\\\\cwky\\\\datasets\\\\coco\\\\images\\\\val2017\\\\000000292082.jpg'\n",
      "\u001b[34m\u001b[1mval: \u001b[0mWARNING ⚠️ C:\\Users\\cwky\\datasets\\coco\\images\\val2017\\000000292155.jpg: ignoring corrupt image/label: [Errno 2] No such file or directory: 'C:\\\\Users\\\\cwky\\\\datasets\\\\coco\\\\images\\\\val2017\\\\000000292155.jpg'\n",
      "\u001b[34m\u001b[1mval: \u001b[0mWARNING ⚠️ C:\\Users\\cwky\\datasets\\coco\\images\\val2017\\000000292225.jpg: ignoring corrupt image/label: [Errno 2] No such file or directory: 'C:\\\\Users\\\\cwky\\\\datasets\\\\coco\\\\images\\\\val2017\\\\000000292225.jpg'\n",
      "\u001b[34m\u001b[1mval: \u001b[0mWARNING ⚠️ C:\\Users\\cwky\\datasets\\coco\\images\\val2017\\000000292236.jpg: ignoring corrupt image/label: [Errno 2] No such file or directory: 'C:\\\\Users\\\\cwky\\\\datasets\\\\coco\\\\images\\\\val2017\\\\000000292236.jpg'\n",
      "\u001b[34m\u001b[1mval: \u001b[0mWARNING ⚠️ C:\\Users\\cwky\\datasets\\coco\\images\\val2017\\000000292488.jpg: ignoring corrupt image/label: [Errno 2] No such file or directory: 'C:\\\\Users\\\\cwky\\\\datasets\\\\coco\\\\images\\\\val2017\\\\000000292488.jpg'\n",
      "\u001b[34m\u001b[1mval: \u001b[0mWARNING ⚠️ C:\\Users\\cwky\\datasets\\coco\\images\\val2017\\000000292908.jpg: ignoring corrupt image/label: [Errno 2] No such file or directory: 'C:\\\\Users\\\\cwky\\\\datasets\\\\coco\\\\images\\\\val2017\\\\000000292908.jpg'\n",
      "\u001b[34m\u001b[1mval: \u001b[0mWARNING ⚠️ C:\\Users\\cwky\\datasets\\coco\\images\\val2017\\000000293071.jpg: ignoring corrupt image/label: [Errno 2] No such file or directory: 'C:\\\\Users\\\\cwky\\\\datasets\\\\coco\\\\images\\\\val2017\\\\000000293071.jpg'\n",
      "\u001b[34m\u001b[1mval: \u001b[0mWARNING ⚠️ C:\\Users\\cwky\\datasets\\coco\\images\\val2017\\000000293390.jpg: ignoring corrupt image/label: [Errno 2] No such file or directory: 'C:\\\\Users\\\\cwky\\\\datasets\\\\coco\\\\images\\\\val2017\\\\000000293390.jpg'\n",
      "\u001b[34m\u001b[1mval: \u001b[0mWARNING ⚠️ C:\\Users\\cwky\\datasets\\coco\\images\\val2017\\000000293474.jpg: ignoring corrupt image/label: [Errno 2] No such file or directory: 'C:\\\\Users\\\\cwky\\\\datasets\\\\coco\\\\images\\\\val2017\\\\000000293474.jpg'\n",
      "\u001b[34m\u001b[1mval: \u001b[0mWARNING ⚠️ C:\\Users\\cwky\\datasets\\coco\\images\\val2017\\000000293804.jpg: ignoring corrupt image/label: [Errno 2] No such file or directory: 'C:\\\\Users\\\\cwky\\\\datasets\\\\coco\\\\images\\\\val2017\\\\000000293804.jpg'\n",
      "\u001b[34m\u001b[1mval: \u001b[0mWARNING ⚠️ C:\\Users\\cwky\\datasets\\coco\\images\\val2017\\000000294350.jpg: ignoring corrupt image/label: [Errno 2] No such file or directory: 'C:\\\\Users\\\\cwky\\\\datasets\\\\coco\\\\images\\\\val2017\\\\000000294350.jpg'\n",
      "\u001b[34m\u001b[1mval: \u001b[0mWARNING ⚠️ C:\\Users\\cwky\\datasets\\coco\\images\\val2017\\000000294695.jpg: ignoring corrupt image/label: [Errno 2] No such file or directory: 'C:\\\\Users\\\\cwky\\\\datasets\\\\coco\\\\images\\\\val2017\\\\000000294695.jpg'\n",
      "\u001b[34m\u001b[1mval: \u001b[0mWARNING ⚠️ C:\\Users\\cwky\\datasets\\coco\\images\\val2017\\000000294783.jpg: ignoring corrupt image/label: [Errno 2] No such file or directory: 'C:\\\\Users\\\\cwky\\\\datasets\\\\coco\\\\images\\\\val2017\\\\000000294783.jpg'\n",
      "\u001b[34m\u001b[1mval: \u001b[0mWARNING ⚠️ C:\\Users\\cwky\\datasets\\coco\\images\\val2017\\000000295316.jpg: ignoring corrupt image/label: [Errno 2] No such file or directory: 'C:\\\\Users\\\\cwky\\\\datasets\\\\coco\\\\images\\\\val2017\\\\000000295316.jpg'\n",
      "\u001b[34m\u001b[1mval: \u001b[0mWARNING ⚠️ C:\\Users\\cwky\\datasets\\coco\\images\\val2017\\000000295713.jpg: ignoring corrupt image/label: [Errno 2] No such file or directory: 'C:\\\\Users\\\\cwky\\\\datasets\\\\coco\\\\images\\\\val2017\\\\000000295713.jpg'\n",
      "\u001b[34m\u001b[1mval: \u001b[0mWARNING ⚠️ C:\\Users\\cwky\\datasets\\coco\\images\\val2017\\000000295809.jpg: ignoring corrupt image/label: [Errno 2] No such file or directory: 'C:\\\\Users\\\\cwky\\\\datasets\\\\coco\\\\images\\\\val2017\\\\000000295809.jpg'\n",
      "\u001b[34m\u001b[1mval: \u001b[0mWARNING ⚠️ C:\\Users\\cwky\\datasets\\coco\\images\\val2017\\000000296222.jpg: ignoring corrupt image/label: [Errno 2] No such file or directory: 'C:\\\\Users\\\\cwky\\\\datasets\\\\coco\\\\images\\\\val2017\\\\000000296222.jpg'\n",
      "\u001b[34m\u001b[1mval: \u001b[0mWARNING ⚠️ C:\\Users\\cwky\\datasets\\coco\\images\\val2017\\000000296224.jpg: ignoring corrupt image/label: [Errno 2] No such file or directory: 'C:\\\\Users\\\\cwky\\\\datasets\\\\coco\\\\images\\\\val2017\\\\000000296224.jpg'\n",
      "\u001b[34m\u001b[1mval: \u001b[0mWARNING ⚠️ C:\\Users\\cwky\\datasets\\coco\\images\\val2017\\000000296231.jpg: ignoring corrupt image/label: [Errno 2] No such file or directory: 'C:\\\\Users\\\\cwky\\\\datasets\\\\coco\\\\images\\\\val2017\\\\000000296231.jpg'\n",
      "\u001b[34m\u001b[1mval: \u001b[0mWARNING ⚠️ C:\\Users\\cwky\\datasets\\coco\\images\\val2017\\000000296284.jpg: ignoring corrupt image/label: [Errno 2] No such file or directory: 'C:\\\\Users\\\\cwky\\\\datasets\\\\coco\\\\images\\\\val2017\\\\000000296284.jpg'\n",
      "\u001b[34m\u001b[1mval: \u001b[0mWARNING ⚠️ C:\\Users\\cwky\\datasets\\coco\\images\\val2017\\000000296317.jpg: ignoring corrupt image/label: [Errno 2] No such file or directory: 'C:\\\\Users\\\\cwky\\\\datasets\\\\coco\\\\images\\\\val2017\\\\000000296317.jpg'\n",
      "\u001b[34m\u001b[1mval: \u001b[0mWARNING ⚠️ C:\\Users\\cwky\\datasets\\coco\\images\\val2017\\000000296634.jpg: ignoring corrupt image/label: [Errno 2] No such file or directory: 'C:\\\\Users\\\\cwky\\\\datasets\\\\coco\\\\images\\\\val2017\\\\000000296634.jpg'\n",
      "\u001b[34m\u001b[1mval: \u001b[0mWARNING ⚠️ C:\\Users\\cwky\\datasets\\coco\\images\\val2017\\000000296649.jpg: ignoring corrupt image/label: [Errno 2] No such file or directory: 'C:\\\\Users\\\\cwky\\\\datasets\\\\coco\\\\images\\\\val2017\\\\000000296649.jpg'\n",
      "\u001b[34m\u001b[1mval: \u001b[0mWARNING ⚠️ C:\\Users\\cwky\\datasets\\coco\\images\\val2017\\000000297147.jpg: ignoring corrupt image/label: [Errno 2] No such file or directory: 'C:\\\\Users\\\\cwky\\\\datasets\\\\coco\\\\images\\\\val2017\\\\000000297147.jpg'\n",
      "\u001b[34m\u001b[1mval: \u001b[0mWARNING ⚠️ C:\\Users\\cwky\\datasets\\coco\\images\\val2017\\000000297343.jpg: ignoring corrupt image/label: [Errno 2] No such file or directory: 'C:\\\\Users\\\\cwky\\\\datasets\\\\coco\\\\images\\\\val2017\\\\000000297343.jpg'\n",
      "\u001b[34m\u001b[1mval: \u001b[0mWARNING ⚠️ C:\\Users\\cwky\\datasets\\coco\\images\\val2017\\000000297427.jpg: ignoring corrupt image/label: [Errno 2] No such file or directory: 'C:\\\\Users\\\\cwky\\\\datasets\\\\coco\\\\images\\\\val2017\\\\000000297427.jpg'\n",
      "\u001b[34m\u001b[1mval: \u001b[0mWARNING ⚠️ C:\\Users\\cwky\\datasets\\coco\\images\\val2017\\000000297562.jpg: ignoring corrupt image/label: [Errno 2] No such file or directory: 'C:\\\\Users\\\\cwky\\\\datasets\\\\coco\\\\images\\\\val2017\\\\000000297562.jpg'\n",
      "\u001b[34m\u001b[1mval: \u001b[0mWARNING ⚠️ C:\\Users\\cwky\\datasets\\coco\\images\\val2017\\000000298251.jpg: ignoring corrupt image/label: [Errno 2] No such file or directory: 'C:\\\\Users\\\\cwky\\\\datasets\\\\coco\\\\images\\\\val2017\\\\000000298251.jpg'\n",
      "\u001b[34m\u001b[1mval: \u001b[0mWARNING ⚠️ C:\\Users\\cwky\\datasets\\coco\\images\\val2017\\000000298738.jpg: ignoring corrupt image/label: [Errno 2] No such file or directory: 'C:\\\\Users\\\\cwky\\\\datasets\\\\coco\\\\images\\\\val2017\\\\000000298738.jpg'\n",
      "\u001b[34m\u001b[1mval: \u001b[0mWARNING ⚠️ C:\\Users\\cwky\\datasets\\coco\\images\\val2017\\000000298904.jpg: ignoring corrupt image/label: [Errno 2] No such file or directory: 'C:\\\\Users\\\\cwky\\\\datasets\\\\coco\\\\images\\\\val2017\\\\000000298904.jpg'\n",
      "\u001b[34m\u001b[1mval: \u001b[0mWARNING ⚠️ C:\\Users\\cwky\\datasets\\coco\\images\\val2017\\000000298994.jpg: ignoring corrupt image/label: [Errno 2] No such file or directory: 'C:\\\\Users\\\\cwky\\\\datasets\\\\coco\\\\images\\\\val2017\\\\000000298994.jpg'\n",
      "\u001b[34m\u001b[1mval: \u001b[0mWARNING ⚠️ C:\\Users\\cwky\\datasets\\coco\\images\\val2017\\000000299553.jpg: ignoring corrupt image/label: [Errno 2] No such file or directory: 'C:\\\\Users\\\\cwky\\\\datasets\\\\coco\\\\images\\\\val2017\\\\000000299553.jpg'\n",
      "\u001b[34m\u001b[1mval: \u001b[0mWARNING ⚠️ C:\\Users\\cwky\\datasets\\coco\\images\\val2017\\000000299609.jpg: ignoring corrupt image/label: [Errno 2] No such file or directory: 'C:\\\\Users\\\\cwky\\\\datasets\\\\coco\\\\images\\\\val2017\\\\000000299609.jpg'\n",
      "\u001b[34m\u001b[1mval: \u001b[0mWARNING ⚠️ C:\\Users\\cwky\\datasets\\coco\\images\\val2017\\000000299887.jpg: ignoring corrupt image/label: [Errno 2] No such file or directory: 'C:\\\\Users\\\\cwky\\\\datasets\\\\coco\\\\images\\\\val2017\\\\000000299887.jpg'\n",
      "\u001b[34m\u001b[1mval: \u001b[0mWARNING ⚠️ C:\\Users\\cwky\\datasets\\coco\\images\\val2017\\000000300276.jpg: ignoring corrupt image/label: [Errno 2] No such file or directory: 'C:\\\\Users\\\\cwky\\\\datasets\\\\coco\\\\images\\\\val2017\\\\000000300276.jpg'\n",
      "\u001b[34m\u001b[1mval: \u001b[0mWARNING ⚠️ C:\\Users\\cwky\\datasets\\coco\\images\\val2017\\000000301061.jpg: ignoring corrupt image/label: [Errno 2] No such file or directory: 'C:\\\\Users\\\\cwky\\\\datasets\\\\coco\\\\images\\\\val2017\\\\000000301061.jpg'\n",
      "\u001b[34m\u001b[1mval: \u001b[0mWARNING ⚠️ C:\\Users\\cwky\\datasets\\coco\\images\\val2017\\000000301135.jpg: ignoring corrupt image/label: [Errno 2] No such file or directory: 'C:\\\\Users\\\\cwky\\\\datasets\\\\coco\\\\images\\\\val2017\\\\000000301135.jpg'\n",
      "\u001b[34m\u001b[1mval: \u001b[0mWARNING ⚠️ C:\\Users\\cwky\\datasets\\coco\\images\\val2017\\000000301421.jpg: ignoring corrupt image/label: [Errno 2] No such file or directory: 'C:\\\\Users\\\\cwky\\\\datasets\\\\coco\\\\images\\\\val2017\\\\000000301421.jpg'\n",
      "\u001b[34m\u001b[1mval: \u001b[0mWARNING ⚠️ C:\\Users\\cwky\\datasets\\coco\\images\\val2017\\000000301718.jpg: ignoring corrupt image/label: [Errno 2] No such file or directory: 'C:\\\\Users\\\\cwky\\\\datasets\\\\coco\\\\images\\\\val2017\\\\000000301718.jpg'\n",
      "\u001b[34m\u001b[1mval: \u001b[0mWARNING ⚠️ C:\\Users\\cwky\\datasets\\coco\\images\\val2017\\000000301867.jpg: ignoring corrupt image/label: [Errno 2] No such file or directory: 'C:\\\\Users\\\\cwky\\\\datasets\\\\coco\\\\images\\\\val2017\\\\000000301867.jpg'\n",
      "\u001b[34m\u001b[1mval: \u001b[0mWARNING ⚠️ C:\\Users\\cwky\\datasets\\coco\\images\\val2017\\000000302030.jpg: ignoring corrupt image/label: [Errno 2] No such file or directory: 'C:\\\\Users\\\\cwky\\\\datasets\\\\coco\\\\images\\\\val2017\\\\000000302030.jpg'\n",
      "\u001b[34m\u001b[1mval: \u001b[0mWARNING ⚠️ C:\\Users\\cwky\\datasets\\coco\\images\\val2017\\000000302165.jpg: ignoring corrupt image/label: [Errno 2] No such file or directory: 'C:\\\\Users\\\\cwky\\\\datasets\\\\coco\\\\images\\\\val2017\\\\000000302165.jpg'\n",
      "\u001b[34m\u001b[1mval: \u001b[0mWARNING ⚠️ C:\\Users\\cwky\\datasets\\coco\\images\\val2017\\000000302452.jpg: ignoring corrupt image/label: [Errno 2] No such file or directory: 'C:\\\\Users\\\\cwky\\\\datasets\\\\coco\\\\images\\\\val2017\\\\000000302452.jpg'\n",
      "\u001b[34m\u001b[1mval: \u001b[0mWARNING ⚠️ C:\\Users\\cwky\\datasets\\coco\\images\\val2017\\000000302760.jpg: ignoring corrupt image/label: [Errno 2] No such file or directory: 'C:\\\\Users\\\\cwky\\\\datasets\\\\coco\\\\images\\\\val2017\\\\000000302760.jpg'\n",
      "\u001b[34m\u001b[1mval: \u001b[0mWARNING ⚠️ C:\\Users\\cwky\\datasets\\coco\\images\\val2017\\000000302990.jpg: ignoring corrupt image/label: [Errno 2] No such file or directory: 'C:\\\\Users\\\\cwky\\\\datasets\\\\coco\\\\images\\\\val2017\\\\000000302990.jpg'\n",
      "\u001b[34m\u001b[1mval: \u001b[0mWARNING ⚠️ C:\\Users\\cwky\\datasets\\coco\\images\\val2017\\000000303305.jpg: ignoring corrupt image/label: [Errno 2] No such file or directory: 'C:\\\\Users\\\\cwky\\\\datasets\\\\coco\\\\images\\\\val2017\\\\000000303305.jpg'\n",
      "\u001b[34m\u001b[1mval: \u001b[0mWARNING ⚠️ C:\\Users\\cwky\\datasets\\coco\\images\\val2017\\000000303818.jpg: ignoring corrupt image/label: [Errno 2] No such file or directory: 'C:\\\\Users\\\\cwky\\\\datasets\\\\coco\\\\images\\\\val2017\\\\000000303818.jpg'\n",
      "\u001b[34m\u001b[1mval: \u001b[0mWARNING ⚠️ C:\\Users\\cwky\\datasets\\coco\\images\\val2017\\000000303893.jpg: ignoring corrupt image/label: [Errno 2] No such file or directory: 'C:\\\\Users\\\\cwky\\\\datasets\\\\coco\\\\images\\\\val2017\\\\000000303893.jpg'\n",
      "\u001b[34m\u001b[1mval: \u001b[0mWARNING ⚠️ C:\\Users\\cwky\\datasets\\coco\\images\\val2017\\000000304291.jpg: ignoring corrupt image/label: [Errno 2] No such file or directory: 'C:\\\\Users\\\\cwky\\\\datasets\\\\coco\\\\images\\\\val2017\\\\000000304291.jpg'\n",
      "\u001b[34m\u001b[1mval: \u001b[0mWARNING ⚠️ C:\\Users\\cwky\\datasets\\coco\\images\\val2017\\000000304365.jpg: ignoring corrupt image/label: [Errno 2] No such file or directory: 'C:\\\\Users\\\\cwky\\\\datasets\\\\coco\\\\images\\\\val2017\\\\000000304365.jpg'\n",
      "\u001b[34m\u001b[1mval: \u001b[0mWARNING ⚠️ C:\\Users\\cwky\\datasets\\coco\\images\\val2017\\000000304545.jpg: ignoring corrupt image/label: [Errno 2] No such file or directory: 'C:\\\\Users\\\\cwky\\\\datasets\\\\coco\\\\images\\\\val2017\\\\000000304545.jpg'\n",
      "\u001b[34m\u001b[1mval: \u001b[0mWARNING ⚠️ C:\\Users\\cwky\\datasets\\coco\\images\\val2017\\000000304560.jpg: ignoring corrupt image/label: [Errno 2] No such file or directory: 'C:\\\\Users\\\\cwky\\\\datasets\\\\coco\\\\images\\\\val2017\\\\000000304560.jpg'\n",
      "\u001b[34m\u001b[1mval: \u001b[0mWARNING ⚠️ C:\\Users\\cwky\\datasets\\coco\\images\\val2017\\000000304812.jpg: ignoring corrupt image/label: [Errno 2] No such file or directory: 'C:\\\\Users\\\\cwky\\\\datasets\\\\coco\\\\images\\\\val2017\\\\000000304812.jpg'\n",
      "\u001b[34m\u001b[1mval: \u001b[0mWARNING ⚠️ C:\\Users\\cwky\\datasets\\coco\\images\\val2017\\000000304817.jpg: ignoring corrupt image/label: [Errno 2] No such file or directory: 'C:\\\\Users\\\\cwky\\\\datasets\\\\coco\\\\images\\\\val2017\\\\000000304817.jpg'\n",
      "\u001b[34m\u001b[1mval: \u001b[0mWARNING ⚠️ C:\\Users\\cwky\\datasets\\coco\\images\\val2017\\000000304984.jpg: ignoring corrupt image/label: [Errno 2] No such file or directory: 'C:\\\\Users\\\\cwky\\\\datasets\\\\coco\\\\images\\\\val2017\\\\000000304984.jpg'\n",
      "\u001b[34m\u001b[1mval: \u001b[0mWARNING ⚠️ C:\\Users\\cwky\\datasets\\coco\\images\\val2017\\000000305317.jpg: ignoring corrupt image/label: [Errno 2] No such file or directory: 'C:\\\\Users\\\\cwky\\\\datasets\\\\coco\\\\images\\\\val2017\\\\000000305317.jpg'\n",
      "\u001b[34m\u001b[1mval: \u001b[0mWARNING ⚠️ C:\\Users\\cwky\\datasets\\coco\\images\\val2017\\000000305343.jpg: ignoring corrupt image/label: [Errno 2] No such file or directory: 'C:\\\\Users\\\\cwky\\\\datasets\\\\coco\\\\images\\\\val2017\\\\000000305343.jpg'\n",
      "\u001b[34m\u001b[1mval: \u001b[0mWARNING ⚠️ C:\\Users\\cwky\\datasets\\coco\\images\\val2017\\000000306136.jpg: ignoring corrupt image/label: [Errno 2] No such file or directory: 'C:\\\\Users\\\\cwky\\\\datasets\\\\coco\\\\images\\\\val2017\\\\000000306136.jpg'\n",
      "\u001b[34m\u001b[1mval: \u001b[0mWARNING ⚠️ C:\\Users\\cwky\\datasets\\coco\\images\\val2017\\000000306139.jpg: ignoring corrupt image/label: [Errno 2] No such file or directory: 'C:\\\\Users\\\\cwky\\\\datasets\\\\coco\\\\images\\\\val2017\\\\000000306139.jpg'\n",
      "\u001b[34m\u001b[1mval: \u001b[0mWARNING ⚠️ C:\\Users\\cwky\\datasets\\coco\\images\\val2017\\000000306437.jpg: ignoring corrupt image/label: [Errno 2] No such file or directory: 'C:\\\\Users\\\\cwky\\\\datasets\\\\coco\\\\images\\\\val2017\\\\000000306437.jpg'\n",
      "\u001b[34m\u001b[1mval: \u001b[0mWARNING ⚠️ C:\\Users\\cwky\\datasets\\coco\\images\\val2017\\000000306582.jpg: ignoring corrupt image/label: [Errno 2] No such file or directory: 'C:\\\\Users\\\\cwky\\\\datasets\\\\coco\\\\images\\\\val2017\\\\000000306582.jpg'\n",
      "\u001b[34m\u001b[1mval: \u001b[0mWARNING ⚠️ C:\\Users\\cwky\\datasets\\coco\\images\\val2017\\000000306733.jpg: ignoring corrupt image/label: [Errno 2] No such file or directory: 'C:\\\\Users\\\\cwky\\\\datasets\\\\coco\\\\images\\\\val2017\\\\000000306733.jpg'\n",
      "\u001b[34m\u001b[1mval: \u001b[0mWARNING ⚠️ C:\\Users\\cwky\\datasets\\coco\\images\\val2017\\000000308165.jpg: ignoring corrupt image/label: [Errno 2] No such file or directory: 'C:\\\\Users\\\\cwky\\\\datasets\\\\coco\\\\images\\\\val2017\\\\000000308165.jpg'\n",
      "\u001b[34m\u001b[1mval: \u001b[0mWARNING ⚠️ C:\\Users\\cwky\\datasets\\coco\\images\\val2017\\000000309391.jpg: ignoring corrupt image/label: [Errno 2] No such file or directory: 'C:\\\\Users\\\\cwky\\\\datasets\\\\coco\\\\images\\\\val2017\\\\000000309391.jpg'\n",
      "\u001b[34m\u001b[1mval: \u001b[0mWARNING ⚠️ C:\\Users\\cwky\\datasets\\coco\\images\\val2017\\000000309495.jpg: ignoring corrupt image/label: [Errno 2] No such file or directory: 'C:\\\\Users\\\\cwky\\\\datasets\\\\coco\\\\images\\\\val2017\\\\000000309495.jpg'\n",
      "\u001b[34m\u001b[1mval: \u001b[0mWARNING ⚠️ C:\\Users\\cwky\\datasets\\coco\\images\\val2017\\000000309655.jpg: ignoring corrupt image/label: [Errno 2] No such file or directory: 'C:\\\\Users\\\\cwky\\\\datasets\\\\coco\\\\images\\\\val2017\\\\000000309655.jpg'\n",
      "\u001b[34m\u001b[1mval: \u001b[0mWARNING ⚠️ C:\\Users\\cwky\\datasets\\coco\\images\\val2017\\000000310072.jpg: ignoring corrupt image/label: [Errno 2] No such file or directory: 'C:\\\\Users\\\\cwky\\\\datasets\\\\coco\\\\images\\\\val2017\\\\000000310072.jpg'\n",
      "\u001b[34m\u001b[1mval: \u001b[0mWARNING ⚠️ C:\\Users\\cwky\\datasets\\coco\\images\\val2017\\000000310200.jpg: ignoring corrupt image/label: [Errno 2] No such file or directory: 'C:\\\\Users\\\\cwky\\\\datasets\\\\coco\\\\images\\\\val2017\\\\000000310200.jpg'\n",
      "\u001b[34m\u001b[1mval: \u001b[0mWARNING ⚠️ C:\\Users\\cwky\\datasets\\coco\\images\\val2017\\000000310980.jpg: ignoring corrupt image/label: [Errno 2] No such file or directory: 'C:\\\\Users\\\\cwky\\\\datasets\\\\coco\\\\images\\\\val2017\\\\000000310980.jpg'\n",
      "\u001b[34m\u001b[1mval: \u001b[0mWARNING ⚠️ C:\\Users\\cwky\\datasets\\coco\\images\\val2017\\000000311180.jpg: ignoring corrupt image/label: [Errno 2] No such file or directory: 'C:\\\\Users\\\\cwky\\\\datasets\\\\coco\\\\images\\\\val2017\\\\000000311180.jpg'\n",
      "\u001b[34m\u001b[1mval: \u001b[0mWARNING ⚠️ C:\\Users\\cwky\\datasets\\coco\\images\\val2017\\000000311392.jpg: ignoring corrupt image/label: [Errno 2] No such file or directory: 'C:\\\\Users\\\\cwky\\\\datasets\\\\coco\\\\images\\\\val2017\\\\000000311392.jpg'\n",
      "\u001b[34m\u001b[1mval: \u001b[0mWARNING ⚠️ C:\\Users\\cwky\\datasets\\coco\\images\\val2017\\000000311518.jpg: ignoring corrupt image/label: [Errno 2] No such file or directory: 'C:\\\\Users\\\\cwky\\\\datasets\\\\coco\\\\images\\\\val2017\\\\000000311518.jpg'\n",
      "\u001b[34m\u001b[1mval: \u001b[0mWARNING ⚠️ C:\\Users\\cwky\\datasets\\coco\\images\\val2017\\000000311789.jpg: ignoring corrupt image/label: [Errno 2] No such file or directory: 'C:\\\\Users\\\\cwky\\\\datasets\\\\coco\\\\images\\\\val2017\\\\000000311789.jpg'\n",
      "\u001b[34m\u001b[1mval: \u001b[0mWARNING ⚠️ C:\\Users\\cwky\\datasets\\coco\\images\\val2017\\000000311883.jpg: ignoring corrupt image/label: [Errno 2] No such file or directory: 'C:\\\\Users\\\\cwky\\\\datasets\\\\coco\\\\images\\\\val2017\\\\000000311883.jpg'\n",
      "\u001b[34m\u001b[1mval: \u001b[0mWARNING ⚠️ C:\\Users\\cwky\\datasets\\coco\\images\\val2017\\000000312192.jpg: ignoring corrupt image/label: [Errno 2] No such file or directory: 'C:\\\\Users\\\\cwky\\\\datasets\\\\coco\\\\images\\\\val2017\\\\000000312192.jpg'\n",
      "\u001b[34m\u001b[1mval: \u001b[0mWARNING ⚠️ C:\\Users\\cwky\\datasets\\coco\\images\\val2017\\000000312213.jpg: ignoring corrupt image/label: [Errno 2] No such file or directory: 'C:\\\\Users\\\\cwky\\\\datasets\\\\coco\\\\images\\\\val2017\\\\000000312213.jpg'\n",
      "\u001b[34m\u001b[1mval: \u001b[0mWARNING ⚠️ C:\\Users\\cwky\\datasets\\coco\\images\\val2017\\000000312549.jpg: ignoring corrupt image/label: [Errno 2] No such file or directory: 'C:\\\\Users\\\\cwky\\\\datasets\\\\coco\\\\images\\\\val2017\\\\000000312549.jpg'\n",
      "\u001b[34m\u001b[1mval: \u001b[0mWARNING ⚠️ C:\\Users\\cwky\\datasets\\coco\\images\\val2017\\000000312720.jpg: ignoring corrupt image/label: [Errno 2] No such file or directory: 'C:\\\\Users\\\\cwky\\\\datasets\\\\coco\\\\images\\\\val2017\\\\000000312720.jpg'\n",
      "\u001b[34m\u001b[1mval: \u001b[0mWARNING ⚠️ C:\\Users\\cwky\\datasets\\coco\\images\\val2017\\000000313783.jpg: ignoring corrupt image/label: [Errno 2] No such file or directory: 'C:\\\\Users\\\\cwky\\\\datasets\\\\coco\\\\images\\\\val2017\\\\000000313783.jpg'\n",
      "\u001b[34m\u001b[1mval: \u001b[0mWARNING ⚠️ C:\\Users\\cwky\\datasets\\coco\\images\\val2017\\000000314182.jpg: ignoring corrupt image/label: [Errno 2] No such file or directory: 'C:\\\\Users\\\\cwky\\\\datasets\\\\coco\\\\images\\\\val2017\\\\000000314182.jpg'\n",
      "\u001b[34m\u001b[1mval: \u001b[0mWARNING ⚠️ C:\\Users\\cwky\\datasets\\coco\\images\\val2017\\000000314264.jpg: ignoring corrupt image/label: [Errno 2] No such file or directory: 'C:\\\\Users\\\\cwky\\\\datasets\\\\coco\\\\images\\\\val2017\\\\000000314264.jpg'\n",
      "\u001b[34m\u001b[1mval: \u001b[0mWARNING ⚠️ C:\\Users\\cwky\\datasets\\coco\\images\\val2017\\000000314541.jpg: ignoring corrupt image/label: [Errno 2] No such file or directory: 'C:\\\\Users\\\\cwky\\\\datasets\\\\coco\\\\images\\\\val2017\\\\000000314541.jpg'\n",
      "\u001b[34m\u001b[1mval: \u001b[0mWARNING ⚠️ C:\\Users\\cwky\\datasets\\coco\\images\\val2017\\000000315219.jpg: ignoring corrupt image/label: [Errno 2] No such file or directory: 'C:\\\\Users\\\\cwky\\\\datasets\\\\coco\\\\images\\\\val2017\\\\000000315219.jpg'\n",
      "\u001b[34m\u001b[1mval: \u001b[0mWARNING ⚠️ C:\\Users\\cwky\\datasets\\coco\\images\\val2017\\000000316015.jpg: ignoring corrupt image/label: [Errno 2] No such file or directory: 'C:\\\\Users\\\\cwky\\\\datasets\\\\coco\\\\images\\\\val2017\\\\000000316015.jpg'\n",
      "\u001b[34m\u001b[1mval: \u001b[0mWARNING ⚠️ C:\\Users\\cwky\\datasets\\coco\\images\\val2017\\000000317433.jpg: ignoring corrupt image/label: [Errno 2] No such file or directory: 'C:\\\\Users\\\\cwky\\\\datasets\\\\coco\\\\images\\\\val2017\\\\000000317433.jpg'\n",
      "\u001b[34m\u001b[1mval: \u001b[0mWARNING ⚠️ C:\\Users\\cwky\\datasets\\coco\\images\\val2017\\000000317999.jpg: ignoring corrupt image/label: [Errno 2] No such file or directory: 'C:\\\\Users\\\\cwky\\\\datasets\\\\coco\\\\images\\\\val2017\\\\000000317999.jpg'\n",
      "\u001b[34m\u001b[1mval: \u001b[0mWARNING ⚠️ C:\\Users\\cwky\\datasets\\coco\\images\\val2017\\000000318114.jpg: ignoring corrupt image/label: [Errno 2] No such file or directory: 'C:\\\\Users\\\\cwky\\\\datasets\\\\coco\\\\images\\\\val2017\\\\000000318114.jpg'\n",
      "\u001b[34m\u001b[1mval: \u001b[0mWARNING ⚠️ C:\\Users\\cwky\\datasets\\coco\\images\\val2017\\000000318138.jpg: ignoring corrupt image/label: [Errno 2] No such file or directory: 'C:\\\\Users\\\\cwky\\\\datasets\\\\coco\\\\images\\\\val2017\\\\000000318138.jpg'\n",
      "\u001b[34m\u001b[1mval: \u001b[0mWARNING ⚠️ C:\\Users\\cwky\\datasets\\coco\\images\\val2017\\000000318238.jpg: ignoring corrupt image/label: [Errno 2] No such file or directory: 'C:\\\\Users\\\\cwky\\\\datasets\\\\coco\\\\images\\\\val2017\\\\000000318238.jpg'\n",
      "\u001b[34m\u001b[1mval: \u001b[0mWARNING ⚠️ C:\\Users\\cwky\\datasets\\coco\\images\\val2017\\000000318908.jpg: ignoring corrupt image/label: [Errno 2] No such file or directory: 'C:\\\\Users\\\\cwky\\\\datasets\\\\coco\\\\images\\\\val2017\\\\000000318908.jpg'\n",
      "\u001b[34m\u001b[1mval: \u001b[0mWARNING ⚠️ C:\\Users\\cwky\\datasets\\coco\\images\\val2017\\000000319696.jpg: ignoring corrupt image/label: [Errno 2] No such file or directory: 'C:\\\\Users\\\\cwky\\\\datasets\\\\coco\\\\images\\\\val2017\\\\000000319696.jpg'\n",
      "\u001b[34m\u001b[1mval: \u001b[0mWARNING ⚠️ C:\\Users\\cwky\\datasets\\coco\\images\\val2017\\000000319935.jpg: ignoring corrupt image/label: [Errno 2] No such file or directory: 'C:\\\\Users\\\\cwky\\\\datasets\\\\coco\\\\images\\\\val2017\\\\000000319935.jpg'\n",
      "\u001b[34m\u001b[1mval: \u001b[0mWARNING ⚠️ C:\\Users\\cwky\\datasets\\coco\\images\\val2017\\000000320743.jpg: ignoring corrupt image/label: [Errno 2] No such file or directory: 'C:\\\\Users\\\\cwky\\\\datasets\\\\coco\\\\images\\\\val2017\\\\000000320743.jpg'\n",
      "\u001b[34m\u001b[1mval: \u001b[0mWARNING ⚠️ C:\\Users\\cwky\\datasets\\coco\\images\\val2017\\000000321214.jpg: ignoring corrupt image/label: [Errno 2] No such file or directory: 'C:\\\\Users\\\\cwky\\\\datasets\\\\coco\\\\images\\\\val2017\\\\000000321214.jpg'\n",
      "\u001b[34m\u001b[1mval: \u001b[0mWARNING ⚠️ C:\\Users\\cwky\\datasets\\coco\\images\\val2017\\000000321557.jpg: ignoring corrupt image/label: [Errno 2] No such file or directory: 'C:\\\\Users\\\\cwky\\\\datasets\\\\coco\\\\images\\\\val2017\\\\000000321557.jpg'\n",
      "\u001b[34m\u001b[1mval: \u001b[0mWARNING ⚠️ C:\\Users\\cwky\\datasets\\coco\\images\\val2017\\000000321790.jpg: ignoring corrupt image/label: [Errno 2] No such file or directory: 'C:\\\\Users\\\\cwky\\\\datasets\\\\coco\\\\images\\\\val2017\\\\000000321790.jpg'\n",
      "\u001b[34m\u001b[1mval: \u001b[0mWARNING ⚠️ C:\\Users\\cwky\\datasets\\coco\\images\\val2017\\000000321887.jpg: ignoring corrupt image/label: [Errno 2] No such file or directory: 'C:\\\\Users\\\\cwky\\\\datasets\\\\coco\\\\images\\\\val2017\\\\000000321887.jpg'\n",
      "\u001b[34m\u001b[1mval: \u001b[0mWARNING ⚠️ C:\\Users\\cwky\\datasets\\coco\\images\\val2017\\000000322724.jpg: ignoring corrupt image/label: [Errno 2] No such file or directory: 'C:\\\\Users\\\\cwky\\\\datasets\\\\coco\\\\images\\\\val2017\\\\000000322724.jpg'\n",
      "\u001b[34m\u001b[1mval: \u001b[0mWARNING ⚠️ C:\\Users\\cwky\\datasets\\coco\\images\\val2017\\000000322864.jpg: ignoring corrupt image/label: [Errno 2] No such file or directory: 'C:\\\\Users\\\\cwky\\\\datasets\\\\coco\\\\images\\\\val2017\\\\000000322864.jpg'\n",
      "\u001b[34m\u001b[1mval: \u001b[0mWARNING ⚠️ C:\\Users\\cwky\\datasets\\coco\\images\\val2017\\000000322895.jpg: ignoring corrupt image/label: [Errno 2] No such file or directory: 'C:\\\\Users\\\\cwky\\\\datasets\\\\coco\\\\images\\\\val2017\\\\000000322895.jpg'\n",
      "\u001b[34m\u001b[1mval: \u001b[0mWARNING ⚠️ C:\\Users\\cwky\\datasets\\coco\\images\\val2017\\000000323151.jpg: ignoring corrupt image/label: [Errno 2] No such file or directory: 'C:\\\\Users\\\\cwky\\\\datasets\\\\coco\\\\images\\\\val2017\\\\000000323151.jpg'\n",
      "\u001b[34m\u001b[1mval: \u001b[0mWARNING ⚠️ C:\\Users\\cwky\\datasets\\coco\\images\\val2017\\000000323202.jpg: ignoring corrupt image/label: [Errno 2] No such file or directory: 'C:\\\\Users\\\\cwky\\\\datasets\\\\coco\\\\images\\\\val2017\\\\000000323202.jpg'\n",
      "\u001b[34m\u001b[1mval: \u001b[0mWARNING ⚠️ C:\\Users\\cwky\\datasets\\coco\\images\\val2017\\000000323263.jpg: ignoring corrupt image/label: [Errno 2] No such file or directory: 'C:\\\\Users\\\\cwky\\\\datasets\\\\coco\\\\images\\\\val2017\\\\000000323263.jpg'\n",
      "\u001b[34m\u001b[1mval: \u001b[0mWARNING ⚠️ C:\\Users\\cwky\\datasets\\coco\\images\\val2017\\000000323709.jpg: ignoring corrupt image/label: [Errno 2] No such file or directory: 'C:\\\\Users\\\\cwky\\\\datasets\\\\coco\\\\images\\\\val2017\\\\000000323709.jpg'\n",
      "\u001b[34m\u001b[1mval: \u001b[0mWARNING ⚠️ C:\\Users\\cwky\\datasets\\coco\\images\\val2017\\000000323828.jpg: ignoring corrupt image/label: [Errno 2] No such file or directory: 'C:\\\\Users\\\\cwky\\\\datasets\\\\coco\\\\images\\\\val2017\\\\000000323828.jpg'\n",
      "\u001b[34m\u001b[1mval: \u001b[0mWARNING ⚠️ C:\\Users\\cwky\\datasets\\coco\\images\\val2017\\000000323895.jpg: ignoring corrupt image/label: [Errno 2] No such file or directory: 'C:\\\\Users\\\\cwky\\\\datasets\\\\coco\\\\images\\\\val2017\\\\000000323895.jpg'\n",
      "\u001b[34m\u001b[1mval: \u001b[0mWARNING ⚠️ C:\\Users\\cwky\\datasets\\coco\\images\\val2017\\000000324258.jpg: ignoring corrupt image/label: [Errno 2] No such file or directory: 'C:\\\\Users\\\\cwky\\\\datasets\\\\coco\\\\images\\\\val2017\\\\000000324258.jpg'\n",
      "\u001b[34m\u001b[1mval: \u001b[0mWARNING ⚠️ C:\\Users\\cwky\\datasets\\coco\\images\\val2017\\000000324715.jpg: ignoring corrupt image/label: [Errno 2] No such file or directory: 'C:\\\\Users\\\\cwky\\\\datasets\\\\coco\\\\images\\\\val2017\\\\000000324715.jpg'\n",
      "\u001b[34m\u001b[1mval: \u001b[0mWARNING ⚠️ C:\\Users\\cwky\\datasets\\coco\\images\\val2017\\000000325306.jpg: ignoring corrupt image/label: [Errno 2] No such file or directory: 'C:\\\\Users\\\\cwky\\\\datasets\\\\coco\\\\images\\\\val2017\\\\000000325306.jpg'\n",
      "\u001b[34m\u001b[1mval: \u001b[0mWARNING ⚠️ C:\\Users\\cwky\\datasets\\coco\\images\\val2017\\000000325991.jpg: ignoring corrupt image/label: [Errno 2] No such file or directory: 'C:\\\\Users\\\\cwky\\\\datasets\\\\coco\\\\images\\\\val2017\\\\000000325991.jpg'\n",
      "\u001b[34m\u001b[1mval: \u001b[0mWARNING ⚠️ C:\\Users\\cwky\\datasets\\coco\\images\\val2017\\000000326128.jpg: ignoring corrupt image/label: [Errno 2] No such file or directory: 'C:\\\\Users\\\\cwky\\\\datasets\\\\coco\\\\images\\\\val2017\\\\000000326128.jpg'\n",
      "\u001b[34m\u001b[1mval: \u001b[0mWARNING ⚠️ C:\\Users\\cwky\\datasets\\coco\\images\\val2017\\000000326174.jpg: ignoring corrupt image/label: [Errno 2] No such file or directory: 'C:\\\\Users\\\\cwky\\\\datasets\\\\coco\\\\images\\\\val2017\\\\000000326174.jpg'\n",
      "\u001b[34m\u001b[1mval: \u001b[0mWARNING ⚠️ C:\\Users\\cwky\\datasets\\coco\\images\\val2017\\000000326542.jpg: ignoring corrupt image/label: [Errno 2] No such file or directory: 'C:\\\\Users\\\\cwky\\\\datasets\\\\coco\\\\images\\\\val2017\\\\000000326542.jpg'\n",
      "\u001b[34m\u001b[1mval: \u001b[0mWARNING ⚠️ C:\\Users\\cwky\\datasets\\coco\\images\\val2017\\000000327306.jpg: ignoring corrupt image/label: [Errno 2] No such file or directory: 'C:\\\\Users\\\\cwky\\\\datasets\\\\coco\\\\images\\\\val2017\\\\000000327306.jpg'\n",
      "\u001b[34m\u001b[1mval: \u001b[0mWARNING ⚠️ C:\\Users\\cwky\\datasets\\coco\\images\\val2017\\000000327701.jpg: ignoring corrupt image/label: [Errno 2] No such file or directory: 'C:\\\\Users\\\\cwky\\\\datasets\\\\coco\\\\images\\\\val2017\\\\000000327701.jpg'\n",
      "\u001b[34m\u001b[1mval: \u001b[0mWARNING ⚠️ C:\\Users\\cwky\\datasets\\coco\\images\\val2017\\000000328030.jpg: ignoring corrupt image/label: [Errno 2] No such file or directory: 'C:\\\\Users\\\\cwky\\\\datasets\\\\coco\\\\images\\\\val2017\\\\000000328030.jpg'\n",
      "\u001b[34m\u001b[1mval: \u001b[0mWARNING ⚠️ C:\\Users\\cwky\\datasets\\coco\\images\\val2017\\000000328286.jpg: ignoring corrupt image/label: [Errno 2] No such file or directory: 'C:\\\\Users\\\\cwky\\\\datasets\\\\coco\\\\images\\\\val2017\\\\000000328286.jpg'\n",
      "\u001b[34m\u001b[1mval: \u001b[0mWARNING ⚠️ C:\\Users\\cwky\\datasets\\coco\\images\\val2017\\000000328337.jpg: ignoring corrupt image/label: [Errno 2] No such file or directory: 'C:\\\\Users\\\\cwky\\\\datasets\\\\coco\\\\images\\\\val2017\\\\000000328337.jpg'\n",
      "\u001b[34m\u001b[1mval: \u001b[0mWARNING ⚠️ C:\\Users\\cwky\\datasets\\coco\\images\\val2017\\000000328601.jpg: ignoring corrupt image/label: [Errno 2] No such file or directory: 'C:\\\\Users\\\\cwky\\\\datasets\\\\coco\\\\images\\\\val2017\\\\000000328601.jpg'\n",
      "\u001b[34m\u001b[1mval: \u001b[0mWARNING ⚠️ C:\\Users\\cwky\\datasets\\coco\\images\\val2017\\000000329080.jpg: ignoring corrupt image/label: [Errno 2] No such file or directory: 'C:\\\\Users\\\\cwky\\\\datasets\\\\coco\\\\images\\\\val2017\\\\000000329080.jpg'\n",
      "\u001b[34m\u001b[1mval: \u001b[0mWARNING ⚠️ C:\\Users\\cwky\\datasets\\coco\\images\\val2017\\000000329219.jpg: ignoring corrupt image/label: [Errno 2] No such file or directory: 'C:\\\\Users\\\\cwky\\\\datasets\\\\coco\\\\images\\\\val2017\\\\000000329219.jpg'\n",
      "\u001b[34m\u001b[1mval: \u001b[0mWARNING ⚠️ C:\\Users\\cwky\\datasets\\coco\\images\\val2017\\000000329319.jpg: ignoring corrupt image/label: [Errno 2] No such file or directory: 'C:\\\\Users\\\\cwky\\\\datasets\\\\coco\\\\images\\\\val2017\\\\000000329319.jpg'\n",
      "\u001b[34m\u001b[1mval: \u001b[0mWARNING ⚠️ C:\\Users\\cwky\\datasets\\coco\\images\\val2017\\000000329447.jpg: ignoring corrupt image/label: [Errno 2] No such file or directory: 'C:\\\\Users\\\\cwky\\\\datasets\\\\coco\\\\images\\\\val2017\\\\000000329447.jpg'\n",
      "\u001b[34m\u001b[1mval: \u001b[0mWARNING ⚠️ C:\\Users\\cwky\\datasets\\coco\\images\\val2017\\000000329455.jpg: ignoring corrupt image/label: [Errno 2] No such file or directory: 'C:\\\\Users\\\\cwky\\\\datasets\\\\coco\\\\images\\\\val2017\\\\000000329455.jpg'\n",
      "\u001b[34m\u001b[1mval: \u001b[0mWARNING ⚠️ C:\\Users\\cwky\\datasets\\coco\\images\\val2017\\000000329456.jpg: ignoring corrupt image/label: [Errno 2] No such file or directory: 'C:\\\\Users\\\\cwky\\\\datasets\\\\coco\\\\images\\\\val2017\\\\000000329456.jpg'\n",
      "\u001b[34m\u001b[1mval: \u001b[0mWARNING ⚠️ C:\\Users\\cwky\\datasets\\coco\\images\\val2017\\000000330554.jpg: ignoring corrupt image/label: [Errno 2] No such file or directory: 'C:\\\\Users\\\\cwky\\\\datasets\\\\coco\\\\images\\\\val2017\\\\000000330554.jpg'\n",
      "\u001b[34m\u001b[1mval: \u001b[0mWARNING ⚠️ C:\\Users\\cwky\\datasets\\coco\\images\\val2017\\000000331075.jpg: ignoring corrupt image/label: [Errno 2] No such file or directory: 'C:\\\\Users\\\\cwky\\\\datasets\\\\coco\\\\images\\\\val2017\\\\000000331075.jpg'\n",
      "\u001b[34m\u001b[1mval: \u001b[0mWARNING ⚠️ C:\\Users\\cwky\\datasets\\coco\\images\\val2017\\000000331280.jpg: ignoring corrupt image/label: [Errno 2] No such file or directory: 'C:\\\\Users\\\\cwky\\\\datasets\\\\coco\\\\images\\\\val2017\\\\000000331280.jpg'\n",
      "\u001b[34m\u001b[1mval: \u001b[0mWARNING ⚠️ C:\\Users\\cwky\\datasets\\coco\\images\\val2017\\000000331817.jpg: ignoring corrupt image/label: [Errno 2] No such file or directory: 'C:\\\\Users\\\\cwky\\\\datasets\\\\coco\\\\images\\\\val2017\\\\000000331817.jpg'\n",
      "\u001b[34m\u001b[1mval: \u001b[0mWARNING ⚠️ C:\\Users\\cwky\\datasets\\coco\\images\\val2017\\000000332318.jpg: ignoring corrupt image/label: [Errno 2] No such file or directory: 'C:\\\\Users\\\\cwky\\\\datasets\\\\coco\\\\images\\\\val2017\\\\000000332318.jpg'\n",
      "\u001b[34m\u001b[1mval: \u001b[0mWARNING ⚠️ C:\\Users\\cwky\\datasets\\coco\\images\\val2017\\000000332845.jpg: ignoring corrupt image/label: [Errno 2] No such file or directory: 'C:\\\\Users\\\\cwky\\\\datasets\\\\coco\\\\images\\\\val2017\\\\000000332845.jpg'\n",
      "\u001b[34m\u001b[1mval: \u001b[0mWARNING ⚠️ C:\\Users\\cwky\\datasets\\coco\\images\\val2017\\000000333237.jpg: ignoring corrupt image/label: [Errno 2] No such file or directory: 'C:\\\\Users\\\\cwky\\\\datasets\\\\coco\\\\images\\\\val2017\\\\000000333237.jpg'\n",
      "\u001b[34m\u001b[1mval: \u001b[0mWARNING ⚠️ C:\\Users\\cwky\\datasets\\coco\\images\\val2017\\000000333697.jpg: ignoring corrupt image/label: [Errno 2] No such file or directory: 'C:\\\\Users\\\\cwky\\\\datasets\\\\coco\\\\images\\\\val2017\\\\000000333697.jpg'\n",
      "\u001b[34m\u001b[1mval: \u001b[0mWARNING ⚠️ C:\\Users\\cwky\\datasets\\coco\\images\\val2017\\000000333745.jpg: ignoring corrupt image/label: [Errno 2] No such file or directory: 'C:\\\\Users\\\\cwky\\\\datasets\\\\coco\\\\images\\\\val2017\\\\000000333745.jpg'\n",
      "\u001b[34m\u001b[1mval: \u001b[0mWARNING ⚠️ C:\\Users\\cwky\\datasets\\coco\\images\\val2017\\000000334006.jpg: ignoring corrupt image/label: [Errno 2] No such file or directory: 'C:\\\\Users\\\\cwky\\\\datasets\\\\coco\\\\images\\\\val2017\\\\000000334006.jpg'\n",
      "\u001b[34m\u001b[1mval: \u001b[0mWARNING ⚠️ C:\\Users\\cwky\\datasets\\coco\\images\\val2017\\000000334309.jpg: ignoring corrupt image/label: [Errno 2] No such file or directory: 'C:\\\\Users\\\\cwky\\\\datasets\\\\coco\\\\images\\\\val2017\\\\000000334309.jpg'\n",
      "\u001b[34m\u001b[1mval: \u001b[0mWARNING ⚠️ C:\\Users\\cwky\\datasets\\coco\\images\\val2017\\000000334371.jpg: ignoring corrupt image/label: [Errno 2] No such file or directory: 'C:\\\\Users\\\\cwky\\\\datasets\\\\coco\\\\images\\\\val2017\\\\000000334371.jpg'\n",
      "\u001b[34m\u001b[1mval: \u001b[0mWARNING ⚠️ C:\\Users\\cwky\\datasets\\coco\\images\\val2017\\000000334719.jpg: ignoring corrupt image/label: [Errno 2] No such file or directory: 'C:\\\\Users\\\\cwky\\\\datasets\\\\coco\\\\images\\\\val2017\\\\000000334719.jpg'\n",
      "\u001b[34m\u001b[1mval: \u001b[0mWARNING ⚠️ C:\\Users\\cwky\\datasets\\coco\\images\\val2017\\000000335081.jpg: ignoring corrupt image/label: [Errno 2] No such file or directory: 'C:\\\\Users\\\\cwky\\\\datasets\\\\coco\\\\images\\\\val2017\\\\000000335081.jpg'\n",
      "\u001b[34m\u001b[1mval: \u001b[0mWARNING ⚠️ C:\\Users\\cwky\\datasets\\coco\\images\\val2017\\000000335954.jpg: ignoring corrupt image/label: [Errno 2] No such file or directory: 'C:\\\\Users\\\\cwky\\\\datasets\\\\coco\\\\images\\\\val2017\\\\000000335954.jpg'\n",
      "\u001b[34m\u001b[1mval: \u001b[0mWARNING ⚠️ C:\\Users\\cwky\\datasets\\coco\\images\\val2017\\000000336309.jpg: ignoring corrupt image/label: [Errno 2] No such file or directory: 'C:\\\\Users\\\\cwky\\\\datasets\\\\coco\\\\images\\\\val2017\\\\000000336309.jpg'\n",
      "\u001b[34m\u001b[1mval: \u001b[0mWARNING ⚠️ C:\\Users\\cwky\\datasets\\coco\\images\\val2017\\000000336356.jpg: ignoring corrupt image/label: [Errno 2] No such file or directory: 'C:\\\\Users\\\\cwky\\\\datasets\\\\coco\\\\images\\\\val2017\\\\000000336356.jpg'\n",
      "\u001b[34m\u001b[1mval: \u001b[0mWARNING ⚠️ C:\\Users\\cwky\\datasets\\coco\\images\\val2017\\000000336587.jpg: ignoring corrupt image/label: [Errno 2] No such file or directory: 'C:\\\\Users\\\\cwky\\\\datasets\\\\coco\\\\images\\\\val2017\\\\000000336587.jpg'\n",
      "\u001b[34m\u001b[1mval: \u001b[0mWARNING ⚠️ C:\\Users\\cwky\\datasets\\coco\\images\\val2017\\000000338191.jpg: ignoring corrupt image/label: [Errno 2] No such file or directory: 'C:\\\\Users\\\\cwky\\\\datasets\\\\coco\\\\images\\\\val2017\\\\000000338191.jpg'\n",
      "\u001b[34m\u001b[1mval: \u001b[0mWARNING ⚠️ C:\\Users\\cwky\\datasets\\coco\\images\\val2017\\000000338304.jpg: ignoring corrupt image/label: [Errno 2] No such file or directory: 'C:\\\\Users\\\\cwky\\\\datasets\\\\coco\\\\images\\\\val2017\\\\000000338304.jpg'\n",
      "\u001b[34m\u001b[1mval: \u001b[0mWARNING ⚠️ C:\\Users\\cwky\\datasets\\coco\\images\\val2017\\000000338325.jpg: ignoring corrupt image/label: [Errno 2] No such file or directory: 'C:\\\\Users\\\\cwky\\\\datasets\\\\coco\\\\images\\\\val2017\\\\000000338325.jpg'\n",
      "\u001b[34m\u001b[1mval: \u001b[0mWARNING ⚠️ C:\\Users\\cwky\\datasets\\coco\\images\\val2017\\000000338901.jpg: ignoring corrupt image/label: [Errno 2] No such file or directory: 'C:\\\\Users\\\\cwky\\\\datasets\\\\coco\\\\images\\\\val2017\\\\000000338901.jpg'\n",
      "\u001b[34m\u001b[1mval: \u001b[0mWARNING ⚠️ C:\\Users\\cwky\\datasets\\coco\\images\\val2017\\000000338986.jpg: ignoring corrupt image/label: [Errno 2] No such file or directory: 'C:\\\\Users\\\\cwky\\\\datasets\\\\coco\\\\images\\\\val2017\\\\000000338986.jpg'\n",
      "\u001b[34m\u001b[1mval: \u001b[0mWARNING ⚠️ C:\\Users\\cwky\\datasets\\coco\\images\\val2017\\000000339823.jpg: ignoring corrupt image/label: [Errno 2] No such file or directory: 'C:\\\\Users\\\\cwky\\\\datasets\\\\coco\\\\images\\\\val2017\\\\000000339823.jpg'\n",
      "\u001b[34m\u001b[1mval: \u001b[0mWARNING ⚠️ C:\\Users\\cwky\\datasets\\coco\\images\\val2017\\000000340015.jpg: ignoring corrupt image/label: [Errno 2] No such file or directory: 'C:\\\\Users\\\\cwky\\\\datasets\\\\coco\\\\images\\\\val2017\\\\000000340015.jpg'\n",
      "\u001b[34m\u001b[1mval: \u001b[0mWARNING ⚠️ C:\\Users\\cwky\\datasets\\coco\\images\\val2017\\000000340894.jpg: ignoring corrupt image/label: [Errno 2] No such file or directory: 'C:\\\\Users\\\\cwky\\\\datasets\\\\coco\\\\images\\\\val2017\\\\000000340894.jpg'\n",
      "\u001b[34m\u001b[1mval: \u001b[0mWARNING ⚠️ C:\\Users\\cwky\\datasets\\coco\\images\\val2017\\000000341469.jpg: ignoring corrupt image/label: [Errno 2] No such file or directory: 'C:\\\\Users\\\\cwky\\\\datasets\\\\coco\\\\images\\\\val2017\\\\000000341469.jpg'\n",
      "\u001b[34m\u001b[1mval: \u001b[0mWARNING ⚠️ C:\\Users\\cwky\\datasets\\coco\\images\\val2017\\000000341681.jpg: ignoring corrupt image/label: [Errno 2] No such file or directory: 'C:\\\\Users\\\\cwky\\\\datasets\\\\coco\\\\images\\\\val2017\\\\000000341681.jpg'\n",
      "\u001b[34m\u001b[1mval: \u001b[0mWARNING ⚠️ C:\\Users\\cwky\\datasets\\coco\\images\\val2017\\000000341828.jpg: ignoring corrupt image/label: [Errno 2] No such file or directory: 'C:\\\\Users\\\\cwky\\\\datasets\\\\coco\\\\images\\\\val2017\\\\000000341828.jpg'\n",
      "\u001b[34m\u001b[1mval: \u001b[0mWARNING ⚠️ C:\\Users\\cwky\\datasets\\coco\\images\\val2017\\000000342186.jpg: ignoring corrupt image/label: [Errno 2] No such file or directory: 'C:\\\\Users\\\\cwky\\\\datasets\\\\coco\\\\images\\\\val2017\\\\000000342186.jpg'\n",
      "\u001b[34m\u001b[1mval: \u001b[0mWARNING ⚠️ C:\\Users\\cwky\\datasets\\coco\\images\\val2017\\000000342295.jpg: ignoring corrupt image/label: [Errno 2] No such file or directory: 'C:\\\\Users\\\\cwky\\\\datasets\\\\coco\\\\images\\\\val2017\\\\000000342295.jpg'\n",
      "\u001b[34m\u001b[1mval: \u001b[0mWARNING ⚠️ C:\\Users\\cwky\\datasets\\coco\\images\\val2017\\000000342397.jpg: ignoring corrupt image/label: [Errno 2] No such file or directory: 'C:\\\\Users\\\\cwky\\\\datasets\\\\coco\\\\images\\\\val2017\\\\000000342397.jpg'\n",
      "\u001b[34m\u001b[1mval: \u001b[0mWARNING ⚠️ C:\\Users\\cwky\\datasets\\coco\\images\\val2017\\000000343076.jpg: ignoring corrupt image/label: [Errno 2] No such file or directory: 'C:\\\\Users\\\\cwky\\\\datasets\\\\coco\\\\images\\\\val2017\\\\000000343076.jpg'\n",
      "\u001b[34m\u001b[1mval: \u001b[0mWARNING ⚠️ C:\\Users\\cwky\\datasets\\coco\\images\\val2017\\000000343453.jpg: ignoring corrupt image/label: [Errno 2] No such file or directory: 'C:\\\\Users\\\\cwky\\\\datasets\\\\coco\\\\images\\\\val2017\\\\000000343453.jpg'\n",
      "\u001b[34m\u001b[1mval: \u001b[0mWARNING ⚠️ C:\\Users\\cwky\\datasets\\coco\\images\\val2017\\000000343466.jpg: ignoring corrupt image/label: [Errno 2] No such file or directory: 'C:\\\\Users\\\\cwky\\\\datasets\\\\coco\\\\images\\\\val2017\\\\000000343466.jpg'\n",
      "\u001b[34m\u001b[1mval: \u001b[0mWARNING ⚠️ C:\\Users\\cwky\\datasets\\coco\\images\\val2017\\000000343934.jpg: ignoring corrupt image/label: [Errno 2] No such file or directory: 'C:\\\\Users\\\\cwky\\\\datasets\\\\coco\\\\images\\\\val2017\\\\000000343934.jpg'\n",
      "\u001b[34m\u001b[1mval: \u001b[0mWARNING ⚠️ C:\\Users\\cwky\\datasets\\coco\\images\\val2017\\000000343976.jpg: ignoring corrupt image/label: [Errno 2] No such file or directory: 'C:\\\\Users\\\\cwky\\\\datasets\\\\coco\\\\images\\\\val2017\\\\000000343976.jpg'\n",
      "\u001b[34m\u001b[1mval: \u001b[0mWARNING ⚠️ C:\\Users\\cwky\\datasets\\coco\\images\\val2017\\000000344029.jpg: ignoring corrupt image/label: [Errno 2] No such file or directory: 'C:\\\\Users\\\\cwky\\\\datasets\\\\coco\\\\images\\\\val2017\\\\000000344029.jpg'\n",
      "\u001b[34m\u001b[1mval: \u001b[0mWARNING ⚠️ C:\\Users\\cwky\\datasets\\coco\\images\\val2017\\000000344816.jpg: ignoring corrupt image/label: [Errno 2] No such file or directory: 'C:\\\\Users\\\\cwky\\\\datasets\\\\coco\\\\images\\\\val2017\\\\000000344816.jpg'\n",
      "\u001b[34m\u001b[1mval: \u001b[0mWARNING ⚠️ C:\\Users\\cwky\\datasets\\coco\\images\\val2017\\000000345027.jpg: ignoring corrupt image/label: [Errno 2] No such file or directory: 'C:\\\\Users\\\\cwky\\\\datasets\\\\coco\\\\images\\\\val2017\\\\000000345027.jpg'\n",
      "\u001b[34m\u001b[1mval: \u001b[0mWARNING ⚠️ C:\\Users\\cwky\\datasets\\coco\\images\\val2017\\000000345261.jpg: ignoring corrupt image/label: [Errno 2] No such file or directory: 'C:\\\\Users\\\\cwky\\\\datasets\\\\coco\\\\images\\\\val2017\\\\000000345261.jpg'\n",
      "\u001b[34m\u001b[1mval: \u001b[0mWARNING ⚠️ C:\\Users\\cwky\\datasets\\coco\\images\\val2017\\000000345361.jpg: ignoring corrupt image/label: [Errno 2] No such file or directory: 'C:\\\\Users\\\\cwky\\\\datasets\\\\coco\\\\images\\\\val2017\\\\000000345361.jpg'\n",
      "\u001b[34m\u001b[1mval: \u001b[0mWARNING ⚠️ C:\\Users\\cwky\\datasets\\coco\\images\\val2017\\000000345469.jpg: ignoring corrupt image/label: [Errno 2] No such file or directory: 'C:\\\\Users\\\\cwky\\\\datasets\\\\coco\\\\images\\\\val2017\\\\000000345469.jpg'\n",
      "\u001b[34m\u001b[1mval: \u001b[0mWARNING ⚠️ C:\\Users\\cwky\\datasets\\coco\\images\\val2017\\000000346232.jpg: ignoring corrupt image/label: [Errno 2] No such file or directory: 'C:\\\\Users\\\\cwky\\\\datasets\\\\coco\\\\images\\\\val2017\\\\000000346232.jpg'\n",
      "\u001b[34m\u001b[1mval: \u001b[0mWARNING ⚠️ C:\\Users\\cwky\\datasets\\coco\\images\\val2017\\000000346703.jpg: ignoring corrupt image/label: [Errno 2] No such file or directory: 'C:\\\\Users\\\\cwky\\\\datasets\\\\coco\\\\images\\\\val2017\\\\000000346703.jpg'\n",
      "\u001b[34m\u001b[1mval: \u001b[0mWARNING ⚠️ C:\\Users\\cwky\\datasets\\coco\\images\\val2017\\000000347254.jpg: ignoring corrupt image/label: [Errno 2] No such file or directory: 'C:\\\\Users\\\\cwky\\\\datasets\\\\coco\\\\images\\\\val2017\\\\000000347254.jpg'\n",
      "\u001b[34m\u001b[1mval: \u001b[0mWARNING ⚠️ C:\\Users\\cwky\\datasets\\coco\\images\\val2017\\000000347456.jpg: ignoring corrupt image/label: [Errno 2] No such file or directory: 'C:\\\\Users\\\\cwky\\\\datasets\\\\coco\\\\images\\\\val2017\\\\000000347456.jpg'\n",
      "\u001b[34m\u001b[1mval: \u001b[0mWARNING ⚠️ C:\\Users\\cwky\\datasets\\coco\\images\\val2017\\000000347664.jpg: ignoring corrupt image/label: [Errno 2] No such file or directory: 'C:\\\\Users\\\\cwky\\\\datasets\\\\coco\\\\images\\\\val2017\\\\000000347664.jpg'\n",
      "\u001b[34m\u001b[1mval: \u001b[0mWARNING ⚠️ C:\\Users\\cwky\\datasets\\coco\\images\\val2017\\000000347693.jpg: ignoring corrupt image/label: [Errno 2] No such file or directory: 'C:\\\\Users\\\\cwky\\\\datasets\\\\coco\\\\images\\\\val2017\\\\000000347693.jpg'\n",
      "\u001b[34m\u001b[1mval: \u001b[0mWARNING ⚠️ C:\\Users\\cwky\\datasets\\coco\\images\\val2017\\000000348216.jpg: ignoring corrupt image/label: [Errno 2] No such file or directory: 'C:\\\\Users\\\\cwky\\\\datasets\\\\coco\\\\images\\\\val2017\\\\000000348216.jpg'\n",
      "\u001b[34m\u001b[1mval: \u001b[0mWARNING ⚠️ C:\\Users\\cwky\\datasets\\coco\\images\\val2017\\000000348481.jpg: ignoring corrupt image/label: [Errno 2] No such file or directory: 'C:\\\\Users\\\\cwky\\\\datasets\\\\coco\\\\images\\\\val2017\\\\000000348481.jpg'\n",
      "\u001b[34m\u001b[1mval: \u001b[0mWARNING ⚠️ C:\\Users\\cwky\\datasets\\coco\\images\\val2017\\000000348488.jpg: ignoring corrupt image/label: [Errno 2] No such file or directory: 'C:\\\\Users\\\\cwky\\\\datasets\\\\coco\\\\images\\\\val2017\\\\000000348488.jpg'\n",
      "\u001b[34m\u001b[1mval: \u001b[0mWARNING ⚠️ C:\\Users\\cwky\\datasets\\coco\\images\\val2017\\000000348708.jpg: ignoring corrupt image/label: [Errno 2] No such file or directory: 'C:\\\\Users\\\\cwky\\\\datasets\\\\coco\\\\images\\\\val2017\\\\000000348708.jpg'\n",
      "\u001b[34m\u001b[1mval: \u001b[0mWARNING ⚠️ C:\\Users\\cwky\\datasets\\coco\\images\\val2017\\000000349152.jpg: ignoring corrupt image/label: [Errno 2] No such file or directory: 'C:\\\\Users\\\\cwky\\\\datasets\\\\coco\\\\images\\\\val2017\\\\000000349152.jpg'\n",
      "\u001b[34m\u001b[1mval: \u001b[0mWARNING ⚠️ C:\\Users\\cwky\\datasets\\coco\\images\\val2017\\000000349302.jpg: ignoring corrupt image/label: [Errno 2] No such file or directory: 'C:\\\\Users\\\\cwky\\\\datasets\\\\coco\\\\images\\\\val2017\\\\000000349302.jpg'\n",
      "\u001b[34m\u001b[1mval: \u001b[0mWARNING ⚠️ C:\\Users\\cwky\\datasets\\coco\\images\\val2017\\000000349480.jpg: ignoring corrupt image/label: [Errno 2] No such file or directory: 'C:\\\\Users\\\\cwky\\\\datasets\\\\coco\\\\images\\\\val2017\\\\000000349480.jpg'\n",
      "\u001b[34m\u001b[1mval: \u001b[0mWARNING ⚠️ C:\\Users\\cwky\\datasets\\coco\\images\\val2017\\000000349860.jpg: ignoring corrupt image/label: [Errno 2] No such file or directory: 'C:\\\\Users\\\\cwky\\\\datasets\\\\coco\\\\images\\\\val2017\\\\000000349860.jpg'\n",
      "\u001b[34m\u001b[1mval: \u001b[0mWARNING ⚠️ C:\\Users\\cwky\\datasets\\coco\\images\\val2017\\000000350002.jpg: ignoring corrupt image/label: [Errno 2] No such file or directory: 'C:\\\\Users\\\\cwky\\\\datasets\\\\coco\\\\images\\\\val2017\\\\000000350002.jpg'\n",
      "\u001b[34m\u001b[1mval: \u001b[0mWARNING ⚠️ C:\\Users\\cwky\\datasets\\coco\\images\\val2017\\000000350023.jpg: ignoring corrupt image/label: [Errno 2] No such file or directory: 'C:\\\\Users\\\\cwky\\\\datasets\\\\coco\\\\images\\\\val2017\\\\000000350023.jpg'\n",
      "\u001b[34m\u001b[1mval: \u001b[0mWARNING ⚠️ C:\\Users\\cwky\\datasets\\coco\\images\\val2017\\000000350122.jpg: ignoring corrupt image/label: [Errno 2] No such file or directory: 'C:\\\\Users\\\\cwky\\\\datasets\\\\coco\\\\images\\\\val2017\\\\000000350122.jpg'\n",
      "\u001b[34m\u001b[1mval: \u001b[0mWARNING ⚠️ C:\\Users\\cwky\\datasets\\coco\\images\\val2017\\000000350488.jpg: ignoring corrupt image/label: [Errno 2] No such file or directory: 'C:\\\\Users\\\\cwky\\\\datasets\\\\coco\\\\images\\\\val2017\\\\000000350488.jpg'\n",
      "\u001b[34m\u001b[1mval: \u001b[0mWARNING ⚠️ C:\\Users\\cwky\\datasets\\coco\\images\\val2017\\000000350607.jpg: ignoring corrupt image/label: [Errno 2] No such file or directory: 'C:\\\\Users\\\\cwky\\\\datasets\\\\coco\\\\images\\\\val2017\\\\000000350607.jpg'\n",
      "\u001b[34m\u001b[1mval: \u001b[0mWARNING ⚠️ C:\\Users\\cwky\\datasets\\coco\\images\\val2017\\000000350679.jpg: ignoring corrupt image/label: [Errno 2] No such file or directory: 'C:\\\\Users\\\\cwky\\\\datasets\\\\coco\\\\images\\\\val2017\\\\000000350679.jpg'\n",
      "\u001b[34m\u001b[1mval: \u001b[0mWARNING ⚠️ C:\\Users\\cwky\\datasets\\coco\\images\\val2017\\000000351362.jpg: ignoring corrupt image/label: [Errno 2] No such file or directory: 'C:\\\\Users\\\\cwky\\\\datasets\\\\coco\\\\images\\\\val2017\\\\000000351362.jpg'\n",
      "\u001b[34m\u001b[1mval: \u001b[0mWARNING ⚠️ C:\\Users\\cwky\\datasets\\coco\\images\\val2017\\000000351559.jpg: ignoring corrupt image/label: [Errno 2] No such file or directory: 'C:\\\\Users\\\\cwky\\\\datasets\\\\coco\\\\images\\\\val2017\\\\000000351559.jpg'\n",
      "\u001b[34m\u001b[1mval: \u001b[0mWARNING ⚠️ C:\\Users\\cwky\\datasets\\coco\\images\\val2017\\000000352582.jpg: ignoring corrupt image/label: [Errno 2] No such file or directory: 'C:\\\\Users\\\\cwky\\\\datasets\\\\coco\\\\images\\\\val2017\\\\000000352582.jpg'\n",
      "\u001b[34m\u001b[1mval: \u001b[0mWARNING ⚠️ C:\\Users\\cwky\\datasets\\coco\\images\\val2017\\000000352684.jpg: ignoring corrupt image/label: [Errno 2] No such file or directory: 'C:\\\\Users\\\\cwky\\\\datasets\\\\coco\\\\images\\\\val2017\\\\000000352684.jpg'\n",
      "\u001b[34m\u001b[1mval: \u001b[0mWARNING ⚠️ C:\\Users\\cwky\\datasets\\coco\\images\\val2017\\000000353027.jpg: ignoring corrupt image/label: [Errno 2] No such file or directory: 'C:\\\\Users\\\\cwky\\\\datasets\\\\coco\\\\images\\\\val2017\\\\000000353027.jpg'\n",
      "\u001b[34m\u001b[1mval: \u001b[0mWARNING ⚠️ C:\\Users\\cwky\\datasets\\coco\\images\\val2017\\000000353096.jpg: ignoring corrupt image/label: [Errno 2] No such file or directory: 'C:\\\\Users\\\\cwky\\\\datasets\\\\coco\\\\images\\\\val2017\\\\000000353096.jpg'\n",
      "\u001b[34m\u001b[1mval: \u001b[0mWARNING ⚠️ C:\\Users\\cwky\\datasets\\coco\\images\\val2017\\000000353970.jpg: ignoring corrupt image/label: [Errno 2] No such file or directory: 'C:\\\\Users\\\\cwky\\\\datasets\\\\coco\\\\images\\\\val2017\\\\000000353970.jpg'\n",
      "\u001b[34m\u001b[1mval: \u001b[0mWARNING ⚠️ C:\\Users\\cwky\\datasets\\coco\\images\\val2017\\000000355169.jpg: ignoring corrupt image/label: [Errno 2] No such file or directory: 'C:\\\\Users\\\\cwky\\\\datasets\\\\coco\\\\images\\\\val2017\\\\000000355169.jpg'\n",
      "\u001b[34m\u001b[1mval: \u001b[0mWARNING ⚠️ C:\\Users\\cwky\\datasets\\coco\\images\\val2017\\000000355240.jpg: ignoring corrupt image/label: [Errno 2] No such file or directory: 'C:\\\\Users\\\\cwky\\\\datasets\\\\coco\\\\images\\\\val2017\\\\000000355240.jpg'\n",
      "\u001b[34m\u001b[1mval: \u001b[0mWARNING ⚠️ C:\\Users\\cwky\\datasets\\coco\\images\\val2017\\000000355257.jpg: ignoring corrupt image/label: [Errno 2] No such file or directory: 'C:\\\\Users\\\\cwky\\\\datasets\\\\coco\\\\images\\\\val2017\\\\000000355257.jpg'\n",
      "\u001b[34m\u001b[1mval: \u001b[0mWARNING ⚠️ C:\\Users\\cwky\\datasets\\coco\\images\\val2017\\000000355325.jpg: ignoring corrupt image/label: [Errno 2] No such file or directory: 'C:\\\\Users\\\\cwky\\\\datasets\\\\coco\\\\images\\\\val2017\\\\000000355325.jpg'\n",
      "\u001b[34m\u001b[1mval: \u001b[0mWARNING ⚠️ C:\\Users\\cwky\\datasets\\coco\\images\\val2017\\000000355610.jpg: ignoring corrupt image/label: [Errno 2] No such file or directory: 'C:\\\\Users\\\\cwky\\\\datasets\\\\coco\\\\images\\\\val2017\\\\000000355610.jpg'\n",
      "\u001b[34m\u001b[1mval: \u001b[0mWARNING ⚠️ C:\\Users\\cwky\\datasets\\coco\\images\\val2017\\000000355817.jpg: ignoring corrupt image/label: [Errno 2] No such file or directory: 'C:\\\\Users\\\\cwky\\\\datasets\\\\coco\\\\images\\\\val2017\\\\000000355817.jpg'\n",
      "\u001b[34m\u001b[1mval: \u001b[0mWARNING ⚠️ C:\\Users\\cwky\\datasets\\coco\\images\\val2017\\000000355905.jpg: ignoring corrupt image/label: [Errno 2] No such file or directory: 'C:\\\\Users\\\\cwky\\\\datasets\\\\coco\\\\images\\\\val2017\\\\000000355905.jpg'\n",
      "\u001b[34m\u001b[1mval: \u001b[0mWARNING ⚠️ C:\\Users\\cwky\\datasets\\coco\\images\\val2017\\000000356347.jpg: ignoring corrupt image/label: [Errno 2] No such file or directory: 'C:\\\\Users\\\\cwky\\\\datasets\\\\coco\\\\images\\\\val2017\\\\000000356347.jpg'\n",
      "\u001b[34m\u001b[1mval: \u001b[0mWARNING ⚠️ C:\\Users\\cwky\\datasets\\coco\\images\\val2017\\000000356424.jpg: ignoring corrupt image/label: [Errno 2] No such file or directory: 'C:\\\\Users\\\\cwky\\\\datasets\\\\coco\\\\images\\\\val2017\\\\000000356424.jpg'\n",
      "\u001b[34m\u001b[1mval: \u001b[0mWARNING ⚠️ C:\\Users\\cwky\\datasets\\coco\\images\\val2017\\000000356531.jpg: ignoring corrupt image/label: [Errno 2] No such file or directory: 'C:\\\\Users\\\\cwky\\\\datasets\\\\coco\\\\images\\\\val2017\\\\000000356531.jpg'\n",
      "\u001b[34m\u001b[1mval: \u001b[0mWARNING ⚠️ C:\\Users\\cwky\\datasets\\coco\\images\\val2017\\000000357567.jpg: ignoring corrupt image/label: [Errno 2] No such file or directory: 'C:\\\\Users\\\\cwky\\\\datasets\\\\coco\\\\images\\\\val2017\\\\000000357567.jpg'\n",
      "\u001b[34m\u001b[1mval: \u001b[0mWARNING ⚠️ C:\\Users\\cwky\\datasets\\coco\\images\\val2017\\000000357941.jpg: ignoring corrupt image/label: [Errno 2] No such file or directory: 'C:\\\\Users\\\\cwky\\\\datasets\\\\coco\\\\images\\\\val2017\\\\000000357941.jpg'\n",
      "\u001b[34m\u001b[1mval: \u001b[0mWARNING ⚠️ C:\\Users\\cwky\\datasets\\coco\\images\\val2017\\000000357978.jpg: ignoring corrupt image/label: [Errno 2] No such file or directory: 'C:\\\\Users\\\\cwky\\\\datasets\\\\coco\\\\images\\\\val2017\\\\000000357978.jpg'\n",
      "\u001b[34m\u001b[1mval: \u001b[0mWARNING ⚠️ C:\\Users\\cwky\\datasets\\coco\\images\\val2017\\000000358195.jpg: ignoring corrupt image/label: [Errno 2] No such file or directory: 'C:\\\\Users\\\\cwky\\\\datasets\\\\coco\\\\images\\\\val2017\\\\000000358195.jpg'\n",
      "\u001b[34m\u001b[1mval: \u001b[0mWARNING ⚠️ C:\\Users\\cwky\\datasets\\coco\\images\\val2017\\000000358427.jpg: ignoring corrupt image/label: [Errno 2] No such file or directory: 'C:\\\\Users\\\\cwky\\\\datasets\\\\coco\\\\images\\\\val2017\\\\000000358427.jpg'\n",
      "\u001b[34m\u001b[1mval: \u001b[0mWARNING ⚠️ C:\\Users\\cwky\\datasets\\coco\\images\\val2017\\000000358525.jpg: ignoring corrupt image/label: [Errno 2] No such file or directory: 'C:\\\\Users\\\\cwky\\\\datasets\\\\coco\\\\images\\\\val2017\\\\000000358525.jpg'\n",
      "\u001b[34m\u001b[1mval: \u001b[0mWARNING ⚠️ C:\\Users\\cwky\\datasets\\coco\\images\\val2017\\000000358923.jpg: ignoring corrupt image/label: [Errno 2] No such file or directory: 'C:\\\\Users\\\\cwky\\\\datasets\\\\coco\\\\images\\\\val2017\\\\000000358923.jpg'\n",
      "\u001b[34m\u001b[1mval: \u001b[0mWARNING ⚠️ C:\\Users\\cwky\\datasets\\coco\\images\\val2017\\000000359135.jpg: ignoring corrupt image/label: [Errno 2] No such file or directory: 'C:\\\\Users\\\\cwky\\\\datasets\\\\coco\\\\images\\\\val2017\\\\000000359135.jpg'\n",
      "\u001b[34m\u001b[1mval: \u001b[0mWARNING ⚠️ C:\\Users\\cwky\\datasets\\coco\\images\\val2017\\000000359833.jpg: ignoring corrupt image/label: [Errno 2] No such file or directory: 'C:\\\\Users\\\\cwky\\\\datasets\\\\coco\\\\images\\\\val2017\\\\000000359833.jpg'\n",
      "\u001b[34m\u001b[1mval: \u001b[0mWARNING ⚠️ C:\\Users\\cwky\\datasets\\coco\\images\\val2017\\000000360097.jpg: ignoring corrupt image/label: [Errno 2] No such file or directory: 'C:\\\\Users\\\\cwky\\\\datasets\\\\coco\\\\images\\\\val2017\\\\000000360097.jpg'\n",
      "\u001b[34m\u001b[1mval: \u001b[0mWARNING ⚠️ C:\\Users\\cwky\\datasets\\coco\\images\\val2017\\000000360137.jpg: ignoring corrupt image/label: [Errno 2] No such file or directory: 'C:\\\\Users\\\\cwky\\\\datasets\\\\coco\\\\images\\\\val2017\\\\000000360137.jpg'\n",
      "\u001b[34m\u001b[1mval: \u001b[0mWARNING ⚠️ C:\\Users\\cwky\\datasets\\coco\\images\\val2017\\000000360564.jpg: ignoring corrupt image/label: [Errno 2] No such file or directory: 'C:\\\\Users\\\\cwky\\\\datasets\\\\coco\\\\images\\\\val2017\\\\000000360564.jpg'\n",
      "\u001b[34m\u001b[1mval: \u001b[0mWARNING ⚠️ C:\\Users\\cwky\\datasets\\coco\\images\\val2017\\000000360943.jpg: ignoring corrupt image/label: [Errno 2] No such file or directory: 'C:\\\\Users\\\\cwky\\\\datasets\\\\coco\\\\images\\\\val2017\\\\000000360943.jpg'\n",
      "\u001b[34m\u001b[1mval: \u001b[0mWARNING ⚠️ C:\\Users\\cwky\\datasets\\coco\\images\\val2017\\000000361103.jpg: ignoring corrupt image/label: [Errno 2] No such file or directory: 'C:\\\\Users\\\\cwky\\\\datasets\\\\coco\\\\images\\\\val2017\\\\000000361103.jpg'\n",
      "\u001b[34m\u001b[1mval: \u001b[0mWARNING ⚠️ C:\\Users\\cwky\\datasets\\coco\\images\\val2017\\000000361142.jpg: ignoring corrupt image/label: [Errno 2] No such file or directory: 'C:\\\\Users\\\\cwky\\\\datasets\\\\coco\\\\images\\\\val2017\\\\000000361142.jpg'\n",
      "\u001b[34m\u001b[1mval: \u001b[0mWARNING ⚠️ C:\\Users\\cwky\\datasets\\coco\\images\\val2017\\000000361571.jpg: ignoring corrupt image/label: [Errno 2] No such file or directory: 'C:\\\\Users\\\\cwky\\\\datasets\\\\coco\\\\images\\\\val2017\\\\000000361571.jpg'\n",
      "\u001b[34m\u001b[1mval: \u001b[0mWARNING ⚠️ C:\\Users\\cwky\\datasets\\coco\\images\\val2017\\000000361621.jpg: ignoring corrupt image/label: [Errno 2] No such file or directory: 'C:\\\\Users\\\\cwky\\\\datasets\\\\coco\\\\images\\\\val2017\\\\000000361621.jpg'\n",
      "\u001b[34m\u001b[1mval: \u001b[0mWARNING ⚠️ C:\\Users\\cwky\\datasets\\coco\\images\\val2017\\000000363188.jpg: ignoring corrupt image/label: [Errno 2] No such file or directory: 'C:\\\\Users\\\\cwky\\\\datasets\\\\coco\\\\images\\\\val2017\\\\000000363188.jpg'\n",
      "\u001b[34m\u001b[1mval: \u001b[0mWARNING ⚠️ C:\\Users\\cwky\\datasets\\coco\\images\\val2017\\000000363207.jpg: ignoring corrupt image/label: [Errno 2] No such file or directory: 'C:\\\\Users\\\\cwky\\\\datasets\\\\coco\\\\images\\\\val2017\\\\000000363207.jpg'\n",
      "\u001b[34m\u001b[1mval: \u001b[0mWARNING ⚠️ C:\\Users\\cwky\\datasets\\coco\\images\\val2017\\000000363784.jpg: ignoring corrupt image/label: [Errno 2] No such file or directory: 'C:\\\\Users\\\\cwky\\\\datasets\\\\coco\\\\images\\\\val2017\\\\000000363784.jpg'\n",
      "\u001b[34m\u001b[1mval: \u001b[0mWARNING ⚠️ C:\\Users\\cwky\\datasets\\coco\\images\\val2017\\000000364297.jpg: ignoring corrupt image/label: [Errno 2] No such file or directory: 'C:\\\\Users\\\\cwky\\\\datasets\\\\coco\\\\images\\\\val2017\\\\000000364297.jpg'\n",
      "\u001b[34m\u001b[1mval: \u001b[0mWARNING ⚠️ C:\\Users\\cwky\\datasets\\coco\\images\\val2017\\000000364587.jpg: ignoring corrupt image/label: [Errno 2] No such file or directory: 'C:\\\\Users\\\\cwky\\\\datasets\\\\coco\\\\images\\\\val2017\\\\000000364587.jpg'\n",
      "\u001b[34m\u001b[1mval: \u001b[0mWARNING ⚠️ C:\\Users\\cwky\\datasets\\coco\\images\\val2017\\000000365095.jpg: ignoring corrupt image/label: [Errno 2] No such file or directory: 'C:\\\\Users\\\\cwky\\\\datasets\\\\coco\\\\images\\\\val2017\\\\000000365095.jpg'\n",
      "\u001b[34m\u001b[1mval: \u001b[0mWARNING ⚠️ C:\\Users\\cwky\\datasets\\coco\\images\\val2017\\000000365385.jpg: ignoring corrupt image/label: [Errno 2] No such file or directory: 'C:\\\\Users\\\\cwky\\\\datasets\\\\coco\\\\images\\\\val2017\\\\000000365385.jpg'\n",
      "\u001b[34m\u001b[1mval: \u001b[0mWARNING ⚠️ C:\\Users\\cwky\\datasets\\coco\\images\\val2017\\000000365655.jpg: ignoring corrupt image/label: [Errno 2] No such file or directory: 'C:\\\\Users\\\\cwky\\\\datasets\\\\coco\\\\images\\\\val2017\\\\000000365655.jpg'\n",
      "\u001b[34m\u001b[1mval: \u001b[0mWARNING ⚠️ C:\\Users\\cwky\\datasets\\coco\\images\\val2017\\000000365766.jpg: ignoring corrupt image/label: [Errno 2] No such file or directory: 'C:\\\\Users\\\\cwky\\\\datasets\\\\coco\\\\images\\\\val2017\\\\000000365766.jpg'\n",
      "\u001b[34m\u001b[1mval: \u001b[0mWARNING ⚠️ C:\\Users\\cwky\\datasets\\coco\\images\\val2017\\000000366199.jpg: ignoring corrupt image/label: [Errno 2] No such file or directory: 'C:\\\\Users\\\\cwky\\\\datasets\\\\coco\\\\images\\\\val2017\\\\000000366199.jpg'\n",
      "\u001b[34m\u001b[1mval: \u001b[0mWARNING ⚠️ C:\\Users\\cwky\\datasets\\coco\\images\\val2017\\000000366611.jpg: ignoring corrupt image/label: [Errno 2] No such file or directory: 'C:\\\\Users\\\\cwky\\\\datasets\\\\coco\\\\images\\\\val2017\\\\000000366611.jpg'\n",
      "\u001b[34m\u001b[1mval: \u001b[0mWARNING ⚠️ C:\\Users\\cwky\\datasets\\coco\\images\\val2017\\000000367082.jpg: ignoring corrupt image/label: [Errno 2] No such file or directory: 'C:\\\\Users\\\\cwky\\\\datasets\\\\coco\\\\images\\\\val2017\\\\000000367082.jpg'\n",
      "\u001b[34m\u001b[1mval: \u001b[0mWARNING ⚠️ C:\\Users\\cwky\\datasets\\coco\\images\\val2017\\000000367195.jpg: ignoring corrupt image/label: [Errno 2] No such file or directory: 'C:\\\\Users\\\\cwky\\\\datasets\\\\coco\\\\images\\\\val2017\\\\000000367195.jpg'\n",
      "\u001b[34m\u001b[1mval: \u001b[0mWARNING ⚠️ C:\\Users\\cwky\\datasets\\coco\\images\\val2017\\000000367228.jpg: ignoring corrupt image/label: [Errno 2] No such file or directory: 'C:\\\\Users\\\\cwky\\\\datasets\\\\coco\\\\images\\\\val2017\\\\000000367228.jpg'\n",
      "\u001b[34m\u001b[1mval: \u001b[0mWARNING ⚠️ C:\\Users\\cwky\\datasets\\coco\\images\\val2017\\000000367386.jpg: ignoring corrupt image/label: [Errno 2] No such file or directory: 'C:\\\\Users\\\\cwky\\\\datasets\\\\coco\\\\images\\\\val2017\\\\000000367386.jpg'\n",
      "\u001b[34m\u001b[1mval: \u001b[0mWARNING ⚠️ C:\\Users\\cwky\\datasets\\coco\\images\\val2017\\000000367818.jpg: ignoring corrupt image/label: [Errno 2] No such file or directory: 'C:\\\\Users\\\\cwky\\\\datasets\\\\coco\\\\images\\\\val2017\\\\000000367818.jpg'\n",
      "\u001b[34m\u001b[1mval: \u001b[0mWARNING ⚠️ C:\\Users\\cwky\\datasets\\coco\\images\\val2017\\000000368212.jpg: ignoring corrupt image/label: [Errno 2] No such file or directory: 'C:\\\\Users\\\\cwky\\\\datasets\\\\coco\\\\images\\\\val2017\\\\000000368212.jpg'\n",
      "\u001b[34m\u001b[1mval: \u001b[0mWARNING ⚠️ C:\\Users\\cwky\\datasets\\coco\\images\\val2017\\000000368294.jpg: ignoring corrupt image/label: [Errno 2] No such file or directory: 'C:\\\\Users\\\\cwky\\\\datasets\\\\coco\\\\images\\\\val2017\\\\000000368294.jpg'\n",
      "\u001b[34m\u001b[1mval: \u001b[0mWARNING ⚠️ C:\\Users\\cwky\\datasets\\coco\\images\\val2017\\000000368456.jpg: ignoring corrupt image/label: [Errno 2] No such file or directory: 'C:\\\\Users\\\\cwky\\\\datasets\\\\coco\\\\images\\\\val2017\\\\000000368456.jpg'\n",
      "\u001b[34m\u001b[1mval: \u001b[0mWARNING ⚠️ C:\\Users\\cwky\\datasets\\coco\\images\\val2017\\000000369037.jpg: ignoring corrupt image/label: [Errno 2] No such file or directory: 'C:\\\\Users\\\\cwky\\\\datasets\\\\coco\\\\images\\\\val2017\\\\000000369037.jpg'\n",
      "\u001b[34m\u001b[1mval: \u001b[0mWARNING ⚠️ C:\\Users\\cwky\\datasets\\coco\\images\\val2017\\000000369081.jpg: ignoring corrupt image/label: [Errno 2] No such file or directory: 'C:\\\\Users\\\\cwky\\\\datasets\\\\coco\\\\images\\\\val2017\\\\000000369081.jpg'\n",
      "\u001b[34m\u001b[1mval: \u001b[0mWARNING ⚠️ C:\\Users\\cwky\\datasets\\coco\\images\\val2017\\000000369310.jpg: ignoring corrupt image/label: [Errno 2] No such file or directory: 'C:\\\\Users\\\\cwky\\\\datasets\\\\coco\\\\images\\\\val2017\\\\000000369310.jpg'\n",
      "\u001b[34m\u001b[1mval: \u001b[0mWARNING ⚠️ C:\\Users\\cwky\\datasets\\coco\\images\\val2017\\000000369323.jpg: ignoring corrupt image/label: [Errno 2] No such file or directory: 'C:\\\\Users\\\\cwky\\\\datasets\\\\coco\\\\images\\\\val2017\\\\000000369323.jpg'\n",
      "\u001b[34m\u001b[1mval: \u001b[0mWARNING ⚠️ C:\\Users\\cwky\\datasets\\coco\\images\\val2017\\000000369442.jpg: ignoring corrupt image/label: [Errno 2] No such file or directory: 'C:\\\\Users\\\\cwky\\\\datasets\\\\coco\\\\images\\\\val2017\\\\000000369442.jpg'\n",
      "\u001b[34m\u001b[1mval: \u001b[0mWARNING ⚠️ C:\\Users\\cwky\\datasets\\coco\\images\\val2017\\000000369675.jpg: ignoring corrupt image/label: [Errno 2] No such file or directory: 'C:\\\\Users\\\\cwky\\\\datasets\\\\coco\\\\images\\\\val2017\\\\000000369675.jpg'\n",
      "\u001b[34m\u001b[1mval: \u001b[0mWARNING ⚠️ C:\\Users\\cwky\\datasets\\coco\\images\\val2017\\000000370375.jpg: ignoring corrupt image/label: [Errno 2] No such file or directory: 'C:\\\\Users\\\\cwky\\\\datasets\\\\coco\\\\images\\\\val2017\\\\000000370375.jpg'\n",
      "\u001b[34m\u001b[1mval: \u001b[0mWARNING ⚠️ C:\\Users\\cwky\\datasets\\coco\\images\\val2017\\000000370486.jpg: ignoring corrupt image/label: [Errno 2] No such file or directory: 'C:\\\\Users\\\\cwky\\\\datasets\\\\coco\\\\images\\\\val2017\\\\000000370486.jpg'\n",
      "\u001b[34m\u001b[1mval: \u001b[0mWARNING ⚠️ C:\\Users\\cwky\\datasets\\coco\\images\\val2017\\000000370900.jpg: ignoring corrupt image/label: [Errno 2] No such file or directory: 'C:\\\\Users\\\\cwky\\\\datasets\\\\coco\\\\images\\\\val2017\\\\000000370900.jpg'\n",
      "\u001b[34m\u001b[1mval: \u001b[0mWARNING ⚠️ C:\\Users\\cwky\\datasets\\coco\\images\\val2017\\000000370999.jpg: ignoring corrupt image/label: [Errno 2] No such file or directory: 'C:\\\\Users\\\\cwky\\\\datasets\\\\coco\\\\images\\\\val2017\\\\000000370999.jpg'\n",
      "\u001b[34m\u001b[1mval: \u001b[0mWARNING ⚠️ C:\\Users\\cwky\\datasets\\coco\\images\\val2017\\000000371042.jpg: ignoring corrupt image/label: [Errno 2] No such file or directory: 'C:\\\\Users\\\\cwky\\\\datasets\\\\coco\\\\images\\\\val2017\\\\000000371042.jpg'\n",
      "\u001b[34m\u001b[1mval: \u001b[0mWARNING ⚠️ C:\\Users\\cwky\\datasets\\coco\\images\\val2017\\000000371529.jpg: ignoring corrupt image/label: [Errno 2] No such file or directory: 'C:\\\\Users\\\\cwky\\\\datasets\\\\coco\\\\images\\\\val2017\\\\000000371529.jpg'\n",
      "\u001b[34m\u001b[1mval: \u001b[0mWARNING ⚠️ C:\\Users\\cwky\\datasets\\coco\\images\\val2017\\000000371699.jpg: ignoring corrupt image/label: [Errno 2] No such file or directory: 'C:\\\\Users\\\\cwky\\\\datasets\\\\coco\\\\images\\\\val2017\\\\000000371699.jpg'\n",
      "\u001b[34m\u001b[1mval: \u001b[0mWARNING ⚠️ C:\\Users\\cwky\\datasets\\coco\\images\\val2017\\000000372260.jpg: ignoring corrupt image/label: [Errno 2] No such file or directory: 'C:\\\\Users\\\\cwky\\\\datasets\\\\coco\\\\images\\\\val2017\\\\000000372260.jpg'\n",
      "\u001b[34m\u001b[1mval: \u001b[0mWARNING ⚠️ C:\\Users\\cwky\\datasets\\coco\\images\\val2017\\000000372577.jpg: ignoring corrupt image/label: [Errno 2] No such file or directory: 'C:\\\\Users\\\\cwky\\\\datasets\\\\coco\\\\images\\\\val2017\\\\000000372577.jpg'\n",
      "\u001b[34m\u001b[1mval: \u001b[0mWARNING ⚠️ C:\\Users\\cwky\\datasets\\coco\\images\\val2017\\000000372819.jpg: ignoring corrupt image/label: [Errno 2] No such file or directory: 'C:\\\\Users\\\\cwky\\\\datasets\\\\coco\\\\images\\\\val2017\\\\000000372819.jpg'\n",
      "\u001b[34m\u001b[1mval: \u001b[0mWARNING ⚠️ C:\\Users\\cwky\\datasets\\coco\\images\\val2017\\000000374369.jpg: ignoring corrupt image/label: [Errno 2] No such file or directory: 'C:\\\\Users\\\\cwky\\\\datasets\\\\coco\\\\images\\\\val2017\\\\000000374369.jpg'\n",
      "\u001b[34m\u001b[1mval: \u001b[0mWARNING ⚠️ C:\\Users\\cwky\\datasets\\coco\\images\\val2017\\000000374545.jpg: ignoring corrupt image/label: [Errno 2] No such file or directory: 'C:\\\\Users\\\\cwky\\\\datasets\\\\coco\\\\images\\\\val2017\\\\000000374545.jpg'\n",
      "\u001b[34m\u001b[1mval: \u001b[0mWARNING ⚠️ C:\\Users\\cwky\\datasets\\coco\\images\\val2017\\000000374551.jpg: ignoring corrupt image/label: [Errno 2] No such file or directory: 'C:\\\\Users\\\\cwky\\\\datasets\\\\coco\\\\images\\\\val2017\\\\000000374551.jpg'\n",
      "\u001b[34m\u001b[1mval: \u001b[0mWARNING ⚠️ C:\\Users\\cwky\\datasets\\coco\\images\\val2017\\000000375015.jpg: ignoring corrupt image/label: [Errno 2] No such file or directory: 'C:\\\\Users\\\\cwky\\\\datasets\\\\coco\\\\images\\\\val2017\\\\000000375015.jpg'\n",
      "\u001b[34m\u001b[1mval: \u001b[0mWARNING ⚠️ C:\\Users\\cwky\\datasets\\coco\\images\\val2017\\000000375078.jpg: ignoring corrupt image/label: [Errno 2] No such file or directory: 'C:\\\\Users\\\\cwky\\\\datasets\\\\coco\\\\images\\\\val2017\\\\000000375078.jpg'\n",
      "\u001b[34m\u001b[1mval: \u001b[0mWARNING ⚠️ C:\\Users\\cwky\\datasets\\coco\\images\\val2017\\000000375493.jpg: ignoring corrupt image/label: [Errno 2] No such file or directory: 'C:\\\\Users\\\\cwky\\\\datasets\\\\coco\\\\images\\\\val2017\\\\000000375493.jpg'\n",
      "\u001b[34m\u001b[1mval: \u001b[0mWARNING ⚠️ C:\\Users\\cwky\\datasets\\coco\\images\\val2017\\000000376264.jpg: ignoring corrupt image/label: [Errno 2] No such file or directory: 'C:\\\\Users\\\\cwky\\\\datasets\\\\coco\\\\images\\\\val2017\\\\000000376264.jpg'\n",
      "\u001b[34m\u001b[1mval: \u001b[0mWARNING ⚠️ C:\\Users\\cwky\\datasets\\coco\\images\\val2017\\000000376284.jpg: ignoring corrupt image/label: [Errno 2] No such file or directory: 'C:\\\\Users\\\\cwky\\\\datasets\\\\coco\\\\images\\\\val2017\\\\000000376284.jpg'\n",
      "\u001b[34m\u001b[1mval: \u001b[0mWARNING ⚠️ C:\\Users\\cwky\\datasets\\coco\\images\\val2017\\000000376322.jpg: ignoring corrupt image/label: [Errno 2] No such file or directory: 'C:\\\\Users\\\\cwky\\\\datasets\\\\coco\\\\images\\\\val2017\\\\000000376322.jpg'\n",
      "\u001b[34m\u001b[1mval: \u001b[0mWARNING ⚠️ C:\\Users\\cwky\\datasets\\coco\\images\\val2017\\000000376478.jpg: ignoring corrupt image/label: [Errno 2] No such file or directory: 'C:\\\\Users\\\\cwky\\\\datasets\\\\coco\\\\images\\\\val2017\\\\000000376478.jpg'\n",
      "\u001b[34m\u001b[1mval: \u001b[0mWARNING ⚠️ C:\\Users\\cwky\\datasets\\coco\\images\\val2017\\000000376856.jpg: ignoring corrupt image/label: [Errno 2] No such file or directory: 'C:\\\\Users\\\\cwky\\\\datasets\\\\coco\\\\images\\\\val2017\\\\000000376856.jpg'\n",
      "\u001b[34m\u001b[1mval: \u001b[0mWARNING ⚠️ C:\\Users\\cwky\\datasets\\coco\\images\\val2017\\000000377000.jpg: ignoring corrupt image/label: [Errno 2] No such file or directory: 'C:\\\\Users\\\\cwky\\\\datasets\\\\coco\\\\images\\\\val2017\\\\000000377000.jpg'\n",
      "\u001b[34m\u001b[1mval: \u001b[0mWARNING ⚠️ C:\\Users\\cwky\\datasets\\coco\\images\\val2017\\000000377113.jpg: ignoring corrupt image/label: [Errno 2] No such file or directory: 'C:\\\\Users\\\\cwky\\\\datasets\\\\coco\\\\images\\\\val2017\\\\000000377113.jpg'\n",
      "\u001b[34m\u001b[1mval: \u001b[0mWARNING ⚠️ C:\\Users\\cwky\\datasets\\coco\\images\\val2017\\000000377368.jpg: ignoring corrupt image/label: [Errno 2] No such file or directory: 'C:\\\\Users\\\\cwky\\\\datasets\\\\coco\\\\images\\\\val2017\\\\000000377368.jpg'\n",
      "\u001b[34m\u001b[1mval: \u001b[0mWARNING ⚠️ C:\\Users\\cwky\\datasets\\coco\\images\\val2017\\000000377393.jpg: ignoring corrupt image/label: [Errno 2] No such file or directory: 'C:\\\\Users\\\\cwky\\\\datasets\\\\coco\\\\images\\\\val2017\\\\000000377393.jpg'\n",
      "\u001b[34m\u001b[1mval: \u001b[0mWARNING ⚠️ C:\\Users\\cwky\\datasets\\coco\\images\\val2017\\000000377486.jpg: ignoring corrupt image/label: [Errno 2] No such file or directory: 'C:\\\\Users\\\\cwky\\\\datasets\\\\coco\\\\images\\\\val2017\\\\000000377486.jpg'\n",
      "\u001b[34m\u001b[1mval: \u001b[0mWARNING ⚠️ C:\\Users\\cwky\\datasets\\coco\\images\\val2017\\000000377588.jpg: ignoring corrupt image/label: [Errno 2] No such file or directory: 'C:\\\\Users\\\\cwky\\\\datasets\\\\coco\\\\images\\\\val2017\\\\000000377588.jpg'\n",
      "\u001b[34m\u001b[1mval: \u001b[0mWARNING ⚠️ C:\\Users\\cwky\\datasets\\coco\\images\\val2017\\000000377670.jpg: ignoring corrupt image/label: [Errno 2] No such file or directory: 'C:\\\\Users\\\\cwky\\\\datasets\\\\coco\\\\images\\\\val2017\\\\000000377670.jpg'\n",
      "\u001b[34m\u001b[1mval: \u001b[0mWARNING ⚠️ C:\\Users\\cwky\\datasets\\coco\\images\\val2017\\000000377723.jpg: ignoring corrupt image/label: [Errno 2] No such file or directory: 'C:\\\\Users\\\\cwky\\\\datasets\\\\coco\\\\images\\\\val2017\\\\000000377723.jpg'\n",
      "\u001b[34m\u001b[1mval: \u001b[0mWARNING ⚠️ C:\\Users\\cwky\\datasets\\coco\\images\\val2017\\000000377814.jpg: ignoring corrupt image/label: [Errno 2] No such file or directory: 'C:\\\\Users\\\\cwky\\\\datasets\\\\coco\\\\images\\\\val2017\\\\000000377814.jpg'\n",
      "\u001b[34m\u001b[1mval: \u001b[0mWARNING ⚠️ C:\\Users\\cwky\\datasets\\coco\\images\\val2017\\000000377882.jpg: ignoring corrupt image/label: [Errno 2] No such file or directory: 'C:\\\\Users\\\\cwky\\\\datasets\\\\coco\\\\images\\\\val2017\\\\000000377882.jpg'\n",
      "\u001b[34m\u001b[1mval: \u001b[0mWARNING ⚠️ C:\\Users\\cwky\\datasets\\coco\\images\\val2017\\000000377946.jpg: ignoring corrupt image/label: [Errno 2] No such file or directory: 'C:\\\\Users\\\\cwky\\\\datasets\\\\coco\\\\images\\\\val2017\\\\000000377946.jpg'\n",
      "\u001b[34m\u001b[1mval: \u001b[0mWARNING ⚠️ C:\\Users\\cwky\\datasets\\coco\\images\\val2017\\000000378099.jpg: ignoring corrupt image/label: [Errno 2] No such file or directory: 'C:\\\\Users\\\\cwky\\\\datasets\\\\coco\\\\images\\\\val2017\\\\000000378099.jpg'\n",
      "\u001b[34m\u001b[1mval: \u001b[0mWARNING ⚠️ C:\\Users\\cwky\\datasets\\coco\\images\\val2017\\000000378116.jpg: ignoring corrupt image/label: [Errno 2] No such file or directory: 'C:\\\\Users\\\\cwky\\\\datasets\\\\coco\\\\images\\\\val2017\\\\000000378116.jpg'\n",
      "\u001b[34m\u001b[1mval: \u001b[0mWARNING ⚠️ C:\\Users\\cwky\\datasets\\coco\\images\\val2017\\000000378453.jpg: ignoring corrupt image/label: [Errno 2] No such file or directory: 'C:\\\\Users\\\\cwky\\\\datasets\\\\coco\\\\images\\\\val2017\\\\000000378453.jpg'\n",
      "\u001b[34m\u001b[1mval: \u001b[0mWARNING ⚠️ C:\\Users\\cwky\\datasets\\coco\\images\\val2017\\000000378454.jpg: ignoring corrupt image/label: [Errno 2] No such file or directory: 'C:\\\\Users\\\\cwky\\\\datasets\\\\coco\\\\images\\\\val2017\\\\000000378454.jpg'\n",
      "\u001b[34m\u001b[1mval: \u001b[0mWARNING ⚠️ C:\\Users\\cwky\\datasets\\coco\\images\\val2017\\000000378873.jpg: ignoring corrupt image/label: [Errno 2] No such file or directory: 'C:\\\\Users\\\\cwky\\\\datasets\\\\coco\\\\images\\\\val2017\\\\000000378873.jpg'\n",
      "\u001b[34m\u001b[1mval: \u001b[0mWARNING ⚠️ C:\\Users\\cwky\\datasets\\coco\\images\\val2017\\000000379800.jpg: ignoring corrupt image/label: [Errno 2] No such file or directory: 'C:\\\\Users\\\\cwky\\\\datasets\\\\coco\\\\images\\\\val2017\\\\000000379800.jpg'\n",
      "\u001b[34m\u001b[1mval: \u001b[0mWARNING ⚠️ C:\\Users\\cwky\\datasets\\coco\\images\\val2017\\000000379842.jpg: ignoring corrupt image/label: [Errno 2] No such file or directory: 'C:\\\\Users\\\\cwky\\\\datasets\\\\coco\\\\images\\\\val2017\\\\000000379842.jpg'\n",
      "\u001b[34m\u001b[1mval: \u001b[0mWARNING ⚠️ C:\\Users\\cwky\\datasets\\coco\\images\\val2017\\000000380706.jpg: ignoring corrupt image/label: [Errno 2] No such file or directory: 'C:\\\\Users\\\\cwky\\\\datasets\\\\coco\\\\images\\\\val2017\\\\000000380706.jpg'\n",
      "\u001b[34m\u001b[1mval: \u001b[0mWARNING ⚠️ C:\\Users\\cwky\\datasets\\coco\\images\\val2017\\000000380711.jpg: ignoring corrupt image/label: [Errno 2] No such file or directory: 'C:\\\\Users\\\\cwky\\\\datasets\\\\coco\\\\images\\\\val2017\\\\000000380711.jpg'\n",
      "\u001b[34m\u001b[1mval: \u001b[0mWARNING ⚠️ C:\\Users\\cwky\\datasets\\coco\\images\\val2017\\000000381639.jpg: ignoring corrupt image/label: [Errno 2] No such file or directory: 'C:\\\\Users\\\\cwky\\\\datasets\\\\coco\\\\images\\\\val2017\\\\000000381639.jpg'\n",
      "\u001b[34m\u001b[1mval: \u001b[0mWARNING ⚠️ C:\\Users\\cwky\\datasets\\coco\\images\\val2017\\000000381971.jpg: ignoring corrupt image/label: [Errno 2] No such file or directory: 'C:\\\\Users\\\\cwky\\\\datasets\\\\coco\\\\images\\\\val2017\\\\000000381971.jpg'\n",
      "\u001b[34m\u001b[1mval: \u001b[0mWARNING ⚠️ C:\\Users\\cwky\\datasets\\coco\\images\\val2017\\000000382009.jpg: ignoring corrupt image/label: [Errno 2] No such file or directory: 'C:\\\\Users\\\\cwky\\\\datasets\\\\coco\\\\images\\\\val2017\\\\000000382009.jpg'\n",
      "\u001b[34m\u001b[1mval: \u001b[0mWARNING ⚠️ C:\\Users\\cwky\\datasets\\coco\\images\\val2017\\000000382111.jpg: ignoring corrupt image/label: [Errno 2] No such file or directory: 'C:\\\\Users\\\\cwky\\\\datasets\\\\coco\\\\images\\\\val2017\\\\000000382111.jpg'\n",
      "\u001b[34m\u001b[1mval: \u001b[0mWARNING ⚠️ C:\\Users\\cwky\\datasets\\coco\\images\\val2017\\000000382122.jpg: ignoring corrupt image/label: [Errno 2] No such file or directory: 'C:\\\\Users\\\\cwky\\\\datasets\\\\coco\\\\images\\\\val2017\\\\000000382122.jpg'\n",
      "\u001b[34m\u001b[1mval: \u001b[0mWARNING ⚠️ C:\\Users\\cwky\\datasets\\coco\\images\\val2017\\000000383289.jpg: ignoring corrupt image/label: [Errno 2] No such file or directory: 'C:\\\\Users\\\\cwky\\\\datasets\\\\coco\\\\images\\\\val2017\\\\000000383289.jpg'\n",
      "\u001b[34m\u001b[1mval: \u001b[0mWARNING ⚠️ C:\\Users\\cwky\\datasets\\coco\\images\\val2017\\000000383443.jpg: ignoring corrupt image/label: [Errno 2] No such file or directory: 'C:\\\\Users\\\\cwky\\\\datasets\\\\coco\\\\images\\\\val2017\\\\000000383443.jpg'\n",
      "\u001b[34m\u001b[1mval: \u001b[0mWARNING ⚠️ C:\\Users\\cwky\\datasets\\coco\\images\\val2017\\000000383606.jpg: ignoring corrupt image/label: [Errno 2] No such file or directory: 'C:\\\\Users\\\\cwky\\\\datasets\\\\coco\\\\images\\\\val2017\\\\000000383606.jpg'\n",
      "\u001b[34m\u001b[1mval: \u001b[0mWARNING ⚠️ C:\\Users\\cwky\\datasets\\coco\\images\\val2017\\000000383676.jpg: ignoring corrupt image/label: [Errno 2] No such file or directory: 'C:\\\\Users\\\\cwky\\\\datasets\\\\coco\\\\images\\\\val2017\\\\000000383676.jpg'\n",
      "\u001b[34m\u001b[1mval: \u001b[0mWARNING ⚠️ C:\\Users\\cwky\\datasets\\coco\\images\\val2017\\000000383842.jpg: ignoring corrupt image/label: [Errno 2] No such file or directory: 'C:\\\\Users\\\\cwky\\\\datasets\\\\coco\\\\images\\\\val2017\\\\000000383842.jpg'\n",
      "\u001b[34m\u001b[1mval: \u001b[0mWARNING ⚠️ C:\\Users\\cwky\\datasets\\coco\\images\\val2017\\000000384616.jpg: ignoring corrupt image/label: [Errno 2] No such file or directory: 'C:\\\\Users\\\\cwky\\\\datasets\\\\coco\\\\images\\\\val2017\\\\000000384616.jpg'\n",
      "\u001b[34m\u001b[1mval: \u001b[0mWARNING ⚠️ C:\\Users\\cwky\\datasets\\coco\\images\\val2017\\000000384651.jpg: ignoring corrupt image/label: [Errno 2] No such file or directory: 'C:\\\\Users\\\\cwky\\\\datasets\\\\coco\\\\images\\\\val2017\\\\000000384651.jpg'\n",
      "\u001b[34m\u001b[1mval: \u001b[0mWARNING ⚠️ C:\\Users\\cwky\\datasets\\coco\\images\\val2017\\000000384661.jpg: ignoring corrupt image/label: [Errno 2] No such file or directory: 'C:\\\\Users\\\\cwky\\\\datasets\\\\coco\\\\images\\\\val2017\\\\000000384661.jpg'\n",
      "\u001b[34m\u001b[1mval: \u001b[0mWARNING ⚠️ C:\\Users\\cwky\\datasets\\coco\\images\\val2017\\000000384666.jpg: ignoring corrupt image/label: [Errno 2] No such file or directory: 'C:\\\\Users\\\\cwky\\\\datasets\\\\coco\\\\images\\\\val2017\\\\000000384666.jpg'\n",
      "\u001b[34m\u001b[1mval: \u001b[0mWARNING ⚠️ C:\\Users\\cwky\\datasets\\coco\\images\\val2017\\000000384949.jpg: ignoring corrupt image/label: [Errno 2] No such file or directory: 'C:\\\\Users\\\\cwky\\\\datasets\\\\coco\\\\images\\\\val2017\\\\000000384949.jpg'\n",
      "\u001b[34m\u001b[1mval: \u001b[0mWARNING ⚠️ C:\\Users\\cwky\\datasets\\coco\\images\\val2017\\000000385029.jpg: ignoring corrupt image/label: [Errno 2] No such file or directory: 'C:\\\\Users\\\\cwky\\\\datasets\\\\coco\\\\images\\\\val2017\\\\000000385029.jpg'\n",
      "\u001b[34m\u001b[1mval: \u001b[0mWARNING ⚠️ C:\\Users\\cwky\\datasets\\coco\\images\\val2017\\000000385205.jpg: ignoring corrupt image/label: [Errno 2] No such file or directory: 'C:\\\\Users\\\\cwky\\\\datasets\\\\coco\\\\images\\\\val2017\\\\000000385205.jpg'\n",
      "\u001b[34m\u001b[1mval: \u001b[0mWARNING ⚠️ C:\\Users\\cwky\\datasets\\coco\\images\\val2017\\000000385719.jpg: ignoring corrupt image/label: [Errno 2] No such file or directory: 'C:\\\\Users\\\\cwky\\\\datasets\\\\coco\\\\images\\\\val2017\\\\000000385719.jpg'\n",
      "\u001b[34m\u001b[1mval: \u001b[0mWARNING ⚠️ C:\\Users\\cwky\\datasets\\coco\\images\\val2017\\000000386134.jpg: ignoring corrupt image/label: [Errno 2] No such file or directory: 'C:\\\\Users\\\\cwky\\\\datasets\\\\coco\\\\images\\\\val2017\\\\000000386134.jpg'\n",
      "\u001b[34m\u001b[1mval: \u001b[0mWARNING ⚠️ C:\\Users\\cwky\\datasets\\coco\\images\\val2017\\000000386879.jpg: ignoring corrupt image/label: [Errno 2] No such file or directory: 'C:\\\\Users\\\\cwky\\\\datasets\\\\coco\\\\images\\\\val2017\\\\000000386879.jpg'\n",
      "\u001b[34m\u001b[1mval: \u001b[0mWARNING ⚠️ C:\\Users\\cwky\\datasets\\coco\\images\\val2017\\000000388258.jpg: ignoring corrupt image/label: [Errno 2] No such file or directory: 'C:\\\\Users\\\\cwky\\\\datasets\\\\coco\\\\images\\\\val2017\\\\000000388258.jpg'\n",
      "\u001b[34m\u001b[1mval: \u001b[0mWARNING ⚠️ C:\\Users\\cwky\\datasets\\coco\\images\\val2017\\000000388846.jpg: ignoring corrupt image/label: [Errno 2] No such file or directory: 'C:\\\\Users\\\\cwky\\\\datasets\\\\coco\\\\images\\\\val2017\\\\000000388846.jpg'\n",
      "\u001b[34m\u001b[1mval: \u001b[0mWARNING ⚠️ C:\\Users\\cwky\\datasets\\coco\\images\\val2017\\000000388903.jpg: ignoring corrupt image/label: [Errno 2] No such file or directory: 'C:\\\\Users\\\\cwky\\\\datasets\\\\coco\\\\images\\\\val2017\\\\000000388903.jpg'\n",
      "\u001b[34m\u001b[1mval: \u001b[0mWARNING ⚠️ C:\\Users\\cwky\\datasets\\coco\\images\\val2017\\000000389315.jpg: ignoring corrupt image/label: [Errno 2] No such file or directory: 'C:\\\\Users\\\\cwky\\\\datasets\\\\coco\\\\images\\\\val2017\\\\000000389315.jpg'\n",
      "\u001b[34m\u001b[1mval: \u001b[0mWARNING ⚠️ C:\\Users\\cwky\\datasets\\coco\\images\\val2017\\000000389381.jpg: ignoring corrupt image/label: [Errno 2] No such file or directory: 'C:\\\\Users\\\\cwky\\\\datasets\\\\coco\\\\images\\\\val2017\\\\000000389381.jpg'\n",
      "\u001b[34m\u001b[1mval: \u001b[0mWARNING ⚠️ C:\\Users\\cwky\\datasets\\coco\\images\\val2017\\000000389532.jpg: ignoring corrupt image/label: [Errno 2] No such file or directory: 'C:\\\\Users\\\\cwky\\\\datasets\\\\coco\\\\images\\\\val2017\\\\000000389532.jpg'\n",
      "\u001b[34m\u001b[1mval: \u001b[0mWARNING ⚠️ C:\\Users\\cwky\\datasets\\coco\\images\\val2017\\000000389566.jpg: ignoring corrupt image/label: [Errno 2] No such file or directory: 'C:\\\\Users\\\\cwky\\\\datasets\\\\coco\\\\images\\\\val2017\\\\000000389566.jpg'\n",
      "\u001b[34m\u001b[1mval: \u001b[0mWARNING ⚠️ C:\\Users\\cwky\\datasets\\coco\\images\\val2017\\000000389804.jpg: ignoring corrupt image/label: [Errno 2] No such file or directory: 'C:\\\\Users\\\\cwky\\\\datasets\\\\coco\\\\images\\\\val2017\\\\000000389804.jpg'\n",
      "\u001b[34m\u001b[1mval: \u001b[0mWARNING ⚠️ C:\\Users\\cwky\\datasets\\coco\\images\\val2017\\000000389933.jpg: ignoring corrupt image/label: [Errno 2] No such file or directory: 'C:\\\\Users\\\\cwky\\\\datasets\\\\coco\\\\images\\\\val2017\\\\000000389933.jpg'\n",
      "\u001b[34m\u001b[1mval: \u001b[0mWARNING ⚠️ C:\\Users\\cwky\\datasets\\coco\\images\\val2017\\000000390301.jpg: ignoring corrupt image/label: [Errno 2] No such file or directory: 'C:\\\\Users\\\\cwky\\\\datasets\\\\coco\\\\images\\\\val2017\\\\000000390301.jpg'\n",
      "\u001b[34m\u001b[1mval: \u001b[0mWARNING ⚠️ C:\\Users\\cwky\\datasets\\coco\\images\\val2017\\000000390555.jpg: ignoring corrupt image/label: [Errno 2] No such file or directory: 'C:\\\\Users\\\\cwky\\\\datasets\\\\coco\\\\images\\\\val2017\\\\000000390555.jpg'\n",
      "\u001b[34m\u001b[1mval: \u001b[0mWARNING ⚠️ C:\\Users\\cwky\\datasets\\coco\\images\\val2017\\000000391722.jpg: ignoring corrupt image/label: [Errno 2] No such file or directory: 'C:\\\\Users\\\\cwky\\\\datasets\\\\coco\\\\images\\\\val2017\\\\000000391722.jpg'\n",
      "\u001b[34m\u001b[1mval: \u001b[0mWARNING ⚠️ C:\\Users\\cwky\\datasets\\coco\\images\\val2017\\000000393469.jpg: ignoring corrupt image/label: [Errno 2] No such file or directory: 'C:\\\\Users\\\\cwky\\\\datasets\\\\coco\\\\images\\\\val2017\\\\000000393469.jpg'\n",
      "\u001b[34m\u001b[1mval: \u001b[0mWARNING ⚠️ C:\\Users\\cwky\\datasets\\coco\\images\\val2017\\000000393838.jpg: ignoring corrupt image/label: [Errno 2] No such file or directory: 'C:\\\\Users\\\\cwky\\\\datasets\\\\coco\\\\images\\\\val2017\\\\000000393838.jpg'\n",
      "\u001b[34m\u001b[1mval: \u001b[0mWARNING ⚠️ C:\\Users\\cwky\\datasets\\coco\\images\\val2017\\000000394199.jpg: ignoring corrupt image/label: [Errno 2] No such file or directory: 'C:\\\\Users\\\\cwky\\\\datasets\\\\coco\\\\images\\\\val2017\\\\000000394199.jpg'\n",
      "\u001b[34m\u001b[1mval: \u001b[0mWARNING ⚠️ C:\\Users\\cwky\\datasets\\coco\\images\\val2017\\000000394328.jpg: ignoring corrupt image/label: [Errno 2] No such file or directory: 'C:\\\\Users\\\\cwky\\\\datasets\\\\coco\\\\images\\\\val2017\\\\000000394328.jpg'\n",
      "\u001b[34m\u001b[1mval: \u001b[0mWARNING ⚠️ C:\\Users\\cwky\\datasets\\coco\\images\\val2017\\000000394611.jpg: ignoring corrupt image/label: [Errno 2] No such file or directory: 'C:\\\\Users\\\\cwky\\\\datasets\\\\coco\\\\images\\\\val2017\\\\000000394611.jpg'\n",
      "\u001b[34m\u001b[1mval: \u001b[0mWARNING ⚠️ C:\\Users\\cwky\\datasets\\coco\\images\\val2017\\000000395343.jpg: ignoring corrupt image/label: [Errno 2] No such file or directory: 'C:\\\\Users\\\\cwky\\\\datasets\\\\coco\\\\images\\\\val2017\\\\000000395343.jpg'\n",
      "\u001b[34m\u001b[1mval: \u001b[0mWARNING ⚠️ C:\\Users\\cwky\\datasets\\coco\\images\\val2017\\000000395388.jpg: ignoring corrupt image/label: [Errno 2] No such file or directory: 'C:\\\\Users\\\\cwky\\\\datasets\\\\coco\\\\images\\\\val2017\\\\000000395388.jpg'\n",
      "\u001b[34m\u001b[1mval: \u001b[0mWARNING ⚠️ C:\\Users\\cwky\\datasets\\coco\\images\\val2017\\000000395701.jpg: ignoring corrupt image/label: [Errno 2] No such file or directory: 'C:\\\\Users\\\\cwky\\\\datasets\\\\coco\\\\images\\\\val2017\\\\000000395701.jpg'\n",
      "\u001b[34m\u001b[1mval: \u001b[0mWARNING ⚠️ C:\\Users\\cwky\\datasets\\coco\\images\\val2017\\000000395801.jpg: ignoring corrupt image/label: [Errno 2] No such file or directory: 'C:\\\\Users\\\\cwky\\\\datasets\\\\coco\\\\images\\\\val2017\\\\000000395801.jpg'\n",
      "\u001b[34m\u001b[1mval: \u001b[0mWARNING ⚠️ C:\\Users\\cwky\\datasets\\coco\\images\\val2017\\000000395903.jpg: ignoring corrupt image/label: [Errno 2] No such file or directory: 'C:\\\\Users\\\\cwky\\\\datasets\\\\coco\\\\images\\\\val2017\\\\000000395903.jpg'\n",
      "\u001b[34m\u001b[1mval: \u001b[0mWARNING ⚠️ C:\\Users\\cwky\\datasets\\coco\\images\\val2017\\000000396274.jpg: ignoring corrupt image/label: [Errno 2] No such file or directory: 'C:\\\\Users\\\\cwky\\\\datasets\\\\coco\\\\images\\\\val2017\\\\000000396274.jpg'\n",
      "\u001b[34m\u001b[1mval: \u001b[0mWARNING ⚠️ C:\\Users\\cwky\\datasets\\coco\\images\\val2017\\000000396518.jpg: ignoring corrupt image/label: [Errno 2] No such file or directory: 'C:\\\\Users\\\\cwky\\\\datasets\\\\coco\\\\images\\\\val2017\\\\000000396518.jpg'\n",
      "\u001b[34m\u001b[1mval: \u001b[0mWARNING ⚠️ C:\\Users\\cwky\\datasets\\coco\\images\\val2017\\000000397133.jpg: ignoring corrupt image/label: [Errno 2] No such file or directory: 'C:\\\\Users\\\\cwky\\\\datasets\\\\coco\\\\images\\\\val2017\\\\000000397133.jpg'\n",
      "\u001b[34m\u001b[1mval: \u001b[0mWARNING ⚠️ C:\\Users\\cwky\\datasets\\coco\\images\\val2017\\000000397351.jpg: ignoring corrupt image/label: [Errno 2] No such file or directory: 'C:\\\\Users\\\\cwky\\\\datasets\\\\coco\\\\images\\\\val2017\\\\000000397351.jpg'\n",
      "\u001b[34m\u001b[1mval: \u001b[0mWARNING ⚠️ C:\\Users\\cwky\\datasets\\coco\\images\\val2017\\000000397639.jpg: ignoring corrupt image/label: [Errno 2] No such file or directory: 'C:\\\\Users\\\\cwky\\\\datasets\\\\coco\\\\images\\\\val2017\\\\000000397639.jpg'\n",
      "\u001b[34m\u001b[1mval: \u001b[0mWARNING ⚠️ C:\\Users\\cwky\\datasets\\coco\\images\\val2017\\000000397681.jpg: ignoring corrupt image/label: [Errno 2] No such file or directory: 'C:\\\\Users\\\\cwky\\\\datasets\\\\coco\\\\images\\\\val2017\\\\000000397681.jpg'\n",
      "\u001b[34m\u001b[1mval: \u001b[0mWARNING ⚠️ C:\\Users\\cwky\\datasets\\coco\\images\\val2017\\000000398203.jpg: ignoring corrupt image/label: [Errno 2] No such file or directory: 'C:\\\\Users\\\\cwky\\\\datasets\\\\coco\\\\images\\\\val2017\\\\000000398203.jpg'\n",
      "\u001b[34m\u001b[1mval: \u001b[0mWARNING ⚠️ C:\\Users\\cwky\\datasets\\coco\\images\\val2017\\000000398652.jpg: ignoring corrupt image/label: [Errno 2] No such file or directory: 'C:\\\\Users\\\\cwky\\\\datasets\\\\coco\\\\images\\\\val2017\\\\000000398652.jpg'\n",
      "\u001b[34m\u001b[1mval: \u001b[0mWARNING ⚠️ C:\\Users\\cwky\\datasets\\coco\\images\\val2017\\000000399205.jpg: ignoring corrupt image/label: [Errno 2] No such file or directory: 'C:\\\\Users\\\\cwky\\\\datasets\\\\coco\\\\images\\\\val2017\\\\000000399205.jpg'\n",
      "\u001b[34m\u001b[1mval: \u001b[0mWARNING ⚠️ C:\\Users\\cwky\\datasets\\coco\\images\\val2017\\000000399462.jpg: ignoring corrupt image/label: [Errno 2] No such file or directory: 'C:\\\\Users\\\\cwky\\\\datasets\\\\coco\\\\images\\\\val2017\\\\000000399462.jpg'\n",
      "\u001b[34m\u001b[1mval: \u001b[0mWARNING ⚠️ C:\\Users\\cwky\\datasets\\coco\\images\\val2017\\000000399655.jpg: ignoring corrupt image/label: [Errno 2] No such file or directory: 'C:\\\\Users\\\\cwky\\\\datasets\\\\coco\\\\images\\\\val2017\\\\000000399655.jpg'\n",
      "\u001b[34m\u001b[1mval: \u001b[0mWARNING ⚠️ C:\\Users\\cwky\\datasets\\coco\\images\\val2017\\000000399764.jpg: ignoring corrupt image/label: [Errno 2] No such file or directory: 'C:\\\\Users\\\\cwky\\\\datasets\\\\coco\\\\images\\\\val2017\\\\000000399764.jpg'\n",
      "\u001b[34m\u001b[1mval: \u001b[0mWARNING ⚠️ C:\\Users\\cwky\\datasets\\coco\\images\\val2017\\000000400161.jpg: ignoring corrupt image/label: [Errno 2] No such file or directory: 'C:\\\\Users\\\\cwky\\\\datasets\\\\coco\\\\images\\\\val2017\\\\000000400161.jpg'\n",
      "\u001b[34m\u001b[1mval: \u001b[0mWARNING ⚠️ C:\\Users\\cwky\\datasets\\coco\\images\\val2017\\000000400367.jpg: ignoring corrupt image/label: [Errno 2] No such file or directory: 'C:\\\\Users\\\\cwky\\\\datasets\\\\coco\\\\images\\\\val2017\\\\000000400367.jpg'\n",
      "\u001b[34m\u001b[1mval: \u001b[0mWARNING ⚠️ C:\\Users\\cwky\\datasets\\coco\\images\\val2017\\000000400803.jpg: ignoring corrupt image/label: [Errno 2] No such file or directory: 'C:\\\\Users\\\\cwky\\\\datasets\\\\coco\\\\images\\\\val2017\\\\000000400803.jpg'\n",
      "\u001b[34m\u001b[1mval: \u001b[0mWARNING ⚠️ C:\\Users\\cwky\\datasets\\coco\\images\\val2017\\000000402118.jpg: ignoring corrupt image/label: [Errno 2] No such file or directory: 'C:\\\\Users\\\\cwky\\\\datasets\\\\coco\\\\images\\\\val2017\\\\000000402118.jpg'\n",
      "\u001b[34m\u001b[1mval: \u001b[0mWARNING ⚠️ C:\\Users\\cwky\\datasets\\coco\\images\\val2017\\000000402346.jpg: ignoring corrupt image/label: [Errno 2] No such file or directory: 'C:\\\\Users\\\\cwky\\\\datasets\\\\coco\\\\images\\\\val2017\\\\000000402346.jpg'\n",
      "\u001b[34m\u001b[1mval: \u001b[0mWARNING ⚠️ C:\\Users\\cwky\\datasets\\coco\\images\\val2017\\000000402765.jpg: ignoring corrupt image/label: [Errno 2] No such file or directory: 'C:\\\\Users\\\\cwky\\\\datasets\\\\coco\\\\images\\\\val2017\\\\000000402765.jpg'\n",
      "\u001b[34m\u001b[1mval: \u001b[0mWARNING ⚠️ C:\\Users\\cwky\\datasets\\coco\\images\\val2017\\000000403122.jpg: ignoring corrupt image/label: [Errno 2] No such file or directory: 'C:\\\\Users\\\\cwky\\\\datasets\\\\coco\\\\images\\\\val2017\\\\000000403122.jpg'\n",
      "\u001b[34m\u001b[1mval: \u001b[0mWARNING ⚠️ C:\\Users\\cwky\\datasets\\coco\\images\\val2017\\000000403817.jpg: ignoring corrupt image/label: [Errno 2] No such file or directory: 'C:\\\\Users\\\\cwky\\\\datasets\\\\coco\\\\images\\\\val2017\\\\000000403817.jpg'\n",
      "\u001b[34m\u001b[1mval: \u001b[0mWARNING ⚠️ C:\\Users\\cwky\\datasets\\coco\\images\\val2017\\000000404128.jpg: ignoring corrupt image/label: [Errno 2] No such file or directory: 'C:\\\\Users\\\\cwky\\\\datasets\\\\coco\\\\images\\\\val2017\\\\000000404128.jpg'\n",
      "\u001b[34m\u001b[1mval: \u001b[0mWARNING ⚠️ C:\\Users\\cwky\\datasets\\coco\\images\\val2017\\000000404249.jpg: ignoring corrupt image/label: [Errno 2] No such file or directory: 'C:\\\\Users\\\\cwky\\\\datasets\\\\coco\\\\images\\\\val2017\\\\000000404249.jpg'\n",
      "\u001b[34m\u001b[1mval: \u001b[0mWARNING ⚠️ C:\\Users\\cwky\\datasets\\coco\\images\\val2017\\000000404479.jpg: ignoring corrupt image/label: [Errno 2] No such file or directory: 'C:\\\\Users\\\\cwky\\\\datasets\\\\coco\\\\images\\\\val2017\\\\000000404479.jpg'\n",
      "\u001b[34m\u001b[1mval: \u001b[0mWARNING ⚠️ C:\\Users\\cwky\\datasets\\coco\\images\\val2017\\000000404484.jpg: ignoring corrupt image/label: [Errno 2] No such file or directory: 'C:\\\\Users\\\\cwky\\\\datasets\\\\coco\\\\images\\\\val2017\\\\000000404484.jpg'\n",
      "\u001b[34m\u001b[1mval: \u001b[0mWARNING ⚠️ C:\\Users\\cwky\\datasets\\coco\\images\\val2017\\000000404568.jpg: ignoring corrupt image/label: [Errno 2] No such file or directory: 'C:\\\\Users\\\\cwky\\\\datasets\\\\coco\\\\images\\\\val2017\\\\000000404568.jpg'\n",
      "\u001b[34m\u001b[1mval: \u001b[0mWARNING ⚠️ C:\\Users\\cwky\\datasets\\coco\\images\\val2017\\000000404678.jpg: ignoring corrupt image/label: [Errno 2] No such file or directory: 'C:\\\\Users\\\\cwky\\\\datasets\\\\coco\\\\images\\\\val2017\\\\000000404678.jpg'\n",
      "\u001b[34m\u001b[1mval: \u001b[0mWARNING ⚠️ C:\\Users\\cwky\\datasets\\coco\\images\\val2017\\000000404922.jpg: ignoring corrupt image/label: [Errno 2] No such file or directory: 'C:\\\\Users\\\\cwky\\\\datasets\\\\coco\\\\images\\\\val2017\\\\000000404922.jpg'\n",
      "\u001b[34m\u001b[1mval: \u001b[0mWARNING ⚠️ C:\\Users\\cwky\\datasets\\coco\\images\\val2017\\000000405249.jpg: ignoring corrupt image/label: [Errno 2] No such file or directory: 'C:\\\\Users\\\\cwky\\\\datasets\\\\coco\\\\images\\\\val2017\\\\000000405249.jpg'\n",
      "\u001b[34m\u001b[1mval: \u001b[0mWARNING ⚠️ C:\\Users\\cwky\\datasets\\coco\\images\\val2017\\000000405972.jpg: ignoring corrupt image/label: [Errno 2] No such file or directory: 'C:\\\\Users\\\\cwky\\\\datasets\\\\coco\\\\images\\\\val2017\\\\000000405972.jpg'\n",
      "\u001b[34m\u001b[1mval: \u001b[0mWARNING ⚠️ C:\\Users\\cwky\\datasets\\coco\\images\\val2017\\000000407083.jpg: ignoring corrupt image/label: [Errno 2] No such file or directory: 'C:\\\\Users\\\\cwky\\\\datasets\\\\coco\\\\images\\\\val2017\\\\000000407083.jpg'\n",
      "\u001b[34m\u001b[1mval: \u001b[0mWARNING ⚠️ C:\\Users\\cwky\\datasets\\coco\\images\\val2017\\000000407298.jpg: ignoring corrupt image/label: [Errno 2] No such file or directory: 'C:\\\\Users\\\\cwky\\\\datasets\\\\coco\\\\images\\\\val2017\\\\000000407298.jpg'\n",
      "\u001b[34m\u001b[1mval: \u001b[0mWARNING ⚠️ C:\\Users\\cwky\\datasets\\coco\\images\\val2017\\000000407403.jpg: ignoring corrupt image/label: [Errno 2] No such file or directory: 'C:\\\\Users\\\\cwky\\\\datasets\\\\coco\\\\images\\\\val2017\\\\000000407403.jpg'\n",
      "\u001b[34m\u001b[1mval: \u001b[0mWARNING ⚠️ C:\\Users\\cwky\\datasets\\coco\\images\\val2017\\000000407524.jpg: ignoring corrupt image/label: [Errno 2] No such file or directory: 'C:\\\\Users\\\\cwky\\\\datasets\\\\coco\\\\images\\\\val2017\\\\000000407524.jpg'\n",
      "\u001b[34m\u001b[1mval: \u001b[0mWARNING ⚠️ C:\\Users\\cwky\\datasets\\coco\\images\\val2017\\000000407650.jpg: ignoring corrupt image/label: [Errno 2] No such file or directory: 'C:\\\\Users\\\\cwky\\\\datasets\\\\coco\\\\images\\\\val2017\\\\000000407650.jpg'\n",
      "\u001b[34m\u001b[1mval: \u001b[0mWARNING ⚠️ C:\\Users\\cwky\\datasets\\coco\\images\\val2017\\000000407825.jpg: ignoring corrupt image/label: [Errno 2] No such file or directory: 'C:\\\\Users\\\\cwky\\\\datasets\\\\coco\\\\images\\\\val2017\\\\000000407825.jpg'\n",
      "\u001b[34m\u001b[1mval: \u001b[0mWARNING ⚠️ C:\\Users\\cwky\\datasets\\coco\\images\\val2017\\000000407943.jpg: ignoring corrupt image/label: [Errno 2] No such file or directory: 'C:\\\\Users\\\\cwky\\\\datasets\\\\coco\\\\images\\\\val2017\\\\000000407943.jpg'\n",
      "\u001b[34m\u001b[1mval: \u001b[0mWARNING ⚠️ C:\\Users\\cwky\\datasets\\coco\\images\\val2017\\000000408696.jpg: ignoring corrupt image/label: [Errno 2] No such file or directory: 'C:\\\\Users\\\\cwky\\\\datasets\\\\coco\\\\images\\\\val2017\\\\000000408696.jpg'\n",
      "\u001b[34m\u001b[1mval: \u001b[0mWARNING ⚠️ C:\\Users\\cwky\\datasets\\coco\\images\\val2017\\000000408774.jpg: ignoring corrupt image/label: [Errno 2] No such file or directory: 'C:\\\\Users\\\\cwky\\\\datasets\\\\coco\\\\images\\\\val2017\\\\000000408774.jpg'\n",
      "\u001b[34m\u001b[1mval: \u001b[0mWARNING ⚠️ C:\\Users\\cwky\\datasets\\coco\\images\\val2017\\000000408830.jpg: ignoring corrupt image/label: [Errno 2] No such file or directory: 'C:\\\\Users\\\\cwky\\\\datasets\\\\coco\\\\images\\\\val2017\\\\000000408830.jpg'\n",
      "\u001b[34m\u001b[1mval: \u001b[0mWARNING ⚠️ C:\\Users\\cwky\\datasets\\coco\\images\\val2017\\000000409198.jpg: ignoring corrupt image/label: [Errno 2] No such file or directory: 'C:\\\\Users\\\\cwky\\\\datasets\\\\coco\\\\images\\\\val2017\\\\000000409198.jpg'\n",
      "\u001b[34m\u001b[1mval: \u001b[0mWARNING ⚠️ C:\\Users\\cwky\\datasets\\coco\\images\\val2017\\000000409424.jpg: ignoring corrupt image/label: [Errno 2] No such file or directory: 'C:\\\\Users\\\\cwky\\\\datasets\\\\coco\\\\images\\\\val2017\\\\000000409424.jpg'\n",
      "\u001b[34m\u001b[1mval: \u001b[0mWARNING ⚠️ C:\\Users\\cwky\\datasets\\coco\\images\\val2017\\000000410221.jpg: ignoring corrupt image/label: [Errno 2] No such file or directory: 'C:\\\\Users\\\\cwky\\\\datasets\\\\coco\\\\images\\\\val2017\\\\000000410221.jpg'\n",
      "\u001b[34m\u001b[1mval: \u001b[0mWARNING ⚠️ C:\\Users\\cwky\\datasets\\coco\\images\\val2017\\000000410456.jpg: ignoring corrupt image/label: [Errno 2] No such file or directory: 'C:\\\\Users\\\\cwky\\\\datasets\\\\coco\\\\images\\\\val2017\\\\000000410456.jpg'\n",
      "\u001b[34m\u001b[1mval: \u001b[0mWARNING ⚠️ C:\\Users\\cwky\\datasets\\coco\\images\\val2017\\000000410487.jpg: ignoring corrupt image/label: [Errno 2] No such file or directory: 'C:\\\\Users\\\\cwky\\\\datasets\\\\coco\\\\images\\\\val2017\\\\000000410487.jpg'\n",
      "\u001b[34m\u001b[1mval: \u001b[0mWARNING ⚠️ C:\\Users\\cwky\\datasets\\coco\\images\\val2017\\000000410496.jpg: ignoring corrupt image/label: [Errno 2] No such file or directory: 'C:\\\\Users\\\\cwky\\\\datasets\\\\coco\\\\images\\\\val2017\\\\000000410496.jpg'\n",
      "\u001b[34m\u001b[1mval: \u001b[0mWARNING ⚠️ C:\\Users\\cwky\\datasets\\coco\\images\\val2017\\000000410650.jpg: ignoring corrupt image/label: [Errno 2] No such file or directory: 'C:\\\\Users\\\\cwky\\\\datasets\\\\coco\\\\images\\\\val2017\\\\000000410650.jpg'\n",
      "\u001b[34m\u001b[1mval: \u001b[0mWARNING ⚠️ C:\\Users\\cwky\\datasets\\coco\\images\\val2017\\000000410878.jpg: ignoring corrupt image/label: [Errno 2] No such file or directory: 'C:\\\\Users\\\\cwky\\\\datasets\\\\coco\\\\images\\\\val2017\\\\000000410878.jpg'\n",
      "\u001b[34m\u001b[1mval: \u001b[0mWARNING ⚠️ C:\\Users\\cwky\\datasets\\coco\\images\\val2017\\000000410934.jpg: ignoring corrupt image/label: [Errno 2] No such file or directory: 'C:\\\\Users\\\\cwky\\\\datasets\\\\coco\\\\images\\\\val2017\\\\000000410934.jpg'\n",
      "\u001b[34m\u001b[1mval: \u001b[0mWARNING ⚠️ C:\\Users\\cwky\\datasets\\coco\\images\\val2017\\000000411754.jpg: ignoring corrupt image/label: [Errno 2] No such file or directory: 'C:\\\\Users\\\\cwky\\\\datasets\\\\coco\\\\images\\\\val2017\\\\000000411754.jpg'\n",
      "\u001b[34m\u001b[1mval: \u001b[0mWARNING ⚠️ C:\\Users\\cwky\\datasets\\coco\\images\\val2017\\000000411953.jpg: ignoring corrupt image/label: [Errno 2] No such file or directory: 'C:\\\\Users\\\\cwky\\\\datasets\\\\coco\\\\images\\\\val2017\\\\000000411953.jpg'\n",
      "\u001b[34m\u001b[1mval: \u001b[0mWARNING ⚠️ C:\\Users\\cwky\\datasets\\coco\\images\\val2017\\000000412240.jpg: ignoring corrupt image/label: [Errno 2] No such file or directory: 'C:\\\\Users\\\\cwky\\\\datasets\\\\coco\\\\images\\\\val2017\\\\000000412240.jpg'\n",
      "\u001b[34m\u001b[1mval: \u001b[0mWARNING ⚠️ C:\\Users\\cwky\\datasets\\coco\\images\\val2017\\000000412362.jpg: ignoring corrupt image/label: [Errno 2] No such file or directory: 'C:\\\\Users\\\\cwky\\\\datasets\\\\coco\\\\images\\\\val2017\\\\000000412362.jpg'\n",
      "\u001b[34m\u001b[1mval: \u001b[0mWARNING ⚠️ C:\\Users\\cwky\\datasets\\coco\\images\\val2017\\000000413552.jpg: ignoring corrupt image/label: [Errno 2] No such file or directory: 'C:\\\\Users\\\\cwky\\\\datasets\\\\coco\\\\images\\\\val2017\\\\000000413552.jpg'\n",
      "\u001b[34m\u001b[1mval: \u001b[0mWARNING ⚠️ C:\\Users\\cwky\\datasets\\coco\\images\\val2017\\000000414034.jpg: ignoring corrupt image/label: [Errno 2] No such file or directory: 'C:\\\\Users\\\\cwky\\\\datasets\\\\coco\\\\images\\\\val2017\\\\000000414034.jpg'\n",
      "\u001b[34m\u001b[1mval: \u001b[0mWARNING ⚠️ C:\\Users\\cwky\\datasets\\coco\\images\\val2017\\000000414261.jpg: ignoring corrupt image/label: [Errno 2] No such file or directory: 'C:\\\\Users\\\\cwky\\\\datasets\\\\coco\\\\images\\\\val2017\\\\000000414261.jpg'\n",
      "\u001b[34m\u001b[1mval: \u001b[0mWARNING ⚠️ C:\\Users\\cwky\\datasets\\coco\\images\\val2017\\000000414676.jpg: ignoring corrupt image/label: [Errno 2] No such file or directory: 'C:\\\\Users\\\\cwky\\\\datasets\\\\coco\\\\images\\\\val2017\\\\000000414676.jpg'\n",
      "\u001b[34m\u001b[1mval: \u001b[0mWARNING ⚠️ C:\\Users\\cwky\\datasets\\coco\\images\\val2017\\000000415727.jpg: ignoring corrupt image/label: [Errno 2] No such file or directory: 'C:\\\\Users\\\\cwky\\\\datasets\\\\coco\\\\images\\\\val2017\\\\000000415727.jpg'\n",
      "\u001b[34m\u001b[1mval: \u001b[0mWARNING ⚠️ C:\\Users\\cwky\\datasets\\coco\\images\\val2017\\000000415741.jpg: ignoring corrupt image/label: [Errno 2] No such file or directory: 'C:\\\\Users\\\\cwky\\\\datasets\\\\coco\\\\images\\\\val2017\\\\000000415741.jpg'\n",
      "\u001b[34m\u001b[1mval: \u001b[0mWARNING ⚠️ C:\\Users\\cwky\\datasets\\coco\\images\\val2017\\000000416343.jpg: ignoring corrupt image/label: [Errno 2] No such file or directory: 'C:\\\\Users\\\\cwky\\\\datasets\\\\coco\\\\images\\\\val2017\\\\000000416343.jpg'\n",
      "\u001b[34m\u001b[1mval: \u001b[0mWARNING ⚠️ C:\\Users\\cwky\\datasets\\coco\\images\\val2017\\000000416451.jpg: ignoring corrupt image/label: [Errno 2] No such file or directory: 'C:\\\\Users\\\\cwky\\\\datasets\\\\coco\\\\images\\\\val2017\\\\000000416451.jpg'\n",
      "\u001b[34m\u001b[1mval: \u001b[0mWARNING ⚠️ C:\\Users\\cwky\\datasets\\coco\\images\\val2017\\000000417876.jpg: ignoring corrupt image/label: [Errno 2] No such file or directory: 'C:\\\\Users\\\\cwky\\\\datasets\\\\coco\\\\images\\\\val2017\\\\000000417876.jpg'\n",
      "\u001b[34m\u001b[1mval: \u001b[0mWARNING ⚠️ C:\\Users\\cwky\\datasets\\coco\\images\\val2017\\000000418961.jpg: ignoring corrupt image/label: [Errno 2] No such file or directory: 'C:\\\\Users\\\\cwky\\\\datasets\\\\coco\\\\images\\\\val2017\\\\000000418961.jpg'\n",
      "\u001b[34m\u001b[1mval: \u001b[0mWARNING ⚠️ C:\\Users\\cwky\\datasets\\coco\\images\\val2017\\000000419096.jpg: ignoring corrupt image/label: [Errno 2] No such file or directory: 'C:\\\\Users\\\\cwky\\\\datasets\\\\coco\\\\images\\\\val2017\\\\000000419096.jpg'\n",
      "\u001b[34m\u001b[1mval: \u001b[0mWARNING ⚠️ C:\\Users\\cwky\\datasets\\coco\\images\\val2017\\000000419379.jpg: ignoring corrupt image/label: [Errno 2] No such file or directory: 'C:\\\\Users\\\\cwky\\\\datasets\\\\coco\\\\images\\\\val2017\\\\000000419379.jpg'\n",
      "\u001b[34m\u001b[1mval: \u001b[0mWARNING ⚠️ C:\\Users\\cwky\\datasets\\coco\\images\\val2017\\000000419408.jpg: ignoring corrupt image/label: [Errno 2] No such file or directory: 'C:\\\\Users\\\\cwky\\\\datasets\\\\coco\\\\images\\\\val2017\\\\000000419408.jpg'\n",
      "\u001b[34m\u001b[1mval: \u001b[0mWARNING ⚠️ C:\\Users\\cwky\\datasets\\coco\\images\\val2017\\000000419601.jpg: ignoring corrupt image/label: [Errno 2] No such file or directory: 'C:\\\\Users\\\\cwky\\\\datasets\\\\coco\\\\images\\\\val2017\\\\000000419601.jpg'\n",
      "\u001b[34m\u001b[1mval: \u001b[0mWARNING ⚠️ C:\\Users\\cwky\\datasets\\coco\\images\\val2017\\000000419653.jpg: ignoring corrupt image/label: [Errno 2] No such file or directory: 'C:\\\\Users\\\\cwky\\\\datasets\\\\coco\\\\images\\\\val2017\\\\000000419653.jpg'\n",
      "\u001b[34m\u001b[1mval: \u001b[0mWARNING ⚠️ C:\\Users\\cwky\\datasets\\coco\\images\\val2017\\000000419974.jpg: ignoring corrupt image/label: [Errno 2] No such file or directory: 'C:\\\\Users\\\\cwky\\\\datasets\\\\coco\\\\images\\\\val2017\\\\000000419974.jpg'\n",
      "\u001b[34m\u001b[1mval: \u001b[0mWARNING ⚠️ C:\\Users\\cwky\\datasets\\coco\\images\\val2017\\000000420281.jpg: ignoring corrupt image/label: [Errno 2] No such file or directory: 'C:\\\\Users\\\\cwky\\\\datasets\\\\coco\\\\images\\\\val2017\\\\000000420281.jpg'\n",
      "\u001b[34m\u001b[1mval: \u001b[0mWARNING ⚠️ C:\\Users\\cwky\\datasets\\coco\\images\\val2017\\000000420840.jpg: ignoring corrupt image/label: [Errno 2] No such file or directory: 'C:\\\\Users\\\\cwky\\\\datasets\\\\coco\\\\images\\\\val2017\\\\000000420840.jpg'\n",
      "\u001b[34m\u001b[1mval: \u001b[0mWARNING ⚠️ C:\\Users\\cwky\\datasets\\coco\\images\\val2017\\000000420916.jpg: ignoring corrupt image/label: [Errno 2] No such file or directory: 'C:\\\\Users\\\\cwky\\\\datasets\\\\coco\\\\images\\\\val2017\\\\000000420916.jpg'\n",
      "\u001b[34m\u001b[1mval: \u001b[0mWARNING ⚠️ C:\\Users\\cwky\\datasets\\coco\\images\\val2017\\000000421060.jpg: ignoring corrupt image/label: [Errno 2] No such file or directory: 'C:\\\\Users\\\\cwky\\\\datasets\\\\coco\\\\images\\\\val2017\\\\000000421060.jpg'\n",
      "\u001b[34m\u001b[1mval: \u001b[0mWARNING ⚠️ C:\\Users\\cwky\\datasets\\coco\\images\\val2017\\000000421834.jpg: ignoring corrupt image/label: [Errno 2] No such file or directory: 'C:\\\\Users\\\\cwky\\\\datasets\\\\coco\\\\images\\\\val2017\\\\000000421834.jpg'\n",
      "\u001b[34m\u001b[1mval: \u001b[0mWARNING ⚠️ C:\\Users\\cwky\\datasets\\coco\\images\\val2017\\000000422670.jpg: ignoring corrupt image/label: [Errno 2] No such file or directory: 'C:\\\\Users\\\\cwky\\\\datasets\\\\coco\\\\images\\\\val2017\\\\000000422670.jpg'\n",
      "\u001b[34m\u001b[1mval: \u001b[0mWARNING ⚠️ C:\\Users\\cwky\\datasets\\coco\\images\\val2017\\000000422836.jpg: ignoring corrupt image/label: [Errno 2] No such file or directory: 'C:\\\\Users\\\\cwky\\\\datasets\\\\coco\\\\images\\\\val2017\\\\000000422836.jpg'\n",
      "\u001b[34m\u001b[1mval: \u001b[0mWARNING ⚠️ C:\\Users\\cwky\\datasets\\coco\\images\\val2017\\000000423229.jpg: ignoring corrupt image/label: [Errno 2] No such file or directory: 'C:\\\\Users\\\\cwky\\\\datasets\\\\coco\\\\images\\\\val2017\\\\000000423229.jpg'\n",
      "\u001b[34m\u001b[1mval: \u001b[0mWARNING ⚠️ C:\\Users\\cwky\\datasets\\coco\\images\\val2017\\000000423798.jpg: ignoring corrupt image/label: [Errno 2] No such file or directory: 'C:\\\\Users\\\\cwky\\\\datasets\\\\coco\\\\images\\\\val2017\\\\000000423798.jpg'\n",
      "\u001b[34m\u001b[1mval: \u001b[0mWARNING ⚠️ C:\\Users\\cwky\\datasets\\coco\\images\\val2017\\000000423971.jpg: ignoring corrupt image/label: [Errno 2] No such file or directory: 'C:\\\\Users\\\\cwky\\\\datasets\\\\coco\\\\images\\\\val2017\\\\000000423971.jpg'\n",
      "\u001b[34m\u001b[1mval: \u001b[0mWARNING ⚠️ C:\\Users\\cwky\\datasets\\coco\\images\\val2017\\000000424135.jpg: ignoring corrupt image/label: [Errno 2] No such file or directory: 'C:\\\\Users\\\\cwky\\\\datasets\\\\coco\\\\images\\\\val2017\\\\000000424135.jpg'\n",
      "\u001b[34m\u001b[1mval: \u001b[0mWARNING ⚠️ C:\\Users\\cwky\\datasets\\coco\\images\\val2017\\000000424349.jpg: ignoring corrupt image/label: [Errno 2] No such file or directory: 'C:\\\\Users\\\\cwky\\\\datasets\\\\coco\\\\images\\\\val2017\\\\000000424349.jpg'\n",
      "\u001b[34m\u001b[1mval: \u001b[0mWARNING ⚠️ C:\\Users\\cwky\\datasets\\coco\\images\\val2017\\000000424551.jpg: ignoring corrupt image/label: [Errno 2] No such file or directory: 'C:\\\\Users\\\\cwky\\\\datasets\\\\coco\\\\images\\\\val2017\\\\000000424551.jpg'\n",
      "\u001b[34m\u001b[1mval: \u001b[0mWARNING ⚠️ C:\\Users\\cwky\\datasets\\coco\\images\\val2017\\000000424642.jpg: ignoring corrupt image/label: [Errno 2] No such file or directory: 'C:\\\\Users\\\\cwky\\\\datasets\\\\coco\\\\images\\\\val2017\\\\000000424642.jpg'\n",
      "\u001b[34m\u001b[1mval: \u001b[0mWARNING ⚠️ C:\\Users\\cwky\\datasets\\coco\\images\\val2017\\000000424975.jpg: ignoring corrupt image/label: [Errno 2] No such file or directory: 'C:\\\\Users\\\\cwky\\\\datasets\\\\coco\\\\images\\\\val2017\\\\000000424975.jpg'\n",
      "\u001b[34m\u001b[1mval: \u001b[0mWARNING ⚠️ C:\\Users\\cwky\\datasets\\coco\\images\\val2017\\000000425221.jpg: ignoring corrupt image/label: [Errno 2] No such file or directory: 'C:\\\\Users\\\\cwky\\\\datasets\\\\coco\\\\images\\\\val2017\\\\000000425221.jpg'\n",
      "\u001b[34m\u001b[1mval: \u001b[0mWARNING ⚠️ C:\\Users\\cwky\\datasets\\coco\\images\\val2017\\000000425390.jpg: ignoring corrupt image/label: [Errno 2] No such file or directory: 'C:\\\\Users\\\\cwky\\\\datasets\\\\coco\\\\images\\\\val2017\\\\000000425390.jpg'\n",
      "\u001b[34m\u001b[1mval: \u001b[0mWARNING ⚠️ C:\\Users\\cwky\\datasets\\coco\\images\\val2017\\000000425702.jpg: ignoring corrupt image/label: [Errno 2] No such file or directory: 'C:\\\\Users\\\\cwky\\\\datasets\\\\coco\\\\images\\\\val2017\\\\000000425702.jpg'\n",
      "\u001b[34m\u001b[1mval: \u001b[0mWARNING ⚠️ C:\\Users\\cwky\\datasets\\coco\\images\\val2017\\000000425925.jpg: ignoring corrupt image/label: [Errno 2] No such file or directory: 'C:\\\\Users\\\\cwky\\\\datasets\\\\coco\\\\images\\\\val2017\\\\000000425925.jpg'\n",
      "\u001b[34m\u001b[1mval: \u001b[0mWARNING ⚠️ C:\\Users\\cwky\\datasets\\coco\\images\\val2017\\000000426329.jpg: ignoring corrupt image/label: [Errno 2] No such file or directory: 'C:\\\\Users\\\\cwky\\\\datasets\\\\coco\\\\images\\\\val2017\\\\000000426329.jpg'\n",
      "\u001b[34m\u001b[1mval: \u001b[0mWARNING ⚠️ C:\\Users\\cwky\\datasets\\coco\\images\\val2017\\000000426372.jpg: ignoring corrupt image/label: [Errno 2] No such file or directory: 'C:\\\\Users\\\\cwky\\\\datasets\\\\coco\\\\images\\\\val2017\\\\000000426372.jpg'\n",
      "\u001b[34m\u001b[1mval: \u001b[0mWARNING ⚠️ C:\\Users\\cwky\\datasets\\coco\\images\\val2017\\000000427034.jpg: ignoring corrupt image/label: [Errno 2] No such file or directory: 'C:\\\\Users\\\\cwky\\\\datasets\\\\coco\\\\images\\\\val2017\\\\000000427034.jpg'\n",
      "\u001b[34m\u001b[1mval: \u001b[0mWARNING ⚠️ C:\\Users\\cwky\\datasets\\coco\\images\\val2017\\000000427055.jpg: ignoring corrupt image/label: [Errno 2] No such file or directory: 'C:\\\\Users\\\\cwky\\\\datasets\\\\coco\\\\images\\\\val2017\\\\000000427055.jpg'\n",
      "\u001b[34m\u001b[1mval: \u001b[0mWARNING ⚠️ C:\\Users\\cwky\\datasets\\coco\\images\\val2017\\000000427160.jpg: ignoring corrupt image/label: [Errno 2] No such file or directory: 'C:\\\\Users\\\\cwky\\\\datasets\\\\coco\\\\images\\\\val2017\\\\000000427160.jpg'\n",
      "\u001b[34m\u001b[1mval: \u001b[0mWARNING ⚠️ C:\\Users\\cwky\\datasets\\coco\\images\\val2017\\000000427997.jpg: ignoring corrupt image/label: [Errno 2] No such file or directory: 'C:\\\\Users\\\\cwky\\\\datasets\\\\coco\\\\images\\\\val2017\\\\000000427997.jpg'\n",
      "\u001b[34m\u001b[1mval: \u001b[0mWARNING ⚠️ C:\\Users\\cwky\\datasets\\coco\\images\\val2017\\000000428218.jpg: ignoring corrupt image/label: [Errno 2] No such file or directory: 'C:\\\\Users\\\\cwky\\\\datasets\\\\coco\\\\images\\\\val2017\\\\000000428218.jpg'\n",
      "\u001b[34m\u001b[1mval: \u001b[0mWARNING ⚠️ C:\\Users\\cwky\\datasets\\coco\\images\\val2017\\000000429011.jpg: ignoring corrupt image/label: [Errno 2] No such file or directory: 'C:\\\\Users\\\\cwky\\\\datasets\\\\coco\\\\images\\\\val2017\\\\000000429011.jpg'\n",
      "\u001b[34m\u001b[1mval: \u001b[0mWARNING ⚠️ C:\\Users\\cwky\\datasets\\coco\\images\\val2017\\000000429109.jpg: ignoring corrupt image/label: [Errno 2] No such file or directory: 'C:\\\\Users\\\\cwky\\\\datasets\\\\coco\\\\images\\\\val2017\\\\000000429109.jpg'\n",
      "\u001b[34m\u001b[1mval: \u001b[0mWARNING ⚠️ C:\\Users\\cwky\\datasets\\coco\\images\\val2017\\000000429530.jpg: ignoring corrupt image/label: [Errno 2] No such file or directory: 'C:\\\\Users\\\\cwky\\\\datasets\\\\coco\\\\images\\\\val2017\\\\000000429530.jpg'\n",
      "\u001b[34m\u001b[1mval: \u001b[0mWARNING ⚠️ C:\\Users\\cwky\\datasets\\coco\\images\\val2017\\000000431140.jpg: ignoring corrupt image/label: [Errno 2] No such file or directory: 'C:\\\\Users\\\\cwky\\\\datasets\\\\coco\\\\images\\\\val2017\\\\000000431140.jpg'\n",
      "\u001b[34m\u001b[1mval: \u001b[0mWARNING ⚠️ C:\\Users\\cwky\\datasets\\coco\\images\\val2017\\000000431727.jpg: ignoring corrupt image/label: [Errno 2] No such file or directory: 'C:\\\\Users\\\\cwky\\\\datasets\\\\coco\\\\images\\\\val2017\\\\000000431727.jpg'\n",
      "\u001b[34m\u001b[1mval: \u001b[0mWARNING ⚠️ C:\\Users\\cwky\\datasets\\coco\\images\\val2017\\000000431876.jpg: ignoring corrupt image/label: [Errno 2] No such file or directory: 'C:\\\\Users\\\\cwky\\\\datasets\\\\coco\\\\images\\\\val2017\\\\000000431876.jpg'\n",
      "\u001b[34m\u001b[1mval: \u001b[0mWARNING ⚠️ C:\\Users\\cwky\\datasets\\coco\\images\\val2017\\000000433103.jpg: ignoring corrupt image/label: [Errno 2] No such file or directory: 'C:\\\\Users\\\\cwky\\\\datasets\\\\coco\\\\images\\\\val2017\\\\000000433103.jpg'\n",
      "\u001b[34m\u001b[1mval: \u001b[0mWARNING ⚠️ C:\\Users\\cwky\\datasets\\coco\\images\\val2017\\000000433134.jpg: ignoring corrupt image/label: [Errno 2] No such file or directory: 'C:\\\\Users\\\\cwky\\\\datasets\\\\coco\\\\images\\\\val2017\\\\000000433134.jpg'\n",
      "\u001b[34m\u001b[1mval: \u001b[0mWARNING ⚠️ C:\\Users\\cwky\\datasets\\coco\\images\\val2017\\000000433243.jpg: ignoring corrupt image/label: [Errno 2] No such file or directory: 'C:\\\\Users\\\\cwky\\\\datasets\\\\coco\\\\images\\\\val2017\\\\000000433243.jpg'\n",
      "\u001b[34m\u001b[1mval: \u001b[0mWARNING ⚠️ C:\\Users\\cwky\\datasets\\coco\\images\\val2017\\000000434204.jpg: ignoring corrupt image/label: [Errno 2] No such file or directory: 'C:\\\\Users\\\\cwky\\\\datasets\\\\coco\\\\images\\\\val2017\\\\000000434204.jpg'\n",
      "\u001b[34m\u001b[1mval: \u001b[0mWARNING ⚠️ C:\\Users\\cwky\\datasets\\coco\\images\\val2017\\000000434297.jpg: ignoring corrupt image/label: [Errno 2] No such file or directory: 'C:\\\\Users\\\\cwky\\\\datasets\\\\coco\\\\images\\\\val2017\\\\000000434297.jpg'\n",
      "\u001b[34m\u001b[1mval: \u001b[0mWARNING ⚠️ C:\\Users\\cwky\\datasets\\coco\\images\\val2017\\000000434548.jpg: ignoring corrupt image/label: [Errno 2] No such file or directory: 'C:\\\\Users\\\\cwky\\\\datasets\\\\coco\\\\images\\\\val2017\\\\000000434548.jpg'\n",
      "\u001b[34m\u001b[1mval: \u001b[0mWARNING ⚠️ C:\\Users\\cwky\\datasets\\coco\\images\\val2017\\000000435081.jpg: ignoring corrupt image/label: [Errno 2] No such file or directory: 'C:\\\\Users\\\\cwky\\\\datasets\\\\coco\\\\images\\\\val2017\\\\000000435081.jpg'\n",
      "\u001b[34m\u001b[1mval: \u001b[0mWARNING ⚠️ C:\\Users\\cwky\\datasets\\coco\\images\\val2017\\000000435206.jpg: ignoring corrupt image/label: [Errno 2] No such file or directory: 'C:\\\\Users\\\\cwky\\\\datasets\\\\coco\\\\images\\\\val2017\\\\000000435206.jpg'\n",
      "\u001b[34m\u001b[1mval: \u001b[0mWARNING ⚠️ C:\\Users\\cwky\\datasets\\coco\\images\\val2017\\000000435208.jpg: ignoring corrupt image/label: [Errno 2] No such file or directory: 'C:\\\\Users\\\\cwky\\\\datasets\\\\coco\\\\images\\\\val2017\\\\000000435208.jpg'\n",
      "\u001b[34m\u001b[1mval: \u001b[0mWARNING ⚠️ C:\\Users\\cwky\\datasets\\coco\\images\\val2017\\000000435880.jpg: ignoring corrupt image/label: [Errno 2] No such file or directory: 'C:\\\\Users\\\\cwky\\\\datasets\\\\coco\\\\images\\\\val2017\\\\000000435880.jpg'\n",
      "\u001b[34m\u001b[1mval: \u001b[0mWARNING ⚠️ C:\\Users\\cwky\\datasets\\coco\\images\\val2017\\000000436315.jpg: ignoring corrupt image/label: [Errno 2] No such file or directory: 'C:\\\\Users\\\\cwky\\\\datasets\\\\coco\\\\images\\\\val2017\\\\000000436315.jpg'\n",
      "\u001b[34m\u001b[1mval: \u001b[0mWARNING ⚠️ C:\\Users\\cwky\\datasets\\coco\\images\\val2017\\000000436617.jpg: ignoring corrupt image/label: [Errno 2] No such file or directory: 'C:\\\\Users\\\\cwky\\\\datasets\\\\coco\\\\images\\\\val2017\\\\000000436617.jpg'\n",
      "\u001b[34m\u001b[1mval: \u001b[0mWARNING ⚠️ C:\\Users\\cwky\\datasets\\coco\\images\\val2017\\000000437239.jpg: ignoring corrupt image/label: [Errno 2] No such file or directory: 'C:\\\\Users\\\\cwky\\\\datasets\\\\coco\\\\images\\\\val2017\\\\000000437239.jpg'\n",
      "\u001b[34m\u001b[1mval: \u001b[0mWARNING ⚠️ C:\\Users\\cwky\\datasets\\coco\\images\\val2017\\000000437351.jpg: ignoring corrupt image/label: [Errno 2] No such file or directory: 'C:\\\\Users\\\\cwky\\\\datasets\\\\coco\\\\images\\\\val2017\\\\000000437351.jpg'\n",
      "\u001b[34m\u001b[1mval: \u001b[0mWARNING ⚠️ C:\\Users\\cwky\\datasets\\coco\\images\\val2017\\000000437392.jpg: ignoring corrupt image/label: [Errno 2] No such file or directory: 'C:\\\\Users\\\\cwky\\\\datasets\\\\coco\\\\images\\\\val2017\\\\000000437392.jpg'\n",
      "\u001b[34m\u001b[1mval: \u001b[0mWARNING ⚠️ C:\\Users\\cwky\\datasets\\coco\\images\\val2017\\000000437898.jpg: ignoring corrupt image/label: [Errno 2] No such file or directory: 'C:\\\\Users\\\\cwky\\\\datasets\\\\coco\\\\images\\\\val2017\\\\000000437898.jpg'\n",
      "\u001b[34m\u001b[1mval: \u001b[0mWARNING ⚠️ C:\\Users\\cwky\\datasets\\coco\\images\\val2017\\000000438017.jpg: ignoring corrupt image/label: [Errno 2] No such file or directory: 'C:\\\\Users\\\\cwky\\\\datasets\\\\coco\\\\images\\\\val2017\\\\000000438017.jpg'\n",
      "\u001b[34m\u001b[1mval: \u001b[0mWARNING ⚠️ C:\\Users\\cwky\\datasets\\coco\\images\\val2017\\000000438774.jpg: ignoring corrupt image/label: [Errno 2] No such file or directory: 'C:\\\\Users\\\\cwky\\\\datasets\\\\coco\\\\images\\\\val2017\\\\000000438774.jpg'\n",
      "\u001b[34m\u001b[1mval: \u001b[0mWARNING ⚠️ C:\\Users\\cwky\\datasets\\coco\\images\\val2017\\000000438876.jpg: ignoring corrupt image/label: [Errno 2] No such file or directory: 'C:\\\\Users\\\\cwky\\\\datasets\\\\coco\\\\images\\\\val2017\\\\000000438876.jpg'\n",
      "\u001b[34m\u001b[1mval: \u001b[0mWARNING ⚠️ C:\\Users\\cwky\\datasets\\coco\\images\\val2017\\000000439180.jpg: ignoring corrupt image/label: [Errno 2] No such file or directory: 'C:\\\\Users\\\\cwky\\\\datasets\\\\coco\\\\images\\\\val2017\\\\000000439180.jpg'\n",
      "\u001b[34m\u001b[1mval: \u001b[0mWARNING ⚠️ C:\\Users\\cwky\\datasets\\coco\\images\\val2017\\000000439593.jpg: ignoring corrupt image/label: [Errno 2] No such file or directory: 'C:\\\\Users\\\\cwky\\\\datasets\\\\coco\\\\images\\\\val2017\\\\000000439593.jpg'\n",
      "\u001b[34m\u001b[1mval: \u001b[0mWARNING ⚠️ C:\\Users\\cwky\\datasets\\coco\\images\\val2017\\000000439773.jpg: ignoring corrupt image/label: [Errno 2] No such file or directory: 'C:\\\\Users\\\\cwky\\\\datasets\\\\coco\\\\images\\\\val2017\\\\000000439773.jpg'\n",
      "\u001b[34m\u001b[1mval: \u001b[0mWARNING ⚠️ C:\\Users\\cwky\\datasets\\coco\\images\\val2017\\000000440184.jpg: ignoring corrupt image/label: [Errno 2] No such file or directory: 'C:\\\\Users\\\\cwky\\\\datasets\\\\coco\\\\images\\\\val2017\\\\000000440184.jpg'\n",
      "\u001b[34m\u001b[1mval: \u001b[0mWARNING ⚠️ C:\\Users\\cwky\\datasets\\coco\\images\\val2017\\000000440508.jpg: ignoring corrupt image/label: [Errno 2] No such file or directory: 'C:\\\\Users\\\\cwky\\\\datasets\\\\coco\\\\images\\\\val2017\\\\000000440508.jpg'\n",
      "\u001b[34m\u001b[1mval: \u001b[0mWARNING ⚠️ C:\\Users\\cwky\\datasets\\coco\\images\\val2017\\000000441247.jpg: ignoring corrupt image/label: [Errno 2] No such file or directory: 'C:\\\\Users\\\\cwky\\\\datasets\\\\coco\\\\images\\\\val2017\\\\000000441247.jpg'\n",
      "\u001b[34m\u001b[1mval: \u001b[0mWARNING ⚠️ C:\\Users\\cwky\\datasets\\coco\\images\\val2017\\000000441286.jpg: ignoring corrupt image/label: [Errno 2] No such file or directory: 'C:\\\\Users\\\\cwky\\\\datasets\\\\coco\\\\images\\\\val2017\\\\000000441286.jpg'\n",
      "\u001b[34m\u001b[1mval: \u001b[0mWARNING ⚠️ C:\\Users\\cwky\\datasets\\coco\\images\\val2017\\000000441442.jpg: ignoring corrupt image/label: [Errno 2] No such file or directory: 'C:\\\\Users\\\\cwky\\\\datasets\\\\coco\\\\images\\\\val2017\\\\000000441442.jpg'\n",
      "\u001b[34m\u001b[1mval: \u001b[0mWARNING ⚠️ C:\\Users\\cwky\\datasets\\coco\\images\\val2017\\000000441543.jpg: ignoring corrupt image/label: [Errno 2] No such file or directory: 'C:\\\\Users\\\\cwky\\\\datasets\\\\coco\\\\images\\\\val2017\\\\000000441543.jpg'\n",
      "\u001b[34m\u001b[1mval: \u001b[0mWARNING ⚠️ C:\\Users\\cwky\\datasets\\coco\\images\\val2017\\000000442306.jpg: ignoring corrupt image/label: [Errno 2] No such file or directory: 'C:\\\\Users\\\\cwky\\\\datasets\\\\coco\\\\images\\\\val2017\\\\000000442306.jpg'\n",
      "\u001b[34m\u001b[1mval: \u001b[0mWARNING ⚠️ C:\\Users\\cwky\\datasets\\coco\\images\\val2017\\000000442746.jpg: ignoring corrupt image/label: [Errno 2] No such file or directory: 'C:\\\\Users\\\\cwky\\\\datasets\\\\coco\\\\images\\\\val2017\\\\000000442746.jpg'\n",
      "\u001b[34m\u001b[1mval: \u001b[0mWARNING ⚠️ C:\\Users\\cwky\\datasets\\coco\\images\\val2017\\000000442836.jpg: ignoring corrupt image/label: [Errno 2] No such file or directory: 'C:\\\\Users\\\\cwky\\\\datasets\\\\coco\\\\images\\\\val2017\\\\000000442836.jpg'\n",
      "\u001b[34m\u001b[1mval: \u001b[0mWARNING ⚠️ C:\\Users\\cwky\\datasets\\coco\\images\\val2017\\000000443426.jpg: ignoring corrupt image/label: [Errno 2] No such file or directory: 'C:\\\\Users\\\\cwky\\\\datasets\\\\coco\\\\images\\\\val2017\\\\000000443426.jpg'\n",
      "\u001b[34m\u001b[1mval: \u001b[0mWARNING ⚠️ C:\\Users\\cwky\\datasets\\coco\\images\\val2017\\000000443498.jpg: ignoring corrupt image/label: [Errno 2] No such file or directory: 'C:\\\\Users\\\\cwky\\\\datasets\\\\coco\\\\images\\\\val2017\\\\000000443498.jpg'\n",
      "\u001b[34m\u001b[1mval: \u001b[0mWARNING ⚠️ C:\\Users\\cwky\\datasets\\coco\\images\\val2017\\000000443969.jpg: ignoring corrupt image/label: [Errno 2] No such file or directory: 'C:\\\\Users\\\\cwky\\\\datasets\\\\coco\\\\images\\\\val2017\\\\000000443969.jpg'\n",
      "\u001b[34m\u001b[1mval: \u001b[0mWARNING ⚠️ C:\\Users\\cwky\\datasets\\coco\\images\\val2017\\000000444142.jpg: ignoring corrupt image/label: [Errno 2] No such file or directory: 'C:\\\\Users\\\\cwky\\\\datasets\\\\coco\\\\images\\\\val2017\\\\000000444142.jpg'\n",
      "\u001b[34m\u001b[1mval: \u001b[0mWARNING ⚠️ C:\\Users\\cwky\\datasets\\coco\\images\\val2017\\000000444275.jpg: ignoring corrupt image/label: [Errno 2] No such file or directory: 'C:\\\\Users\\\\cwky\\\\datasets\\\\coco\\\\images\\\\val2017\\\\000000444275.jpg'\n",
      "\u001b[34m\u001b[1mval: \u001b[0mWARNING ⚠️ C:\\Users\\cwky\\datasets\\coco\\images\\val2017\\000000445248.jpg: ignoring corrupt image/label: [Errno 2] No such file or directory: 'C:\\\\Users\\\\cwky\\\\datasets\\\\coco\\\\images\\\\val2017\\\\000000445248.jpg'\n",
      "\u001b[34m\u001b[1mval: \u001b[0mWARNING ⚠️ C:\\Users\\cwky\\datasets\\coco\\images\\val2017\\000000445675.jpg: ignoring corrupt image/label: [Errno 2] No such file or directory: 'C:\\\\Users\\\\cwky\\\\datasets\\\\coco\\\\images\\\\val2017\\\\000000445675.jpg'\n",
      "\u001b[34m\u001b[1mval: \u001b[0mWARNING ⚠️ C:\\Users\\cwky\\datasets\\coco\\images\\val2017\\000000445722.jpg: ignoring corrupt image/label: [Errno 2] No such file or directory: 'C:\\\\Users\\\\cwky\\\\datasets\\\\coco\\\\images\\\\val2017\\\\000000445722.jpg'\n",
      "\u001b[34m\u001b[1mval: \u001b[0mWARNING ⚠️ C:\\Users\\cwky\\datasets\\coco\\images\\val2017\\000000445792.jpg: ignoring corrupt image/label: [Errno 2] No such file or directory: 'C:\\\\Users\\\\cwky\\\\datasets\\\\coco\\\\images\\\\val2017\\\\000000445792.jpg'\n",
      "\u001b[34m\u001b[1mval: \u001b[0mWARNING ⚠️ C:\\Users\\cwky\\datasets\\coco\\images\\val2017\\000000445846.jpg: ignoring corrupt image/label: [Errno 2] No such file or directory: 'C:\\\\Users\\\\cwky\\\\datasets\\\\coco\\\\images\\\\val2017\\\\000000445846.jpg'\n",
      "\u001b[34m\u001b[1mval: \u001b[0mWARNING ⚠️ C:\\Users\\cwky\\datasets\\coco\\images\\val2017\\000000446005.jpg: ignoring corrupt image/label: [Errno 2] No such file or directory: 'C:\\\\Users\\\\cwky\\\\datasets\\\\coco\\\\images\\\\val2017\\\\000000446005.jpg'\n",
      "\u001b[34m\u001b[1mval: \u001b[0mWARNING ⚠️ C:\\Users\\cwky\\datasets\\coco\\images\\val2017\\000000446206.jpg: ignoring corrupt image/label: [Errno 2] No such file or directory: 'C:\\\\Users\\\\cwky\\\\datasets\\\\coco\\\\images\\\\val2017\\\\000000446206.jpg'\n",
      "\u001b[34m\u001b[1mval: \u001b[0mWARNING ⚠️ C:\\Users\\cwky\\datasets\\coco\\images\\val2017\\000000446207.jpg: ignoring corrupt image/label: [Errno 2] No such file or directory: 'C:\\\\Users\\\\cwky\\\\datasets\\\\coco\\\\images\\\\val2017\\\\000000446207.jpg'\n",
      "\u001b[34m\u001b[1mval: \u001b[0mWARNING ⚠️ C:\\Users\\cwky\\datasets\\coco\\images\\val2017\\000000447187.jpg: ignoring corrupt image/label: [Errno 2] No such file or directory: 'C:\\\\Users\\\\cwky\\\\datasets\\\\coco\\\\images\\\\val2017\\\\000000447187.jpg'\n",
      "\u001b[34m\u001b[1mval: \u001b[0mWARNING ⚠️ C:\\Users\\cwky\\datasets\\coco\\images\\val2017\\000000447200.jpg: ignoring corrupt image/label: [Errno 2] No such file or directory: 'C:\\\\Users\\\\cwky\\\\datasets\\\\coco\\\\images\\\\val2017\\\\000000447200.jpg'\n",
      "\u001b[34m\u001b[1mval: \u001b[0mWARNING ⚠️ C:\\Users\\cwky\\datasets\\coco\\images\\val2017\\000000447465.jpg: ignoring corrupt image/label: [Errno 2] No such file or directory: 'C:\\\\Users\\\\cwky\\\\datasets\\\\coco\\\\images\\\\val2017\\\\000000447465.jpg'\n",
      "\u001b[34m\u001b[1mval: \u001b[0mWARNING ⚠️ C:\\Users\\cwky\\datasets\\coco\\images\\val2017\\000000447522.jpg: ignoring corrupt image/label: [Errno 2] No such file or directory: 'C:\\\\Users\\\\cwky\\\\datasets\\\\coco\\\\images\\\\val2017\\\\000000447522.jpg'\n",
      "\u001b[34m\u001b[1mval: \u001b[0mWARNING ⚠️ C:\\Users\\cwky\\datasets\\coco\\images\\val2017\\000000447789.jpg: ignoring corrupt image/label: [Errno 2] No such file or directory: 'C:\\\\Users\\\\cwky\\\\datasets\\\\coco\\\\images\\\\val2017\\\\000000447789.jpg'\n",
      "\u001b[34m\u001b[1mval: \u001b[0mWARNING ⚠️ C:\\Users\\cwky\\datasets\\coco\\images\\val2017\\000000448076.jpg: ignoring corrupt image/label: [Errno 2] No such file or directory: 'C:\\\\Users\\\\cwky\\\\datasets\\\\coco\\\\images\\\\val2017\\\\000000448076.jpg'\n",
      "\u001b[34m\u001b[1mval: \u001b[0mWARNING ⚠️ C:\\Users\\cwky\\datasets\\coco\\images\\val2017\\000000449190.jpg: ignoring corrupt image/label: [Errno 2] No such file or directory: 'C:\\\\Users\\\\cwky\\\\datasets\\\\coco\\\\images\\\\val2017\\\\000000449190.jpg'\n",
      "\u001b[34m\u001b[1mval: \u001b[0mWARNING ⚠️ C:\\Users\\cwky\\datasets\\coco\\images\\val2017\\000000449406.jpg: ignoring corrupt image/label: [Errno 2] No such file or directory: 'C:\\\\Users\\\\cwky\\\\datasets\\\\coco\\\\images\\\\val2017\\\\000000449406.jpg'\n",
      "\u001b[34m\u001b[1mval: \u001b[0mWARNING ⚠️ C:\\Users\\cwky\\datasets\\coco\\images\\val2017\\000000449603.jpg: ignoring corrupt image/label: [Errno 2] No such file or directory: 'C:\\\\Users\\\\cwky\\\\datasets\\\\coco\\\\images\\\\val2017\\\\000000449603.jpg'\n",
      "\u001b[34m\u001b[1mval: \u001b[0mWARNING ⚠️ C:\\Users\\cwky\\datasets\\coco\\images\\val2017\\000000449661.jpg: ignoring corrupt image/label: [Errno 2] No such file or directory: 'C:\\\\Users\\\\cwky\\\\datasets\\\\coco\\\\images\\\\val2017\\\\000000449661.jpg'\n",
      "\u001b[34m\u001b[1mval: \u001b[0mWARNING ⚠️ C:\\Users\\cwky\\datasets\\coco\\images\\val2017\\000000449996.jpg: ignoring corrupt image/label: [Errno 2] No such file or directory: 'C:\\\\Users\\\\cwky\\\\datasets\\\\coco\\\\images\\\\val2017\\\\000000449996.jpg'\n",
      "\u001b[34m\u001b[1mval: \u001b[0mWARNING ⚠️ C:\\Users\\cwky\\datasets\\coco\\images\\val2017\\000000450100.jpg: ignoring corrupt image/label: [Errno 2] No such file or directory: 'C:\\\\Users\\\\cwky\\\\datasets\\\\coco\\\\images\\\\val2017\\\\000000450100.jpg'\n",
      "\u001b[34m\u001b[1mval: \u001b[0mWARNING ⚠️ C:\\Users\\cwky\\datasets\\coco\\images\\val2017\\000000450686.jpg: ignoring corrupt image/label: [Errno 2] No such file or directory: 'C:\\\\Users\\\\cwky\\\\datasets\\\\coco\\\\images\\\\val2017\\\\000000450686.jpg'\n",
      "\u001b[34m\u001b[1mval: \u001b[0mWARNING ⚠️ C:\\Users\\cwky\\datasets\\coco\\images\\val2017\\000000450758.jpg: ignoring corrupt image/label: [Errno 2] No such file or directory: 'C:\\\\Users\\\\cwky\\\\datasets\\\\coco\\\\images\\\\val2017\\\\000000450758.jpg'\n",
      "\u001b[34m\u001b[1mval: \u001b[0mWARNING ⚠️ C:\\Users\\cwky\\datasets\\coco\\images\\val2017\\000000451084.jpg: ignoring corrupt image/label: [Errno 2] No such file or directory: 'C:\\\\Users\\\\cwky\\\\datasets\\\\coco\\\\images\\\\val2017\\\\000000451084.jpg'\n",
      "\u001b[34m\u001b[1mval: \u001b[0mWARNING ⚠️ C:\\Users\\cwky\\datasets\\coco\\images\\val2017\\000000451090.jpg: ignoring corrupt image/label: [Errno 2] No such file or directory: 'C:\\\\Users\\\\cwky\\\\datasets\\\\coco\\\\images\\\\val2017\\\\000000451090.jpg'\n",
      "\u001b[34m\u001b[1mval: \u001b[0mWARNING ⚠️ C:\\Users\\cwky\\datasets\\coco\\images\\val2017\\000000451150.jpg: ignoring corrupt image/label: [Errno 2] No such file or directory: 'C:\\\\Users\\\\cwky\\\\datasets\\\\coco\\\\images\\\\val2017\\\\000000451150.jpg'\n",
      "\u001b[34m\u001b[1mval: \u001b[0mWARNING ⚠️ C:\\Users\\cwky\\datasets\\coco\\images\\val2017\\000000451571.jpg: ignoring corrupt image/label: [Errno 2] No such file or directory: 'C:\\\\Users\\\\cwky\\\\datasets\\\\coco\\\\images\\\\val2017\\\\000000451571.jpg'\n",
      "\u001b[34m\u001b[1mval: \u001b[0mWARNING ⚠️ C:\\Users\\cwky\\datasets\\coco\\images\\val2017\\000000451714.jpg: ignoring corrupt image/label: [Errno 2] No such file or directory: 'C:\\\\Users\\\\cwky\\\\datasets\\\\coco\\\\images\\\\val2017\\\\000000451714.jpg'\n",
      "\u001b[34m\u001b[1mval: \u001b[0mWARNING ⚠️ C:\\Users\\cwky\\datasets\\coco\\images\\val2017\\000000452321.jpg: ignoring corrupt image/label: [Errno 2] No such file or directory: 'C:\\\\Users\\\\cwky\\\\datasets\\\\coco\\\\images\\\\val2017\\\\000000452321.jpg'\n",
      "\u001b[34m\u001b[1mval: \u001b[0mWARNING ⚠️ C:\\Users\\cwky\\datasets\\coco\\images\\val2017\\000000452515.jpg: ignoring corrupt image/label: [Errno 2] No such file or directory: 'C:\\\\Users\\\\cwky\\\\datasets\\\\coco\\\\images\\\\val2017\\\\000000452515.jpg'\n",
      "\u001b[34m\u001b[1mval: \u001b[0mWARNING ⚠️ C:\\Users\\cwky\\datasets\\coco\\images\\val2017\\000000452793.jpg: ignoring corrupt image/label: [Errno 2] No such file or directory: 'C:\\\\Users\\\\cwky\\\\datasets\\\\coco\\\\images\\\\val2017\\\\000000452793.jpg'\n",
      "\u001b[34m\u001b[1mval: \u001b[0mWARNING ⚠️ C:\\Users\\cwky\\datasets\\coco\\images\\val2017\\000000452891.jpg: ignoring corrupt image/label: [Errno 2] No such file or directory: 'C:\\\\Users\\\\cwky\\\\datasets\\\\coco\\\\images\\\\val2017\\\\000000452891.jpg'\n",
      "\u001b[34m\u001b[1mval: \u001b[0mWARNING ⚠️ C:\\Users\\cwky\\datasets\\coco\\images\\val2017\\000000453166.jpg: ignoring corrupt image/label: [Errno 2] No such file or directory: 'C:\\\\Users\\\\cwky\\\\datasets\\\\coco\\\\images\\\\val2017\\\\000000453166.jpg'\n",
      "\u001b[34m\u001b[1mval: \u001b[0mWARNING ⚠️ C:\\Users\\cwky\\datasets\\coco\\images\\val2017\\000000453341.jpg: ignoring corrupt image/label: [Errno 2] No such file or directory: 'C:\\\\Users\\\\cwky\\\\datasets\\\\coco\\\\images\\\\val2017\\\\000000453341.jpg'\n",
      "\u001b[34m\u001b[1mval: \u001b[0mWARNING ⚠️ C:\\Users\\cwky\\datasets\\coco\\images\\val2017\\000000453981.jpg: ignoring corrupt image/label: [Errno 2] No such file or directory: 'C:\\\\Users\\\\cwky\\\\datasets\\\\coco\\\\images\\\\val2017\\\\000000453981.jpg'\n",
      "\u001b[34m\u001b[1mval: \u001b[0mWARNING ⚠️ C:\\Users\\cwky\\datasets\\coco\\images\\val2017\\000000454067.jpg: ignoring corrupt image/label: [Errno 2] No such file or directory: 'C:\\\\Users\\\\cwky\\\\datasets\\\\coco\\\\images\\\\val2017\\\\000000454067.jpg'\n",
      "\u001b[34m\u001b[1mval: \u001b[0mWARNING ⚠️ C:\\Users\\cwky\\datasets\\coco\\images\\val2017\\000000454404.jpg: ignoring corrupt image/label: [Errno 2] No such file or directory: 'C:\\\\Users\\\\cwky\\\\datasets\\\\coco\\\\images\\\\val2017\\\\000000454404.jpg'\n",
      "\u001b[34m\u001b[1mval: \u001b[0mWARNING ⚠️ C:\\Users\\cwky\\datasets\\coco\\images\\val2017\\000000455267.jpg: ignoring corrupt image/label: [Errno 2] No such file or directory: 'C:\\\\Users\\\\cwky\\\\datasets\\\\coco\\\\images\\\\val2017\\\\000000455267.jpg'\n",
      "\u001b[34m\u001b[1mval: \u001b[0mWARNING ⚠️ C:\\Users\\cwky\\datasets\\coco\\images\\val2017\\000000455352.jpg: ignoring corrupt image/label: [Errno 2] No such file or directory: 'C:\\\\Users\\\\cwky\\\\datasets\\\\coco\\\\images\\\\val2017\\\\000000455352.jpg'\n",
      "\u001b[34m\u001b[1mval: \u001b[0mWARNING ⚠️ C:\\Users\\cwky\\datasets\\coco\\images\\val2017\\000000455597.jpg: ignoring corrupt image/label: [Errno 2] No such file or directory: 'C:\\\\Users\\\\cwky\\\\datasets\\\\coco\\\\images\\\\val2017\\\\000000455597.jpg'\n",
      "\u001b[34m\u001b[1mval: \u001b[0mWARNING ⚠️ C:\\Users\\cwky\\datasets\\coco\\images\\val2017\\000000455624.jpg: ignoring corrupt image/label: [Errno 2] No such file or directory: 'C:\\\\Users\\\\cwky\\\\datasets\\\\coco\\\\images\\\\val2017\\\\000000455624.jpg'\n",
      "\u001b[34m\u001b[1mval: \u001b[0mWARNING ⚠️ C:\\Users\\cwky\\datasets\\coco\\images\\val2017\\000000455716.jpg: ignoring corrupt image/label: [Errno 2] No such file or directory: 'C:\\\\Users\\\\cwky\\\\datasets\\\\coco\\\\images\\\\val2017\\\\000000455716.jpg'\n",
      "\u001b[34m\u001b[1mval: \u001b[0mWARNING ⚠️ C:\\Users\\cwky\\datasets\\coco\\images\\val2017\\000000456015.jpg: ignoring corrupt image/label: [Errno 2] No such file or directory: 'C:\\\\Users\\\\cwky\\\\datasets\\\\coco\\\\images\\\\val2017\\\\000000456015.jpg'\n",
      "\u001b[34m\u001b[1mval: \u001b[0mWARNING ⚠️ C:\\Users\\cwky\\datasets\\coco\\images\\val2017\\000000456143.jpg: ignoring corrupt image/label: [Errno 2] No such file or directory: 'C:\\\\Users\\\\cwky\\\\datasets\\\\coco\\\\images\\\\val2017\\\\000000456143.jpg'\n",
      "\u001b[34m\u001b[1mval: \u001b[0mWARNING ⚠️ C:\\Users\\cwky\\datasets\\coco\\images\\val2017\\000000456865.jpg: ignoring corrupt image/label: [Errno 2] No such file or directory: 'C:\\\\Users\\\\cwky\\\\datasets\\\\coco\\\\images\\\\val2017\\\\000000456865.jpg'\n",
      "\u001b[34m\u001b[1mval: \u001b[0mWARNING ⚠️ C:\\Users\\cwky\\datasets\\coco\\images\\val2017\\000000457078.jpg: ignoring corrupt image/label: [Errno 2] No such file or directory: 'C:\\\\Users\\\\cwky\\\\datasets\\\\coco\\\\images\\\\val2017\\\\000000457078.jpg'\n",
      "\u001b[34m\u001b[1mval: \u001b[0mWARNING ⚠️ C:\\Users\\cwky\\datasets\\coco\\images\\val2017\\000000458054.jpg: ignoring corrupt image/label: [Errno 2] No such file or directory: 'C:\\\\Users\\\\cwky\\\\datasets\\\\coco\\\\images\\\\val2017\\\\000000458054.jpg'\n",
      "\u001b[34m\u001b[1mval: \u001b[0mWARNING ⚠️ C:\\Users\\cwky\\datasets\\coco\\images\\val2017\\000000458109.jpg: ignoring corrupt image/label: [Errno 2] No such file or directory: 'C:\\\\Users\\\\cwky\\\\datasets\\\\coco\\\\images\\\\val2017\\\\000000458109.jpg'\n",
      "\u001b[34m\u001b[1mval: \u001b[0mWARNING ⚠️ C:\\Users\\cwky\\datasets\\coco\\images\\val2017\\000000458325.jpg: ignoring corrupt image/label: [Errno 2] No such file or directory: 'C:\\\\Users\\\\cwky\\\\datasets\\\\coco\\\\images\\\\val2017\\\\000000458325.jpg'\n",
      "\u001b[34m\u001b[1mval: \u001b[0mWARNING ⚠️ C:\\Users\\cwky\\datasets\\coco\\images\\val2017\\000000458663.jpg: ignoring corrupt image/label: [Errno 2] No such file or directory: 'C:\\\\Users\\\\cwky\\\\datasets\\\\coco\\\\images\\\\val2017\\\\000000458663.jpg'\n",
      "\u001b[34m\u001b[1mval: \u001b[0mWARNING ⚠️ C:\\Users\\cwky\\datasets\\coco\\images\\val2017\\000000458755.jpg: ignoring corrupt image/label: [Errno 2] No such file or directory: 'C:\\\\Users\\\\cwky\\\\datasets\\\\coco\\\\images\\\\val2017\\\\000000458755.jpg'\n",
      "\u001b[34m\u001b[1mval: \u001b[0mWARNING ⚠️ C:\\Users\\cwky\\datasets\\coco\\images\\val2017\\000000458768.jpg: ignoring corrupt image/label: [Errno 2] No such file or directory: 'C:\\\\Users\\\\cwky\\\\datasets\\\\coco\\\\images\\\\val2017\\\\000000458768.jpg'\n",
      "\u001b[34m\u001b[1mval: \u001b[0mWARNING ⚠️ C:\\Users\\cwky\\datasets\\coco\\images\\val2017\\000000458992.jpg: ignoring corrupt image/label: [Errno 2] No such file or directory: 'C:\\\\Users\\\\cwky\\\\datasets\\\\coco\\\\images\\\\val2017\\\\000000458992.jpg'\n",
      "\u001b[34m\u001b[1mval: \u001b[0mWARNING ⚠️ C:\\Users\\cwky\\datasets\\coco\\images\\val2017\\000000459195.jpg: ignoring corrupt image/label: [Errno 2] No such file or directory: 'C:\\\\Users\\\\cwky\\\\datasets\\\\coco\\\\images\\\\val2017\\\\000000459195.jpg'\n",
      "\u001b[34m\u001b[1mval: \u001b[0mWARNING ⚠️ C:\\Users\\cwky\\datasets\\coco\\images\\val2017\\000000459396.jpg: ignoring corrupt image/label: [Errno 2] No such file or directory: 'C:\\\\Users\\\\cwky\\\\datasets\\\\coco\\\\images\\\\val2017\\\\000000459396.jpg'\n",
      "\u001b[34m\u001b[1mval: \u001b[0mWARNING ⚠️ C:\\Users\\cwky\\datasets\\coco\\images\\val2017\\000000459634.jpg: ignoring corrupt image/label: [Errno 2] No such file or directory: 'C:\\\\Users\\\\cwky\\\\datasets\\\\coco\\\\images\\\\val2017\\\\000000459634.jpg'\n",
      "\u001b[34m\u001b[1mval: \u001b[0mWARNING ⚠️ C:\\Users\\cwky\\datasets\\coco\\images\\val2017\\000000459809.jpg: ignoring corrupt image/label: [Errno 2] No such file or directory: 'C:\\\\Users\\\\cwky\\\\datasets\\\\coco\\\\images\\\\val2017\\\\000000459809.jpg'\n",
      "\u001b[34m\u001b[1mval: \u001b[0mWARNING ⚠️ C:\\Users\\cwky\\datasets\\coco\\images\\val2017\\000000460147.jpg: ignoring corrupt image/label: [Errno 2] No such file or directory: 'C:\\\\Users\\\\cwky\\\\datasets\\\\coco\\\\images\\\\val2017\\\\000000460147.jpg'\n",
      "\u001b[34m\u001b[1mval: \u001b[0mWARNING ⚠️ C:\\Users\\cwky\\datasets\\coco\\images\\val2017\\000000460160.jpg: ignoring corrupt image/label: [Errno 2] No such file or directory: 'C:\\\\Users\\\\cwky\\\\datasets\\\\coco\\\\images\\\\val2017\\\\000000460160.jpg'\n",
      "\u001b[34m\u001b[1mval: \u001b[0mWARNING ⚠️ C:\\Users\\cwky\\datasets\\coco\\images\\val2017\\000000460333.jpg: ignoring corrupt image/label: [Errno 2] No such file or directory: 'C:\\\\Users\\\\cwky\\\\datasets\\\\coco\\\\images\\\\val2017\\\\000000460333.jpg'\n",
      "\u001b[34m\u001b[1mval: \u001b[0mWARNING ⚠️ C:\\Users\\cwky\\datasets\\coco\\images\\val2017\\000000460927.jpg: ignoring corrupt image/label: [Errno 2] No such file or directory: 'C:\\\\Users\\\\cwky\\\\datasets\\\\coco\\\\images\\\\val2017\\\\000000460927.jpg'\n",
      "\u001b[34m\u001b[1mval: \u001b[0mWARNING ⚠️ C:\\Users\\cwky\\datasets\\coco\\images\\val2017\\000000460929.jpg: ignoring corrupt image/label: [Errno 2] No such file or directory: 'C:\\\\Users\\\\cwky\\\\datasets\\\\coco\\\\images\\\\val2017\\\\000000460929.jpg'\n",
      "\u001b[34m\u001b[1mval: \u001b[0mWARNING ⚠️ C:\\Users\\cwky\\datasets\\coco\\images\\val2017\\000000461036.jpg: ignoring corrupt image/label: [Errno 2] No such file or directory: 'C:\\\\Users\\\\cwky\\\\datasets\\\\coco\\\\images\\\\val2017\\\\000000461036.jpg'\n",
      "\u001b[34m\u001b[1mval: \u001b[0mWARNING ⚠️ C:\\Users\\cwky\\datasets\\coco\\images\\val2017\\000000461275.jpg: ignoring corrupt image/label: [Errno 2] No such file or directory: 'C:\\\\Users\\\\cwky\\\\datasets\\\\coco\\\\images\\\\val2017\\\\000000461275.jpg'\n",
      "\u001b[34m\u001b[1mval: \u001b[0mWARNING ⚠️ C:\\Users\\cwky\\datasets\\coco\\images\\val2017\\000000462614.jpg: ignoring corrupt image/label: [Errno 2] No such file or directory: 'C:\\\\Users\\\\cwky\\\\datasets\\\\coco\\\\images\\\\val2017\\\\000000462614.jpg'\n",
      "\u001b[34m\u001b[1mval: \u001b[0mWARNING ⚠️ C:\\Users\\cwky\\datasets\\coco\\images\\val2017\\000000462728.jpg: ignoring corrupt image/label: [Errno 2] No such file or directory: 'C:\\\\Users\\\\cwky\\\\datasets\\\\coco\\\\images\\\\val2017\\\\000000462728.jpg'\n",
      "\u001b[34m\u001b[1mval: \u001b[0mWARNING ⚠️ C:\\Users\\cwky\\datasets\\coco\\images\\val2017\\000000463037.jpg: ignoring corrupt image/label: [Errno 2] No such file or directory: 'C:\\\\Users\\\\cwky\\\\datasets\\\\coco\\\\images\\\\val2017\\\\000000463037.jpg'\n",
      "\u001b[34m\u001b[1mval: \u001b[0mWARNING ⚠️ C:\\Users\\cwky\\datasets\\coco\\images\\val2017\\000000463199.jpg: ignoring corrupt image/label: [Errno 2] No such file or directory: 'C:\\\\Users\\\\cwky\\\\datasets\\\\coco\\\\images\\\\val2017\\\\000000463199.jpg'\n",
      "\u001b[34m\u001b[1mval: \u001b[0mWARNING ⚠️ C:\\Users\\cwky\\datasets\\coco\\images\\val2017\\000000463522.jpg: ignoring corrupt image/label: [Errno 2] No such file or directory: 'C:\\\\Users\\\\cwky\\\\datasets\\\\coco\\\\images\\\\val2017\\\\000000463522.jpg'\n",
      "\u001b[34m\u001b[1mval: \u001b[0mWARNING ⚠️ C:\\Users\\cwky\\datasets\\coco\\images\\val2017\\000000463542.jpg: ignoring corrupt image/label: [Errno 2] No such file or directory: 'C:\\\\Users\\\\cwky\\\\datasets\\\\coco\\\\images\\\\val2017\\\\000000463542.jpg'\n",
      "\u001b[34m\u001b[1mval: \u001b[0mWARNING ⚠️ C:\\Users\\cwky\\datasets\\coco\\images\\val2017\\000000463730.jpg: ignoring corrupt image/label: [Errno 2] No such file or directory: 'C:\\\\Users\\\\cwky\\\\datasets\\\\coco\\\\images\\\\val2017\\\\000000463730.jpg'\n",
      "\u001b[34m\u001b[1mval: \u001b[0mWARNING ⚠️ C:\\Users\\cwky\\datasets\\coco\\images\\val2017\\000000463802.jpg: ignoring corrupt image/label: [Errno 2] No such file or directory: 'C:\\\\Users\\\\cwky\\\\datasets\\\\coco\\\\images\\\\val2017\\\\000000463802.jpg'\n",
      "\u001b[34m\u001b[1mval: \u001b[0mWARNING ⚠️ C:\\Users\\cwky\\datasets\\coco\\images\\val2017\\000000463849.jpg: ignoring corrupt image/label: [Errno 2] No such file or directory: 'C:\\\\Users\\\\cwky\\\\datasets\\\\coco\\\\images\\\\val2017\\\\000000463849.jpg'\n",
      "\u001b[34m\u001b[1mval: \u001b[0mWARNING ⚠️ C:\\Users\\cwky\\datasets\\coco\\images\\val2017\\000000464089.jpg: ignoring corrupt image/label: [Errno 2] No such file or directory: 'C:\\\\Users\\\\cwky\\\\datasets\\\\coco\\\\images\\\\val2017\\\\000000464089.jpg'\n",
      "\u001b[34m\u001b[1mval: \u001b[0mWARNING ⚠️ C:\\Users\\cwky\\datasets\\coco\\images\\val2017\\000000464144.jpg: ignoring corrupt image/label: [Errno 2] No such file or directory: 'C:\\\\Users\\\\cwky\\\\datasets\\\\coco\\\\images\\\\val2017\\\\000000464144.jpg'\n",
      "\u001b[34m\u001b[1mval: \u001b[0mWARNING ⚠️ C:\\Users\\cwky\\datasets\\coco\\images\\val2017\\000000464358.jpg: ignoring corrupt image/label: [Errno 2] No such file or directory: 'C:\\\\Users\\\\cwky\\\\datasets\\\\coco\\\\images\\\\val2017\\\\000000464358.jpg'\n",
      "\u001b[34m\u001b[1mval: \u001b[0mWARNING ⚠️ C:\\Users\\cwky\\datasets\\coco\\images\\val2017\\000000464824.jpg: ignoring corrupt image/label: [Errno 2] No such file or directory: 'C:\\\\Users\\\\cwky\\\\datasets\\\\coco\\\\images\\\\val2017\\\\000000464824.jpg'\n",
      "\u001b[34m\u001b[1mval: \u001b[0mWARNING ⚠️ C:\\Users\\cwky\\datasets\\coco\\images\\val2017\\000000465129.jpg: ignoring corrupt image/label: [Errno 2] No such file or directory: 'C:\\\\Users\\\\cwky\\\\datasets\\\\coco\\\\images\\\\val2017\\\\000000465129.jpg'\n",
      "\u001b[34m\u001b[1mval: \u001b[0mWARNING ⚠️ C:\\Users\\cwky\\datasets\\coco\\images\\val2017\\000000465179.jpg: ignoring corrupt image/label: [Errno 2] No such file or directory: 'C:\\\\Users\\\\cwky\\\\datasets\\\\coco\\\\images\\\\val2017\\\\000000465179.jpg'\n",
      "\u001b[34m\u001b[1mval: \u001b[0mWARNING ⚠️ C:\\Users\\cwky\\datasets\\coco\\images\\val2017\\000000465585.jpg: ignoring corrupt image/label: [Errno 2] No such file or directory: 'C:\\\\Users\\\\cwky\\\\datasets\\\\coco\\\\images\\\\val2017\\\\000000465585.jpg'\n",
      "\u001b[34m\u001b[1mval: \u001b[0mWARNING ⚠️ C:\\Users\\cwky\\datasets\\coco\\images\\val2017\\000000465675.jpg: ignoring corrupt image/label: [Errno 2] No such file or directory: 'C:\\\\Users\\\\cwky\\\\datasets\\\\coco\\\\images\\\\val2017\\\\000000465675.jpg'\n",
      "\u001b[34m\u001b[1mval: \u001b[0mWARNING ⚠️ C:\\Users\\cwky\\datasets\\coco\\images\\val2017\\000000465822.jpg: ignoring corrupt image/label: [Errno 2] No such file or directory: 'C:\\\\Users\\\\cwky\\\\datasets\\\\coco\\\\images\\\\val2017\\\\000000465822.jpg'\n",
      "\u001b[34m\u001b[1mval: \u001b[0mWARNING ⚠️ C:\\Users\\cwky\\datasets\\coco\\images\\val2017\\000000466125.jpg: ignoring corrupt image/label: [Errno 2] No such file or directory: 'C:\\\\Users\\\\cwky\\\\datasets\\\\coco\\\\images\\\\val2017\\\\000000466125.jpg'\n",
      "\u001b[34m\u001b[1mval: \u001b[0mWARNING ⚠️ C:\\Users\\cwky\\datasets\\coco\\images\\val2017\\000000466256.jpg: ignoring corrupt image/label: [Errno 2] No such file or directory: 'C:\\\\Users\\\\cwky\\\\datasets\\\\coco\\\\images\\\\val2017\\\\000000466256.jpg'\n",
      "\u001b[34m\u001b[1mval: \u001b[0mWARNING ⚠️ C:\\Users\\cwky\\datasets\\coco\\images\\val2017\\000000466339.jpg: ignoring corrupt image/label: [Errno 2] No such file or directory: 'C:\\\\Users\\\\cwky\\\\datasets\\\\coco\\\\images\\\\val2017\\\\000000466339.jpg'\n",
      "\u001b[34m\u001b[1mval: \u001b[0mWARNING ⚠️ C:\\Users\\cwky\\datasets\\coco\\images\\val2017\\000000466567.jpg: ignoring corrupt image/label: [Errno 2] No such file or directory: 'C:\\\\Users\\\\cwky\\\\datasets\\\\coco\\\\images\\\\val2017\\\\000000466567.jpg'\n",
      "\u001b[34m\u001b[1mval: \u001b[0mWARNING ⚠️ C:\\Users\\cwky\\datasets\\coco\\images\\val2017\\000000466602.jpg: ignoring corrupt image/label: [Errno 2] No such file or directory: 'C:\\\\Users\\\\cwky\\\\datasets\\\\coco\\\\images\\\\val2017\\\\000000466602.jpg'\n",
      "\u001b[34m\u001b[1mval: \u001b[0mWARNING ⚠️ C:\\Users\\cwky\\datasets\\coco\\images\\val2017\\000000468124.jpg: ignoring corrupt image/label: [Errno 2] No such file or directory: 'C:\\\\Users\\\\cwky\\\\datasets\\\\coco\\\\images\\\\val2017\\\\000000468124.jpg'\n",
      "\u001b[34m\u001b[1mval: \u001b[0mWARNING ⚠️ C:\\Users\\cwky\\datasets\\coco\\images\\val2017\\000000468505.jpg: ignoring corrupt image/label: [Errno 2] No such file or directory: 'C:\\\\Users\\\\cwky\\\\datasets\\\\coco\\\\images\\\\val2017\\\\000000468505.jpg'\n",
      "\u001b[34m\u001b[1mval: \u001b[0mWARNING ⚠️ C:\\Users\\cwky\\datasets\\coco\\images\\val2017\\000000468965.jpg: ignoring corrupt image/label: [Errno 2] No such file or directory: 'C:\\\\Users\\\\cwky\\\\datasets\\\\coco\\\\images\\\\val2017\\\\000000468965.jpg'\n",
      "\u001b[34m\u001b[1mval: \u001b[0mWARNING ⚠️ C:\\Users\\cwky\\datasets\\coco\\images\\val2017\\000000469067.jpg: ignoring corrupt image/label: [Errno 2] No such file or directory: 'C:\\\\Users\\\\cwky\\\\datasets\\\\coco\\\\images\\\\val2017\\\\000000469067.jpg'\n",
      "\u001b[34m\u001b[1mval: \u001b[0mWARNING ⚠️ C:\\Users\\cwky\\datasets\\coco\\images\\val2017\\000000469174.jpg: ignoring corrupt image/label: [Errno 2] No such file or directory: 'C:\\\\Users\\\\cwky\\\\datasets\\\\coco\\\\images\\\\val2017\\\\000000469174.jpg'\n",
      "\u001b[34m\u001b[1mval: \u001b[0mWARNING ⚠️ C:\\Users\\cwky\\datasets\\coco\\images\\val2017\\000000469192.jpg: ignoring corrupt image/label: [Errno 2] No such file or directory: 'C:\\\\Users\\\\cwky\\\\datasets\\\\coco\\\\images\\\\val2017\\\\000000469192.jpg'\n",
      "\u001b[34m\u001b[1mval: \u001b[0mWARNING ⚠️ C:\\Users\\cwky\\datasets\\coco\\images\\val2017\\000000469652.jpg: ignoring corrupt image/label: [Errno 2] No such file or directory: 'C:\\\\Users\\\\cwky\\\\datasets\\\\coco\\\\images\\\\val2017\\\\000000469652.jpg'\n",
      "\u001b[34m\u001b[1mval: \u001b[0mWARNING ⚠️ C:\\Users\\cwky\\datasets\\coco\\images\\val2017\\000000470121.jpg: ignoring corrupt image/label: [Errno 2] No such file or directory: 'C:\\\\Users\\\\cwky\\\\datasets\\\\coco\\\\images\\\\val2017\\\\000000470121.jpg'\n",
      "\u001b[34m\u001b[1mval: \u001b[0mWARNING ⚠️ C:\\Users\\cwky\\datasets\\coco\\images\\val2017\\000000471567.jpg: ignoring corrupt image/label: [Errno 2] No such file or directory: 'C:\\\\Users\\\\cwky\\\\datasets\\\\coco\\\\images\\\\val2017\\\\000000471567.jpg'\n",
      "\u001b[34m\u001b[1mval: \u001b[0mWARNING ⚠️ C:\\Users\\cwky\\datasets\\coco\\images\\val2017\\000000471869.jpg: ignoring corrupt image/label: [Errno 2] No such file or directory: 'C:\\\\Users\\\\cwky\\\\datasets\\\\coco\\\\images\\\\val2017\\\\000000471869.jpg'\n",
      "\u001b[34m\u001b[1mval: \u001b[0mWARNING ⚠️ C:\\Users\\cwky\\datasets\\coco\\images\\val2017\\000000471893.jpg: ignoring corrupt image/label: [Errno 2] No such file or directory: 'C:\\\\Users\\\\cwky\\\\datasets\\\\coco\\\\images\\\\val2017\\\\000000471893.jpg'\n",
      "\u001b[34m\u001b[1mval: \u001b[0mWARNING ⚠️ C:\\Users\\cwky\\datasets\\coco\\images\\val2017\\000000471991.jpg: ignoring corrupt image/label: [Errno 2] No such file or directory: 'C:\\\\Users\\\\cwky\\\\datasets\\\\coco\\\\images\\\\val2017\\\\000000471991.jpg'\n",
      "\u001b[34m\u001b[1mval: \u001b[0mWARNING ⚠️ C:\\Users\\cwky\\datasets\\coco\\images\\val2017\\000000472030.jpg: ignoring corrupt image/label: [Errno 2] No such file or directory: 'C:\\\\Users\\\\cwky\\\\datasets\\\\coco\\\\images\\\\val2017\\\\000000472030.jpg'\n",
      "\u001b[34m\u001b[1mval: \u001b[0mWARNING ⚠️ C:\\Users\\cwky\\datasets\\coco\\images\\val2017\\000000472623.jpg: ignoring corrupt image/label: [Errno 2] No such file or directory: 'C:\\\\Users\\\\cwky\\\\datasets\\\\coco\\\\images\\\\val2017\\\\000000472623.jpg'\n",
      "\u001b[34m\u001b[1mval: \u001b[0mWARNING ⚠️ C:\\Users\\cwky\\datasets\\coco\\images\\val2017\\000000472678.jpg: ignoring corrupt image/label: [Errno 2] No such file or directory: 'C:\\\\Users\\\\cwky\\\\datasets\\\\coco\\\\images\\\\val2017\\\\000000472678.jpg'\n",
      "\u001b[34m\u001b[1mval: \u001b[0mWARNING ⚠️ C:\\Users\\cwky\\datasets\\coco\\images\\val2017\\000000473015.jpg: ignoring corrupt image/label: [Errno 2] No such file or directory: 'C:\\\\Users\\\\cwky\\\\datasets\\\\coco\\\\images\\\\val2017\\\\000000473015.jpg'\n",
      "\u001b[34m\u001b[1mval: \u001b[0mWARNING ⚠️ C:\\Users\\cwky\\datasets\\coco\\images\\val2017\\000000473118.jpg: ignoring corrupt image/label: [Errno 2] No such file or directory: 'C:\\\\Users\\\\cwky\\\\datasets\\\\coco\\\\images\\\\val2017\\\\000000473118.jpg'\n",
      "\u001b[34m\u001b[1mval: \u001b[0mWARNING ⚠️ C:\\Users\\cwky\\datasets\\coco\\images\\val2017\\000000473237.jpg: ignoring corrupt image/label: [Errno 2] No such file or directory: 'C:\\\\Users\\\\cwky\\\\datasets\\\\coco\\\\images\\\\val2017\\\\000000473237.jpg'\n",
      "\u001b[34m\u001b[1mval: \u001b[0mWARNING ⚠️ C:\\Users\\cwky\\datasets\\coco\\images\\val2017\\000000474095.jpg: ignoring corrupt image/label: [Errno 2] No such file or directory: 'C:\\\\Users\\\\cwky\\\\datasets\\\\coco\\\\images\\\\val2017\\\\000000474095.jpg'\n",
      "\u001b[34m\u001b[1mval: \u001b[0mWARNING ⚠️ C:\\Users\\cwky\\datasets\\coco\\images\\val2017\\000000474293.jpg: ignoring corrupt image/label: [Errno 2] No such file or directory: 'C:\\\\Users\\\\cwky\\\\datasets\\\\coco\\\\images\\\\val2017\\\\000000474293.jpg'\n",
      "\u001b[34m\u001b[1mval: \u001b[0mWARNING ⚠️ C:\\Users\\cwky\\datasets\\coco\\images\\val2017\\000000474344.jpg: ignoring corrupt image/label: [Errno 2] No such file or directory: 'C:\\\\Users\\\\cwky\\\\datasets\\\\coco\\\\images\\\\val2017\\\\000000474344.jpg'\n",
      "\u001b[34m\u001b[1mval: \u001b[0mWARNING ⚠️ C:\\Users\\cwky\\datasets\\coco\\images\\val2017\\000000474854.jpg: ignoring corrupt image/label: [Errno 2] No such file or directory: 'C:\\\\Users\\\\cwky\\\\datasets\\\\coco\\\\images\\\\val2017\\\\000000474854.jpg'\n",
      "\u001b[34m\u001b[1mval: \u001b[0mWARNING ⚠️ C:\\Users\\cwky\\datasets\\coco\\images\\val2017\\000000475191.jpg: ignoring corrupt image/label: [Errno 2] No such file or directory: 'C:\\\\Users\\\\cwky\\\\datasets\\\\coco\\\\images\\\\val2017\\\\000000475191.jpg'\n",
      "\u001b[34m\u001b[1mval: \u001b[0mWARNING ⚠️ C:\\Users\\cwky\\datasets\\coco\\images\\val2017\\000000475223.jpg: ignoring corrupt image/label: [Errno 2] No such file or directory: 'C:\\\\Users\\\\cwky\\\\datasets\\\\coco\\\\images\\\\val2017\\\\000000475223.jpg'\n",
      "\u001b[34m\u001b[1mval: \u001b[0mWARNING ⚠️ C:\\Users\\cwky\\datasets\\coco\\images\\val2017\\000000475365.jpg: ignoring corrupt image/label: [Errno 2] No such file or directory: 'C:\\\\Users\\\\cwky\\\\datasets\\\\coco\\\\images\\\\val2017\\\\000000475365.jpg'\n",
      "\u001b[34m\u001b[1mval: \u001b[0mWARNING ⚠️ C:\\Users\\cwky\\datasets\\coco\\images\\val2017\\000000475678.jpg: ignoring corrupt image/label: [Errno 2] No such file or directory: 'C:\\\\Users\\\\cwky\\\\datasets\\\\coco\\\\images\\\\val2017\\\\000000475678.jpg'\n",
      "\u001b[34m\u001b[1mval: \u001b[0mWARNING ⚠️ C:\\Users\\cwky\\datasets\\coco\\images\\val2017\\000000475904.jpg: ignoring corrupt image/label: [Errno 2] No such file or directory: 'C:\\\\Users\\\\cwky\\\\datasets\\\\coco\\\\images\\\\val2017\\\\000000475904.jpg'\n",
      "\u001b[34m\u001b[1mval: \u001b[0mWARNING ⚠️ C:\\Users\\cwky\\datasets\\coco\\images\\val2017\\000000476119.jpg: ignoring corrupt image/label: [Errno 2] No such file or directory: 'C:\\\\Users\\\\cwky\\\\datasets\\\\coco\\\\images\\\\val2017\\\\000000476119.jpg'\n",
      "\u001b[34m\u001b[1mval: \u001b[0mWARNING ⚠️ C:\\Users\\cwky\\datasets\\coco\\images\\val2017\\000000476258.jpg: ignoring corrupt image/label: [Errno 2] No such file or directory: 'C:\\\\Users\\\\cwky\\\\datasets\\\\coco\\\\images\\\\val2017\\\\000000476258.jpg'\n",
      "\u001b[34m\u001b[1mval: \u001b[0mWARNING ⚠️ C:\\Users\\cwky\\datasets\\coco\\images\\val2017\\000000476415.jpg: ignoring corrupt image/label: [Errno 2] No such file or directory: 'C:\\\\Users\\\\cwky\\\\datasets\\\\coco\\\\images\\\\val2017\\\\000000476415.jpg'\n",
      "\u001b[34m\u001b[1mval: \u001b[0mWARNING ⚠️ C:\\Users\\cwky\\datasets\\coco\\images\\val2017\\000000476491.jpg: ignoring corrupt image/label: [Errno 2] No such file or directory: 'C:\\\\Users\\\\cwky\\\\datasets\\\\coco\\\\images\\\\val2017\\\\000000476491.jpg'\n",
      "\u001b[34m\u001b[1mval: \u001b[0mWARNING ⚠️ C:\\Users\\cwky\\datasets\\coco\\images\\val2017\\000000476704.jpg: ignoring corrupt image/label: [Errno 2] No such file or directory: 'C:\\\\Users\\\\cwky\\\\datasets\\\\coco\\\\images\\\\val2017\\\\000000476704.jpg'\n",
      "\u001b[34m\u001b[1mval: \u001b[0mWARNING ⚠️ C:\\Users\\cwky\\datasets\\coco\\images\\val2017\\000000476770.jpg: ignoring corrupt image/label: [Errno 2] No such file or directory: 'C:\\\\Users\\\\cwky\\\\datasets\\\\coco\\\\images\\\\val2017\\\\000000476770.jpg'\n",
      "\u001b[34m\u001b[1mval: \u001b[0mWARNING ⚠️ C:\\Users\\cwky\\datasets\\coco\\images\\val2017\\000000476810.jpg: ignoring corrupt image/label: [Errno 2] No such file or directory: 'C:\\\\Users\\\\cwky\\\\datasets\\\\coco\\\\images\\\\val2017\\\\000000476810.jpg'\n",
      "\u001b[34m\u001b[1mval: \u001b[0mWARNING ⚠️ C:\\Users\\cwky\\datasets\\coco\\images\\val2017\\000000477441.jpg: ignoring corrupt image/label: [Errno 2] No such file or directory: 'C:\\\\Users\\\\cwky\\\\datasets\\\\coco\\\\images\\\\val2017\\\\000000477441.jpg'\n",
      "\u001b[34m\u001b[1mval: \u001b[0mWARNING ⚠️ C:\\Users\\cwky\\datasets\\coco\\images\\val2017\\000000477689.jpg: ignoring corrupt image/label: [Errno 2] No such file or directory: 'C:\\\\Users\\\\cwky\\\\datasets\\\\coco\\\\images\\\\val2017\\\\000000477689.jpg'\n",
      "\u001b[34m\u001b[1mval: \u001b[0mWARNING ⚠️ C:\\Users\\cwky\\datasets\\coco\\images\\val2017\\000000478136.jpg: ignoring corrupt image/label: [Errno 2] No such file or directory: 'C:\\\\Users\\\\cwky\\\\datasets\\\\coco\\\\images\\\\val2017\\\\000000478136.jpg'\n",
      "\u001b[34m\u001b[1mval: \u001b[0mWARNING ⚠️ C:\\Users\\cwky\\datasets\\coco\\images\\val2017\\000000478286.jpg: ignoring corrupt image/label: [Errno 2] No such file or directory: 'C:\\\\Users\\\\cwky\\\\datasets\\\\coco\\\\images\\\\val2017\\\\000000478286.jpg'\n",
      "\u001b[34m\u001b[1mval: \u001b[0mWARNING ⚠️ C:\\Users\\cwky\\datasets\\coco\\images\\val2017\\000000478393.jpg: ignoring corrupt image/label: [Errno 2] No such file or directory: 'C:\\\\Users\\\\cwky\\\\datasets\\\\coco\\\\images\\\\val2017\\\\000000478393.jpg'\n",
      "\u001b[34m\u001b[1mval: \u001b[0mWARNING ⚠️ C:\\Users\\cwky\\datasets\\coco\\images\\val2017\\000000478474.jpg: ignoring corrupt image/label: [Errno 2] No such file or directory: 'C:\\\\Users\\\\cwky\\\\datasets\\\\coco\\\\images\\\\val2017\\\\000000478474.jpg'\n",
      "\u001b[34m\u001b[1mval: \u001b[0mWARNING ⚠️ C:\\Users\\cwky\\datasets\\coco\\images\\val2017\\000000479126.jpg: ignoring corrupt image/label: [Errno 2] No such file or directory: 'C:\\\\Users\\\\cwky\\\\datasets\\\\coco\\\\images\\\\val2017\\\\000000479126.jpg'\n",
      "\u001b[34m\u001b[1mval: \u001b[0mWARNING ⚠️ C:\\Users\\cwky\\datasets\\coco\\images\\val2017\\000000479155.jpg: ignoring corrupt image/label: [Errno 2] No such file or directory: 'C:\\\\Users\\\\cwky\\\\datasets\\\\coco\\\\images\\\\val2017\\\\000000479155.jpg'\n",
      "\u001b[34m\u001b[1mval: \u001b[0mWARNING ⚠️ C:\\Users\\cwky\\datasets\\coco\\images\\val2017\\000000479248.jpg: ignoring corrupt image/label: [Errno 2] No such file or directory: 'C:\\\\Users\\\\cwky\\\\datasets\\\\coco\\\\images\\\\val2017\\\\000000479248.jpg'\n",
      "\u001b[34m\u001b[1mval: \u001b[0mWARNING ⚠️ C:\\Users\\cwky\\datasets\\coco\\images\\val2017\\000000479448.jpg: ignoring corrupt image/label: [Errno 2] No such file or directory: 'C:\\\\Users\\\\cwky\\\\datasets\\\\coco\\\\images\\\\val2017\\\\000000479448.jpg'\n",
      "\u001b[34m\u001b[1mval: \u001b[0mWARNING ⚠️ C:\\Users\\cwky\\datasets\\coco\\images\\val2017\\000000479596.jpg: ignoring corrupt image/label: [Errno 2] No such file or directory: 'C:\\\\Users\\\\cwky\\\\datasets\\\\coco\\\\images\\\\val2017\\\\000000479596.jpg'\n",
      "\u001b[34m\u001b[1mval: \u001b[0mWARNING ⚠️ C:\\Users\\cwky\\datasets\\coco\\images\\val2017\\000000479953.jpg: ignoring corrupt image/label: [Errno 2] No such file or directory: 'C:\\\\Users\\\\cwky\\\\datasets\\\\coco\\\\images\\\\val2017\\\\000000479953.jpg'\n",
      "\u001b[34m\u001b[1mval: \u001b[0mWARNING ⚠️ C:\\Users\\cwky\\datasets\\coco\\images\\val2017\\000000480275.jpg: ignoring corrupt image/label: [Errno 2] No such file or directory: 'C:\\\\Users\\\\cwky\\\\datasets\\\\coco\\\\images\\\\val2017\\\\000000480275.jpg'\n",
      "\u001b[34m\u001b[1mval: \u001b[0mWARNING ⚠️ C:\\Users\\cwky\\datasets\\coco\\images\\val2017\\000000480842.jpg: ignoring corrupt image/label: [Errno 2] No such file or directory: 'C:\\\\Users\\\\cwky\\\\datasets\\\\coco\\\\images\\\\val2017\\\\000000480842.jpg'\n",
      "\u001b[34m\u001b[1mval: \u001b[0mWARNING ⚠️ C:\\Users\\cwky\\datasets\\coco\\images\\val2017\\000000480944.jpg: ignoring corrupt image/label: [Errno 2] No such file or directory: 'C:\\\\Users\\\\cwky\\\\datasets\\\\coco\\\\images\\\\val2017\\\\000000480944.jpg'\n",
      "\u001b[34m\u001b[1mval: \u001b[0mWARNING ⚠️ C:\\Users\\cwky\\datasets\\coco\\images\\val2017\\000000480985.jpg: ignoring corrupt image/label: [Errno 2] No such file or directory: 'C:\\\\Users\\\\cwky\\\\datasets\\\\coco\\\\images\\\\val2017\\\\000000480985.jpg'\n",
      "\u001b[34m\u001b[1mval: \u001b[0mWARNING ⚠️ C:\\Users\\cwky\\datasets\\coco\\images\\val2017\\000000481390.jpg: ignoring corrupt image/label: [Errno 2] No such file or directory: 'C:\\\\Users\\\\cwky\\\\datasets\\\\coco\\\\images\\\\val2017\\\\000000481390.jpg'\n",
      "\u001b[34m\u001b[1mval: \u001b[0mWARNING ⚠️ C:\\Users\\cwky\\datasets\\coco\\images\\val2017\\000000481413.jpg: ignoring corrupt image/label: [Errno 2] No such file or directory: 'C:\\\\Users\\\\cwky\\\\datasets\\\\coco\\\\images\\\\val2017\\\\000000481413.jpg'\n",
      "\u001b[34m\u001b[1mval: \u001b[0mWARNING ⚠️ C:\\Users\\cwky\\datasets\\coco\\images\\val2017\\000000482436.jpg: ignoring corrupt image/label: [Errno 2] No such file or directory: 'C:\\\\Users\\\\cwky\\\\datasets\\\\coco\\\\images\\\\val2017\\\\000000482436.jpg'\n",
      "\u001b[34m\u001b[1mval: \u001b[0mWARNING ⚠️ C:\\Users\\cwky\\datasets\\coco\\images\\val2017\\000000482735.jpg: ignoring corrupt image/label: [Errno 2] No such file or directory: 'C:\\\\Users\\\\cwky\\\\datasets\\\\coco\\\\images\\\\val2017\\\\000000482735.jpg'\n",
      "\u001b[34m\u001b[1mval: \u001b[0mWARNING ⚠️ C:\\Users\\cwky\\datasets\\coco\\images\\val2017\\000000482800.jpg: ignoring corrupt image/label: [Errno 2] No such file or directory: 'C:\\\\Users\\\\cwky\\\\datasets\\\\coco\\\\images\\\\val2017\\\\000000482800.jpg'\n",
      "\u001b[34m\u001b[1mval: \u001b[0mWARNING ⚠️ C:\\Users\\cwky\\datasets\\coco\\images\\val2017\\000000482970.jpg: ignoring corrupt image/label: [Errno 2] No such file or directory: 'C:\\\\Users\\\\cwky\\\\datasets\\\\coco\\\\images\\\\val2017\\\\000000482970.jpg'\n",
      "\u001b[34m\u001b[1mval: \u001b[0mWARNING ⚠️ C:\\Users\\cwky\\datasets\\coco\\images\\val2017\\000000483999.jpg: ignoring corrupt image/label: [Errno 2] No such file or directory: 'C:\\\\Users\\\\cwky\\\\datasets\\\\coco\\\\images\\\\val2017\\\\000000483999.jpg'\n",
      "\u001b[34m\u001b[1mval: \u001b[0mWARNING ⚠️ C:\\Users\\cwky\\datasets\\coco\\images\\val2017\\000000485237.jpg: ignoring corrupt image/label: [Errno 2] No such file or directory: 'C:\\\\Users\\\\cwky\\\\datasets\\\\coco\\\\images\\\\val2017\\\\000000485237.jpg'\n",
      "\u001b[34m\u001b[1mval: \u001b[0mWARNING ⚠️ C:\\Users\\cwky\\datasets\\coco\\images\\val2017\\000000485844.jpg: ignoring corrupt image/label: [Errno 2] No such file or directory: 'C:\\\\Users\\\\cwky\\\\datasets\\\\coco\\\\images\\\\val2017\\\\000000485844.jpg'\n",
      "\u001b[34m\u001b[1mval: \u001b[0mWARNING ⚠️ C:\\Users\\cwky\\datasets\\coco\\images\\val2017\\000000486112.jpg: ignoring corrupt image/label: [Errno 2] No such file or directory: 'C:\\\\Users\\\\cwky\\\\datasets\\\\coco\\\\images\\\\val2017\\\\000000486112.jpg'\n",
      "\u001b[34m\u001b[1mval: \u001b[0mWARNING ⚠️ C:\\Users\\cwky\\datasets\\coco\\images\\val2017\\000000486573.jpg: ignoring corrupt image/label: [Errno 2] No such file or directory: 'C:\\\\Users\\\\cwky\\\\datasets\\\\coco\\\\images\\\\val2017\\\\000000486573.jpg'\n",
      "\u001b[34m\u001b[1mval: \u001b[0mWARNING ⚠️ C:\\Users\\cwky\\datasets\\coco\\images\\val2017\\000000487583.jpg: ignoring corrupt image/label: [Errno 2] No such file or directory: 'C:\\\\Users\\\\cwky\\\\datasets\\\\coco\\\\images\\\\val2017\\\\000000487583.jpg'\n",
      "\u001b[34m\u001b[1mval: \u001b[0mWARNING ⚠️ C:\\Users\\cwky\\datasets\\coco\\images\\val2017\\000000488251.jpg: ignoring corrupt image/label: [Errno 2] No such file or directory: 'C:\\\\Users\\\\cwky\\\\datasets\\\\coco\\\\images\\\\val2017\\\\000000488251.jpg'\n",
      "\u001b[34m\u001b[1mval: \u001b[0mWARNING ⚠️ C:\\Users\\cwky\\datasets\\coco\\images\\val2017\\000000488592.jpg: ignoring corrupt image/label: [Errno 2] No such file or directory: 'C:\\\\Users\\\\cwky\\\\datasets\\\\coco\\\\images\\\\val2017\\\\000000488592.jpg'\n",
      "\u001b[34m\u001b[1mval: \u001b[0mWARNING ⚠️ C:\\Users\\cwky\\datasets\\coco\\images\\val2017\\000000488673.jpg: ignoring corrupt image/label: [Errno 2] No such file or directory: 'C:\\\\Users\\\\cwky\\\\datasets\\\\coco\\\\images\\\\val2017\\\\000000488673.jpg'\n",
      "\u001b[34m\u001b[1mval: \u001b[0mWARNING ⚠️ C:\\Users\\cwky\\datasets\\coco\\images\\val2017\\000000488736.jpg: ignoring corrupt image/label: [Errno 2] No such file or directory: 'C:\\\\Users\\\\cwky\\\\datasets\\\\coco\\\\images\\\\val2017\\\\000000488736.jpg'\n",
      "\u001b[34m\u001b[1mval: \u001b[0mWARNING ⚠️ C:\\Users\\cwky\\datasets\\coco\\images\\val2017\\000000489924.jpg: ignoring corrupt image/label: [Errno 2] No such file or directory: 'C:\\\\Users\\\\cwky\\\\datasets\\\\coco\\\\images\\\\val2017\\\\000000489924.jpg'\n",
      "\u001b[34m\u001b[1mval: \u001b[0mWARNING ⚠️ C:\\Users\\cwky\\datasets\\coco\\images\\val2017\\000000490125.jpg: ignoring corrupt image/label: [Errno 2] No such file or directory: 'C:\\\\Users\\\\cwky\\\\datasets\\\\coco\\\\images\\\\val2017\\\\000000490125.jpg'\n",
      "\u001b[34m\u001b[1mval: \u001b[0mWARNING ⚠️ C:\\Users\\cwky\\datasets\\coco\\images\\val2017\\000000490171.jpg: ignoring corrupt image/label: [Errno 2] No such file or directory: 'C:\\\\Users\\\\cwky\\\\datasets\\\\coco\\\\images\\\\val2017\\\\000000490171.jpg'\n",
      "\u001b[34m\u001b[1mval: \u001b[0mWARNING ⚠️ C:\\Users\\cwky\\datasets\\coco\\images\\val2017\\000000491071.jpg: ignoring corrupt image/label: [Errno 2] No such file or directory: 'C:\\\\Users\\\\cwky\\\\datasets\\\\coco\\\\images\\\\val2017\\\\000000491071.jpg'\n",
      "\u001b[34m\u001b[1mval: \u001b[0mWARNING ⚠️ C:\\Users\\cwky\\datasets\\coco\\images\\val2017\\000000491090.jpg: ignoring corrupt image/label: [Errno 2] No such file or directory: 'C:\\\\Users\\\\cwky\\\\datasets\\\\coco\\\\images\\\\val2017\\\\000000491090.jpg'\n",
      "\u001b[34m\u001b[1mval: \u001b[0mWARNING ⚠️ C:\\Users\\cwky\\datasets\\coco\\images\\val2017\\000000491216.jpg: ignoring corrupt image/label: [Errno 2] No such file or directory: 'C:\\\\Users\\\\cwky\\\\datasets\\\\coco\\\\images\\\\val2017\\\\000000491216.jpg'\n",
      "\u001b[34m\u001b[1mval: \u001b[0mWARNING ⚠️ C:\\Users\\cwky\\datasets\\coco\\images\\val2017\\000000491725.jpg: ignoring corrupt image/label: [Errno 2] No such file or directory: 'C:\\\\Users\\\\cwky\\\\datasets\\\\coco\\\\images\\\\val2017\\\\000000491725.jpg'\n",
      "\u001b[34m\u001b[1mval: \u001b[0mWARNING ⚠️ C:\\Users\\cwky\\datasets\\coco\\images\\val2017\\000000491757.jpg: ignoring corrupt image/label: [Errno 2] No such file or directory: 'C:\\\\Users\\\\cwky\\\\datasets\\\\coco\\\\images\\\\val2017\\\\000000491757.jpg'\n",
      "\u001b[34m\u001b[1mval: \u001b[0mWARNING ⚠️ C:\\Users\\cwky\\datasets\\coco\\images\\val2017\\000000491867.jpg: ignoring corrupt image/label: [Errno 2] No such file or directory: 'C:\\\\Users\\\\cwky\\\\datasets\\\\coco\\\\images\\\\val2017\\\\000000491867.jpg'\n",
      "\u001b[34m\u001b[1mval: \u001b[0mWARNING ⚠️ C:\\Users\\cwky\\datasets\\coco\\images\\val2017\\000000492110.jpg: ignoring corrupt image/label: [Errno 2] No such file or directory: 'C:\\\\Users\\\\cwky\\\\datasets\\\\coco\\\\images\\\\val2017\\\\000000492110.jpg'\n",
      "\u001b[34m\u001b[1mval: \u001b[0mWARNING ⚠️ C:\\Users\\cwky\\datasets\\coco\\images\\val2017\\000000492282.jpg: ignoring corrupt image/label: [Errno 2] No such file or directory: 'C:\\\\Users\\\\cwky\\\\datasets\\\\coco\\\\images\\\\val2017\\\\000000492282.jpg'\n",
      "\u001b[34m\u001b[1mval: \u001b[0mWARNING ⚠️ C:\\Users\\cwky\\datasets\\coco\\images\\val2017\\000000492968.jpg: ignoring corrupt image/label: [Errno 2] No such file or directory: 'C:\\\\Users\\\\cwky\\\\datasets\\\\coco\\\\images\\\\val2017\\\\000000492968.jpg'\n",
      "\u001b[34m\u001b[1mval: \u001b[0mWARNING ⚠️ C:\\Users\\cwky\\datasets\\coco\\images\\val2017\\000000493019.jpg: ignoring corrupt image/label: [Errno 2] No such file or directory: 'C:\\\\Users\\\\cwky\\\\datasets\\\\coco\\\\images\\\\val2017\\\\000000493019.jpg'\n",
      "\u001b[34m\u001b[1mval: \u001b[0mWARNING ⚠️ C:\\Users\\cwky\\datasets\\coco\\images\\val2017\\000000493334.jpg: ignoring corrupt image/label: [Errno 2] No such file or directory: 'C:\\\\Users\\\\cwky\\\\datasets\\\\coco\\\\images\\\\val2017\\\\000000493334.jpg'\n",
      "\u001b[34m\u001b[1mval: \u001b[0mWARNING ⚠️ C:\\Users\\cwky\\datasets\\coco\\images\\val2017\\000000493566.jpg: ignoring corrupt image/label: [Errno 2] No such file or directory: 'C:\\\\Users\\\\cwky\\\\datasets\\\\coco\\\\images\\\\val2017\\\\000000493566.jpg'\n",
      "\u001b[34m\u001b[1mval: \u001b[0mWARNING ⚠️ C:\\Users\\cwky\\datasets\\coco\\images\\val2017\\000000493613.jpg: ignoring corrupt image/label: [Errno 2] No such file or directory: 'C:\\\\Users\\\\cwky\\\\datasets\\\\coco\\\\images\\\\val2017\\\\000000493613.jpg'\n",
      "\u001b[34m\u001b[1mval: \u001b[0mWARNING ⚠️ C:\\Users\\cwky\\datasets\\coco\\images\\val2017\\000000493772.jpg: ignoring corrupt image/label: [Errno 2] No such file or directory: 'C:\\\\Users\\\\cwky\\\\datasets\\\\coco\\\\images\\\\val2017\\\\000000493772.jpg'\n",
      "\u001b[34m\u001b[1mval: \u001b[0mWARNING ⚠️ C:\\Users\\cwky\\datasets\\coco\\images\\val2017\\000000494427.jpg: ignoring corrupt image/label: [Errno 2] No such file or directory: 'C:\\\\Users\\\\cwky\\\\datasets\\\\coco\\\\images\\\\val2017\\\\000000494427.jpg'\n",
      "\u001b[34m\u001b[1mval: \u001b[0mWARNING ⚠️ C:\\Users\\cwky\\datasets\\coco\\images\\val2017\\000000494634.jpg: ignoring corrupt image/label: [Errno 2] No such file or directory: 'C:\\\\Users\\\\cwky\\\\datasets\\\\coco\\\\images\\\\val2017\\\\000000494634.jpg'\n",
      "\u001b[34m\u001b[1mval: \u001b[0mWARNING ⚠️ C:\\Users\\cwky\\datasets\\coco\\images\\val2017\\000000494759.jpg: ignoring corrupt image/label: [Errno 2] No such file or directory: 'C:\\\\Users\\\\cwky\\\\datasets\\\\coco\\\\images\\\\val2017\\\\000000494759.jpg'\n",
      "\u001b[34m\u001b[1mval: \u001b[0mWARNING ⚠️ C:\\Users\\cwky\\datasets\\coco\\images\\val2017\\000000495146.jpg: ignoring corrupt image/label: [Errno 2] No such file or directory: 'C:\\\\Users\\\\cwky\\\\datasets\\\\coco\\\\images\\\\val2017\\\\000000495146.jpg'\n",
      "\u001b[34m\u001b[1mval: \u001b[0mWARNING ⚠️ C:\\Users\\cwky\\datasets\\coco\\images\\val2017\\000000495448.jpg: ignoring corrupt image/label: [Errno 2] No such file or directory: 'C:\\\\Users\\\\cwky\\\\datasets\\\\coco\\\\images\\\\val2017\\\\000000495448.jpg'\n",
      "\u001b[34m\u001b[1mval: \u001b[0mWARNING ⚠️ C:\\Users\\cwky\\datasets\\coco\\images\\val2017\\000000496409.jpg: ignoring corrupt image/label: [Errno 2] No such file or directory: 'C:\\\\Users\\\\cwky\\\\datasets\\\\coco\\\\images\\\\val2017\\\\000000496409.jpg'\n",
      "\u001b[34m\u001b[1mval: \u001b[0mWARNING ⚠️ C:\\Users\\cwky\\datasets\\coco\\images\\val2017\\000000496597.jpg: ignoring corrupt image/label: [Errno 2] No such file or directory: 'C:\\\\Users\\\\cwky\\\\datasets\\\\coco\\\\images\\\\val2017\\\\000000496597.jpg'\n",
      "\u001b[34m\u001b[1mval: \u001b[0mWARNING ⚠️ C:\\Users\\cwky\\datasets\\coco\\images\\val2017\\000000497344.jpg: ignoring corrupt image/label: [Errno 2] No such file or directory: 'C:\\\\Users\\\\cwky\\\\datasets\\\\coco\\\\images\\\\val2017\\\\000000497344.jpg'\n",
      "\u001b[34m\u001b[1mval: \u001b[0mWARNING ⚠️ C:\\Users\\cwky\\datasets\\coco\\images\\val2017\\000000497568.jpg: ignoring corrupt image/label: [Errno 2] No such file or directory: 'C:\\\\Users\\\\cwky\\\\datasets\\\\coco\\\\images\\\\val2017\\\\000000497568.jpg'\n",
      "\u001b[34m\u001b[1mval: \u001b[0mWARNING ⚠️ C:\\Users\\cwky\\datasets\\coco\\images\\val2017\\000000497867.jpg: ignoring corrupt image/label: [Errno 2] No such file or directory: 'C:\\\\Users\\\\cwky\\\\datasets\\\\coco\\\\images\\\\val2017\\\\000000497867.jpg'\n",
      "\u001b[34m\u001b[1mval: \u001b[0mWARNING ⚠️ C:\\Users\\cwky\\datasets\\coco\\images\\val2017\\000000498709.jpg: ignoring corrupt image/label: [Errno 2] No such file or directory: 'C:\\\\Users\\\\cwky\\\\datasets\\\\coco\\\\images\\\\val2017\\\\000000498709.jpg'\n",
      "\u001b[34m\u001b[1mval: \u001b[0mWARNING ⚠️ C:\\Users\\cwky\\datasets\\coco\\images\\val2017\\000000499109.jpg: ignoring corrupt image/label: [Errno 2] No such file or directory: 'C:\\\\Users\\\\cwky\\\\datasets\\\\coco\\\\images\\\\val2017\\\\000000499109.jpg'\n",
      "\u001b[34m\u001b[1mval: \u001b[0mWARNING ⚠️ C:\\Users\\cwky\\datasets\\coco\\images\\val2017\\000000499181.jpg: ignoring corrupt image/label: [Errno 2] No such file or directory: 'C:\\\\Users\\\\cwky\\\\datasets\\\\coco\\\\images\\\\val2017\\\\000000499181.jpg'\n",
      "\u001b[34m\u001b[1mval: \u001b[0mWARNING ⚠️ C:\\Users\\cwky\\datasets\\coco\\images\\val2017\\000000499775.jpg: ignoring corrupt image/label: [Errno 2] No such file or directory: 'C:\\\\Users\\\\cwky\\\\datasets\\\\coco\\\\images\\\\val2017\\\\000000499775.jpg'\n",
      "\u001b[34m\u001b[1mval: \u001b[0mWARNING ⚠️ C:\\Users\\cwky\\datasets\\coco\\images\\val2017\\000000500049.jpg: ignoring corrupt image/label: [Errno 2] No such file or directory: 'C:\\\\Users\\\\cwky\\\\datasets\\\\coco\\\\images\\\\val2017\\\\000000500049.jpg'\n",
      "\u001b[34m\u001b[1mval: \u001b[0mWARNING ⚠️ C:\\Users\\cwky\\datasets\\coco\\images\\val2017\\000000500257.jpg: ignoring corrupt image/label: [Errno 2] No such file or directory: 'C:\\\\Users\\\\cwky\\\\datasets\\\\coco\\\\images\\\\val2017\\\\000000500257.jpg'\n",
      "\u001b[34m\u001b[1mval: \u001b[0mWARNING ⚠️ C:\\Users\\cwky\\datasets\\coco\\images\\val2017\\000000500270.jpg: ignoring corrupt image/label: [Errno 2] No such file or directory: 'C:\\\\Users\\\\cwky\\\\datasets\\\\coco\\\\images\\\\val2017\\\\000000500270.jpg'\n",
      "\u001b[34m\u001b[1mval: \u001b[0mWARNING ⚠️ C:\\Users\\cwky\\datasets\\coco\\images\\val2017\\000000500464.jpg: ignoring corrupt image/label: [Errno 2] No such file or directory: 'C:\\\\Users\\\\cwky\\\\datasets\\\\coco\\\\images\\\\val2017\\\\000000500464.jpg'\n",
      "\u001b[34m\u001b[1mval: \u001b[0mWARNING ⚠️ C:\\Users\\cwky\\datasets\\coco\\images\\val2017\\000000500565.jpg: ignoring corrupt image/label: [Errno 2] No such file or directory: 'C:\\\\Users\\\\cwky\\\\datasets\\\\coco\\\\images\\\\val2017\\\\000000500565.jpg'\n",
      "\u001b[34m\u001b[1mval: \u001b[0mWARNING ⚠️ C:\\Users\\cwky\\datasets\\coco\\images\\val2017\\000000500613.jpg: ignoring corrupt image/label: [Errno 2] No such file or directory: 'C:\\\\Users\\\\cwky\\\\datasets\\\\coco\\\\images\\\\val2017\\\\000000500613.jpg'\n",
      "\u001b[34m\u001b[1mval: \u001b[0mWARNING ⚠️ C:\\Users\\cwky\\datasets\\coco\\images\\val2017\\000000500716.jpg: ignoring corrupt image/label: [Errno 2] No such file or directory: 'C:\\\\Users\\\\cwky\\\\datasets\\\\coco\\\\images\\\\val2017\\\\000000500716.jpg'\n",
      "\u001b[34m\u001b[1mval: \u001b[0mWARNING ⚠️ C:\\Users\\cwky\\datasets\\coco\\images\\val2017\\000000500826.jpg: ignoring corrupt image/label: [Errno 2] No such file or directory: 'C:\\\\Users\\\\cwky\\\\datasets\\\\coco\\\\images\\\\val2017\\\\000000500826.jpg'\n",
      "\u001b[34m\u001b[1mval: \u001b[0mWARNING ⚠️ C:\\Users\\cwky\\datasets\\coco\\images\\val2017\\000000501005.jpg: ignoring corrupt image/label: [Errno 2] No such file or directory: 'C:\\\\Users\\\\cwky\\\\datasets\\\\coco\\\\images\\\\val2017\\\\000000501005.jpg'\n",
      "\u001b[34m\u001b[1mval: \u001b[0mWARNING ⚠️ C:\\Users\\cwky\\datasets\\coco\\images\\val2017\\000000501023.jpg: ignoring corrupt image/label: [Errno 2] No such file or directory: 'C:\\\\Users\\\\cwky\\\\datasets\\\\coco\\\\images\\\\val2017\\\\000000501023.jpg'\n",
      "\u001b[34m\u001b[1mval: \u001b[0mWARNING ⚠️ C:\\Users\\cwky\\datasets\\coco\\images\\val2017\\000000502136.jpg: ignoring corrupt image/label: [Errno 2] No such file or directory: 'C:\\\\Users\\\\cwky\\\\datasets\\\\coco\\\\images\\\\val2017\\\\000000502136.jpg'\n",
      "\u001b[34m\u001b[1mval: \u001b[0mWARNING ⚠️ C:\\Users\\cwky\\datasets\\coco\\images\\val2017\\000000502168.jpg: ignoring corrupt image/label: [Errno 2] No such file or directory: 'C:\\\\Users\\\\cwky\\\\datasets\\\\coco\\\\images\\\\val2017\\\\000000502168.jpg'\n",
      "\u001b[34m\u001b[1mval: \u001b[0mWARNING ⚠️ C:\\Users\\cwky\\datasets\\coco\\images\\val2017\\000000502347.jpg: ignoring corrupt image/label: [Errno 2] No such file or directory: 'C:\\\\Users\\\\cwky\\\\datasets\\\\coco\\\\images\\\\val2017\\\\000000502347.jpg'\n",
      "\u001b[34m\u001b[1mval: \u001b[0mWARNING ⚠️ C:\\Users\\cwky\\datasets\\coco\\images\\val2017\\000000502737.jpg: ignoring corrupt image/label: [Errno 2] No such file or directory: 'C:\\\\Users\\\\cwky\\\\datasets\\\\coco\\\\images\\\\val2017\\\\000000502737.jpg'\n",
      "\u001b[34m\u001b[1mval: \u001b[0mWARNING ⚠️ C:\\Users\\cwky\\datasets\\coco\\images\\val2017\\000000502910.jpg: ignoring corrupt image/label: [Errno 2] No such file or directory: 'C:\\\\Users\\\\cwky\\\\datasets\\\\coco\\\\images\\\\val2017\\\\000000502910.jpg'\n",
      "\u001b[34m\u001b[1mval: \u001b[0mWARNING ⚠️ C:\\Users\\cwky\\datasets\\coco\\images\\val2017\\000000503755.jpg: ignoring corrupt image/label: [Errno 2] No such file or directory: 'C:\\\\Users\\\\cwky\\\\datasets\\\\coco\\\\images\\\\val2017\\\\000000503755.jpg'\n",
      "\u001b[34m\u001b[1mval: \u001b[0mWARNING ⚠️ C:\\Users\\cwky\\datasets\\coco\\images\\val2017\\000000503823.jpg: ignoring corrupt image/label: [Errno 2] No such file or directory: 'C:\\\\Users\\\\cwky\\\\datasets\\\\coco\\\\images\\\\val2017\\\\000000503823.jpg'\n",
      "\u001b[34m\u001b[1mval: \u001b[0mWARNING ⚠️ C:\\Users\\cwky\\datasets\\coco\\images\\val2017\\000000503841.jpg: ignoring corrupt image/label: [Errno 2] No such file or directory: 'C:\\\\Users\\\\cwky\\\\datasets\\\\coco\\\\images\\\\val2017\\\\000000503841.jpg'\n",
      "\u001b[34m\u001b[1mval: \u001b[0mWARNING ⚠️ C:\\Users\\cwky\\datasets\\coco\\images\\val2017\\000000504000.jpg: ignoring corrupt image/label: [Errno 2] No such file or directory: 'C:\\\\Users\\\\cwky\\\\datasets\\\\coco\\\\images\\\\val2017\\\\000000504000.jpg'\n",
      "\u001b[34m\u001b[1mval: \u001b[0mWARNING ⚠️ C:\\Users\\cwky\\datasets\\coco\\images\\val2017\\000000504635.jpg: ignoring corrupt image/label: [Errno 2] No such file or directory: 'C:\\\\Users\\\\cwky\\\\datasets\\\\coco\\\\images\\\\val2017\\\\000000504635.jpg'\n",
      "\u001b[34m\u001b[1mval: \u001b[0mWARNING ⚠️ C:\\Users\\cwky\\datasets\\coco\\images\\val2017\\000000505638.jpg: ignoring corrupt image/label: [Errno 2] No such file or directory: 'C:\\\\Users\\\\cwky\\\\datasets\\\\coco\\\\images\\\\val2017\\\\000000505638.jpg'\n",
      "\u001b[34m\u001b[1mval: \u001b[0mWARNING ⚠️ C:\\Users\\cwky\\datasets\\coco\\images\\val2017\\000000506004.jpg: ignoring corrupt image/label: [Errno 2] No such file or directory: 'C:\\\\Users\\\\cwky\\\\datasets\\\\coco\\\\images\\\\val2017\\\\000000506004.jpg'\n",
      "\u001b[34m\u001b[1mval: \u001b[0mWARNING ⚠️ C:\\Users\\cwky\\datasets\\coco\\images\\val2017\\000000506454.jpg: ignoring corrupt image/label: [Errno 2] No such file or directory: 'C:\\\\Users\\\\cwky\\\\datasets\\\\coco\\\\images\\\\val2017\\\\000000506454.jpg'\n",
      "\u001b[34m\u001b[1mval: \u001b[0mWARNING ⚠️ C:\\Users\\cwky\\datasets\\coco\\images\\val2017\\000000506656.jpg: ignoring corrupt image/label: [Errno 2] No such file or directory: 'C:\\\\Users\\\\cwky\\\\datasets\\\\coco\\\\images\\\\val2017\\\\000000506656.jpg'\n",
      "\u001b[34m\u001b[1mval: \u001b[0mWARNING ⚠️ C:\\Users\\cwky\\datasets\\coco\\images\\val2017\\000000507037.jpg: ignoring corrupt image/label: [Errno 2] No such file or directory: 'C:\\\\Users\\\\cwky\\\\datasets\\\\coco\\\\images\\\\val2017\\\\000000507037.jpg'\n",
      "\u001b[34m\u001b[1mval: \u001b[0mWARNING ⚠️ C:\\Users\\cwky\\datasets\\coco\\images\\val2017\\000000507223.jpg: ignoring corrupt image/label: [Errno 2] No such file or directory: 'C:\\\\Users\\\\cwky\\\\datasets\\\\coco\\\\images\\\\val2017\\\\000000507223.jpg'\n",
      "\u001b[34m\u001b[1mval: \u001b[0mWARNING ⚠️ C:\\Users\\cwky\\datasets\\coco\\images\\val2017\\000000507575.jpg: ignoring corrupt image/label: [Errno 2] No such file or directory: 'C:\\\\Users\\\\cwky\\\\datasets\\\\coco\\\\images\\\\val2017\\\\000000507575.jpg'\n",
      "\u001b[34m\u001b[1mval: \u001b[0mWARNING ⚠️ C:\\Users\\cwky\\datasets\\coco\\images\\val2017\\000000507667.jpg: ignoring corrupt image/label: [Errno 2] No such file or directory: 'C:\\\\Users\\\\cwky\\\\datasets\\\\coco\\\\images\\\\val2017\\\\000000507667.jpg'\n",
      "\u001b[34m\u001b[1mval: \u001b[0mWARNING ⚠️ C:\\Users\\cwky\\datasets\\coco\\images\\val2017\\000000507975.jpg: ignoring corrupt image/label: [Errno 2] No such file or directory: 'C:\\\\Users\\\\cwky\\\\datasets\\\\coco\\\\images\\\\val2017\\\\000000507975.jpg'\n",
      "\u001b[34m\u001b[1mval: \u001b[0mWARNING ⚠️ C:\\Users\\cwky\\datasets\\coco\\images\\val2017\\000000508101.jpg: ignoring corrupt image/label: [Errno 2] No such file or directory: 'C:\\\\Users\\\\cwky\\\\datasets\\\\coco\\\\images\\\\val2017\\\\000000508101.jpg'\n",
      "\u001b[34m\u001b[1mval: \u001b[0mWARNING ⚠️ C:\\Users\\cwky\\datasets\\coco\\images\\val2017\\000000508482.jpg: ignoring corrupt image/label: [Errno 2] No such file or directory: 'C:\\\\Users\\\\cwky\\\\datasets\\\\coco\\\\images\\\\val2017\\\\000000508482.jpg'\n",
      "\u001b[34m\u001b[1mval: \u001b[0mWARNING ⚠️ C:\\Users\\cwky\\datasets\\coco\\images\\val2017\\000000509008.jpg: ignoring corrupt image/label: [Errno 2] No such file or directory: 'C:\\\\Users\\\\cwky\\\\datasets\\\\coco\\\\images\\\\val2017\\\\000000509008.jpg'\n",
      "\u001b[34m\u001b[1mval: \u001b[0mWARNING ⚠️ C:\\Users\\cwky\\datasets\\coco\\images\\val2017\\000000509260.jpg: ignoring corrupt image/label: [Errno 2] No such file or directory: 'C:\\\\Users\\\\cwky\\\\datasets\\\\coco\\\\images\\\\val2017\\\\000000509260.jpg'\n",
      "\u001b[34m\u001b[1mval: \u001b[0mWARNING ⚠️ C:\\Users\\cwky\\datasets\\coco\\images\\val2017\\000000509719.jpg: ignoring corrupt image/label: [Errno 2] No such file or directory: 'C:\\\\Users\\\\cwky\\\\datasets\\\\coco\\\\images\\\\val2017\\\\000000509719.jpg'\n",
      "\u001b[34m\u001b[1mval: \u001b[0mWARNING ⚠️ C:\\Users\\cwky\\datasets\\coco\\images\\val2017\\000000511076.jpg: ignoring corrupt image/label: [Errno 2] No such file or directory: 'C:\\\\Users\\\\cwky\\\\datasets\\\\coco\\\\images\\\\val2017\\\\000000511076.jpg'\n",
      "\u001b[34m\u001b[1mval: \u001b[0mWARNING ⚠️ C:\\Users\\cwky\\datasets\\coco\\images\\val2017\\000000511384.jpg: ignoring corrupt image/label: [Errno 2] No such file or directory: 'C:\\\\Users\\\\cwky\\\\datasets\\\\coco\\\\images\\\\val2017\\\\000000511384.jpg'\n",
      "\u001b[34m\u001b[1mval: \u001b[0mWARNING ⚠️ C:\\Users\\cwky\\datasets\\coco\\images\\val2017\\000000511647.jpg: ignoring corrupt image/label: [Errno 2] No such file or directory: 'C:\\\\Users\\\\cwky\\\\datasets\\\\coco\\\\images\\\\val2017\\\\000000511647.jpg'\n",
      "\u001b[34m\u001b[1mval: \u001b[0mWARNING ⚠️ C:\\Users\\cwky\\datasets\\coco\\images\\val2017\\000000511760.jpg: ignoring corrupt image/label: [Errno 2] No such file or directory: 'C:\\\\Users\\\\cwky\\\\datasets\\\\coco\\\\images\\\\val2017\\\\000000511760.jpg'\n",
      "\u001b[34m\u001b[1mval: \u001b[0mWARNING ⚠️ C:\\Users\\cwky\\datasets\\coco\\images\\val2017\\000000512194.jpg: ignoring corrupt image/label: [Errno 2] No such file or directory: 'C:\\\\Users\\\\cwky\\\\datasets\\\\coco\\\\images\\\\val2017\\\\000000512194.jpg'\n",
      "\u001b[34m\u001b[1mval: \u001b[0mWARNING ⚠️ C:\\Users\\cwky\\datasets\\coco\\images\\val2017\\000000512403.jpg: ignoring corrupt image/label: [Errno 2] No such file or directory: 'C:\\\\Users\\\\cwky\\\\datasets\\\\coco\\\\images\\\\val2017\\\\000000512403.jpg'\n",
      "\u001b[34m\u001b[1mval: \u001b[0mWARNING ⚠️ C:\\Users\\cwky\\datasets\\coco\\images\\val2017\\000000512648.jpg: ignoring corrupt image/label: [Errno 2] No such file or directory: 'C:\\\\Users\\\\cwky\\\\datasets\\\\coco\\\\images\\\\val2017\\\\000000512648.jpg'\n",
      "\u001b[34m\u001b[1mval: \u001b[0mWARNING ⚠️ C:\\Users\\cwky\\datasets\\coco\\images\\val2017\\000000512985.jpg: ignoring corrupt image/label: [Errno 2] No such file or directory: 'C:\\\\Users\\\\cwky\\\\datasets\\\\coco\\\\images\\\\val2017\\\\000000512985.jpg'\n",
      "\u001b[34m\u001b[1mval: \u001b[0mWARNING ⚠️ C:\\Users\\cwky\\datasets\\coco\\images\\val2017\\000000513181.jpg: ignoring corrupt image/label: [Errno 2] No such file or directory: 'C:\\\\Users\\\\cwky\\\\datasets\\\\coco\\\\images\\\\val2017\\\\000000513181.jpg'\n",
      "\u001b[34m\u001b[1mval: \u001b[0mWARNING ⚠️ C:\\Users\\cwky\\datasets\\coco\\images\\val2017\\000000513567.jpg: ignoring corrupt image/label: [Errno 2] No such file or directory: 'C:\\\\Users\\\\cwky\\\\datasets\\\\coco\\\\images\\\\val2017\\\\000000513567.jpg'\n",
      "\u001b[34m\u001b[1mval: \u001b[0mWARNING ⚠️ C:\\Users\\cwky\\datasets\\coco\\images\\val2017\\000000514914.jpg: ignoring corrupt image/label: [Errno 2] No such file or directory: 'C:\\\\Users\\\\cwky\\\\datasets\\\\coco\\\\images\\\\val2017\\\\000000514914.jpg'\n",
      "\u001b[34m\u001b[1mval: \u001b[0mWARNING ⚠️ C:\\Users\\cwky\\datasets\\coco\\images\\val2017\\000000515025.jpg: ignoring corrupt image/label: [Errno 2] No such file or directory: 'C:\\\\Users\\\\cwky\\\\datasets\\\\coco\\\\images\\\\val2017\\\\000000515025.jpg'\n",
      "\u001b[34m\u001b[1mval: \u001b[0mWARNING ⚠️ C:\\Users\\cwky\\datasets\\coco\\images\\val2017\\000000515077.jpg: ignoring corrupt image/label: [Errno 2] No such file or directory: 'C:\\\\Users\\\\cwky\\\\datasets\\\\coco\\\\images\\\\val2017\\\\000000515077.jpg'\n",
      "\u001b[34m\u001b[1mval: \u001b[0mWARNING ⚠️ C:\\Users\\cwky\\datasets\\coco\\images\\val2017\\000000515266.jpg: ignoring corrupt image/label: [Errno 2] No such file or directory: 'C:\\\\Users\\\\cwky\\\\datasets\\\\coco\\\\images\\\\val2017\\\\000000515266.jpg'\n",
      "\u001b[34m\u001b[1mval: \u001b[0mWARNING ⚠️ C:\\Users\\cwky\\datasets\\coco\\images\\val2017\\000000515445.jpg: ignoring corrupt image/label: [Errno 2] No such file or directory: 'C:\\\\Users\\\\cwky\\\\datasets\\\\coco\\\\images\\\\val2017\\\\000000515445.jpg'\n",
      "\u001b[34m\u001b[1mval: \u001b[0mWARNING ⚠️ C:\\Users\\cwky\\datasets\\coco\\images\\val2017\\000000515577.jpg: ignoring corrupt image/label: [Errno 2] No such file or directory: 'C:\\\\Users\\\\cwky\\\\datasets\\\\coco\\\\images\\\\val2017\\\\000000515577.jpg'\n",
      "\u001b[34m\u001b[1mval: \u001b[0mWARNING ⚠️ C:\\Users\\cwky\\datasets\\coco\\images\\val2017\\000000515982.jpg: ignoring corrupt image/label: [Errno 2] No such file or directory: 'C:\\\\Users\\\\cwky\\\\datasets\\\\coco\\\\images\\\\val2017\\\\000000515982.jpg'\n",
      "\u001b[34m\u001b[1mval: \u001b[0mWARNING ⚠️ C:\\Users\\cwky\\datasets\\coco\\images\\val2017\\000000516143.jpg: ignoring corrupt image/label: [Errno 2] No such file or directory: 'C:\\\\Users\\\\cwky\\\\datasets\\\\coco\\\\images\\\\val2017\\\\000000516143.jpg'\n",
      "\u001b[34m\u001b[1mval: \u001b[0mWARNING ⚠️ C:\\Users\\cwky\\datasets\\coco\\images\\val2017\\000000516677.jpg: ignoring corrupt image/label: [Errno 2] No such file or directory: 'C:\\\\Users\\\\cwky\\\\datasets\\\\coco\\\\images\\\\val2017\\\\000000516677.jpg'\n",
      "\u001b[34m\u001b[1mval: \u001b[0mWARNING ⚠️ C:\\Users\\cwky\\datasets\\coco\\images\\val2017\\000000516871.jpg: ignoring corrupt image/label: [Errno 2] No such file or directory: 'C:\\\\Users\\\\cwky\\\\datasets\\\\coco\\\\images\\\\val2017\\\\000000516871.jpg'\n",
      "\u001b[34m\u001b[1mval: \u001b[0mWARNING ⚠️ C:\\Users\\cwky\\datasets\\coco\\images\\val2017\\000000517687.jpg: ignoring corrupt image/label: [Errno 2] No such file or directory: 'C:\\\\Users\\\\cwky\\\\datasets\\\\coco\\\\images\\\\val2017\\\\000000517687.jpg'\n",
      "\u001b[34m\u001b[1mval: \u001b[0mWARNING ⚠️ C:\\Users\\cwky\\datasets\\coco\\images\\val2017\\000000519338.jpg: ignoring corrupt image/label: [Errno 2] No such file or directory: 'C:\\\\Users\\\\cwky\\\\datasets\\\\coco\\\\images\\\\val2017\\\\000000519338.jpg'\n",
      "\u001b[34m\u001b[1mval: \u001b[0mWARNING ⚠️ C:\\Users\\cwky\\datasets\\coco\\images\\val2017\\000000519491.jpg: ignoring corrupt image/label: [Errno 2] No such file or directory: 'C:\\\\Users\\\\cwky\\\\datasets\\\\coco\\\\images\\\\val2017\\\\000000519491.jpg'\n",
      "\u001b[34m\u001b[1mval: \u001b[0mWARNING ⚠️ C:\\Users\\cwky\\datasets\\coco\\images\\val2017\\000000519611.jpg: ignoring corrupt image/label: [Errno 2] No such file or directory: 'C:\\\\Users\\\\cwky\\\\datasets\\\\coco\\\\images\\\\val2017\\\\000000519611.jpg'\n",
      "\u001b[34m\u001b[1mval: \u001b[0mWARNING ⚠️ C:\\Users\\cwky\\datasets\\coco\\images\\val2017\\000000519764.jpg: ignoring corrupt image/label: [Errno 2] No such file or directory: 'C:\\\\Users\\\\cwky\\\\datasets\\\\coco\\\\images\\\\val2017\\\\000000519764.jpg'\n",
      "\u001b[34m\u001b[1mval: \u001b[0mWARNING ⚠️ C:\\Users\\cwky\\datasets\\coco\\images\\val2017\\000000520009.jpg: ignoring corrupt image/label: [Errno 2] No such file or directory: 'C:\\\\Users\\\\cwky\\\\datasets\\\\coco\\\\images\\\\val2017\\\\000000520009.jpg'\n",
      "\u001b[34m\u001b[1mval: \u001b[0mWARNING ⚠️ C:\\Users\\cwky\\datasets\\coco\\images\\val2017\\000000520077.jpg: ignoring corrupt image/label: [Errno 2] No such file or directory: 'C:\\\\Users\\\\cwky\\\\datasets\\\\coco\\\\images\\\\val2017\\\\000000520077.jpg'\n",
      "\u001b[34m\u001b[1mval: \u001b[0mWARNING ⚠️ C:\\Users\\cwky\\datasets\\coco\\images\\val2017\\000000520264.jpg: ignoring corrupt image/label: [Errno 2] No such file or directory: 'C:\\\\Users\\\\cwky\\\\datasets\\\\coco\\\\images\\\\val2017\\\\000000520264.jpg'\n",
      "\u001b[34m\u001b[1mval: \u001b[0mWARNING ⚠️ C:\\Users\\cwky\\datasets\\coco\\images\\val2017\\000000520531.jpg: ignoring corrupt image/label: [Errno 2] No such file or directory: 'C:\\\\Users\\\\cwky\\\\datasets\\\\coco\\\\images\\\\val2017\\\\000000520531.jpg'\n",
      "\u001b[34m\u001b[1mval: \u001b[0mWARNING ⚠️ C:\\Users\\cwky\\datasets\\coco\\images\\val2017\\000000520707.jpg: ignoring corrupt image/label: [Errno 2] No such file or directory: 'C:\\\\Users\\\\cwky\\\\datasets\\\\coco\\\\images\\\\val2017\\\\000000520707.jpg'\n",
      "\u001b[34m\u001b[1mval: \u001b[0mWARNING ⚠️ C:\\Users\\cwky\\datasets\\coco\\images\\val2017\\000000521141.jpg: ignoring corrupt image/label: [Errno 2] No such file or directory: 'C:\\\\Users\\\\cwky\\\\datasets\\\\coco\\\\images\\\\val2017\\\\000000521141.jpg'\n",
      "\u001b[34m\u001b[1mval: \u001b[0mWARNING ⚠️ C:\\Users\\cwky\\datasets\\coco\\images\\val2017\\000000521259.jpg: ignoring corrupt image/label: [Errno 2] No such file or directory: 'C:\\\\Users\\\\cwky\\\\datasets\\\\coco\\\\images\\\\val2017\\\\000000521259.jpg'\n",
      "\u001b[34m\u001b[1mval: \u001b[0mWARNING ⚠️ C:\\Users\\cwky\\datasets\\coco\\images\\val2017\\000000521601.jpg: ignoring corrupt image/label: [Errno 2] No such file or directory: 'C:\\\\Users\\\\cwky\\\\datasets\\\\coco\\\\images\\\\val2017\\\\000000521601.jpg'\n",
      "\u001b[34m\u001b[1mval: \u001b[0mWARNING ⚠️ C:\\Users\\cwky\\datasets\\coco\\images\\val2017\\000000521819.jpg: ignoring corrupt image/label: [Errno 2] No such file or directory: 'C:\\\\Users\\\\cwky\\\\datasets\\\\coco\\\\images\\\\val2017\\\\000000521819.jpg'\n",
      "\u001b[34m\u001b[1mval: \u001b[0mWARNING ⚠️ C:\\Users\\cwky\\datasets\\coco\\images\\val2017\\000000522393.jpg: ignoring corrupt image/label: [Errno 2] No such file or directory: 'C:\\\\Users\\\\cwky\\\\datasets\\\\coco\\\\images\\\\val2017\\\\000000522393.jpg'\n",
      "\u001b[34m\u001b[1mval: \u001b[0mWARNING ⚠️ C:\\Users\\cwky\\datasets\\coco\\images\\val2017\\000000522751.jpg: ignoring corrupt image/label: [Errno 2] No such file or directory: 'C:\\\\Users\\\\cwky\\\\datasets\\\\coco\\\\images\\\\val2017\\\\000000522751.jpg'\n",
      "\u001b[34m\u001b[1mval: \u001b[0mWARNING ⚠️ C:\\Users\\cwky\\datasets\\coco\\images\\val2017\\000000522889.jpg: ignoring corrupt image/label: [Errno 2] No such file or directory: 'C:\\\\Users\\\\cwky\\\\datasets\\\\coco\\\\images\\\\val2017\\\\000000522889.jpg'\n",
      "\u001b[34m\u001b[1mval: \u001b[0mWARNING ⚠️ C:\\Users\\cwky\\datasets\\coco\\images\\val2017\\000000523100.jpg: ignoring corrupt image/label: [Errno 2] No such file or directory: 'C:\\\\Users\\\\cwky\\\\datasets\\\\coco\\\\images\\\\val2017\\\\000000523100.jpg'\n",
      "\u001b[34m\u001b[1mval: \u001b[0mWARNING ⚠️ C:\\Users\\cwky\\datasets\\coco\\images\\val2017\\000000523194.jpg: ignoring corrupt image/label: [Errno 2] No such file or directory: 'C:\\\\Users\\\\cwky\\\\datasets\\\\coco\\\\images\\\\val2017\\\\000000523194.jpg'\n",
      "\u001b[34m\u001b[1mval: \u001b[0mWARNING ⚠️ C:\\Users\\cwky\\datasets\\coco\\images\\val2017\\000000523782.jpg: ignoring corrupt image/label: [Errno 2] No such file or directory: 'C:\\\\Users\\\\cwky\\\\datasets\\\\coco\\\\images\\\\val2017\\\\000000523782.jpg'\n",
      "\u001b[34m\u001b[1mval: \u001b[0mWARNING ⚠️ C:\\Users\\cwky\\datasets\\coco\\images\\val2017\\000000523957.jpg: ignoring corrupt image/label: [Errno 2] No such file or directory: 'C:\\\\Users\\\\cwky\\\\datasets\\\\coco\\\\images\\\\val2017\\\\000000523957.jpg'\n",
      "\u001b[34m\u001b[1mval: \u001b[0mWARNING ⚠️ C:\\Users\\cwky\\datasets\\coco\\images\\val2017\\000000525155.jpg: ignoring corrupt image/label: [Errno 2] No such file or directory: 'C:\\\\Users\\\\cwky\\\\datasets\\\\coco\\\\images\\\\val2017\\\\000000525155.jpg'\n",
      "\u001b[34m\u001b[1mval: \u001b[0mWARNING ⚠️ C:\\Users\\cwky\\datasets\\coco\\images\\val2017\\000000526706.jpg: ignoring corrupt image/label: [Errno 2] No such file or directory: 'C:\\\\Users\\\\cwky\\\\datasets\\\\coco\\\\images\\\\val2017\\\\000000526706.jpg'\n",
      "\u001b[34m\u001b[1mval: \u001b[0mWARNING ⚠️ C:\\Users\\cwky\\datasets\\coco\\images\\val2017\\000000527029.jpg: ignoring corrupt image/label: [Errno 2] No such file or directory: 'C:\\\\Users\\\\cwky\\\\datasets\\\\coco\\\\images\\\\val2017\\\\000000527029.jpg'\n",
      "\u001b[34m\u001b[1mval: \u001b[0mWARNING ⚠️ C:\\Users\\cwky\\datasets\\coco\\images\\val2017\\000000527220.jpg: ignoring corrupt image/label: [Errno 2] No such file or directory: 'C:\\\\Users\\\\cwky\\\\datasets\\\\coco\\\\images\\\\val2017\\\\000000527220.jpg'\n",
      "\u001b[34m\u001b[1mval: \u001b[0mWARNING ⚠️ C:\\Users\\cwky\\datasets\\coco\\images\\val2017\\000000527427.jpg: ignoring corrupt image/label: [Errno 2] No such file or directory: 'C:\\\\Users\\\\cwky\\\\datasets\\\\coco\\\\images\\\\val2017\\\\000000527427.jpg'\n",
      "\u001b[34m\u001b[1mval: \u001b[0mWARNING ⚠️ C:\\Users\\cwky\\datasets\\coco\\images\\val2017\\000000527616.jpg: ignoring corrupt image/label: [Errno 2] No such file or directory: 'C:\\\\Users\\\\cwky\\\\datasets\\\\coco\\\\images\\\\val2017\\\\000000527616.jpg'\n",
      "\u001b[34m\u001b[1mval: \u001b[0mWARNING ⚠️ C:\\Users\\cwky\\datasets\\coco\\images\\val2017\\000000528862.jpg: ignoring corrupt image/label: [Errno 2] No such file or directory: 'C:\\\\Users\\\\cwky\\\\datasets\\\\coco\\\\images\\\\val2017\\\\000000528862.jpg'\n",
      "\u001b[34m\u001b[1mval: \u001b[0mWARNING ⚠️ C:\\Users\\cwky\\datasets\\coco\\images\\val2017\\000000529105.jpg: ignoring corrupt image/label: [Errno 2] No such file or directory: 'C:\\\\Users\\\\cwky\\\\datasets\\\\coco\\\\images\\\\val2017\\\\000000529105.jpg'\n",
      "\u001b[34m\u001b[1mval: \u001b[0mWARNING ⚠️ C:\\Users\\cwky\\datasets\\coco\\images\\val2017\\000000529568.jpg: ignoring corrupt image/label: [Errno 2] No such file or directory: 'C:\\\\Users\\\\cwky\\\\datasets\\\\coco\\\\images\\\\val2017\\\\000000529568.jpg'\n",
      "\u001b[34m\u001b[1mval: \u001b[0mWARNING ⚠️ C:\\Users\\cwky\\datasets\\coco\\images\\val2017\\000000529939.jpg: ignoring corrupt image/label: [Errno 2] No such file or directory: 'C:\\\\Users\\\\cwky\\\\datasets\\\\coco\\\\images\\\\val2017\\\\000000529939.jpg'\n",
      "\u001b[34m\u001b[1mval: \u001b[0mWARNING ⚠️ C:\\Users\\cwky\\datasets\\coco\\images\\val2017\\000000530061.jpg: ignoring corrupt image/label: [Errno 2] No such file or directory: 'C:\\\\Users\\\\cwky\\\\datasets\\\\coco\\\\images\\\\val2017\\\\000000530061.jpg'\n",
      "\u001b[34m\u001b[1mval: \u001b[0mWARNING ⚠️ C:\\Users\\cwky\\datasets\\coco\\images\\val2017\\000000530099.jpg: ignoring corrupt image/label: [Errno 2] No such file or directory: 'C:\\\\Users\\\\cwky\\\\datasets\\\\coco\\\\images\\\\val2017\\\\000000530099.jpg'\n",
      "\u001b[34m\u001b[1mval: \u001b[0mWARNING ⚠️ C:\\Users\\cwky\\datasets\\coco\\images\\val2017\\000000530162.jpg: ignoring corrupt image/label: [Errno 2] No such file or directory: 'C:\\\\Users\\\\cwky\\\\datasets\\\\coco\\\\images\\\\val2017\\\\000000530162.jpg'\n",
      "\u001b[34m\u001b[1mval: \u001b[0mWARNING ⚠️ C:\\Users\\cwky\\datasets\\coco\\images\\val2017\\000000530836.jpg: ignoring corrupt image/label: [Errno 2] No such file or directory: 'C:\\\\Users\\\\cwky\\\\datasets\\\\coco\\\\images\\\\val2017\\\\000000530836.jpg'\n",
      "\u001b[34m\u001b[1mval: \u001b[0mWARNING ⚠️ C:\\Users\\cwky\\datasets\\coco\\images\\val2017\\000000530854.jpg: ignoring corrupt image/label: [Errno 2] No such file or directory: 'C:\\\\Users\\\\cwky\\\\datasets\\\\coco\\\\images\\\\val2017\\\\000000530854.jpg'\n",
      "\u001b[34m\u001b[1mval: \u001b[0mWARNING ⚠️ C:\\Users\\cwky\\datasets\\coco\\images\\val2017\\000000530975.jpg: ignoring corrupt image/label: [Errno 2] No such file or directory: 'C:\\\\Users\\\\cwky\\\\datasets\\\\coco\\\\images\\\\val2017\\\\000000530975.jpg'\n",
      "\u001b[34m\u001b[1mval: \u001b[0mWARNING ⚠️ C:\\Users\\cwky\\datasets\\coco\\images\\val2017\\000000531134.jpg: ignoring corrupt image/label: [Errno 2] No such file or directory: 'C:\\\\Users\\\\cwky\\\\datasets\\\\coco\\\\images\\\\val2017\\\\000000531134.jpg'\n",
      "\u001b[34m\u001b[1mval: \u001b[0mWARNING ⚠️ C:\\Users\\cwky\\datasets\\coco\\images\\val2017\\000000531135.jpg: ignoring corrupt image/label: [Errno 2] No such file or directory: 'C:\\\\Users\\\\cwky\\\\datasets\\\\coco\\\\images\\\\val2017\\\\000000531135.jpg'\n",
      "\u001b[34m\u001b[1mval: \u001b[0mWARNING ⚠️ C:\\Users\\cwky\\datasets\\coco\\images\\val2017\\000000531495.jpg: ignoring corrupt image/label: [Errno 2] No such file or directory: 'C:\\\\Users\\\\cwky\\\\datasets\\\\coco\\\\images\\\\val2017\\\\000000531495.jpg'\n",
      "\u001b[34m\u001b[1mval: \u001b[0mWARNING ⚠️ C:\\Users\\cwky\\datasets\\coco\\images\\val2017\\000000531707.jpg: ignoring corrupt image/label: [Errno 2] No such file or directory: 'C:\\\\Users\\\\cwky\\\\datasets\\\\coco\\\\images\\\\val2017\\\\000000531707.jpg'\n",
      "\u001b[34m\u001b[1mval: \u001b[0mWARNING ⚠️ C:\\Users\\cwky\\datasets\\coco\\images\\val2017\\000000531771.jpg: ignoring corrupt image/label: [Errno 2] No such file or directory: 'C:\\\\Users\\\\cwky\\\\datasets\\\\coco\\\\images\\\\val2017\\\\000000531771.jpg'\n",
      "\u001b[34m\u001b[1mval: \u001b[0mWARNING ⚠️ C:\\Users\\cwky\\datasets\\coco\\images\\val2017\\000000532058.jpg: ignoring corrupt image/label: [Errno 2] No such file or directory: 'C:\\\\Users\\\\cwky\\\\datasets\\\\coco\\\\images\\\\val2017\\\\000000532058.jpg'\n",
      "\u001b[34m\u001b[1mval: \u001b[0mWARNING ⚠️ C:\\Users\\cwky\\datasets\\coco\\images\\val2017\\000000532575.jpg: ignoring corrupt image/label: [Errno 2] No such file or directory: 'C:\\\\Users\\\\cwky\\\\datasets\\\\coco\\\\images\\\\val2017\\\\000000532575.jpg'\n",
      "\u001b[34m\u001b[1mval: \u001b[0mWARNING ⚠️ C:\\Users\\cwky\\datasets\\coco\\images\\val2017\\000000533493.jpg: ignoring corrupt image/label: [Errno 2] No such file or directory: 'C:\\\\Users\\\\cwky\\\\datasets\\\\coco\\\\images\\\\val2017\\\\000000533493.jpg'\n",
      "\u001b[34m\u001b[1mval: \u001b[0mWARNING ⚠️ C:\\Users\\cwky\\datasets\\coco\\images\\val2017\\000000533816.jpg: ignoring corrupt image/label: [Errno 2] No such file or directory: 'C:\\\\Users\\\\cwky\\\\datasets\\\\coco\\\\images\\\\val2017\\\\000000533816.jpg'\n",
      "\u001b[34m\u001b[1mval: \u001b[0mWARNING ⚠️ C:\\Users\\cwky\\datasets\\coco\\images\\val2017\\000000533855.jpg: ignoring corrupt image/label: [Errno 2] No such file or directory: 'C:\\\\Users\\\\cwky\\\\datasets\\\\coco\\\\images\\\\val2017\\\\000000533855.jpg'\n",
      "\u001b[34m\u001b[1mval: \u001b[0mWARNING ⚠️ C:\\Users\\cwky\\datasets\\coco\\images\\val2017\\000000533958.jpg: ignoring corrupt image/label: [Errno 2] No such file or directory: 'C:\\\\Users\\\\cwky\\\\datasets\\\\coco\\\\images\\\\val2017\\\\000000533958.jpg'\n",
      "\u001b[34m\u001b[1mval: \u001b[0mWARNING ⚠️ C:\\Users\\cwky\\datasets\\coco\\images\\val2017\\000000534270.jpg: ignoring corrupt image/label: [Errno 2] No such file or directory: 'C:\\\\Users\\\\cwky\\\\datasets\\\\coco\\\\images\\\\val2017\\\\000000534270.jpg'\n",
      "\u001b[34m\u001b[1mval: \u001b[0mWARNING ⚠️ C:\\Users\\cwky\\datasets\\coco\\images\\val2017\\000000534394.jpg: ignoring corrupt image/label: [Errno 2] No such file or directory: 'C:\\\\Users\\\\cwky\\\\datasets\\\\coco\\\\images\\\\val2017\\\\000000534394.jpg'\n",
      "\u001b[34m\u001b[1mval: \u001b[0mWARNING ⚠️ C:\\Users\\cwky\\datasets\\coco\\images\\val2017\\000000535306.jpg: ignoring corrupt image/label: [Errno 2] No such file or directory: 'C:\\\\Users\\\\cwky\\\\datasets\\\\coco\\\\images\\\\val2017\\\\000000535306.jpg'\n",
      "\u001b[34m\u001b[1mval: \u001b[0mWARNING ⚠️ C:\\Users\\cwky\\datasets\\coco\\images\\val2017\\000000535523.jpg: ignoring corrupt image/label: [Errno 2] No such file or directory: 'C:\\\\Users\\\\cwky\\\\datasets\\\\coco\\\\images\\\\val2017\\\\000000535523.jpg'\n",
      "\u001b[34m\u001b[1mval: \u001b[0mWARNING ⚠️ C:\\Users\\cwky\\datasets\\coco\\images\\val2017\\000000535858.jpg: ignoring corrupt image/label: [Errno 2] No such file or directory: 'C:\\\\Users\\\\cwky\\\\datasets\\\\coco\\\\images\\\\val2017\\\\000000535858.jpg'\n",
      "\u001b[34m\u001b[1mval: \u001b[0mWARNING ⚠️ C:\\Users\\cwky\\datasets\\coco\\images\\val2017\\000000536038.jpg: ignoring corrupt image/label: [Errno 2] No such file or directory: 'C:\\\\Users\\\\cwky\\\\datasets\\\\coco\\\\images\\\\val2017\\\\000000536038.jpg'\n",
      "\u001b[34m\u001b[1mval: \u001b[0mWARNING ⚠️ C:\\Users\\cwky\\datasets\\coco\\images\\val2017\\000000536073.jpg: ignoring corrupt image/label: [Errno 2] No such file or directory: 'C:\\\\Users\\\\cwky\\\\datasets\\\\coco\\\\images\\\\val2017\\\\000000536073.jpg'\n",
      "\u001b[34m\u001b[1mval: \u001b[0mWARNING ⚠️ C:\\Users\\cwky\\datasets\\coco\\images\\val2017\\000000536947.jpg: ignoring corrupt image/label: [Errno 2] No such file or directory: 'C:\\\\Users\\\\cwky\\\\datasets\\\\coco\\\\images\\\\val2017\\\\000000536947.jpg'\n",
      "\u001b[34m\u001b[1mval: \u001b[0mWARNING ⚠️ C:\\Users\\cwky\\datasets\\coco\\images\\val2017\\000000537241.jpg: ignoring corrupt image/label: [Errno 2] No such file or directory: 'C:\\\\Users\\\\cwky\\\\datasets\\\\coco\\\\images\\\\val2017\\\\000000537241.jpg'\n",
      "\u001b[34m\u001b[1mval: \u001b[0mWARNING ⚠️ C:\\Users\\cwky\\datasets\\coco\\images\\val2017\\000000537802.jpg: ignoring corrupt image/label: [Errno 2] No such file or directory: 'C:\\\\Users\\\\cwky\\\\datasets\\\\coco\\\\images\\\\val2017\\\\000000537802.jpg'\n",
      "\u001b[34m\u001b[1mval: \u001b[0mWARNING ⚠️ C:\\Users\\cwky\\datasets\\coco\\images\\val2017\\000000538236.jpg: ignoring corrupt image/label: [Errno 2] No such file or directory: 'C:\\\\Users\\\\cwky\\\\datasets\\\\coco\\\\images\\\\val2017\\\\000000538236.jpg'\n",
      "\u001b[34m\u001b[1mval: \u001b[0mWARNING ⚠️ C:\\Users\\cwky\\datasets\\coco\\images\\val2017\\000000539143.jpg: ignoring corrupt image/label: [Errno 2] No such file or directory: 'C:\\\\Users\\\\cwky\\\\datasets\\\\coco\\\\images\\\\val2017\\\\000000539143.jpg'\n",
      "\u001b[34m\u001b[1mval: \u001b[0mWARNING ⚠️ C:\\Users\\cwky\\datasets\\coco\\images\\val2017\\000000539445.jpg: ignoring corrupt image/label: [Errno 2] No such file or directory: 'C:\\\\Users\\\\cwky\\\\datasets\\\\coco\\\\images\\\\val2017\\\\000000539445.jpg'\n",
      "\u001b[34m\u001b[1mval: \u001b[0mWARNING ⚠️ C:\\Users\\cwky\\datasets\\coco\\images\\val2017\\000000540414.jpg: ignoring corrupt image/label: [Errno 2] No such file or directory: 'C:\\\\Users\\\\cwky\\\\datasets\\\\coco\\\\images\\\\val2017\\\\000000540414.jpg'\n",
      "\u001b[34m\u001b[1mval: \u001b[0mWARNING ⚠️ C:\\Users\\cwky\\datasets\\coco\\images\\val2017\\000000540466.jpg: ignoring corrupt image/label: [Errno 2] No such file or directory: 'C:\\\\Users\\\\cwky\\\\datasets\\\\coco\\\\images\\\\val2017\\\\000000540466.jpg'\n",
      "\u001b[34m\u001b[1mval: \u001b[0mWARNING ⚠️ C:\\Users\\cwky\\datasets\\coco\\images\\val2017\\000000540928.jpg: ignoring corrupt image/label: [Errno 2] No such file or directory: 'C:\\\\Users\\\\cwky\\\\datasets\\\\coco\\\\images\\\\val2017\\\\000000540928.jpg'\n",
      "\u001b[34m\u001b[1mval: \u001b[0mWARNING ⚠️ C:\\Users\\cwky\\datasets\\coco\\images\\val2017\\000000540932.jpg: ignoring corrupt image/label: [Errno 2] No such file or directory: 'C:\\\\Users\\\\cwky\\\\datasets\\\\coco\\\\images\\\\val2017\\\\000000540932.jpg'\n",
      "\u001b[34m\u001b[1mval: \u001b[0mWARNING ⚠️ C:\\Users\\cwky\\datasets\\coco\\images\\val2017\\000000541773.jpg: ignoring corrupt image/label: [Errno 2] No such file or directory: 'C:\\\\Users\\\\cwky\\\\datasets\\\\coco\\\\images\\\\val2017\\\\000000541773.jpg'\n",
      "\u001b[34m\u001b[1mval: \u001b[0mWARNING ⚠️ C:\\Users\\cwky\\datasets\\coco\\images\\val2017\\000000541952.jpg: ignoring corrupt image/label: [Errno 2] No such file or directory: 'C:\\\\Users\\\\cwky\\\\datasets\\\\coco\\\\images\\\\val2017\\\\000000541952.jpg'\n",
      "\u001b[34m\u001b[1mval: \u001b[0mWARNING ⚠️ C:\\Users\\cwky\\datasets\\coco\\images\\val2017\\000000542073.jpg: ignoring corrupt image/label: [Errno 2] No such file or directory: 'C:\\\\Users\\\\cwky\\\\datasets\\\\coco\\\\images\\\\val2017\\\\000000542073.jpg'\n",
      "\u001b[34m\u001b[1mval: \u001b[0mWARNING ⚠️ C:\\Users\\cwky\\datasets\\coco\\images\\val2017\\000000542089.jpg: ignoring corrupt image/label: [Errno 2] No such file or directory: 'C:\\\\Users\\\\cwky\\\\datasets\\\\coco\\\\images\\\\val2017\\\\000000542089.jpg'\n",
      "\u001b[34m\u001b[1mval: \u001b[0mWARNING ⚠️ C:\\Users\\cwky\\datasets\\coco\\images\\val2017\\000000542423.jpg: ignoring corrupt image/label: [Errno 2] No such file or directory: 'C:\\\\Users\\\\cwky\\\\datasets\\\\coco\\\\images\\\\val2017\\\\000000542423.jpg'\n",
      "\u001b[34m\u001b[1mval: \u001b[0mWARNING ⚠️ C:\\Users\\cwky\\datasets\\coco\\images\\val2017\\000000542856.jpg: ignoring corrupt image/label: [Errno 2] No such file or directory: 'C:\\\\Users\\\\cwky\\\\datasets\\\\coco\\\\images\\\\val2017\\\\000000542856.jpg'\n",
      "\u001b[34m\u001b[1mval: \u001b[0mWARNING ⚠️ C:\\Users\\cwky\\datasets\\coco\\images\\val2017\\000000543300.jpg: ignoring corrupt image/label: [Errno 2] No such file or directory: 'C:\\\\Users\\\\cwky\\\\datasets\\\\coco\\\\images\\\\val2017\\\\000000543300.jpg'\n",
      "\u001b[34m\u001b[1mval: \u001b[0mWARNING ⚠️ C:\\Users\\cwky\\datasets\\coco\\images\\val2017\\000000544306.jpg: ignoring corrupt image/label: [Errno 2] No such file or directory: 'C:\\\\Users\\\\cwky\\\\datasets\\\\coco\\\\images\\\\val2017\\\\000000544306.jpg'\n",
      "\u001b[34m\u001b[1mval: \u001b[0mWARNING ⚠️ C:\\Users\\cwky\\datasets\\coco\\images\\val2017\\000000544444.jpg: ignoring corrupt image/label: [Errno 2] No such file or directory: 'C:\\\\Users\\\\cwky\\\\datasets\\\\coco\\\\images\\\\val2017\\\\000000544444.jpg'\n",
      "\u001b[34m\u001b[1mval: \u001b[0mWARNING ⚠️ C:\\Users\\cwky\\datasets\\coco\\images\\val2017\\000000544811.jpg: ignoring corrupt image/label: [Errno 2] No such file or directory: 'C:\\\\Users\\\\cwky\\\\datasets\\\\coco\\\\images\\\\val2017\\\\000000544811.jpg'\n",
      "\u001b[34m\u001b[1mval: \u001b[0mWARNING ⚠️ C:\\Users\\cwky\\datasets\\coco\\images\\val2017\\000000545007.jpg: ignoring corrupt image/label: [Errno 2] No such file or directory: 'C:\\\\Users\\\\cwky\\\\datasets\\\\coco\\\\images\\\\val2017\\\\000000545007.jpg'\n",
      "\u001b[34m\u001b[1mval: \u001b[0mWARNING ⚠️ C:\\Users\\cwky\\datasets\\coco\\images\\val2017\\000000545100.jpg: ignoring corrupt image/label: [Errno 2] No such file or directory: 'C:\\\\Users\\\\cwky\\\\datasets\\\\coco\\\\images\\\\val2017\\\\000000545100.jpg'\n",
      "\u001b[34m\u001b[1mval: \u001b[0mWARNING ⚠️ C:\\Users\\cwky\\datasets\\coco\\images\\val2017\\000000545594.jpg: ignoring corrupt image/label: [Errno 2] No such file or directory: 'C:\\\\Users\\\\cwky\\\\datasets\\\\coco\\\\images\\\\val2017\\\\000000545594.jpg'\n",
      "\u001b[34m\u001b[1mval: \u001b[0mWARNING ⚠️ C:\\Users\\cwky\\datasets\\coco\\images\\val2017\\000000546011.jpg: ignoring corrupt image/label: [Errno 2] No such file or directory: 'C:\\\\Users\\\\cwky\\\\datasets\\\\coco\\\\images\\\\val2017\\\\000000546011.jpg'\n",
      "\u001b[34m\u001b[1mval: \u001b[0mWARNING ⚠️ C:\\Users\\cwky\\datasets\\coco\\images\\val2017\\000000546325.jpg: ignoring corrupt image/label: [Errno 2] No such file or directory: 'C:\\\\Users\\\\cwky\\\\datasets\\\\coco\\\\images\\\\val2017\\\\000000546325.jpg'\n",
      "\u001b[34m\u001b[1mval: \u001b[0mWARNING ⚠️ C:\\Users\\cwky\\datasets\\coco\\images\\val2017\\000000546475.jpg: ignoring corrupt image/label: [Errno 2] No such file or directory: 'C:\\\\Users\\\\cwky\\\\datasets\\\\coco\\\\images\\\\val2017\\\\000000546475.jpg'\n",
      "\u001b[34m\u001b[1mval: \u001b[0mWARNING ⚠️ C:\\Users\\cwky\\datasets\\coco\\images\\val2017\\000000546659.jpg: ignoring corrupt image/label: [Errno 2] No such file or directory: 'C:\\\\Users\\\\cwky\\\\datasets\\\\coco\\\\images\\\\val2017\\\\000000546659.jpg'\n",
      "\u001b[34m\u001b[1mval: \u001b[0mWARNING ⚠️ C:\\Users\\cwky\\datasets\\coco\\images\\val2017\\000000546964.jpg: ignoring corrupt image/label: [Errno 2] No such file or directory: 'C:\\\\Users\\\\cwky\\\\datasets\\\\coco\\\\images\\\\val2017\\\\000000546964.jpg'\n",
      "\u001b[34m\u001b[1mval: \u001b[0mWARNING ⚠️ C:\\Users\\cwky\\datasets\\coco\\images\\val2017\\000000547144.jpg: ignoring corrupt image/label: [Errno 2] No such file or directory: 'C:\\\\Users\\\\cwky\\\\datasets\\\\coco\\\\images\\\\val2017\\\\000000547144.jpg'\n",
      "\u001b[34m\u001b[1mval: \u001b[0mWARNING ⚠️ C:\\Users\\cwky\\datasets\\coco\\images\\val2017\\000000547383.jpg: ignoring corrupt image/label: [Errno 2] No such file or directory: 'C:\\\\Users\\\\cwky\\\\datasets\\\\coco\\\\images\\\\val2017\\\\000000547383.jpg'\n",
      "\u001b[34m\u001b[1mval: \u001b[0mWARNING ⚠️ C:\\Users\\cwky\\datasets\\coco\\images\\val2017\\000000547519.jpg: ignoring corrupt image/label: [Errno 2] No such file or directory: 'C:\\\\Users\\\\cwky\\\\datasets\\\\coco\\\\images\\\\val2017\\\\000000547519.jpg'\n",
      "\u001b[34m\u001b[1mval: \u001b[0mWARNING ⚠️ C:\\Users\\cwky\\datasets\\coco\\images\\val2017\\000000547854.jpg: ignoring corrupt image/label: [Errno 2] No such file or directory: 'C:\\\\Users\\\\cwky\\\\datasets\\\\coco\\\\images\\\\val2017\\\\000000547854.jpg'\n",
      "\u001b[34m\u001b[1mval: \u001b[0mWARNING ⚠️ C:\\Users\\cwky\\datasets\\coco\\images\\val2017\\000000548246.jpg: ignoring corrupt image/label: [Errno 2] No such file or directory: 'C:\\\\Users\\\\cwky\\\\datasets\\\\coco\\\\images\\\\val2017\\\\000000548246.jpg'\n",
      "\u001b[34m\u001b[1mval: \u001b[0mWARNING ⚠️ C:\\Users\\cwky\\datasets\\coco\\images\\val2017\\000000548339.jpg: ignoring corrupt image/label: [Errno 2] No such file or directory: 'C:\\\\Users\\\\cwky\\\\datasets\\\\coco\\\\images\\\\val2017\\\\000000548339.jpg'\n",
      "\u001b[34m\u001b[1mval: \u001b[0mWARNING ⚠️ C:\\Users\\cwky\\datasets\\coco\\images\\val2017\\000000549055.jpg: ignoring corrupt image/label: [Errno 2] No such file or directory: 'C:\\\\Users\\\\cwky\\\\datasets\\\\coco\\\\images\\\\val2017\\\\000000549055.jpg'\n",
      "\u001b[34m\u001b[1mval: \u001b[0mWARNING ⚠️ C:\\Users\\cwky\\datasets\\coco\\images\\val2017\\000000549136.jpg: ignoring corrupt image/label: [Errno 2] No such file or directory: 'C:\\\\Users\\\\cwky\\\\datasets\\\\coco\\\\images\\\\val2017\\\\000000549136.jpg'\n",
      "\u001b[34m\u001b[1mval: \u001b[0mWARNING ⚠️ C:\\Users\\cwky\\datasets\\coco\\images\\val2017\\000000549167.jpg: ignoring corrupt image/label: [Errno 2] No such file or directory: 'C:\\\\Users\\\\cwky\\\\datasets\\\\coco\\\\images\\\\val2017\\\\000000549167.jpg'\n",
      "\u001b[34m\u001b[1mval: \u001b[0mWARNING ⚠️ C:\\Users\\cwky\\datasets\\coco\\images\\val2017\\000000549390.jpg: ignoring corrupt image/label: [Errno 2] No such file or directory: 'C:\\\\Users\\\\cwky\\\\datasets\\\\coco\\\\images\\\\val2017\\\\000000549390.jpg'\n",
      "\u001b[34m\u001b[1mval: \u001b[0mWARNING ⚠️ C:\\Users\\cwky\\datasets\\coco\\images\\val2017\\000000549738.jpg: ignoring corrupt image/label: [Errno 2] No such file or directory: 'C:\\\\Users\\\\cwky\\\\datasets\\\\coco\\\\images\\\\val2017\\\\000000549738.jpg'\n",
      "\u001b[34m\u001b[1mval: \u001b[0mWARNING ⚠️ C:\\Users\\cwky\\datasets\\coco\\images\\val2017\\000000549930.jpg: ignoring corrupt image/label: [Errno 2] No such file or directory: 'C:\\\\Users\\\\cwky\\\\datasets\\\\coco\\\\images\\\\val2017\\\\000000549930.jpg'\n",
      "\u001b[34m\u001b[1mval: \u001b[0mWARNING ⚠️ C:\\Users\\cwky\\datasets\\coco\\images\\val2017\\000000550349.jpg: ignoring corrupt image/label: [Errno 2] No such file or directory: 'C:\\\\Users\\\\cwky\\\\datasets\\\\coco\\\\images\\\\val2017\\\\000000550349.jpg'\n",
      "\u001b[34m\u001b[1mval: \u001b[0mWARNING ⚠️ C:\\Users\\cwky\\datasets\\coco\\images\\val2017\\000000550426.jpg: ignoring corrupt image/label: [Errno 2] No such file or directory: 'C:\\\\Users\\\\cwky\\\\datasets\\\\coco\\\\images\\\\val2017\\\\000000550426.jpg'\n",
      "\u001b[34m\u001b[1mval: \u001b[0mWARNING ⚠️ C:\\Users\\cwky\\datasets\\coco\\images\\val2017\\000000550797.jpg: ignoring corrupt image/label: [Errno 2] No such file or directory: 'C:\\\\Users\\\\cwky\\\\datasets\\\\coco\\\\images\\\\val2017\\\\000000550797.jpg'\n",
      "\u001b[34m\u001b[1mval: \u001b[0mWARNING ⚠️ C:\\Users\\cwky\\datasets\\coco\\images\\val2017\\000000551304.jpg: ignoring corrupt image/label: [Errno 2] No such file or directory: 'C:\\\\Users\\\\cwky\\\\datasets\\\\coco\\\\images\\\\val2017\\\\000000551304.jpg'\n",
      "\u001b[34m\u001b[1mval: \u001b[0mWARNING ⚠️ C:\\Users\\cwky\\datasets\\coco\\images\\val2017\\000000551350.jpg: ignoring corrupt image/label: [Errno 2] No such file or directory: 'C:\\\\Users\\\\cwky\\\\datasets\\\\coco\\\\images\\\\val2017\\\\000000551350.jpg'\n",
      "\u001b[34m\u001b[1mval: \u001b[0mWARNING ⚠️ C:\\Users\\cwky\\datasets\\coco\\images\\val2017\\000000553221.jpg: ignoring corrupt image/label: [Errno 2] No such file or directory: 'C:\\\\Users\\\\cwky\\\\datasets\\\\coco\\\\images\\\\val2017\\\\000000553221.jpg'\n",
      "\u001b[34m\u001b[1mval: \u001b[0mWARNING ⚠️ C:\\Users\\cwky\\datasets\\coco\\images\\val2017\\000000553339.jpg: ignoring corrupt image/label: [Errno 2] No such file or directory: 'C:\\\\Users\\\\cwky\\\\datasets\\\\coco\\\\images\\\\val2017\\\\000000553339.jpg'\n",
      "\u001b[34m\u001b[1mval: \u001b[0mWARNING ⚠️ C:\\Users\\cwky\\datasets\\coco\\images\\val2017\\000000553511.jpg: ignoring corrupt image/label: [Errno 2] No such file or directory: 'C:\\\\Users\\\\cwky\\\\datasets\\\\coco\\\\images\\\\val2017\\\\000000553511.jpg'\n",
      "\u001b[34m\u001b[1mval: \u001b[0mWARNING ⚠️ C:\\Users\\cwky\\datasets\\coco\\images\\val2017\\000000553990.jpg: ignoring corrupt image/label: [Errno 2] No such file or directory: 'C:\\\\Users\\\\cwky\\\\datasets\\\\coco\\\\images\\\\val2017\\\\000000553990.jpg'\n",
      "\u001b[34m\u001b[1mval: \u001b[0mWARNING ⚠️ C:\\Users\\cwky\\datasets\\coco\\images\\val2017\\000000554266.jpg: ignoring corrupt image/label: [Errno 2] No such file or directory: 'C:\\\\Users\\\\cwky\\\\datasets\\\\coco\\\\images\\\\val2017\\\\000000554266.jpg'\n",
      "\u001b[34m\u001b[1mval: \u001b[0mWARNING ⚠️ C:\\Users\\cwky\\datasets\\coco\\images\\val2017\\000000554291.jpg: ignoring corrupt image/label: [Errno 2] No such file or directory: 'C:\\\\Users\\\\cwky\\\\datasets\\\\coco\\\\images\\\\val2017\\\\000000554291.jpg'\n",
      "\u001b[34m\u001b[1mval: \u001b[0mWARNING ⚠️ C:\\Users\\cwky\\datasets\\coco\\images\\val2017\\000000554328.jpg: ignoring corrupt image/label: [Errno 2] No such file or directory: 'C:\\\\Users\\\\cwky\\\\datasets\\\\coco\\\\images\\\\val2017\\\\000000554328.jpg'\n",
      "\u001b[34m\u001b[1mval: \u001b[0mWARNING ⚠️ C:\\Users\\cwky\\datasets\\coco\\images\\val2017\\000000554735.jpg: ignoring corrupt image/label: [Errno 2] No such file or directory: 'C:\\\\Users\\\\cwky\\\\datasets\\\\coco\\\\images\\\\val2017\\\\000000554735.jpg'\n",
      "\u001b[34m\u001b[1mval: \u001b[0mWARNING ⚠️ C:\\Users\\cwky\\datasets\\coco\\images\\val2017\\000000554838.jpg: ignoring corrupt image/label: [Errno 2] No such file or directory: 'C:\\\\Users\\\\cwky\\\\datasets\\\\coco\\\\images\\\\val2017\\\\000000554838.jpg'\n",
      "\u001b[34m\u001b[1mval: \u001b[0mWARNING ⚠️ C:\\Users\\cwky\\datasets\\coco\\images\\val2017\\000000555012.jpg: ignoring corrupt image/label: [Errno 2] No such file or directory: 'C:\\\\Users\\\\cwky\\\\datasets\\\\coco\\\\images\\\\val2017\\\\000000555012.jpg'\n",
      "\u001b[34m\u001b[1mval: \u001b[0mWARNING ⚠️ C:\\Users\\cwky\\datasets\\coco\\images\\val2017\\000000555050.jpg: ignoring corrupt image/label: [Errno 2] No such file or directory: 'C:\\\\Users\\\\cwky\\\\datasets\\\\coco\\\\images\\\\val2017\\\\000000555050.jpg'\n",
      "\u001b[34m\u001b[1mval: \u001b[0mWARNING ⚠️ C:\\Users\\cwky\\datasets\\coco\\images\\val2017\\000000555412.jpg: ignoring corrupt image/label: [Errno 2] No such file or directory: 'C:\\\\Users\\\\cwky\\\\datasets\\\\coco\\\\images\\\\val2017\\\\000000555412.jpg'\n",
      "\u001b[34m\u001b[1mval: \u001b[0mWARNING ⚠️ C:\\Users\\cwky\\datasets\\coco\\images\\val2017\\000000555705.jpg: ignoring corrupt image/label: [Errno 2] No such file or directory: 'C:\\\\Users\\\\cwky\\\\datasets\\\\coco\\\\images\\\\val2017\\\\000000555705.jpg'\n",
      "\u001b[34m\u001b[1mval: \u001b[0mWARNING ⚠️ C:\\Users\\cwky\\datasets\\coco\\images\\val2017\\000000555972.jpg: ignoring corrupt image/label: [Errno 2] No such file or directory: 'C:\\\\Users\\\\cwky\\\\datasets\\\\coco\\\\images\\\\val2017\\\\000000555972.jpg'\n",
      "\u001b[34m\u001b[1mval: \u001b[0mWARNING ⚠️ C:\\Users\\cwky\\datasets\\coco\\images\\val2017\\000000556000.jpg: ignoring corrupt image/label: [Errno 2] No such file or directory: 'C:\\\\Users\\\\cwky\\\\datasets\\\\coco\\\\images\\\\val2017\\\\000000556000.jpg'\n",
      "\u001b[34m\u001b[1mval: \u001b[0mWARNING ⚠️ C:\\Users\\cwky\\datasets\\coco\\images\\val2017\\000000556498.jpg: ignoring corrupt image/label: [Errno 2] No such file or directory: 'C:\\\\Users\\\\cwky\\\\datasets\\\\coco\\\\images\\\\val2017\\\\000000556498.jpg'\n",
      "\u001b[34m\u001b[1mval: \u001b[0mWARNING ⚠️ C:\\Users\\cwky\\datasets\\coco\\images\\val2017\\000000556765.jpg: ignoring corrupt image/label: [Errno 2] No such file or directory: 'C:\\\\Users\\\\cwky\\\\datasets\\\\coco\\\\images\\\\val2017\\\\000000556765.jpg'\n",
      "\u001b[34m\u001b[1mval: \u001b[0mWARNING ⚠️ C:\\Users\\cwky\\datasets\\coco\\images\\val2017\\000000558558.jpg: ignoring corrupt image/label: [Errno 2] No such file or directory: 'C:\\\\Users\\\\cwky\\\\datasets\\\\coco\\\\images\\\\val2017\\\\000000558558.jpg'\n",
      "\u001b[34m\u001b[1mval: \u001b[0mWARNING ⚠️ C:\\Users\\cwky\\datasets\\coco\\images\\val2017\\000000559099.jpg: ignoring corrupt image/label: [Errno 2] No such file or directory: 'C:\\\\Users\\\\cwky\\\\datasets\\\\coco\\\\images\\\\val2017\\\\000000559099.jpg'\n",
      "\u001b[34m\u001b[1mval: \u001b[0mWARNING ⚠️ C:\\Users\\cwky\\datasets\\coco\\images\\val2017\\000000559547.jpg: ignoring corrupt image/label: [Errno 2] No such file or directory: 'C:\\\\Users\\\\cwky\\\\datasets\\\\coco\\\\images\\\\val2017\\\\000000559547.jpg'\n",
      "\u001b[34m\u001b[1mval: \u001b[0mWARNING ⚠️ C:\\Users\\cwky\\datasets\\coco\\images\\val2017\\000000560256.jpg: ignoring corrupt image/label: [Errno 2] No such file or directory: 'C:\\\\Users\\\\cwky\\\\datasets\\\\coco\\\\images\\\\val2017\\\\000000560256.jpg'\n",
      "\u001b[34m\u001b[1mval: \u001b[0mWARNING ⚠️ C:\\Users\\cwky\\datasets\\coco\\images\\val2017\\000000560279.jpg: ignoring corrupt image/label: [Errno 2] No such file or directory: 'C:\\\\Users\\\\cwky\\\\datasets\\\\coco\\\\images\\\\val2017\\\\000000560279.jpg'\n",
      "\u001b[34m\u001b[1mval: \u001b[0mWARNING ⚠️ C:\\Users\\cwky\\datasets\\coco\\images\\val2017\\000000560880.jpg: ignoring corrupt image/label: [Errno 2] No such file or directory: 'C:\\\\Users\\\\cwky\\\\datasets\\\\coco\\\\images\\\\val2017\\\\000000560880.jpg'\n",
      "\u001b[34m\u001b[1mval: \u001b[0mWARNING ⚠️ C:\\Users\\cwky\\datasets\\coco\\images\\val2017\\000000561009.jpg: ignoring corrupt image/label: [Errno 2] No such file or directory: 'C:\\\\Users\\\\cwky\\\\datasets\\\\coco\\\\images\\\\val2017\\\\000000561009.jpg'\n",
      "\u001b[34m\u001b[1mval: \u001b[0mWARNING ⚠️ C:\\Users\\cwky\\datasets\\coco\\images\\val2017\\000000561223.jpg: ignoring corrupt image/label: [Errno 2] No such file or directory: 'C:\\\\Users\\\\cwky\\\\datasets\\\\coco\\\\images\\\\val2017\\\\000000561223.jpg'\n",
      "\u001b[34m\u001b[1mval: \u001b[0mWARNING ⚠️ C:\\Users\\cwky\\datasets\\coco\\images\\val2017\\000000561679.jpg: ignoring corrupt image/label: [Errno 2] No such file or directory: 'C:\\\\Users\\\\cwky\\\\datasets\\\\coco\\\\images\\\\val2017\\\\000000561679.jpg'\n",
      "\u001b[34m\u001b[1mval: \u001b[0mWARNING ⚠️ C:\\Users\\cwky\\datasets\\coco\\images\\val2017\\000000562197.jpg: ignoring corrupt image/label: [Errno 2] No such file or directory: 'C:\\\\Users\\\\cwky\\\\datasets\\\\coco\\\\images\\\\val2017\\\\000000562197.jpg'\n",
      "\u001b[34m\u001b[1mval: \u001b[0mWARNING ⚠️ C:\\Users\\cwky\\datasets\\coco\\images\\val2017\\000000562207.jpg: ignoring corrupt image/label: [Errno 2] No such file or directory: 'C:\\\\Users\\\\cwky\\\\datasets\\\\coco\\\\images\\\\val2017\\\\000000562207.jpg'\n",
      "\u001b[34m\u001b[1mval: \u001b[0mWARNING ⚠️ C:\\Users\\cwky\\datasets\\coco\\images\\val2017\\000000562229.jpg: ignoring corrupt image/label: [Errno 2] No such file or directory: 'C:\\\\Users\\\\cwky\\\\datasets\\\\coco\\\\images\\\\val2017\\\\000000562229.jpg'\n",
      "\u001b[34m\u001b[1mval: \u001b[0mWARNING ⚠️ C:\\Users\\cwky\\datasets\\coco\\images\\val2017\\000000562443.jpg: ignoring corrupt image/label: [Errno 2] No such file or directory: 'C:\\\\Users\\\\cwky\\\\datasets\\\\coco\\\\images\\\\val2017\\\\000000562443.jpg'\n",
      "\u001b[34m\u001b[1mval: \u001b[0mWARNING ⚠️ C:\\Users\\cwky\\datasets\\coco\\images\\val2017\\000000562561.jpg: ignoring corrupt image/label: [Errno 2] No such file or directory: 'C:\\\\Users\\\\cwky\\\\datasets\\\\coco\\\\images\\\\val2017\\\\000000562561.jpg'\n",
      "\u001b[34m\u001b[1mval: \u001b[0mWARNING ⚠️ C:\\Users\\cwky\\datasets\\coco\\images\\val2017\\000000562581.jpg: ignoring corrupt image/label: [Errno 2] No such file or directory: 'C:\\\\Users\\\\cwky\\\\datasets\\\\coco\\\\images\\\\val2017\\\\000000562581.jpg'\n",
      "\u001b[34m\u001b[1mval: \u001b[0mWARNING ⚠️ C:\\Users\\cwky\\datasets\\coco\\images\\val2017\\000000563267.jpg: ignoring corrupt image/label: [Errno 2] No such file or directory: 'C:\\\\Users\\\\cwky\\\\datasets\\\\coco\\\\images\\\\val2017\\\\000000563267.jpg'\n",
      "\u001b[34m\u001b[1mval: \u001b[0mWARNING ⚠️ C:\\Users\\cwky\\datasets\\coco\\images\\val2017\\000000563281.jpg: ignoring corrupt image/label: [Errno 2] No such file or directory: 'C:\\\\Users\\\\cwky\\\\datasets\\\\coco\\\\images\\\\val2017\\\\000000563281.jpg'\n",
      "\u001b[34m\u001b[1mval: \u001b[0mWARNING ⚠️ C:\\Users\\cwky\\datasets\\coco\\images\\val2017\\000000563349.jpg: ignoring corrupt image/label: [Errno 2] No such file or directory: 'C:\\\\Users\\\\cwky\\\\datasets\\\\coco\\\\images\\\\val2017\\\\000000563349.jpg'\n",
      "\u001b[34m\u001b[1mval: \u001b[0mWARNING ⚠️ C:\\Users\\cwky\\datasets\\coco\\images\\val2017\\000000563648.jpg: ignoring corrupt image/label: [Errno 2] No such file or directory: 'C:\\\\Users\\\\cwky\\\\datasets\\\\coco\\\\images\\\\val2017\\\\000000563648.jpg'\n",
      "\u001b[34m\u001b[1mval: \u001b[0mWARNING ⚠️ C:\\Users\\cwky\\datasets\\coco\\images\\val2017\\000000563653.jpg: ignoring corrupt image/label: [Errno 2] No such file or directory: 'C:\\\\Users\\\\cwky\\\\datasets\\\\coco\\\\images\\\\val2017\\\\000000563653.jpg'\n",
      "\u001b[34m\u001b[1mval: \u001b[0mWARNING ⚠️ C:\\Users\\cwky\\datasets\\coco\\images\\val2017\\000000564023.jpg: ignoring corrupt image/label: [Errno 2] No such file or directory: 'C:\\\\Users\\\\cwky\\\\datasets\\\\coco\\\\images\\\\val2017\\\\000000564023.jpg'\n",
      "\u001b[34m\u001b[1mval: \u001b[0mWARNING ⚠️ C:\\Users\\cwky\\datasets\\coco\\images\\val2017\\000000564091.jpg: ignoring corrupt image/label: [Errno 2] No such file or directory: 'C:\\\\Users\\\\cwky\\\\datasets\\\\coco\\\\images\\\\val2017\\\\000000564091.jpg'\n",
      "\u001b[34m\u001b[1mval: \u001b[0mWARNING ⚠️ C:\\Users\\cwky\\datasets\\coco\\images\\val2017\\000000564133.jpg: ignoring corrupt image/label: [Errno 2] No such file or directory: 'C:\\\\Users\\\\cwky\\\\datasets\\\\coco\\\\images\\\\val2017\\\\000000564133.jpg'\n",
      "\u001b[34m\u001b[1mval: \u001b[0mWARNING ⚠️ C:\\Users\\cwky\\datasets\\coco\\images\\val2017\\000000564336.jpg: ignoring corrupt image/label: [Errno 2] No such file or directory: 'C:\\\\Users\\\\cwky\\\\datasets\\\\coco\\\\images\\\\val2017\\\\000000564336.jpg'\n",
      "\u001b[34m\u001b[1mval: \u001b[0mWARNING ⚠️ C:\\Users\\cwky\\datasets\\coco\\images\\val2017\\000000565012.jpg: ignoring corrupt image/label: [Errno 2] No such file or directory: 'C:\\\\Users\\\\cwky\\\\datasets\\\\coco\\\\images\\\\val2017\\\\000000565012.jpg'\n",
      "\u001b[34m\u001b[1mval: \u001b[0mWARNING ⚠️ C:\\Users\\cwky\\datasets\\coco\\images\\val2017\\000000565563.jpg: ignoring corrupt image/label: [Errno 2] No such file or directory: 'C:\\\\Users\\\\cwky\\\\datasets\\\\coco\\\\images\\\\val2017\\\\000000565563.jpg'\n",
      "\u001b[34m\u001b[1mval: \u001b[0mWARNING ⚠️ C:\\Users\\cwky\\datasets\\coco\\images\\val2017\\000000565597.jpg: ignoring corrupt image/label: [Errno 2] No such file or directory: 'C:\\\\Users\\\\cwky\\\\datasets\\\\coco\\\\images\\\\val2017\\\\000000565597.jpg'\n",
      "\u001b[34m\u001b[1mval: \u001b[0mWARNING ⚠️ C:\\Users\\cwky\\datasets\\coco\\images\\val2017\\000000565624.jpg: ignoring corrupt image/label: [Errno 2] No such file or directory: 'C:\\\\Users\\\\cwky\\\\datasets\\\\coco\\\\images\\\\val2017\\\\000000565624.jpg'\n",
      "\u001b[34m\u001b[1mval: \u001b[0mWARNING ⚠️ C:\\Users\\cwky\\datasets\\coco\\images\\val2017\\000000565778.jpg: ignoring corrupt image/label: [Errno 2] No such file or directory: 'C:\\\\Users\\\\cwky\\\\datasets\\\\coco\\\\images\\\\val2017\\\\000000565778.jpg'\n",
      "\u001b[34m\u001b[1mval: \u001b[0mWARNING ⚠️ C:\\Users\\cwky\\datasets\\coco\\images\\val2017\\000000566436.jpg: ignoring corrupt image/label: [Errno 2] No such file or directory: 'C:\\\\Users\\\\cwky\\\\datasets\\\\coco\\\\images\\\\val2017\\\\000000566436.jpg'\n",
      "\u001b[34m\u001b[1mval: \u001b[0mWARNING ⚠️ C:\\Users\\cwky\\datasets\\coco\\images\\val2017\\000000567640.jpg: ignoring corrupt image/label: [Errno 2] No such file or directory: 'C:\\\\Users\\\\cwky\\\\datasets\\\\coco\\\\images\\\\val2017\\\\000000567640.jpg'\n",
      "\u001b[34m\u001b[1mval: \u001b[0mWARNING ⚠️ C:\\Users\\cwky\\datasets\\coco\\images\\val2017\\000000567740.jpg: ignoring corrupt image/label: [Errno 2] No such file or directory: 'C:\\\\Users\\\\cwky\\\\datasets\\\\coco\\\\images\\\\val2017\\\\000000567740.jpg'\n",
      "\u001b[34m\u001b[1mval: \u001b[0mWARNING ⚠️ C:\\Users\\cwky\\datasets\\coco\\images\\val2017\\000000567886.jpg: ignoring corrupt image/label: [Errno 2] No such file or directory: 'C:\\\\Users\\\\cwky\\\\datasets\\\\coco\\\\images\\\\val2017\\\\000000567886.jpg'\n",
      "\u001b[34m\u001b[1mval: \u001b[0mWARNING ⚠️ C:\\Users\\cwky\\datasets\\coco\\images\\val2017\\000000567898.jpg: ignoring corrupt image/label: [Errno 2] No such file or directory: 'C:\\\\Users\\\\cwky\\\\datasets\\\\coco\\\\images\\\\val2017\\\\000000567898.jpg'\n",
      "\u001b[34m\u001b[1mval: \u001b[0mWARNING ⚠️ C:\\Users\\cwky\\datasets\\coco\\images\\val2017\\000000568439.jpg: ignoring corrupt image/label: [Errno 2] No such file or directory: 'C:\\\\Users\\\\cwky\\\\datasets\\\\coco\\\\images\\\\val2017\\\\000000568439.jpg'\n",
      "\u001b[34m\u001b[1mval: \u001b[0mWARNING ⚠️ C:\\Users\\cwky\\datasets\\coco\\images\\val2017\\000000568584.jpg: ignoring corrupt image/label: [Errno 2] No such file or directory: 'C:\\\\Users\\\\cwky\\\\datasets\\\\coco\\\\images\\\\val2017\\\\000000568584.jpg'\n",
      "\u001b[34m\u001b[1mval: \u001b[0mWARNING ⚠️ C:\\Users\\cwky\\datasets\\coco\\images\\val2017\\000000568690.jpg: ignoring corrupt image/label: [Errno 2] No such file or directory: 'C:\\\\Users\\\\cwky\\\\datasets\\\\coco\\\\images\\\\val2017\\\\000000568690.jpg'\n",
      "\u001b[34m\u001b[1mval: \u001b[0mWARNING ⚠️ C:\\Users\\cwky\\datasets\\coco\\images\\val2017\\000000568710.jpg: ignoring corrupt image/label: [Errno 2] No such file or directory: 'C:\\\\Users\\\\cwky\\\\datasets\\\\coco\\\\images\\\\val2017\\\\000000568710.jpg'\n",
      "\u001b[34m\u001b[1mval: \u001b[0mWARNING ⚠️ C:\\Users\\cwky\\datasets\\coco\\images\\val2017\\000000569059.jpg: ignoring corrupt image/label: [Errno 2] No such file or directory: 'C:\\\\Users\\\\cwky\\\\datasets\\\\coco\\\\images\\\\val2017\\\\000000569059.jpg'\n",
      "\u001b[34m\u001b[1mval: \u001b[0mWARNING ⚠️ C:\\Users\\cwky\\datasets\\coco\\images\\val2017\\000000569273.jpg: ignoring corrupt image/label: [Errno 2] No such file or directory: 'C:\\\\Users\\\\cwky\\\\datasets\\\\coco\\\\images\\\\val2017\\\\000000569273.jpg'\n",
      "\u001b[34m\u001b[1mval: \u001b[0mWARNING ⚠️ C:\\Users\\cwky\\datasets\\coco\\images\\val2017\\000000569700.jpg: ignoring corrupt image/label: [Errno 2] No such file or directory: 'C:\\\\Users\\\\cwky\\\\datasets\\\\coco\\\\images\\\\val2017\\\\000000569700.jpg'\n",
      "\u001b[34m\u001b[1mval: \u001b[0mWARNING ⚠️ C:\\Users\\cwky\\datasets\\coco\\images\\val2017\\000000569917.jpg: ignoring corrupt image/label: [Errno 2] No such file or directory: 'C:\\\\Users\\\\cwky\\\\datasets\\\\coco\\\\images\\\\val2017\\\\000000569917.jpg'\n",
      "\u001b[34m\u001b[1mval: \u001b[0mWARNING ⚠️ C:\\Users\\cwky\\datasets\\coco\\images\\val2017\\000000569976.jpg: ignoring corrupt image/label: [Errno 2] No such file or directory: 'C:\\\\Users\\\\cwky\\\\datasets\\\\coco\\\\images\\\\val2017\\\\000000569976.jpg'\n",
      "\u001b[34m\u001b[1mval: \u001b[0mWARNING ⚠️ C:\\Users\\cwky\\datasets\\coco\\images\\val2017\\000000570448.jpg: ignoring corrupt image/label: [Errno 2] No such file or directory: 'C:\\\\Users\\\\cwky\\\\datasets\\\\coco\\\\images\\\\val2017\\\\000000570448.jpg'\n",
      "\u001b[34m\u001b[1mval: \u001b[0mWARNING ⚠️ C:\\Users\\cwky\\datasets\\coco\\images\\val2017\\000000570539.jpg: ignoring corrupt image/label: [Errno 2] No such file or directory: 'C:\\\\Users\\\\cwky\\\\datasets\\\\coco\\\\images\\\\val2017\\\\000000570539.jpg'\n",
      "\u001b[34m\u001b[1mval: \u001b[0mWARNING ⚠️ C:\\Users\\cwky\\datasets\\coco\\images\\val2017\\000000570664.jpg: ignoring corrupt image/label: [Errno 2] No such file or directory: 'C:\\\\Users\\\\cwky\\\\datasets\\\\coco\\\\images\\\\val2017\\\\000000570664.jpg'\n",
      "\u001b[34m\u001b[1mval: \u001b[0mWARNING ⚠️ C:\\Users\\cwky\\datasets\\coco\\images\\val2017\\000000570688.jpg: ignoring corrupt image/label: [Errno 2] No such file or directory: 'C:\\\\Users\\\\cwky\\\\datasets\\\\coco\\\\images\\\\val2017\\\\000000570688.jpg'\n",
      "\u001b[34m\u001b[1mval: \u001b[0mWARNING ⚠️ C:\\Users\\cwky\\datasets\\coco\\images\\val2017\\000000570736.jpg: ignoring corrupt image/label: [Errno 2] No such file or directory: 'C:\\\\Users\\\\cwky\\\\datasets\\\\coco\\\\images\\\\val2017\\\\000000570736.jpg'\n",
      "\u001b[34m\u001b[1mval: \u001b[0mWARNING ⚠️ C:\\Users\\cwky\\datasets\\coco\\images\\val2017\\000000570756.jpg: ignoring corrupt image/label: [Errno 2] No such file or directory: 'C:\\\\Users\\\\cwky\\\\datasets\\\\coco\\\\images\\\\val2017\\\\000000570756.jpg'\n",
      "\u001b[34m\u001b[1mval: \u001b[0mWARNING ⚠️ C:\\Users\\cwky\\datasets\\coco\\images\\val2017\\000000571008.jpg: ignoring corrupt image/label: [Errno 2] No such file or directory: 'C:\\\\Users\\\\cwky\\\\datasets\\\\coco\\\\images\\\\val2017\\\\000000571008.jpg'\n",
      "\u001b[34m\u001b[1mval: \u001b[0mWARNING ⚠️ C:\\Users\\cwky\\datasets\\coco\\images\\val2017\\000000571264.jpg: ignoring corrupt image/label: [Errno 2] No such file or directory: 'C:\\\\Users\\\\cwky\\\\datasets\\\\coco\\\\images\\\\val2017\\\\000000571264.jpg'\n",
      "\u001b[34m\u001b[1mval: \u001b[0mWARNING ⚠️ C:\\Users\\cwky\\datasets\\coco\\images\\val2017\\000000571718.jpg: ignoring corrupt image/label: [Errno 2] No such file or directory: 'C:\\\\Users\\\\cwky\\\\datasets\\\\coco\\\\images\\\\val2017\\\\000000571718.jpg'\n",
      "\u001b[34m\u001b[1mval: \u001b[0mWARNING ⚠️ C:\\Users\\cwky\\datasets\\coco\\images\\val2017\\000000571943.jpg: ignoring corrupt image/label: [Errno 2] No such file or directory: 'C:\\\\Users\\\\cwky\\\\datasets\\\\coco\\\\images\\\\val2017\\\\000000571943.jpg'\n",
      "\u001b[34m\u001b[1mval: \u001b[0mWARNING ⚠️ C:\\Users\\cwky\\datasets\\coco\\images\\val2017\\000000572620.jpg: ignoring corrupt image/label: [Errno 2] No such file or directory: 'C:\\\\Users\\\\cwky\\\\datasets\\\\coco\\\\images\\\\val2017\\\\000000572620.jpg'\n",
      "\u001b[34m\u001b[1mval: \u001b[0mWARNING ⚠️ C:\\Users\\cwky\\datasets\\coco\\images\\val2017\\000000572678.jpg: ignoring corrupt image/label: [Errno 2] No such file or directory: 'C:\\\\Users\\\\cwky\\\\datasets\\\\coco\\\\images\\\\val2017\\\\000000572678.jpg'\n",
      "\u001b[34m\u001b[1mval: \u001b[0mWARNING ⚠️ C:\\Users\\cwky\\datasets\\coco\\images\\val2017\\000000572956.jpg: ignoring corrupt image/label: [Errno 2] No such file or directory: 'C:\\\\Users\\\\cwky\\\\datasets\\\\coco\\\\images\\\\val2017\\\\000000572956.jpg'\n",
      "\u001b[34m\u001b[1mval: \u001b[0mWARNING ⚠️ C:\\Users\\cwky\\datasets\\coco\\images\\val2017\\000000573008.jpg: ignoring corrupt image/label: [Errno 2] No such file or directory: 'C:\\\\Users\\\\cwky\\\\datasets\\\\coco\\\\images\\\\val2017\\\\000000573008.jpg'\n",
      "\u001b[34m\u001b[1mval: \u001b[0mWARNING ⚠️ C:\\Users\\cwky\\datasets\\coco\\images\\val2017\\000000573094.jpg: ignoring corrupt image/label: [Errno 2] No such file or directory: 'C:\\\\Users\\\\cwky\\\\datasets\\\\coco\\\\images\\\\val2017\\\\000000573094.jpg'\n",
      "\u001b[34m\u001b[1mval: \u001b[0mWARNING ⚠️ C:\\Users\\cwky\\datasets\\coco\\images\\val2017\\000000573943.jpg: ignoring corrupt image/label: [Errno 2] No such file or directory: 'C:\\\\Users\\\\cwky\\\\datasets\\\\coco\\\\images\\\\val2017\\\\000000573943.jpg'\n",
      "\u001b[34m\u001b[1mval: \u001b[0mWARNING ⚠️ C:\\Users\\cwky\\datasets\\coco\\images\\val2017\\000000574425.jpg: ignoring corrupt image/label: [Errno 2] No such file or directory: 'C:\\\\Users\\\\cwky\\\\datasets\\\\coco\\\\images\\\\val2017\\\\000000574425.jpg'\n",
      "\u001b[34m\u001b[1mval: \u001b[0mWARNING ⚠️ C:\\Users\\cwky\\datasets\\coco\\images\\val2017\\000000575500.jpg: ignoring corrupt image/label: [Errno 2] No such file or directory: 'C:\\\\Users\\\\cwky\\\\datasets\\\\coco\\\\images\\\\val2017\\\\000000575500.jpg'\n",
      "\u001b[34m\u001b[1mval: \u001b[0mWARNING ⚠️ C:\\Users\\cwky\\datasets\\coco\\images\\val2017\\000000575970.jpg: ignoring corrupt image/label: [Errno 2] No such file or directory: 'C:\\\\Users\\\\cwky\\\\datasets\\\\coco\\\\images\\\\val2017\\\\000000575970.jpg'\n",
      "\u001b[34m\u001b[1mval: \u001b[0mWARNING ⚠️ C:\\Users\\cwky\\datasets\\coco\\images\\val2017\\000000576566.jpg: ignoring corrupt image/label: [Errno 2] No such file or directory: 'C:\\\\Users\\\\cwky\\\\datasets\\\\coco\\\\images\\\\val2017\\\\000000576566.jpg'\n",
      "\u001b[34m\u001b[1mval: \u001b[0mWARNING ⚠️ C:\\Users\\cwky\\datasets\\coco\\images\\val2017\\000000576654.jpg: ignoring corrupt image/label: [Errno 2] No such file or directory: 'C:\\\\Users\\\\cwky\\\\datasets\\\\coco\\\\images\\\\val2017\\\\000000576654.jpg'\n",
      "\u001b[34m\u001b[1mval: \u001b[0mWARNING ⚠️ C:\\Users\\cwky\\datasets\\coco\\images\\val2017\\000000577539.jpg: ignoring corrupt image/label: [Errno 2] No such file or directory: 'C:\\\\Users\\\\cwky\\\\datasets\\\\coco\\\\images\\\\val2017\\\\000000577539.jpg'\n",
      "\u001b[34m\u001b[1mval: \u001b[0mWARNING ⚠️ C:\\Users\\cwky\\datasets\\coco\\images\\val2017\\000000578093.jpg: ignoring corrupt image/label: [Errno 2] No such file or directory: 'C:\\\\Users\\\\cwky\\\\datasets\\\\coco\\\\images\\\\val2017\\\\000000578093.jpg'\n",
      "\u001b[34m\u001b[1mval: \u001b[0mWARNING ⚠️ C:\\Users\\cwky\\datasets\\coco\\images\\val2017\\000000578236.jpg: ignoring corrupt image/label: [Errno 2] No such file or directory: 'C:\\\\Users\\\\cwky\\\\datasets\\\\coco\\\\images\\\\val2017\\\\000000578236.jpg'\n",
      "\u001b[34m\u001b[1mval: \u001b[0mWARNING ⚠️ C:\\Users\\cwky\\datasets\\coco\\images\\val2017\\000000578545.jpg: ignoring corrupt image/label: [Errno 2] No such file or directory: 'C:\\\\Users\\\\cwky\\\\datasets\\\\coco\\\\images\\\\val2017\\\\000000578545.jpg'\n",
      "\u001b[34m\u001b[1mval: \u001b[0mWARNING ⚠️ C:\\Users\\cwky\\datasets\\coco\\images\\val2017\\000000578871.jpg: ignoring corrupt image/label: [Errno 2] No such file or directory: 'C:\\\\Users\\\\cwky\\\\datasets\\\\coco\\\\images\\\\val2017\\\\000000578871.jpg'\n",
      "\u001b[34m\u001b[1mval: \u001b[0mWARNING ⚠️ C:\\Users\\cwky\\datasets\\coco\\images\\val2017\\000000579091.jpg: ignoring corrupt image/label: [Errno 2] No such file or directory: 'C:\\\\Users\\\\cwky\\\\datasets\\\\coco\\\\images\\\\val2017\\\\000000579091.jpg'\n",
      "\u001b[34m\u001b[1mval: \u001b[0mWARNING ⚠️ C:\\Users\\cwky\\datasets\\coco\\images\\val2017\\000000579893.jpg: ignoring corrupt image/label: [Errno 2] No such file or directory: 'C:\\\\Users\\\\cwky\\\\datasets\\\\coco\\\\images\\\\val2017\\\\000000579893.jpg'\n",
      "\u001b[34m\u001b[1mval: \u001b[0mWARNING ⚠️ C:\\Users\\cwky\\datasets\\coco\\images\\val2017\\000000579902.jpg: ignoring corrupt image/label: [Errno 2] No such file or directory: 'C:\\\\Users\\\\cwky\\\\datasets\\\\coco\\\\images\\\\val2017\\\\000000579902.jpg'\n",
      "\u001b[34m\u001b[1mval: \u001b[0mWARNING ⚠️ C:\\Users\\cwky\\datasets\\coco\\images\\val2017\\000000580197.jpg: ignoring corrupt image/label: [Errno 2] No such file or directory: 'C:\\\\Users\\\\cwky\\\\datasets\\\\coco\\\\images\\\\val2017\\\\000000580197.jpg'\n",
      "\u001b[34m\u001b[1mval: \u001b[0mWARNING ⚠️ C:\\Users\\cwky\\datasets\\coco\\images\\val2017\\000000580294.jpg: ignoring corrupt image/label: [Errno 2] No such file or directory: 'C:\\\\Users\\\\cwky\\\\datasets\\\\coco\\\\images\\\\val2017\\\\000000580294.jpg'\n",
      "\u001b[34m\u001b[1mval: \u001b[0mWARNING ⚠️ C:\\Users\\cwky\\datasets\\coco\\images\\val2017\\000000580418.jpg: ignoring corrupt image/label: [Errno 2] No such file or directory: 'C:\\\\Users\\\\cwky\\\\datasets\\\\coco\\\\images\\\\val2017\\\\000000580418.jpg'\n",
      "\u001b[34m\u001b[1mval: \u001b[0mWARNING ⚠️ C:\\Users\\cwky\\datasets\\coco\\images\\val2017\\000000581100.jpg: ignoring corrupt image/label: [Errno 2] No such file or directory: 'C:\\\\Users\\\\cwky\\\\datasets\\\\coco\\\\images\\\\val2017\\\\000000581100.jpg'\n",
      "\u001b[34m\u001b[1mval: \u001b[0mWARNING ⚠️ C:\\Users\\cwky\\datasets\\coco\\images\\val2017\\000000581482.jpg: ignoring corrupt image/label: [Errno 2] No such file or directory: 'C:\\\\Users\\\\cwky\\\\datasets\\\\coco\\\\images\\\\val2017\\\\000000581482.jpg'\n",
      "\u001b[34m\u001b[1mval: \u001b[0mWARNING ⚠️ C:\\Users\\cwky\\datasets\\coco\\images\\val2017\\000000581781.jpg: ignoring corrupt image/label: [Errno 2] No such file or directory: 'C:\\\\Users\\\\cwky\\\\datasets\\\\coco\\\\images\\\\val2017\\\\000000581781.jpg'\n"
     ]
    },
    {
     "name": "stderr",
     "output_type": "stream",
     "text": [
      "\n",
      "                 Class     Images  Instances      Box(P          R      mAP50  mAP50-95): 100%|██████████| 196/196 [04:29<00:00,  1.37s/it]\n"
     ]
    },
    {
     "name": "stdout",
     "output_type": "stream",
     "text": [
      "                   all       3122      22302      0.644      0.478      0.528      0.378\n",
      "                person       3122       6656      0.767      0.666      0.742      0.509\n",
      "               bicycle       3122        186      0.733      0.425      0.496      0.298\n",
      "                   car       3122       1208      0.661      0.525      0.571      0.365\n",
      "            motorcycle       3122        228      0.722      0.566       0.65      0.395\n",
      "              airplane       3122         89      0.851      0.773      0.838       0.63\n",
      "                   bus       3122        190       0.84      0.633      0.755      0.621\n",
      "                 train       3122        118      0.773      0.729      0.788      0.623\n",
      "                 truck       3122        258      0.568      0.419      0.456      0.314\n",
      "                  boat       3122        213      0.544      0.338      0.411      0.229\n",
      "         traffic light       3122        393      0.624      0.308      0.368      0.198\n",
      "          fire hydrant       3122         60      0.808      0.667      0.728      0.568\n",
      "             stop sign       3122         44      0.692      0.705      0.741      0.682\n",
      "         parking meter       3122         51      0.765       0.49      0.581       0.46\n",
      "                 bench       3122        298      0.581      0.262      0.291      0.189\n",
      "                  bird       3122        292      0.663      0.322      0.397      0.264\n",
      "                   cat       3122        135      0.784      0.809      0.835      0.634\n",
      "                   dog       3122        135      0.636      0.667      0.704      0.585\n",
      "                 horse       3122        140      0.668      0.679      0.712      0.562\n",
      "                 sheep       3122        245      0.653      0.682      0.682      0.484\n",
      "                   cow       3122        190      0.725      0.658      0.732      0.531\n",
      "              elephant       3122        156      0.696      0.853      0.863      0.669\n",
      "                  bear       3122         49      0.869      0.776      0.846      0.706\n",
      "                 zebra       3122        165      0.846        0.8      0.892       0.68\n",
      "               giraffe       3122        167      0.838      0.796      0.858      0.652\n",
      "              backpack       3122        231      0.547      0.173      0.205      0.107\n",
      "              umbrella       3122        248      0.625       0.43      0.498      0.317\n",
      "               handbag       3122        313      0.497       0.12      0.181     0.0906\n",
      "                   tie       3122        144       0.76      0.375      0.449      0.284\n",
      "              suitcase       3122        139      0.618       0.43      0.528      0.374\n",
      "               frisbee       3122         66      0.736      0.833      0.844      0.664\n",
      "                  skis       3122        155      0.651       0.29      0.339      0.171\n",
      "             snowboard       3122         46       0.47      0.239        0.3      0.203\n",
      "           sports ball       3122        145      0.709      0.441      0.512      0.364\n",
      "                  kite       3122        193      0.613      0.477      0.524      0.349\n",
      "          baseball bat       3122        102      0.568      0.343      0.375       0.21\n",
      "        baseball glove       3122         92      0.741      0.467      0.507      0.318\n",
      "            skateboard       3122        105       0.71       0.63      0.694      0.468\n",
      "             surfboard       3122        165      0.679      0.509      0.548      0.328\n",
      "         tennis racket       3122        131      0.713      0.641      0.689      0.389\n",
      "                bottle       3122        648      0.637      0.385      0.455      0.296\n",
      "            wine glass       3122        189       0.66       0.37      0.459      0.301\n",
      "                   cup       3122        576      0.606       0.45      0.507      0.365\n",
      "                  fork       3122        138      0.598      0.362      0.442      0.301\n",
      "                 knife       3122        219      0.556      0.154      0.176       0.11\n",
      "                 spoon       3122        148      0.444      0.155       0.18      0.115\n",
      "                  bowl       3122        386       0.62        0.5       0.54      0.411\n",
      "                banana       3122        221      0.523      0.285      0.353      0.222\n",
      "                 apple       3122        133      0.396      0.242      0.211       0.14\n",
      "              sandwich       3122        125      0.593      0.512        0.5      0.374\n",
      "                orange       3122        204      0.547      0.436      0.412      0.302\n",
      "              broccoli       3122        160      0.517      0.312      0.353      0.201\n",
      "                carrot       3122        142      0.382      0.197      0.229      0.125\n",
      "               hot dog       3122         82      0.749       0.51      0.574      0.417\n",
      "                 pizza       3122        192      0.635      0.573      0.617       0.47\n",
      "                 donut       3122        199      0.596      0.472      0.505      0.398\n",
      "                  cake       3122        149      0.567      0.443      0.494       0.33\n",
      "                 chair       3122       1146      0.603      0.353      0.422      0.267\n",
      "                 couch       3122        158      0.592       0.57      0.605      0.436\n",
      "          potted plant       3122        212      0.537      0.377      0.399      0.241\n",
      "                   bed       3122        103      0.562      0.602      0.622      0.428\n",
      "          dining table       3122        444      0.548      0.448      0.442      0.313\n",
      "                toilet       3122         99      0.757      0.758      0.806      0.677\n",
      "                    tv       3122        164      0.751      0.707      0.765      0.608\n",
      "                laptop       3122        146      0.666      0.699      0.728      0.602\n",
      "                 mouse       3122         69      0.604      0.667      0.708       0.56\n",
      "                remote       3122        177      0.388       0.19      0.243       0.14\n",
      "              keyboard       3122         95      0.611      0.568      0.628      0.497\n",
      "            cell phone       3122        153      0.545       0.34      0.398      0.273\n",
      "             microwave       3122         31      0.632      0.581      0.649      0.516\n",
      "                  oven       3122         72      0.542       0.46      0.495      0.344\n",
      "               toaster       3122          6      0.736      0.333      0.568      0.441\n",
      "                  sink       3122        132      0.539       0.38      0.454      0.287\n",
      "          refrigerator       3122         88      0.673       0.58      0.641        0.5\n",
      "                  book       3122        659      0.463      0.105      0.179     0.0893\n",
      "                 clock       3122        164      0.727      0.622      0.673      0.447\n",
      "                  vase       3122        158      0.567      0.424      0.424      0.285\n",
      "              scissors       3122         24       0.79      0.375      0.362      0.276\n",
      "            teddy bear       3122        109      0.692      0.577      0.658      0.453\n",
      "            hair drier       3122          6          1          0          0          0\n",
      "            toothbrush       3122         35      0.448      0.257      0.263      0.191\n",
      "Speed: 1.3ms preprocess, 70.6ms inference, 0.0ms loss, 2.2ms postprocess per image\n",
      "Saving runs\\detect\\val\\predictions.json...\n",
      "\n",
      "Evaluating pycocotools mAP using runs\\detect\\val\\predictions.json and C:\\Users\\cwky\\datasets\\coco\\annotations\\instances_val2017.json...\n",
      "loading annotations into memory...\n",
      "Done (t=0.71s)\n",
      "creating index...\n",
      "index created!\n",
      "Loading and preparing results...\n",
      "DONE (t=4.02s)\n",
      "creating index...\n",
      "index created!\n",
      "Running per image evaluation...\n",
      "Evaluate annotation type *bbox*\n",
      "DONE (t=28.85s).\n",
      "Accumulating evaluation results...\n",
      "DONE (t=5.38s).\n",
      " Average Precision  (AP) @[ IoU=0.50:0.95 | area=   all | maxDets=100 ] = 0.380\n",
      " Average Precision  (AP) @[ IoU=0.50      | area=   all | maxDets=100 ] = 0.532\n",
      " Average Precision  (AP) @[ IoU=0.75      | area=   all | maxDets=100 ] = 0.413\n",
      " Average Precision  (AP) @[ IoU=0.50:0.95 | area= small | maxDets=100 ] = 0.194\n",
      " Average Precision  (AP) @[ IoU=0.50:0.95 | area=medium | maxDets=100 ] = 0.413\n",
      " Average Precision  (AP) @[ IoU=0.50:0.95 | area= large | maxDets=100 ] = 0.542\n",
      " Average Recall     (AR) @[ IoU=0.50:0.95 | area=   all | maxDets=  1 ] = 0.327\n",
      " Average Recall     (AR) @[ IoU=0.50:0.95 | area=   all | maxDets= 10 ] = 0.540\n",
      " Average Recall     (AR) @[ IoU=0.50:0.95 | area=   all | maxDets=100 ] = 0.594\n",
      " Average Recall     (AR) @[ IoU=0.50:0.95 | area= small | maxDets=100 ] = 0.365\n",
      " Average Recall     (AR) @[ IoU=0.50:0.95 | area=medium | maxDets=100 ] = 0.652\n",
      " Average Recall     (AR) @[ IoU=0.50:0.95 | area= large | maxDets=100 ] = 0.769\n",
      "Results saved to \u001b[1mruns\\detect\\val\u001b[0m\n",
      "Ultralytics YOLOv8.1.33 🚀 Python-3.11.1 torch-2.1.0+cpu CPU (AMD Ryzen 7 5800H with Radeon Graphics)\n"
     ]
    },
    {
     "name": "stderr",
     "output_type": "stream",
     "text": [
      "\u001b[34m\u001b[1mval: \u001b[0mScanning C:\\Users\\cwky\\datasets\\coco128\\labels\\train2017.cache... 126 images, 2 backgrounds, 0 corrupt: 100%|██████████| 128/128 [00:00<?, ?it/s]\n",
      "                 Class     Images  Instances      Box(P          R      mAP50  mAP50-95): 100%|██████████| 8/8 [00:12<00:00,  1.52s/it]\n"
     ]
    },
    {
     "name": "stdout",
     "output_type": "stream",
     "text": [
      "                   all        128        929       0.64      0.537      0.605      0.446\n",
      "                person        128        254      0.797      0.677      0.764      0.538\n",
      "               bicycle        128          6      0.514      0.333      0.315      0.264\n",
      "                   car        128         46      0.813      0.217      0.273      0.168\n",
      "            motorcycle        128          5      0.687      0.887      0.898      0.685\n",
      "              airplane        128          6       0.82      0.833      0.927      0.675\n",
      "                   bus        128          7      0.491      0.714      0.728      0.671\n",
      "                 train        128          3      0.534      0.667      0.706      0.604\n",
      "                 truck        128         12          1      0.332      0.473      0.297\n",
      "                  boat        128          6      0.226      0.167      0.316      0.134\n",
      "         traffic light        128         14      0.734        0.2      0.202      0.139\n",
      "             stop sign        128          2          1      0.992      0.995      0.701\n",
      "                 bench        128          9      0.839      0.582       0.62      0.365\n",
      "                  bird        128         16      0.921      0.728      0.864       0.51\n",
      "                   cat        128          4      0.875          1      0.995      0.791\n",
      "                   dog        128          9      0.603      0.889      0.785      0.585\n",
      "                 horse        128          2      0.597          1      0.995      0.518\n",
      "              elephant        128         17      0.849      0.765        0.9      0.679\n",
      "                  bear        128          1      0.593          1      0.995      0.995\n",
      "                 zebra        128          4      0.848          1      0.995      0.965\n",
      "               giraffe        128          9       0.72          1      0.951      0.722\n",
      "              backpack        128          6      0.589      0.333      0.376      0.232\n",
      "              umbrella        128         18      0.804        0.5      0.643      0.414\n",
      "               handbag        128         19      0.424     0.0526      0.165     0.0889\n",
      "                   tie        128          7      0.804      0.714      0.674      0.476\n",
      "              suitcase        128          4      0.635      0.883      0.745      0.534\n",
      "               frisbee        128          5      0.675        0.8      0.759      0.688\n",
      "                  skis        128          1      0.567          1      0.995      0.497\n",
      "             snowboard        128          7      0.742      0.714      0.747        0.5\n",
      "           sports ball        128          6      0.716      0.433      0.485      0.278\n",
      "                  kite        128         10      0.817       0.45      0.569      0.184\n",
      "          baseball bat        128          4      0.551       0.25      0.353      0.175\n",
      "        baseball glove        128          7      0.624      0.429      0.429      0.293\n",
      "            skateboard        128          5      0.846        0.6        0.6       0.41\n",
      "         tennis racket        128          7      0.726      0.387      0.487       0.33\n",
      "                bottle        128         18      0.448      0.389      0.376      0.208\n",
      "            wine glass        128         16      0.743      0.362      0.584      0.333\n",
      "                   cup        128         36       0.58      0.278      0.404       0.29\n",
      "                  fork        128          6      0.527      0.167      0.246      0.184\n",
      "                 knife        128         16      0.564        0.5       0.59       0.36\n",
      "                 spoon        128         22      0.597      0.182      0.328       0.19\n",
      "                  bowl        128         28      0.648      0.643      0.618      0.491\n",
      "                banana        128          1          0          0      0.124     0.0379\n",
      "              sandwich        128          2      0.249        0.5      0.308      0.308\n",
      "                orange        128          4          1       0.31      0.995      0.623\n",
      "              broccoli        128         11      0.374      0.182      0.249      0.203\n",
      "                carrot        128         24      0.648      0.458      0.572      0.362\n",
      "               hot dog        128          2      0.351      0.553      0.745      0.721\n",
      "                 pizza        128          5      0.644          1      0.995      0.843\n",
      "                 donut        128         14      0.657          1       0.94      0.864\n",
      "                  cake        128          4      0.618          1      0.945      0.845\n",
      "                 chair        128         35      0.506      0.514      0.442      0.239\n",
      "                 couch        128          6      0.463        0.5      0.706      0.555\n",
      "          potted plant        128         14       0.65      0.643      0.711      0.472\n",
      "                   bed        128          3      0.698      0.667      0.789      0.625\n",
      "          dining table        128         13      0.432      0.615      0.485      0.366\n",
      "                toilet        128          2      0.615        0.5      0.695      0.676\n",
      "                    tv        128          2      0.373       0.62      0.745      0.696\n",
      "                laptop        128          3          1          0      0.451      0.361\n",
      "                 mouse        128          2          1          0     0.0625    0.00625\n",
      "                remote        128          8      0.843        0.5      0.605      0.529\n",
      "            cell phone        128          8          0          0     0.0549     0.0393\n",
      "             microwave        128          3      0.435      0.667      0.806      0.718\n",
      "                  oven        128          5      0.412        0.4      0.339       0.27\n",
      "                  sink        128          6       0.35      0.167      0.182      0.129\n",
      "          refrigerator        128          5      0.589        0.4      0.604      0.452\n",
      "                  book        128         29      0.629      0.103      0.346      0.178\n",
      "                 clock        128          9      0.788       0.83      0.875       0.74\n",
      "                  vase        128          2      0.376          1      0.828      0.795\n",
      "              scissors        128          1          1          0      0.249     0.0746\n",
      "            teddy bear        128         21      0.877      0.333      0.591      0.394\n",
      "            toothbrush        128          5      0.743        0.6      0.638      0.374\n",
      "Speed: 1.6ms preprocess, 79.6ms inference, 0.0ms loss, 2.2ms postprocess per image\n",
      "Results saved to \u001b[1mruns\\detect\\val2\u001b[0m\n"
     ]
    },
    {
     "data": {
      "text/plain": [
       "ultralytics.utils.metrics.DetMetrics object with attributes:\n",
       "\n",
       "ap_class_index: array([ 0,  1,  2,  3,  4,  5,  6,  7,  8,  9, 11, 13, 14, 15, 16, 17, 20, 21, 22, 23, 24, 25, 26, 27, 28, 29, 30, 31, 32, 33, 34, 35, 36, 38, 39, 40, 41, 42, 43, 44, 45, 46, 48, 49, 50, 51, 52, 53, 54, 55, 56, 57, 58, 59, 60, 61, 62, 63, 64, 65, 67, 68, 69, 71, 72, 73, 74, 75, 76, 77, 79])\n",
       "box: ultralytics.utils.metrics.Metric object\n",
       "confusion_matrix: <ultralytics.utils.metrics.ConfusionMatrix object at 0x0000011624FB4E10>\n",
       "curves: ['Precision-Recall(B)', 'F1-Confidence(B)', 'Precision-Confidence(B)', 'Recall-Confidence(B)']\n",
       "curves_results: [[array([          0,    0.001001,    0.002002,    0.003003,    0.004004,    0.005005,    0.006006,    0.007007,    0.008008,    0.009009,     0.01001,    0.011011,    0.012012,    0.013013,    0.014014,    0.015015,    0.016016,    0.017017,    0.018018,    0.019019,     0.02002,    0.021021,    0.022022,    0.023023,\n",
       "          0.024024,    0.025025,    0.026026,    0.027027,    0.028028,    0.029029,     0.03003,    0.031031,    0.032032,    0.033033,    0.034034,    0.035035,    0.036036,    0.037037,    0.038038,    0.039039,     0.04004,    0.041041,    0.042042,    0.043043,    0.044044,    0.045045,    0.046046,    0.047047,\n",
       "          0.048048,    0.049049,     0.05005,    0.051051,    0.052052,    0.053053,    0.054054,    0.055055,    0.056056,    0.057057,    0.058058,    0.059059,     0.06006,    0.061061,    0.062062,    0.063063,    0.064064,    0.065065,    0.066066,    0.067067,    0.068068,    0.069069,     0.07007,    0.071071,\n",
       "          0.072072,    0.073073,    0.074074,    0.075075,    0.076076,    0.077077,    0.078078,    0.079079,     0.08008,    0.081081,    0.082082,    0.083083,    0.084084,    0.085085,    0.086086,    0.087087,    0.088088,    0.089089,     0.09009,    0.091091,    0.092092,    0.093093,    0.094094,    0.095095,\n",
       "          0.096096,    0.097097,    0.098098,    0.099099,      0.1001,      0.1011,      0.1021,      0.1031,      0.1041,     0.10511,     0.10611,     0.10711,     0.10811,     0.10911,     0.11011,     0.11111,     0.11211,     0.11311,     0.11411,     0.11512,     0.11612,     0.11712,     0.11812,     0.11912,\n",
       "           0.12012,     0.12112,     0.12212,     0.12312,     0.12412,     0.12513,     0.12613,     0.12713,     0.12813,     0.12913,     0.13013,     0.13113,     0.13213,     0.13313,     0.13413,     0.13514,     0.13614,     0.13714,     0.13814,     0.13914,     0.14014,     0.14114,     0.14214,     0.14314,\n",
       "           0.14414,     0.14515,     0.14615,     0.14715,     0.14815,     0.14915,     0.15015,     0.15115,     0.15215,     0.15315,     0.15415,     0.15516,     0.15616,     0.15716,     0.15816,     0.15916,     0.16016,     0.16116,     0.16216,     0.16316,     0.16416,     0.16517,     0.16617,     0.16717,\n",
       "           0.16817,     0.16917,     0.17017,     0.17117,     0.17217,     0.17317,     0.17417,     0.17518,     0.17618,     0.17718,     0.17818,     0.17918,     0.18018,     0.18118,     0.18218,     0.18318,     0.18418,     0.18519,     0.18619,     0.18719,     0.18819,     0.18919,     0.19019,     0.19119,\n",
       "           0.19219,     0.19319,     0.19419,      0.1952,      0.1962,      0.1972,      0.1982,      0.1992,      0.2002,      0.2012,      0.2022,      0.2032,      0.2042,     0.20521,     0.20621,     0.20721,     0.20821,     0.20921,     0.21021,     0.21121,     0.21221,     0.21321,     0.21421,     0.21522,\n",
       "           0.21622,     0.21722,     0.21822,     0.21922,     0.22022,     0.22122,     0.22222,     0.22322,     0.22422,     0.22523,     0.22623,     0.22723,     0.22823,     0.22923,     0.23023,     0.23123,     0.23223,     0.23323,     0.23423,     0.23524,     0.23624,     0.23724,     0.23824,     0.23924,\n",
       "           0.24024,     0.24124,     0.24224,     0.24324,     0.24424,     0.24525,     0.24625,     0.24725,     0.24825,     0.24925,     0.25025,     0.25125,     0.25225,     0.25325,     0.25425,     0.25526,     0.25626,     0.25726,     0.25826,     0.25926,     0.26026,     0.26126,     0.26226,     0.26326,\n",
       "           0.26426,     0.26527,     0.26627,     0.26727,     0.26827,     0.26927,     0.27027,     0.27127,     0.27227,     0.27327,     0.27427,     0.27528,     0.27628,     0.27728,     0.27828,     0.27928,     0.28028,     0.28128,     0.28228,     0.28328,     0.28428,     0.28529,     0.28629,     0.28729,\n",
       "           0.28829,     0.28929,     0.29029,     0.29129,     0.29229,     0.29329,     0.29429,      0.2953,      0.2963,      0.2973,      0.2983,      0.2993,      0.3003,      0.3013,      0.3023,      0.3033,      0.3043,     0.30531,     0.30631,     0.30731,     0.30831,     0.30931,     0.31031,     0.31131,\n",
       "           0.31231,     0.31331,     0.31431,     0.31532,     0.31632,     0.31732,     0.31832,     0.31932,     0.32032,     0.32132,     0.32232,     0.32332,     0.32432,     0.32533,     0.32633,     0.32733,     0.32833,     0.32933,     0.33033,     0.33133,     0.33233,     0.33333,     0.33433,     0.33534,\n",
       "           0.33634,     0.33734,     0.33834,     0.33934,     0.34034,     0.34134,     0.34234,     0.34334,     0.34434,     0.34535,     0.34635,     0.34735,     0.34835,     0.34935,     0.35035,     0.35135,     0.35235,     0.35335,     0.35435,     0.35536,     0.35636,     0.35736,     0.35836,     0.35936,\n",
       "           0.36036,     0.36136,     0.36236,     0.36336,     0.36436,     0.36537,     0.36637,     0.36737,     0.36837,     0.36937,     0.37037,     0.37137,     0.37237,     0.37337,     0.37437,     0.37538,     0.37638,     0.37738,     0.37838,     0.37938,     0.38038,     0.38138,     0.38238,     0.38338,\n",
       "           0.38438,     0.38539,     0.38639,     0.38739,     0.38839,     0.38939,     0.39039,     0.39139,     0.39239,     0.39339,     0.39439,      0.3954,      0.3964,      0.3974,      0.3984,      0.3994,      0.4004,      0.4014,      0.4024,      0.4034,      0.4044,     0.40541,     0.40641,     0.40741,\n",
       "           0.40841,     0.40941,     0.41041,     0.41141,     0.41241,     0.41341,     0.41441,     0.41542,     0.41642,     0.41742,     0.41842,     0.41942,     0.42042,     0.42142,     0.42242,     0.42342,     0.42442,     0.42543,     0.42643,     0.42743,     0.42843,     0.42943,     0.43043,     0.43143,\n",
       "           0.43243,     0.43343,     0.43443,     0.43544,     0.43644,     0.43744,     0.43844,     0.43944,     0.44044,     0.44144,     0.44244,     0.44344,     0.44444,     0.44545,     0.44645,     0.44745,     0.44845,     0.44945,     0.45045,     0.45145,     0.45245,     0.45345,     0.45445,     0.45546,\n",
       "           0.45646,     0.45746,     0.45846,     0.45946,     0.46046,     0.46146,     0.46246,     0.46346,     0.46446,     0.46547,     0.46647,     0.46747,     0.46847,     0.46947,     0.47047,     0.47147,     0.47247,     0.47347,     0.47447,     0.47548,     0.47648,     0.47748,     0.47848,     0.47948,\n",
       "           0.48048,     0.48148,     0.48248,     0.48348,     0.48448,     0.48549,     0.48649,     0.48749,     0.48849,     0.48949,     0.49049,     0.49149,     0.49249,     0.49349,     0.49449,      0.4955,      0.4965,      0.4975,      0.4985,      0.4995,      0.5005,      0.5015,      0.5025,      0.5035,\n",
       "            0.5045,     0.50551,     0.50651,     0.50751,     0.50851,     0.50951,     0.51051,     0.51151,     0.51251,     0.51351,     0.51451,     0.51552,     0.51652,     0.51752,     0.51852,     0.51952,     0.52052,     0.52152,     0.52252,     0.52352,     0.52452,     0.52553,     0.52653,     0.52753,\n",
       "           0.52853,     0.52953,     0.53053,     0.53153,     0.53253,     0.53353,     0.53453,     0.53554,     0.53654,     0.53754,     0.53854,     0.53954,     0.54054,     0.54154,     0.54254,     0.54354,     0.54454,     0.54555,     0.54655,     0.54755,     0.54855,     0.54955,     0.55055,     0.55155,\n",
       "           0.55255,     0.55355,     0.55455,     0.55556,     0.55656,     0.55756,     0.55856,     0.55956,     0.56056,     0.56156,     0.56256,     0.56356,     0.56456,     0.56557,     0.56657,     0.56757,     0.56857,     0.56957,     0.57057,     0.57157,     0.57257,     0.57357,     0.57457,     0.57558,\n",
       "           0.57658,     0.57758,     0.57858,     0.57958,     0.58058,     0.58158,     0.58258,     0.58358,     0.58458,     0.58559,     0.58659,     0.58759,     0.58859,     0.58959,     0.59059,     0.59159,     0.59259,     0.59359,     0.59459,      0.5956,      0.5966,      0.5976,      0.5986,      0.5996,\n",
       "            0.6006,      0.6016,      0.6026,      0.6036,      0.6046,     0.60561,     0.60661,     0.60761,     0.60861,     0.60961,     0.61061,     0.61161,     0.61261,     0.61361,     0.61461,     0.61562,     0.61662,     0.61762,     0.61862,     0.61962,     0.62062,     0.62162,     0.62262,     0.62362,\n",
       "           0.62462,     0.62563,     0.62663,     0.62763,     0.62863,     0.62963,     0.63063,     0.63163,     0.63263,     0.63363,     0.63463,     0.63564,     0.63664,     0.63764,     0.63864,     0.63964,     0.64064,     0.64164,     0.64264,     0.64364,     0.64464,     0.64565,     0.64665,     0.64765,\n",
       "           0.64865,     0.64965,     0.65065,     0.65165,     0.65265,     0.65365,     0.65465,     0.65566,     0.65666,     0.65766,     0.65866,     0.65966,     0.66066,     0.66166,     0.66266,     0.66366,     0.66466,     0.66567,     0.66667,     0.66767,     0.66867,     0.66967,     0.67067,     0.67167,\n",
       "           0.67267,     0.67367,     0.67467,     0.67568,     0.67668,     0.67768,     0.67868,     0.67968,     0.68068,     0.68168,     0.68268,     0.68368,     0.68468,     0.68569,     0.68669,     0.68769,     0.68869,     0.68969,     0.69069,     0.69169,     0.69269,     0.69369,     0.69469,      0.6957,\n",
       "            0.6967,      0.6977,      0.6987,      0.6997,      0.7007,      0.7017,      0.7027,      0.7037,      0.7047,     0.70571,     0.70671,     0.70771,     0.70871,     0.70971,     0.71071,     0.71171,     0.71271,     0.71371,     0.71471,     0.71572,     0.71672,     0.71772,     0.71872,     0.71972,\n",
       "           0.72072,     0.72172,     0.72272,     0.72372,     0.72472,     0.72573,     0.72673,     0.72773,     0.72873,     0.72973,     0.73073,     0.73173,     0.73273,     0.73373,     0.73473,     0.73574,     0.73674,     0.73774,     0.73874,     0.73974,     0.74074,     0.74174,     0.74274,     0.74374,\n",
       "           0.74474,     0.74575,     0.74675,     0.74775,     0.74875,     0.74975,     0.75075,     0.75175,     0.75275,     0.75375,     0.75475,     0.75576,     0.75676,     0.75776,     0.75876,     0.75976,     0.76076,     0.76176,     0.76276,     0.76376,     0.76476,     0.76577,     0.76677,     0.76777,\n",
       "           0.76877,     0.76977,     0.77077,     0.77177,     0.77277,     0.77377,     0.77477,     0.77578,     0.77678,     0.77778,     0.77878,     0.77978,     0.78078,     0.78178,     0.78278,     0.78378,     0.78478,     0.78579,     0.78679,     0.78779,     0.78879,     0.78979,     0.79079,     0.79179,\n",
       "           0.79279,     0.79379,     0.79479,      0.7958,      0.7968,      0.7978,      0.7988,      0.7998,      0.8008,      0.8018,      0.8028,      0.8038,      0.8048,     0.80581,     0.80681,     0.80781,     0.80881,     0.80981,     0.81081,     0.81181,     0.81281,     0.81381,     0.81481,     0.81582,\n",
       "           0.81682,     0.81782,     0.81882,     0.81982,     0.82082,     0.82182,     0.82282,     0.82382,     0.82482,     0.82583,     0.82683,     0.82783,     0.82883,     0.82983,     0.83083,     0.83183,     0.83283,     0.83383,     0.83483,     0.83584,     0.83684,     0.83784,     0.83884,     0.83984,\n",
       "           0.84084,     0.84184,     0.84284,     0.84384,     0.84484,     0.84585,     0.84685,     0.84785,     0.84885,     0.84985,     0.85085,     0.85185,     0.85285,     0.85385,     0.85485,     0.85586,     0.85686,     0.85786,     0.85886,     0.85986,     0.86086,     0.86186,     0.86286,     0.86386,\n",
       "           0.86486,     0.86587,     0.86687,     0.86787,     0.86887,     0.86987,     0.87087,     0.87187,     0.87287,     0.87387,     0.87487,     0.87588,     0.87688,     0.87788,     0.87888,     0.87988,     0.88088,     0.88188,     0.88288,     0.88388,     0.88488,     0.88589,     0.88689,     0.88789,\n",
       "           0.88889,     0.88989,     0.89089,     0.89189,     0.89289,     0.89389,     0.89489,      0.8959,      0.8969,      0.8979,      0.8989,      0.8999,      0.9009,      0.9019,      0.9029,      0.9039,      0.9049,     0.90591,     0.90691,     0.90791,     0.90891,     0.90991,     0.91091,     0.91191,\n",
       "           0.91291,     0.91391,     0.91491,     0.91592,     0.91692,     0.91792,     0.91892,     0.91992,     0.92092,     0.92192,     0.92292,     0.92392,     0.92492,     0.92593,     0.92693,     0.92793,     0.92893,     0.92993,     0.93093,     0.93193,     0.93293,     0.93393,     0.93493,     0.93594,\n",
       "           0.93694,     0.93794,     0.93894,     0.93994,     0.94094,     0.94194,     0.94294,     0.94394,     0.94494,     0.94595,     0.94695,     0.94795,     0.94895,     0.94995,     0.95095,     0.95195,     0.95295,     0.95395,     0.95495,     0.95596,     0.95696,     0.95796,     0.95896,     0.95996,\n",
       "           0.96096,     0.96196,     0.96296,     0.96396,     0.96496,     0.96597,     0.96697,     0.96797,     0.96897,     0.96997,     0.97097,     0.97197,     0.97297,     0.97397,     0.97497,     0.97598,     0.97698,     0.97798,     0.97898,     0.97998,     0.98098,     0.98198,     0.98298,     0.98398,\n",
       "           0.98498,     0.98599,     0.98699,     0.98799,     0.98899,     0.98999,     0.99099,     0.99199,     0.99299,     0.99399,     0.99499,       0.996,       0.997,       0.998,       0.999,           1]), array([[          1,           1,           1, ...,   0.0013065,  0.00065324,           0],\n",
       "       [          1,           1,           1, ...,  0.00024316,  0.00012158,           0],\n",
       "       [          1,           1,           1, ...,  0.00017818,  8.9089e-05,           0],\n",
       "       ...,\n",
       "       [       0.25,        0.25,        0.25, ...,        0.25,        0.25,           0],\n",
       "       [          1,           1,           1, ...,   0.0036558,   0.0018279,           0],\n",
       "       [          1,           1,           1, ...,      0.3125,      0.3125,           0]]), 'Recall', 'Precision'], [array([          0,    0.001001,    0.002002,    0.003003,    0.004004,    0.005005,    0.006006,    0.007007,    0.008008,    0.009009,     0.01001,    0.011011,    0.012012,    0.013013,    0.014014,    0.015015,    0.016016,    0.017017,    0.018018,    0.019019,     0.02002,    0.021021,    0.022022,    0.023023,\n",
       "          0.024024,    0.025025,    0.026026,    0.027027,    0.028028,    0.029029,     0.03003,    0.031031,    0.032032,    0.033033,    0.034034,    0.035035,    0.036036,    0.037037,    0.038038,    0.039039,     0.04004,    0.041041,    0.042042,    0.043043,    0.044044,    0.045045,    0.046046,    0.047047,\n",
       "          0.048048,    0.049049,     0.05005,    0.051051,    0.052052,    0.053053,    0.054054,    0.055055,    0.056056,    0.057057,    0.058058,    0.059059,     0.06006,    0.061061,    0.062062,    0.063063,    0.064064,    0.065065,    0.066066,    0.067067,    0.068068,    0.069069,     0.07007,    0.071071,\n",
       "          0.072072,    0.073073,    0.074074,    0.075075,    0.076076,    0.077077,    0.078078,    0.079079,     0.08008,    0.081081,    0.082082,    0.083083,    0.084084,    0.085085,    0.086086,    0.087087,    0.088088,    0.089089,     0.09009,    0.091091,    0.092092,    0.093093,    0.094094,    0.095095,\n",
       "          0.096096,    0.097097,    0.098098,    0.099099,      0.1001,      0.1011,      0.1021,      0.1031,      0.1041,     0.10511,     0.10611,     0.10711,     0.10811,     0.10911,     0.11011,     0.11111,     0.11211,     0.11311,     0.11411,     0.11512,     0.11612,     0.11712,     0.11812,     0.11912,\n",
       "           0.12012,     0.12112,     0.12212,     0.12312,     0.12412,     0.12513,     0.12613,     0.12713,     0.12813,     0.12913,     0.13013,     0.13113,     0.13213,     0.13313,     0.13413,     0.13514,     0.13614,     0.13714,     0.13814,     0.13914,     0.14014,     0.14114,     0.14214,     0.14314,\n",
       "           0.14414,     0.14515,     0.14615,     0.14715,     0.14815,     0.14915,     0.15015,     0.15115,     0.15215,     0.15315,     0.15415,     0.15516,     0.15616,     0.15716,     0.15816,     0.15916,     0.16016,     0.16116,     0.16216,     0.16316,     0.16416,     0.16517,     0.16617,     0.16717,\n",
       "           0.16817,     0.16917,     0.17017,     0.17117,     0.17217,     0.17317,     0.17417,     0.17518,     0.17618,     0.17718,     0.17818,     0.17918,     0.18018,     0.18118,     0.18218,     0.18318,     0.18418,     0.18519,     0.18619,     0.18719,     0.18819,     0.18919,     0.19019,     0.19119,\n",
       "           0.19219,     0.19319,     0.19419,      0.1952,      0.1962,      0.1972,      0.1982,      0.1992,      0.2002,      0.2012,      0.2022,      0.2032,      0.2042,     0.20521,     0.20621,     0.20721,     0.20821,     0.20921,     0.21021,     0.21121,     0.21221,     0.21321,     0.21421,     0.21522,\n",
       "           0.21622,     0.21722,     0.21822,     0.21922,     0.22022,     0.22122,     0.22222,     0.22322,     0.22422,     0.22523,     0.22623,     0.22723,     0.22823,     0.22923,     0.23023,     0.23123,     0.23223,     0.23323,     0.23423,     0.23524,     0.23624,     0.23724,     0.23824,     0.23924,\n",
       "           0.24024,     0.24124,     0.24224,     0.24324,     0.24424,     0.24525,     0.24625,     0.24725,     0.24825,     0.24925,     0.25025,     0.25125,     0.25225,     0.25325,     0.25425,     0.25526,     0.25626,     0.25726,     0.25826,     0.25926,     0.26026,     0.26126,     0.26226,     0.26326,\n",
       "           0.26426,     0.26527,     0.26627,     0.26727,     0.26827,     0.26927,     0.27027,     0.27127,     0.27227,     0.27327,     0.27427,     0.27528,     0.27628,     0.27728,     0.27828,     0.27928,     0.28028,     0.28128,     0.28228,     0.28328,     0.28428,     0.28529,     0.28629,     0.28729,\n",
       "           0.28829,     0.28929,     0.29029,     0.29129,     0.29229,     0.29329,     0.29429,      0.2953,      0.2963,      0.2973,      0.2983,      0.2993,      0.3003,      0.3013,      0.3023,      0.3033,      0.3043,     0.30531,     0.30631,     0.30731,     0.30831,     0.30931,     0.31031,     0.31131,\n",
       "           0.31231,     0.31331,     0.31431,     0.31532,     0.31632,     0.31732,     0.31832,     0.31932,     0.32032,     0.32132,     0.32232,     0.32332,     0.32432,     0.32533,     0.32633,     0.32733,     0.32833,     0.32933,     0.33033,     0.33133,     0.33233,     0.33333,     0.33433,     0.33534,\n",
       "           0.33634,     0.33734,     0.33834,     0.33934,     0.34034,     0.34134,     0.34234,     0.34334,     0.34434,     0.34535,     0.34635,     0.34735,     0.34835,     0.34935,     0.35035,     0.35135,     0.35235,     0.35335,     0.35435,     0.35536,     0.35636,     0.35736,     0.35836,     0.35936,\n",
       "           0.36036,     0.36136,     0.36236,     0.36336,     0.36436,     0.36537,     0.36637,     0.36737,     0.36837,     0.36937,     0.37037,     0.37137,     0.37237,     0.37337,     0.37437,     0.37538,     0.37638,     0.37738,     0.37838,     0.37938,     0.38038,     0.38138,     0.38238,     0.38338,\n",
       "           0.38438,     0.38539,     0.38639,     0.38739,     0.38839,     0.38939,     0.39039,     0.39139,     0.39239,     0.39339,     0.39439,      0.3954,      0.3964,      0.3974,      0.3984,      0.3994,      0.4004,      0.4014,      0.4024,      0.4034,      0.4044,     0.40541,     0.40641,     0.40741,\n",
       "           0.40841,     0.40941,     0.41041,     0.41141,     0.41241,     0.41341,     0.41441,     0.41542,     0.41642,     0.41742,     0.41842,     0.41942,     0.42042,     0.42142,     0.42242,     0.42342,     0.42442,     0.42543,     0.42643,     0.42743,     0.42843,     0.42943,     0.43043,     0.43143,\n",
       "           0.43243,     0.43343,     0.43443,     0.43544,     0.43644,     0.43744,     0.43844,     0.43944,     0.44044,     0.44144,     0.44244,     0.44344,     0.44444,     0.44545,     0.44645,     0.44745,     0.44845,     0.44945,     0.45045,     0.45145,     0.45245,     0.45345,     0.45445,     0.45546,\n",
       "           0.45646,     0.45746,     0.45846,     0.45946,     0.46046,     0.46146,     0.46246,     0.46346,     0.46446,     0.46547,     0.46647,     0.46747,     0.46847,     0.46947,     0.47047,     0.47147,     0.47247,     0.47347,     0.47447,     0.47548,     0.47648,     0.47748,     0.47848,     0.47948,\n",
       "           0.48048,     0.48148,     0.48248,     0.48348,     0.48448,     0.48549,     0.48649,     0.48749,     0.48849,     0.48949,     0.49049,     0.49149,     0.49249,     0.49349,     0.49449,      0.4955,      0.4965,      0.4975,      0.4985,      0.4995,      0.5005,      0.5015,      0.5025,      0.5035,\n",
       "            0.5045,     0.50551,     0.50651,     0.50751,     0.50851,     0.50951,     0.51051,     0.51151,     0.51251,     0.51351,     0.51451,     0.51552,     0.51652,     0.51752,     0.51852,     0.51952,     0.52052,     0.52152,     0.52252,     0.52352,     0.52452,     0.52553,     0.52653,     0.52753,\n",
       "           0.52853,     0.52953,     0.53053,     0.53153,     0.53253,     0.53353,     0.53453,     0.53554,     0.53654,     0.53754,     0.53854,     0.53954,     0.54054,     0.54154,     0.54254,     0.54354,     0.54454,     0.54555,     0.54655,     0.54755,     0.54855,     0.54955,     0.55055,     0.55155,\n",
       "           0.55255,     0.55355,     0.55455,     0.55556,     0.55656,     0.55756,     0.55856,     0.55956,     0.56056,     0.56156,     0.56256,     0.56356,     0.56456,     0.56557,     0.56657,     0.56757,     0.56857,     0.56957,     0.57057,     0.57157,     0.57257,     0.57357,     0.57457,     0.57558,\n",
       "           0.57658,     0.57758,     0.57858,     0.57958,     0.58058,     0.58158,     0.58258,     0.58358,     0.58458,     0.58559,     0.58659,     0.58759,     0.58859,     0.58959,     0.59059,     0.59159,     0.59259,     0.59359,     0.59459,      0.5956,      0.5966,      0.5976,      0.5986,      0.5996,\n",
       "            0.6006,      0.6016,      0.6026,      0.6036,      0.6046,     0.60561,     0.60661,     0.60761,     0.60861,     0.60961,     0.61061,     0.61161,     0.61261,     0.61361,     0.61461,     0.61562,     0.61662,     0.61762,     0.61862,     0.61962,     0.62062,     0.62162,     0.62262,     0.62362,\n",
       "           0.62462,     0.62563,     0.62663,     0.62763,     0.62863,     0.62963,     0.63063,     0.63163,     0.63263,     0.63363,     0.63463,     0.63564,     0.63664,     0.63764,     0.63864,     0.63964,     0.64064,     0.64164,     0.64264,     0.64364,     0.64464,     0.64565,     0.64665,     0.64765,\n",
       "           0.64865,     0.64965,     0.65065,     0.65165,     0.65265,     0.65365,     0.65465,     0.65566,     0.65666,     0.65766,     0.65866,     0.65966,     0.66066,     0.66166,     0.66266,     0.66366,     0.66466,     0.66567,     0.66667,     0.66767,     0.66867,     0.66967,     0.67067,     0.67167,\n",
       "           0.67267,     0.67367,     0.67467,     0.67568,     0.67668,     0.67768,     0.67868,     0.67968,     0.68068,     0.68168,     0.68268,     0.68368,     0.68468,     0.68569,     0.68669,     0.68769,     0.68869,     0.68969,     0.69069,     0.69169,     0.69269,     0.69369,     0.69469,      0.6957,\n",
       "            0.6967,      0.6977,      0.6987,      0.6997,      0.7007,      0.7017,      0.7027,      0.7037,      0.7047,     0.70571,     0.70671,     0.70771,     0.70871,     0.70971,     0.71071,     0.71171,     0.71271,     0.71371,     0.71471,     0.71572,     0.71672,     0.71772,     0.71872,     0.71972,\n",
       "           0.72072,     0.72172,     0.72272,     0.72372,     0.72472,     0.72573,     0.72673,     0.72773,     0.72873,     0.72973,     0.73073,     0.73173,     0.73273,     0.73373,     0.73473,     0.73574,     0.73674,     0.73774,     0.73874,     0.73974,     0.74074,     0.74174,     0.74274,     0.74374,\n",
       "           0.74474,     0.74575,     0.74675,     0.74775,     0.74875,     0.74975,     0.75075,     0.75175,     0.75275,     0.75375,     0.75475,     0.75576,     0.75676,     0.75776,     0.75876,     0.75976,     0.76076,     0.76176,     0.76276,     0.76376,     0.76476,     0.76577,     0.76677,     0.76777,\n",
       "           0.76877,     0.76977,     0.77077,     0.77177,     0.77277,     0.77377,     0.77477,     0.77578,     0.77678,     0.77778,     0.77878,     0.77978,     0.78078,     0.78178,     0.78278,     0.78378,     0.78478,     0.78579,     0.78679,     0.78779,     0.78879,     0.78979,     0.79079,     0.79179,\n",
       "           0.79279,     0.79379,     0.79479,      0.7958,      0.7968,      0.7978,      0.7988,      0.7998,      0.8008,      0.8018,      0.8028,      0.8038,      0.8048,     0.80581,     0.80681,     0.80781,     0.80881,     0.80981,     0.81081,     0.81181,     0.81281,     0.81381,     0.81481,     0.81582,\n",
       "           0.81682,     0.81782,     0.81882,     0.81982,     0.82082,     0.82182,     0.82282,     0.82382,     0.82482,     0.82583,     0.82683,     0.82783,     0.82883,     0.82983,     0.83083,     0.83183,     0.83283,     0.83383,     0.83483,     0.83584,     0.83684,     0.83784,     0.83884,     0.83984,\n",
       "           0.84084,     0.84184,     0.84284,     0.84384,     0.84484,     0.84585,     0.84685,     0.84785,     0.84885,     0.84985,     0.85085,     0.85185,     0.85285,     0.85385,     0.85485,     0.85586,     0.85686,     0.85786,     0.85886,     0.85986,     0.86086,     0.86186,     0.86286,     0.86386,\n",
       "           0.86486,     0.86587,     0.86687,     0.86787,     0.86887,     0.86987,     0.87087,     0.87187,     0.87287,     0.87387,     0.87487,     0.87588,     0.87688,     0.87788,     0.87888,     0.87988,     0.88088,     0.88188,     0.88288,     0.88388,     0.88488,     0.88589,     0.88689,     0.88789,\n",
       "           0.88889,     0.88989,     0.89089,     0.89189,     0.89289,     0.89389,     0.89489,      0.8959,      0.8969,      0.8979,      0.8989,      0.8999,      0.9009,      0.9019,      0.9029,      0.9039,      0.9049,     0.90591,     0.90691,     0.90791,     0.90891,     0.90991,     0.91091,     0.91191,\n",
       "           0.91291,     0.91391,     0.91491,     0.91592,     0.91692,     0.91792,     0.91892,     0.91992,     0.92092,     0.92192,     0.92292,     0.92392,     0.92492,     0.92593,     0.92693,     0.92793,     0.92893,     0.92993,     0.93093,     0.93193,     0.93293,     0.93393,     0.93493,     0.93594,\n",
       "           0.93694,     0.93794,     0.93894,     0.93994,     0.94094,     0.94194,     0.94294,     0.94394,     0.94494,     0.94595,     0.94695,     0.94795,     0.94895,     0.94995,     0.95095,     0.95195,     0.95295,     0.95395,     0.95495,     0.95596,     0.95696,     0.95796,     0.95896,     0.95996,\n",
       "           0.96096,     0.96196,     0.96296,     0.96396,     0.96496,     0.96597,     0.96697,     0.96797,     0.96897,     0.96997,     0.97097,     0.97197,     0.97297,     0.97397,     0.97497,     0.97598,     0.97698,     0.97798,     0.97898,     0.97998,     0.98098,     0.98198,     0.98298,     0.98398,\n",
       "           0.98498,     0.98599,     0.98699,     0.98799,     0.98899,     0.98999,     0.99099,     0.99199,     0.99299,     0.99399,     0.99499,       0.996,       0.997,       0.998,       0.999,           1]), array([[    0.11546,     0.11547,     0.14281, ...,           0,           0,           0],\n",
       "       [   0.039526,    0.039526,     0.05163, ...,           0,           0,           0],\n",
       "       [   0.065882,    0.065882,    0.083542, ...,           0,           0,           0],\n",
       "       ...,\n",
       "       [   0.032787,    0.032787,    0.053927, ...,           0,           0,           0],\n",
       "       [    0.15936,     0.15936,     0.19369, ...,           0,           0,           0],\n",
       "       [   0.069444,    0.069444,     0.11373, ...,           0,           0,           0]]), 'Confidence', 'F1'], [array([          0,    0.001001,    0.002002,    0.003003,    0.004004,    0.005005,    0.006006,    0.007007,    0.008008,    0.009009,     0.01001,    0.011011,    0.012012,    0.013013,    0.014014,    0.015015,    0.016016,    0.017017,    0.018018,    0.019019,     0.02002,    0.021021,    0.022022,    0.023023,\n",
       "          0.024024,    0.025025,    0.026026,    0.027027,    0.028028,    0.029029,     0.03003,    0.031031,    0.032032,    0.033033,    0.034034,    0.035035,    0.036036,    0.037037,    0.038038,    0.039039,     0.04004,    0.041041,    0.042042,    0.043043,    0.044044,    0.045045,    0.046046,    0.047047,\n",
       "          0.048048,    0.049049,     0.05005,    0.051051,    0.052052,    0.053053,    0.054054,    0.055055,    0.056056,    0.057057,    0.058058,    0.059059,     0.06006,    0.061061,    0.062062,    0.063063,    0.064064,    0.065065,    0.066066,    0.067067,    0.068068,    0.069069,     0.07007,    0.071071,\n",
       "          0.072072,    0.073073,    0.074074,    0.075075,    0.076076,    0.077077,    0.078078,    0.079079,     0.08008,    0.081081,    0.082082,    0.083083,    0.084084,    0.085085,    0.086086,    0.087087,    0.088088,    0.089089,     0.09009,    0.091091,    0.092092,    0.093093,    0.094094,    0.095095,\n",
       "          0.096096,    0.097097,    0.098098,    0.099099,      0.1001,      0.1011,      0.1021,      0.1031,      0.1041,     0.10511,     0.10611,     0.10711,     0.10811,     0.10911,     0.11011,     0.11111,     0.11211,     0.11311,     0.11411,     0.11512,     0.11612,     0.11712,     0.11812,     0.11912,\n",
       "           0.12012,     0.12112,     0.12212,     0.12312,     0.12412,     0.12513,     0.12613,     0.12713,     0.12813,     0.12913,     0.13013,     0.13113,     0.13213,     0.13313,     0.13413,     0.13514,     0.13614,     0.13714,     0.13814,     0.13914,     0.14014,     0.14114,     0.14214,     0.14314,\n",
       "           0.14414,     0.14515,     0.14615,     0.14715,     0.14815,     0.14915,     0.15015,     0.15115,     0.15215,     0.15315,     0.15415,     0.15516,     0.15616,     0.15716,     0.15816,     0.15916,     0.16016,     0.16116,     0.16216,     0.16316,     0.16416,     0.16517,     0.16617,     0.16717,\n",
       "           0.16817,     0.16917,     0.17017,     0.17117,     0.17217,     0.17317,     0.17417,     0.17518,     0.17618,     0.17718,     0.17818,     0.17918,     0.18018,     0.18118,     0.18218,     0.18318,     0.18418,     0.18519,     0.18619,     0.18719,     0.18819,     0.18919,     0.19019,     0.19119,\n",
       "           0.19219,     0.19319,     0.19419,      0.1952,      0.1962,      0.1972,      0.1982,      0.1992,      0.2002,      0.2012,      0.2022,      0.2032,      0.2042,     0.20521,     0.20621,     0.20721,     0.20821,     0.20921,     0.21021,     0.21121,     0.21221,     0.21321,     0.21421,     0.21522,\n",
       "           0.21622,     0.21722,     0.21822,     0.21922,     0.22022,     0.22122,     0.22222,     0.22322,     0.22422,     0.22523,     0.22623,     0.22723,     0.22823,     0.22923,     0.23023,     0.23123,     0.23223,     0.23323,     0.23423,     0.23524,     0.23624,     0.23724,     0.23824,     0.23924,\n",
       "           0.24024,     0.24124,     0.24224,     0.24324,     0.24424,     0.24525,     0.24625,     0.24725,     0.24825,     0.24925,     0.25025,     0.25125,     0.25225,     0.25325,     0.25425,     0.25526,     0.25626,     0.25726,     0.25826,     0.25926,     0.26026,     0.26126,     0.26226,     0.26326,\n",
       "           0.26426,     0.26527,     0.26627,     0.26727,     0.26827,     0.26927,     0.27027,     0.27127,     0.27227,     0.27327,     0.27427,     0.27528,     0.27628,     0.27728,     0.27828,     0.27928,     0.28028,     0.28128,     0.28228,     0.28328,     0.28428,     0.28529,     0.28629,     0.28729,\n",
       "           0.28829,     0.28929,     0.29029,     0.29129,     0.29229,     0.29329,     0.29429,      0.2953,      0.2963,      0.2973,      0.2983,      0.2993,      0.3003,      0.3013,      0.3023,      0.3033,      0.3043,     0.30531,     0.30631,     0.30731,     0.30831,     0.30931,     0.31031,     0.31131,\n",
       "           0.31231,     0.31331,     0.31431,     0.31532,     0.31632,     0.31732,     0.31832,     0.31932,     0.32032,     0.32132,     0.32232,     0.32332,     0.32432,     0.32533,     0.32633,     0.32733,     0.32833,     0.32933,     0.33033,     0.33133,     0.33233,     0.33333,     0.33433,     0.33534,\n",
       "           0.33634,     0.33734,     0.33834,     0.33934,     0.34034,     0.34134,     0.34234,     0.34334,     0.34434,     0.34535,     0.34635,     0.34735,     0.34835,     0.34935,     0.35035,     0.35135,     0.35235,     0.35335,     0.35435,     0.35536,     0.35636,     0.35736,     0.35836,     0.35936,\n",
       "           0.36036,     0.36136,     0.36236,     0.36336,     0.36436,     0.36537,     0.36637,     0.36737,     0.36837,     0.36937,     0.37037,     0.37137,     0.37237,     0.37337,     0.37437,     0.37538,     0.37638,     0.37738,     0.37838,     0.37938,     0.38038,     0.38138,     0.38238,     0.38338,\n",
       "           0.38438,     0.38539,     0.38639,     0.38739,     0.38839,     0.38939,     0.39039,     0.39139,     0.39239,     0.39339,     0.39439,      0.3954,      0.3964,      0.3974,      0.3984,      0.3994,      0.4004,      0.4014,      0.4024,      0.4034,      0.4044,     0.40541,     0.40641,     0.40741,\n",
       "           0.40841,     0.40941,     0.41041,     0.41141,     0.41241,     0.41341,     0.41441,     0.41542,     0.41642,     0.41742,     0.41842,     0.41942,     0.42042,     0.42142,     0.42242,     0.42342,     0.42442,     0.42543,     0.42643,     0.42743,     0.42843,     0.42943,     0.43043,     0.43143,\n",
       "           0.43243,     0.43343,     0.43443,     0.43544,     0.43644,     0.43744,     0.43844,     0.43944,     0.44044,     0.44144,     0.44244,     0.44344,     0.44444,     0.44545,     0.44645,     0.44745,     0.44845,     0.44945,     0.45045,     0.45145,     0.45245,     0.45345,     0.45445,     0.45546,\n",
       "           0.45646,     0.45746,     0.45846,     0.45946,     0.46046,     0.46146,     0.46246,     0.46346,     0.46446,     0.46547,     0.46647,     0.46747,     0.46847,     0.46947,     0.47047,     0.47147,     0.47247,     0.47347,     0.47447,     0.47548,     0.47648,     0.47748,     0.47848,     0.47948,\n",
       "           0.48048,     0.48148,     0.48248,     0.48348,     0.48448,     0.48549,     0.48649,     0.48749,     0.48849,     0.48949,     0.49049,     0.49149,     0.49249,     0.49349,     0.49449,      0.4955,      0.4965,      0.4975,      0.4985,      0.4995,      0.5005,      0.5015,      0.5025,      0.5035,\n",
       "            0.5045,     0.50551,     0.50651,     0.50751,     0.50851,     0.50951,     0.51051,     0.51151,     0.51251,     0.51351,     0.51451,     0.51552,     0.51652,     0.51752,     0.51852,     0.51952,     0.52052,     0.52152,     0.52252,     0.52352,     0.52452,     0.52553,     0.52653,     0.52753,\n",
       "           0.52853,     0.52953,     0.53053,     0.53153,     0.53253,     0.53353,     0.53453,     0.53554,     0.53654,     0.53754,     0.53854,     0.53954,     0.54054,     0.54154,     0.54254,     0.54354,     0.54454,     0.54555,     0.54655,     0.54755,     0.54855,     0.54955,     0.55055,     0.55155,\n",
       "           0.55255,     0.55355,     0.55455,     0.55556,     0.55656,     0.55756,     0.55856,     0.55956,     0.56056,     0.56156,     0.56256,     0.56356,     0.56456,     0.56557,     0.56657,     0.56757,     0.56857,     0.56957,     0.57057,     0.57157,     0.57257,     0.57357,     0.57457,     0.57558,\n",
       "           0.57658,     0.57758,     0.57858,     0.57958,     0.58058,     0.58158,     0.58258,     0.58358,     0.58458,     0.58559,     0.58659,     0.58759,     0.58859,     0.58959,     0.59059,     0.59159,     0.59259,     0.59359,     0.59459,      0.5956,      0.5966,      0.5976,      0.5986,      0.5996,\n",
       "            0.6006,      0.6016,      0.6026,      0.6036,      0.6046,     0.60561,     0.60661,     0.60761,     0.60861,     0.60961,     0.61061,     0.61161,     0.61261,     0.61361,     0.61461,     0.61562,     0.61662,     0.61762,     0.61862,     0.61962,     0.62062,     0.62162,     0.62262,     0.62362,\n",
       "           0.62462,     0.62563,     0.62663,     0.62763,     0.62863,     0.62963,     0.63063,     0.63163,     0.63263,     0.63363,     0.63463,     0.63564,     0.63664,     0.63764,     0.63864,     0.63964,     0.64064,     0.64164,     0.64264,     0.64364,     0.64464,     0.64565,     0.64665,     0.64765,\n",
       "           0.64865,     0.64965,     0.65065,     0.65165,     0.65265,     0.65365,     0.65465,     0.65566,     0.65666,     0.65766,     0.65866,     0.65966,     0.66066,     0.66166,     0.66266,     0.66366,     0.66466,     0.66567,     0.66667,     0.66767,     0.66867,     0.66967,     0.67067,     0.67167,\n",
       "           0.67267,     0.67367,     0.67467,     0.67568,     0.67668,     0.67768,     0.67868,     0.67968,     0.68068,     0.68168,     0.68268,     0.68368,     0.68468,     0.68569,     0.68669,     0.68769,     0.68869,     0.68969,     0.69069,     0.69169,     0.69269,     0.69369,     0.69469,      0.6957,\n",
       "            0.6967,      0.6977,      0.6987,      0.6997,      0.7007,      0.7017,      0.7027,      0.7037,      0.7047,     0.70571,     0.70671,     0.70771,     0.70871,     0.70971,     0.71071,     0.71171,     0.71271,     0.71371,     0.71471,     0.71572,     0.71672,     0.71772,     0.71872,     0.71972,\n",
       "           0.72072,     0.72172,     0.72272,     0.72372,     0.72472,     0.72573,     0.72673,     0.72773,     0.72873,     0.72973,     0.73073,     0.73173,     0.73273,     0.73373,     0.73473,     0.73574,     0.73674,     0.73774,     0.73874,     0.73974,     0.74074,     0.74174,     0.74274,     0.74374,\n",
       "           0.74474,     0.74575,     0.74675,     0.74775,     0.74875,     0.74975,     0.75075,     0.75175,     0.75275,     0.75375,     0.75475,     0.75576,     0.75676,     0.75776,     0.75876,     0.75976,     0.76076,     0.76176,     0.76276,     0.76376,     0.76476,     0.76577,     0.76677,     0.76777,\n",
       "           0.76877,     0.76977,     0.77077,     0.77177,     0.77277,     0.77377,     0.77477,     0.77578,     0.77678,     0.77778,     0.77878,     0.77978,     0.78078,     0.78178,     0.78278,     0.78378,     0.78478,     0.78579,     0.78679,     0.78779,     0.78879,     0.78979,     0.79079,     0.79179,\n",
       "           0.79279,     0.79379,     0.79479,      0.7958,      0.7968,      0.7978,      0.7988,      0.7998,      0.8008,      0.8018,      0.8028,      0.8038,      0.8048,     0.80581,     0.80681,     0.80781,     0.80881,     0.80981,     0.81081,     0.81181,     0.81281,     0.81381,     0.81481,     0.81582,\n",
       "           0.81682,     0.81782,     0.81882,     0.81982,     0.82082,     0.82182,     0.82282,     0.82382,     0.82482,     0.82583,     0.82683,     0.82783,     0.82883,     0.82983,     0.83083,     0.83183,     0.83283,     0.83383,     0.83483,     0.83584,     0.83684,     0.83784,     0.83884,     0.83984,\n",
       "           0.84084,     0.84184,     0.84284,     0.84384,     0.84484,     0.84585,     0.84685,     0.84785,     0.84885,     0.84985,     0.85085,     0.85185,     0.85285,     0.85385,     0.85485,     0.85586,     0.85686,     0.85786,     0.85886,     0.85986,     0.86086,     0.86186,     0.86286,     0.86386,\n",
       "           0.86486,     0.86587,     0.86687,     0.86787,     0.86887,     0.86987,     0.87087,     0.87187,     0.87287,     0.87387,     0.87487,     0.87588,     0.87688,     0.87788,     0.87888,     0.87988,     0.88088,     0.88188,     0.88288,     0.88388,     0.88488,     0.88589,     0.88689,     0.88789,\n",
       "           0.88889,     0.88989,     0.89089,     0.89189,     0.89289,     0.89389,     0.89489,      0.8959,      0.8969,      0.8979,      0.8989,      0.8999,      0.9009,      0.9019,      0.9029,      0.9039,      0.9049,     0.90591,     0.90691,     0.90791,     0.90891,     0.90991,     0.91091,     0.91191,\n",
       "           0.91291,     0.91391,     0.91491,     0.91592,     0.91692,     0.91792,     0.91892,     0.91992,     0.92092,     0.92192,     0.92292,     0.92392,     0.92492,     0.92593,     0.92693,     0.92793,     0.92893,     0.92993,     0.93093,     0.93193,     0.93293,     0.93393,     0.93493,     0.93594,\n",
       "           0.93694,     0.93794,     0.93894,     0.93994,     0.94094,     0.94194,     0.94294,     0.94394,     0.94494,     0.94595,     0.94695,     0.94795,     0.94895,     0.94995,     0.95095,     0.95195,     0.95295,     0.95395,     0.95495,     0.95596,     0.95696,     0.95796,     0.95896,     0.95996,\n",
       "           0.96096,     0.96196,     0.96296,     0.96396,     0.96496,     0.96597,     0.96697,     0.96797,     0.96897,     0.96997,     0.97097,     0.97197,     0.97297,     0.97397,     0.97497,     0.97598,     0.97698,     0.97798,     0.97898,     0.97998,     0.98098,     0.98198,     0.98298,     0.98398,\n",
       "           0.98498,     0.98599,     0.98699,     0.98799,     0.98899,     0.98999,     0.99099,     0.99199,     0.99299,     0.99399,     0.99499,       0.996,       0.997,       0.998,       0.999,           1]), array([[   0.061662,    0.061668,     0.07752, ...,           1,           1,           1],\n",
       "       [   0.020243,    0.020243,    0.026855, ...,           1,           1,           1],\n",
       "       [   0.034826,    0.034826,    0.045407, ...,           1,           1,           1],\n",
       "       ...,\n",
       "       [   0.016667,    0.016667,    0.027711, ...,           1,           1,           1],\n",
       "       [   0.086957,    0.086957,     0.10781, ...,           1,           1,           1],\n",
       "       [   0.035971,    0.035971,    0.060296, ...,           1,           1,           1]]), 'Confidence', 'Precision'], [array([          0,    0.001001,    0.002002,    0.003003,    0.004004,    0.005005,    0.006006,    0.007007,    0.008008,    0.009009,     0.01001,    0.011011,    0.012012,    0.013013,    0.014014,    0.015015,    0.016016,    0.017017,    0.018018,    0.019019,     0.02002,    0.021021,    0.022022,    0.023023,\n",
       "          0.024024,    0.025025,    0.026026,    0.027027,    0.028028,    0.029029,     0.03003,    0.031031,    0.032032,    0.033033,    0.034034,    0.035035,    0.036036,    0.037037,    0.038038,    0.039039,     0.04004,    0.041041,    0.042042,    0.043043,    0.044044,    0.045045,    0.046046,    0.047047,\n",
       "          0.048048,    0.049049,     0.05005,    0.051051,    0.052052,    0.053053,    0.054054,    0.055055,    0.056056,    0.057057,    0.058058,    0.059059,     0.06006,    0.061061,    0.062062,    0.063063,    0.064064,    0.065065,    0.066066,    0.067067,    0.068068,    0.069069,     0.07007,    0.071071,\n",
       "          0.072072,    0.073073,    0.074074,    0.075075,    0.076076,    0.077077,    0.078078,    0.079079,     0.08008,    0.081081,    0.082082,    0.083083,    0.084084,    0.085085,    0.086086,    0.087087,    0.088088,    0.089089,     0.09009,    0.091091,    0.092092,    0.093093,    0.094094,    0.095095,\n",
       "          0.096096,    0.097097,    0.098098,    0.099099,      0.1001,      0.1011,      0.1021,      0.1031,      0.1041,     0.10511,     0.10611,     0.10711,     0.10811,     0.10911,     0.11011,     0.11111,     0.11211,     0.11311,     0.11411,     0.11512,     0.11612,     0.11712,     0.11812,     0.11912,\n",
       "           0.12012,     0.12112,     0.12212,     0.12312,     0.12412,     0.12513,     0.12613,     0.12713,     0.12813,     0.12913,     0.13013,     0.13113,     0.13213,     0.13313,     0.13413,     0.13514,     0.13614,     0.13714,     0.13814,     0.13914,     0.14014,     0.14114,     0.14214,     0.14314,\n",
       "           0.14414,     0.14515,     0.14615,     0.14715,     0.14815,     0.14915,     0.15015,     0.15115,     0.15215,     0.15315,     0.15415,     0.15516,     0.15616,     0.15716,     0.15816,     0.15916,     0.16016,     0.16116,     0.16216,     0.16316,     0.16416,     0.16517,     0.16617,     0.16717,\n",
       "           0.16817,     0.16917,     0.17017,     0.17117,     0.17217,     0.17317,     0.17417,     0.17518,     0.17618,     0.17718,     0.17818,     0.17918,     0.18018,     0.18118,     0.18218,     0.18318,     0.18418,     0.18519,     0.18619,     0.18719,     0.18819,     0.18919,     0.19019,     0.19119,\n",
       "           0.19219,     0.19319,     0.19419,      0.1952,      0.1962,      0.1972,      0.1982,      0.1992,      0.2002,      0.2012,      0.2022,      0.2032,      0.2042,     0.20521,     0.20621,     0.20721,     0.20821,     0.20921,     0.21021,     0.21121,     0.21221,     0.21321,     0.21421,     0.21522,\n",
       "           0.21622,     0.21722,     0.21822,     0.21922,     0.22022,     0.22122,     0.22222,     0.22322,     0.22422,     0.22523,     0.22623,     0.22723,     0.22823,     0.22923,     0.23023,     0.23123,     0.23223,     0.23323,     0.23423,     0.23524,     0.23624,     0.23724,     0.23824,     0.23924,\n",
       "           0.24024,     0.24124,     0.24224,     0.24324,     0.24424,     0.24525,     0.24625,     0.24725,     0.24825,     0.24925,     0.25025,     0.25125,     0.25225,     0.25325,     0.25425,     0.25526,     0.25626,     0.25726,     0.25826,     0.25926,     0.26026,     0.26126,     0.26226,     0.26326,\n",
       "           0.26426,     0.26527,     0.26627,     0.26727,     0.26827,     0.26927,     0.27027,     0.27127,     0.27227,     0.27327,     0.27427,     0.27528,     0.27628,     0.27728,     0.27828,     0.27928,     0.28028,     0.28128,     0.28228,     0.28328,     0.28428,     0.28529,     0.28629,     0.28729,\n",
       "           0.28829,     0.28929,     0.29029,     0.29129,     0.29229,     0.29329,     0.29429,      0.2953,      0.2963,      0.2973,      0.2983,      0.2993,      0.3003,      0.3013,      0.3023,      0.3033,      0.3043,     0.30531,     0.30631,     0.30731,     0.30831,     0.30931,     0.31031,     0.31131,\n",
       "           0.31231,     0.31331,     0.31431,     0.31532,     0.31632,     0.31732,     0.31832,     0.31932,     0.32032,     0.32132,     0.32232,     0.32332,     0.32432,     0.32533,     0.32633,     0.32733,     0.32833,     0.32933,     0.33033,     0.33133,     0.33233,     0.33333,     0.33433,     0.33534,\n",
       "           0.33634,     0.33734,     0.33834,     0.33934,     0.34034,     0.34134,     0.34234,     0.34334,     0.34434,     0.34535,     0.34635,     0.34735,     0.34835,     0.34935,     0.35035,     0.35135,     0.35235,     0.35335,     0.35435,     0.35536,     0.35636,     0.35736,     0.35836,     0.35936,\n",
       "           0.36036,     0.36136,     0.36236,     0.36336,     0.36436,     0.36537,     0.36637,     0.36737,     0.36837,     0.36937,     0.37037,     0.37137,     0.37237,     0.37337,     0.37437,     0.37538,     0.37638,     0.37738,     0.37838,     0.37938,     0.38038,     0.38138,     0.38238,     0.38338,\n",
       "           0.38438,     0.38539,     0.38639,     0.38739,     0.38839,     0.38939,     0.39039,     0.39139,     0.39239,     0.39339,     0.39439,      0.3954,      0.3964,      0.3974,      0.3984,      0.3994,      0.4004,      0.4014,      0.4024,      0.4034,      0.4044,     0.40541,     0.40641,     0.40741,\n",
       "           0.40841,     0.40941,     0.41041,     0.41141,     0.41241,     0.41341,     0.41441,     0.41542,     0.41642,     0.41742,     0.41842,     0.41942,     0.42042,     0.42142,     0.42242,     0.42342,     0.42442,     0.42543,     0.42643,     0.42743,     0.42843,     0.42943,     0.43043,     0.43143,\n",
       "           0.43243,     0.43343,     0.43443,     0.43544,     0.43644,     0.43744,     0.43844,     0.43944,     0.44044,     0.44144,     0.44244,     0.44344,     0.44444,     0.44545,     0.44645,     0.44745,     0.44845,     0.44945,     0.45045,     0.45145,     0.45245,     0.45345,     0.45445,     0.45546,\n",
       "           0.45646,     0.45746,     0.45846,     0.45946,     0.46046,     0.46146,     0.46246,     0.46346,     0.46446,     0.46547,     0.46647,     0.46747,     0.46847,     0.46947,     0.47047,     0.47147,     0.47247,     0.47347,     0.47447,     0.47548,     0.47648,     0.47748,     0.47848,     0.47948,\n",
       "           0.48048,     0.48148,     0.48248,     0.48348,     0.48448,     0.48549,     0.48649,     0.48749,     0.48849,     0.48949,     0.49049,     0.49149,     0.49249,     0.49349,     0.49449,      0.4955,      0.4965,      0.4975,      0.4985,      0.4995,      0.5005,      0.5015,      0.5025,      0.5035,\n",
       "            0.5045,     0.50551,     0.50651,     0.50751,     0.50851,     0.50951,     0.51051,     0.51151,     0.51251,     0.51351,     0.51451,     0.51552,     0.51652,     0.51752,     0.51852,     0.51952,     0.52052,     0.52152,     0.52252,     0.52352,     0.52452,     0.52553,     0.52653,     0.52753,\n",
       "           0.52853,     0.52953,     0.53053,     0.53153,     0.53253,     0.53353,     0.53453,     0.53554,     0.53654,     0.53754,     0.53854,     0.53954,     0.54054,     0.54154,     0.54254,     0.54354,     0.54454,     0.54555,     0.54655,     0.54755,     0.54855,     0.54955,     0.55055,     0.55155,\n",
       "           0.55255,     0.55355,     0.55455,     0.55556,     0.55656,     0.55756,     0.55856,     0.55956,     0.56056,     0.56156,     0.56256,     0.56356,     0.56456,     0.56557,     0.56657,     0.56757,     0.56857,     0.56957,     0.57057,     0.57157,     0.57257,     0.57357,     0.57457,     0.57558,\n",
       "           0.57658,     0.57758,     0.57858,     0.57958,     0.58058,     0.58158,     0.58258,     0.58358,     0.58458,     0.58559,     0.58659,     0.58759,     0.58859,     0.58959,     0.59059,     0.59159,     0.59259,     0.59359,     0.59459,      0.5956,      0.5966,      0.5976,      0.5986,      0.5996,\n",
       "            0.6006,      0.6016,      0.6026,      0.6036,      0.6046,     0.60561,     0.60661,     0.60761,     0.60861,     0.60961,     0.61061,     0.61161,     0.61261,     0.61361,     0.61461,     0.61562,     0.61662,     0.61762,     0.61862,     0.61962,     0.62062,     0.62162,     0.62262,     0.62362,\n",
       "           0.62462,     0.62563,     0.62663,     0.62763,     0.62863,     0.62963,     0.63063,     0.63163,     0.63263,     0.63363,     0.63463,     0.63564,     0.63664,     0.63764,     0.63864,     0.63964,     0.64064,     0.64164,     0.64264,     0.64364,     0.64464,     0.64565,     0.64665,     0.64765,\n",
       "           0.64865,     0.64965,     0.65065,     0.65165,     0.65265,     0.65365,     0.65465,     0.65566,     0.65666,     0.65766,     0.65866,     0.65966,     0.66066,     0.66166,     0.66266,     0.66366,     0.66466,     0.66567,     0.66667,     0.66767,     0.66867,     0.66967,     0.67067,     0.67167,\n",
       "           0.67267,     0.67367,     0.67467,     0.67568,     0.67668,     0.67768,     0.67868,     0.67968,     0.68068,     0.68168,     0.68268,     0.68368,     0.68468,     0.68569,     0.68669,     0.68769,     0.68869,     0.68969,     0.69069,     0.69169,     0.69269,     0.69369,     0.69469,      0.6957,\n",
       "            0.6967,      0.6977,      0.6987,      0.6997,      0.7007,      0.7017,      0.7027,      0.7037,      0.7047,     0.70571,     0.70671,     0.70771,     0.70871,     0.70971,     0.71071,     0.71171,     0.71271,     0.71371,     0.71471,     0.71572,     0.71672,     0.71772,     0.71872,     0.71972,\n",
       "           0.72072,     0.72172,     0.72272,     0.72372,     0.72472,     0.72573,     0.72673,     0.72773,     0.72873,     0.72973,     0.73073,     0.73173,     0.73273,     0.73373,     0.73473,     0.73574,     0.73674,     0.73774,     0.73874,     0.73974,     0.74074,     0.74174,     0.74274,     0.74374,\n",
       "           0.74474,     0.74575,     0.74675,     0.74775,     0.74875,     0.74975,     0.75075,     0.75175,     0.75275,     0.75375,     0.75475,     0.75576,     0.75676,     0.75776,     0.75876,     0.75976,     0.76076,     0.76176,     0.76276,     0.76376,     0.76476,     0.76577,     0.76677,     0.76777,\n",
       "           0.76877,     0.76977,     0.77077,     0.77177,     0.77277,     0.77377,     0.77477,     0.77578,     0.77678,     0.77778,     0.77878,     0.77978,     0.78078,     0.78178,     0.78278,     0.78378,     0.78478,     0.78579,     0.78679,     0.78779,     0.78879,     0.78979,     0.79079,     0.79179,\n",
       "           0.79279,     0.79379,     0.79479,      0.7958,      0.7968,      0.7978,      0.7988,      0.7998,      0.8008,      0.8018,      0.8028,      0.8038,      0.8048,     0.80581,     0.80681,     0.80781,     0.80881,     0.80981,     0.81081,     0.81181,     0.81281,     0.81381,     0.81481,     0.81582,\n",
       "           0.81682,     0.81782,     0.81882,     0.81982,     0.82082,     0.82182,     0.82282,     0.82382,     0.82482,     0.82583,     0.82683,     0.82783,     0.82883,     0.82983,     0.83083,     0.83183,     0.83283,     0.83383,     0.83483,     0.83584,     0.83684,     0.83784,     0.83884,     0.83984,\n",
       "           0.84084,     0.84184,     0.84284,     0.84384,     0.84484,     0.84585,     0.84685,     0.84785,     0.84885,     0.84985,     0.85085,     0.85185,     0.85285,     0.85385,     0.85485,     0.85586,     0.85686,     0.85786,     0.85886,     0.85986,     0.86086,     0.86186,     0.86286,     0.86386,\n",
       "           0.86486,     0.86587,     0.86687,     0.86787,     0.86887,     0.86987,     0.87087,     0.87187,     0.87287,     0.87387,     0.87487,     0.87588,     0.87688,     0.87788,     0.87888,     0.87988,     0.88088,     0.88188,     0.88288,     0.88388,     0.88488,     0.88589,     0.88689,     0.88789,\n",
       "           0.88889,     0.88989,     0.89089,     0.89189,     0.89289,     0.89389,     0.89489,      0.8959,      0.8969,      0.8979,      0.8989,      0.8999,      0.9009,      0.9019,      0.9029,      0.9039,      0.9049,     0.90591,     0.90691,     0.90791,     0.90891,     0.90991,     0.91091,     0.91191,\n",
       "           0.91291,     0.91391,     0.91491,     0.91592,     0.91692,     0.91792,     0.91892,     0.91992,     0.92092,     0.92192,     0.92292,     0.92392,     0.92492,     0.92593,     0.92693,     0.92793,     0.92893,     0.92993,     0.93093,     0.93193,     0.93293,     0.93393,     0.93493,     0.93594,\n",
       "           0.93694,     0.93794,     0.93894,     0.93994,     0.94094,     0.94194,     0.94294,     0.94394,     0.94494,     0.94595,     0.94695,     0.94795,     0.94895,     0.94995,     0.95095,     0.95195,     0.95295,     0.95395,     0.95495,     0.95596,     0.95696,     0.95796,     0.95896,     0.95996,\n",
       "           0.96096,     0.96196,     0.96296,     0.96396,     0.96496,     0.96597,     0.96697,     0.96797,     0.96897,     0.96997,     0.97097,     0.97197,     0.97297,     0.97397,     0.97497,     0.97598,     0.97698,     0.97798,     0.97898,     0.97998,     0.98098,     0.98198,     0.98298,     0.98398,\n",
       "           0.98498,     0.98599,     0.98699,     0.98799,     0.98899,     0.98999,     0.99099,     0.99199,     0.99299,     0.99399,     0.99499,       0.996,       0.997,       0.998,       0.999,           1]), array([[    0.90551,     0.90551,     0.90551, ...,           0,           0,           0],\n",
       "       [    0.83333,     0.83333,     0.66667, ...,           0,           0,           0],\n",
       "       [     0.6087,      0.6087,     0.52174, ...,           0,           0,           0],\n",
       "       ...,\n",
       "       [          1,           1,           1, ...,           0,           0,           0],\n",
       "       [    0.95238,     0.95238,     0.95238, ...,           0,           0,           0],\n",
       "       [          1,           1,           1, ...,           0,           0,           0]]), 'Confidence', 'Recall']]\n",
       "fitness: 0.46172841150669536\n",
       "keys: ['metrics/precision(B)', 'metrics/recall(B)', 'metrics/mAP50(B)', 'metrics/mAP50-95(B)']\n",
       "maps: array([    0.53794,     0.26352,      0.1676,     0.68526,     0.67496,      0.6706,     0.60436,      0.2974,     0.13436,     0.13878,     0.44582,     0.70094,     0.44582,     0.36484,     0.51001,     0.79086,      0.5851,     0.51804,     0.44582,     0.44582,     0.67898,       0.995,     0.96464,     0.72183,\n",
       "           0.23158,     0.41386,    0.088859,      0.4759,      0.5338,     0.68778,      0.4975,     0.49999,     0.27761,      0.1842,     0.17467,     0.29254,     0.40984,     0.44582,     0.33023,     0.20834,     0.33265,     0.28963,     0.18429,     0.35964,     0.19044,     0.49147,    0.037853,     0.44582,\n",
       "           0.30786,     0.62323,     0.20286,      0.3617,     0.72062,     0.84273,      0.8642,     0.84465,     0.23914,     0.55498,     0.47204,      0.6248,      0.3656,     0.67571,     0.69562,      0.3611,     0.00625,     0.52895,     0.44582,    0.039251,     0.71845,     0.26978,     0.44582,     0.12866,\n",
       "           0.45196,     0.17806,     0.73975,     0.79511,    0.074625,     0.39378,     0.44582,     0.37431])\n",
       "names: {0: 'person', 1: 'bicycle', 2: 'car', 3: 'motorcycle', 4: 'airplane', 5: 'bus', 6: 'train', 7: 'truck', 8: 'boat', 9: 'traffic light', 10: 'fire hydrant', 11: 'stop sign', 12: 'parking meter', 13: 'bench', 14: 'bird', 15: 'cat', 16: 'dog', 17: 'horse', 18: 'sheep', 19: 'cow', 20: 'elephant', 21: 'bear', 22: 'zebra', 23: 'giraffe', 24: 'backpack', 25: 'umbrella', 26: 'handbag', 27: 'tie', 28: 'suitcase', 29: 'frisbee', 30: 'skis', 31: 'snowboard', 32: 'sports ball', 33: 'kite', 34: 'baseball bat', 35: 'baseball glove', 36: 'skateboard', 37: 'surfboard', 38: 'tennis racket', 39: 'bottle', 40: 'wine glass', 41: 'cup', 42: 'fork', 43: 'knife', 44: 'spoon', 45: 'bowl', 46: 'banana', 47: 'apple', 48: 'sandwich', 49: 'orange', 50: 'broccoli', 51: 'carrot', 52: 'hot dog', 53: 'pizza', 54: 'donut', 55: 'cake', 56: 'chair', 57: 'couch', 58: 'potted plant', 59: 'bed', 60: 'dining table', 61: 'toilet', 62: 'tv', 63: 'laptop', 64: 'mouse', 65: 'remote', 66: 'keyboard', 67: 'cell phone', 68: 'microwave', 69: 'oven', 70: 'toaster', 71: 'sink', 72: 'refrigerator', 73: 'book', 74: 'clock', 75: 'vase', 76: 'scissors', 77: 'teddy bear', 78: 'hair drier', 79: 'toothbrush'}\n",
       "plot: True\n",
       "results_dict: {'metrics/precision(B)': 0.6395488061631761, 'metrics/recall(B)': 0.5367954945203955, 'metrics/mAP50(B)': 0.6048726076857669, 'metrics/mAP50-95(B)': 0.44582350082013184, 'fitness': 0.46172841150669536}\n",
       "save_dir: WindowsPath('runs/detect/val2')\n",
       "speed: {'preprocess': 1.566348597407341, 'inference': 79.58055846393108, 'loss': 0.0, 'postprocess': 2.2406969219446182}\n",
       "task: 'detect'"
      ]
     },
     "execution_count": 1,
     "metadata": {},
     "output_type": "execute_result"
    }
   ],
   "source": [
    "  from ultralytics import YOLO\n",
    "  model = YOLO('yolov8n.pt')\n",
    "  # It'll use the data YAML file in model.pt if you don't set data.\n",
    "  model.val()\n",
    "  # or you can set the data you want to val\n",
    "  model.val(data='coco128.yaml')"
   ]
  },
  {
   "cell_type": "markdown",
   "metadata": {},
   "source": [
    "Detect the object with the image as the source input"
   ]
  },
  {
   "cell_type": "code",
   "execution_count": 1,
   "metadata": {},
   "outputs": [
    {
     "name": "stdout",
     "output_type": "stream",
     "text": [
      "\n",
      "image 1/1 C:\\Users\\cwky\\Desktop\\5703\\model\\pictureall\\2021-10-08 20-15-00.jpg: 384x640 2 boats, 63.6ms\n",
      "Speed: 3.0ms preprocess, 63.6ms inference, 1.0ms postprocess per image at shape (1, 3, 384, 640)\n"
     ]
    }
   ],
   "source": [
    "from ultralytics import YOLO\n",
    "\n",
    "# Load a model\n",
    "model = YOLO('yolov8n.pt')  \n",
    "image_path = r\"C:\\Users\\cwky\\Desktop\\5703\\model\\pictureall\\2021-10-08 20-15-00.jpg\"\n",
    "# Run batched inference on a list of images\n",
    "results = model(source= image_path, show = True ,conf =0.4,save = False)"
   ]
  },
  {
   "cell_type": "markdown",
   "metadata": {},
   "source": [
    "Detect the object with specific result"
   ]
  },
  {
   "cell_type": "code",
   "execution_count": 7,
   "metadata": {},
   "outputs": [
    {
     "name": "stdout",
     "output_type": "stream",
     "text": [
      "\n",
      "image 1/1 C:\\Users\\cwky\\Desktop\\5703\\label\\pictureall\\2021-10-08 20-15-00.jpg: 384x640 2 boats, 113.5ms\n",
      "Speed: 6.3ms preprocess, 113.5ms inference, 11.7ms postprocess per image at shape (1, 3, 384, 640)\n"
     ]
    }
   ],
   "source": [
    "from ultralytics import YOLO\n",
    "\n",
    "# Load a model\n",
    "model = YOLO('yolov8n.pt')  \n",
    "image_path = r\"C:\\Users\\cwky\\Desktop\\5703\\label\\pictureall\\2021-10-08 20-15-00.jpg\"\n",
    "# Run batched inference on a list of images\n",
    "results = model(source= image_path, show = False ,conf =0.4,save = False)  # return a list of Results objects\n",
    "\n",
    "# results list\n",
    "for result in results:\n",
    "    boxes = result.boxes  \n",
    "    masks = result.masks  \n",
    "    keypoints = result.keypoints  \n",
    "    probs = result.probs  \n",
    "    result.show()  \n",
    "    result.save(filename='result.jpg')  "
   ]
  }
 ],
 "metadata": {
  "kernelspec": {
   "display_name": "Python 3",
   "language": "python",
   "name": "python3"
  },
  "language_info": {
   "codemirror_mode": {
    "name": "ipython",
    "version": 3
   },
   "file_extension": ".py",
   "mimetype": "text/x-python",
   "name": "python",
   "nbconvert_exporter": "python",
   "pygments_lexer": "ipython3",
   "version": "3.11.1"
  }
 },
 "nbformat": 4,
 "nbformat_minor": 2
}
